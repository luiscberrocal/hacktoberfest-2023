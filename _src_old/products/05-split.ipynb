{
 "cells": [
  {
   "cell_type": "code",
   "execution_count": 1,
   "id": "954e3fbd",
   "metadata": {
    "execution": {
     "iopub.execute_input": "2023-10-11T23:05:26.525297Z",
     "iopub.status.busy": "2023-10-11T23:05:26.524784Z",
     "iopub.status.idle": "2023-10-11T23:05:26.530843Z",
     "shell.execute_reply": "2023-10-11T23:05:26.530286Z"
    },
    "papermill": {
     "duration": 0.009987,
     "end_time": "2023-10-11T23:05:26.532399",
     "exception": false,
     "start_time": "2023-10-11T23:05:26.522412",
     "status": "completed"
    },
    "tags": [
     "parameters"
    ]
   },
   "outputs": [],
   "source": [
    "# declare a list tasks whose products you want to use as inputs\n",
    "upstream = ['02-cleanup']\n",
    "product = None"
   ]
  },
  {
   "cell_type": "code",
   "execution_count": 2,
   "id": "52d26d4e",
   "metadata": {
    "execution": {
     "iopub.execute_input": "2023-10-11T23:05:26.536454Z",
     "iopub.status.busy": "2023-10-11T23:05:26.536090Z",
     "iopub.status.idle": "2023-10-11T23:05:26.539152Z",
     "shell.execute_reply": "2023-10-11T23:05:26.538683Z"
    },
    "papermill": {
     "duration": 0.006606,
     "end_time": "2023-10-11T23:05:26.540439",
     "exception": false,
     "start_time": "2023-10-11T23:05:26.533833",
     "status": "completed"
    },
    "tags": [
     "injected-parameters"
    ]
   },
   "outputs": [],
   "source": [
    "# Parameters\n",
    "upstream = {\"02-cleanup\": {\"nb\": \"/home/luiscberrocal/PycharmProjects/hacktoberfest-2023/src/products/02-cleanup.ipynb\", \"clean_csv\": \"/home/luiscberrocal/PycharmProjects/hacktoberfest-2023/src/data/house_prices_clean.csv\"}}\n",
    "product = {\"nb\": \"/home/luiscberrocal/PycharmProjects/hacktoberfest-2023/src/products/05-split.ipynb\", \"train_data\": \"/home/luiscberrocal/PycharmProjects/hacktoberfest-2023/src/data/house_prices_train.csv\", \"test_data\": \"/home/luiscberrocal/PycharmProjects/hacktoberfest-2023/src/data/house_prices_test.csv\"}\n"
   ]
  },
  {
   "cell_type": "code",
   "execution_count": 3,
   "id": "c50c8e27",
   "metadata": {
    "execution": {
     "iopub.execute_input": "2023-10-11T23:05:26.544069Z",
     "iopub.status.busy": "2023-10-11T23:05:26.543805Z",
     "iopub.status.idle": "2023-10-11T23:05:26.546246Z",
     "shell.execute_reply": "2023-10-11T23:05:26.545877Z"
    },
    "papermill": {
     "duration": 0.005383,
     "end_time": "2023-10-11T23:05:26.547236",
     "exception": false,
     "start_time": "2023-10-11T23:05:26.541853",
     "status": "completed"
    },
    "tags": []
   },
   "outputs": [],
   "source": [
    "import warnings\n",
    "\n",
    "warnings.filterwarnings('ignore')"
   ]
  },
  {
   "cell_type": "code",
   "execution_count": 4,
   "id": "4d6c13da",
   "metadata": {
    "execution": {
     "iopub.execute_input": "2023-10-11T23:05:26.550434Z",
     "iopub.status.busy": "2023-10-11T23:05:26.550226Z",
     "iopub.status.idle": "2023-10-11T23:05:27.190627Z",
     "shell.execute_reply": "2023-10-11T23:05:27.190087Z"
    },
    "papermill": {
     "duration": 0.643631,
     "end_time": "2023-10-11T23:05:27.192071",
     "exception": false,
     "start_time": "2023-10-11T23:05:26.548440",
     "status": "completed"
    },
    "tags": []
   },
   "outputs": [],
   "source": [
    "import pandas as pd\n",
    "from sklearn.model_selection import train_test_split"
   ]
  },
  {
   "cell_type": "code",
   "execution_count": 5,
   "id": "341f6f3d",
   "metadata": {
    "execution": {
     "iopub.execute_input": "2023-10-11T23:05:27.196224Z",
     "iopub.status.busy": "2023-10-11T23:05:27.195902Z",
     "iopub.status.idle": "2023-10-11T23:05:27.235334Z",
     "shell.execute_reply": "2023-10-11T23:05:27.234859Z"
    },
    "papermill": {
     "duration": 0.042598,
     "end_time": "2023-10-11T23:05:27.236358",
     "exception": false,
     "start_time": "2023-10-11T23:05:27.193760",
     "status": "completed"
    },
    "tags": []
   },
   "outputs": [
    {
     "data": {
      "text/html": [
       "<div>\n",
       "<style scoped>\n",
       "    .dataframe tbody tr th:only-of-type {\n",
       "        vertical-align: middle;\n",
       "    }\n",
       "\n",
       "    .dataframe tbody tr th {\n",
       "        vertical-align: top;\n",
       "    }\n",
       "\n",
       "    .dataframe thead th {\n",
       "        text-align: right;\n",
       "    }\n",
       "</style>\n",
       "<table border=\"1\" class=\"dataframe\">\n",
       "  <thead>\n",
       "    <tr style=\"text-align: right;\">\n",
       "      <th></th>\n",
       "      <th>under_construction</th>\n",
       "      <th>rera</th>\n",
       "      <th>bhk_no</th>\n",
       "      <th>ready_to_move</th>\n",
       "      <th>resale</th>\n",
       "      <th>longitude</th>\n",
       "      <th>latitude</th>\n",
       "      <th>price</th>\n",
       "      <th>area_m2</th>\n",
       "      <th>posted_by_Builder</th>\n",
       "      <th>posted_by_Dealer</th>\n",
       "      <th>posted_by_Owner</th>\n",
       "      <th>bhk_or_rk_BHK</th>\n",
       "      <th>bhk_or_rk_RK</th>\n",
       "    </tr>\n",
       "  </thead>\n",
       "  <tbody>\n",
       "    <tr>\n",
       "      <th>0</th>\n",
       "      <td>0</td>\n",
       "      <td>0</td>\n",
       "      <td>2</td>\n",
       "      <td>1</td>\n",
       "      <td>1</td>\n",
       "      <td>12.969910</td>\n",
       "      <td>77.597960</td>\n",
       "      <td>76835.0</td>\n",
       "      <td>120.795863</td>\n",
       "      <td>0</td>\n",
       "      <td>0</td>\n",
       "      <td>1</td>\n",
       "      <td>1</td>\n",
       "      <td>0</td>\n",
       "    </tr>\n",
       "    <tr>\n",
       "      <th>1</th>\n",
       "      <td>0</td>\n",
       "      <td>0</td>\n",
       "      <td>2</td>\n",
       "      <td>1</td>\n",
       "      <td>1</td>\n",
       "      <td>12.274538</td>\n",
       "      <td>76.644605</td>\n",
       "      <td>71247.0</td>\n",
       "      <td>118.451325</td>\n",
       "      <td>0</td>\n",
       "      <td>1</td>\n",
       "      <td>0</td>\n",
       "      <td>1</td>\n",
       "      <td>0</td>\n",
       "    </tr>\n",
       "    <tr>\n",
       "      <th>2</th>\n",
       "      <td>0</td>\n",
       "      <td>0</td>\n",
       "      <td>2</td>\n",
       "      <td>1</td>\n",
       "      <td>1</td>\n",
       "      <td>12.778033</td>\n",
       "      <td>77.632191</td>\n",
       "      <td>60071.0</td>\n",
       "      <td>86.693338</td>\n",
       "      <td>0</td>\n",
       "      <td>0</td>\n",
       "      <td>1</td>\n",
       "      <td>1</td>\n",
       "      <td>0</td>\n",
       "    </tr>\n",
       "    <tr>\n",
       "      <th>3</th>\n",
       "      <td>0</td>\n",
       "      <td>1</td>\n",
       "      <td>2</td>\n",
       "      <td>1</td>\n",
       "      <td>1</td>\n",
       "      <td>28.642300</td>\n",
       "      <td>77.344500</td>\n",
       "      <td>87312.5</td>\n",
       "      <td>86.392464</td>\n",
       "      <td>0</td>\n",
       "      <td>0</td>\n",
       "      <td>1</td>\n",
       "      <td>1</td>\n",
       "      <td>0</td>\n",
       "    </tr>\n",
       "    <tr>\n",
       "      <th>4</th>\n",
       "      <td>1</td>\n",
       "      <td>0</td>\n",
       "      <td>2</td>\n",
       "      <td>0</td>\n",
       "      <td>1</td>\n",
       "      <td>22.592200</td>\n",
       "      <td>88.484911</td>\n",
       "      <td>84518.5</td>\n",
       "      <td>92.810956</td>\n",
       "      <td>0</td>\n",
       "      <td>1</td>\n",
       "      <td>0</td>\n",
       "      <td>1</td>\n",
       "      <td>0</td>\n",
       "    </tr>\n",
       "  </tbody>\n",
       "</table>\n",
       "</div>"
      ],
      "text/plain": [
       "   under_construction  rera  bhk_no  ready_to_move  resale  longitude  \\\n",
       "0                   0     0       2              1       1  12.969910   \n",
       "1                   0     0       2              1       1  12.274538   \n",
       "2                   0     0       2              1       1  12.778033   \n",
       "3                   0     1       2              1       1  28.642300   \n",
       "4                   1     0       2              0       1  22.592200   \n",
       "\n",
       "    latitude    price     area_m2  posted_by_Builder  posted_by_Dealer  \\\n",
       "0  77.597960  76835.0  120.795863                  0                 0   \n",
       "1  76.644605  71247.0  118.451325                  0                 1   \n",
       "2  77.632191  60071.0   86.693338                  0                 0   \n",
       "3  77.344500  87312.5   86.392464                  0                 0   \n",
       "4  88.484911  84518.5   92.810956                  0                 1   \n",
       "\n",
       "   posted_by_Owner  bhk_or_rk_BHK  bhk_or_rk_RK  \n",
       "0                1              1             0  \n",
       "1                0              1             0  \n",
       "2                1              1             0  \n",
       "3                1              1             0  \n",
       "4                0              1             0  "
      ]
     },
     "execution_count": 5,
     "metadata": {},
     "output_type": "execute_result"
    }
   ],
   "source": [
    "df = pd.read_csv(upstream['02-cleanup']['clean_csv'])\n",
    "\n",
    "df.head()"
   ]
  },
  {
   "cell_type": "code",
   "execution_count": 6,
   "id": "d8751d2d",
   "metadata": {
    "execution": {
     "iopub.execute_input": "2023-10-11T23:05:27.240447Z",
     "iopub.status.busy": "2023-10-11T23:05:27.240190Z",
     "iopub.status.idle": "2023-10-11T23:05:27.244019Z",
     "shell.execute_reply": "2023-10-11T23:05:27.243573Z"
    },
    "papermill": {
     "duration": 0.007059,
     "end_time": "2023-10-11T23:05:27.244976",
     "exception": false,
     "start_time": "2023-10-11T23:05:27.237917",
     "status": "completed"
    },
    "tags": []
   },
   "outputs": [],
   "source": [
    "X = df.drop(['price'], axis=1)\n",
    "y = df['price']"
   ]
  },
  {
   "cell_type": "code",
   "execution_count": 7,
   "id": "c9f836b7",
   "metadata": {
    "execution": {
     "iopub.execute_input": "2023-10-11T23:05:27.248843Z",
     "iopub.status.busy": "2023-10-11T23:05:27.248614Z",
     "iopub.status.idle": "2023-10-11T23:05:27.256051Z",
     "shell.execute_reply": "2023-10-11T23:05:27.255622Z"
    },
    "papermill": {
     "duration": 0.010694,
     "end_time": "2023-10-11T23:05:27.257193",
     "exception": false,
     "start_time": "2023-10-11T23:05:27.246499",
     "status": "completed"
    },
    "tags": []
   },
   "outputs": [],
   "source": [
    "\n",
    "X_train, X_test, y_train, y_test = train_test_split(X, y, test_size=0.2)"
   ]
  },
  {
   "cell_type": "code",
   "execution_count": 8,
   "id": "6f159c03",
   "metadata": {
    "execution": {
     "iopub.execute_input": "2023-10-11T23:05:27.261393Z",
     "iopub.status.busy": "2023-10-11T23:05:27.261157Z",
     "iopub.status.idle": "2023-10-11T23:05:27.268215Z",
     "shell.execute_reply": "2023-10-11T23:05:27.267783Z"
    },
    "papermill": {
     "duration": 0.010399,
     "end_time": "2023-10-11T23:05:27.269273",
     "exception": false,
     "start_time": "2023-10-11T23:05:27.258874",
     "status": "completed"
    },
    "tags": []
   },
   "outputs": [],
   "source": [
    "train_data = X_train.join(y_train)\n",
    "test_data = X_test.join(y_test)"
   ]
  },
  {
   "cell_type": "code",
   "execution_count": 9,
   "id": "8f393640",
   "metadata": {
    "execution": {
     "iopub.execute_input": "2023-10-11T23:05:27.273368Z",
     "iopub.status.busy": "2023-10-11T23:05:27.273111Z",
     "iopub.status.idle": "2023-10-11T23:05:27.389531Z",
     "shell.execute_reply": "2023-10-11T23:05:27.388837Z"
    },
    "papermill": {
     "duration": 0.120002,
     "end_time": "2023-10-11T23:05:27.390872",
     "exception": false,
     "start_time": "2023-10-11T23:05:27.270870",
     "status": "completed"
    },
    "tags": []
   },
   "outputs": [],
   "source": [
    "train_data.to_csv(product['train_data'], index=False)\n",
    "test_data.to_csv(product['test_data'], index=False)"
   ]
  }
 ],
 "metadata": {
  "jupytext": {
   "cell_metadata_filter": "tags,-all",
   "main_language": "python",
   "notebook_metadata_filter": "-all",
   "text_representation": {
    "extension": ".py",
    "format_name": "percent"
   }
  },
  "kernelspec": {
   "display_name": "Python 3 (ipykernel)",
   "language": "python",
   "name": "python3"
  },
  "language_info": {
   "codemirror_mode": {
    "name": "ipython",
    "version": 3
   },
   "file_extension": ".py",
   "mimetype": "text/x-python",
   "name": "python",
   "nbconvert_exporter": "python",
   "pygments_lexer": "ipython3",
   "version": "3.10.12"
  },
  "papermill": {
   "duration": 2.069485,
   "end_time": "2023-10-11T23:05:27.709726",
   "exception": null,
   "input_path": "/tmp/tmp0cxeg7oz.ipynb",
   "output_path": "/home/luiscberrocal/PycharmProjects/hacktoberfest-2023/src/products/05-split.ipynb",
   "parameters": {
    "product": {
     "nb": "/home/luiscberrocal/PycharmProjects/hacktoberfest-2023/src/products/05-split.ipynb",
     "test_data": "/home/luiscberrocal/PycharmProjects/hacktoberfest-2023/src/data/house_prices_test.csv",
     "train_data": "/home/luiscberrocal/PycharmProjects/hacktoberfest-2023/src/data/house_prices_train.csv"
    },
    "upstream": {
     "02-cleanup": {
      "clean_csv": "/home/luiscberrocal/PycharmProjects/hacktoberfest-2023/src/data/house_prices_clean.csv",
      "nb": "/home/luiscberrocal/PycharmProjects/hacktoberfest-2023/src/products/02-cleanup.ipynb"
     }
    }
   },
   "start_time": "2023-10-11T23:05:25.640241"
  }
 },
 "nbformat": 4,
 "nbformat_minor": 5
}