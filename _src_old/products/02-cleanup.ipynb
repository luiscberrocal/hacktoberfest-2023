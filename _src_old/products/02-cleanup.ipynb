{
 "cells": [
  {
   "cell_type": "code",
   "execution_count": 1,
   "id": "0e5ada49",
   "metadata": {
    "execution": {
     "iopub.execute_input": "2023-10-11T23:05:16.370053Z",
     "iopub.status.busy": "2023-10-11T23:05:16.369802Z",
     "iopub.status.idle": "2023-10-11T23:05:16.375497Z",
     "shell.execute_reply": "2023-10-11T23:05:16.375040Z"
    },
    "papermill": {
     "duration": 0.010197,
     "end_time": "2023-10-11T23:05:16.376609",
     "exception": false,
     "start_time": "2023-10-11T23:05:16.366412",
     "status": "completed"
    },
    "tags": [
     "parameters"
    ]
   },
   "outputs": [],
   "source": [
    "upstream = ['01-get']\n",
    "product = None"
   ]
  },
  {
   "cell_type": "code",
   "execution_count": 2,
   "id": "d8c4b5ec",
   "metadata": {
    "execution": {
     "iopub.execute_input": "2023-10-11T23:05:16.383152Z",
     "iopub.status.busy": "2023-10-11T23:05:16.382888Z",
     "iopub.status.idle": "2023-10-11T23:05:16.385875Z",
     "shell.execute_reply": "2023-10-11T23:05:16.385390Z"
    },
    "papermill": {
     "duration": 0.007555,
     "end_time": "2023-10-11T23:05:16.386994",
     "exception": false,
     "start_time": "2023-10-11T23:05:16.379439",
     "status": "completed"
    },
    "tags": [
     "injected-parameters"
    ]
   },
   "outputs": [],
   "source": [
    "# Parameters\n",
    "upstream = {\"01-get\": {\"nb\": \"/home/luiscberrocal/PycharmProjects/hacktoberfest-2023/src/products/01-extract-pipeline.ipynb\", \"csv_file\": \"/home/luiscberrocal/PycharmProjects/hacktoberfest-2023/src/data/house_prices.csv\", \"database\": \"/home/luiscberrocal/PycharmProjects/hacktoberfest-2023/src/data/house_prices.duckdb\"}}\n",
    "product = {\"nb\": \"/home/luiscberrocal/PycharmProjects/hacktoberfest-2023/src/products/02-cleanup.ipynb\", \"clean_csv\": \"/home/luiscberrocal/PycharmProjects/hacktoberfest-2023/src/data/house_prices_clean.csv\"}\n"
   ]
  },
  {
   "cell_type": "code",
   "execution_count": 3,
   "id": "a10e63f1",
   "metadata": {
    "execution": {
     "iopub.execute_input": "2023-10-11T23:05:16.393556Z",
     "iopub.status.busy": "2023-10-11T23:05:16.393356Z",
     "iopub.status.idle": "2023-10-11T23:05:16.396022Z",
     "shell.execute_reply": "2023-10-11T23:05:16.395463Z"
    },
    "papermill": {
     "duration": 0.007699,
     "end_time": "2023-10-11T23:05:16.397266",
     "exception": false,
     "start_time": "2023-10-11T23:05:16.389567",
     "status": "completed"
    },
    "tags": []
   },
   "outputs": [],
   "source": [
    "import warnings\n",
    "\n",
    "warnings.filterwarnings('ignore')"
   ]
  },
  {
   "cell_type": "code",
   "execution_count": 4,
   "id": "9bee709f",
   "metadata": {
    "execution": {
     "iopub.execute_input": "2023-10-11T23:05:16.404107Z",
     "iopub.status.busy": "2023-10-11T23:05:16.403741Z",
     "iopub.status.idle": "2023-10-11T23:05:17.320698Z",
     "shell.execute_reply": "2023-10-11T23:05:17.320129Z"
    },
    "papermill": {
     "duration": 0.92211,
     "end_time": "2023-10-11T23:05:17.322202",
     "exception": false,
     "start_time": "2023-10-11T23:05:16.400092",
     "status": "completed"
    },
    "tags": []
   },
   "outputs": [],
   "source": [
    "import re\n",
    "import pandas as pd\n",
    "import matplotlib.pyplot as plt\n",
    "import seaborn as sns"
   ]
  },
  {
   "cell_type": "code",
   "execution_count": 5,
   "id": "54795419",
   "metadata": {
    "execution": {
     "iopub.execute_input": "2023-10-11T23:05:17.336097Z",
     "iopub.status.busy": "2023-10-11T23:05:17.335732Z",
     "iopub.status.idle": "2023-10-11T23:05:17.386278Z",
     "shell.execute_reply": "2023-10-11T23:05:17.385506Z"
    },
    "papermill": {
     "duration": 0.062721,
     "end_time": "2023-10-11T23:05:17.387846",
     "exception": false,
     "start_time": "2023-10-11T23:05:17.325125",
     "status": "completed"
    },
    "tags": []
   },
   "outputs": [],
   "source": [
    "df = pd.read_csv(upstream['01-get']['csv_file'])"
   ]
  },
  {
   "cell_type": "code",
   "execution_count": 6,
   "id": "58c5d04c",
   "metadata": {
    "execution": {
     "iopub.execute_input": "2023-10-11T23:05:17.395586Z",
     "iopub.status.busy": "2023-10-11T23:05:17.395306Z",
     "iopub.status.idle": "2023-10-11T23:05:17.405546Z",
     "shell.execute_reply": "2023-10-11T23:05:17.405005Z"
    },
    "papermill": {
     "duration": 0.015954,
     "end_time": "2023-10-11T23:05:17.407228",
     "exception": false,
     "start_time": "2023-10-11T23:05:17.391274",
     "status": "completed"
    },
    "tags": []
   },
   "outputs": [
    {
     "name": "stdout",
     "output_type": "stream",
     "text": [
      "<class 'pandas.core.frame.DataFrame'>\n",
      "RangeIndex: 29451 entries, 0 to 29450\n",
      "Data columns (total 12 columns):\n",
      " #   Column                 Non-Null Count  Dtype  \n",
      "---  ------                 --------------  -----  \n",
      " 0   POSTED_BY              29451 non-null  object \n",
      " 1   UNDER_CONSTRUCTION     29451 non-null  int64  \n",
      " 2   RERA                   29451 non-null  int64  \n",
      " 3   BHK_NO.                29451 non-null  int64  \n",
      " 4   BHK_OR_RK              29451 non-null  object \n",
      " 5   SQUARE_FT              29451 non-null  float64\n",
      " 6   READY_TO_MOVE          29451 non-null  int64  \n",
      " 7   RESALE                 29451 non-null  int64  \n",
      " 8   ADDRESS                29451 non-null  object \n",
      " 9   LONGITUDE              29451 non-null  float64\n",
      " 10  LATITUDE               29451 non-null  float64\n",
      " 11  TARGET(PRICE_IN_LACS)  29451 non-null  float64\n",
      "dtypes: float64(4), int64(5), object(3)\n",
      "memory usage: 2.7+ MB\n"
     ]
    }
   ],
   "source": [
    "df.info()"
   ]
  },
  {
   "cell_type": "code",
   "execution_count": 7,
   "id": "403c0fa4",
   "metadata": {
    "execution": {
     "iopub.execute_input": "2023-10-11T23:05:17.418496Z",
     "iopub.status.busy": "2023-10-11T23:05:17.418170Z",
     "iopub.status.idle": "2023-10-11T23:05:17.428145Z",
     "shell.execute_reply": "2023-10-11T23:05:17.427568Z"
    },
    "papermill": {
     "duration": 0.017062,
     "end_time": "2023-10-11T23:05:17.429412",
     "exception": false,
     "start_time": "2023-10-11T23:05:17.412350",
     "status": "completed"
    },
    "tags": []
   },
   "outputs": [
    {
     "data": {
      "text/plain": [
       "POSTED_BY                0\n",
       "UNDER_CONSTRUCTION       0\n",
       "RERA                     0\n",
       "BHK_NO.                  0\n",
       "BHK_OR_RK                0\n",
       "SQUARE_FT                0\n",
       "READY_TO_MOVE            0\n",
       "RESALE                   0\n",
       "ADDRESS                  0\n",
       "LONGITUDE                0\n",
       "LATITUDE                 0\n",
       "TARGET(PRICE_IN_LACS)    0\n",
       "dtype: int64"
      ]
     },
     "execution_count": 7,
     "metadata": {},
     "output_type": "execute_result"
    }
   ],
   "source": [
    "df.isna().sum()"
   ]
  },
  {
   "cell_type": "code",
   "execution_count": 8,
   "id": "e0b32f61",
   "metadata": {
    "execution": {
     "iopub.execute_input": "2023-10-11T23:05:17.436622Z",
     "iopub.status.busy": "2023-10-11T23:05:17.436421Z",
     "iopub.status.idle": "2023-10-11T23:05:17.440636Z",
     "shell.execute_reply": "2023-10-11T23:05:17.440203Z"
    },
    "papermill": {
     "duration": 0.009486,
     "end_time": "2023-10-11T23:05:17.442144",
     "exception": false,
     "start_time": "2023-10-11T23:05:17.432658",
     "status": "completed"
    },
    "tags": []
   },
   "outputs": [],
   "source": [
    "# Rename columns to snake case\n",
    "renamed_mapping = {}\n",
    "for c in df.columns:\n",
    "    new_c_name = re.sub('[^0-9a-zA-Z_]+', '', c)\n",
    "    renamed_mapping[c] = new_c_name.lower()\n",
    "\n",
    "df = df.rename(columns=renamed_mapping)"
   ]
  },
  {
   "cell_type": "code",
   "execution_count": 9,
   "id": "be6b0c33",
   "metadata": {
    "execution": {
     "iopub.execute_input": "2023-10-11T23:05:17.453884Z",
     "iopub.status.busy": "2023-10-11T23:05:17.453582Z",
     "iopub.status.idle": "2023-10-11T23:05:17.457622Z",
     "shell.execute_reply": "2023-10-11T23:05:17.457151Z"
    },
    "papermill": {
     "duration": 0.011744,
     "end_time": "2023-10-11T23:05:17.459109",
     "exception": false,
     "start_time": "2023-10-11T23:05:17.447365",
     "status": "completed"
    },
    "tags": []
   },
   "outputs": [],
   "source": [
    "# Convert price to dolllars 1 lac == 1,397\n",
    "df['price'] = df['targetprice_in_lacs'] * 1_397\n",
    "\n",
    "# Convert square_ft to square meters\n",
    "df['area_m2'] = df['square_ft'] * 0.092903"
   ]
  },
  {
   "cell_type": "code",
   "execution_count": 10,
   "id": "6452999a",
   "metadata": {
    "execution": {
     "iopub.execute_input": "2023-10-11T23:05:17.471075Z",
     "iopub.status.busy": "2023-10-11T23:05:17.470860Z",
     "iopub.status.idle": "2023-10-11T23:05:17.482478Z",
     "shell.execute_reply": "2023-10-11T23:05:17.481918Z"
    },
    "papermill": {
     "duration": 0.019133,
     "end_time": "2023-10-11T23:05:17.483663",
     "exception": false,
     "start_time": "2023-10-11T23:05:17.464530",
     "status": "completed"
    },
    "tags": []
   },
   "outputs": [
    {
     "name": "stdout",
     "output_type": "stream",
     "text": [
      "<class 'pandas.core.frame.DataFrame'>\n",
      "RangeIndex: 29451 entries, 0 to 29450\n",
      "Data columns (total 12 columns):\n",
      " #   Column              Non-Null Count  Dtype  \n",
      "---  ------              --------------  -----  \n",
      " 0   posted_by           29451 non-null  object \n",
      " 1   under_construction  29451 non-null  int64  \n",
      " 2   rera                29451 non-null  int64  \n",
      " 3   bhk_no              29451 non-null  int64  \n",
      " 4   bhk_or_rk           29451 non-null  object \n",
      " 5   ready_to_move       29451 non-null  int64  \n",
      " 6   resale              29451 non-null  int64  \n",
      " 7   address             29451 non-null  object \n",
      " 8   longitude           29451 non-null  float64\n",
      " 9   latitude            29451 non-null  float64\n",
      " 10  price               29451 non-null  float64\n",
      " 11  area_m2             29451 non-null  float64\n",
      "dtypes: float64(4), int64(5), object(3)\n",
      "memory usage: 2.7+ MB\n"
     ]
    }
   ],
   "source": [
    "df = df.drop(columns=['square_ft', 'targetprice_in_lacs'])\n",
    "\n",
    "df.info()"
   ]
  },
  {
   "cell_type": "code",
   "execution_count": 11,
   "id": "c803cc7d",
   "metadata": {
    "execution": {
     "iopub.execute_input": "2023-10-11T23:05:17.491262Z",
     "iopub.status.busy": "2023-10-11T23:05:17.490992Z",
     "iopub.status.idle": "2023-10-11T23:05:17.494262Z",
     "shell.execute_reply": "2023-10-11T23:05:17.493695Z"
    },
    "papermill": {
     "duration": 0.008418,
     "end_time": "2023-10-11T23:05:17.495401",
     "exception": false,
     "start_time": "2023-10-11T23:05:17.486983",
     "status": "completed"
    },
    "tags": []
   },
   "outputs": [],
   "source": [
    "# Extracting cities from address\n",
    "def get_city(value):\n",
    "    parts = value.split(',')\n",
    "    return parts[-1:][0]\n",
    "\n",
    "\n",
    "# Too many cities, heatmap not working.\n",
    "# df['city'] = df['address'].apply(get_city)\n",
    "\n",
    "# df['city'].value_counts()"
   ]
  },
  {
   "cell_type": "code",
   "execution_count": 12,
   "id": "538afb04",
   "metadata": {
    "execution": {
     "iopub.execute_input": "2023-10-11T23:05:17.502264Z",
     "iopub.status.busy": "2023-10-11T23:05:17.501984Z",
     "iopub.status.idle": "2023-10-11T23:05:17.506302Z",
     "shell.execute_reply": "2023-10-11T23:05:17.505763Z"
    },
    "papermill": {
     "duration": 0.008954,
     "end_time": "2023-10-11T23:05:17.507351",
     "exception": false,
     "start_time": "2023-10-11T23:05:17.498397",
     "status": "completed"
    },
    "tags": []
   },
   "outputs": [],
   "source": [
    "df = df.drop(columns=['address'])"
   ]
  },
  {
   "cell_type": "code",
   "execution_count": 13,
   "id": "339666d5",
   "metadata": {
    "execution": {
     "iopub.execute_input": "2023-10-11T23:05:17.515520Z",
     "iopub.status.busy": "2023-10-11T23:05:17.515198Z",
     "iopub.status.idle": "2023-10-11T23:05:17.520657Z",
     "shell.execute_reply": "2023-10-11T23:05:17.520139Z"
    },
    "papermill": {
     "duration": 0.010735,
     "end_time": "2023-10-11T23:05:17.521853",
     "exception": false,
     "start_time": "2023-10-11T23:05:17.511118",
     "status": "completed"
    },
    "tags": []
   },
   "outputs": [
    {
     "data": {
      "text/plain": [
       "posted_by\n",
       "Dealer     18291\n",
       "Owner      10538\n",
       "Builder      622\n",
       "Name: count, dtype: int64"
      ]
     },
     "execution_count": 13,
     "metadata": {},
     "output_type": "execute_result"
    }
   ],
   "source": [
    "df['posted_by'].value_counts()"
   ]
  },
  {
   "cell_type": "code",
   "execution_count": 14,
   "id": "37efbb9d",
   "metadata": {
    "execution": {
     "iopub.execute_input": "2023-10-11T23:05:17.529555Z",
     "iopub.status.busy": "2023-10-11T23:05:17.529101Z",
     "iopub.status.idle": "2023-10-11T23:05:17.535019Z",
     "shell.execute_reply": "2023-10-11T23:05:17.534464Z"
    },
    "papermill": {
     "duration": 0.011315,
     "end_time": "2023-10-11T23:05:17.536557",
     "exception": false,
     "start_time": "2023-10-11T23:05:17.525242",
     "status": "completed"
    },
    "tags": []
   },
   "outputs": [
    {
     "data": {
      "text/plain": [
       "bhk_or_rk\n",
       "BHK    29427\n",
       "RK        24\n",
       "Name: count, dtype: int64"
      ]
     },
     "execution_count": 14,
     "metadata": {},
     "output_type": "execute_result"
    }
   ],
   "source": [
    "df['bhk_or_rk'].value_counts()"
   ]
  },
  {
   "cell_type": "code",
   "execution_count": 15,
   "id": "4aa9ab14",
   "metadata": {
    "execution": {
     "iopub.execute_input": "2023-10-11T23:05:17.546318Z",
     "iopub.status.busy": "2023-10-11T23:05:17.545933Z",
     "iopub.status.idle": "2023-10-11T23:05:17.555963Z",
     "shell.execute_reply": "2023-10-11T23:05:17.555404Z"
    },
    "papermill": {
     "duration": 0.015799,
     "end_time": "2023-10-11T23:05:17.557277",
     "exception": false,
     "start_time": "2023-10-11T23:05:17.541478",
     "status": "completed"
    },
    "tags": []
   },
   "outputs": [],
   "source": [
    "# df = pd.get_dummies(df, columns=['posted_by', 'bhk_or_rk', 'city'])\n",
    "df = pd.get_dummies(df, columns=['posted_by', 'bhk_or_rk'])"
   ]
  },
  {
   "cell_type": "code",
   "execution_count": 16,
   "id": "454a9324",
   "metadata": {
    "execution": {
     "iopub.execute_input": "2023-10-11T23:05:17.564582Z",
     "iopub.status.busy": "2023-10-11T23:05:17.564361Z",
     "iopub.status.idle": "2023-10-11T23:05:17.574392Z",
     "shell.execute_reply": "2023-10-11T23:05:17.573846Z"
    },
    "papermill": {
     "duration": 0.014864,
     "end_time": "2023-10-11T23:05:17.575467",
     "exception": false,
     "start_time": "2023-10-11T23:05:17.560603",
     "status": "completed"
    },
    "tags": []
   },
   "outputs": [
    {
     "data": {
      "text/html": [
       "<div>\n",
       "<style scoped>\n",
       "    .dataframe tbody tr th:only-of-type {\n",
       "        vertical-align: middle;\n",
       "    }\n",
       "\n",
       "    .dataframe tbody tr th {\n",
       "        vertical-align: top;\n",
       "    }\n",
       "\n",
       "    .dataframe thead th {\n",
       "        text-align: right;\n",
       "    }\n",
       "</style>\n",
       "<table border=\"1\" class=\"dataframe\">\n",
       "  <thead>\n",
       "    <tr style=\"text-align: right;\">\n",
       "      <th></th>\n",
       "      <th>under_construction</th>\n",
       "      <th>rera</th>\n",
       "      <th>bhk_no</th>\n",
       "      <th>ready_to_move</th>\n",
       "      <th>resale</th>\n",
       "      <th>longitude</th>\n",
       "      <th>latitude</th>\n",
       "      <th>price</th>\n",
       "      <th>area_m2</th>\n",
       "      <th>posted_by_Builder</th>\n",
       "      <th>posted_by_Dealer</th>\n",
       "      <th>posted_by_Owner</th>\n",
       "      <th>bhk_or_rk_BHK</th>\n",
       "      <th>bhk_or_rk_RK</th>\n",
       "    </tr>\n",
       "  </thead>\n",
       "  <tbody>\n",
       "    <tr>\n",
       "      <th>0</th>\n",
       "      <td>0</td>\n",
       "      <td>0</td>\n",
       "      <td>2</td>\n",
       "      <td>1</td>\n",
       "      <td>1</td>\n",
       "      <td>12.969910</td>\n",
       "      <td>77.597960</td>\n",
       "      <td>76835.0</td>\n",
       "      <td>120.795863</td>\n",
       "      <td>False</td>\n",
       "      <td>False</td>\n",
       "      <td>True</td>\n",
       "      <td>True</td>\n",
       "      <td>False</td>\n",
       "    </tr>\n",
       "    <tr>\n",
       "      <th>1</th>\n",
       "      <td>0</td>\n",
       "      <td>0</td>\n",
       "      <td>2</td>\n",
       "      <td>1</td>\n",
       "      <td>1</td>\n",
       "      <td>12.274538</td>\n",
       "      <td>76.644605</td>\n",
       "      <td>71247.0</td>\n",
       "      <td>118.451325</td>\n",
       "      <td>False</td>\n",
       "      <td>True</td>\n",
       "      <td>False</td>\n",
       "      <td>True</td>\n",
       "      <td>False</td>\n",
       "    </tr>\n",
       "    <tr>\n",
       "      <th>2</th>\n",
       "      <td>0</td>\n",
       "      <td>0</td>\n",
       "      <td>2</td>\n",
       "      <td>1</td>\n",
       "      <td>1</td>\n",
       "      <td>12.778033</td>\n",
       "      <td>77.632191</td>\n",
       "      <td>60071.0</td>\n",
       "      <td>86.693338</td>\n",
       "      <td>False</td>\n",
       "      <td>False</td>\n",
       "      <td>True</td>\n",
       "      <td>True</td>\n",
       "      <td>False</td>\n",
       "    </tr>\n",
       "    <tr>\n",
       "      <th>3</th>\n",
       "      <td>0</td>\n",
       "      <td>1</td>\n",
       "      <td>2</td>\n",
       "      <td>1</td>\n",
       "      <td>1</td>\n",
       "      <td>28.642300</td>\n",
       "      <td>77.344500</td>\n",
       "      <td>87312.5</td>\n",
       "      <td>86.392464</td>\n",
       "      <td>False</td>\n",
       "      <td>False</td>\n",
       "      <td>True</td>\n",
       "      <td>True</td>\n",
       "      <td>False</td>\n",
       "    </tr>\n",
       "    <tr>\n",
       "      <th>4</th>\n",
       "      <td>1</td>\n",
       "      <td>0</td>\n",
       "      <td>2</td>\n",
       "      <td>0</td>\n",
       "      <td>1</td>\n",
       "      <td>22.592200</td>\n",
       "      <td>88.484911</td>\n",
       "      <td>84518.5</td>\n",
       "      <td>92.810956</td>\n",
       "      <td>False</td>\n",
       "      <td>True</td>\n",
       "      <td>False</td>\n",
       "      <td>True</td>\n",
       "      <td>False</td>\n",
       "    </tr>\n",
       "  </tbody>\n",
       "</table>\n",
       "</div>"
      ],
      "text/plain": [
       "   under_construction  rera  bhk_no  ready_to_move  resale  longitude  \\\n",
       "0                   0     0       2              1       1  12.969910   \n",
       "1                   0     0       2              1       1  12.274538   \n",
       "2                   0     0       2              1       1  12.778033   \n",
       "3                   0     1       2              1       1  28.642300   \n",
       "4                   1     0       2              0       1  22.592200   \n",
       "\n",
       "    latitude    price     area_m2  posted_by_Builder  posted_by_Dealer  \\\n",
       "0  77.597960  76835.0  120.795863              False             False   \n",
       "1  76.644605  71247.0  118.451325              False              True   \n",
       "2  77.632191  60071.0   86.693338              False             False   \n",
       "3  77.344500  87312.5   86.392464              False             False   \n",
       "4  88.484911  84518.5   92.810956              False              True   \n",
       "\n",
       "   posted_by_Owner  bhk_or_rk_BHK  bhk_or_rk_RK  \n",
       "0             True           True         False  \n",
       "1            False           True         False  \n",
       "2             True           True         False  \n",
       "3             True           True         False  \n",
       "4            False           True         False  "
      ]
     },
     "execution_count": 16,
     "metadata": {},
     "output_type": "execute_result"
    }
   ],
   "source": [
    "df.head()"
   ]
  },
  {
   "cell_type": "code",
   "execution_count": 17,
   "id": "5f86dbad",
   "metadata": {
    "execution": {
     "iopub.execute_input": "2023-10-11T23:05:17.583833Z",
     "iopub.status.busy": "2023-10-11T23:05:17.583544Z",
     "iopub.status.idle": "2023-10-11T23:05:17.590993Z",
     "shell.execute_reply": "2023-10-11T23:05:17.590436Z"
    },
    "papermill": {
     "duration": 0.012851,
     "end_time": "2023-10-11T23:05:17.592162",
     "exception": false,
     "start_time": "2023-10-11T23:05:17.579311",
     "status": "completed"
    },
    "tags": []
   },
   "outputs": [
    {
     "name": "stdout",
     "output_type": "stream",
     "text": [
      "<class 'pandas.core.frame.DataFrame'>\n",
      "RangeIndex: 29451 entries, 0 to 29450\n",
      "Data columns (total 14 columns):\n",
      " #   Column              Non-Null Count  Dtype  \n",
      "---  ------              --------------  -----  \n",
      " 0   under_construction  29451 non-null  int64  \n",
      " 1   rera                29451 non-null  int64  \n",
      " 2   bhk_no              29451 non-null  int64  \n",
      " 3   ready_to_move       29451 non-null  int64  \n",
      " 4   resale              29451 non-null  int64  \n",
      " 5   longitude           29451 non-null  float64\n",
      " 6   latitude            29451 non-null  float64\n",
      " 7   price               29451 non-null  float64\n",
      " 8   area_m2             29451 non-null  float64\n",
      " 9   posted_by_Builder   29451 non-null  bool   \n",
      " 10  posted_by_Dealer    29451 non-null  bool   \n",
      " 11  posted_by_Owner     29451 non-null  bool   \n",
      " 12  bhk_or_rk_BHK       29451 non-null  bool   \n",
      " 13  bhk_or_rk_RK        29451 non-null  bool   \n",
      "dtypes: bool(5), float64(4), int64(5)\n",
      "memory usage: 2.2 MB\n"
     ]
    }
   ],
   "source": [
    "df.info()"
   ]
  },
  {
   "cell_type": "code",
   "execution_count": 18,
   "id": "b15ed56a",
   "metadata": {
    "execution": {
     "iopub.execute_input": "2023-10-11T23:05:17.601270Z",
     "iopub.status.busy": "2023-10-11T23:05:17.600991Z",
     "iopub.status.idle": "2023-10-11T23:05:17.610087Z",
     "shell.execute_reply": "2023-10-11T23:05:17.609591Z"
    },
    "papermill": {
     "duration": 0.014906,
     "end_time": "2023-10-11T23:05:17.611112",
     "exception": false,
     "start_time": "2023-10-11T23:05:17.596206",
     "status": "completed"
    },
    "tags": []
   },
   "outputs": [
    {
     "name": "stdout",
     "output_type": "stream",
     "text": [
      "posted_by_Builder bool\n",
      "posted_by_Dealer bool\n",
      "posted_by_Owner bool\n",
      "bhk_or_rk_BHK bool\n",
      "bhk_or_rk_RK bool\n"
     ]
    },
    {
     "name": "stdout",
     "output_type": "stream",
     "text": [
      "<class 'pandas.core.frame.DataFrame'>\n",
      "RangeIndex: 29451 entries, 0 to 29450\n",
      "Data columns (total 14 columns):\n",
      " #   Column              Non-Null Count  Dtype  \n",
      "---  ------              --------------  -----  \n",
      " 0   under_construction  29451 non-null  int64  \n",
      " 1   rera                29451 non-null  int64  \n",
      " 2   bhk_no              29451 non-null  int64  \n",
      " 3   ready_to_move       29451 non-null  int64  \n",
      " 4   resale              29451 non-null  int64  \n",
      " 5   longitude           29451 non-null  float64\n",
      " 6   latitude            29451 non-null  float64\n",
      " 7   price               29451 non-null  float64\n",
      " 8   area_m2             29451 non-null  float64\n",
      " 9   posted_by_Builder   29451 non-null  int64  \n",
      " 10  posted_by_Dealer    29451 non-null  int64  \n",
      " 11  posted_by_Owner     29451 non-null  int64  \n",
      " 12  bhk_or_rk_BHK       29451 non-null  int64  \n",
      " 13  bhk_or_rk_RK        29451 non-null  int64  \n",
      "dtypes: float64(4), int64(10)\n",
      "memory usage: 3.1 MB\n"
     ]
    }
   ],
   "source": [
    "for c in df.columns:\n",
    "    if df[c].dtype == bool:\n",
    "        print(f'{c} {df[c].dtype}')\n",
    "        df[c] = df[c].astype(int)\n",
    "\n",
    "df.info()"
   ]
  },
  {
   "cell_type": "code",
   "execution_count": 19,
   "id": "f18d2e6f",
   "metadata": {
    "execution": {
     "iopub.execute_input": "2023-10-11T23:05:17.619577Z",
     "iopub.status.busy": "2023-10-11T23:05:17.619336Z",
     "iopub.status.idle": "2023-10-11T23:05:17.732380Z",
     "shell.execute_reply": "2023-10-11T23:05:17.731787Z"
    },
    "papermill": {
     "duration": 0.118933,
     "end_time": "2023-10-11T23:05:17.733798",
     "exception": false,
     "start_time": "2023-10-11T23:05:17.614865",
     "status": "completed"
    },
    "tags": []
   },
   "outputs": [],
   "source": [
    "\n",
    "df.to_csv(product['clean_csv'], index=False)"
   ]
  },
  {
   "cell_type": "code",
   "execution_count": 20,
   "id": "d0c17edd",
   "metadata": {
    "execution": {
     "iopub.execute_input": "2023-10-11T23:05:17.743108Z",
     "iopub.status.busy": "2023-10-11T23:05:17.742833Z",
     "iopub.status.idle": "2023-10-11T23:05:17.921860Z",
     "shell.execute_reply": "2023-10-11T23:05:17.921404Z"
    },
    "papermill": {
     "duration": 0.185326,
     "end_time": "2023-10-11T23:05:17.922939",
     "exception": false,
     "start_time": "2023-10-11T23:05:17.737613",
     "status": "completed"
    },
    "tags": []
   },
   "outputs": [
    {
     "data": {
      "image/png": "[encoded data removed]",
      "text/plain": [
       "<Figure size 640x480 with 1 Axes>"
      ]
     },
     "metadata": {},
     "output_type": "display_data"
    }
   ],
   "source": [
    "sns.scatterplot(data=df, x=\"price\", y=\"area_m2\")\n",
    "plt.title(f'Price vs Area before cleaning outliers (count {df.shape[0]:,})')\n",
    "plt.show()"
   ]
  },
  {
   "cell_type": "code",
   "execution_count": 21,
   "id": "9c4bfd72",
   "metadata": {
    "execution": {
     "iopub.execute_input": "2023-10-11T23:05:17.938976Z",
     "iopub.status.busy": "2023-10-11T23:05:17.938718Z",
     "iopub.status.idle": "2023-10-11T23:05:17.943344Z",
     "shell.execute_reply": "2023-10-11T23:05:17.942955Z"
    },
    "papermill": {
     "duration": 0.016528,
     "end_time": "2023-10-11T23:05:17.944393",
     "exception": false,
     "start_time": "2023-10-11T23:05:17.927865",
     "status": "completed"
    },
    "tags": []
   },
   "outputs": [],
   "source": [
    "# There seem to be outliers in price\n",
    "\n",
    "# Z score\n",
    "from scipy import stats\n",
    "import numpy as np\n",
    "\n",
    "df['z_score'] = np.abs(stats.zscore(df['price']))"
   ]
  },
  {
   "cell_type": "code",
   "execution_count": 22,
   "id": "d33f1f54",
   "metadata": {
    "execution": {
     "iopub.execute_input": "2023-10-11T23:05:17.952587Z",
     "iopub.status.busy": "2023-10-11T23:05:17.952350Z",
     "iopub.status.idle": "2023-10-11T23:05:17.956256Z",
     "shell.execute_reply": "2023-10-11T23:05:17.955803Z"
    },
    "lines_to_next_cell": 1,
    "papermill": {
     "duration": 0.009226,
     "end_time": "2023-10-11T23:05:17.957229",
     "exception": false,
     "start_time": "2023-10-11T23:05:17.948003",
     "status": "completed"
    },
    "tags": []
   },
   "outputs": [],
   "source": [
    "''' Detection '''\n",
    "\n",
    "\n",
    "def clean_with_iqr(data_frame: pd.DataFrame, column: str) -> pd.DataFrame:\n",
    "    # IQR\n",
    "    # Calculate the upper and lower limits\n",
    "    Q1 = data_frame[column].quantile(0.25)\n",
    "    Q3 = data_frame[column].quantile(0.75)\n",
    "    IQR = Q3 - Q1\n",
    "    lower = Q1 - 1.5 * IQR\n",
    "    upper = Q3 + 1.5 * IQR\n",
    "\n",
    "    # Create arrays of Boolean values indicating the outlier rows\n",
    "    upper_array = np.where(data_frame[column] >= upper)[0]\n",
    "    lower_array = np.where(data_frame[column] <= lower)[0]\n",
    "\n",
    "    # Removing the outliers\n",
    "    data_frame.drop(index=upper_array, inplace=True)\n",
    "    data_frame.drop(index=lower_array, inplace=True)\n",
    "    return data_frame"
   ]
  },
  {
   "cell_type": "code",
   "execution_count": 23,
   "id": "55b1c99e",
   "metadata": {
    "execution": {
     "iopub.execute_input": "2023-10-11T23:05:17.965799Z",
     "iopub.status.busy": "2023-10-11T23:05:17.965550Z",
     "iopub.status.idle": "2023-10-11T23:05:17.971235Z",
     "shell.execute_reply": "2023-10-11T23:05:17.970836Z"
    },
    "papermill": {
     "duration": 0.011211,
     "end_time": "2023-10-11T23:05:17.972279",
     "exception": false,
     "start_time": "2023-10-11T23:05:17.961068",
     "status": "completed"
    },
    "tags": []
   },
   "outputs": [
    {
     "name": "stdout",
     "output_type": "stream",
     "text": [
      "(29451, 15)\n"
     ]
    }
   ],
   "source": [
    "# outlier_index = df.loc[df['z_score'] > 3.0].index\n",
    "# df = clean_with_iqr(data_frame=df, column='price')\n",
    "# df = clean_with_iqr(data_frame=df, column='area_m2')\n",
    "# df = df.drop(outlier_index)\n",
    "print(df.shape)\n",
    "out_area = df.loc[df['area_m2'] >= 10_000.00]\n",
    "df = df.drop(index=out_area.index)"
   ]
  },
  {
   "cell_type": "code",
   "execution_count": 24,
   "id": "e70ab3a1",
   "metadata": {
    "execution": {
     "iopub.execute_input": "2023-10-11T23:05:17.981149Z",
     "iopub.status.busy": "2023-10-11T23:05:17.980901Z",
     "iopub.status.idle": "2023-10-11T23:05:18.174319Z",
     "shell.execute_reply": "2023-10-11T23:05:18.173777Z"
    },
    "papermill": {
     "duration": 0.19945,
     "end_time": "2023-10-11T23:05:18.175739",
     "exception": false,
     "start_time": "2023-10-11T23:05:17.976289",
     "status": "completed"
    },
    "tags": []
   },
   "outputs": [
    {
     "data": {
      "image/png": "[encoded data removed]",
      "text/plain": [
       "<Figure size 640x480 with 1 Axes>"
      ]
     },
     "metadata": {},
     "output_type": "display_data"
    }
   ],
   "source": [
    "sns.scatterplot(data=df, x=\"price\", y=\"area_m2\")\n",
    "plt.title(f'Price vs Area after cleaning outliers (count {df.shape[0]:,})')\n",
    "plt.show()"
   ]
  },
  {
   "cell_type": "code",
   "execution_count": 25,
   "id": "9ecb15f9",
   "metadata": {
    "execution": {
     "iopub.execute_input": "2023-10-11T23:05:18.192887Z",
     "iopub.status.busy": "2023-10-11T23:05:18.192591Z",
     "iopub.status.idle": "2023-10-11T23:05:18.274769Z",
     "shell.execute_reply": "2023-10-11T23:05:18.274253Z"
    },
    "papermill": {
     "duration": 0.094643,
     "end_time": "2023-10-11T23:05:18.275943",
     "exception": false,
     "start_time": "2023-10-11T23:05:18.181300",
     "status": "completed"
    },
    "tags": []
   },
   "outputs": [
    {
     "data": {
      "text/html": [
       "<div>\n",
       "<style scoped>\n",
       "    .dataframe tbody tr th:only-of-type {\n",
       "        vertical-align: middle;\n",
       "    }\n",
       "\n",
       "    .dataframe tbody tr th {\n",
       "        vertical-align: top;\n",
       "    }\n",
       "\n",
       "    .dataframe thead th {\n",
       "        text-align: right;\n",
       "    }\n",
       "</style>\n",
       "<table border=\"1\" class=\"dataframe\">\n",
       "  <thead>\n",
       "    <tr style=\"text-align: right;\">\n",
       "      <th></th>\n",
       "      <th>under_construction</th>\n",
       "      <th>rera</th>\n",
       "      <th>bhk_no</th>\n",
       "      <th>ready_to_move</th>\n",
       "      <th>resale</th>\n",
       "      <th>longitude</th>\n",
       "      <th>latitude</th>\n",
       "      <th>price</th>\n",
       "      <th>area_m2</th>\n",
       "      <th>posted_by_Builder</th>\n",
       "      <th>posted_by_Dealer</th>\n",
       "      <th>posted_by_Owner</th>\n",
       "      <th>bhk_or_rk_BHK</th>\n",
       "      <th>bhk_or_rk_RK</th>\n",
       "      <th>z_score</th>\n",
       "    </tr>\n",
       "  </thead>\n",
       "  <tbody>\n",
       "    <tr>\n",
       "      <th>count</th>\n",
       "      <td>29385.000000</td>\n",
       "      <td>29385.000000</td>\n",
       "      <td>29385.000000</td>\n",
       "      <td>29385.000000</td>\n",
       "      <td>29385.000000</td>\n",
       "      <td>29385.000000</td>\n",
       "      <td>29385.000000</td>\n",
       "      <td>2.938500e+04</td>\n",
       "      <td>29385.000000</td>\n",
       "      <td>29385.000000</td>\n",
       "      <td>29385.000000</td>\n",
       "      <td>29385.000000</td>\n",
       "      <td>29385.000000</td>\n",
       "      <td>29385.000000</td>\n",
       "      <td>29385.000000</td>\n",
       "    </tr>\n",
       "    <tr>\n",
       "      <th>mean</th>\n",
       "      <td>0.179037</td>\n",
       "      <td>0.317339</td>\n",
       "      <td>2.390914</td>\n",
       "      <td>0.820963</td>\n",
       "      <td>0.931291</td>\n",
       "      <td>21.301609</td>\n",
       "      <td>76.834797</td>\n",
       "      <td>1.735212e+05</td>\n",
       "      <td>140.821675</td>\n",
       "      <td>0.020827</td>\n",
       "      <td>0.620827</td>\n",
       "      <td>0.358346</td>\n",
       "      <td>0.999183</td>\n",
       "      <td>0.000817</td>\n",
       "      <td>0.185446</td>\n",
       "    </tr>\n",
       "    <tr>\n",
       "      <th>std</th>\n",
       "      <td>0.383390</td>\n",
       "      <td>0.465448</td>\n",
       "      <td>0.879180</td>\n",
       "      <td>0.383390</td>\n",
       "      <td>0.252962</td>\n",
       "      <td>6.201781</td>\n",
       "      <td>10.568335</td>\n",
       "      <td>6.510610e+05</td>\n",
       "      <td>351.925298</td>\n",
       "      <td>0.142807</td>\n",
       "      <td>0.485190</td>\n",
       "      <td>0.479523</td>\n",
       "      <td>0.028568</td>\n",
       "      <td>0.028568</td>\n",
       "      <td>0.685415</td>\n",
       "    </tr>\n",
       "    <tr>\n",
       "      <th>min</th>\n",
       "      <td>0.000000</td>\n",
       "      <td>0.000000</td>\n",
       "      <td>1.000000</td>\n",
       "      <td>0.000000</td>\n",
       "      <td>0.000000</td>\n",
       "      <td>-37.713008</td>\n",
       "      <td>-121.761248</td>\n",
       "      <td>3.492500e+02</td>\n",
       "      <td>0.278709</td>\n",
       "      <td>0.000000</td>\n",
       "      <td>0.000000</td>\n",
       "      <td>0.000000</td>\n",
       "      <td>0.000000</td>\n",
       "      <td>0.000000</td>\n",
       "      <td>0.004413</td>\n",
       "    </tr>\n",
       "    <tr>\n",
       "      <th>25%</th>\n",
       "      <td>0.000000</td>\n",
       "      <td>0.000000</td>\n",
       "      <td>2.000000</td>\n",
       "      <td>1.000000</td>\n",
       "      <td>1.000000</td>\n",
       "      <td>18.452663</td>\n",
       "      <td>73.798100</td>\n",
       "      <td>5.308600e+04</td>\n",
       "      <td>83.613536</td>\n",
       "      <td>0.000000</td>\n",
       "      <td>0.000000</td>\n",
       "      <td>0.000000</td>\n",
       "      <td>1.000000</td>\n",
       "      <td>0.000000</td>\n",
       "      <td>0.089666</td>\n",
       "    </tr>\n",
       "    <tr>\n",
       "      <th>50%</th>\n",
       "      <td>0.000000</td>\n",
       "      <td>0.000000</td>\n",
       "      <td>2.000000</td>\n",
       "      <td>1.000000</td>\n",
       "      <td>1.000000</td>\n",
       "      <td>20.750000</td>\n",
       "      <td>77.323900</td>\n",
       "      <td>8.619490e+04</td>\n",
       "      <td>109.076397</td>\n",
       "      <td>0.000000</td>\n",
       "      <td>1.000000</td>\n",
       "      <td>0.000000</td>\n",
       "      <td>1.000000</td>\n",
       "      <td>0.000000</td>\n",
       "      <td>0.136859</td>\n",
       "    </tr>\n",
       "    <tr>\n",
       "      <th>75%</th>\n",
       "      <td>0.000000</td>\n",
       "      <td>1.000000</td>\n",
       "      <td>3.000000</td>\n",
       "      <td>1.000000</td>\n",
       "      <td>1.000000</td>\n",
       "      <td>26.900926</td>\n",
       "      <td>77.824149</td>\n",
       "      <td>1.397000e+05</td>\n",
       "      <td>144.010851</td>\n",
       "      <td>0.000000</td>\n",
       "      <td>1.000000</td>\n",
       "      <td>1.000000</td>\n",
       "      <td>1.000000</td>\n",
       "      <td>0.000000</td>\n",
       "      <td>0.168829</td>\n",
       "    </tr>\n",
       "    <tr>\n",
       "      <th>max</th>\n",
       "      <td>1.000000</td>\n",
       "      <td>1.000000</td>\n",
       "      <td>20.000000</td>\n",
       "      <td>1.000000</td>\n",
       "      <td>1.000000</td>\n",
       "      <td>59.912884</td>\n",
       "      <td>152.962676</td>\n",
       "      <td>1.395603e+07</td>\n",
       "      <td>9983.444006</td>\n",
       "      <td>1.000000</td>\n",
       "      <td>1.000000</td>\n",
       "      <td>1.000000</td>\n",
       "      <td>1.000000</td>\n",
       "      <td>1.000000</td>\n",
       "      <td>14.990954</td>\n",
       "    </tr>\n",
       "  </tbody>\n",
       "</table>\n",
       "</div>"
      ],
      "text/plain": [
       "       under_construction          rera        bhk_no  ready_to_move  \\\n",
       "count        29385.000000  29385.000000  29385.000000   29385.000000   \n",
       "mean             0.179037      0.317339      2.390914       0.820963   \n",
       "std              0.383390      0.465448      0.879180       0.383390   \n",
       "min              0.000000      0.000000      1.000000       0.000000   \n",
       "25%              0.000000      0.000000      2.000000       1.000000   \n",
       "50%              0.000000      0.000000      2.000000       1.000000   \n",
       "75%              0.000000      1.000000      3.000000       1.000000   \n",
       "max              1.000000      1.000000     20.000000       1.000000   \n",
       "\n",
       "             resale     longitude      latitude         price       area_m2  \\\n",
       "count  29385.000000  29385.000000  29385.000000  2.938500e+04  29385.000000   \n",
       "mean       0.931291     21.301609     76.834797  1.735212e+05    140.821675   \n",
       "std        0.252962      6.201781     10.568335  6.510610e+05    351.925298   \n",
       "min        0.000000    -37.713008   -121.761248  3.492500e+02      0.278709   \n",
       "25%        1.000000     18.452663     73.798100  5.308600e+04     83.613536   \n",
       "50%        1.000000     20.750000     77.323900  8.619490e+04    109.076397   \n",
       "75%        1.000000     26.900926     77.824149  1.397000e+05    144.010851   \n",
       "max        1.000000     59.912884    152.962676  1.395603e+07   9983.444006   \n",
       "\n",
       "       posted_by_Builder  posted_by_Dealer  posted_by_Owner  bhk_or_rk_BHK  \\\n",
       "count       29385.000000      29385.000000     29385.000000   29385.000000   \n",
       "mean            0.020827          0.620827         0.358346       0.999183   \n",
       "std             0.142807          0.485190         0.479523       0.028568   \n",
       "min             0.000000          0.000000         0.000000       0.000000   \n",
       "25%             0.000000          0.000000         0.000000       1.000000   \n",
       "50%             0.000000          1.000000         0.000000       1.000000   \n",
       "75%             0.000000          1.000000         1.000000       1.000000   \n",
       "max             1.000000          1.000000         1.000000       1.000000   \n",
       "\n",
       "       bhk_or_rk_RK       z_score  \n",
       "count  29385.000000  29385.000000  \n",
       "mean       0.000817      0.185446  \n",
       "std        0.028568      0.685415  \n",
       "min        0.000000      0.004413  \n",
       "25%        0.000000      0.089666  \n",
       "50%        0.000000      0.136859  \n",
       "75%        0.000000      0.168829  \n",
       "max        1.000000     14.990954  "
      ]
     },
     "execution_count": 25,
     "metadata": {},
     "output_type": "execute_result"
    }
   ],
   "source": [
    "\n",
    "df.describe()"
   ]
  }
 ],
 "metadata": {
  "jupytext": {
   "cell_metadata_filter": "tags,-all",
   "main_language": "python",
   "notebook_metadata_filter": "-all",
   "text_representation": {
    "extension": ".py",
    "format_name": "percent"
   }
  },
  "kernelspec": {
   "display_name": "Python 3 (ipykernel)",
   "language": "python",
   "name": "python3"
  },
  "language_info": {
   "codemirror_mode": {
    "name": "ipython",
    "version": 3
   },
   "file_extension": ".py",
   "mimetype": "text/x-python",
   "name": "python",
   "nbconvert_exporter": "python",
   "pygments_lexer": "ipython3",
   "version": "3.10.12"
  },
  "papermill": {
   "duration": 3.098218,
   "end_time": "2023-10-11T23:05:18.598424",
   "exception": null,
   "input_path": "/tmp/tmpb4eonoxc.ipynb",
   "output_path": "/home/luiscberrocal/PycharmProjects/hacktoberfest-2023/src/products/02-cleanup.ipynb",
   "parameters": {
    "product": {
     "clean_csv": "/home/luiscberrocal/PycharmProjects/hacktoberfest-2023/src/data/house_prices_clean.csv",
     "nb": "/home/luiscberrocal/PycharmProjects/hacktoberfest-2023/src/products/02-cleanup.ipynb"
    },
    "upstream": {
     "01-get": {
      "csv_file": "/home/luiscberrocal/PycharmProjects/hacktoberfest-2023/src/data/house_prices.csv",
      "database": "/home/luiscberrocal/PycharmProjects/hacktoberfest-2023/src/data/house_prices.duckdb",
      "nb": "/home/luiscberrocal/PycharmProjects/hacktoberfest-2023/src/products/01-extract-pipeline.ipynb"
     }
    }
   },
   "start_time": "2023-10-11T23:05:15.500206"
  }
 },
 "nbformat": 4,
 "nbformat_minor": 5
}