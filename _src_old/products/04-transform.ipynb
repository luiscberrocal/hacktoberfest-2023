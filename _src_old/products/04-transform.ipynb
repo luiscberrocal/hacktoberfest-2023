{
 "cells": [
  {
   "cell_type": "code",
   "execution_count": 1,
   "id": "3845eae6",
   "metadata": {
    "execution": {
     "iopub.execute_input": "2023-10-11T23:05:24.870226Z",
     "iopub.status.busy": "2023-10-11T23:05:24.869959Z",
     "iopub.status.idle": "2023-10-11T23:05:24.876400Z",
     "shell.execute_reply": "2023-10-11T23:05:24.875840Z"
    },
    "papermill": {
     "duration": 0.009625,
     "end_time": "2023-10-11T23:05:24.877481",
     "exception": false,
     "start_time": "2023-10-11T23:05:24.867856",
     "status": "completed"
    },
    "tags": [
     "parameters"
    ]
   },
   "outputs": [],
   "source": [
    "# declare a list tasks whose products you want to use as inputs\n",
    "upstream = ['02-cleanup']\n",
    "product = None"
   ]
  },
  {
   "cell_type": "code",
   "execution_count": 2,
   "id": "b1b8907a",
   "metadata": {
    "execution": {
     "iopub.execute_input": "2023-10-11T23:05:24.881016Z",
     "iopub.status.busy": "2023-10-11T23:05:24.880772Z",
     "iopub.status.idle": "2023-10-11T23:05:24.883652Z",
     "shell.execute_reply": "2023-10-11T23:05:24.883014Z"
    },
    "papermill": {
     "duration": 0.005895,
     "end_time": "2023-10-11T23:05:24.884905",
     "exception": false,
     "start_time": "2023-10-11T23:05:24.879010",
     "status": "completed"
    },
    "tags": [
     "injected-parameters"
    ]
   },
   "outputs": [],
   "source": [
    "# Parameters\n",
    "upstream = {\"02-cleanup\": {\"nb\": \"/home/luiscberrocal/PycharmProjects/hacktoberfest-2023/src/products/02-cleanup.ipynb\", \"clean_csv\": \"/home/luiscberrocal/PycharmProjects/hacktoberfest-2023/src/data/house_prices_clean.csv\"}}\n",
    "product = {\"nb\": \"/home/luiscberrocal/PycharmProjects/hacktoberfest-2023/src/products/04-transform.ipynb\", \"transformed_csv\": \"/home/luiscberrocal/PycharmProjects/hacktoberfest-2023/src/data/house_prices_transformed.csv\"}\n"
   ]
  },
  {
   "cell_type": "code",
   "execution_count": 3,
   "id": "c376ad0d",
   "metadata": {
    "execution": {
     "iopub.execute_input": "2023-10-11T23:05:24.889402Z",
     "iopub.status.busy": "2023-10-11T23:05:24.889152Z",
     "iopub.status.idle": "2023-10-11T23:05:24.891875Z",
     "shell.execute_reply": "2023-10-11T23:05:24.891323Z"
    },
    "papermill": {
     "duration": 0.006162,
     "end_time": "2023-10-11T23:05:24.892872",
     "exception": false,
     "start_time": "2023-10-11T23:05:24.886710",
     "status": "completed"
    },
    "tags": []
   },
   "outputs": [],
   "source": [
    "import warnings\n",
    "\n",
    "warnings.filterwarnings('ignore')"
   ]
  },
  {
   "cell_type": "code",
   "execution_count": 4,
   "id": "c0ebbb0e",
   "metadata": {
    "execution": {
     "iopub.execute_input": "2023-10-11T23:05:24.896020Z",
     "iopub.status.busy": "2023-10-11T23:05:24.895790Z",
     "iopub.status.idle": "2023-10-11T23:05:25.204483Z",
     "shell.execute_reply": "2023-10-11T23:05:25.203986Z"
    },
    "papermill": {
     "duration": 0.312021,
     "end_time": "2023-10-11T23:05:25.205996",
     "exception": false,
     "start_time": "2023-10-11T23:05:24.893975",
     "status": "completed"
    },
    "tags": []
   },
   "outputs": [],
   "source": [
    "import pandas as pd\n",
    "import numpy as np"
   ]
  },
  {
   "cell_type": "code",
   "execution_count": 5,
   "id": "899773f8",
   "metadata": {
    "execution": {
     "iopub.execute_input": "2023-10-11T23:05:25.209781Z",
     "iopub.status.busy": "2023-10-11T23:05:25.209497Z",
     "iopub.status.idle": "2023-10-11T23:05:25.249733Z",
     "shell.execute_reply": "2023-10-11T23:05:25.249309Z"
    },
    "lines_to_next_cell": 0,
    "papermill": {
     "duration": 0.043193,
     "end_time": "2023-10-11T23:05:25.250845",
     "exception": false,
     "start_time": "2023-10-11T23:05:25.207652",
     "status": "completed"
    },
    "tags": []
   },
   "outputs": [
    {
     "data": {
      "text/html": [
       "<div>\n",
       "<style scoped>\n",
       "    .dataframe tbody tr th:only-of-type {\n",
       "        vertical-align: middle;\n",
       "    }\n",
       "\n",
       "    .dataframe tbody tr th {\n",
       "        vertical-align: top;\n",
       "    }\n",
       "\n",
       "    .dataframe thead th {\n",
       "        text-align: right;\n",
       "    }\n",
       "</style>\n",
       "<table border=\"1\" class=\"dataframe\">\n",
       "  <thead>\n",
       "    <tr style=\"text-align: right;\">\n",
       "      <th></th>\n",
       "      <th>under_construction</th>\n",
       "      <th>rera</th>\n",
       "      <th>bhk_no</th>\n",
       "      <th>ready_to_move</th>\n",
       "      <th>resale</th>\n",
       "      <th>longitude</th>\n",
       "      <th>latitude</th>\n",
       "      <th>price</th>\n",
       "      <th>area_m2</th>\n",
       "      <th>posted_by_Builder</th>\n",
       "      <th>posted_by_Dealer</th>\n",
       "      <th>posted_by_Owner</th>\n",
       "      <th>bhk_or_rk_BHK</th>\n",
       "      <th>bhk_or_rk_RK</th>\n",
       "    </tr>\n",
       "  </thead>\n",
       "  <tbody>\n",
       "    <tr>\n",
       "      <th>0</th>\n",
       "      <td>0</td>\n",
       "      <td>0</td>\n",
       "      <td>2</td>\n",
       "      <td>1</td>\n",
       "      <td>1</td>\n",
       "      <td>12.969910</td>\n",
       "      <td>77.597960</td>\n",
       "      <td>76835.0</td>\n",
       "      <td>120.795863</td>\n",
       "      <td>0</td>\n",
       "      <td>0</td>\n",
       "      <td>1</td>\n",
       "      <td>1</td>\n",
       "      <td>0</td>\n",
       "    </tr>\n",
       "    <tr>\n",
       "      <th>1</th>\n",
       "      <td>0</td>\n",
       "      <td>0</td>\n",
       "      <td>2</td>\n",
       "      <td>1</td>\n",
       "      <td>1</td>\n",
       "      <td>12.274538</td>\n",
       "      <td>76.644605</td>\n",
       "      <td>71247.0</td>\n",
       "      <td>118.451325</td>\n",
       "      <td>0</td>\n",
       "      <td>1</td>\n",
       "      <td>0</td>\n",
       "      <td>1</td>\n",
       "      <td>0</td>\n",
       "    </tr>\n",
       "    <tr>\n",
       "      <th>2</th>\n",
       "      <td>0</td>\n",
       "      <td>0</td>\n",
       "      <td>2</td>\n",
       "      <td>1</td>\n",
       "      <td>1</td>\n",
       "      <td>12.778033</td>\n",
       "      <td>77.632191</td>\n",
       "      <td>60071.0</td>\n",
       "      <td>86.693338</td>\n",
       "      <td>0</td>\n",
       "      <td>0</td>\n",
       "      <td>1</td>\n",
       "      <td>1</td>\n",
       "      <td>0</td>\n",
       "    </tr>\n",
       "    <tr>\n",
       "      <th>3</th>\n",
       "      <td>0</td>\n",
       "      <td>1</td>\n",
       "      <td>2</td>\n",
       "      <td>1</td>\n",
       "      <td>1</td>\n",
       "      <td>28.642300</td>\n",
       "      <td>77.344500</td>\n",
       "      <td>87312.5</td>\n",
       "      <td>86.392464</td>\n",
       "      <td>0</td>\n",
       "      <td>0</td>\n",
       "      <td>1</td>\n",
       "      <td>1</td>\n",
       "      <td>0</td>\n",
       "    </tr>\n",
       "    <tr>\n",
       "      <th>4</th>\n",
       "      <td>1</td>\n",
       "      <td>0</td>\n",
       "      <td>2</td>\n",
       "      <td>0</td>\n",
       "      <td>1</td>\n",
       "      <td>22.592200</td>\n",
       "      <td>88.484911</td>\n",
       "      <td>84518.5</td>\n",
       "      <td>92.810956</td>\n",
       "      <td>0</td>\n",
       "      <td>1</td>\n",
       "      <td>0</td>\n",
       "      <td>1</td>\n",
       "      <td>0</td>\n",
       "    </tr>\n",
       "  </tbody>\n",
       "</table>\n",
       "</div>"
      ],
      "text/plain": [
       "   under_construction  rera  bhk_no  ready_to_move  resale  longitude  \\\n",
       "0                   0     0       2              1       1  12.969910   \n",
       "1                   0     0       2              1       1  12.274538   \n",
       "2                   0     0       2              1       1  12.778033   \n",
       "3                   0     1       2              1       1  28.642300   \n",
       "4                   1     0       2              0       1  22.592200   \n",
       "\n",
       "    latitude    price     area_m2  posted_by_Builder  posted_by_Dealer  \\\n",
       "0  77.597960  76835.0  120.795863                  0                 0   \n",
       "1  76.644605  71247.0  118.451325                  0                 1   \n",
       "2  77.632191  60071.0   86.693338                  0                 0   \n",
       "3  77.344500  87312.5   86.392464                  0                 0   \n",
       "4  88.484911  84518.5   92.810956                  0                 1   \n",
       "\n",
       "   posted_by_Owner  bhk_or_rk_BHK  bhk_or_rk_RK  \n",
       "0                1              1             0  \n",
       "1                0              1             0  \n",
       "2                1              1             0  \n",
       "3                1              1             0  \n",
       "4                0              1             0  "
      ]
     },
     "execution_count": 5,
     "metadata": {},
     "output_type": "execute_result"
    }
   ],
   "source": [
    "df = pd.read_csv(upstream['02-cleanup']['clean_csv'])\n",
    "\n",
    "df.head()"
   ]
  },
  {
   "cell_type": "code",
   "execution_count": 6,
   "id": "d8dbedbd",
   "metadata": {
    "execution": {
     "iopub.execute_input": "2023-10-11T23:05:25.255087Z",
     "iopub.status.busy": "2023-10-11T23:05:25.254834Z",
     "iopub.status.idle": "2023-10-11T23:05:25.258041Z",
     "shell.execute_reply": "2023-10-11T23:05:25.257644Z"
    },
    "papermill": {
     "duration": 0.006833,
     "end_time": "2023-10-11T23:05:25.259358",
     "exception": false,
     "start_time": "2023-10-11T23:05:25.252525",
     "status": "completed"
    },
    "tags": []
   },
   "outputs": [],
   "source": [
    "# Scaling\n",
    "df['bhk_no'] = np.log(df['bhk_no'] + 1)"
   ]
  },
  {
   "cell_type": "code",
   "execution_count": 7,
   "id": "c7536174",
   "metadata": {
    "execution": {
     "iopub.execute_input": "2023-10-11T23:05:25.264640Z",
     "iopub.status.busy": "2023-10-11T23:05:25.264388Z",
     "iopub.status.idle": "2023-10-11T23:05:25.405930Z",
     "shell.execute_reply": "2023-10-11T23:05:25.405397Z"
    },
    "papermill": {
     "duration": 0.145686,
     "end_time": "2023-10-11T23:05:25.407296",
     "exception": false,
     "start_time": "2023-10-11T23:05:25.261610",
     "status": "completed"
    },
    "tags": []
   },
   "outputs": [],
   "source": [
    "df.to_csv(product['transformed_csv'], index=False)"
   ]
  }
 ],
 "metadata": {
  "jupytext": {
   "cell_metadata_filter": "tags,-all",
   "main_language": "python",
   "notebook_metadata_filter": "-all",
   "text_representation": {
    "extension": ".py",
    "format_name": "percent"
   }
  },
  "kernelspec": {
   "display_name": "Python 3 (ipykernel)",
   "language": "python",
   "name": "python3"
  },
  "language_info": {
   "codemirror_mode": {
    "name": "ipython",
    "version": 3
   },
   "file_extension": ".py",
   "mimetype": "text/x-python",
   "name": "python",
   "nbconvert_exporter": "python",
   "pygments_lexer": "ipython3",
   "version": "3.10.12"
  },
  "papermill": {
   "duration": 1.532817,
   "end_time": "2023-10-11T23:05:25.624053",
   "exception": null,
   "input_path": "/tmp/tmpimog3ui_.ipynb",
   "output_path": "/home/luiscberrocal/PycharmProjects/hacktoberfest-2023/src/products/04-transform.ipynb",
   "parameters": {
    "product": {
     "nb": "/home/luiscberrocal/PycharmProjects/hacktoberfest-2023/src/products/04-transform.ipynb",
     "transformed_csv": "/home/luiscberrocal/PycharmProjects/hacktoberfest-2023/src/data/house_prices_transformed.csv"
    },
    "upstream": {
     "02-cleanup": {
      "clean_csv": "/home/luiscberrocal/PycharmProjects/hacktoberfest-2023/src/data/house_prices_clean.csv",
      "nb": "/home/luiscberrocal/PycharmProjects/hacktoberfest-2023/src/products/02-cleanup.ipynb"
     }
    }
   },
   "start_time": "2023-10-11T23:05:24.091236"
  }
 },
 "nbformat": 4,
 "nbformat_minor": 5
}