{
 "cells": [
  {
   "cell_type": "code",
   "execution_count": 1,
   "id": "802bb18b",
   "metadata": {
    "execution": {
     "iopub.execute_input": "2023-10-11T23:05:12.637822Z",
     "iopub.status.busy": "2023-10-11T23:05:12.637566Z",
     "iopub.status.idle": "2023-10-11T23:05:12.643667Z",
     "shell.execute_reply": "2023-10-11T23:05:12.643277Z"
    },
    "papermill": {
     "duration": 0.009315,
     "end_time": "2023-10-11T23:05:12.644653",
     "exception": false,
     "start_time": "2023-10-11T23:05:12.635338",
     "status": "completed"
    },
    "tags": [
     "parameters"
    ]
   },
   "outputs": [],
   "source": [
    "# declare a list tasks whose products you want to use as inputs\n",
    "\n",
    "table_name = ''\n",
    "upstream = None"
   ]
  },
  {
   "cell_type": "code",
   "execution_count": 2,
   "id": "42798b61",
   "metadata": {
    "execution": {
     "iopub.execute_input": "2023-10-11T23:05:12.649454Z",
     "iopub.status.busy": "2023-10-11T23:05:12.649175Z",
     "iopub.status.idle": "2023-10-11T23:05:12.651742Z",
     "shell.execute_reply": "2023-10-11T23:05:12.651373Z"
    },
    "papermill": {
     "duration": 0.006112,
     "end_time": "2023-10-11T23:05:12.652787",
     "exception": false,
     "start_time": "2023-10-11T23:05:12.646675",
     "status": "completed"
    },
    "tags": [
     "injected-parameters"
    ]
   },
   "outputs": [],
   "source": [
    "# Parameters\n",
    "table_name = \"house_prices\"\n",
    "product = {\"nb\": \"/home/luiscberrocal/PycharmProjects/hacktoberfest-2023/src/products/01-extract-pipeline.ipynb\", \"csv_file\": \"/home/luiscberrocal/PycharmProjects/hacktoberfest-2023/src/data/house_prices.csv\", \"database\": \"/home/luiscberrocal/PycharmProjects/hacktoberfest-2023/src/data/house_prices.duckdb\"}\n"
   ]
  },
  {
   "cell_type": "code",
   "execution_count": 3,
   "id": "e0f997be",
   "metadata": {
    "execution": {
     "iopub.execute_input": "2023-10-11T23:05:12.656015Z",
     "iopub.status.busy": "2023-10-11T23:05:12.655799Z",
     "iopub.status.idle": "2023-10-11T23:05:13.000562Z",
     "shell.execute_reply": "2023-10-11T23:05:13.000089Z"
    },
    "lines_to_next_cell": 1,
    "papermill": {
     "duration": 0.348487,
     "end_time": "2023-10-11T23:05:13.002441",
     "exception": false,
     "start_time": "2023-10-11T23:05:12.653954",
     "status": "completed"
    },
    "tags": []
   },
   "outputs": [],
   "source": [
    "from pathlib import Path\n",
    "\n",
    "import duckdb\n",
    "import pandas as pd\n",
    "\n",
    "from src import settings\n",
    "\n",
    "from src.kaggle import configure_kaggle, download_dataset"
   ]
  },
  {
   "cell_type": "code",
   "execution_count": 4,
   "id": "18ed7579",
   "metadata": {
    "execution": {
     "iopub.execute_input": "2023-10-11T23:05:13.007729Z",
     "iopub.status.busy": "2023-10-11T23:05:13.007434Z",
     "iopub.status.idle": "2023-10-11T23:05:13.010845Z",
     "shell.execute_reply": "2023-10-11T23:05:13.010288Z"
    },
    "papermill": {
     "duration": 0.007116,
     "end_time": "2023-10-11T23:05:13.011913",
     "exception": false,
     "start_time": "2023-10-11T23:05:13.004797",
     "status": "completed"
    },
    "tags": []
   },
   "outputs": [],
   "source": [
    "def save_to_duckdb(df: pd.DataFrame, table_name: str, db_path: str) -> None:\n",
    "    \"\"\"Save dataframe to duckdb\"\"\"\n",
    "    conn = duckdb.connect(db_path)\n",
    "    conn.register('df', df)\n",
    "    conn.execute(f\"CREATE OR REPLACE TABLE {table_name} AS SELECT * FROM df\")\n",
    "    conn.close()"
   ]
  },
  {
   "cell_type": "code",
   "execution_count": 5,
   "id": "fb0957b3",
   "metadata": {
    "execution": {
     "iopub.execute_input": "2023-10-11T23:05:13.015127Z",
     "iopub.status.busy": "2023-10-11T23:05:13.014901Z",
     "iopub.status.idle": "2023-10-11T23:05:13.017717Z",
     "shell.execute_reply": "2023-10-11T23:05:13.017299Z"
    },
    "papermill": {
     "duration": 0.005548,
     "end_time": "2023-10-11T23:05:13.018678",
     "exception": false,
     "start_time": "2023-10-11T23:05:13.013130",
     "status": "completed"
    },
    "tags": []
   },
   "outputs": [],
   "source": [
    "def find_csv_file(folder: Path, csv_name: str) -> Path:\n",
    "    csvs = folder.glob('**/*.csv')\n",
    "    for csv in csvs:\n",
    "        if csv.name == csv_name:\n",
    "            return csv"
   ]
  },
  {
   "cell_type": "code",
   "execution_count": 6,
   "id": "80aa1319",
   "metadata": {
    "execution": {
     "iopub.execute_input": "2023-10-11T23:05:13.023904Z",
     "iopub.status.busy": "2023-10-11T23:05:13.023586Z",
     "iopub.status.idle": "2023-10-11T23:05:15.239252Z",
     "shell.execute_reply": "2023-10-11T23:05:15.238671Z"
    },
    "papermill": {
     "duration": 2.219872,
     "end_time": "2023-10-11T23:05:15.240582",
     "exception": false,
     "start_time": "2023-10-11T23:05:13.020710",
     "status": "completed"
    },
    "tags": []
   },
   "outputs": [
    {
     "name": "stdout",
     "output_type": "stream",
     "text": [
      "Data folder: /home/luiscberrocal/PycharmProjects/hacktoberfest-2023/src/data/house-price-dataset\n"
     ]
    },
    {
     "name": "stdout",
     "output_type": "stream",
     "text": [
      "CSV: /home/luiscberrocal/PycharmProjects/hacktoberfest-2023/src/data/house-price-dataset/Participants_Data_HPP/Train.csv\n"
     ]
    }
   ],
   "source": [
    "configure_kaggle(settings.ENVS_FOLDER)\n",
    "ds_owner = 'akash14'\n",
    "ds_name = 'house-price-dataset'\n",
    "data_folder = settings.DATA_FOLDER\n",
    "data_folder.mkdir(exist_ok=True)\n",
    "fldr = download_dataset(owner=ds_owner, dataset_name=ds_name, download_folder=data_folder)\n",
    "print(f'Data folder: {fldr}')\n",
    "csv_file = find_csv_file(fldr, 'Train.csv')\n",
    "df = pd.read_csv(csv_file)\n",
    "df.to_csv(product['csv_file'], index=False)\n",
    "save_to_duckdb(df=df, table_name=table_name, db_path=product['database'])\n",
    "\n",
    "print(f'CSV: {csv_file}')"
   ]
  },
  {
   "cell_type": "code",
   "execution_count": 7,
   "id": "894b041a",
   "metadata": {
    "execution": {
     "iopub.execute_input": "2023-10-11T23:05:15.244516Z",
     "iopub.status.busy": "2023-10-11T23:05:15.244262Z",
     "iopub.status.idle": "2023-10-11T23:05:15.256052Z",
     "shell.execute_reply": "2023-10-11T23:05:15.255496Z"
    },
    "papermill": {
     "duration": 0.014973,
     "end_time": "2023-10-11T23:05:15.257178",
     "exception": false,
     "start_time": "2023-10-11T23:05:15.242205",
     "status": "completed"
    },
    "tags": []
   },
   "outputs": [
    {
     "data": {
      "text/html": [
       "<div>\n",
       "<style scoped>\n",
       "    .dataframe tbody tr th:only-of-type {\n",
       "        vertical-align: middle;\n",
       "    }\n",
       "\n",
       "    .dataframe tbody tr th {\n",
       "        vertical-align: top;\n",
       "    }\n",
       "\n",
       "    .dataframe thead th {\n",
       "        text-align: right;\n",
       "    }\n",
       "</style>\n",
       "<table border=\"1\" class=\"dataframe\">\n",
       "  <thead>\n",
       "    <tr style=\"text-align: right;\">\n",
       "      <th></th>\n",
       "      <th>POSTED_BY</th>\n",
       "      <th>UNDER_CONSTRUCTION</th>\n",
       "      <th>RERA</th>\n",
       "      <th>BHK_NO.</th>\n",
       "      <th>BHK_OR_RK</th>\n",
       "      <th>SQUARE_FT</th>\n",
       "      <th>READY_TO_MOVE</th>\n",
       "      <th>RESALE</th>\n",
       "      <th>ADDRESS</th>\n",
       "      <th>LONGITUDE</th>\n",
       "      <th>LATITUDE</th>\n",
       "      <th>TARGET(PRICE_IN_LACS)</th>\n",
       "    </tr>\n",
       "  </thead>\n",
       "  <tbody>\n",
       "    <tr>\n",
       "      <th>0</th>\n",
       "      <td>Owner</td>\n",
       "      <td>0</td>\n",
       "      <td>0</td>\n",
       "      <td>2</td>\n",
       "      <td>BHK</td>\n",
       "      <td>1300.236407</td>\n",
       "      <td>1</td>\n",
       "      <td>1</td>\n",
       "      <td>Ksfc Layout,Bangalore</td>\n",
       "      <td>12.969910</td>\n",
       "      <td>77.597960</td>\n",
       "      <td>55.0</td>\n",
       "    </tr>\n",
       "    <tr>\n",
       "      <th>1</th>\n",
       "      <td>Dealer</td>\n",
       "      <td>0</td>\n",
       "      <td>0</td>\n",
       "      <td>2</td>\n",
       "      <td>BHK</td>\n",
       "      <td>1275.000000</td>\n",
       "      <td>1</td>\n",
       "      <td>1</td>\n",
       "      <td>Vishweshwara Nagar,Mysore</td>\n",
       "      <td>12.274538</td>\n",
       "      <td>76.644605</td>\n",
       "      <td>51.0</td>\n",
       "    </tr>\n",
       "    <tr>\n",
       "      <th>2</th>\n",
       "      <td>Owner</td>\n",
       "      <td>0</td>\n",
       "      <td>0</td>\n",
       "      <td>2</td>\n",
       "      <td>BHK</td>\n",
       "      <td>933.159722</td>\n",
       "      <td>1</td>\n",
       "      <td>1</td>\n",
       "      <td>Jigani,Bangalore</td>\n",
       "      <td>12.778033</td>\n",
       "      <td>77.632191</td>\n",
       "      <td>43.0</td>\n",
       "    </tr>\n",
       "    <tr>\n",
       "      <th>3</th>\n",
       "      <td>Owner</td>\n",
       "      <td>0</td>\n",
       "      <td>1</td>\n",
       "      <td>2</td>\n",
       "      <td>BHK</td>\n",
       "      <td>929.921143</td>\n",
       "      <td>1</td>\n",
       "      <td>1</td>\n",
       "      <td>Sector-1 Vaishali,Ghaziabad</td>\n",
       "      <td>28.642300</td>\n",
       "      <td>77.344500</td>\n",
       "      <td>62.5</td>\n",
       "    </tr>\n",
       "    <tr>\n",
       "      <th>4</th>\n",
       "      <td>Dealer</td>\n",
       "      <td>1</td>\n",
       "      <td>0</td>\n",
       "      <td>2</td>\n",
       "      <td>BHK</td>\n",
       "      <td>999.009247</td>\n",
       "      <td>0</td>\n",
       "      <td>1</td>\n",
       "      <td>New Town,Kolkata</td>\n",
       "      <td>22.592200</td>\n",
       "      <td>88.484911</td>\n",
       "      <td>60.5</td>\n",
       "    </tr>\n",
       "  </tbody>\n",
       "</table>\n",
       "</div>"
      ],
      "text/plain": [
       "  POSTED_BY  UNDER_CONSTRUCTION  RERA  BHK_NO. BHK_OR_RK    SQUARE_FT  \\\n",
       "0     Owner                   0     0        2       BHK  1300.236407   \n",
       "1    Dealer                   0     0        2       BHK  1275.000000   \n",
       "2     Owner                   0     0        2       BHK   933.159722   \n",
       "3     Owner                   0     1        2       BHK   929.921143   \n",
       "4    Dealer                   1     0        2       BHK   999.009247   \n",
       "\n",
       "   READY_TO_MOVE  RESALE                      ADDRESS  LONGITUDE   LATITUDE  \\\n",
       "0              1       1        Ksfc Layout,Bangalore  12.969910  77.597960   \n",
       "1              1       1    Vishweshwara Nagar,Mysore  12.274538  76.644605   \n",
       "2              1       1             Jigani,Bangalore  12.778033  77.632191   \n",
       "3              1       1  Sector-1 Vaishali,Ghaziabad  28.642300  77.344500   \n",
       "4              0       1             New Town,Kolkata  22.592200  88.484911   \n",
       "\n",
       "   TARGET(PRICE_IN_LACS)  \n",
       "0                   55.0  \n",
       "1                   51.0  \n",
       "2                   43.0  \n",
       "3                   62.5  \n",
       "4                   60.5  "
      ]
     },
     "execution_count": 7,
     "metadata": {},
     "output_type": "execute_result"
    }
   ],
   "source": [
    "df.head()"
   ]
  }
 ],
 "metadata": {
  "jupytext": {
   "cell_metadata_filter": "tags,-all",
   "main_language": "python",
   "notebook_metadata_filter": "-all",
   "text_representation": {
    "extension": ".py",
    "format_name": "percent"
   }
  },
  "kernelspec": {
   "display_name": "Python 3 (ipykernel)",
   "language": "python",
   "name": "python3"
  },
  "language_info": {
   "codemirror_mode": {
    "name": "ipython",
    "version": 3
   },
   "file_extension": ".py",
   "mimetype": "text/x-python",
   "name": "python",
   "nbconvert_exporter": "python",
   "pygments_lexer": "ipython3",
   "version": "3.10.12"
  },
  "papermill": {
   "duration": 3.491951,
   "end_time": "2023-10-11T23:05:15.475126",
   "exception": null,
   "input_path": "/tmp/tmp45sbvae9.ipynb",
   "output_path": "/home/luiscberrocal/PycharmProjects/hacktoberfest-2023/src/products/01-extract-pipeline.ipynb",
   "parameters": {
    "product": {
     "csv_file": "/home/luiscberrocal/PycharmProjects/hacktoberfest-2023/src/data/house_prices.csv",
     "database": "/home/luiscberrocal/PycharmProjects/hacktoberfest-2023/src/data/house_prices.duckdb",
     "nb": "/home/luiscberrocal/PycharmProjects/hacktoberfest-2023/src/products/01-extract-pipeline.ipynb"
    },
    "table_name": "house_prices"
   },
   "start_time": "2023-10-11T23:05:11.983175"
  }
 },
 "nbformat": 4,
 "nbformat_minor": 5
}