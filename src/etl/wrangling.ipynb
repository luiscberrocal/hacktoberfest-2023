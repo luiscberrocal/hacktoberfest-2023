{
 "cells": [
  {
   "cell_type": "markdown",
   "id": "2006631f-9a1a-48ab-b11a-a6b64716a757",
   "metadata": {},
   "source": [
    "# Wrangling data"
   ]
  },
  {
   "cell_type": "markdown",
   "id": "f98d462a-fad7-4bcd-8943-b2a5549b1f1d",
   "metadata": {},
   "source": [
    "## Confiuration"
   ]
  },
  {
   "cell_type": "code",
   "execution_count": 2,
   "id": "a46792f5-2d24-4152-8d4d-1531b02e4d99",
   "metadata": {},
   "outputs": [],
   "source": [
    "from pathlib import Path\n",
    "import pandas as pd\n",
    "import duckdb as ddb\n"
   ]
  },
  {
   "cell_type": "code",
   "execution_count": 4,
   "id": "edda1ffa-c159-425a-8391-5bc40d034abe",
   "metadata": {},
   "outputs": [
    {
     "name": "stdout",
     "output_type": "stream",
     "text": [
      "File: /home/luiscberrocal/PycharmProjects/hactoberfest-2023/src/etl/data.duckdb True\n"
     ]
    }
   ],
   "source": [
    "db_file = Path().cwd() / 'data.duckdb'\n",
    "\n",
    "print(f'File: {db_file} {db_file.exists()}')"
   ]
  },
  {
   "cell_type": "markdown",
   "id": "abdc3134-2b5c-464d-8831-b97df422cfd8",
   "metadata": {},
   "source": [
    "### Loading data"
   ]
  },
  {
   "cell_type": "code",
   "execution_count": 5,
   "id": "852eb66f-1866-4483-aa56-302d10ee4081",
   "metadata": {},
   "outputs": [],
   "source": [
    "conn = ddb.connect(str(db_file))"
   ]
  },
  {
   "cell_type": "code",
   "execution_count": 6,
   "id": "6d40e4de-e5ae-4191-87c8-a73a4163413e",
   "metadata": {},
   "outputs": [
    {
     "data": {
      "text/plain": [
       "┌──────────┬─────────┬────────────┬──────────────────────┬─────────────────────────────────────────────────┬───────────┐\n",
       "│ database │ schema  │    name    │     column_names     │                  column_types                   │ temporary │\n",
       "│ varchar  │ varchar │  varchar   │      varchar[]       │                    varchar[]                    │  boolean  │\n",
       "├──────────┼─────────┼────────────┼──────────────────────┼─────────────────────────────────────────────────┼───────────┤\n",
       "│ data     │ main    │ nycitydata │ [unique_key, creat…  │ [VARCHAR, VARCHAR, VARCHAR, VARCHAR, VARCHAR,…  │ false     │\n",
       "└──────────┴─────────┴────────────┴──────────────────────┴─────────────────────────────────────────────────┴───────────┘"
      ]
     },
     "execution_count": 6,
     "metadata": {},
     "output_type": "execute_result"
    }
   ],
   "source": [
    "conn.sql('SHOW ALL TABLES;')"
   ]
  },
  {
   "cell_type": "code",
   "execution_count": 9,
   "id": "91b4d721-b50b-476a-8f5d-3c45926c350f",
   "metadata": {},
   "outputs": [
    {
     "data": {
      "text/plain": [
       "┌──────────────────────────┬─────────────┬─────────┬─────────┬─────────┬───────┐\n",
       "│       column_name        │ column_type │  null   │   key   │ default │ extra │\n",
       "│         varchar          │   varchar   │ varchar │ varchar │ varchar │ int32 │\n",
       "├──────────────────────────┼─────────────┼─────────┼─────────┼─────────┼───────┤\n",
       "│ unique_key               │ VARCHAR     │ YES     │ NULL    │ NULL    │  NULL │\n",
       "│ created_date             │ VARCHAR     │ YES     │ NULL    │ NULL    │  NULL │\n",
       "│ agency                   │ VARCHAR     │ YES     │ NULL    │ NULL    │  NULL │\n",
       "│ agency_name              │ VARCHAR     │ YES     │ NULL    │ NULL    │  NULL │\n",
       "│ complaint_type           │ VARCHAR     │ YES     │ NULL    │ NULL    │  NULL │\n",
       "│ descriptor               │ VARCHAR     │ YES     │ NULL    │ NULL    │  NULL │\n",
       "│ location_type            │ VARCHAR     │ YES     │ NULL    │ NULL    │  NULL │\n",
       "│ incident_zip             │ VARCHAR     │ YES     │ NULL    │ NULL    │  NULL │\n",
       "│ incident_address         │ VARCHAR     │ YES     │ NULL    │ NULL    │  NULL │\n",
       "│ street_name              │ VARCHAR     │ YES     │ NULL    │ NULL    │  NULL │\n",
       "│    ·                     │    ·        │  ·      │  ·      │  ·      │    ·  │\n",
       "│    ·                     │    ·        │  ·      │  ·      │  ·      │    ·  │\n",
       "│    ·                     │    ·        │  ·      │  ·      │  ·      │    ·  │\n",
       "│ landmark                 │ VARCHAR     │ YES     │ NULL    │ NULL    │  NULL │\n",
       "│ closed_date              │ VARCHAR     │ YES     │ NULL    │ NULL    │  NULL │\n",
       "│ bridge_highway_name      │ VARCHAR     │ YES     │ NULL    │ NULL    │  NULL │\n",
       "│ bridge_highway_segment   │ VARCHAR     │ YES     │ NULL    │ NULL    │  NULL │\n",
       "│ bridge_highway_direction │ VARCHAR     │ YES     │ NULL    │ NULL    │  NULL │\n",
       "│ facility_type            │ VARCHAR     │ YES     │ NULL    │ NULL    │  NULL │\n",
       "│ taxi_pick_up_location    │ VARCHAR     │ YES     │ NULL    │ NULL    │  NULL │\n",
       "│ road_ramp                │ VARCHAR     │ YES     │ NULL    │ NULL    │  NULL │\n",
       "│ due_date                 │ VARCHAR     │ YES     │ NULL    │ NULL    │  NULL │\n",
       "│ community_board          │ VARCHAR     │ YES     │ NULL    │ NULL    │  NULL │\n",
       "├──────────────────────────┴─────────────┴─────────┴─────────┴─────────┴───────┤\n",
       "│ 44 rows (20 shown)                                                 6 columns │\n",
       "└──────────────────────────────────────────────────────────────────────────────┘"
      ]
     },
     "execution_count": 9,
     "metadata": {},
     "output_type": "execute_result"
    }
   ],
   "source": [
    "conn.sql('DESCRIBE nycitydata;')"
   ]
  },
  {
   "cell_type": "code",
   "execution_count": 14,
   "id": "171da922-2a1e-4ccc-a719-e3cb4d99c784",
   "metadata": {},
   "outputs": [],
   "source": [
    "df = conn.sql('SELECT * FROM nycitydata;').df()"
   ]
  },
  {
   "cell_type": "code",
   "execution_count": 15,
   "id": "50fe617c-ce76-4989-bca9-c6d6e27c99f9",
   "metadata": {},
   "outputs": [
    {
     "data": {
      "text/plain": [
       "(1000, 44)"
      ]
     },
     "execution_count": 15,
     "metadata": {},
     "output_type": "execute_result"
    }
   ],
   "source": [
    "df.shape"
   ]
  },
  {
   "cell_type": "code",
   "execution_count": 16,
   "id": "355acc4a-9bc1-44ad-8d2f-4bdc4eae9790",
   "metadata": {},
   "outputs": [
    {
     "name": "stdout",
     "output_type": "stream",
     "text": [
      "<class 'pandas.core.frame.DataFrame'>\n",
      "RangeIndex: 1000 entries, 0 to 999\n",
      "Data columns (total 44 columns):\n",
      " #   Column                          Non-Null Count  Dtype \n",
      "---  ------                          --------------  ----- \n",
      " 0   unique_key                      1000 non-null   object\n",
      " 1   created_date                    1000 non-null   object\n",
      " 2   agency                          1000 non-null   object\n",
      " 3   agency_name                     1000 non-null   object\n",
      " 4   complaint_type                  1000 non-null   object\n",
      " 5   descriptor                      1000 non-null   object\n",
      " 6   location_type                   917 non-null    object\n",
      " 7   incident_zip                    987 non-null    object\n",
      " 8   incident_address                963 non-null    object\n",
      " 9   street_name                     963 non-null    object\n",
      " 10  cross_street_1                  891 non-null    object\n",
      " 11  cross_street_2                  889 non-null    object\n",
      " 12  address_type                    994 non-null    object\n",
      " 13  city                            926 non-null    object\n",
      " 14  status                          1000 non-null   object\n",
      " 15  resolution_description          672 non-null    object\n",
      " 16  resolution_action_updated_date  728 non-null    object\n",
      " 17  community_board                 1000 non-null   object\n",
      " 18  bbl                             866 non-null    object\n",
      " 19  borough                         1000 non-null   object\n",
      " 20  x_coordinate_state_plane        980 non-null    object\n",
      " 21  y_coordinate_state_plane        980 non-null    object\n",
      " 22  open_data_channel_type          1000 non-null   object\n",
      " 23  park_facility_name              1000 non-null   object\n",
      " 24  park_borough                    1000 non-null   object\n",
      " 25  latitude                        980 non-null    object\n",
      " 26  longitude                       980 non-null    object\n",
      " 27  location                        980 non-null    object\n",
      " 28  :@computed_region_efsh_h5xi     979 non-null    object\n",
      " 29  :@computed_region_f5dn_yrer     980 non-null    object\n",
      " 30  :@computed_region_yeji_bk3q     980 non-null    object\n",
      " 31  :@computed_region_92fq_4b7q     980 non-null    object\n",
      " 32  :@computed_region_sbqj_enih     980 non-null    object\n",
      " 33  intersection_street_1           852 non-null    object\n",
      " 34  intersection_street_2           850 non-null    object\n",
      " 35  landmark                        767 non-null    object\n",
      " 36  closed_date                     564 non-null    object\n",
      " 37  bridge_highway_name             12 non-null     object\n",
      " 38  bridge_highway_segment          12 non-null     object\n",
      " 39  bridge_highway_direction        4 non-null      object\n",
      " 40  facility_type                   71 non-null     object\n",
      " 41  taxi_pick_up_location           5 non-null      object\n",
      " 42  road_ramp                       1 non-null      object\n",
      " 43  due_date                        1 non-null      object\n",
      "dtypes: object(44)\n",
      "memory usage: 343.9+ KB\n"
     ]
    }
   ],
   "source": [
    "df.info()"
   ]
  },
  {
   "cell_type": "code",
   "execution_count": 18,
   "id": "b34e88fe-ebe6-434c-a46d-02d0a0c0a72f",
   "metadata": {},
   "outputs": [
    {
     "data": {
      "text/html": [
       "<div>\n",
       "<style scoped>\n",
       "    .dataframe tbody tr th:only-of-type {\n",
       "        vertical-align: middle;\n",
       "    }\n",
       "\n",
       "    .dataframe tbody tr th {\n",
       "        vertical-align: top;\n",
       "    }\n",
       "\n",
       "    .dataframe thead th {\n",
       "        text-align: right;\n",
       "    }\n",
       "</style>\n",
       "<table border=\"1\" class=\"dataframe\">\n",
       "  <thead>\n",
       "    <tr style=\"text-align: right;\">\n",
       "      <th></th>\n",
       "      <th>unique_key</th>\n",
       "      <th>created_date</th>\n",
       "      <th>agency</th>\n",
       "      <th>agency_name</th>\n",
       "      <th>complaint_type</th>\n",
       "      <th>descriptor</th>\n",
       "      <th>location_type</th>\n",
       "      <th>incident_zip</th>\n",
       "      <th>incident_address</th>\n",
       "      <th>street_name</th>\n",
       "      <th>...</th>\n",
       "      <th>intersection_street_2</th>\n",
       "      <th>landmark</th>\n",
       "      <th>closed_date</th>\n",
       "      <th>bridge_highway_name</th>\n",
       "      <th>bridge_highway_segment</th>\n",
       "      <th>bridge_highway_direction</th>\n",
       "      <th>facility_type</th>\n",
       "      <th>taxi_pick_up_location</th>\n",
       "      <th>road_ramp</th>\n",
       "      <th>due_date</th>\n",
       "    </tr>\n",
       "  </thead>\n",
       "  <tbody>\n",
       "    <tr>\n",
       "      <th>124</th>\n",
       "      <td>58870961</td>\n",
       "      <td>2023-09-21T01:09:25.000</td>\n",
       "      <td>NYPD</td>\n",
       "      <td>New York City Police Department</td>\n",
       "      <td>Blocked Driveway</td>\n",
       "      <td>No Access</td>\n",
       "      <td>Street/Sidewalk</td>\n",
       "      <td>11236</td>\n",
       "      <td>1312 EAST   91 STREET</td>\n",
       "      <td>EAST   91 STREET</td>\n",
       "      <td>...</td>\n",
       "      <td>AVENUE K</td>\n",
       "      <td>EAST   91 STREET</td>\n",
       "      <td>2023-09-21T01:30:49.000</td>\n",
       "      <td>NaN</td>\n",
       "      <td>NaN</td>\n",
       "      <td>NaN</td>\n",
       "      <td>NaN</td>\n",
       "      <td>NaN</td>\n",
       "      <td>NaN</td>\n",
       "      <td>NaN</td>\n",
       "    </tr>\n",
       "    <tr>\n",
       "      <th>873</th>\n",
       "      <td>58879799</td>\n",
       "      <td>2023-09-20T22:45:55.000</td>\n",
       "      <td>DSNY</td>\n",
       "      <td>Department of Sanitation</td>\n",
       "      <td>Street Sweeping Complaint</td>\n",
       "      <td>Street Not Swept</td>\n",
       "      <td>Street</td>\n",
       "      <td>11237</td>\n",
       "      <td>66 KNICKERBOCKER AVENUE</td>\n",
       "      <td>KNICKERBOCKER AVENUE</td>\n",
       "      <td>...</td>\n",
       "      <td>GRATTAN STREET</td>\n",
       "      <td>KNICKERBOCKER AVENUE</td>\n",
       "      <td>NaN</td>\n",
       "      <td>NaN</td>\n",
       "      <td>NaN</td>\n",
       "      <td>NaN</td>\n",
       "      <td>NaN</td>\n",
       "      <td>NaN</td>\n",
       "      <td>NaN</td>\n",
       "      <td>NaN</td>\n",
       "    </tr>\n",
       "    <tr>\n",
       "      <th>29</th>\n",
       "      <td>58872908</td>\n",
       "      <td>2023-09-21T01:56:39.000</td>\n",
       "      <td>DPR</td>\n",
       "      <td>Department of Parks and Recreation</td>\n",
       "      <td>Root/Sewer/Sidewalk Condition</td>\n",
       "      <td>Trees and Sidewalks Program</td>\n",
       "      <td>Street</td>\n",
       "      <td>11233</td>\n",
       "      <td>1792 EASTERN PARKWAY</td>\n",
       "      <td>EASTERN PARKWAY</td>\n",
       "      <td>...</td>\n",
       "      <td>DEAN STREET</td>\n",
       "      <td>EASTERN PARKWAY</td>\n",
       "      <td>NaN</td>\n",
       "      <td>NaN</td>\n",
       "      <td>NaN</td>\n",
       "      <td>NaN</td>\n",
       "      <td>NaN</td>\n",
       "      <td>NaN</td>\n",
       "      <td>NaN</td>\n",
       "      <td>NaN</td>\n",
       "    </tr>\n",
       "    <tr>\n",
       "      <th>318</th>\n",
       "      <td>58878985</td>\n",
       "      <td>2023-09-21T00:12:21.000</td>\n",
       "      <td>NYPD</td>\n",
       "      <td>New York City Police Department</td>\n",
       "      <td>Noise - Residential</td>\n",
       "      <td>Loud Music/Party</td>\n",
       "      <td>Residential Building/House</td>\n",
       "      <td>11218</td>\n",
       "      <td>70 EAST    8 STREET</td>\n",
       "      <td>EAST    8 STREET</td>\n",
       "      <td>...</td>\n",
       "      <td>KERMIT PLACE</td>\n",
       "      <td>EAST    8 STREET</td>\n",
       "      <td>2023-09-21T00:57:03.000</td>\n",
       "      <td>NaN</td>\n",
       "      <td>NaN</td>\n",
       "      <td>NaN</td>\n",
       "      <td>NaN</td>\n",
       "      <td>NaN</td>\n",
       "      <td>NaN</td>\n",
       "      <td>NaN</td>\n",
       "    </tr>\n",
       "    <tr>\n",
       "      <th>31</th>\n",
       "      <td>58881148</td>\n",
       "      <td>2023-09-21T01:54:54.000</td>\n",
       "      <td>DSNY</td>\n",
       "      <td>Department of Sanitation</td>\n",
       "      <td>Litter Basket Request</td>\n",
       "      <td>Replacement Basket</td>\n",
       "      <td>Street</td>\n",
       "      <td>11418</td>\n",
       "      <td>121-09 JAMAICA AVENUE</td>\n",
       "      <td>JAMAICA AVENUE</td>\n",
       "      <td>...</td>\n",
       "      <td>122 STREET</td>\n",
       "      <td>JAMAICA AVENUE</td>\n",
       "      <td>NaN</td>\n",
       "      <td>NaN</td>\n",
       "      <td>NaN</td>\n",
       "      <td>NaN</td>\n",
       "      <td>NaN</td>\n",
       "      <td>NaN</td>\n",
       "      <td>NaN</td>\n",
       "      <td>NaN</td>\n",
       "    </tr>\n",
       "  </tbody>\n",
       "</table>\n",
       "<p>5 rows × 44 columns</p>\n",
       "</div>"
      ],
      "text/plain": [
       "    unique_key             created_date agency  \\\n",
       "124   58870961  2023-09-21T01:09:25.000   NYPD   \n",
       "873   58879799  2023-09-20T22:45:55.000   DSNY   \n",
       "29    58872908  2023-09-21T01:56:39.000    DPR   \n",
       "318   58878985  2023-09-21T00:12:21.000   NYPD   \n",
       "31    58881148  2023-09-21T01:54:54.000   DSNY   \n",
       "\n",
       "                            agency_name                 complaint_type  \\\n",
       "124     New York City Police Department               Blocked Driveway   \n",
       "873            Department of Sanitation      Street Sweeping Complaint   \n",
       "29   Department of Parks and Recreation  Root/Sewer/Sidewalk Condition   \n",
       "318     New York City Police Department            Noise - Residential   \n",
       "31             Department of Sanitation          Litter Basket Request   \n",
       "\n",
       "                      descriptor               location_type incident_zip  \\\n",
       "124                    No Access             Street/Sidewalk        11236   \n",
       "873             Street Not Swept                      Street        11237   \n",
       "29   Trees and Sidewalks Program                      Street        11233   \n",
       "318             Loud Music/Party  Residential Building/House        11218   \n",
       "31            Replacement Basket                      Street        11418   \n",
       "\n",
       "            incident_address           street_name  ... intersection_street_2  \\\n",
       "124    1312 EAST   91 STREET      EAST   91 STREET  ...              AVENUE K   \n",
       "873  66 KNICKERBOCKER AVENUE  KNICKERBOCKER AVENUE  ...        GRATTAN STREET   \n",
       "29      1792 EASTERN PARKWAY       EASTERN PARKWAY  ...           DEAN STREET   \n",
       "318      70 EAST    8 STREET      EAST    8 STREET  ...          KERMIT PLACE   \n",
       "31     121-09 JAMAICA AVENUE        JAMAICA AVENUE  ...            122 STREET   \n",
       "\n",
       "                 landmark              closed_date bridge_highway_name  \\\n",
       "124      EAST   91 STREET  2023-09-21T01:30:49.000                 NaN   \n",
       "873  KNICKERBOCKER AVENUE                      NaN                 NaN   \n",
       "29        EASTERN PARKWAY                      NaN                 NaN   \n",
       "318      EAST    8 STREET  2023-09-21T00:57:03.000                 NaN   \n",
       "31         JAMAICA AVENUE                      NaN                 NaN   \n",
       "\n",
       "    bridge_highway_segment bridge_highway_direction facility_type  \\\n",
       "124                    NaN                      NaN           NaN   \n",
       "873                    NaN                      NaN           NaN   \n",
       "29                     NaN                      NaN           NaN   \n",
       "318                    NaN                      NaN           NaN   \n",
       "31                     NaN                      NaN           NaN   \n",
       "\n",
       "    taxi_pick_up_location road_ramp due_date  \n",
       "124                   NaN       NaN      NaN  \n",
       "873                   NaN       NaN      NaN  \n",
       "29                    NaN       NaN      NaN  \n",
       "318                   NaN       NaN      NaN  \n",
       "31                    NaN       NaN      NaN  \n",
       "\n",
       "[5 rows x 44 columns]"
      ]
     },
     "execution_count": 18,
     "metadata": {},
     "output_type": "execute_result"
    }
   ],
   "source": [
    "df.sample(5)"
   ]
  },
  {
   "cell_type": "code",
   "execution_count": 19,
   "id": "8d6a6872-fe1e-43fd-a0fe-fbbdebd1105c",
   "metadata": {},
   "outputs": [
    {
     "data": {
      "text/plain": [
       "location_type\n",
       "Street/Sidewalk                  434\n",
       "Residential Building/House       191\n",
       "RESIDENTIAL BUILDING              71\n",
       "Club/Bar/Restaurant               46\n",
       "Street                            39\n",
       "Store/Commercial                  35\n",
       "Sidewalk                          30\n",
       "Other (Explain Below)             14\n",
       "Subway                            12\n",
       "3+ Family Apt. Building            8\n",
       "Park/Playground                    5\n",
       "Business                           5\n",
       "Vacant Lot                         4\n",
       "1-2 Family Dwelling                3\n",
       "3+ Family Apartment Building       3\n",
       "Commercial Building                2\n",
       "Other                              2\n",
       "Taxi                               2\n",
       "Restaurant/Bar/Deli/Bakery         2\n",
       "Park                               2\n",
       "1-2 Family Mixed Use Building      1\n",
       "Above Address                      1\n",
       "House of Worship                   1\n",
       "Residential                        1\n",
       "Parking Lot/Garage                 1\n",
       "Catch Basin/Sewer                  1\n",
       "Lot                                1\n",
       "Name: count, dtype: int64"
      ]
     },
     "execution_count": 19,
     "metadata": {},
     "output_type": "execute_result"
    }
   ],
   "source": [
    "df['location_type'].value_counts()"
   ]
  },
  {
   "cell_type": "code",
   "execution_count": null,
   "id": "37df96b0-0b1d-410d-ba9b-3817c6d1ca1a",
   "metadata": {},
   "outputs": [],
   "source": [
    "erm2-nwe9.json"
   ]
  }
 ],
 "metadata": {
  "kernelspec": {
   "display_name": "hacktoberfest-2023-project-kKWlZqzn-py3.10",
   "language": "python",
   "name": "hacktoberfest-2023-project-kkwlzqzn-py3.10"
  },
  "language_info": {
   "codemirror_mode": {
    "name": "ipython",
    "version": 3
   },
   "file_extension": ".py",
   "mimetype": "text/x-python",
   "name": "python",
   "nbconvert_exporter": "python",
   "pygments_lexer": "ipython3",
   "version": "3.10.12"
  }
 },
 "nbformat": 4,
 "nbformat_minor": 5
}
