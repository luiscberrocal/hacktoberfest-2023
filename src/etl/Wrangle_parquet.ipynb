{
 "cells": [
  {
   "cell_type": "markdown",
   "id": "749958e5-fa3b-4bbb-8579-46d11dd0d58b",
   "metadata": {},
   "source": [
    "# Wrangling parquet file\n",
    "\n",
    "Trying to figure our why `duckdb` is not loading the dataframe"
   ]
  },
  {
   "cell_type": "code",
   "execution_count": 4,
   "id": "2ca6c2ff-70d6-4fe9-a783-c1f65b6ad33d",
   "metadata": {},
   "outputs": [],
   "source": [
    "import pandas as pd\n",
    "from pathlib import Path"
   ]
  },
  {
   "cell_type": "markdown",
   "id": "934b143b-fc80-49a4-afd3-a7214adc8133",
   "metadata": {},
   "source": [
    "## Configuration"
   ]
  },
  {
   "cell_type": "code",
   "execution_count": 6,
   "id": "7a4a9172-08c8-493e-aebf-55028443352c",
   "metadata": {},
   "outputs": [
    {
     "name": "stdout",
     "output_type": "stream",
     "text": [
      "File: /home/luiscberrocal/PycharmProjects/hactoberfest-2023/src/data/nycitydata.parquet exists: True\n",
      "Data folder: /home/luiscberrocal/PycharmProjects/hactoberfest-2023/src/data exists: True\n"
     ]
    }
   ],
   "source": [
    "data_folder = Path().cwd().parent / 'data'\n",
    "parquet_file = data_folder / 'nycitydata.parquet'\n",
    "\n",
    "\n",
    "print(f'File: {parquet_file} exists: {parquet_file.exists()}')\n",
    "print(f'Data folder: {data_folder} exists: {data_folder.exists()}')"
   ]
  },
  {
   "cell_type": "markdown",
   "id": "eb3fb091-ebcb-43c3-b0e9-b1a5c22e76ab",
   "metadata": {},
   "source": [
    "## Loading data"
   ]
  },
  {
   "cell_type": "code",
   "execution_count": 7,
   "id": "620d4c00-5dd9-4810-9deb-67bd573ba5b3",
   "metadata": {},
   "outputs": [],
   "source": [
    "df = pd.read_parquet(parquet_file)"
   ]
  },
  {
   "cell_type": "code",
   "execution_count": 9,
   "id": "1007bf2d-efee-4a27-99cb-bacc1cd06773",
   "metadata": {},
   "outputs": [
    {
     "data": {
      "text/plain": [
       "(6000, 46)"
      ]
     },
     "execution_count": 9,
     "metadata": {},
     "output_type": "execute_result"
    }
   ],
   "source": [
    "df.shape"
   ]
  },
  {
   "cell_type": "code",
   "execution_count": null,
   "id": "4cc5cf7f-0fdc-4a2e-bc1f-8c25c9636d17",
   "metadata": {},
   "outputs": [],
   "source": []
  }
 ],
 "metadata": {
  "kernelspec": {
   "display_name": "Python 3 (ipykernel)",
   "language": "python",
   "name": "python3"
  },
  "language_info": {
   "codemirror_mode": {
    "name": "ipython",
    "version": 3
   },
   "file_extension": ".py",
   "mimetype": "text/x-python",
   "name": "python",
   "nbconvert_exporter": "python",
   "pygments_lexer": "ipython3",
   "version": "3.8.17"
  }
 },
 "nbformat": 4,
 "nbformat_minor": 5
}
