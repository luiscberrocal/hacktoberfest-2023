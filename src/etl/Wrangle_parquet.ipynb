{
 "cells": [
  {
   "cell_type": "markdown",
   "id": "749958e5-fa3b-4bbb-8579-46d11dd0d58b",
   "metadata": {},
   "source": [
    "# Wrangling parquet file\n",
    "\n",
    "Trying to figure our why `duckdb` is not loading the dataframe"
   ]
  },
  {
   "cell_type": "code",
   "execution_count": 1,
   "id": "2ca6c2ff-70d6-4fe9-a783-c1f65b6ad33d",
   "metadata": {},
   "outputs": [],
   "source": [
    "import pandas as pd\n",
    "from pathlib import Path\n",
    "import duckdb"
   ]
  },
  {
   "cell_type": "markdown",
   "id": "934b143b-fc80-49a4-afd3-a7214adc8133",
   "metadata": {},
   "source": [
    "## Configuration"
   ]
  },
  {
   "cell_type": "code",
   "execution_count": 2,
   "id": "7a4a9172-08c8-493e-aebf-55028443352c",
   "metadata": {},
   "outputs": [
    {
     "name": "stdout",
     "output_type": "stream",
     "text": [
      "File: /home/luiscberrocal/PycharmProjects/hactoberfest-2023/src/data/nycitydata.parquet exists: True\n",
      "Data folder: /home/luiscberrocal/PycharmProjects/hactoberfest-2023/src/data exists: True\n"
     ]
    }
   ],
   "source": [
    "data_folder = Path().cwd().parent / 'data'\n",
    "\n",
    "table = 'nycitydata'\n",
    "parquet_file = data_folder / f'{table}.parquet'\n",
    "duckdb_file = data_folder / f'{table}.duckdb'\n",
    "\n",
    "\n",
    "print(f'File: {parquet_file} exists: {parquet_file.exists()}')\n",
    "print(f'Data folder: {data_folder} exists: {data_folder.exists()}')"
   ]
  },
  {
   "cell_type": "markdown",
   "id": "eb3fb091-ebcb-43c3-b0e9-b1a5c22e76ab",
   "metadata": {},
   "source": [
    "## Loading data"
   ]
  },
  {
   "cell_type": "code",
   "execution_count": 3,
   "id": "620d4c00-5dd9-4810-9deb-67bd573ba5b3",
   "metadata": {},
   "outputs": [],
   "source": [
    "df = pd.read_parquet(parquet_file)"
   ]
  },
  {
   "cell_type": "code",
   "execution_count": 4,
   "id": "1007bf2d-efee-4a27-99cb-bacc1cd06773",
   "metadata": {},
   "outputs": [
    {
     "data": {
      "text/plain": [
       "(6000, 46)"
      ]
     },
     "execution_count": 4,
     "metadata": {},
     "output_type": "execute_result"
    }
   ],
   "source": [
    "df.shape"
   ]
  },
  {
   "cell_type": "markdown",
   "id": "feca2cab-de10-430e-bdcc-3134919cef2d",
   "metadata": {},
   "source": [
    "Fixed issue by add `SET GLOBAL pandas_analyze_sample=100000` to the connect function."
   ]
  },
  {
   "cell_type": "code",
   "execution_count": 11,
   "id": "d9dad318-19ca-473e-bee1-84a5e8544bfe",
   "metadata": {},
   "outputs": [],
   "source": [
    "# duckdb.default_connection.execute(\"SET GLOBAL pandas_analyze_sample=100000\")\n",
    "if duckdb_file.exists():\n",
    "    duckdb_file.unlink()\n",
    "conn = duckdb.connect(str(duckdb_file)).execute(\"SET GLOBAL pandas_analyze_sample=100000\")\n",
    "conn.register('df', df)\n",
    "conn.execute(f\"CREATE TABLE {table} AS SELECT * FROM df\")\n",
    "conn.close()\n",
    "\n"
   ]
  },
  {
   "cell_type": "markdown",
   "id": "6ec2a0d9-c333-482f-8863-a1bc5580081c",
   "metadata": {},
   "source": [
    "## Finding nulls"
   ]
  },
  {
   "cell_type": "code",
   "execution_count": 10,
   "id": "ea7e46da-7f94-4d2a-9395-5c6c163d9f7d",
   "metadata": {},
   "outputs": [
    {
     "name": "stdout",
     "output_type": "stream",
     "text": [
      "<class 'pandas.core.frame.DataFrame'>\n",
      "Index: 6000 entries, 0 to 1999\n",
      "Data columns (total 46 columns):\n",
      " #   Column                          Non-Null Count  Dtype \n",
      "---  ------                          --------------  ----- \n",
      " 0   unique_key                      6000 non-null   object\n",
      " 1   created_date                    6000 non-null   object\n",
      " 2   agency                          6000 non-null   object\n",
      " 3   agency_name                     6000 non-null   object\n",
      " 4   complaint_type                  6000 non-null   object\n",
      " 5   descriptor                      5949 non-null   object\n",
      " 6   location_type                   5478 non-null   object\n",
      " 7   incident_zip                    5912 non-null   object\n",
      " 8   incident_address                5792 non-null   object\n",
      " 9   street_name                     5792 non-null   object\n",
      " 10  cross_street_1                  4687 non-null   object\n",
      " 11  cross_street_2                  4689 non-null   object\n",
      " 12  address_type                    5974 non-null   object\n",
      " 13  city                            5664 non-null   object\n",
      " 14  status                          6000 non-null   object\n",
      " 15  resolution_description          4647 non-null   object\n",
      " 16  resolution_action_updated_date  4751 non-null   object\n",
      " 17  community_board                 6000 non-null   object\n",
      " 18  bbl                             5377 non-null   object\n",
      " 19  borough                         6000 non-null   object\n",
      " 20  x_coordinate_state_plane        5924 non-null   object\n",
      " 21  y_coordinate_state_plane        5924 non-null   object\n",
      " 22  open_data_channel_type          6000 non-null   object\n",
      " 23  park_facility_name              6000 non-null   object\n",
      " 24  park_borough                    6000 non-null   object\n",
      " 25  latitude                        5924 non-null   object\n",
      " 26  longitude                       5924 non-null   object\n",
      " 27  location                        5924 non-null   object\n",
      " 28  :@computed_region_efsh_h5xi     5900 non-null   object\n",
      " 29  :@computed_region_f5dn_yrer     5923 non-null   object\n",
      " 30  :@computed_region_yeji_bk3q     5923 non-null   object\n",
      " 31  :@computed_region_92fq_4b7q     5923 non-null   object\n",
      " 32  :@computed_region_sbqj_enih     5923 non-null   object\n",
      " 33  intersection_street_1           4526 non-null   object\n",
      " 34  intersection_street_2           4530 non-null   object\n",
      " 35  landmark                        4128 non-null   object\n",
      " 36  closed_date                     3419 non-null   object\n",
      " 37  taxi_pick_up_location           63 non-null     object\n",
      " 38  bridge_highway_name             58 non-null     object\n",
      " 39  bridge_highway_direction        32 non-null     object\n",
      " 40  bridge_highway_segment          58 non-null     object\n",
      " 41  facility_type                   363 non-null    object\n",
      " 42  due_date                        42 non-null     object\n",
      " 43  road_ramp                       12 non-null     object\n",
      " 44  taxi_company_borough            4 non-null      object\n",
      " 45  vehicle_type                    2 non-null      object\n",
      "dtypes: object(46)\n",
      "memory usage: 2.2+ MB\n"
     ]
    }
   ],
   "source": [
    "df.info()"
   ]
  },
  {
   "cell_type": "code",
   "execution_count": 9,
   "id": "230f914b-b4ba-407d-bdcb-4976287fddd0",
   "metadata": {},
   "outputs": [
    {
     "data": {
      "text/plain": [
       "unique_key                           0\n",
       "created_date                         0\n",
       "agency                               0\n",
       "agency_name                          0\n",
       "complaint_type                       0\n",
       "descriptor                          51\n",
       "location_type                      522\n",
       "incident_zip                        88\n",
       "incident_address                   208\n",
       "street_name                        208\n",
       "cross_street_1                    1313\n",
       "cross_street_2                    1311\n",
       "address_type                        26\n",
       "city                               336\n",
       "status                               0\n",
       "resolution_description            1353\n",
       "resolution_action_updated_date    1249\n",
       "community_board                      0\n",
       "bbl                                623\n",
       "borough                              0\n",
       "x_coordinate_state_plane            76\n",
       "y_coordinate_state_plane            76\n",
       "open_data_channel_type               0\n",
       "park_facility_name                   0\n",
       "park_borough                         0\n",
       "latitude                            76\n",
       "longitude                           76\n",
       "location                            76\n",
       ":@computed_region_efsh_h5xi        100\n",
       ":@computed_region_f5dn_yrer         77\n",
       ":@computed_region_yeji_bk3q         77\n",
       ":@computed_region_92fq_4b7q         77\n",
       ":@computed_region_sbqj_enih         77\n",
       "intersection_street_1             1474\n",
       "intersection_street_2             1470\n",
       "landmark                          1872\n",
       "closed_date                       2581\n",
       "taxi_pick_up_location             5937\n",
       "bridge_highway_name               5942\n",
       "bridge_highway_direction          5968\n",
       "bridge_highway_segment            5942\n",
       "facility_type                     5637\n",
       "due_date                          5958\n",
       "road_ramp                         5988\n",
       "taxi_company_borough              5996\n",
       "vehicle_type                      5998\n",
       "dtype: int64"
      ]
     },
     "execution_count": 9,
     "metadata": {},
     "output_type": "execute_result"
    }
   ],
   "source": [
    "df.isna().sum()"
   ]
  },
  {
   "cell_type": "code",
   "execution_count": null,
   "id": "1d351c08-389b-4f2b-9355-9302875526c3",
   "metadata": {},
   "outputs": [],
   "source": []
  }
 ],
 "metadata": {
  "kernelspec": {
   "display_name": "hacktoberfest-2023-project-kKWlZqzn-py3.10",
   "language": "python",
   "name": "hacktoberfest-2023-project-kkwlzqzn-py3.10"
  },
  "language_info": {
   "codemirror_mode": {
    "name": "ipython",
    "version": 3
   },
   "file_extension": ".py",
   "mimetype": "text/x-python",
   "name": "python",
   "nbconvert_exporter": "python",
   "pygments_lexer": "ipython3",
   "version": "3.10.12"
  }
 },
 "nbformat": 4,
 "nbformat_minor": 5
}
