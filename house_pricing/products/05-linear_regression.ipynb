{
 "cells": [
  {
   "cell_type": "code",
   "execution_count": 1,
   "id": "328d21fb",
   "metadata": {
    "execution": {
     "iopub.execute_input": "2023-10-17T12:47:54.292210Z",
     "iopub.status.busy": "2023-10-17T12:47:54.291754Z",
     "iopub.status.idle": "2023-10-17T12:47:55.026965Z",
     "shell.execute_reply": "2023-10-17T12:47:55.026518Z"
    },
    "lines_to_next_cell": 2,
    "papermill": {
     "duration": 0.742451,
     "end_time": "2023-10-17T12:47:55.028142",
     "exception": false,
     "start_time": "2023-10-17T12:47:54.285691",
     "status": "completed"
    },
    "tags": []
   },
   "outputs": [],
   "source": [
    "import pickle\n",
    "from pathlib import Path\n",
    "\n",
    "import numpy as np\n",
    "from sklearn.ensemble import RandomForestRegressor\n",
    "from sklearn.metrics import mean_absolute_error as mae\n",
    "from sklearn.metrics import mean_squared_error as mse\n",
    "from sklearn.metrics import r2_score\n",
    "from sklearn.model_selection import train_test_split\n",
    "\n",
    "from src.db import get_dataframe\n",
    "\n",
    "# Add description here\n",
    "#\n",
    "# *Note:* You can open this file as a notebook (JupyterLab: right-click on it in the side bar -> Open With -> Notebook)"
   ]
  },
  {
   "cell_type": "code",
   "execution_count": 2,
   "id": "a82a27f9",
   "metadata": {
    "execution": {
     "iopub.execute_input": "2023-10-17T12:47:55.041009Z",
     "iopub.status.busy": "2023-10-17T12:47:55.040696Z",
     "iopub.status.idle": "2023-10-17T12:47:55.043252Z",
     "shell.execute_reply": "2023-10-17T12:47:55.042862Z"
    },
    "papermill": {
     "duration": 0.014607,
     "end_time": "2023-10-17T12:47:55.044462",
     "exception": false,
     "start_time": "2023-10-17T12:47:55.029855",
     "status": "completed"
    },
    "tags": []
   },
   "outputs": [],
   "source": [
    "# Uncomment the next two lines to enable auto reloading for imported modules\n",
    "# %load_ext autoreload\n",
    "# %autoreload 2\n",
    "# For more info, see:\n",
    "# https://docs.ploomber.io/en/latest/user-guide/faq_index.html#auto-reloading-code-in-jupyter"
   ]
  },
  {
   "cell_type": "code",
   "execution_count": 3,
   "id": "89a1ea1a",
   "metadata": {
    "execution": {
     "iopub.execute_input": "2023-10-17T12:47:55.048139Z",
     "iopub.status.busy": "2023-10-17T12:47:55.047948Z",
     "iopub.status.idle": "2023-10-17T12:47:55.050446Z",
     "shell.execute_reply": "2023-10-17T12:47:55.050087Z"
    },
    "papermill": {
     "duration": 0.005322,
     "end_time": "2023-10-17T12:47:55.051343",
     "exception": false,
     "start_time": "2023-10-17T12:47:55.046021",
     "status": "completed"
    },
    "tags": [
     "parameters"
    ]
   },
   "outputs": [],
   "source": [
    "# If this task has dependencies, list them them here\n",
    "# (e.g. upstream = ['some_task']), otherwise leave as None.\n",
    "upstream = ['s01_get']\n",
    "\n",
    "# This is a placeholder, leave it as None\n",
    "product = None\n",
    "transformed_table_name = None"
   ]
  },
  {
   "cell_type": "code",
   "execution_count": 4,
   "id": "6ae774e3",
   "metadata": {
    "execution": {
     "iopub.execute_input": "2023-10-17T12:47:55.054688Z",
     "iopub.status.busy": "2023-10-17T12:47:55.054505Z",
     "iopub.status.idle": "2023-10-17T12:47:55.057231Z",
     "shell.execute_reply": "2023-10-17T12:47:55.056841Z"
    },
    "papermill": {
     "duration": 0.005518,
     "end_time": "2023-10-17T12:47:55.058097",
     "exception": false,
     "start_time": "2023-10-17T12:47:55.052579",
     "status": "completed"
    },
    "tags": [
     "injected-parameters"
    ]
   },
   "outputs": [],
   "source": [
    "# Parameters\n",
    "transformed_table_name = \"house_prices_transformed\"\n",
    "upstream = {\"s01_get\": {\"nb\": \"/home/luiscberrocal/PycharmProjects/hacktoberfest-2023/house_pricing/products/01-extract-pipeline.ipynb\", \"csv_file\": \"/home/luiscberrocal/PycharmProjects/hacktoberfest-2023/house_pricing/data/house_prices_raw.csv\", \"database\": \"/home/luiscberrocal/PycharmProjects/hacktoberfest-2023/house_pricing/data/house_prices.duckdb\"}}\n",
    "product = {\"nb\": \"/home/luiscberrocal/PycharmProjects/hacktoberfest-2023/house_pricing/products/05-linear_regression.ipynb\", \"model_file\": \"/home/luiscberrocal/PycharmProjects/hacktoberfest-2023/house_pricing/data/regression_model.pickle\"}\n"
   ]
  },
  {
   "cell_type": "code",
   "execution_count": 5,
   "id": "f5289975",
   "metadata": {
    "execution": {
     "iopub.execute_input": "2023-10-17T12:47:55.061352Z",
     "iopub.status.busy": "2023-10-17T12:47:55.061199Z",
     "iopub.status.idle": "2023-10-17T12:47:55.063486Z",
     "shell.execute_reply": "2023-10-17T12:47:55.063094Z"
    },
    "papermill": {
     "duration": 0.005046,
     "end_time": "2023-10-17T12:47:55.064398",
     "exception": false,
     "start_time": "2023-10-17T12:47:55.059352",
     "status": "completed"
    },
    "tags": []
   },
   "outputs": [],
   "source": [
    "# your code here..."
   ]
  },
  {
   "cell_type": "code",
   "execution_count": 6,
   "id": "237d60e4",
   "metadata": {
    "execution": {
     "iopub.execute_input": "2023-10-17T12:47:55.067677Z",
     "iopub.status.busy": "2023-10-17T12:47:55.067502Z",
     "iopub.status.idle": "2023-10-17T12:47:55.084392Z",
     "shell.execute_reply": "2023-10-17T12:47:55.084032Z"
    },
    "papermill": {
     "duration": 0.019761,
     "end_time": "2023-10-17T12:47:55.085424",
     "exception": false,
     "start_time": "2023-10-17T12:47:55.065663",
     "status": "completed"
    },
    "tags": []
   },
   "outputs": [
    {
     "data": {
      "text/plain": [
       "(20640, 14)"
      ]
     },
     "execution_count": 6,
     "metadata": {},
     "output_type": "execute_result"
    }
   ],
   "source": [
    "\n",
    "db_file = upstream['s01_get']['database']\n",
    "df = get_dataframe(duckdb_file=db_file, table_name=transformed_table_name)\n",
    "\n",
    "df.shape"
   ]
  },
  {
   "cell_type": "code",
   "execution_count": 7,
   "id": "b855194e",
   "metadata": {
    "execution": {
     "iopub.execute_input": "2023-10-17T12:47:55.089229Z",
     "iopub.status.busy": "2023-10-17T12:47:55.089068Z",
     "iopub.status.idle": "2023-10-17T12:47:55.092709Z",
     "shell.execute_reply": "2023-10-17T12:47:55.092336Z"
    },
    "papermill": {
     "duration": 0.006518,
     "end_time": "2023-10-17T12:47:55.093566",
     "exception": false,
     "start_time": "2023-10-17T12:47:55.087048",
     "status": "completed"
    },
    "tags": []
   },
   "outputs": [],
   "source": [
    "X = df.drop(['median_house_value'], axis=1)\n",
    "y = df['median_house_value']"
   ]
  },
  {
   "cell_type": "code",
   "execution_count": 8,
   "id": "6d347981",
   "metadata": {
    "execution": {
     "iopub.execute_input": "2023-10-17T12:47:55.097154Z",
     "iopub.status.busy": "2023-10-17T12:47:55.096995Z",
     "iopub.status.idle": "2023-10-17T12:47:55.102073Z",
     "shell.execute_reply": "2023-10-17T12:47:55.101665Z"
    },
    "papermill": {
     "duration": 0.007892,
     "end_time": "2023-10-17T12:47:55.102954",
     "exception": false,
     "start_time": "2023-10-17T12:47:55.095062",
     "status": "completed"
    },
    "tags": []
   },
   "outputs": [],
   "source": [
    "X_train, X_test, y_train, y_test = train_test_split(X, y, test_size=0.2)"
   ]
  },
  {
   "cell_type": "code",
   "execution_count": 9,
   "id": "785446bb",
   "metadata": {
    "execution": {
     "iopub.execute_input": "2023-10-17T12:47:55.106840Z",
     "iopub.status.busy": "2023-10-17T12:47:55.106651Z",
     "iopub.status.idle": "2023-10-17T12:47:56.164198Z",
     "shell.execute_reply": "2023-10-17T12:47:56.163761Z"
    },
    "papermill": {
     "duration": 1.060946,
     "end_time": "2023-10-17T12:47:56.165485",
     "exception": false,
     "start_time": "2023-10-17T12:47:55.104539",
     "status": "completed"
    },
    "tags": []
   },
   "outputs": [
    {
     "data": {
      "text/html": [
       "<style>#sk-container-id-1 {color: black;}#sk-container-id-1 pre{padding: 0;}#sk-container-id-1 div.sk-toggleable {background-color: white;}#sk-container-id-1 label.sk-toggleable__label {cursor: pointer;display: block;width: 100%;margin-bottom: 0;padding: 0.3em;box-sizing: border-box;text-align: center;}#sk-container-id-1 label.sk-toggleable__label-arrow:before {content: \"▸\";float: left;margin-right: 0.25em;color: #696969;}#sk-container-id-1 label.sk-toggleable__label-arrow:hover:before {color: black;}#sk-container-id-1 div.sk-estimator:hover label.sk-toggleable__label-arrow:before {color: black;}#sk-container-id-1 div.sk-toggleable__content {max-height: 0;max-width: 0;overflow: hidden;text-align: left;background-color: #f0f8ff;}#sk-container-id-1 div.sk-toggleable__content pre {margin: 0.2em;color: black;border-radius: 0.25em;background-color: #f0f8ff;}#sk-container-id-1 input.sk-toggleable__control:checked~div.sk-toggleable__content {max-height: 200px;max-width: 100%;overflow: auto;}#sk-container-id-1 input.sk-toggleable__control:checked~label.sk-toggleable__label-arrow:before {content: \"▾\";}#sk-container-id-1 div.sk-estimator input.sk-toggleable__control:checked~label.sk-toggleable__label {background-color: #d4ebff;}#sk-container-id-1 div.sk-label input.sk-toggleable__control:checked~label.sk-toggleable__label {background-color: #d4ebff;}#sk-container-id-1 input.sk-hidden--visually {border: 0;clip: rect(1px 1px 1px 1px);clip: rect(1px, 1px, 1px, 1px);height: 1px;margin: -1px;overflow: hidden;padding: 0;position: absolute;width: 1px;}#sk-container-id-1 div.sk-estimator {font-family: monospace;background-color: #f0f8ff;border: 1px dotted black;border-radius: 0.25em;box-sizing: border-box;margin-bottom: 0.5em;}#sk-container-id-1 div.sk-estimator:hover {background-color: #d4ebff;}#sk-container-id-1 div.sk-parallel-item::after {content: \"\";width: 100%;border-bottom: 1px solid gray;flex-grow: 1;}#sk-container-id-1 div.sk-label:hover label.sk-toggleable__label {background-color: #d4ebff;}#sk-container-id-1 div.sk-serial::before {content: \"\";position: absolute;border-left: 1px solid gray;box-sizing: border-box;top: 0;bottom: 0;left: 50%;z-index: 0;}#sk-container-id-1 div.sk-serial {display: flex;flex-direction: column;align-items: center;background-color: white;padding-right: 0.2em;padding-left: 0.2em;position: relative;}#sk-container-id-1 div.sk-item {position: relative;z-index: 1;}#sk-container-id-1 div.sk-parallel {display: flex;align-items: stretch;justify-content: center;background-color: white;position: relative;}#sk-container-id-1 div.sk-item::before, #sk-container-id-1 div.sk-parallel-item::before {content: \"\";position: absolute;border-left: 1px solid gray;box-sizing: border-box;top: 0;bottom: 0;left: 50%;z-index: -1;}#sk-container-id-1 div.sk-parallel-item {display: flex;flex-direction: column;z-index: 1;position: relative;background-color: white;}#sk-container-id-1 div.sk-parallel-item:first-child::after {align-self: flex-end;width: 50%;}#sk-container-id-1 div.sk-parallel-item:last-child::after {align-self: flex-start;width: 50%;}#sk-container-id-1 div.sk-parallel-item:only-child::after {width: 0;}#sk-container-id-1 div.sk-dashed-wrapped {border: 1px dashed gray;margin: 0 0.4em 0.5em 0.4em;box-sizing: border-box;padding-bottom: 0.4em;background-color: white;}#sk-container-id-1 div.sk-label label {font-family: monospace;font-weight: bold;display: inline-block;line-height: 1.2em;}#sk-container-id-1 div.sk-label-container {text-align: center;}#sk-container-id-1 div.sk-container {/* jupyter's `normalize.less` sets `[hidden] { display: none; }` but bootstrap.min.css set `[hidden] { display: none !important; }` so we also need the `!important` here to be able to override the default hidden behavior on the sphinx rendered scikit-learn.org. See: https://github.com/scikit-learn/scikit-learn/issues/21755 */display: inline-block !important;position: relative;}#sk-container-id-1 div.sk-text-repr-fallback {display: none;}</style><div id=\"sk-container-id-1\" class=\"sk-top-container\"><div class=\"sk-text-repr-fallback\"><pre>RandomForestRegressor(n_estimators=30)</pre><b>In a Jupyter environment, please rerun this cell to show the HTML representation or trust the notebook. <br />On GitHub, the HTML representation is unable to render, please try loading this page with nbviewer.org.</b></div><div class=\"sk-container\" hidden><div class=\"sk-item\"><div class=\"sk-estimator sk-toggleable\"><input class=\"sk-toggleable__control sk-hidden--visually\" id=\"sk-estimator-id-1\" type=\"checkbox\" checked><label for=\"sk-estimator-id-1\" class=\"sk-toggleable__label sk-toggleable__label-arrow\">RandomForestRegressor</label><div class=\"sk-toggleable__content\"><pre>RandomForestRegressor(n_estimators=30)</pre></div></div></div></div></div>"
      ],
      "text/plain": [
       "RandomForestRegressor(n_estimators=30)"
      ]
     },
     "execution_count": 9,
     "metadata": {},
     "output_type": "execute_result"
    }
   ],
   "source": [
    "rfr_model = RandomForestRegressor(n_estimators = 30)\n",
    "\n",
    "rfr_model.fit(X_test, y_test)"
   ]
  },
  {
   "cell_type": "code",
   "execution_count": 10,
   "id": "92866c36",
   "metadata": {
    "execution": {
     "iopub.execute_input": "2023-10-17T12:47:56.170051Z",
     "iopub.status.busy": "2023-10-17T12:47:56.169795Z",
     "iopub.status.idle": "2023-10-17T12:47:56.189206Z",
     "shell.execute_reply": "2023-10-17T12:47:56.188636Z"
    },
    "papermill": {
     "duration": 0.022921,
     "end_time": "2023-10-17T12:47:56.190393",
     "exception": false,
     "start_time": "2023-10-17T12:47:56.167472",
     "status": "completed"
    },
    "tags": []
   },
   "outputs": [],
   "source": [
    "y_pred_rfr = rfr_model.predict(X_test)"
   ]
  },
  {
   "cell_type": "code",
   "execution_count": 11,
   "id": "e70ed95b",
   "metadata": {
    "execution": {
     "iopub.execute_input": "2023-10-17T12:47:56.194586Z",
     "iopub.status.busy": "2023-10-17T12:47:56.194406Z",
     "iopub.status.idle": "2023-10-17T12:47:56.199776Z",
     "shell.execute_reply": "2023-10-17T12:47:56.199297Z"
    },
    "papermill": {
     "duration": 0.008786,
     "end_time": "2023-10-17T12:47:56.200771",
     "exception": false,
     "start_time": "2023-10-17T12:47:56.191985",
     "status": "completed"
    },
    "tags": []
   },
   "outputs": [
    {
     "name": "stdout",
     "output_type": "stream",
     "text": [
      "RMSE: 20,767.05\n",
      "MAE: 13,511.65\n",
      "R2 : 0.97\n"
     ]
    }
   ],
   "source": [
    "mse_rfr = mse(y_test,y_pred_rfr)\n",
    "mae_rfr = mae(y_test,y_pred_rfr)\n",
    "r2_rfr = r2_score(y_test,y_pred_rfr)\n",
    "\n",
    "print(f'RMSE: {np.sqrt(mse_rfr):,.2f}')\n",
    "print(f'MAE: {mae_rfr:,.2f}')\n",
    "print(f'R2 : {r2_rfr:,.2f}')"
   ]
  },
  {
   "cell_type": "code",
   "execution_count": 12,
   "id": "c86ff69e",
   "metadata": {
    "execution": {
     "iopub.execute_input": "2023-10-17T12:47:56.204937Z",
     "iopub.status.busy": "2023-10-17T12:47:56.204762Z",
     "iopub.status.idle": "2023-10-17T12:47:56.207789Z",
     "shell.execute_reply": "2023-10-17T12:47:56.207388Z"
    },
    "papermill": {
     "duration": 0.00601,
     "end_time": "2023-10-17T12:47:56.208569",
     "exception": false,
     "start_time": "2023-10-17T12:47:56.202559",
     "status": "completed"
    },
    "tags": []
   },
   "outputs": [
    {
     "name": "stdout",
     "output_type": "stream",
     "text": [
      "Model file: /home/luiscberrocal/PycharmProjects/hacktoberfest-2023/house_pricing/data/regression_model.pickle exists: True\n"
     ]
    }
   ],
   "source": [
    "model_file = Path(product['model_file'])\n",
    "with open(model_file, 'wb') as f:\n",
    "    pickle.dump(product['model_file'], f)\n",
    "\n",
    "print(f'Model file: {model_file} exists: {model_file.exists()}')"
   ]
  }
 ],
 "metadata": {
  "jupytext": {
   "text_representation": {
    "extension": ".py",
    "format_name": "percent"
   }
  },
  "kernelspec": {
   "display_name": "Python 3 (ipykernel)",
   "language": "python",
   "name": "python3"
  },
  "language_info": {
   "codemirror_mode": {
    "name": "ipython",
    "version": 3
   },
   "file_extension": ".py",
   "mimetype": "text/x-python",
   "name": "python",
   "nbconvert_exporter": "python",
   "pygments_lexer": "ipython3",
   "version": "3.10.12"
  },
  "papermill": {
   "duration": 2.792865,
   "end_time": "2023-10-17T12:47:56.529415",
   "exception": null,
   "input_path": "/tmp/tmpx971gzql.ipynb",
   "output_path": "/home/luiscberrocal/PycharmProjects/hacktoberfest-2023/house_pricing/products/05-linear_regression.ipynb",
   "parameters": {
    "product": {
     "model_file": "/home/luiscberrocal/PycharmProjects/hacktoberfest-2023/house_pricing/data/regression_model.pickle",
     "nb": "/home/luiscberrocal/PycharmProjects/hacktoberfest-2023/house_pricing/products/05-linear_regression.ipynb"
    },
    "transformed_table_name": "house_prices_transformed",
    "upstream": {
     "s01_get": {
      "csv_file": "/home/luiscberrocal/PycharmProjects/hacktoberfest-2023/house_pricing/data/house_prices_raw.csv",
      "database": "/home/luiscberrocal/PycharmProjects/hacktoberfest-2023/house_pricing/data/house_prices.duckdb",
      "nb": "/home/luiscberrocal/PycharmProjects/hacktoberfest-2023/house_pricing/products/01-extract-pipeline.ipynb"
     }
    }
   },
   "start_time": "2023-10-17T12:47:53.736550"
  }
 },
 "nbformat": 4,
 "nbformat_minor": 5
}