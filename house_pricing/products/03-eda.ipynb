{
 "cells": [
  {
   "cell_type": "markdown",
   "id": "d40b4f1b",
   "metadata": {
    "tags": [
     "papermill-error-cell-tag"
    ]
   },
   "source": [
    "<span style=\"color:red; font-family:Helvetica Neue, Helvetica, Arial, sans-serif; font-size:2em;\">An Exception was encountered at '<a href=\"#papermill-error-cell\">In [5]</a>'.</span>"
   ]
  },
  {
   "cell_type": "code",
   "execution_count": 1,
   "id": "5432b898",
   "metadata": {
    "execution": {
     "iopub.execute_input": "2023-10-14T12:37:13.193163Z",
     "iopub.status.busy": "2023-10-14T12:37:13.192926Z",
     "iopub.status.idle": "2023-10-14T12:37:14.094624Z",
     "shell.execute_reply": "2023-10-14T12:37:14.094134Z"
    },
    "lines_to_next_cell": 2,
    "papermill": {
     "duration": 0.90527,
     "end_time": "2023-10-14T12:37:14.095871",
     "exception": false,
     "start_time": "2023-10-14T12:37:13.190601",
     "status": "completed"
    },
    "tags": []
   },
   "outputs": [],
   "source": [
    "import seaborn as sns\n",
    "import matplotlib.pyplot as plt\n",
    "from src.db import get_dataframe\n",
    "import pandas as pd\n",
    "# Add description here\n",
    "#\n",
    "# *Note:* You can open this file as a notebook (JupyterLab: right-click on it in the side bar -> Open With -> Notebook)"
   ]
  },
  {
   "cell_type": "code",
   "execution_count": 2,
   "id": "6f056182",
   "metadata": {
    "execution": {
     "iopub.execute_input": "2023-10-14T12:37:14.108428Z",
     "iopub.status.busy": "2023-10-14T12:37:14.108065Z",
     "iopub.status.idle": "2023-10-14T12:37:14.110453Z",
     "shell.execute_reply": "2023-10-14T12:37:14.110087Z"
    },
    "papermill": {
     "duration": 0.013942,
     "end_time": "2023-10-14T12:37:14.111365",
     "exception": false,
     "start_time": "2023-10-14T12:37:14.097423",
     "status": "completed"
    },
    "tags": []
   },
   "outputs": [],
   "source": [
    "# Uncomment the next two lines to enable auto reloading for imported modules\n",
    "# %load_ext autoreload\n",
    "# %autoreload 2\n",
    "# For more info, see:\n",
    "# https://docs.ploomber.io/en/latest/user-guide/faq_index.html#auto-reloading-code-in-jupyter"
   ]
  },
  {
   "cell_type": "code",
   "execution_count": 3,
   "id": "b2019d6e",
   "metadata": {
    "execution": {
     "iopub.execute_input": "2023-10-14T12:37:14.115473Z",
     "iopub.status.busy": "2023-10-14T12:37:14.115128Z",
     "iopub.status.idle": "2023-10-14T12:37:14.118540Z",
     "shell.execute_reply": "2023-10-14T12:37:14.118032Z"
    },
    "papermill": {
     "duration": 0.007171,
     "end_time": "2023-10-14T12:37:14.119986",
     "exception": false,
     "start_time": "2023-10-14T12:37:14.112815",
     "status": "completed"
    },
    "tags": [
     "parameters"
    ]
   },
   "outputs": [],
   "source": [
    "# If this task has dependencies, list them them here\n",
    "# (e.g. upstream = ['some_task']), otherwise leave as None.\n",
    "upstream = ['s01_get']\n",
    "\n",
    "# This is a placeholder, leave it as None\n",
    "product = None\n",
    "table_name = None"
   ]
  },
  {
   "cell_type": "code",
   "execution_count": 4,
   "id": "4136d6ac",
   "metadata": {
    "execution": {
     "iopub.execute_input": "2023-10-14T12:37:14.123519Z",
     "iopub.status.busy": "2023-10-14T12:37:14.123298Z",
     "iopub.status.idle": "2023-10-14T12:37:14.125924Z",
     "shell.execute_reply": "2023-10-14T12:37:14.125523Z"
    },
    "papermill": {
     "duration": 0.005433,
     "end_time": "2023-10-14T12:37:14.126893",
     "exception": false,
     "start_time": "2023-10-14T12:37:14.121460",
     "status": "completed"
    },
    "tags": [
     "injected-parameters"
    ]
   },
   "outputs": [],
   "source": [
    "# Parameters\n",
    "upstream = {\"s01_get\": {\"nb\": \"/home/luiscberrocal/PycharmProjects/hacktoberfest-2023/house_pricing/products/01-extract-pipeline.ipynb\", \"csv_file\": \"/home/luiscberrocal/PycharmProjects/hacktoberfest-2023/house_pricing/data/house_prices_raw.csv\", \"database\": \"/home/luiscberrocal/PycharmProjects/hacktoberfest-2023/house_pricing/data/house_prices.duckdb\"}}\n",
    "product = {\"nb\": \"/home/luiscberrocal/PycharmProjects/hacktoberfest-2023/house_pricing/products/03-eda.ipynb\"}\n"
   ]
  },
  {
   "cell_type": "code",
   "execution_count": null,
   "id": "477197b6",
   "metadata": {
    "papermill": {
     "duration": 0.001529,
     "end_time": "2023-10-14T12:37:14.130056",
     "exception": false,
     "start_time": "2023-10-14T12:37:14.128527",
     "status": "completed"
    },
    "tags": []
   },
   "outputs": [],
   "source": []
  },
  {
   "cell_type": "markdown",
   "id": "11ce8b9d",
   "metadata": {
    "tags": [
     "papermill-error-cell-tag"
    ]
   },
   "source": [
    "<span id=\"papermill-error-cell\" style=\"color:red; font-family:Helvetica Neue, Helvetica, Arial, sans-serif; font-size:2em;\">Execution using papermill encountered an exception here and stopped:</span>"
   ]
  },
  {
   "cell_type": "code",
   "execution_count": 5,
   "id": "3fcb12b7",
   "metadata": {
    "execution": {
     "iopub.execute_input": "2023-10-14T12:37:14.133992Z",
     "iopub.status.busy": "2023-10-14T12:37:14.133677Z",
     "iopub.status.idle": "2023-10-14T12:37:14.423161Z",
     "shell.execute_reply": "2023-10-14T12:37:14.422432Z"
    },
    "papermill": {
     "duration": 0.292568,
     "end_time": "2023-10-14T12:37:14.424143",
     "exception": true,
     "start_time": "2023-10-14T12:37:14.131575",
     "status": "failed"
    },
    "tags": []
   },
   "outputs": [
    {
     "ename": "CatalogException",
     "evalue": "Catalog Error: Table with name None does not exist!\nDid you mean \"temp.information_schema.columns\"?",
     "output_type": "error",
     "traceback": [
      "\u001b[0;31m---------------------------------------------------------------------------\u001b[0m",
      "\u001b[0;31mCatalogException\u001b[0m                          Traceback (most recent call last)",
      "Cell \u001b[0;32mIn[5], line 2\u001b[0m\n\u001b[1;32m      1\u001b[0m db_file \u001b[38;5;241m=\u001b[39m upstream[\u001b[38;5;124m'\u001b[39m\u001b[38;5;124ms01_get\u001b[39m\u001b[38;5;124m'\u001b[39m][\u001b[38;5;124m'\u001b[39m\u001b[38;5;124mdatabase\u001b[39m\u001b[38;5;124m'\u001b[39m]\n\u001b[0;32m----> 2\u001b[0m df \u001b[38;5;241m=\u001b[39m \u001b[43mget_dataframe\u001b[49m\u001b[43m(\u001b[49m\u001b[43mduckdb_file\u001b[49m\u001b[38;5;241;43m=\u001b[39;49m\u001b[43mdb_file\u001b[49m\u001b[43m,\u001b[49m\u001b[43m \u001b[49m\u001b[43mtable_name\u001b[49m\u001b[38;5;241;43m=\u001b[39;49m\u001b[43mtable_name\u001b[49m\u001b[43m)\u001b[49m\n",
      "File \u001b[0;32m~/PycharmProjects/hacktoberfest-2023/src/db.py:17\u001b[0m, in \u001b[0;36mget_dataframe\u001b[0;34m(duckdb_file, table_name)\u001b[0m\n\u001b[1;32m     15\u001b[0m \u001b[38;5;28;01mdef\u001b[39;00m \u001b[38;5;21mget_dataframe\u001b[39m(duckdb_file: Path, table_name: \u001b[38;5;28mstr\u001b[39m) \u001b[38;5;241m-\u001b[39m\u001b[38;5;241m>\u001b[39m pd\u001b[38;5;241m.\u001b[39mDataFrame:\n\u001b[1;32m     16\u001b[0m     conn \u001b[38;5;241m=\u001b[39m duckdb\u001b[38;5;241m.\u001b[39mconnect(\u001b[38;5;28mstr\u001b[39m(duckdb_file))\n\u001b[0;32m---> 17\u001b[0m     df \u001b[38;5;241m=\u001b[39m \u001b[43mconn\u001b[49m\u001b[38;5;241;43m.\u001b[39;49m\u001b[43mquery\u001b[49m\u001b[43m(\u001b[49m\u001b[38;5;124;43mf\u001b[39;49m\u001b[38;5;124;43m'\u001b[39;49m\u001b[38;5;124;43mSELECT * FROM \u001b[39;49m\u001b[38;5;132;43;01m{\u001b[39;49;00m\u001b[43mtable_name\u001b[49m\u001b[38;5;132;43;01m}\u001b[39;49;00m\u001b[38;5;124;43m;\u001b[39;49m\u001b[38;5;124;43m'\u001b[39;49m\u001b[43m)\u001b[49m\u001b[38;5;241m.\u001b[39mto_df()\n\u001b[1;32m     18\u001b[0m     conn\u001b[38;5;241m.\u001b[39mclose()\n\u001b[1;32m     19\u001b[0m     \u001b[38;5;28;01mreturn\u001b[39;00m df\n",
      "\u001b[0;31mCatalogException\u001b[0m: Catalog Error: Table with name None does not exist!\nDid you mean \"temp.information_schema.columns\"?"
     ]
    }
   ],
   "source": [
    "db_file = upstream['s01_get']['database']\n",
    "df = get_dataframe(duckdb_file=db_file, table_name=table_name)"
   ]
  },
  {
   "cell_type": "code",
   "execution_count": null,
   "id": "d118fb1b",
   "metadata": {
    "papermill": {
     "duration": null,
     "end_time": null,
     "exception": null,
     "start_time": null,
     "status": "pending"
    },
    "tags": []
   },
   "outputs": [],
   "source": [
    "df.hist(figsize=(12, 9))\n",
    "plt.tight_layout()\n",
    "plt.show()"
   ]
  },
  {
   "cell_type": "code",
   "execution_count": null,
   "id": "99ca067e",
   "metadata": {
    "papermill": {
     "duration": null,
     "end_time": null,
     "exception": null,
     "start_time": null,
     "status": "pending"
    },
    "tags": []
   },
   "outputs": [],
   "source": [
    "df.plot(kind='box', subplots=True, layout=(4,4), figsize=(15,8))\n",
    "plt.title('Box-plot of Features')\n",
    "plt.show()"
   ]
  },
  {
   "cell_type": "code",
   "execution_count": null,
   "id": "351cc869",
   "metadata": {
    "papermill": {
     "duration": null,
     "end_time": null,
     "exception": null,
     "start_time": null,
     "status": "pending"
    },
    "tags": []
   },
   "outputs": [],
   "source": [
    "from sklearn.model_selection import train_test_split\n",
    "X = df.drop(['median_house_value'], axis=1)\n",
    "y = df['median_house_value']"
   ]
  },
  {
   "cell_type": "code",
   "execution_count": null,
   "id": "e1699d44",
   "metadata": {
    "papermill": {
     "duration": null,
     "end_time": null,
     "exception": null,
     "start_time": null,
     "status": "pending"
    },
    "tags": []
   },
   "outputs": [],
   "source": [
    "# --Variance Inflation Factor\n",
    "from statsmodels.stats.outliers_influence import variance_inflation_factor\n",
    "\n",
    "vif_df = pd.DataFrame()\n",
    "vif_x = X.copy()\n",
    "vif_df[\"feature\"] = vif_x.columns\n",
    "vif_df[\"VIF\"] = [variance_inflation_factor(vif_x.values, i)\n",
    "                 for i in range(len(vif_x.columns))]\n",
    "\n",
    "vif_df.head(10)"
   ]
  }
 ],
 "metadata": {
  "jupytext": {
   "text_representation": {
    "extension": ".py",
    "format_name": "percent"
   }
  },
  "kernelspec": {
   "display_name": "Python 3 (ipykernel)",
   "language": "python",
   "name": "python3"
  },
  "language_info": {
   "codemirror_mode": {
    "name": "ipython",
    "version": 3
   },
   "file_extension": ".py",
   "mimetype": "text/x-python",
   "name": "python",
   "nbconvert_exporter": "python",
   "pygments_lexer": "ipython3",
   "version": "3.10.12"
  },
  "papermill": {
   "duration": 2.222972,
   "end_time": "2023-10-14T12:37:14.741745",
   "exception": true,
   "input_path": "/tmp/tmpmv6k9dl0.ipynb",
   "output_path": "/home/luiscberrocal/PycharmProjects/hacktoberfest-2023/house_pricing/products/03-eda.ipynb",
   "parameters": {
    "product": {
     "nb": "/home/luiscberrocal/PycharmProjects/hacktoberfest-2023/house_pricing/products/03-eda.ipynb"
    },
    "upstream": {
     "s01_get": {
      "csv_file": "/home/luiscberrocal/PycharmProjects/hacktoberfest-2023/house_pricing/data/house_prices_raw.csv",
      "database": "/home/luiscberrocal/PycharmProjects/hacktoberfest-2023/house_pricing/data/house_prices.duckdb",
      "nb": "/home/luiscberrocal/PycharmProjects/hacktoberfest-2023/house_pricing/products/01-extract-pipeline.ipynb"
     }
    }
   },
   "start_time": "2023-10-14T12:37:12.518773"
  }
 },
 "nbformat": 4,
 "nbformat_minor": 5
}