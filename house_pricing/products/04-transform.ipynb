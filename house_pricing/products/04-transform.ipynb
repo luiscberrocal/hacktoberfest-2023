{
 "cells": [
  {
   "cell_type": "code",
   "execution_count": 1,
   "id": "645ba7dc",
   "metadata": {
    "execution": {
     "iopub.execute_input": "2023-10-14T12:46:36.079395Z",
     "iopub.status.busy": "2023-10-14T12:46:36.079168Z",
     "iopub.status.idle": "2023-10-14T12:46:36.431048Z",
     "shell.execute_reply": "2023-10-14T12:46:36.430550Z"
    },
    "lines_to_next_cell": 2,
    "papermill": {
     "duration": 0.355697,
     "end_time": "2023-10-14T12:46:36.432646",
     "exception": false,
     "start_time": "2023-10-14T12:46:36.076949",
     "status": "completed"
    },
    "tags": []
   },
   "outputs": [],
   "source": [
    "from src.db import get_dataframe, save_to_duckdb\n",
    "\n",
    "# Add description here\n",
    "#\n",
    "# *Note:* You can open this file as a notebook (JupyterLab: right-click on it in the side bar -> Open With -> Notebook)"
   ]
  },
  {
   "cell_type": "code",
   "execution_count": 2,
   "id": "eda6f3c5",
   "metadata": {
    "execution": {
     "iopub.execute_input": "2023-10-14T12:46:36.445665Z",
     "iopub.status.busy": "2023-10-14T12:46:36.445325Z",
     "iopub.status.idle": "2023-10-14T12:46:36.447865Z",
     "shell.execute_reply": "2023-10-14T12:46:36.447456Z"
    },
    "papermill": {
     "duration": 0.014918,
     "end_time": "2023-10-14T12:46:36.449318",
     "exception": false,
     "start_time": "2023-10-14T12:46:36.434400",
     "status": "completed"
    },
    "tags": []
   },
   "outputs": [],
   "source": [
    "# Uncomment the next two lines to enable auto reloading for imported modules\n",
    "# %load_ext autoreload\n",
    "# %autoreload 2\n",
    "# For more info, see:\n",
    "# https://docs.ploomber.io/en/latest/user-guide/faq_index.html#auto-reloading-code-in-jupyter"
   ]
  },
  {
   "cell_type": "code",
   "execution_count": 3,
   "id": "5291d805",
   "metadata": {
    "execution": {
     "iopub.execute_input": "2023-10-14T12:46:36.454607Z",
     "iopub.status.busy": "2023-10-14T12:46:36.454392Z",
     "iopub.status.idle": "2023-10-14T12:46:36.457277Z",
     "shell.execute_reply": "2023-10-14T12:46:36.456882Z"
    },
    "papermill": {
     "duration": 0.006844,
     "end_time": "2023-10-14T12:46:36.458440",
     "exception": false,
     "start_time": "2023-10-14T12:46:36.451596",
     "status": "completed"
    },
    "tags": [
     "parameters"
    ]
   },
   "outputs": [],
   "source": [
    "# If this task has dependencies, list them them here\n",
    "# (e.g. upstream = ['some_task']), otherwise leave as None.\n",
    "upstream = ['s01_get']\n",
    "\n",
    "# This is a placeholder, leave it as None\n",
    "product = None\n",
    "table_name = None\n",
    "transformed_table_name = None"
   ]
  },
  {
   "cell_type": "code",
   "execution_count": 4,
   "id": "dd072ebb",
   "metadata": {
    "execution": {
     "iopub.execute_input": "2023-10-14T12:46:36.462246Z",
     "iopub.status.busy": "2023-10-14T12:46:36.462008Z",
     "iopub.status.idle": "2023-10-14T12:46:36.465135Z",
     "shell.execute_reply": "2023-10-14T12:46:36.464648Z"
    },
    "papermill": {
     "duration": 0.006254,
     "end_time": "2023-10-14T12:46:36.466099",
     "exception": false,
     "start_time": "2023-10-14T12:46:36.459845",
     "status": "completed"
    },
    "tags": [
     "injected-parameters"
    ]
   },
   "outputs": [],
   "source": [
    "# Parameters\n",
    "table_name = \"house_prices\"\n",
    "transformed_table_name = \"house_prices_transformed\"\n",
    "upstream = {\"s01_get\": {\"nb\": \"/home/luiscberrocal/PycharmProjects/hacktoberfest-2023/house_pricing/products/01-extract-pipeline.ipynb\", \"csv_file\": \"/home/luiscberrocal/PycharmProjects/hacktoberfest-2023/house_pricing/data/house_prices_raw.csv\", \"database\": \"/home/luiscberrocal/PycharmProjects/hacktoberfest-2023/house_pricing/data/house_prices.duckdb\"}}\n",
    "product = {\"nb\": \"/home/luiscberrocal/PycharmProjects/hacktoberfest-2023/house_pricing/products/04-transform.ipynb\"}\n"
   ]
  },
  {
   "cell_type": "code",
   "execution_count": 5,
   "id": "5d0b63a3",
   "metadata": {
    "execution": {
     "iopub.execute_input": "2023-10-14T12:46:36.469626Z",
     "iopub.status.busy": "2023-10-14T12:46:36.469385Z",
     "iopub.status.idle": "2023-10-14T12:46:36.485350Z",
     "shell.execute_reply": "2023-10-14T12:46:36.484916Z"
    },
    "papermill": {
     "duration": 0.019038,
     "end_time": "2023-10-14T12:46:36.486527",
     "exception": false,
     "start_time": "2023-10-14T12:46:36.467489",
     "status": "completed"
    },
    "tags": []
   },
   "outputs": [],
   "source": [
    "# your code here...\n",
    "db_file = upstream['s01_get']['database']\n",
    "df = get_dataframe(duckdb_file=db_file, table_name=table_name)"
   ]
  },
  {
   "cell_type": "code",
   "execution_count": 6,
   "id": "bba1c8f7",
   "metadata": {
    "execution": {
     "iopub.execute_input": "2023-10-14T12:46:36.489819Z",
     "iopub.status.busy": "2023-10-14T12:46:36.489575Z",
     "iopub.status.idle": "2023-10-14T12:46:36.791324Z",
     "shell.execute_reply": "2023-10-14T12:46:36.790752Z"
    },
    "lines_to_next_cell": 2,
    "papermill": {
     "duration": 0.304776,
     "end_time": "2023-10-14T12:46:36.792571",
     "exception": false,
     "start_time": "2023-10-14T12:46:36.487795",
     "status": "completed"
    },
    "tags": []
   },
   "outputs": [],
   "source": [
    "from sklearn.preprocessing import StandardScaler\n",
    "\n",
    "features =  df.columns # [\"col1\", \"col2\", \"col3\", \"col4\"]\n",
    "autoscaler = StandardScaler()\n",
    "df[features] = autoscaler.fit_transform(df[features])"
   ]
  },
  {
   "cell_type": "code",
   "execution_count": 7,
   "id": "ef597fc7",
   "metadata": {
    "execution": {
     "iopub.execute_input": "2023-10-14T12:46:36.805255Z",
     "iopub.status.busy": "2023-10-14T12:46:36.804919Z",
     "iopub.status.idle": "2023-10-14T12:46:36.860553Z",
     "shell.execute_reply": "2023-10-14T12:46:36.860060Z"
    },
    "lines_to_next_cell": 2,
    "papermill": {
     "duration": 0.068154,
     "end_time": "2023-10-14T12:46:36.862382",
     "exception": false,
     "start_time": "2023-10-14T12:46:36.794228",
     "status": "completed"
    },
    "tags": []
   },
   "outputs": [],
   "source": [
    "save_to_duckdb(df=df, table_name=transformed_table_name, db_path=upstream['s01_get']['database'])"
   ]
  },
  {
   "cell_type": "code",
   "execution_count": 8,
   "id": "847d9f52",
   "metadata": {
    "execution": {
     "iopub.execute_input": "2023-10-14T12:46:36.867880Z",
     "iopub.status.busy": "2023-10-14T12:46:36.867642Z",
     "iopub.status.idle": "2023-10-14T12:46:36.889656Z",
     "shell.execute_reply": "2023-10-14T12:46:36.889239Z"
    },
    "papermill": {
     "duration": 0.026625,
     "end_time": "2023-10-14T12:46:36.891370",
     "exception": false,
     "start_time": "2023-10-14T12:46:36.864745",
     "status": "completed"
    },
    "tags": []
   },
   "outputs": [],
   "source": [
    "import duckdb\n",
    "\n",
    "conn = duckdb.connect(upstream['s01_get']['database'])\n",
    "conn.sql('SHOW TABLES;')\n",
    "conn.close()"
   ]
  }
 ],
 "metadata": {
  "jupytext": {
   "text_representation": {
    "extension": ".py",
    "format_name": "percent"
   }
  },
  "kernelspec": {
   "display_name": "Python 3 (ipykernel)",
   "language": "python",
   "name": "python3"
  },
  "language_info": {
   "codemirror_mode": {
    "name": "ipython",
    "version": 3
   },
   "file_extension": ".py",
   "mimetype": "text/x-python",
   "name": "python",
   "nbconvert_exporter": "python",
   "pygments_lexer": "ipython3",
   "version": "3.10.12"
  },
  "papermill": {
   "duration": 1.902614,
   "end_time": "2023-10-14T12:46:37.209894",
   "exception": null,
   "input_path": "/tmp/tmpvvk5x6g6.ipynb",
   "output_path": "/home/luiscberrocal/PycharmProjects/hacktoberfest-2023/house_pricing/products/04-transform.ipynb",
   "parameters": {
    "product": {
     "nb": "/home/luiscberrocal/PycharmProjects/hacktoberfest-2023/house_pricing/products/04-transform.ipynb"
    },
    "table_name": "house_prices",
    "transformed_table_name": "house_prices_transformed",
    "upstream": {
     "s01_get": {
      "csv_file": "/home/luiscberrocal/PycharmProjects/hacktoberfest-2023/house_pricing/data/house_prices_raw.csv",
      "database": "/home/luiscberrocal/PycharmProjects/hacktoberfest-2023/house_pricing/data/house_prices.duckdb",
      "nb": "/home/luiscberrocal/PycharmProjects/hacktoberfest-2023/house_pricing/products/01-extract-pipeline.ipynb"
     }
    }
   },
   "start_time": "2023-10-14T12:46:35.307280"
  }
 },
 "nbformat": 4,
 "nbformat_minor": 5
}