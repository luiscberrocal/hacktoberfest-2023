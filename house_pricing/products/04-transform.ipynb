{
 "cells": [
  {
   "cell_type": "code",
   "execution_count": 1,
   "id": "a03f737b",
   "metadata": {
    "execution": {
     "iopub.execute_input": "2023-10-17T12:17:42.666168Z",
     "iopub.status.busy": "2023-10-17T12:17:42.665512Z",
     "iopub.status.idle": "2023-10-17T12:17:43.144030Z",
     "shell.execute_reply": "2023-10-17T12:17:43.143242Z"
    },
    "lines_to_next_cell": 2,
    "papermill": {
     "duration": 0.485719,
     "end_time": "2023-10-17T12:17:43.145837",
     "exception": false,
     "start_time": "2023-10-17T12:17:42.660118",
     "status": "completed"
    },
    "tags": []
   },
   "outputs": [],
   "source": [
    "from src.db import get_dataframe, save_to_duckdb\n",
    "\n",
    "# Add description here\n",
    "#\n",
    "# *Note:* You can open this file as a notebook (JupyterLab: right-click on it in the side bar -> Open With -> Notebook)"
   ]
  },
  {
   "cell_type": "code",
   "execution_count": 2,
   "id": "8a10d861",
   "metadata": {
    "execution": {
     "iopub.execute_input": "2023-10-17T12:17:43.160179Z",
     "iopub.status.busy": "2023-10-17T12:17:43.159834Z",
     "iopub.status.idle": "2023-10-17T12:17:43.163608Z",
     "shell.execute_reply": "2023-10-17T12:17:43.162594Z"
    },
    "papermill": {
     "duration": 0.016468,
     "end_time": "2023-10-17T12:17:43.165613",
     "exception": false,
     "start_time": "2023-10-17T12:17:43.149145",
     "status": "completed"
    },
    "tags": []
   },
   "outputs": [],
   "source": [
    "# Uncomment the next two lines to enable auto reloading for imported modules\n",
    "# %load_ext autoreload\n",
    "# %autoreload 2\n",
    "# For more info, see:\n",
    "# https://docs.ploomber.io/en/latest/user-guide/faq_index.html#auto-reloading-code-in-jupyter"
   ]
  },
  {
   "cell_type": "code",
   "execution_count": 3,
   "id": "2cbad4f8",
   "metadata": {
    "execution": {
     "iopub.execute_input": "2023-10-17T12:17:43.172185Z",
     "iopub.status.busy": "2023-10-17T12:17:43.171871Z",
     "iopub.status.idle": "2023-10-17T12:17:43.175551Z",
     "shell.execute_reply": "2023-10-17T12:17:43.174838Z"
    },
    "papermill": {
     "duration": 0.008344,
     "end_time": "2023-10-17T12:17:43.176740",
     "exception": false,
     "start_time": "2023-10-17T12:17:43.168396",
     "status": "completed"
    },
    "tags": [
     "parameters"
    ]
   },
   "outputs": [],
   "source": [
    "# If this task has dependencies, list them them here\n",
    "# (e.g. upstream = ['some_task']), otherwise leave as None.\n",
    "upstream = ['s01_get']\n",
    "\n",
    "# This is a placeholder, leave it as None\n",
    "product = None\n",
    "table_name = None\n",
    "transformed_table_name = None"
   ]
  },
  {
   "cell_type": "code",
   "execution_count": 4,
   "id": "9015e4a4",
   "metadata": {
    "execution": {
     "iopub.execute_input": "2023-10-17T12:17:43.182526Z",
     "iopub.status.busy": "2023-10-17T12:17:43.182123Z",
     "iopub.status.idle": "2023-10-17T12:17:43.187468Z",
     "shell.execute_reply": "2023-10-17T12:17:43.186686Z"
    },
    "papermill": {
     "duration": 0.010036,
     "end_time": "2023-10-17T12:17:43.188766",
     "exception": false,
     "start_time": "2023-10-17T12:17:43.178730",
     "status": "completed"
    },
    "tags": [
     "injected-parameters"
    ]
   },
   "outputs": [],
   "source": [
    "# Parameters\n",
    "table_name = \"house_prices\"\n",
    "transformed_table_name = \"house_prices_transformed\"\n",
    "upstream = {\"s01_get\": {\"nb\": \"/home/luiscberrocal/PycharmProjects/hacktoberfest-2023/house_pricing/products/01-extract-pipeline.ipynb\", \"csv_file\": \"/home/luiscberrocal/PycharmProjects/hacktoberfest-2023/house_pricing/data/house_prices_raw.csv\", \"database\": \"/home/luiscberrocal/PycharmProjects/hacktoberfest-2023/house_pricing/data/house_prices.duckdb\"}}\n",
    "product = {\"nb\": \"/home/luiscberrocal/PycharmProjects/hacktoberfest-2023/house_pricing/products/04-transform.ipynb\"}\n"
   ]
  },
  {
   "cell_type": "code",
   "execution_count": 5,
   "id": "98788984",
   "metadata": {
    "execution": {
     "iopub.execute_input": "2023-10-17T12:17:43.193895Z",
     "iopub.status.busy": "2023-10-17T12:17:43.193468Z",
     "iopub.status.idle": "2023-10-17T12:17:43.211795Z",
     "shell.execute_reply": "2023-10-17T12:17:43.211235Z"
    },
    "lines_to_next_cell": 0,
    "papermill": {
     "duration": 0.023007,
     "end_time": "2023-10-17T12:17:43.213847",
     "exception": false,
     "start_time": "2023-10-17T12:17:43.190840",
     "status": "completed"
    },
    "tags": []
   },
   "outputs": [],
   "source": [
    "# your code here...\n",
    "db_file = upstream['s01_get']['database']\n",
    "df = get_dataframe(duckdb_file=db_file, table_name=table_name)"
   ]
  },
  {
   "cell_type": "code",
   "execution_count": 6,
   "id": "c424a05e",
   "metadata": {
    "execution": {
     "iopub.execute_input": "2023-10-17T12:17:43.220729Z",
     "iopub.status.busy": "2023-10-17T12:17:43.220372Z",
     "iopub.status.idle": "2023-10-17T12:17:43.225938Z",
     "shell.execute_reply": "2023-10-17T12:17:43.225418Z"
    },
    "papermill": {
     "duration": 0.010695,
     "end_time": "2023-10-17T12:17:43.227527",
     "exception": false,
     "start_time": "2023-10-17T12:17:43.216832",
     "status": "completed"
    },
    "tags": []
   },
   "outputs": [
    {
     "data": {
      "text/plain": [
       "(20640, 14)"
      ]
     },
     "execution_count": 6,
     "metadata": {},
     "output_type": "execute_result"
    }
   ],
   "source": [
    "df.shape"
   ]
  },
  {
   "cell_type": "code",
   "execution_count": 7,
   "id": "4c6bac55",
   "metadata": {
    "execution": {
     "iopub.execute_input": "2023-10-17T12:17:43.234915Z",
     "iopub.status.busy": "2023-10-17T12:17:43.234528Z",
     "iopub.status.idle": "2023-10-17T12:17:43.239505Z",
     "shell.execute_reply": "2023-10-17T12:17:43.238881Z"
    },
    "papermill": {
     "duration": 0.01041,
     "end_time": "2023-10-17T12:17:43.241027",
     "exception": false,
     "start_time": "2023-10-17T12:17:43.230617",
     "status": "completed"
    },
    "tags": []
   },
   "outputs": [],
   "source": [
    "X = df.drop(['median_house_value'], axis=1)\n",
    "y = df['median_house_value']"
   ]
  },
  {
   "cell_type": "code",
   "execution_count": 8,
   "id": "8b23bd0c",
   "metadata": {
    "execution": {
     "iopub.execute_input": "2023-10-17T12:17:43.248748Z",
     "iopub.status.busy": "2023-10-17T12:17:43.248358Z",
     "iopub.status.idle": "2023-10-17T12:17:43.606581Z",
     "shell.execute_reply": "2023-10-17T12:17:43.606061Z"
    },
    "papermill": {
     "duration": 0.363962,
     "end_time": "2023-10-17T12:17:43.607803",
     "exception": false,
     "start_time": "2023-10-17T12:17:43.243841",
     "status": "completed"
    },
    "tags": []
   },
   "outputs": [],
   "source": [
    "from sklearn.preprocessing import StandardScaler\n",
    "\n",
    "features = X.columns  # [\"col1\", \"col2\", \"col3\", \"col4\"]\n",
    "autoscaler = StandardScaler()\n",
    "X[features] = autoscaler.fit_transform(X[features])"
   ]
  },
  {
   "cell_type": "code",
   "execution_count": 9,
   "id": "eb1ea97b",
   "metadata": {
    "execution": {
     "iopub.execute_input": "2023-10-17T12:17:43.621858Z",
     "iopub.status.busy": "2023-10-17T12:17:43.620715Z",
     "iopub.status.idle": "2023-10-17T12:17:43.629262Z",
     "shell.execute_reply": "2023-10-17T12:17:43.628319Z"
    },
    "lines_to_next_cell": 0,
    "papermill": {
     "duration": 0.021538,
     "end_time": "2023-10-17T12:17:43.631514",
     "exception": false,
     "start_time": "2023-10-17T12:17:43.609976",
     "status": "completed"
    },
    "tags": []
   },
   "outputs": [],
   "source": [
    "X = X.join(y)"
   ]
  },
  {
   "cell_type": "code",
   "execution_count": 10,
   "id": "5d42ff27",
   "metadata": {
    "execution": {
     "iopub.execute_input": "2023-10-17T12:17:43.639204Z",
     "iopub.status.busy": "2023-10-17T12:17:43.638837Z",
     "iopub.status.idle": "2023-10-17T12:17:43.643840Z",
     "shell.execute_reply": "2023-10-17T12:17:43.643320Z"
    },
    "papermill": {
     "duration": 0.010002,
     "end_time": "2023-10-17T12:17:43.645451",
     "exception": false,
     "start_time": "2023-10-17T12:17:43.635449",
     "status": "completed"
    },
    "tags": []
   },
   "outputs": [
    {
     "data": {
      "text/plain": [
       "(20640, 14)"
      ]
     },
     "execution_count": 10,
     "metadata": {},
     "output_type": "execute_result"
    }
   ],
   "source": [
    "X.shape"
   ]
  },
  {
   "cell_type": "code",
   "execution_count": 11,
   "id": "2879e33b",
   "metadata": {
    "execution": {
     "iopub.execute_input": "2023-10-17T12:17:43.655651Z",
     "iopub.status.busy": "2023-10-17T12:17:43.655326Z",
     "iopub.status.idle": "2023-10-17T12:17:43.702332Z",
     "shell.execute_reply": "2023-10-17T12:17:43.701561Z"
    },
    "papermill": {
     "duration": 0.053784,
     "end_time": "2023-10-17T12:17:43.703775",
     "exception": false,
     "start_time": "2023-10-17T12:17:43.649991",
     "status": "completed"
    },
    "tags": []
   },
   "outputs": [
    {
     "data": {
      "text/html": [
       "<div>\n",
       "<style scoped>\n",
       "    .dataframe tbody tr th:only-of-type {\n",
       "        vertical-align: middle;\n",
       "    }\n",
       "\n",
       "    .dataframe tbody tr th {\n",
       "        vertical-align: top;\n",
       "    }\n",
       "\n",
       "    .dataframe thead th {\n",
       "        text-align: right;\n",
       "    }\n",
       "</style>\n",
       "<table border=\"1\" class=\"dataframe\">\n",
       "  <thead>\n",
       "    <tr style=\"text-align: right;\">\n",
       "      <th></th>\n",
       "      <th>median_income</th>\n",
       "      <th>median_age</th>\n",
       "      <th>tot_rooms</th>\n",
       "      <th>tot_bedrooms</th>\n",
       "      <th>population</th>\n",
       "      <th>households</th>\n",
       "      <th>latitude</th>\n",
       "      <th>longitude</th>\n",
       "      <th>distance_to_coast</th>\n",
       "      <th>distance_to_la</th>\n",
       "      <th>distance_to_sandiego</th>\n",
       "      <th>distance_to_sanjose</th>\n",
       "      <th>distance_to_sanfrancisco</th>\n",
       "      <th>median_house_value</th>\n",
       "    </tr>\n",
       "  </thead>\n",
       "  <tbody>\n",
       "    <tr>\n",
       "      <th>count</th>\n",
       "      <td>2.064000e+04</td>\n",
       "      <td>2.064000e+04</td>\n",
       "      <td>2.064000e+04</td>\n",
       "      <td>2.064000e+04</td>\n",
       "      <td>2.064000e+04</td>\n",
       "      <td>2.064000e+04</td>\n",
       "      <td>2.064000e+04</td>\n",
       "      <td>2.064000e+04</td>\n",
       "      <td>2.064000e+04</td>\n",
       "      <td>2.064000e+04</td>\n",
       "      <td>2.064000e+04</td>\n",
       "      <td>2.064000e+04</td>\n",
       "      <td>2.064000e+04</td>\n",
       "      <td>20640.000000</td>\n",
       "    </tr>\n",
       "    <tr>\n",
       "      <th>mean</th>\n",
       "      <td>6.609700e-17</td>\n",
       "      <td>5.508083e-18</td>\n",
       "      <td>3.201573e-17</td>\n",
       "      <td>3.304850e-17</td>\n",
       "      <td>-1.101617e-17</td>\n",
       "      <td>6.885104e-17</td>\n",
       "      <td>-1.079584e-15</td>\n",
       "      <td>-8.526513e-15</td>\n",
       "      <td>2.203233e-17</td>\n",
       "      <td>2.203233e-17</td>\n",
       "      <td>4.406467e-17</td>\n",
       "      <td>3.525173e-16</td>\n",
       "      <td>8.812933e-17</td>\n",
       "      <td>206855.816909</td>\n",
       "    </tr>\n",
       "    <tr>\n",
       "      <th>std</th>\n",
       "      <td>1.000024e+00</td>\n",
       "      <td>1.000024e+00</td>\n",
       "      <td>1.000024e+00</td>\n",
       "      <td>1.000024e+00</td>\n",
       "      <td>1.000024e+00</td>\n",
       "      <td>1.000024e+00</td>\n",
       "      <td>1.000024e+00</td>\n",
       "      <td>1.000024e+00</td>\n",
       "      <td>1.000024e+00</td>\n",
       "      <td>1.000024e+00</td>\n",
       "      <td>1.000024e+00</td>\n",
       "      <td>1.000024e+00</td>\n",
       "      <td>1.000024e+00</td>\n",
       "      <td>115395.615874</td>\n",
       "    </tr>\n",
       "    <tr>\n",
       "      <th>min</th>\n",
       "      <td>-1.774299e+00</td>\n",
       "      <td>-2.196180e+00</td>\n",
       "      <td>-1.207283e+00</td>\n",
       "      <td>-1.274573e+00</td>\n",
       "      <td>-1.256123e+00</td>\n",
       "      <td>-1.303984e+00</td>\n",
       "      <td>-1.447568e+00</td>\n",
       "      <td>-2.385992e+00</td>\n",
       "      <td>-8.219279e-01</td>\n",
       "      <td>-1.085881e+00</td>\n",
       "      <td>-1.374184e+00</td>\n",
       "      <td>-1.605465e+00</td>\n",
       "      <td>-1.544212e+00</td>\n",
       "      <td>14999.000000</td>\n",
       "    </tr>\n",
       "    <tr>\n",
       "      <th>25%</th>\n",
       "      <td>-6.881186e-01</td>\n",
       "      <td>-8.453931e-01</td>\n",
       "      <td>-5.445698e-01</td>\n",
       "      <td>-5.766293e-01</td>\n",
       "      <td>-5.638089e-01</td>\n",
       "      <td>-5.742294e-01</td>\n",
       "      <td>-7.967887e-01</td>\n",
       "      <td>-1.113209e+00</td>\n",
       "      <td>-6.396061e-01</td>\n",
       "      <td>-9.579548e-01</td>\n",
       "      <td>-8.249615e-01</td>\n",
       "      <td>-1.087145e+00</td>\n",
       "      <td>-1.076672e+00</td>\n",
       "      <td>119600.000000</td>\n",
       "    </tr>\n",
       "    <tr>\n",
       "      <th>50%</th>\n",
       "      <td>-1.767951e-01</td>\n",
       "      <td>2.864572e-02</td>\n",
       "      <td>-2.332104e-01</td>\n",
       "      <td>-2.442754e-01</td>\n",
       "      <td>-2.291318e-01</td>\n",
       "      <td>-2.368162e-01</td>\n",
       "      <td>-6.422871e-01</td>\n",
       "      <td>5.389137e-01</td>\n",
       "      <td>-4.067504e-01</td>\n",
       "      <td>-3.865333e-01</td>\n",
       "      <td>-6.338258e-01</td>\n",
       "      <td>5.092059e-01</td>\n",
       "      <td>5.591732e-01</td>\n",
       "      <td>179700.000000</td>\n",
       "    </tr>\n",
       "    <tr>\n",
       "      <th>75%</th>\n",
       "      <td>4.593063e-01</td>\n",
       "      <td>6.643103e-01</td>\n",
       "      <td>2.348028e-01</td>\n",
       "      <td>2.590034e-01</td>\n",
       "      <td>2.644949e-01</td>\n",
       "      <td>2.758427e-01</td>\n",
       "      <td>9.729566e-01</td>\n",
       "      <td>7.784964e-01</td>\n",
       "      <td>1.896900e-01</td>\n",
       "      <td>1.040399e+00</td>\n",
       "      <td>1.063018e+00</td>\n",
       "      <td>7.725678e-01</td>\n",
       "      <td>7.910869e-01</td>\n",
       "      <td>264725.000000</td>\n",
       "    </tr>\n",
       "    <tr>\n",
       "      <th>max</th>\n",
       "      <td>5.858286e+00</td>\n",
       "      <td>1.856182e+00</td>\n",
       "      <td>1.681558e+01</td>\n",
       "      <td>1.402320e+01</td>\n",
       "      <td>3.025033e+01</td>\n",
       "      <td>1.460152e+01</td>\n",
       "      <td>2.958068e+00</td>\n",
       "      <td>2.625280e+00</td>\n",
       "      <td>5.968708e+00</td>\n",
       "      <td>3.022843e+00</td>\n",
       "      <td>2.760097e+00</td>\n",
       "      <td>2.245394e+00</td>\n",
       "      <td>2.066797e+00</td>\n",
       "      <td>500001.000000</td>\n",
       "    </tr>\n",
       "  </tbody>\n",
       "</table>\n",
       "</div>"
      ],
      "text/plain": [
       "       median_income    median_age     tot_rooms  tot_bedrooms    population  \\\n",
       "count   2.064000e+04  2.064000e+04  2.064000e+04  2.064000e+04  2.064000e+04   \n",
       "mean    6.609700e-17  5.508083e-18  3.201573e-17  3.304850e-17 -1.101617e-17   \n",
       "std     1.000024e+00  1.000024e+00  1.000024e+00  1.000024e+00  1.000024e+00   \n",
       "min    -1.774299e+00 -2.196180e+00 -1.207283e+00 -1.274573e+00 -1.256123e+00   \n",
       "25%    -6.881186e-01 -8.453931e-01 -5.445698e-01 -5.766293e-01 -5.638089e-01   \n",
       "50%    -1.767951e-01  2.864572e-02 -2.332104e-01 -2.442754e-01 -2.291318e-01   \n",
       "75%     4.593063e-01  6.643103e-01  2.348028e-01  2.590034e-01  2.644949e-01   \n",
       "max     5.858286e+00  1.856182e+00  1.681558e+01  1.402320e+01  3.025033e+01   \n",
       "\n",
       "         households      latitude     longitude  distance_to_coast  \\\n",
       "count  2.064000e+04  2.064000e+04  2.064000e+04       2.064000e+04   \n",
       "mean   6.885104e-17 -1.079584e-15 -8.526513e-15       2.203233e-17   \n",
       "std    1.000024e+00  1.000024e+00  1.000024e+00       1.000024e+00   \n",
       "min   -1.303984e+00 -1.447568e+00 -2.385992e+00      -8.219279e-01   \n",
       "25%   -5.742294e-01 -7.967887e-01 -1.113209e+00      -6.396061e-01   \n",
       "50%   -2.368162e-01 -6.422871e-01  5.389137e-01      -4.067504e-01   \n",
       "75%    2.758427e-01  9.729566e-01  7.784964e-01       1.896900e-01   \n",
       "max    1.460152e+01  2.958068e+00  2.625280e+00       5.968708e+00   \n",
       "\n",
       "       distance_to_la  distance_to_sandiego  distance_to_sanjose  \\\n",
       "count    2.064000e+04          2.064000e+04         2.064000e+04   \n",
       "mean     2.203233e-17          4.406467e-17         3.525173e-16   \n",
       "std      1.000024e+00          1.000024e+00         1.000024e+00   \n",
       "min     -1.085881e+00         -1.374184e+00        -1.605465e+00   \n",
       "25%     -9.579548e-01         -8.249615e-01        -1.087145e+00   \n",
       "50%     -3.865333e-01         -6.338258e-01         5.092059e-01   \n",
       "75%      1.040399e+00          1.063018e+00         7.725678e-01   \n",
       "max      3.022843e+00          2.760097e+00         2.245394e+00   \n",
       "\n",
       "       distance_to_sanfrancisco  median_house_value  \n",
       "count              2.064000e+04        20640.000000  \n",
       "mean               8.812933e-17       206855.816909  \n",
       "std                1.000024e+00       115395.615874  \n",
       "min               -1.544212e+00        14999.000000  \n",
       "25%               -1.076672e+00       119600.000000  \n",
       "50%                5.591732e-01       179700.000000  \n",
       "75%                7.910869e-01       264725.000000  \n",
       "max                2.066797e+00       500001.000000  "
      ]
     },
     "execution_count": 11,
     "metadata": {},
     "output_type": "execute_result"
    }
   ],
   "source": [
    "X.describe()"
   ]
  },
  {
   "cell_type": "code",
   "execution_count": 12,
   "id": "6a76ab54",
   "metadata": {
    "execution": {
     "iopub.execute_input": "2023-10-17T12:17:43.710359Z",
     "iopub.status.busy": "2023-10-17T12:17:43.710068Z",
     "iopub.status.idle": "2023-10-17T12:17:43.769161Z",
     "shell.execute_reply": "2023-10-17T12:17:43.768508Z"
    },
    "lines_to_next_cell": 2,
    "papermill": {
     "duration": 0.063809,
     "end_time": "2023-10-17T12:17:43.770655",
     "exception": false,
     "start_time": "2023-10-17T12:17:43.706846",
     "status": "completed"
    },
    "tags": []
   },
   "outputs": [],
   "source": [
    "save_to_duckdb(df=X, table_name=transformed_table_name, db_path=upstream['s01_get']['database'])"
   ]
  },
  {
   "cell_type": "code",
   "execution_count": 13,
   "id": "442fe3fa",
   "metadata": {
    "execution": {
     "iopub.execute_input": "2023-10-17T12:17:43.776655Z",
     "iopub.status.busy": "2023-10-17T12:17:43.776372Z",
     "iopub.status.idle": "2023-10-17T12:17:43.802735Z",
     "shell.execute_reply": "2023-10-17T12:17:43.802164Z"
    },
    "papermill": {
     "duration": 0.030879,
     "end_time": "2023-10-17T12:17:43.804187",
     "exception": false,
     "start_time": "2023-10-17T12:17:43.773308",
     "status": "completed"
    },
    "tags": []
   },
   "outputs": [],
   "source": [
    "import duckdb\n",
    "\n",
    "conn = duckdb.connect(upstream['s01_get']['database'])\n",
    "conn.sql('SHOW TABLES;')\n",
    "conn.close()"
   ]
  }
 ],
 "metadata": {
  "jupytext": {
   "text_representation": {
    "extension": ".py",
    "format_name": "percent"
   }
  },
  "kernelspec": {
   "display_name": "Python 3 (ipykernel)",
   "language": "python",
   "name": "python3"
  },
  "language_info": {
   "codemirror_mode": {
    "name": "ipython",
    "version": 3
   },
   "file_extension": ".py",
   "mimetype": "text/x-python",
   "name": "python",
   "nbconvert_exporter": "python",
   "pygments_lexer": "ipython3",
   "version": "3.10.12"
  },
  "papermill": {
   "duration": 2.344802,
   "end_time": "2023-10-17T12:17:44.122871",
   "exception": null,
   "input_path": "/tmp/tmpmtqq4ufa.ipynb",
   "output_path": "/home/luiscberrocal/PycharmProjects/hacktoberfest-2023/house_pricing/products/04-transform.ipynb",
   "parameters": {
    "product": {
     "nb": "/home/luiscberrocal/PycharmProjects/hacktoberfest-2023/house_pricing/products/04-transform.ipynb"
    },
    "table_name": "house_prices",
    "transformed_table_name": "house_prices_transformed",
    "upstream": {
     "s01_get": {
      "csv_file": "/home/luiscberrocal/PycharmProjects/hacktoberfest-2023/house_pricing/data/house_prices_raw.csv",
      "database": "/home/luiscberrocal/PycharmProjects/hacktoberfest-2023/house_pricing/data/house_prices.duckdb",
      "nb": "/home/luiscberrocal/PycharmProjects/hacktoberfest-2023/house_pricing/products/01-extract-pipeline.ipynb"
     }
    }
   },
   "start_time": "2023-10-17T12:17:41.778069"
  }
 },
 "nbformat": 4,
 "nbformat_minor": 5
}