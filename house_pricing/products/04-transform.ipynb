{
 "cells": [
  {
   "cell_type": "markdown",
   "id": "34c605b0",
   "metadata": {
    "tags": [
     "papermill-error-cell-tag"
    ]
   },
   "source": [
    "<span style=\"color:red; font-family:Helvetica Neue, Helvetica, Arial, sans-serif; font-size:2em;\">An Exception was encountered at '<a href=\"#papermill-error-cell\">In [7]</a>'.</span>"
   ]
  },
  {
   "cell_type": "code",
   "execution_count": 1,
   "id": "a87226b6",
   "metadata": {
    "execution": {
     "iopub.execute_input": "2023-10-14T12:37:15.651469Z",
     "iopub.status.busy": "2023-10-14T12:37:15.651205Z",
     "iopub.status.idle": "2023-10-14T12:37:15.995930Z",
     "shell.execute_reply": "2023-10-14T12:37:15.995293Z"
    },
    "lines_to_next_cell": 2,
    "papermill": {
     "duration": 0.348341,
     "end_time": "2023-10-14T12:37:15.997337",
     "exception": false,
     "start_time": "2023-10-14T12:37:15.648996",
     "status": "completed"
    },
    "tags": []
   },
   "outputs": [],
   "source": [
    "from src.db import get_dataframe, save_to_duckdb\n",
    "\n",
    "# Add description here\n",
    "#\n",
    "# *Note:* You can open this file as a notebook (JupyterLab: right-click on it in the side bar -> Open With -> Notebook)"
   ]
  },
  {
   "cell_type": "code",
   "execution_count": 2,
   "id": "2f158298",
   "metadata": {
    "execution": {
     "iopub.execute_input": "2023-10-14T12:37:16.009965Z",
     "iopub.status.busy": "2023-10-14T12:37:16.009651Z",
     "iopub.status.idle": "2023-10-14T12:37:16.012417Z",
     "shell.execute_reply": "2023-10-14T12:37:16.011883Z"
    },
    "papermill": {
     "duration": 0.014691,
     "end_time": "2023-10-14T12:37:16.013615",
     "exception": false,
     "start_time": "2023-10-14T12:37:15.998924",
     "status": "completed"
    },
    "tags": []
   },
   "outputs": [],
   "source": [
    "# Uncomment the next two lines to enable auto reloading for imported modules\n",
    "# %load_ext autoreload\n",
    "# %autoreload 2\n",
    "# For more info, see:\n",
    "# https://docs.ploomber.io/en/latest/user-guide/faq_index.html#auto-reloading-code-in-jupyter"
   ]
  },
  {
   "cell_type": "code",
   "execution_count": 3,
   "id": "a55fe8a3",
   "metadata": {
    "execution": {
     "iopub.execute_input": "2023-10-14T12:37:16.017219Z",
     "iopub.status.busy": "2023-10-14T12:37:16.016939Z",
     "iopub.status.idle": "2023-10-14T12:37:16.020209Z",
     "shell.execute_reply": "2023-10-14T12:37:16.019677Z"
    },
    "papermill": {
     "duration": 0.006352,
     "end_time": "2023-10-14T12:37:16.021315",
     "exception": false,
     "start_time": "2023-10-14T12:37:16.014963",
     "status": "completed"
    },
    "tags": [
     "parameters"
    ]
   },
   "outputs": [],
   "source": [
    "# If this task has dependencies, list them them here\n",
    "# (e.g. upstream = ['some_task']), otherwise leave as None.\n",
    "upstream = ['s01_get']\n",
    "\n",
    "# This is a placeholder, leave it as None\n",
    "product = None\n",
    "table_name = None\n",
    "transformed_table_name = None"
   ]
  },
  {
   "cell_type": "code",
   "execution_count": 4,
   "id": "ab108374",
   "metadata": {
    "execution": {
     "iopub.execute_input": "2023-10-14T12:37:16.024635Z",
     "iopub.status.busy": "2023-10-14T12:37:16.024368Z",
     "iopub.status.idle": "2023-10-14T12:37:16.027429Z",
     "shell.execute_reply": "2023-10-14T12:37:16.026894Z"
    },
    "papermill": {
     "duration": 0.005951,
     "end_time": "2023-10-14T12:37:16.028494",
     "exception": false,
     "start_time": "2023-10-14T12:37:16.022543",
     "status": "completed"
    },
    "tags": [
     "injected-parameters"
    ]
   },
   "outputs": [],
   "source": [
    "# Parameters\n",
    "table_name = \"house_prices\"\n",
    "transformed_table_name = \"house_prices_transformed\"\n",
    "upstream = {\"s01_get\": {\"nb\": \"/home/luiscberrocal/PycharmProjects/hacktoberfest-2023/house_pricing/products/01-extract-pipeline.ipynb\", \"csv_file\": \"/home/luiscberrocal/PycharmProjects/hacktoberfest-2023/house_pricing/data/house_prices_raw.csv\", \"database\": \"/home/luiscberrocal/PycharmProjects/hacktoberfest-2023/house_pricing/data/house_prices.duckdb\"}}\n",
    "product = {\"nb\": \"/home/luiscberrocal/PycharmProjects/hacktoberfest-2023/house_pricing/products/04-transform.ipynb\"}\n"
   ]
  },
  {
   "cell_type": "code",
   "execution_count": 5,
   "id": "a14588ba",
   "metadata": {
    "execution": {
     "iopub.execute_input": "2023-10-14T12:37:16.032270Z",
     "iopub.status.busy": "2023-10-14T12:37:16.031817Z",
     "iopub.status.idle": "2023-10-14T12:37:16.052699Z",
     "shell.execute_reply": "2023-10-14T12:37:16.052098Z"
    },
    "papermill": {
     "duration": 0.024306,
     "end_time": "2023-10-14T12:37:16.053986",
     "exception": false,
     "start_time": "2023-10-14T12:37:16.029680",
     "status": "completed"
    },
    "tags": []
   },
   "outputs": [],
   "source": [
    "# your code here...\n",
    "db_file = upstream['s01_get']['database']\n",
    "df = get_dataframe(duckdb_file=db_file, table_name=table_name)"
   ]
  },
  {
   "cell_type": "code",
   "execution_count": 6,
   "id": "ad50b47a",
   "metadata": {
    "execution": {
     "iopub.execute_input": "2023-10-14T12:37:16.057829Z",
     "iopub.status.busy": "2023-10-14T12:37:16.057324Z",
     "iopub.status.idle": "2023-10-14T12:37:16.377116Z",
     "shell.execute_reply": "2023-10-14T12:37:16.376612Z"
    },
    "lines_to_next_cell": 2,
    "papermill": {
     "duration": 0.323174,
     "end_time": "2023-10-14T12:37:16.378424",
     "exception": false,
     "start_time": "2023-10-14T12:37:16.055250",
     "status": "completed"
    },
    "tags": []
   },
   "outputs": [],
   "source": [
    "from sklearn.preprocessing import StandardScaler\n",
    "\n",
    "features =  df.columns # [\"col1\", \"col2\", \"col3\", \"col4\"]\n",
    "autoscaler = StandardScaler()\n",
    "df[features] = autoscaler.fit_transform(df[features])"
   ]
  },
  {
   "cell_type": "markdown",
   "id": "bdc43586",
   "metadata": {
    "tags": [
     "papermill-error-cell-tag"
    ]
   },
   "source": [
    "<span id=\"papermill-error-cell\" style=\"color:red; font-family:Helvetica Neue, Helvetica, Arial, sans-serif; font-size:2em;\">Execution using papermill encountered an exception here and stopped:</span>"
   ]
  },
  {
   "cell_type": "code",
   "execution_count": 7,
   "id": "583d97f6",
   "metadata": {
    "execution": {
     "iopub.execute_input": "2023-10-14T12:37:16.391014Z",
     "iopub.status.busy": "2023-10-14T12:37:16.390672Z",
     "iopub.status.idle": "2023-10-14T12:37:16.589770Z",
     "shell.execute_reply": "2023-10-14T12:37:16.589172Z"
    },
    "papermill": {
     "duration": 0.210533,
     "end_time": "2023-10-14T12:37:16.590559",
     "exception": true,
     "start_time": "2023-10-14T12:37:16.380026",
     "status": "failed"
    },
    "tags": []
   },
   "outputs": [
    {
     "ename": "KeyError",
     "evalue": "'database'",
     "output_type": "error",
     "traceback": [
      "\u001b[0;31m---------------------------------------------------------------------------\u001b[0m",
      "\u001b[0;31mKeyError\u001b[0m                                  Traceback (most recent call last)",
      "Cell \u001b[0;32mIn[7], line 1\u001b[0m\n\u001b[0;32m----> 1\u001b[0m save_to_duckdb(df\u001b[38;5;241m=\u001b[39mdf, table_name\u001b[38;5;241m=\u001b[39mtransformed_table_name, db_path\u001b[38;5;241m=\u001b[39m\u001b[43mupstream\u001b[49m\u001b[43m[\u001b[49m\u001b[38;5;124;43m'\u001b[39;49m\u001b[38;5;124;43mdatabase\u001b[39;49m\u001b[38;5;124;43m'\u001b[39;49m\u001b[43m]\u001b[49m)\n",
      "\u001b[0;31mKeyError\u001b[0m: 'database'"
     ]
    }
   ],
   "source": [
    "save_to_duckdb(df=df, table_name=transformed_table_name, db_path=upstream['database'])"
   ]
  }
 ],
 "metadata": {
  "jupytext": {
   "text_representation": {
    "extension": ".py",
    "format_name": "percent"
   }
  },
  "kernelspec": {
   "display_name": "Python 3 (ipykernel)",
   "language": "python",
   "name": "python3"
  },
  "language_info": {
   "codemirror_mode": {
    "name": "ipython",
    "version": 3
   },
   "file_extension": ".py",
   "mimetype": "text/x-python",
   "name": "python",
   "nbconvert_exporter": "python",
   "pygments_lexer": "ipython3",
   "version": "3.10.12"
  },
  "papermill": {
   "duration": 2.150568,
   "end_time": "2023-10-14T12:37:16.907885",
   "exception": true,
   "input_path": "/tmp/tmp4a3umgfn.ipynb",
   "output_path": "/home/luiscberrocal/PycharmProjects/hacktoberfest-2023/house_pricing/products/04-transform.ipynb",
   "parameters": {
    "product": {
     "nb": "/home/luiscberrocal/PycharmProjects/hacktoberfest-2023/house_pricing/products/04-transform.ipynb"
    },
    "table_name": "house_prices",
    "transformed_table_name": "house_prices_transformed",
    "upstream": {
     "s01_get": {
      "csv_file": "/home/luiscberrocal/PycharmProjects/hacktoberfest-2023/house_pricing/data/house_prices_raw.csv",
      "database": "/home/luiscberrocal/PycharmProjects/hacktoberfest-2023/house_pricing/data/house_prices.duckdb",
      "nb": "/home/luiscberrocal/PycharmProjects/hacktoberfest-2023/house_pricing/products/01-extract-pipeline.ipynb"
     }
    }
   },
   "start_time": "2023-10-14T12:37:14.757317"
  }
 },
 "nbformat": 4,
 "nbformat_minor": 5
}