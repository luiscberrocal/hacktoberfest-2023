{
 "cells": [
  {
   "cell_type": "code",
   "execution_count": 1,
   "id": "2ca2b815",
   "metadata": {
    "execution": {
     "iopub.execute_input": "2023-10-14T12:17:22.846396Z",
     "iopub.status.busy": "2023-10-14T12:17:22.846144Z",
     "iopub.status.idle": "2023-10-14T12:17:22.849457Z",
     "shell.execute_reply": "2023-10-14T12:17:22.849070Z"
    },
    "lines_to_next_cell": 2,
    "papermill": {
     "duration": 0.006301,
     "end_time": "2023-10-14T12:17:22.850460",
     "exception": false,
     "start_time": "2023-10-14T12:17:22.844159",
     "status": "completed"
    },
    "tags": []
   },
   "outputs": [],
   "source": [
    "# Add description here\n",
    "#\n",
    "# *Note:* You can open this file as a notebook (JupyterLab: right-click on it in the side bar -> Open With -> Notebook)"
   ]
  },
  {
   "cell_type": "code",
   "execution_count": 2,
   "id": "102b7ba7",
   "metadata": {
    "execution": {
     "iopub.execute_input": "2023-10-14T12:17:22.857356Z",
     "iopub.status.busy": "2023-10-14T12:17:22.857113Z",
     "iopub.status.idle": "2023-10-14T12:17:22.859402Z",
     "shell.execute_reply": "2023-10-14T12:17:22.859001Z"
    },
    "papermill": {
     "duration": 0.005029,
     "end_time": "2023-10-14T12:17:22.860307",
     "exception": false,
     "start_time": "2023-10-14T12:17:22.855278",
     "status": "completed"
    },
    "tags": []
   },
   "outputs": [],
   "source": [
    "# Uncomment the next two lines to enable auto reloading for imported modules\n",
    "# %load_ext autoreload\n",
    "# %autoreload 2\n",
    "# For more info, see:\n",
    "# https://docs.ploomber.io/en/latest/user-guide/faq_index.html#auto-reloading-code-in-jupyter"
   ]
  },
  {
   "cell_type": "code",
   "execution_count": 3,
   "id": "84436df3",
   "metadata": {
    "execution": {
     "iopub.execute_input": "2023-10-14T12:17:22.863046Z",
     "iopub.status.busy": "2023-10-14T12:17:22.862827Z",
     "iopub.status.idle": "2023-10-14T12:17:22.867957Z",
     "shell.execute_reply": "2023-10-14T12:17:22.867475Z"
    },
    "papermill": {
     "duration": 0.007881,
     "end_time": "2023-10-14T12:17:22.869202",
     "exception": false,
     "start_time": "2023-10-14T12:17:22.861321",
     "status": "completed"
    },
    "tags": [
     "parameters"
    ]
   },
   "outputs": [],
   "source": [
    "# If this task has dependencies, list them them here\n",
    "# (e.g. upstream = ['some_task']), otherwise leave as None.\n",
    "upstream = ['s01_get']\n",
    "\n",
    "# This is a placeholder, leave it as None\n",
    "product = None\n",
    "table_name = None"
   ]
  },
  {
   "cell_type": "code",
   "execution_count": 4,
   "id": "a7aeffc1",
   "metadata": {
    "execution": {
     "iopub.execute_input": "2023-10-14T12:17:22.873155Z",
     "iopub.status.busy": "2023-10-14T12:17:22.872612Z",
     "iopub.status.idle": "2023-10-14T12:17:22.875839Z",
     "shell.execute_reply": "2023-10-14T12:17:22.875311Z"
    },
    "papermill": {
     "duration": 0.006588,
     "end_time": "2023-10-14T12:17:22.876973",
     "exception": false,
     "start_time": "2023-10-14T12:17:22.870385",
     "status": "completed"
    },
    "tags": [
     "injected-parameters"
    ]
   },
   "outputs": [],
   "source": [
    "# Parameters\n",
    "table_name = \"house_prices_transformed\"\n",
    "upstream = {\"s01_get\": {\"nb\": \"/home/luiscberrocal/PycharmProjects/hacktoberfest-2023/house_pricing/products/01-extract-pipeline.ipynb\", \"csv_file\": \"/home/luiscberrocal/PycharmProjects/hacktoberfest-2023/house_pricing/data/house_prices_raw.csv\", \"database\": \"/home/luiscberrocal/PycharmProjects/hacktoberfest-2023/house_pricing/data/house_prices.duckdb\"}}\n",
    "product = {\"nb\": \"/home/luiscberrocal/PycharmProjects/hacktoberfest-2023/house_pricing/products/04-transform.ipynb\"}\n"
   ]
  },
  {
   "cell_type": "code",
   "execution_count": 5,
   "id": "86f3b401",
   "metadata": {
    "execution": {
     "iopub.execute_input": "2023-10-14T12:17:22.880466Z",
     "iopub.status.busy": "2023-10-14T12:17:22.880050Z",
     "iopub.status.idle": "2023-10-14T12:17:22.882957Z",
     "shell.execute_reply": "2023-10-14T12:17:22.882469Z"
    },
    "papermill": {
     "duration": 0.005884,
     "end_time": "2023-10-14T12:17:22.883990",
     "exception": false,
     "start_time": "2023-10-14T12:17:22.878106",
     "status": "completed"
    },
    "tags": []
   },
   "outputs": [],
   "source": [
    "# your code here..."
   ]
  }
 ],
 "metadata": {
  "jupytext": {
   "text_representation": {
    "extension": ".py",
    "format_name": "percent"
   }
  },
  "kernelspec": {
   "display_name": "Python 3 (ipykernel)",
   "language": "python",
   "name": "python3"
  },
  "language_info": {
   "codemirror_mode": {
    "name": "ipython",
    "version": 3
   },
   "file_extension": ".py",
   "mimetype": "text/x-python",
   "name": "python",
   "nbconvert_exporter": "python",
   "pygments_lexer": "ipython3",
   "version": "3.10.12"
  },
  "papermill": {
   "duration": 0.930777,
   "end_time": "2023-10-14T12:17:23.100412",
   "exception": null,
   "input_path": "/tmp/tmp44etqg0z.ipynb",
   "output_path": "/home/luiscberrocal/PycharmProjects/hacktoberfest-2023/house_pricing/products/04-transform.ipynb",
   "parameters": {
    "product": {
     "nb": "/home/luiscberrocal/PycharmProjects/hacktoberfest-2023/house_pricing/products/04-transform.ipynb"
    },
    "table_name": "house_prices_transformed",
    "upstream": {
     "s01_get": {
      "csv_file": "/home/luiscberrocal/PycharmProjects/hacktoberfest-2023/house_pricing/data/house_prices_raw.csv",
      "database": "/home/luiscberrocal/PycharmProjects/hacktoberfest-2023/house_pricing/data/house_prices.duckdb",
      "nb": "/home/luiscberrocal/PycharmProjects/hacktoberfest-2023/house_pricing/products/01-extract-pipeline.ipynb"
     }
    }
   },
   "start_time": "2023-10-14T12:17:22.169635"
  }
 },
 "nbformat": 4,
 "nbformat_minor": 5
}