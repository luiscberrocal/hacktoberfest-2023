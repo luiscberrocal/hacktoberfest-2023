{
 "cells": [
  {
   "cell_type": "code",
   "execution_count": 1,
   "id": "05bfa161",
   "metadata": {
    "execution": {
     "iopub.execute_input": "2023-10-17T12:47:52.479938Z",
     "iopub.status.busy": "2023-10-17T12:47:52.479332Z",
     "iopub.status.idle": "2023-10-17T12:47:52.786519Z",
     "shell.execute_reply": "2023-10-17T12:47:52.785973Z"
    },
    "lines_to_next_cell": 2,
    "papermill": {
     "duration": 0.317105,
     "end_time": "2023-10-17T12:47:52.787744",
     "exception": false,
     "start_time": "2023-10-17T12:47:52.470639",
     "status": "completed"
    },
    "tags": []
   },
   "outputs": [],
   "source": [
    "import pandas as pd\n",
    "from src.db import get_dataframe, save_to_duckdb\n",
    "\n",
    "# Add description here\n",
    "#\n",
    "# *Note:* You can open this file as a notebook (JupyterLab: right-click on it in the side bar -> Open With -> Notebook)"
   ]
  },
  {
   "cell_type": "code",
   "execution_count": 2,
   "id": "8b687361",
   "metadata": {
    "execution": {
     "iopub.execute_input": "2023-10-17T12:47:52.800845Z",
     "iopub.status.busy": "2023-10-17T12:47:52.800515Z",
     "iopub.status.idle": "2023-10-17T12:47:52.803144Z",
     "shell.execute_reply": "2023-10-17T12:47:52.802660Z"
    },
    "papermill": {
     "duration": 0.014488,
     "end_time": "2023-10-17T12:47:52.804108",
     "exception": false,
     "start_time": "2023-10-17T12:47:52.789620",
     "status": "completed"
    },
    "tags": []
   },
   "outputs": [],
   "source": [
    "# Uncomment the next two lines to enable auto reloading for imported modules\n",
    "# %load_ext autoreload\n",
    "# %autoreload 2\n",
    "# For more info, see:\n",
    "# https://docs.ploomber.io/en/latest/user-guide/faq_index.html#auto-reloading-code-in-jupyter"
   ]
  },
  {
   "cell_type": "code",
   "execution_count": 3,
   "id": "e0c20d46",
   "metadata": {
    "execution": {
     "iopub.execute_input": "2023-10-17T12:47:52.807987Z",
     "iopub.status.busy": "2023-10-17T12:47:52.807802Z",
     "iopub.status.idle": "2023-10-17T12:47:52.810393Z",
     "shell.execute_reply": "2023-10-17T12:47:52.809978Z"
    },
    "papermill": {
     "duration": 0.00571,
     "end_time": "2023-10-17T12:47:52.811395",
     "exception": false,
     "start_time": "2023-10-17T12:47:52.805685",
     "status": "completed"
    },
    "tags": [
     "parameters"
    ]
   },
   "outputs": [],
   "source": [
    "# If this task has dependencies, list them them here\n",
    "# (e.g. upstream = ['some_task']), otherwise leave as None.\n",
    "upstream = ['s01_get']\n",
    "\n",
    "# This is a placeholder, leave it as None\n",
    "product = None\n",
    "table_name = None\n",
    "transformed_table_name = None"
   ]
  },
  {
   "cell_type": "code",
   "execution_count": 4,
   "id": "d2d19e29",
   "metadata": {
    "execution": {
     "iopub.execute_input": "2023-10-17T12:47:52.815593Z",
     "iopub.status.busy": "2023-10-17T12:47:52.815394Z",
     "iopub.status.idle": "2023-10-17T12:47:52.818204Z",
     "shell.execute_reply": "2023-10-17T12:47:52.817741Z"
    },
    "papermill": {
     "duration": 0.00615,
     "end_time": "2023-10-17T12:47:52.819124",
     "exception": false,
     "start_time": "2023-10-17T12:47:52.812974",
     "status": "completed"
    },
    "tags": [
     "injected-parameters"
    ]
   },
   "outputs": [],
   "source": [
    "# Parameters\n",
    "table_name = \"house_prices\"\n",
    "transformed_table_name = \"house_prices_transformed\"\n",
    "upstream = {\"s01_get\": {\"nb\": \"/home/luiscberrocal/PycharmProjects/hacktoberfest-2023/house_pricing/products/01-extract-pipeline.ipynb\", \"csv_file\": \"/home/luiscberrocal/PycharmProjects/hacktoberfest-2023/house_pricing/data/house_prices_raw.csv\", \"database\": \"/home/luiscberrocal/PycharmProjects/hacktoberfest-2023/house_pricing/data/house_prices.duckdb\"}}\n",
    "product = {\"nb\": \"/home/luiscberrocal/PycharmProjects/hacktoberfest-2023/house_pricing/products/04-transform.ipynb\"}\n"
   ]
  },
  {
   "cell_type": "code",
   "execution_count": 5,
   "id": "9bd3e7f7",
   "metadata": {
    "execution": {
     "iopub.execute_input": "2023-10-17T12:47:52.823713Z",
     "iopub.status.busy": "2023-10-17T12:47:52.823553Z",
     "iopub.status.idle": "2023-10-17T12:47:52.837927Z",
     "shell.execute_reply": "2023-10-17T12:47:52.837403Z"
    },
    "lines_to_next_cell": 0,
    "papermill": {
     "duration": 0.017726,
     "end_time": "2023-10-17T12:47:52.839125",
     "exception": false,
     "start_time": "2023-10-17T12:47:52.821399",
     "status": "completed"
    },
    "tags": []
   },
   "outputs": [],
   "source": [
    "# your code here...\n",
    "db_file = upstream['s01_get']['database']\n",
    "df = get_dataframe(duckdb_file=db_file, table_name=table_name)"
   ]
  },
  {
   "cell_type": "code",
   "execution_count": 6,
   "id": "1cbd3249",
   "metadata": {
    "execution": {
     "iopub.execute_input": "2023-10-17T12:47:52.843248Z",
     "iopub.status.busy": "2023-10-17T12:47:52.843013Z",
     "iopub.status.idle": "2023-10-17T12:47:52.847383Z",
     "shell.execute_reply": "2023-10-17T12:47:52.847040Z"
    },
    "papermill": {
     "duration": 0.007515,
     "end_time": "2023-10-17T12:47:52.848304",
     "exception": false,
     "start_time": "2023-10-17T12:47:52.840789",
     "status": "completed"
    },
    "tags": []
   },
   "outputs": [
    {
     "data": {
      "text/plain": [
       "(20640, 14)"
      ]
     },
     "execution_count": 6,
     "metadata": {},
     "output_type": "execute_result"
    }
   ],
   "source": [
    "df.shape"
   ]
  },
  {
   "cell_type": "code",
   "execution_count": 7,
   "id": "7d5b527e",
   "metadata": {
    "execution": {
     "iopub.execute_input": "2023-10-17T12:47:52.852420Z",
     "iopub.status.busy": "2023-10-17T12:47:52.852239Z",
     "iopub.status.idle": "2023-10-17T12:47:52.855581Z",
     "shell.execute_reply": "2023-10-17T12:47:52.855226Z"
    },
    "papermill": {
     "duration": 0.00659,
     "end_time": "2023-10-17T12:47:52.856607",
     "exception": false,
     "start_time": "2023-10-17T12:47:52.850017",
     "status": "completed"
    },
    "tags": []
   },
   "outputs": [],
   "source": [
    "X = df.drop(['median_house_value'], axis=1)\n",
    "y = df['median_house_value']"
   ]
  },
  {
   "cell_type": "code",
   "execution_count": 8,
   "id": "e2984646",
   "metadata": {
    "execution": {
     "iopub.execute_input": "2023-10-17T12:47:52.860754Z",
     "iopub.status.busy": "2023-10-17T12:47:52.860572Z",
     "iopub.status.idle": "2023-10-17T12:47:53.112652Z",
     "shell.execute_reply": "2023-10-17T12:47:53.112171Z"
    },
    "papermill": {
     "duration": 0.255925,
     "end_time": "2023-10-17T12:47:53.114237",
     "exception": false,
     "start_time": "2023-10-17T12:47:52.858312",
     "status": "completed"
    },
    "tags": []
   },
   "outputs": [],
   "source": [
    "from sklearn.preprocessing import StandardScaler\n",
    "\n",
    "features = X.columns  # [\"col1\", \"col2\", \"col3\", \"col4\"]\n",
    "autoscaler = StandardScaler()\n",
    "X[features] = autoscaler.fit_transform(X[features])"
   ]
  },
  {
   "cell_type": "code",
   "execution_count": 9,
   "id": "71334bfe",
   "metadata": {
    "execution": {
     "iopub.execute_input": "2023-10-17T12:47:53.127853Z",
     "iopub.status.busy": "2023-10-17T12:47:53.127517Z",
     "iopub.status.idle": "2023-10-17T12:47:53.295003Z",
     "shell.execute_reply": "2023-10-17T12:47:53.294486Z"
    },
    "papermill": {
     "duration": 0.180168,
     "end_time": "2023-10-17T12:47:53.296306",
     "exception": false,
     "start_time": "2023-10-17T12:47:53.116138",
     "status": "completed"
    },
    "tags": []
   },
   "outputs": [
    {
     "data": {
      "text/html": [
       "<div>\n",
       "<style scoped>\n",
       "    .dataframe tbody tr th:only-of-type {\n",
       "        vertical-align: middle;\n",
       "    }\n",
       "\n",
       "    .dataframe tbody tr th {\n",
       "        vertical-align: top;\n",
       "    }\n",
       "\n",
       "    .dataframe thead th {\n",
       "        text-align: right;\n",
       "    }\n",
       "</style>\n",
       "<table border=\"1\" class=\"dataframe\">\n",
       "  <thead>\n",
       "    <tr style=\"text-align: right;\">\n",
       "      <th></th>\n",
       "      <th>feature</th>\n",
       "      <th>VIF</th>\n",
       "    </tr>\n",
       "  </thead>\n",
       "  <tbody>\n",
       "    <tr>\n",
       "      <th>0</th>\n",
       "      <td>median_income</td>\n",
       "      <td>1.797414</td>\n",
       "    </tr>\n",
       "    <tr>\n",
       "      <th>1</th>\n",
       "      <td>median_age</td>\n",
       "      <td>1.406807</td>\n",
       "    </tr>\n",
       "    <tr>\n",
       "      <th>2</th>\n",
       "      <td>tot_rooms</td>\n",
       "      <td>12.936392</td>\n",
       "    </tr>\n",
       "    <tr>\n",
       "      <th>3</th>\n",
       "      <td>tot_bedrooms</td>\n",
       "      <td>36.650481</td>\n",
       "    </tr>\n",
       "    <tr>\n",
       "      <th>4</th>\n",
       "      <td>population</td>\n",
       "      <td>6.502235</td>\n",
       "    </tr>\n",
       "    <tr>\n",
       "      <th>5</th>\n",
       "      <td>households</td>\n",
       "      <td>35.831425</td>\n",
       "    </tr>\n",
       "    <tr>\n",
       "      <th>6</th>\n",
       "      <td>latitude</td>\n",
       "      <td>157.362679</td>\n",
       "    </tr>\n",
       "    <tr>\n",
       "      <th>7</th>\n",
       "      <td>longitude</td>\n",
       "      <td>49.879352</td>\n",
       "    </tr>\n",
       "    <tr>\n",
       "      <th>8</th>\n",
       "      <td>distance_to_coast</td>\n",
       "      <td>4.136801</td>\n",
       "    </tr>\n",
       "    <tr>\n",
       "      <th>9</th>\n",
       "      <td>distance_to_la</td>\n",
       "      <td>15.387614</td>\n",
       "    </tr>\n",
       "  </tbody>\n",
       "</table>\n",
       "</div>"
      ],
      "text/plain": [
       "             feature         VIF\n",
       "0      median_income    1.797414\n",
       "1         median_age    1.406807\n",
       "2          tot_rooms   12.936392\n",
       "3       tot_bedrooms   36.650481\n",
       "4         population    6.502235\n",
       "5         households   35.831425\n",
       "6           latitude  157.362679\n",
       "7          longitude   49.879352\n",
       "8  distance_to_coast    4.136801\n",
       "9     distance_to_la   15.387614"
      ]
     },
     "execution_count": 9,
     "metadata": {},
     "output_type": "execute_result"
    }
   ],
   "source": [
    "# --Variance Inflation Factor\n",
    "from statsmodels.stats.outliers_influence import variance_inflation_factor\n",
    "\n",
    "vif_df = pd.DataFrame()\n",
    "vif_x = X.copy()\n",
    "vif_df[\"feature\"] = vif_x.columns\n",
    "vif_df[\"VIF\"] = [variance_inflation_factor(vif_x.values, i)\n",
    "                 for i in range(len(vif_x.columns))]\n",
    "\n",
    "vif_df.head(10)"
   ]
  },
  {
   "cell_type": "code",
   "execution_count": 10,
   "id": "6ae91909",
   "metadata": {
    "execution": {
     "iopub.execute_input": "2023-10-17T12:47:53.310907Z",
     "iopub.status.busy": "2023-10-17T12:47:53.310631Z",
     "iopub.status.idle": "2023-10-17T12:47:53.316307Z",
     "shell.execute_reply": "2023-10-17T12:47:53.315728Z"
    },
    "lines_to_next_cell": 0,
    "papermill": {
     "duration": 0.01801,
     "end_time": "2023-10-17T12:47:53.318025",
     "exception": false,
     "start_time": "2023-10-17T12:47:53.300015",
     "status": "completed"
    },
    "tags": []
   },
   "outputs": [],
   "source": [
    "X = X.join(y)"
   ]
  },
  {
   "cell_type": "code",
   "execution_count": 11,
   "id": "a70bab07",
   "metadata": {
    "execution": {
     "iopub.execute_input": "2023-10-17T12:47:53.327241Z",
     "iopub.status.busy": "2023-10-17T12:47:53.326977Z",
     "iopub.status.idle": "2023-10-17T12:47:53.333028Z",
     "shell.execute_reply": "2023-10-17T12:47:53.332485Z"
    },
    "papermill": {
     "duration": 0.012089,
     "end_time": "2023-10-17T12:47:53.334610",
     "exception": false,
     "start_time": "2023-10-17T12:47:53.322521",
     "status": "completed"
    },
    "tags": []
   },
   "outputs": [
    {
     "data": {
      "text/plain": [
       "(20640, 14)"
      ]
     },
     "execution_count": 11,
     "metadata": {},
     "output_type": "execute_result"
    }
   ],
   "source": [
    "X.shape"
   ]
  },
  {
   "cell_type": "code",
   "execution_count": 12,
   "id": "c60e9e6b",
   "metadata": {
    "execution": {
     "iopub.execute_input": "2023-10-17T12:47:53.343160Z",
     "iopub.status.busy": "2023-10-17T12:47:53.342899Z",
     "iopub.status.idle": "2023-10-17T12:47:53.388893Z",
     "shell.execute_reply": "2023-10-17T12:47:53.388326Z"
    },
    "papermill": {
     "duration": 0.052128,
     "end_time": "2023-10-17T12:47:53.390553",
     "exception": false,
     "start_time": "2023-10-17T12:47:53.338425",
     "status": "completed"
    },
    "tags": []
   },
   "outputs": [
    {
     "data": {
      "text/html": [
       "<div>\n",
       "<style scoped>\n",
       "    .dataframe tbody tr th:only-of-type {\n",
       "        vertical-align: middle;\n",
       "    }\n",
       "\n",
       "    .dataframe tbody tr th {\n",
       "        vertical-align: top;\n",
       "    }\n",
       "\n",
       "    .dataframe thead th {\n",
       "        text-align: right;\n",
       "    }\n",
       "</style>\n",
       "<table border=\"1\" class=\"dataframe\">\n",
       "  <thead>\n",
       "    <tr style=\"text-align: right;\">\n",
       "      <th></th>\n",
       "      <th>median_income</th>\n",
       "      <th>median_age</th>\n",
       "      <th>tot_rooms</th>\n",
       "      <th>tot_bedrooms</th>\n",
       "      <th>population</th>\n",
       "      <th>households</th>\n",
       "      <th>latitude</th>\n",
       "      <th>longitude</th>\n",
       "      <th>distance_to_coast</th>\n",
       "      <th>distance_to_la</th>\n",
       "      <th>distance_to_sandiego</th>\n",
       "      <th>distance_to_sanjose</th>\n",
       "      <th>distance_to_sanfrancisco</th>\n",
       "      <th>median_house_value</th>\n",
       "    </tr>\n",
       "  </thead>\n",
       "  <tbody>\n",
       "    <tr>\n",
       "      <th>count</th>\n",
       "      <td>2.064000e+04</td>\n",
       "      <td>2.064000e+04</td>\n",
       "      <td>2.064000e+04</td>\n",
       "      <td>2.064000e+04</td>\n",
       "      <td>2.064000e+04</td>\n",
       "      <td>2.064000e+04</td>\n",
       "      <td>2.064000e+04</td>\n",
       "      <td>2.064000e+04</td>\n",
       "      <td>2.064000e+04</td>\n",
       "      <td>2.064000e+04</td>\n",
       "      <td>2.064000e+04</td>\n",
       "      <td>2.064000e+04</td>\n",
       "      <td>2.064000e+04</td>\n",
       "      <td>20640.000000</td>\n",
       "    </tr>\n",
       "    <tr>\n",
       "      <th>mean</th>\n",
       "      <td>6.609700e-17</td>\n",
       "      <td>5.508083e-18</td>\n",
       "      <td>3.201573e-17</td>\n",
       "      <td>3.304850e-17</td>\n",
       "      <td>-1.101617e-17</td>\n",
       "      <td>6.885104e-17</td>\n",
       "      <td>-1.079584e-15</td>\n",
       "      <td>-8.526513e-15</td>\n",
       "      <td>2.203233e-17</td>\n",
       "      <td>2.203233e-17</td>\n",
       "      <td>4.406467e-17</td>\n",
       "      <td>3.525173e-16</td>\n",
       "      <td>8.812933e-17</td>\n",
       "      <td>206855.816909</td>\n",
       "    </tr>\n",
       "    <tr>\n",
       "      <th>std</th>\n",
       "      <td>1.000024e+00</td>\n",
       "      <td>1.000024e+00</td>\n",
       "      <td>1.000024e+00</td>\n",
       "      <td>1.000024e+00</td>\n",
       "      <td>1.000024e+00</td>\n",
       "      <td>1.000024e+00</td>\n",
       "      <td>1.000024e+00</td>\n",
       "      <td>1.000024e+00</td>\n",
       "      <td>1.000024e+00</td>\n",
       "      <td>1.000024e+00</td>\n",
       "      <td>1.000024e+00</td>\n",
       "      <td>1.000024e+00</td>\n",
       "      <td>1.000024e+00</td>\n",
       "      <td>115395.615874</td>\n",
       "    </tr>\n",
       "    <tr>\n",
       "      <th>min</th>\n",
       "      <td>-1.774299e+00</td>\n",
       "      <td>-2.196180e+00</td>\n",
       "      <td>-1.207283e+00</td>\n",
       "      <td>-1.274573e+00</td>\n",
       "      <td>-1.256123e+00</td>\n",
       "      <td>-1.303984e+00</td>\n",
       "      <td>-1.447568e+00</td>\n",
       "      <td>-2.385992e+00</td>\n",
       "      <td>-8.219279e-01</td>\n",
       "      <td>-1.085881e+00</td>\n",
       "      <td>-1.374184e+00</td>\n",
       "      <td>-1.605465e+00</td>\n",
       "      <td>-1.544212e+00</td>\n",
       "      <td>14999.000000</td>\n",
       "    </tr>\n",
       "    <tr>\n",
       "      <th>25%</th>\n",
       "      <td>-6.881186e-01</td>\n",
       "      <td>-8.453931e-01</td>\n",
       "      <td>-5.445698e-01</td>\n",
       "      <td>-5.766293e-01</td>\n",
       "      <td>-5.638089e-01</td>\n",
       "      <td>-5.742294e-01</td>\n",
       "      <td>-7.967887e-01</td>\n",
       "      <td>-1.113209e+00</td>\n",
       "      <td>-6.396061e-01</td>\n",
       "      <td>-9.579548e-01</td>\n",
       "      <td>-8.249615e-01</td>\n",
       "      <td>-1.087145e+00</td>\n",
       "      <td>-1.076672e+00</td>\n",
       "      <td>119600.000000</td>\n",
       "    </tr>\n",
       "    <tr>\n",
       "      <th>50%</th>\n",
       "      <td>-1.767951e-01</td>\n",
       "      <td>2.864572e-02</td>\n",
       "      <td>-2.332104e-01</td>\n",
       "      <td>-2.442754e-01</td>\n",
       "      <td>-2.291318e-01</td>\n",
       "      <td>-2.368162e-01</td>\n",
       "      <td>-6.422871e-01</td>\n",
       "      <td>5.389137e-01</td>\n",
       "      <td>-4.067504e-01</td>\n",
       "      <td>-3.865333e-01</td>\n",
       "      <td>-6.338258e-01</td>\n",
       "      <td>5.092059e-01</td>\n",
       "      <td>5.591732e-01</td>\n",
       "      <td>179700.000000</td>\n",
       "    </tr>\n",
       "    <tr>\n",
       "      <th>75%</th>\n",
       "      <td>4.593063e-01</td>\n",
       "      <td>6.643103e-01</td>\n",
       "      <td>2.348028e-01</td>\n",
       "      <td>2.590034e-01</td>\n",
       "      <td>2.644949e-01</td>\n",
       "      <td>2.758427e-01</td>\n",
       "      <td>9.729566e-01</td>\n",
       "      <td>7.784964e-01</td>\n",
       "      <td>1.896900e-01</td>\n",
       "      <td>1.040399e+00</td>\n",
       "      <td>1.063018e+00</td>\n",
       "      <td>7.725678e-01</td>\n",
       "      <td>7.910869e-01</td>\n",
       "      <td>264725.000000</td>\n",
       "    </tr>\n",
       "    <tr>\n",
       "      <th>max</th>\n",
       "      <td>5.858286e+00</td>\n",
       "      <td>1.856182e+00</td>\n",
       "      <td>1.681558e+01</td>\n",
       "      <td>1.402320e+01</td>\n",
       "      <td>3.025033e+01</td>\n",
       "      <td>1.460152e+01</td>\n",
       "      <td>2.958068e+00</td>\n",
       "      <td>2.625280e+00</td>\n",
       "      <td>5.968708e+00</td>\n",
       "      <td>3.022843e+00</td>\n",
       "      <td>2.760097e+00</td>\n",
       "      <td>2.245394e+00</td>\n",
       "      <td>2.066797e+00</td>\n",
       "      <td>500001.000000</td>\n",
       "    </tr>\n",
       "  </tbody>\n",
       "</table>\n",
       "</div>"
      ],
      "text/plain": [
       "       median_income    median_age     tot_rooms  tot_bedrooms    population  \\\n",
       "count   2.064000e+04  2.064000e+04  2.064000e+04  2.064000e+04  2.064000e+04   \n",
       "mean    6.609700e-17  5.508083e-18  3.201573e-17  3.304850e-17 -1.101617e-17   \n",
       "std     1.000024e+00  1.000024e+00  1.000024e+00  1.000024e+00  1.000024e+00   \n",
       "min    -1.774299e+00 -2.196180e+00 -1.207283e+00 -1.274573e+00 -1.256123e+00   \n",
       "25%    -6.881186e-01 -8.453931e-01 -5.445698e-01 -5.766293e-01 -5.638089e-01   \n",
       "50%    -1.767951e-01  2.864572e-02 -2.332104e-01 -2.442754e-01 -2.291318e-01   \n",
       "75%     4.593063e-01  6.643103e-01  2.348028e-01  2.590034e-01  2.644949e-01   \n",
       "max     5.858286e+00  1.856182e+00  1.681558e+01  1.402320e+01  3.025033e+01   \n",
       "\n",
       "         households      latitude     longitude  distance_to_coast  \\\n",
       "count  2.064000e+04  2.064000e+04  2.064000e+04       2.064000e+04   \n",
       "mean   6.885104e-17 -1.079584e-15 -8.526513e-15       2.203233e-17   \n",
       "std    1.000024e+00  1.000024e+00  1.000024e+00       1.000024e+00   \n",
       "min   -1.303984e+00 -1.447568e+00 -2.385992e+00      -8.219279e-01   \n",
       "25%   -5.742294e-01 -7.967887e-01 -1.113209e+00      -6.396061e-01   \n",
       "50%   -2.368162e-01 -6.422871e-01  5.389137e-01      -4.067504e-01   \n",
       "75%    2.758427e-01  9.729566e-01  7.784964e-01       1.896900e-01   \n",
       "max    1.460152e+01  2.958068e+00  2.625280e+00       5.968708e+00   \n",
       "\n",
       "       distance_to_la  distance_to_sandiego  distance_to_sanjose  \\\n",
       "count    2.064000e+04          2.064000e+04         2.064000e+04   \n",
       "mean     2.203233e-17          4.406467e-17         3.525173e-16   \n",
       "std      1.000024e+00          1.000024e+00         1.000024e+00   \n",
       "min     -1.085881e+00         -1.374184e+00        -1.605465e+00   \n",
       "25%     -9.579548e-01         -8.249615e-01        -1.087145e+00   \n",
       "50%     -3.865333e-01         -6.338258e-01         5.092059e-01   \n",
       "75%      1.040399e+00          1.063018e+00         7.725678e-01   \n",
       "max      3.022843e+00          2.760097e+00         2.245394e+00   \n",
       "\n",
       "       distance_to_sanfrancisco  median_house_value  \n",
       "count              2.064000e+04        20640.000000  \n",
       "mean               8.812933e-17       206855.816909  \n",
       "std                1.000024e+00       115395.615874  \n",
       "min               -1.544212e+00        14999.000000  \n",
       "25%               -1.076672e+00       119600.000000  \n",
       "50%                5.591732e-01       179700.000000  \n",
       "75%                7.910869e-01       264725.000000  \n",
       "max                2.066797e+00       500001.000000  "
      ]
     },
     "execution_count": 12,
     "metadata": {},
     "output_type": "execute_result"
    }
   ],
   "source": [
    "X.describe()"
   ]
  },
  {
   "cell_type": "code",
   "execution_count": 13,
   "id": "d45bdf54",
   "metadata": {
    "execution": {
     "iopub.execute_input": "2023-10-17T12:47:53.399841Z",
     "iopub.status.busy": "2023-10-17T12:47:53.399656Z",
     "iopub.status.idle": "2023-10-17T12:47:53.444728Z",
     "shell.execute_reply": "2023-10-17T12:47:53.444300Z"
    },
    "lines_to_next_cell": 2,
    "papermill": {
     "duration": 0.050855,
     "end_time": "2023-10-17T12:47:53.446108",
     "exception": false,
     "start_time": "2023-10-17T12:47:53.395253",
     "status": "completed"
    },
    "tags": []
   },
   "outputs": [],
   "source": [
    "save_to_duckdb(df=X, table_name=transformed_table_name, db_path=upstream['s01_get']['database'])"
   ]
  },
  {
   "cell_type": "code",
   "execution_count": 14,
   "id": "4667cf5b",
   "metadata": {
    "execution": {
     "iopub.execute_input": "2023-10-17T12:47:53.451660Z",
     "iopub.status.busy": "2023-10-17T12:47:53.451475Z",
     "iopub.status.idle": "2023-10-17T12:47:53.478440Z",
     "shell.execute_reply": "2023-10-17T12:47:53.477611Z"
    },
    "papermill": {
     "duration": 0.031713,
     "end_time": "2023-10-17T12:47:53.480015",
     "exception": false,
     "start_time": "2023-10-17T12:47:53.448302",
     "status": "completed"
    },
    "tags": []
   },
   "outputs": [
    {
     "data": {
      "text/plain": [
       "┌──────────────────────────┐\n",
       "│           name           │\n",
       "│         varchar          │\n",
       "├──────────────────────────┤\n",
       "│ house_prices             │\n",
       "│ house_prices_transformed │\n",
       "└──────────────────────────┘"
      ]
     },
     "execution_count": 14,
     "metadata": {},
     "output_type": "execute_result"
    }
   ],
   "source": [
    "import duckdb\n",
    "\n",
    "conn = duckdb.connect(upstream['s01_get']['database'])\n",
    "conn.sql('SHOW TABLES;')"
   ]
  },
  {
   "cell_type": "code",
   "execution_count": 15,
   "id": "e3432487",
   "metadata": {
    "execution": {
     "iopub.execute_input": "2023-10-17T12:47:53.486703Z",
     "iopub.status.busy": "2023-10-17T12:47:53.486497Z",
     "iopub.status.idle": "2023-10-17T12:47:53.490957Z",
     "shell.execute_reply": "2023-10-17T12:47:53.490540Z"
    },
    "papermill": {
     "duration": 0.009065,
     "end_time": "2023-10-17T12:47:53.491994",
     "exception": false,
     "start_time": "2023-10-17T12:47:53.482929",
     "status": "completed"
    },
    "tags": []
   },
   "outputs": [],
   "source": [
    "\n",
    "conn.close()"
   ]
  }
 ],
 "metadata": {
  "jupytext": {
   "text_representation": {
    "extension": ".py",
    "format_name": "percent"
   }
  },
  "kernelspec": {
   "display_name": "Python 3 (ipykernel)",
   "language": "python",
   "name": "python3"
  },
  "language_info": {
   "codemirror_mode": {
    "name": "ipython",
    "version": 3
   },
   "file_extension": ".py",
   "mimetype": "text/x-python",
   "name": "python",
   "nbconvert_exporter": "python",
   "pygments_lexer": "ipython3",
   "version": "3.10.12"
  },
  "papermill": {
   "duration": 1.797734,
   "end_time": "2023-10-17T12:47:53.711717",
   "exception": null,
   "input_path": "/tmp/tmpt8azcv8o.ipynb",
   "output_path": "/home/luiscberrocal/PycharmProjects/hacktoberfest-2023/house_pricing/products/04-transform.ipynb",
   "parameters": {
    "product": {
     "nb": "/home/luiscberrocal/PycharmProjects/hacktoberfest-2023/house_pricing/products/04-transform.ipynb"
    },
    "table_name": "house_prices",
    "transformed_table_name": "house_prices_transformed",
    "upstream": {
     "s01_get": {
      "csv_file": "/home/luiscberrocal/PycharmProjects/hacktoberfest-2023/house_pricing/data/house_prices_raw.csv",
      "database": "/home/luiscberrocal/PycharmProjects/hacktoberfest-2023/house_pricing/data/house_prices.duckdb",
      "nb": "/home/luiscberrocal/PycharmProjects/hacktoberfest-2023/house_pricing/products/01-extract-pipeline.ipynb"
     }
    }
   },
   "start_time": "2023-10-17T12:47:51.913983"
  }
 },
 "nbformat": 4,
 "nbformat_minor": 5
}