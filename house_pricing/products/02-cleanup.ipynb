{
 "cells": [
  {
   "cell_type": "code",
   "execution_count": 1,
   "id": "dd550e77",
   "metadata": {
    "execution": {
     "iopub.execute_input": "2023-10-13T18:28:33.149624Z",
     "iopub.status.busy": "2023-10-13T18:28:33.149364Z",
     "iopub.status.idle": "2023-10-13T18:28:33.494546Z",
     "shell.execute_reply": "2023-10-13T18:28:33.494020Z"
    },
    "lines_to_next_cell": 2,
    "papermill": {
     "duration": 0.352557,
     "end_time": "2023-10-13T18:28:33.495736",
     "exception": false,
     "start_time": "2023-10-13T18:28:33.143179",
     "status": "completed"
    },
    "tags": []
   },
   "outputs": [],
   "source": [
    "from src.db import get_dataframe\n",
    "\n",
    "# Add description here\n",
    "#\n",
    "# *Note:* You can open this file as a notebook (JupyterLab: right-click on it in the side bar -> Open With -> Notebook)"
   ]
  },
  {
   "cell_type": "code",
   "execution_count": 2,
   "id": "f56b5b60",
   "metadata": {
    "execution": {
     "iopub.execute_input": "2023-10-13T18:28:33.504698Z",
     "iopub.status.busy": "2023-10-13T18:28:33.504486Z",
     "iopub.status.idle": "2023-10-13T18:28:33.507088Z",
     "shell.execute_reply": "2023-10-13T18:28:33.506611Z"
    },
    "papermill": {
     "duration": 0.011177,
     "end_time": "2023-10-13T18:28:33.508026",
     "exception": false,
     "start_time": "2023-10-13T18:28:33.496849",
     "status": "completed"
    },
    "tags": []
   },
   "outputs": [],
   "source": [
    "# Uncomment the next two lines to enable auto reloading for imported modules\n",
    "# %load_ext autoreload\n",
    "# %autoreload 2\n",
    "# For more info, see:\n",
    "# https://docs.ploomber.io/en/latest/user-guide/faq_index.html#auto-reloading-code-in-jupyter"
   ]
  },
  {
   "cell_type": "code",
   "execution_count": 3,
   "id": "4efca177",
   "metadata": {
    "execution": {
     "iopub.execute_input": "2023-10-13T18:28:33.510735Z",
     "iopub.status.busy": "2023-10-13T18:28:33.510308Z",
     "iopub.status.idle": "2023-10-13T18:28:33.512684Z",
     "shell.execute_reply": "2023-10-13T18:28:33.512344Z"
    },
    "papermill": {
     "duration": 0.004702,
     "end_time": "2023-10-13T18:28:33.513661",
     "exception": false,
     "start_time": "2023-10-13T18:28:33.508959",
     "status": "completed"
    },
    "tags": [
     "parameters"
    ]
   },
   "outputs": [],
   "source": [
    "# If this task has dependencies, list them them here\n",
    "# (e.g. upstream = ['some_task']), otherwise leave as None.\n",
    "upstream = ['s01_get']\n",
    "\n",
    "# This is a placeholder, leave it as None\n",
    "product = None\n",
    "table_name = None"
   ]
  },
  {
   "cell_type": "code",
   "execution_count": 4,
   "id": "ed8a38f4",
   "metadata": {
    "execution": {
     "iopub.execute_input": "2023-10-13T18:28:33.516068Z",
     "iopub.status.busy": "2023-10-13T18:28:33.515927Z",
     "iopub.status.idle": "2023-10-13T18:28:33.518240Z",
     "shell.execute_reply": "2023-10-13T18:28:33.517906Z"
    },
    "papermill": {
     "duration": 0.004598,
     "end_time": "2023-10-13T18:28:33.519180",
     "exception": false,
     "start_time": "2023-10-13T18:28:33.514582",
     "status": "completed"
    },
    "tags": [
     "injected-parameters"
    ]
   },
   "outputs": [],
   "source": [
    "# Parameters\n",
    "table_name = \"house_prices\"\n",
    "upstream = {\"s01_get\": {\"nb\": \"/home/luiscberrocal/PycharmProjects/hacktoberfest-2023/house_pricing/products/01-extract-pipeline.ipynb\", \"csv_file\": \"/home/luiscberrocal/PycharmProjects/hacktoberfest-2023/house_pricing/data/house_prices_raw.csv\", \"database\": \"/home/luiscberrocal/PycharmProjects/hacktoberfest-2023/house_pricing/data/house_prices.duckdb\"}}\n",
    "product = {\"nb\": \"/home/luiscberrocal/PycharmProjects/hacktoberfest-2023/house_pricing/products/02-cleanup.ipynb\"}\n"
   ]
  },
  {
   "cell_type": "code",
   "execution_count": 5,
   "id": "7323e341",
   "metadata": {
    "execution": {
     "iopub.execute_input": "2023-10-13T18:28:33.521879Z",
     "iopub.status.busy": "2023-10-13T18:28:33.521739Z",
     "iopub.status.idle": "2023-10-13T18:28:33.535294Z",
     "shell.execute_reply": "2023-10-13T18:28:33.534773Z"
    },
    "papermill": {
     "duration": 0.016093,
     "end_time": "2023-10-13T18:28:33.536443",
     "exception": false,
     "start_time": "2023-10-13T18:28:33.520350",
     "status": "completed"
    },
    "tags": []
   },
   "outputs": [],
   "source": [
    "# your code here...\n",
    "db_file = upstream['s01_get']['database']\n",
    "df = get_dataframe(duckdb_file=db_file, table_name=table_name)"
   ]
  },
  {
   "cell_type": "code",
   "execution_count": 6,
   "id": "ee1e9e34",
   "metadata": {
    "execution": {
     "iopub.execute_input": "2023-10-13T18:28:33.539152Z",
     "iopub.status.busy": "2023-10-13T18:28:33.538968Z",
     "iopub.status.idle": "2023-10-13T18:28:33.543320Z",
     "shell.execute_reply": "2023-10-13T18:28:33.542975Z"
    },
    "lines_to_next_cell": 2,
    "papermill": {
     "duration": 0.006802,
     "end_time": "2023-10-13T18:28:33.544290",
     "exception": false,
     "start_time": "2023-10-13T18:28:33.537488",
     "status": "completed"
    },
    "tags": []
   },
   "outputs": [
    {
     "data": {
      "text/plain": [
       "(20640, 14)"
      ]
     },
     "execution_count": 6,
     "metadata": {},
     "output_type": "execute_result"
    }
   ],
   "source": [
    "df.shape"
   ]
  }
 ],
 "metadata": {
  "jupytext": {
   "text_representation": {
    "extension": ".py",
    "format_name": "percent"
   }
  },
  "kernelspec": {
   "display_name": "Python 3 (ipykernel)",
   "language": "python",
   "name": "python3"
  },
  "language_info": {
   "codemirror_mode": {
    "name": "ipython",
    "version": 3
   },
   "file_extension": ".py",
   "mimetype": "text/x-python",
   "name": "python",
   "nbconvert_exporter": "python",
   "pygments_lexer": "ipython3",
   "version": "3.10.12"
  },
  "papermill": {
   "duration": 1.3483,
   "end_time": "2023-10-13T18:28:33.765023",
   "exception": null,
   "input_path": "/tmp/tmpl5v0zlhe.ipynb",
   "output_path": "/home/luiscberrocal/PycharmProjects/hacktoberfest-2023/house_pricing/products/02-cleanup.ipynb",
   "parameters": {
    "product": {
     "nb": "/home/luiscberrocal/PycharmProjects/hacktoberfest-2023/house_pricing/products/02-cleanup.ipynb"
    },
    "table_name": "house_prices",
    "upstream": {
     "s01_get": {
      "csv_file": "/home/luiscberrocal/PycharmProjects/hacktoberfest-2023/house_pricing/data/house_prices_raw.csv",
      "database": "/home/luiscberrocal/PycharmProjects/hacktoberfest-2023/house_pricing/data/house_prices.duckdb",
      "nb": "/home/luiscberrocal/PycharmProjects/hacktoberfest-2023/house_pricing/products/01-extract-pipeline.ipynb"
     }
    }
   },
   "start_time": "2023-10-13T18:28:32.416723"
  }
 },
 "nbformat": 4,
 "nbformat_minor": 5
}