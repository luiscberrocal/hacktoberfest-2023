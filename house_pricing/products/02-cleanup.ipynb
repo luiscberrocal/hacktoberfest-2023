{
 "cells": [
  {
   "cell_type": "markdown",
   "id": "6f825406",
   "metadata": {
    "tags": [
     "papermill-error-cell-tag"
    ]
   },
   "source": [
    "<span style=\"color:red; font-family:Helvetica Neue, Helvetica, Arial, sans-serif; font-size:2em;\">An Exception was encountered at '<a href=\"#papermill-error-cell\">In [5]</a>'.</span>"
   ]
  },
  {
   "cell_type": "code",
   "execution_count": 1,
   "id": "4fe3f96d",
   "metadata": {
    "execution": {
     "iopub.execute_input": "2023-10-14T12:17:18.274773Z",
     "iopub.status.busy": "2023-10-14T12:17:18.274477Z",
     "iopub.status.idle": "2023-10-14T12:17:19.203097Z",
     "shell.execute_reply": "2023-10-14T12:17:19.202558Z"
    },
    "lines_to_next_cell": 2,
    "papermill": {
     "duration": 0.932969,
     "end_time": "2023-10-14T12:17:19.204841",
     "exception": false,
     "start_time": "2023-10-14T12:17:18.271872",
     "status": "completed"
    },
    "tags": []
   },
   "outputs": [],
   "source": [
    "from src.db import get_dataframe, save_to_duckdb\n",
    "import re\n",
    "import seaborn as sns\n",
    "import matplotlib.pyplot as plt\n",
    "\n",
    "# Add description here\n",
    "#\n",
    "# *Note:* You can open this file as a notebook (JupyterLab: right-click on it in the side bar -> Open With -> Notebook)"
   ]
  },
  {
   "cell_type": "code",
   "execution_count": 2,
   "id": "ee9d5811",
   "metadata": {
    "execution": {
     "iopub.execute_input": "2023-10-14T12:17:19.219030Z",
     "iopub.status.busy": "2023-10-14T12:17:19.218409Z",
     "iopub.status.idle": "2023-10-14T12:17:19.221380Z",
     "shell.execute_reply": "2023-10-14T12:17:19.220955Z"
    },
    "papermill": {
     "duration": 0.014714,
     "end_time": "2023-10-14T12:17:19.222548",
     "exception": false,
     "start_time": "2023-10-14T12:17:19.207834",
     "status": "completed"
    },
    "tags": []
   },
   "outputs": [],
   "source": [
    "# Uncomment the next two lines to enable auto reloading for imported modules\n",
    "# %load_ext autoreload\n",
    "# %autoreload 2\n",
    "# For more info, see:\n",
    "# https://docs.ploomber.io/en/latest/user-guide/faq_index.html#auto-reloading-code-in-jupyter"
   ]
  },
  {
   "cell_type": "code",
   "execution_count": 3,
   "id": "0fc0d077",
   "metadata": {
    "execution": {
     "iopub.execute_input": "2023-10-14T12:17:19.227326Z",
     "iopub.status.busy": "2023-10-14T12:17:19.226994Z",
     "iopub.status.idle": "2023-10-14T12:17:19.230171Z",
     "shell.execute_reply": "2023-10-14T12:17:19.229694Z"
    },
    "papermill": {
     "duration": 0.007455,
     "end_time": "2023-10-14T12:17:19.231690",
     "exception": false,
     "start_time": "2023-10-14T12:17:19.224235",
     "status": "completed"
    },
    "tags": [
     "parameters"
    ]
   },
   "outputs": [],
   "source": [
    "# If this task has dependencies, list them them here\n",
    "# (e.g. upstream = ['some_task']), otherwise leave as None.\n",
    "upstream = ['s01_get']\n",
    "\n",
    "# This is a placeholder, leave it as None\n",
    "product = None\n",
    "table_name = None"
   ]
  },
  {
   "cell_type": "code",
   "execution_count": 4,
   "id": "2f76b7c5",
   "metadata": {
    "execution": {
     "iopub.execute_input": "2023-10-14T12:17:19.237629Z",
     "iopub.status.busy": "2023-10-14T12:17:19.237358Z",
     "iopub.status.idle": "2023-10-14T12:17:19.240378Z",
     "shell.execute_reply": "2023-10-14T12:17:19.239909Z"
    },
    "papermill": {
     "duration": 0.007191,
     "end_time": "2023-10-14T12:17:19.241366",
     "exception": false,
     "start_time": "2023-10-14T12:17:19.234175",
     "status": "completed"
    },
    "tags": [
     "injected-parameters"
    ]
   },
   "outputs": [],
   "source": [
    "# Parameters\n",
    "table_name = \"house_prices\"\n",
    "upstream = {\"s01_get\": {\"nb\": \"/home/luiscberrocal/PycharmProjects/hacktoberfest-2023/house_pricing/products/01-extract-pipeline.ipynb\", \"csv_file\": \"/home/luiscberrocal/PycharmProjects/hacktoberfest-2023/house_pricing/data/house_prices_raw.csv\", \"database\": \"/home/luiscberrocal/PycharmProjects/hacktoberfest-2023/house_pricing/data/house_prices.duckdb\"}}\n",
    "product = {\"nb\": \"/home/luiscberrocal/PycharmProjects/hacktoberfest-2023/house_pricing/products/02-cleanup.ipynb\"}\n"
   ]
  },
  {
   "cell_type": "markdown",
   "id": "95f4a8f5",
   "metadata": {
    "tags": [
     "papermill-error-cell-tag"
    ]
   },
   "source": [
    "<span id=\"papermill-error-cell\" style=\"color:red; font-family:Helvetica Neue, Helvetica, Arial, sans-serif; font-size:2em;\">Execution using papermill encountered an exception here and stopped:</span>"
   ]
  },
  {
   "cell_type": "code",
   "execution_count": 5,
   "id": "73be2068",
   "metadata": {
    "execution": {
     "iopub.execute_input": "2023-10-14T12:17:19.245116Z",
     "iopub.status.busy": "2023-10-14T12:17:19.244886Z",
     "iopub.status.idle": "2023-10-14T12:17:19.541541Z",
     "shell.execute_reply": "2023-10-14T12:17:19.540470Z"
    },
    "papermill": {
     "duration": 0.299948,
     "end_time": "2023-10-14T12:17:19.542765",
     "exception": true,
     "start_time": "2023-10-14T12:17:19.242817",
     "status": "failed"
    },
    "tags": []
   },
   "outputs": [
    {
     "ename": "IOException",
     "evalue": "IO Error: Could not set lock on file \"/home/luiscberrocal/PycharmProjects/hacktoberfest-2023/house_pricing/data/house_prices.duckdb\": Resource temporarily unavailable",
     "output_type": "error",
     "traceback": [
      "\u001b[0;31m---------------------------------------------------------------------------\u001b[0m",
      "\u001b[0;31mIOException\u001b[0m                               Traceback (most recent call last)",
      "Cell \u001b[0;32mIn[5], line 3\u001b[0m\n\u001b[1;32m      1\u001b[0m \u001b[38;5;66;03m# your code here...\u001b[39;00m\n\u001b[1;32m      2\u001b[0m db_file \u001b[38;5;241m=\u001b[39m upstream[\u001b[38;5;124m'\u001b[39m\u001b[38;5;124ms01_get\u001b[39m\u001b[38;5;124m'\u001b[39m][\u001b[38;5;124m'\u001b[39m\u001b[38;5;124mdatabase\u001b[39m\u001b[38;5;124m'\u001b[39m]\n\u001b[0;32m----> 3\u001b[0m df \u001b[38;5;241m=\u001b[39m \u001b[43mget_dataframe\u001b[49m\u001b[43m(\u001b[49m\u001b[43mduckdb_file\u001b[49m\u001b[38;5;241;43m=\u001b[39;49m\u001b[43mdb_file\u001b[49m\u001b[43m,\u001b[49m\u001b[43m \u001b[49m\u001b[43mtable_name\u001b[49m\u001b[38;5;241;43m=\u001b[39;49m\u001b[43mtable_name\u001b[49m\u001b[43m)\u001b[49m\n",
      "File \u001b[0;32m~/PycharmProjects/hacktoberfest-2023/src/db.py:16\u001b[0m, in \u001b[0;36mget_dataframe\u001b[0;34m(duckdb_file, table_name)\u001b[0m\n\u001b[1;32m     15\u001b[0m \u001b[38;5;28;01mdef\u001b[39;00m \u001b[38;5;21mget_dataframe\u001b[39m(duckdb_file: Path, table_name: \u001b[38;5;28mstr\u001b[39m) \u001b[38;5;241m-\u001b[39m\u001b[38;5;241m>\u001b[39m pd\u001b[38;5;241m.\u001b[39mDataFrame:\n\u001b[0;32m---> 16\u001b[0m     conn \u001b[38;5;241m=\u001b[39m \u001b[43mduckdb\u001b[49m\u001b[38;5;241;43m.\u001b[39;49m\u001b[43mconnect\u001b[49m\u001b[43m(\u001b[49m\u001b[38;5;28;43mstr\u001b[39;49m\u001b[43m(\u001b[49m\u001b[43mduckdb_file\u001b[49m\u001b[43m)\u001b[49m\u001b[43m)\u001b[49m\n\u001b[1;32m     17\u001b[0m     df \u001b[38;5;241m=\u001b[39m conn\u001b[38;5;241m.\u001b[39mquery(\u001b[38;5;124mf\u001b[39m\u001b[38;5;124m'\u001b[39m\u001b[38;5;124mSELECT * FROM \u001b[39m\u001b[38;5;132;01m{\u001b[39;00mtable_name\u001b[38;5;132;01m}\u001b[39;00m\u001b[38;5;124m;\u001b[39m\u001b[38;5;124m'\u001b[39m)\u001b[38;5;241m.\u001b[39mto_df()\n\u001b[1;32m     18\u001b[0m     conn\u001b[38;5;241m.\u001b[39mclose()\n",
      "\u001b[0;31mIOException\u001b[0m: IO Error: Could not set lock on file \"/home/luiscberrocal/PycharmProjects/hacktoberfest-2023/house_pricing/data/house_prices.duckdb\": Resource temporarily unavailable"
     ]
    }
   ],
   "source": [
    "# your code here...\n",
    "db_file = upstream['s01_get']['database']\n",
    "df = get_dataframe(duckdb_file=db_file, table_name=table_name)"
   ]
  },
  {
   "cell_type": "code",
   "execution_count": null,
   "id": "48969ef6",
   "metadata": {
    "papermill": {
     "duration": null,
     "end_time": null,
     "exception": null,
     "start_time": null,
     "status": "pending"
    },
    "tags": []
   },
   "outputs": [],
   "source": [
    "df.shape"
   ]
  },
  {
   "cell_type": "code",
   "execution_count": null,
   "id": "56b20b38",
   "metadata": {
    "papermill": {
     "duration": null,
     "end_time": null,
     "exception": null,
     "start_time": null,
     "status": "pending"
    },
    "tags": []
   },
   "outputs": [],
   "source": [
    "df.info()"
   ]
  },
  {
   "cell_type": "code",
   "execution_count": null,
   "id": "d70ab5e5",
   "metadata": {
    "papermill": {
     "duration": null,
     "end_time": null,
     "exception": null,
     "start_time": null,
     "status": "pending"
    },
    "tags": []
   },
   "outputs": [],
   "source": [
    "renamed_mapping = {}\n",
    "for c in df.columns:\n",
    "    new_c_name = re.sub('[^0-9a-zA-Z_]+', '', c)\n",
    "    renamed_mapping[c] = new_c_name.lower()  \n",
    "\n",
    "df = df.rename(columns=renamed_mapping)\n",
    "\n",
    "df.info()"
   ]
  },
  {
   "cell_type": "code",
   "execution_count": null,
   "id": "25a062f8",
   "metadata": {
    "papermill": {
     "duration": null,
     "end_time": null,
     "exception": null,
     "start_time": null,
     "status": "pending"
    },
    "tags": []
   },
   "outputs": [],
   "source": [
    "df.isna().sum()"
   ]
  },
  {
   "cell_type": "code",
   "execution_count": null,
   "id": "543128f7",
   "metadata": {
    "papermill": {
     "duration": null,
     "end_time": null,
     "exception": null,
     "start_time": null,
     "status": "pending"
    },
    "tags": []
   },
   "outputs": [],
   "source": [
    "df.hist(figsize=(12, 9))\n",
    "plt.tight_layout()\n",
    "plt.show()"
   ]
  },
  {
   "cell_type": "code",
   "execution_count": null,
   "id": "7a785588",
   "metadata": {
    "papermill": {
     "duration": null,
     "end_time": null,
     "exception": null,
     "start_time": null,
     "status": "pending"
    },
    "tags": []
   },
   "outputs": [],
   "source": [
    "plt.figure(figsize=(18, 8))\n",
    "sns.heatmap(df.corr(), annot=True, cmap='YlGnBu')\n",
    "plt.show()"
   ]
  },
  {
   "cell_type": "code",
   "execution_count": null,
   "id": "7a92aa2b",
   "metadata": {
    "papermill": {
     "duration": null,
     "end_time": null,
     "exception": null,
     "start_time": null,
     "status": "pending"
    },
    "tags": []
   },
   "outputs": [],
   "source": [
    "save_to_duckdb(df=df, table_name=table_name, db_path=product['database'])"
   ]
  }
 ],
 "metadata": {
  "jupytext": {
   "text_representation": {
    "extension": ".py",
    "format_name": "percent"
   }
  },
  "kernelspec": {
   "display_name": "Python 3 (ipykernel)",
   "language": "python",
   "name": "python3"
  },
  "language_info": {
   "codemirror_mode": {
    "name": "ipython",
    "version": 3
   },
   "file_extension": ".py",
   "mimetype": "text/x-python",
   "name": "python",
   "nbconvert_exporter": "python",
   "pygments_lexer": "ipython3",
   "version": "3.10.12"
  },
  "papermill": {
   "duration": 2.247425,
   "end_time": "2023-10-14T12:17:19.863203",
   "exception": true,
   "input_path": "/tmp/tmpbjdcsxwb.ipynb",
   "output_path": "/home/luiscberrocal/PycharmProjects/hacktoberfest-2023/house_pricing/products/02-cleanup.ipynb",
   "parameters": {
    "product": {
     "nb": "/home/luiscberrocal/PycharmProjects/hacktoberfest-2023/house_pricing/products/02-cleanup.ipynb"
    },
    "table_name": "house_prices",
    "upstream": {
     "s01_get": {
      "csv_file": "/home/luiscberrocal/PycharmProjects/hacktoberfest-2023/house_pricing/data/house_prices_raw.csv",
      "database": "/home/luiscberrocal/PycharmProjects/hacktoberfest-2023/house_pricing/data/house_prices.duckdb",
      "nb": "/home/luiscberrocal/PycharmProjects/hacktoberfest-2023/house_pricing/products/01-extract-pipeline.ipynb"
     }
    }
   },
   "start_time": "2023-10-14T12:17:17.615778"
  }
 },
 "nbformat": 4,
 "nbformat_minor": 5
}