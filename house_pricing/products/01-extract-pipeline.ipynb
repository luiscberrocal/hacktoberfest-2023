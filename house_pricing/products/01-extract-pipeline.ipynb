{
 "cells": [
  {
   "cell_type": "code",
   "execution_count": 1,
   "id": "cecd658b",
   "metadata": {
    "execution": {
     "iopub.execute_input": "2023-10-10T12:41:21.263371Z",
     "iopub.status.busy": "2023-10-10T12:41:21.263121Z",
     "iopub.status.idle": "2023-10-10T12:41:21.269598Z",
     "shell.execute_reply": "2023-10-10T12:41:21.269185Z"
    },
    "lines_to_next_cell": 2,
    "papermill": {
     "duration": 0.010231,
     "end_time": "2023-10-10T12:41:21.271003",
     "exception": false,
     "start_time": "2023-10-10T12:41:21.260772",
     "status": "completed"
    },
    "tags": []
   },
   "outputs": [],
   "source": [
    "from pathlib import Path\n",
    "\n",
    "from src import settings\n",
    "from src.kaggle import configure_kaggle, download_dataset\n",
    "\n",
    "# Add description here\n",
    "#\n",
    "# *Note:* You can open this file as a notebook (JupyterLab: right-click on it in the side bar -> Open With -> Notebook)"
   ]
  },
  {
   "cell_type": "code",
   "execution_count": 2,
   "id": "bb8086b4",
   "metadata": {
    "execution": {
     "iopub.execute_input": "2023-10-10T12:41:21.275429Z",
     "iopub.status.busy": "2023-10-10T12:41:21.275232Z",
     "iopub.status.idle": "2023-10-10T12:41:21.277549Z",
     "shell.execute_reply": "2023-10-10T12:41:21.277111Z"
    },
    "papermill": {
     "duration": 0.005469,
     "end_time": "2023-10-10T12:41:21.278585",
     "exception": false,
     "start_time": "2023-10-10T12:41:21.273116",
     "status": "completed"
    },
    "tags": []
   },
   "outputs": [],
   "source": [
    "# Uncomment the next two lines to enable auto reloading for imported modules\n",
    "# %load_ext autoreload\n",
    "# %autoreload 2\n",
    "# For more info, see:\n",
    "# https://docs.ploomber.io/en/latest/user-guide/faq_index.html#auto-reloading-code-in-jupyter"
   ]
  },
  {
   "cell_type": "code",
   "execution_count": 3,
   "id": "fabef504",
   "metadata": {
    "execution": {
     "iopub.execute_input": "2023-10-10T12:41:21.281926Z",
     "iopub.status.busy": "2023-10-10T12:41:21.281653Z",
     "iopub.status.idle": "2023-10-10T12:41:21.284408Z",
     "shell.execute_reply": "2023-10-10T12:41:21.284007Z"
    },
    "papermill": {
     "duration": 0.005504,
     "end_time": "2023-10-10T12:41:21.285302",
     "exception": false,
     "start_time": "2023-10-10T12:41:21.279798",
     "status": "completed"
    },
    "tags": [
     "parameters"
    ]
   },
   "outputs": [],
   "source": [
    "# If this task has dependencies, list them them here\n",
    "# (e.g. upstream = ['some_task']), otherwise leave as None.\n",
    "upstream = None\n",
    "\n",
    "# This is a placeholder, leave it as None\n",
    "product = None\n",
    "table_name = None\n",
    "kaggle_owner = None\n",
    "kaggle_dataset_name = None\n",
    "\n"
   ]
  },
  {
   "cell_type": "code",
   "execution_count": 4,
   "id": "33615225",
   "metadata": {
    "execution": {
     "iopub.execute_input": "2023-10-10T12:41:21.288461Z",
     "iopub.status.busy": "2023-10-10T12:41:21.288249Z",
     "iopub.status.idle": "2023-10-10T12:41:21.290840Z",
     "shell.execute_reply": "2023-10-10T12:41:21.290476Z"
    },
    "papermill": {
     "duration": 0.005448,
     "end_time": "2023-10-10T12:41:21.291731",
     "exception": false,
     "start_time": "2023-10-10T12:41:21.286283",
     "status": "completed"
    },
    "tags": [
     "injected-parameters"
    ]
   },
   "outputs": [],
   "source": [
    "# Parameters\n",
    "table_name = \"house_prices\"\n",
    "kaggle_owner = \"fedesoriano\"\n",
    "kaggle_dataset_name = \"california-housing-prices-data-extra-features\"\n",
    "product = {\"nb\": \"/home/luiscberrocal/PycharmProjects/hacktoberfest-2023/house_pricing/products/01-extract-pipeline.ipynb\", \"csv_file\": \"/home/luiscberrocal/PycharmProjects/hacktoberfest-2023/house_pricing/data/house_prices.csv\", \"database\": \"/home/luiscberrocal/PycharmProjects/hacktoberfest-2023/house_pricing/data/house_prices.duckdb\"}\n"
   ]
  },
  {
   "cell_type": "code",
   "execution_count": 5,
   "id": "35048f42",
   "metadata": {
    "execution": {
     "iopub.execute_input": "2023-10-10T12:41:21.294544Z",
     "iopub.status.busy": "2023-10-10T12:41:21.294278Z",
     "iopub.status.idle": "2023-10-10T12:41:22.896428Z",
     "shell.execute_reply": "2023-10-10T12:41:22.895891Z"
    },
    "papermill": {
     "duration": 1.605145,
     "end_time": "2023-10-10T12:41:22.897905",
     "exception": false,
     "start_time": "2023-10-10T12:41:21.292760",
     "status": "completed"
    },
    "tags": []
   },
   "outputs": [
    {
     "name": "stdout",
     "output_type": "stream",
     "text": [
      "Data folder: /home/luiscberrocal/PycharmProjects/hacktoberfest-2023/house_pricing/data/california-housing-prices-data-extra-features\n"
     ]
    }
   ],
   "source": [
    "# your code here...\n",
    "configure_kaggle(settings.ENVS_FOLDER)\n",
    "data_folder = Path(product['csv_file']).parent\n",
    "data_folder.mkdir(exist_ok=True)\n",
    "fldr = download_dataset(owner=kaggle_owner, dataset_name=kaggle_dataset_name, download_folder=data_folder)\n",
    "print(f'Data folder: {fldr}')\n",
    "# csv_file = find_csv_file(fldr, 'Train.csv')\n",
    "# df = pd.read_csv(csv_file)\n",
    "# df.to_csv(product['csv_file'], index=False)\n",
    "# save_to_duckdb(df=df, table_name=table_name, db_path=product['database'])\n",
    "\n",
    "#print(f'CSV: {csv_file}')"
   ]
  },
  {
   "cell_type": "code",
   "execution_count": 6,
   "id": "09eff282",
   "metadata": {
    "execution": {
     "iopub.execute_input": "2023-10-10T12:41:22.910485Z",
     "iopub.status.busy": "2023-10-10T12:41:22.910237Z",
     "iopub.status.idle": "2023-10-10T12:41:22.912806Z",
     "shell.execute_reply": "2023-10-10T12:41:22.912310Z"
    },
    "papermill": {
     "duration": 0.014667,
     "end_time": "2023-10-10T12:41:22.914216",
     "exception": false,
     "start_time": "2023-10-10T12:41:22.899549",
     "status": "completed"
    },
    "tags": []
   },
   "outputs": [],
   "source": [
    "# df.head()"
   ]
  }
 ],
 "metadata": {
  "jupytext": {
   "text_representation": {
    "extension": ".py",
    "format_name": "percent"
   }
  },
  "kernelspec": {
   "display_name": "Python 3 (ipykernel)",
   "language": "python",
   "name": "python3"
  },
  "language_info": {
   "codemirror_mode": {
    "name": "ipython",
    "version": 3
   },
   "file_extension": ".py",
   "mimetype": "text/x-python",
   "name": "python",
   "nbconvert_exporter": "python",
   "pygments_lexer": "ipython3",
   "version": "3.10.12"
  },
  "papermill": {
   "duration": 2.527896,
   "end_time": "2023-10-10T12:41:23.133772",
   "exception": null,
   "input_path": "/tmp/tmpcz_i2owp.ipynb",
   "output_path": "/home/luiscberrocal/PycharmProjects/hacktoberfest-2023/house_pricing/products/01-extract-pipeline.ipynb",
   "parameters": {
    "kaggle_dataset_name": "california-housing-prices-data-extra-features",
    "kaggle_owner": "fedesoriano",
    "product": {
     "csv_file": "/home/luiscberrocal/PycharmProjects/hacktoberfest-2023/house_pricing/data/house_prices.csv",
     "database": "/home/luiscberrocal/PycharmProjects/hacktoberfest-2023/house_pricing/data/house_prices.duckdb",
     "nb": "/home/luiscberrocal/PycharmProjects/hacktoberfest-2023/house_pricing/products/01-extract-pipeline.ipynb"
    },
    "table_name": "house_prices"
   },
   "start_time": "2023-10-10T12:41:20.605876"
  }
 },
 "nbformat": 4,
 "nbformat_minor": 5
}