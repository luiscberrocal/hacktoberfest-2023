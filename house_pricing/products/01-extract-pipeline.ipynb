{
 "cells": [
  {
   "cell_type": "code",
   "execution_count": 1,
   "id": "e737cf59",
   "metadata": {
    "execution": {
     "iopub.execute_input": "2023-10-13T13:03:06.401177Z",
     "iopub.status.busy": "2023-10-13T13:03:06.400918Z",
     "iopub.status.idle": "2023-10-13T13:03:06.771116Z",
     "shell.execute_reply": "2023-10-13T13:03:06.770650Z"
    },
    "lines_to_next_cell": 2,
    "papermill": {
     "duration": 0.373714,
     "end_time": "2023-10-13T13:03:06.772542",
     "exception": false,
     "start_time": "2023-10-13T13:03:06.398828",
     "status": "completed"
    },
    "tags": []
   },
   "outputs": [],
   "source": [
    "from pathlib import Path\n",
    "import pandas as pd\n",
    "\n",
    "from src import settings\n",
    "from src.db import save_to_duckdb\n",
    "from src.handlers import find_csv_file\n",
    "from src.kaggle import configure_kaggle, download_dataset\n",
    "\n",
    "# Add description here\n",
    "#\n",
    "# *Note:* You can open this file as a notebook (JupyterLab: right-click on it in the side bar -> Open With -> Notebook)"
   ]
  },
  {
   "cell_type": "code",
   "execution_count": 2,
   "id": "7eb63258",
   "metadata": {
    "execution": {
     "iopub.execute_input": "2023-10-13T13:03:06.776462Z",
     "iopub.status.busy": "2023-10-13T13:03:06.776140Z",
     "iopub.status.idle": "2023-10-13T13:03:06.778856Z",
     "shell.execute_reply": "2023-10-13T13:03:06.778389Z"
    },
    "papermill": {
     "duration": 0.005776,
     "end_time": "2023-10-13T13:03:06.779908",
     "exception": false,
     "start_time": "2023-10-13T13:03:06.774132",
     "status": "completed"
    },
    "tags": []
   },
   "outputs": [],
   "source": [
    "# Uncomment the next two lines to enable auto reloading for imported modules\n",
    "# %load_ext autoreload\n",
    "# %autoreload 2\n",
    "# For more info, see:\n",
    "# https://docs.ploomber.io/en/latest/user-guide/faq_index.html#auto-reloading-code-in-jupyter"
   ]
  },
  {
   "cell_type": "code",
   "execution_count": 3,
   "id": "e8dd327a",
   "metadata": {
    "execution": {
     "iopub.execute_input": "2023-10-13T13:03:06.783612Z",
     "iopub.status.busy": "2023-10-13T13:03:06.783334Z",
     "iopub.status.idle": "2023-10-13T13:03:06.786274Z",
     "shell.execute_reply": "2023-10-13T13:03:06.785827Z"
    },
    "lines_to_next_cell": 2,
    "papermill": {
     "duration": 0.006173,
     "end_time": "2023-10-13T13:03:06.787290",
     "exception": false,
     "start_time": "2023-10-13T13:03:06.781117",
     "status": "completed"
    },
    "tags": [
     "parameters"
    ]
   },
   "outputs": [],
   "source": [
    "# If this task has dependencies, list them them here\n",
    "# (e.g. upstream = ['some_task']), otherwise leave as None.\n",
    "upstream = None\n",
    "\n",
    "# This is a placeholder, leave it as None\n",
    "product = None\n",
    "table_name = None\n",
    "kaggle_owner = None\n",
    "kaggle_dataset_name = None\n",
    "kaggle_csv = None"
   ]
  },
  {
   "cell_type": "code",
   "execution_count": 4,
   "id": "25133da6",
   "metadata": {
    "execution": {
     "iopub.execute_input": "2023-10-13T13:03:06.790713Z",
     "iopub.status.busy": "2023-10-13T13:03:06.790418Z",
     "iopub.status.idle": "2023-10-13T13:03:06.793584Z",
     "shell.execute_reply": "2023-10-13T13:03:06.793060Z"
    },
    "papermill": {
     "duration": 0.006359,
     "end_time": "2023-10-13T13:03:06.794844",
     "exception": false,
     "start_time": "2023-10-13T13:03:06.788485",
     "status": "completed"
    },
    "tags": [
     "injected-parameters"
    ]
   },
   "outputs": [],
   "source": [
    "# Parameters\n",
    "table_name = \"house_prices\"\n",
    "kaggle_owner = \"fedesoriano\"\n",
    "kaggle_dataset_name = \"california-housing-prices-data-extra-features\"\n",
    "kaggle_csv = \"California_Houses.csv\"\n",
    "product = {\"nb\": \"/home/luiscberrocal/PycharmProjects/hacktoberfest-2023/house_pricing/products/01-extract-pipeline.ipynb\", \"csv_file\": \"/home/luiscberrocal/PycharmProjects/hacktoberfest-2023/house_pricing/data/house_prices_raw.csv\", \"database\": \"/home/luiscberrocal/PycharmProjects/hacktoberfest-2023/house_pricing/data/house_prices.duckdb\"}\n"
   ]
  },
  {
   "cell_type": "code",
   "execution_count": 5,
   "id": "4d0c04ee",
   "metadata": {
    "execution": {
     "iopub.execute_input": "2023-10-13T13:03:06.798471Z",
     "iopub.status.busy": "2023-10-13T13:03:06.798199Z",
     "iopub.status.idle": "2023-10-13T13:03:10.101039Z",
     "shell.execute_reply": "2023-10-13T13:03:10.100515Z"
    },
    "papermill": {
     "duration": 3.305924,
     "end_time": "2023-10-13T13:03:10.102282",
     "exception": false,
     "start_time": "2023-10-13T13:03:06.796358",
     "status": "completed"
    },
    "tags": []
   },
   "outputs": [
    {
     "name": "stdout",
     "output_type": "stream",
     "text": [
      "Data folder: /home/luiscberrocal/PycharmProjects/hacktoberfest-2023/house_pricing/data/california-housing-prices-data-extra-features\n"
     ]
    },
    {
     "name": "stdout",
     "output_type": "stream",
     "text": [
      "CSV: /home/luiscberrocal/PycharmProjects/hacktoberfest-2023/house_pricing/data/california-housing-prices-data-extra-features/California_Houses.csv\n"
     ]
    }
   ],
   "source": [
    "# your code here...\n",
    "configure_kaggle(settings.ENVS_FOLDER)\n",
    "data_folder = Path(product['csv_file']).parent\n",
    "data_folder.mkdir(exist_ok=True)\n",
    "fldr = download_dataset(owner=kaggle_owner, dataset_name=kaggle_dataset_name, download_folder=data_folder)\n",
    "print(f'Data folder: {fldr}')\n",
    "csv_file = find_csv_file(fldr, kaggle_csv)\n",
    "df = pd.read_csv(csv_file)\n",
    "df.to_csv(product['csv_file'], index=False)\n",
    "save_to_duckdb(df=df, table_name=table_name, db_path=product['database'])\n",
    "\n",
    "print(f'CSV: {csv_file}')"
   ]
  },
  {
   "cell_type": "code",
   "execution_count": 6,
   "id": "5c227d62",
   "metadata": {
    "execution": {
     "iopub.execute_input": "2023-10-13T13:03:10.106584Z",
     "iopub.status.busy": "2023-10-13T13:03:10.106283Z",
     "iopub.status.idle": "2023-10-13T13:03:10.119046Z",
     "shell.execute_reply": "2023-10-13T13:03:10.118536Z"
    },
    "papermill": {
     "duration": 0.016231,
     "end_time": "2023-10-13T13:03:10.120151",
     "exception": false,
     "start_time": "2023-10-13T13:03:10.103920",
     "status": "completed"
    },
    "tags": []
   },
   "outputs": [
    {
     "data": {
      "text/html": [
       "<div>\n",
       "<style scoped>\n",
       "    .dataframe tbody tr th:only-of-type {\n",
       "        vertical-align: middle;\n",
       "    }\n",
       "\n",
       "    .dataframe tbody tr th {\n",
       "        vertical-align: top;\n",
       "    }\n",
       "\n",
       "    .dataframe thead th {\n",
       "        text-align: right;\n",
       "    }\n",
       "</style>\n",
       "<table border=\"1\" class=\"dataframe\">\n",
       "  <thead>\n",
       "    <tr style=\"text-align: right;\">\n",
       "      <th></th>\n",
       "      <th>Median_House_Value</th>\n",
       "      <th>Median_Income</th>\n",
       "      <th>Median_Age</th>\n",
       "      <th>Tot_Rooms</th>\n",
       "      <th>Tot_Bedrooms</th>\n",
       "      <th>Population</th>\n",
       "      <th>Households</th>\n",
       "      <th>Latitude</th>\n",
       "      <th>Longitude</th>\n",
       "      <th>Distance_to_coast</th>\n",
       "      <th>Distance_to_LA</th>\n",
       "      <th>Distance_to_SanDiego</th>\n",
       "      <th>Distance_to_SanJose</th>\n",
       "      <th>Distance_to_SanFrancisco</th>\n",
       "    </tr>\n",
       "  </thead>\n",
       "  <tbody>\n",
       "    <tr>\n",
       "      <th>0</th>\n",
       "      <td>452600.0</td>\n",
       "      <td>8.3252</td>\n",
       "      <td>41</td>\n",
       "      <td>880</td>\n",
       "      <td>129</td>\n",
       "      <td>322</td>\n",
       "      <td>126</td>\n",
       "      <td>37.88</td>\n",
       "      <td>-122.23</td>\n",
       "      <td>9263.040773</td>\n",
       "      <td>556529.158342</td>\n",
       "      <td>735501.806984</td>\n",
       "      <td>67432.517001</td>\n",
       "      <td>21250.213767</td>\n",
       "    </tr>\n",
       "    <tr>\n",
       "      <th>1</th>\n",
       "      <td>358500.0</td>\n",
       "      <td>8.3014</td>\n",
       "      <td>21</td>\n",
       "      <td>7099</td>\n",
       "      <td>1106</td>\n",
       "      <td>2401</td>\n",
       "      <td>1138</td>\n",
       "      <td>37.86</td>\n",
       "      <td>-122.22</td>\n",
       "      <td>10225.733072</td>\n",
       "      <td>554279.850069</td>\n",
       "      <td>733236.884360</td>\n",
       "      <td>65049.908574</td>\n",
       "      <td>20880.600400</td>\n",
       "    </tr>\n",
       "    <tr>\n",
       "      <th>2</th>\n",
       "      <td>352100.0</td>\n",
       "      <td>7.2574</td>\n",
       "      <td>52</td>\n",
       "      <td>1467</td>\n",
       "      <td>190</td>\n",
       "      <td>496</td>\n",
       "      <td>177</td>\n",
       "      <td>37.85</td>\n",
       "      <td>-122.24</td>\n",
       "      <td>8259.085109</td>\n",
       "      <td>554610.717069</td>\n",
       "      <td>733525.682937</td>\n",
       "      <td>64867.289833</td>\n",
       "      <td>18811.487450</td>\n",
       "    </tr>\n",
       "    <tr>\n",
       "      <th>3</th>\n",
       "      <td>341300.0</td>\n",
       "      <td>5.6431</td>\n",
       "      <td>52</td>\n",
       "      <td>1274</td>\n",
       "      <td>235</td>\n",
       "      <td>558</td>\n",
       "      <td>219</td>\n",
       "      <td>37.85</td>\n",
       "      <td>-122.25</td>\n",
       "      <td>7768.086571</td>\n",
       "      <td>555194.266086</td>\n",
       "      <td>734095.290744</td>\n",
       "      <td>65287.138412</td>\n",
       "      <td>18031.047568</td>\n",
       "    </tr>\n",
       "    <tr>\n",
       "      <th>4</th>\n",
       "      <td>342200.0</td>\n",
       "      <td>3.8462</td>\n",
       "      <td>52</td>\n",
       "      <td>1627</td>\n",
       "      <td>280</td>\n",
       "      <td>565</td>\n",
       "      <td>259</td>\n",
       "      <td>37.85</td>\n",
       "      <td>-122.25</td>\n",
       "      <td>7768.086571</td>\n",
       "      <td>555194.266086</td>\n",
       "      <td>734095.290744</td>\n",
       "      <td>65287.138412</td>\n",
       "      <td>18031.047568</td>\n",
       "    </tr>\n",
       "  </tbody>\n",
       "</table>\n",
       "</div>"
      ],
      "text/plain": [
       "   Median_House_Value  Median_Income  Median_Age  Tot_Rooms  Tot_Bedrooms  \\\n",
       "0            452600.0         8.3252          41        880           129   \n",
       "1            358500.0         8.3014          21       7099          1106   \n",
       "2            352100.0         7.2574          52       1467           190   \n",
       "3            341300.0         5.6431          52       1274           235   \n",
       "4            342200.0         3.8462          52       1627           280   \n",
       "\n",
       "   Population  Households  Latitude  Longitude  Distance_to_coast  \\\n",
       "0         322         126     37.88    -122.23        9263.040773   \n",
       "1        2401        1138     37.86    -122.22       10225.733072   \n",
       "2         496         177     37.85    -122.24        8259.085109   \n",
       "3         558         219     37.85    -122.25        7768.086571   \n",
       "4         565         259     37.85    -122.25        7768.086571   \n",
       "\n",
       "   Distance_to_LA  Distance_to_SanDiego  Distance_to_SanJose  \\\n",
       "0   556529.158342         735501.806984         67432.517001   \n",
       "1   554279.850069         733236.884360         65049.908574   \n",
       "2   554610.717069         733525.682937         64867.289833   \n",
       "3   555194.266086         734095.290744         65287.138412   \n",
       "4   555194.266086         734095.290744         65287.138412   \n",
       "\n",
       "   Distance_to_SanFrancisco  \n",
       "0              21250.213767  \n",
       "1              20880.600400  \n",
       "2              18811.487450  \n",
       "3              18031.047568  \n",
       "4              18031.047568  "
      ]
     },
     "execution_count": 6,
     "metadata": {},
     "output_type": "execute_result"
    }
   ],
   "source": [
    "df.head()"
   ]
  }
 ],
 "metadata": {
  "jupytext": {
   "text_representation": {
    "extension": ".py",
    "format_name": "percent"
   }
  },
  "kernelspec": {
   "display_name": "Python 3 (ipykernel)",
   "language": "python",
   "name": "python3"
  },
  "language_info": {
   "codemirror_mode": {
    "name": "ipython",
    "version": 3
   },
   "file_extension": ".py",
   "mimetype": "text/x-python",
   "name": "python",
   "nbconvert_exporter": "python",
   "pygments_lexer": "ipython3",
   "version": "3.10.12"
  },
  "papermill": {
   "duration": 4.594544,
   "end_time": "2023-10-13T13:03:10.338527",
   "exception": null,
   "input_path": "/tmp/tmp8mx5k2cs.ipynb",
   "output_path": "/home/luiscberrocal/PycharmProjects/hacktoberfest-2023/house_pricing/products/01-extract-pipeline.ipynb",
   "parameters": {
    "kaggle_csv": "California_Houses.csv",
    "kaggle_dataset_name": "california-housing-prices-data-extra-features",
    "kaggle_owner": "fedesoriano",
    "product": {
     "csv_file": "/home/luiscberrocal/PycharmProjects/hacktoberfest-2023/house_pricing/data/house_prices_raw.csv",
     "database": "/home/luiscberrocal/PycharmProjects/hacktoberfest-2023/house_pricing/data/house_prices.duckdb",
     "nb": "/home/luiscberrocal/PycharmProjects/hacktoberfest-2023/house_pricing/products/01-extract-pipeline.ipynb"
    },
    "table_name": "house_prices"
   },
   "start_time": "2023-10-13T13:03:05.743983"
  }
 },
 "nbformat": 4,
 "nbformat_minor": 5
}