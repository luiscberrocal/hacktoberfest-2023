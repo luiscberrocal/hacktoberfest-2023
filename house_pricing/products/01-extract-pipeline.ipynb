{
 "cells": [
  {
   "cell_type": "code",
   "execution_count": 1,
   "id": "bc9c6c12",
   "metadata": {
    "execution": {
     "iopub.execute_input": "2023-10-10T12:24:57.898911Z",
     "iopub.status.busy": "2023-10-10T12:24:57.898404Z",
     "iopub.status.idle": "2023-10-10T12:24:57.909560Z",
     "shell.execute_reply": "2023-10-10T12:24:57.909157Z"
    },
    "lines_to_next_cell": 2,
    "papermill": {
     "duration": 0.014712,
     "end_time": "2023-10-10T12:24:57.910988",
     "exception": false,
     "start_time": "2023-10-10T12:24:57.896276",
     "status": "completed"
    },
    "tags": []
   },
   "outputs": [],
   "source": [
    "from src import settings\n",
    "from src.kaggle import configure_kaggle, download_dataset\n",
    "\n",
    "# Add description here\n",
    "#\n",
    "# *Note:* You can open this file as a notebook (JupyterLab: right-click on it in the side bar -> Open With -> Notebook)"
   ]
  },
  {
   "cell_type": "code",
   "execution_count": 2,
   "id": "86ad0ad3",
   "metadata": {
    "execution": {
     "iopub.execute_input": "2023-10-10T12:24:57.914642Z",
     "iopub.status.busy": "2023-10-10T12:24:57.914294Z",
     "iopub.status.idle": "2023-10-10T12:24:57.916724Z",
     "shell.execute_reply": "2023-10-10T12:24:57.916296Z"
    },
    "papermill": {
     "duration": 0.005243,
     "end_time": "2023-10-10T12:24:57.917794",
     "exception": false,
     "start_time": "2023-10-10T12:24:57.912551",
     "status": "completed"
    },
    "tags": []
   },
   "outputs": [],
   "source": [
    "# Uncomment the next two lines to enable auto reloading for imported modules\n",
    "# %load_ext autoreload\n",
    "# %autoreload 2\n",
    "# For more info, see:\n",
    "# https://docs.ploomber.io/en/latest/user-guide/faq_index.html#auto-reloading-code-in-jupyter"
   ]
  },
  {
   "cell_type": "code",
   "execution_count": 3,
   "id": "4d1411e5",
   "metadata": {
    "execution": {
     "iopub.execute_input": "2023-10-10T12:24:57.921161Z",
     "iopub.status.busy": "2023-10-10T12:24:57.920897Z",
     "iopub.status.idle": "2023-10-10T12:24:57.923578Z",
     "shell.execute_reply": "2023-10-10T12:24:57.923177Z"
    },
    "papermill": {
     "duration": 0.00552,
     "end_time": "2023-10-10T12:24:57.924639",
     "exception": false,
     "start_time": "2023-10-10T12:24:57.919119",
     "status": "completed"
    },
    "tags": [
     "parameters"
    ]
   },
   "outputs": [],
   "source": [
    "# If this task has dependencies, list them them here\n",
    "# (e.g. upstream = ['some_task']), otherwise leave as None.\n",
    "upstream = None\n",
    "\n",
    "# This is a placeholder, leave it as None\n",
    "product = None\n",
    "table_name = None\n",
    "kaggle_owner = None\n",
    "kaggle_dataset_name = None\n",
    "\n"
   ]
  },
  {
   "cell_type": "code",
   "execution_count": 4,
   "id": "c2f16c94",
   "metadata": {
    "execution": {
     "iopub.execute_input": "2023-10-10T12:24:57.928090Z",
     "iopub.status.busy": "2023-10-10T12:24:57.927916Z",
     "iopub.status.idle": "2023-10-10T12:24:57.930647Z",
     "shell.execute_reply": "2023-10-10T12:24:57.930199Z"
    },
    "papermill": {
     "duration": 0.005697,
     "end_time": "2023-10-10T12:24:57.931680",
     "exception": false,
     "start_time": "2023-10-10T12:24:57.925983",
     "status": "completed"
    },
    "tags": [
     "injected-parameters"
    ]
   },
   "outputs": [],
   "source": [
    "# Parameters\n",
    "table_name = \"house_prices\"\n",
    "kaggle_owner = \"fedesoriano\"\n",
    "kaggle_dataset_name = \"california-housing-prices-data-extra-features\"\n",
    "product = {\"nb\": \"/home/luiscberrocal/PycharmProjects/hacktoberfest-2023/house_pricing/products/01-extract-pipeline.ipynb\", \"csv_file\": \"/home/luiscberrocal/PycharmProjects/hacktoberfest-2023/house_pricing/data/house_prices.csv\", \"database\": \"/home/luiscberrocal/PycharmProjects/hacktoberfest-2023/house_pricing/data/house_prices.duckdb\"}\n"
   ]
  },
  {
   "cell_type": "code",
   "execution_count": 5,
   "id": "414cffb2",
   "metadata": {
    "execution": {
     "iopub.execute_input": "2023-10-10T12:24:57.935227Z",
     "iopub.status.busy": "2023-10-10T12:24:57.934965Z",
     "iopub.status.idle": "2023-10-10T12:24:59.851597Z",
     "shell.execute_reply": "2023-10-10T12:24:59.851016Z"
    },
    "papermill": {
     "duration": 1.919826,
     "end_time": "2023-10-10T12:24:59.852785",
     "exception": false,
     "start_time": "2023-10-10T12:24:57.932959",
     "status": "completed"
    },
    "tags": []
   },
   "outputs": [
    {
     "name": "stdout",
     "output_type": "stream",
     "text": [
      "Data folder: /home/luiscberrocal/PycharmProjects/hacktoberfest-2023/src/data/california-housing-prices-data-extra-features\n"
     ]
    }
   ],
   "source": [
    "# your code here...\n",
    "configure_kaggle(settings.ENVS_FOLDER)\n",
    "#ds_owner = 'akash14'\n",
    "#ds_name = 'house-price-dataset'\n",
    "data_folder = settings.DATA_FOLDER\n",
    "data_folder.mkdir(exist_ok=True)\n",
    "fldr = download_dataset(owner=kaggle_owner, dataset_name=kaggle_dataset_name, download_folder=data_folder)\n",
    "print(f'Data folder: {fldr}')\n",
    "# csv_file = find_csv_file(fldr, 'Train.csv')\n",
    "# df = pd.read_csv(csv_file)\n",
    "# df.to_csv(product['csv_file'], index=False)\n",
    "# save_to_duckdb(df=df, table_name=table_name, db_path=product['database'])\n",
    "\n",
    "#print(f'CSV: {csv_file}')"
   ]
  },
  {
   "cell_type": "code",
   "execution_count": 6,
   "id": "e307627c",
   "metadata": {
    "execution": {
     "iopub.execute_input": "2023-10-10T12:24:59.865756Z",
     "iopub.status.busy": "2023-10-10T12:24:59.865414Z",
     "iopub.status.idle": "2023-10-10T12:24:59.868406Z",
     "shell.execute_reply": "2023-10-10T12:24:59.867869Z"
    },
    "papermill": {
     "duration": 0.014983,
     "end_time": "2023-10-10T12:24:59.869446",
     "exception": false,
     "start_time": "2023-10-10T12:24:59.854463",
     "status": "completed"
    },
    "tags": []
   },
   "outputs": [],
   "source": [
    "# df.head()"
   ]
  }
 ],
 "metadata": {
  "jupytext": {
   "text_representation": {
    "extension": ".py",
    "format_name": "percent"
   }
  },
  "kernelspec": {
   "display_name": "Python 3 (ipykernel)",
   "language": "python",
   "name": "python3"
  },
  "language_info": {
   "codemirror_mode": {
    "name": "ipython",
    "version": 3
   },
   "file_extension": ".py",
   "mimetype": "text/x-python",
   "name": "python",
   "nbconvert_exporter": "python",
   "pygments_lexer": "ipython3",
   "version": "3.10.12"
  },
  "papermill": {
   "duration": 2.842339,
   "end_time": "2023-10-10T12:25:00.086090",
   "exception": null,
   "input_path": "/tmp/tmp2n6s_mq6.ipynb",
   "output_path": "/home/luiscberrocal/PycharmProjects/hacktoberfest-2023/house_pricing/products/01-extract-pipeline.ipynb",
   "parameters": {
    "kaggle_dataset_name": "california-housing-prices-data-extra-features",
    "kaggle_owner": "fedesoriano",
    "product": {
     "csv_file": "/home/luiscberrocal/PycharmProjects/hacktoberfest-2023/house_pricing/data/house_prices.csv",
     "database": "/home/luiscberrocal/PycharmProjects/hacktoberfest-2023/house_pricing/data/house_prices.duckdb",
     "nb": "/home/luiscberrocal/PycharmProjects/hacktoberfest-2023/house_pricing/products/01-extract-pipeline.ipynb"
    },
    "table_name": "house_prices"
   },
   "start_time": "2023-10-10T12:24:57.243751"
  }
 },
 "nbformat": 4,
 "nbformat_minor": 5
}