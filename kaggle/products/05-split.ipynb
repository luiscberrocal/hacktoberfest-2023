{
 "cells": [
  {
   "cell_type": "code",
   "execution_count": 1,
   "id": "5826fbcd",
   "metadata": {
    "execution": {
     "iopub.execute_input": "2023-10-05T13:18:30.173916Z",
     "iopub.status.busy": "2023-10-05T13:18:30.173689Z",
     "iopub.status.idle": "2023-10-05T13:18:30.179952Z",
     "shell.execute_reply": "2023-10-05T13:18:30.179462Z"
    },
    "papermill": {
     "duration": 0.009465,
     "end_time": "2023-10-05T13:18:30.180923",
     "exception": false,
     "start_time": "2023-10-05T13:18:30.171458",
     "status": "completed"
    },
    "tags": [
     "parameters"
    ]
   },
   "outputs": [],
   "source": [
    "# declare a list tasks whose products you want to use as inputs\n",
    "upstream = ['02-cleanup']\n",
    "product = None"
   ]
  },
  {
   "cell_type": "code",
   "execution_count": 2,
   "id": "d66873d5",
   "metadata": {
    "execution": {
     "iopub.execute_input": "2023-10-05T13:18:30.185158Z",
     "iopub.status.busy": "2023-10-05T13:18:30.184887Z",
     "iopub.status.idle": "2023-10-05T13:18:30.188143Z",
     "shell.execute_reply": "2023-10-05T13:18:30.187598Z"
    },
    "papermill": {
     "duration": 0.007052,
     "end_time": "2023-10-05T13:18:30.189734",
     "exception": false,
     "start_time": "2023-10-05T13:18:30.182682",
     "status": "completed"
    },
    "tags": [
     "injected-parameters"
    ]
   },
   "outputs": [],
   "source": [
    "# Parameters\n",
    "upstream = {\"02-cleanup\": {\"nb\": \"/home/luiscberrocal/PycharmProjects/hacktoberfest-2023/kaggle/products/02-cleanup.ipynb\", \"clean_csv\": \"/home/luiscberrocal/PycharmProjects/hacktoberfest-2023/kaggle/data/house_prices_clean.csv\"}}\n",
    "product = {\"nb\": \"/home/luiscberrocal/PycharmProjects/hacktoberfest-2023/kaggle/products/05-split.ipynb\", \"train_data\": \"/home/luiscberrocal/PycharmProjects/hacktoberfest-2023/kaggle/data/house_prices_train.csv\", \"test_data\": \"/home/luiscberrocal/PycharmProjects/hacktoberfest-2023/kaggle/data/house_prices_test.csv\"}\n"
   ]
  },
  {
   "cell_type": "code",
   "execution_count": 3,
   "id": "04a1b10e",
   "metadata": {
    "execution": {
     "iopub.execute_input": "2023-10-05T13:18:30.194245Z",
     "iopub.status.busy": "2023-10-05T13:18:30.193997Z",
     "iopub.status.idle": "2023-10-05T13:18:30.196552Z",
     "shell.execute_reply": "2023-10-05T13:18:30.196110Z"
    },
    "papermill": {
     "duration": 0.006027,
     "end_time": "2023-10-05T13:18:30.198085",
     "exception": false,
     "start_time": "2023-10-05T13:18:30.192058",
     "status": "completed"
    },
    "tags": []
   },
   "outputs": [],
   "source": [
    "import warnings\n",
    "\n",
    "warnings.filterwarnings('ignore')"
   ]
  },
  {
   "cell_type": "code",
   "execution_count": 4,
   "id": "60bec756",
   "metadata": {
    "execution": {
     "iopub.execute_input": "2023-10-05T13:18:30.203604Z",
     "iopub.status.busy": "2023-10-05T13:18:30.203196Z",
     "iopub.status.idle": "2023-10-05T13:18:30.877443Z",
     "shell.execute_reply": "2023-10-05T13:18:30.876849Z"
    },
    "papermill": {
     "duration": 0.678384,
     "end_time": "2023-10-05T13:18:30.878749",
     "exception": false,
     "start_time": "2023-10-05T13:18:30.200365",
     "status": "completed"
    },
    "tags": []
   },
   "outputs": [],
   "source": [
    "import pandas as pd\n",
    "from sklearn.model_selection import train_test_split"
   ]
  },
  {
   "cell_type": "code",
   "execution_count": 5,
   "id": "6bd2c859",
   "metadata": {
    "execution": {
     "iopub.execute_input": "2023-10-05T13:18:30.891808Z",
     "iopub.status.busy": "2023-10-05T13:18:30.891355Z",
     "iopub.status.idle": "2023-10-05T13:18:30.931332Z",
     "shell.execute_reply": "2023-10-05T13:18:30.930655Z"
    },
    "papermill": {
     "duration": 0.052192,
     "end_time": "2023-10-05T13:18:30.932750",
     "exception": false,
     "start_time": "2023-10-05T13:18:30.880558",
     "status": "completed"
    },
    "tags": []
   },
   "outputs": [
    {
     "data": {
      "text/html": [
       "<div>\n",
       "<style scoped>\n",
       "    .dataframe tbody tr th:only-of-type {\n",
       "        vertical-align: middle;\n",
       "    }\n",
       "\n",
       "    .dataframe tbody tr th {\n",
       "        vertical-align: top;\n",
       "    }\n",
       "\n",
       "    .dataframe thead th {\n",
       "        text-align: right;\n",
       "    }\n",
       "</style>\n",
       "<table border=\"1\" class=\"dataframe\">\n",
       "  <thead>\n",
       "    <tr style=\"text-align: right;\">\n",
       "      <th></th>\n",
       "      <th>under_construction</th>\n",
       "      <th>rera</th>\n",
       "      <th>bhk_no</th>\n",
       "      <th>ready_to_move</th>\n",
       "      <th>resale</th>\n",
       "      <th>longitude</th>\n",
       "      <th>latitude</th>\n",
       "      <th>price</th>\n",
       "      <th>area_m2</th>\n",
       "      <th>posted_by_Builder</th>\n",
       "      <th>posted_by_Dealer</th>\n",
       "      <th>posted_by_Owner</th>\n",
       "      <th>bhk_or_rk_BHK</th>\n",
       "      <th>bhk_or_rk_RK</th>\n",
       "    </tr>\n",
       "  </thead>\n",
       "  <tbody>\n",
       "    <tr>\n",
       "      <th>0</th>\n",
       "      <td>0</td>\n",
       "      <td>0</td>\n",
       "      <td>2</td>\n",
       "      <td>1</td>\n",
       "      <td>1</td>\n",
       "      <td>12.969910</td>\n",
       "      <td>77.597960</td>\n",
       "      <td>76835.0</td>\n",
       "      <td>120.795863</td>\n",
       "      <td>0</td>\n",
       "      <td>0</td>\n",
       "      <td>1</td>\n",
       "      <td>1</td>\n",
       "      <td>0</td>\n",
       "    </tr>\n",
       "    <tr>\n",
       "      <th>1</th>\n",
       "      <td>0</td>\n",
       "      <td>0</td>\n",
       "      <td>2</td>\n",
       "      <td>1</td>\n",
       "      <td>1</td>\n",
       "      <td>12.274538</td>\n",
       "      <td>76.644605</td>\n",
       "      <td>71247.0</td>\n",
       "      <td>118.451325</td>\n",
       "      <td>0</td>\n",
       "      <td>1</td>\n",
       "      <td>0</td>\n",
       "      <td>1</td>\n",
       "      <td>0</td>\n",
       "    </tr>\n",
       "    <tr>\n",
       "      <th>2</th>\n",
       "      <td>0</td>\n",
       "      <td>0</td>\n",
       "      <td>2</td>\n",
       "      <td>1</td>\n",
       "      <td>1</td>\n",
       "      <td>12.778033</td>\n",
       "      <td>77.632191</td>\n",
       "      <td>60071.0</td>\n",
       "      <td>86.693338</td>\n",
       "      <td>0</td>\n",
       "      <td>0</td>\n",
       "      <td>1</td>\n",
       "      <td>1</td>\n",
       "      <td>0</td>\n",
       "    </tr>\n",
       "    <tr>\n",
       "      <th>3</th>\n",
       "      <td>0</td>\n",
       "      <td>1</td>\n",
       "      <td>2</td>\n",
       "      <td>1</td>\n",
       "      <td>1</td>\n",
       "      <td>28.642300</td>\n",
       "      <td>77.344500</td>\n",
       "      <td>87312.5</td>\n",
       "      <td>86.392464</td>\n",
       "      <td>0</td>\n",
       "      <td>0</td>\n",
       "      <td>1</td>\n",
       "      <td>1</td>\n",
       "      <td>0</td>\n",
       "    </tr>\n",
       "    <tr>\n",
       "      <th>4</th>\n",
       "      <td>1</td>\n",
       "      <td>0</td>\n",
       "      <td>2</td>\n",
       "      <td>0</td>\n",
       "      <td>1</td>\n",
       "      <td>22.592200</td>\n",
       "      <td>88.484911</td>\n",
       "      <td>84518.5</td>\n",
       "      <td>92.810956</td>\n",
       "      <td>0</td>\n",
       "      <td>1</td>\n",
       "      <td>0</td>\n",
       "      <td>1</td>\n",
       "      <td>0</td>\n",
       "    </tr>\n",
       "  </tbody>\n",
       "</table>\n",
       "</div>"
      ],
      "text/plain": [
       "   under_construction  rera  bhk_no  ready_to_move  resale  longitude  \\\n",
       "0                   0     0       2              1       1  12.969910   \n",
       "1                   0     0       2              1       1  12.274538   \n",
       "2                   0     0       2              1       1  12.778033   \n",
       "3                   0     1       2              1       1  28.642300   \n",
       "4                   1     0       2              0       1  22.592200   \n",
       "\n",
       "    latitude    price     area_m2  posted_by_Builder  posted_by_Dealer  \\\n",
       "0  77.597960  76835.0  120.795863                  0                 0   \n",
       "1  76.644605  71247.0  118.451325                  0                 1   \n",
       "2  77.632191  60071.0   86.693338                  0                 0   \n",
       "3  77.344500  87312.5   86.392464                  0                 0   \n",
       "4  88.484911  84518.5   92.810956                  0                 1   \n",
       "\n",
       "   posted_by_Owner  bhk_or_rk_BHK  bhk_or_rk_RK  \n",
       "0                1              1             0  \n",
       "1                0              1             0  \n",
       "2                1              1             0  \n",
       "3                1              1             0  \n",
       "4                0              1             0  "
      ]
     },
     "execution_count": 5,
     "metadata": {},
     "output_type": "execute_result"
    }
   ],
   "source": [
    "df = pd.read_csv(upstream['02-cleanup']['clean_csv'])\n",
    "\n",
    "df.head()"
   ]
  },
  {
   "cell_type": "code",
   "execution_count": 6,
   "id": "e91acd8d",
   "metadata": {
    "execution": {
     "iopub.execute_input": "2023-10-05T13:18:30.937118Z",
     "iopub.status.busy": "2023-10-05T13:18:30.936836Z",
     "iopub.status.idle": "2023-10-05T13:18:30.940582Z",
     "shell.execute_reply": "2023-10-05T13:18:30.940105Z"
    },
    "papermill": {
     "duration": 0.007199,
     "end_time": "2023-10-05T13:18:30.941660",
     "exception": false,
     "start_time": "2023-10-05T13:18:30.934461",
     "status": "completed"
    },
    "tags": []
   },
   "outputs": [],
   "source": [
    "X = df.drop(['price'], axis=1)\n",
    "y = df['price']"
   ]
  },
  {
   "cell_type": "code",
   "execution_count": 7,
   "id": "7dc5fb99",
   "metadata": {
    "execution": {
     "iopub.execute_input": "2023-10-05T13:18:30.945628Z",
     "iopub.status.busy": "2023-10-05T13:18:30.945442Z",
     "iopub.status.idle": "2023-10-05T13:18:30.953226Z",
     "shell.execute_reply": "2023-10-05T13:18:30.952754Z"
    },
    "papermill": {
     "duration": 0.011708,
     "end_time": "2023-10-05T13:18:30.955009",
     "exception": false,
     "start_time": "2023-10-05T13:18:30.943301",
     "status": "completed"
    },
    "tags": []
   },
   "outputs": [],
   "source": [
    "\n",
    "X_train, X_test, y_train, y_test = train_test_split(X, y, test_size=0.2)"
   ]
  },
  {
   "cell_type": "code",
   "execution_count": 8,
   "id": "f57d85b4",
   "metadata": {
    "execution": {
     "iopub.execute_input": "2023-10-05T13:18:30.961427Z",
     "iopub.status.busy": "2023-10-05T13:18:30.961100Z",
     "iopub.status.idle": "2023-10-05T13:18:30.969847Z",
     "shell.execute_reply": "2023-10-05T13:18:30.969366Z"
    },
    "papermill": {
     "duration": 0.013445,
     "end_time": "2023-10-05T13:18:30.971181",
     "exception": false,
     "start_time": "2023-10-05T13:18:30.957736",
     "status": "completed"
    },
    "tags": []
   },
   "outputs": [],
   "source": [
    "train_data = X_train.join(y_train)\n",
    "test_data = X_test.join(y_test)"
   ]
  },
  {
   "cell_type": "code",
   "execution_count": 9,
   "id": "021975f2",
   "metadata": {
    "execution": {
     "iopub.execute_input": "2023-10-05T13:18:30.975515Z",
     "iopub.status.busy": "2023-10-05T13:18:30.975221Z",
     "iopub.status.idle": "2023-10-05T13:18:31.095073Z",
     "shell.execute_reply": "2023-10-05T13:18:31.094549Z"
    },
    "papermill": {
     "duration": 0.124279,
     "end_time": "2023-10-05T13:18:31.097133",
     "exception": false,
     "start_time": "2023-10-05T13:18:30.972854",
     "status": "completed"
    },
    "tags": []
   },
   "outputs": [],
   "source": [
    "train_data.to_csv(product['train_data'], index=False)\n",
    "test_data.to_csv(product['test_data'], index=False)"
   ]
  }
 ],
 "metadata": {
  "jupytext": {
   "cell_metadata_filter": "tags,-all",
   "main_language": "python",
   "notebook_metadata_filter": "-all",
   "text_representation": {
    "extension": ".py",
    "format_name": "percent"
   }
  },
  "kernelspec": {
   "display_name": "Python 3 (ipykernel)",
   "language": "python",
   "name": "python3"
  },
  "language_info": {
   "codemirror_mode": {
    "name": "ipython",
    "version": 3
   },
   "file_extension": ".py",
   "mimetype": "text/x-python",
   "name": "python",
   "nbconvert_exporter": "python",
   "pygments_lexer": "ipython3",
   "version": "3.10.12"
  },
  "papermill": {
   "duration": 1.997532,
   "end_time": "2023-10-05T13:18:31.417412",
   "exception": null,
   "input_path": "/tmp/tmpxsbeico0.ipynb",
   "output_path": "/home/luiscberrocal/PycharmProjects/hacktoberfest-2023/kaggle/products/05-split.ipynb",
   "parameters": {
    "product": {
     "nb": "/home/luiscberrocal/PycharmProjects/hacktoberfest-2023/kaggle/products/05-split.ipynb",
     "test_data": "/home/luiscberrocal/PycharmProjects/hacktoberfest-2023/kaggle/data/house_prices_test.csv",
     "train_data": "/home/luiscberrocal/PycharmProjects/hacktoberfest-2023/kaggle/data/house_prices_train.csv"
    },
    "upstream": {
     "02-cleanup": {
      "clean_csv": "/home/luiscberrocal/PycharmProjects/hacktoberfest-2023/kaggle/data/house_prices_clean.csv",
      "nb": "/home/luiscberrocal/PycharmProjects/hacktoberfest-2023/kaggle/products/02-cleanup.ipynb"
     }
    }
   },
   "start_time": "2023-10-05T13:18:29.419880"
  }
 },
 "nbformat": 4,
 "nbformat_minor": 5
}