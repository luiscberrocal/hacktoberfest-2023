{
 "cells": [
  {
   "cell_type": "code",
   "execution_count": 1,
   "id": "d6a36323",
   "metadata": {
    "execution": {
     "iopub.execute_input": "2023-10-05T13:18:28.667957Z",
     "iopub.status.busy": "2023-10-05T13:18:28.667710Z",
     "iopub.status.idle": "2023-10-05T13:18:28.673312Z",
     "shell.execute_reply": "2023-10-05T13:18:28.672902Z"
    },
    "papermill": {
     "duration": 0.008875,
     "end_time": "2023-10-05T13:18:28.674384",
     "exception": false,
     "start_time": "2023-10-05T13:18:28.665509",
     "status": "completed"
    },
    "tags": [
     "parameters"
    ]
   },
   "outputs": [],
   "source": [
    "# declare a list tasks whose products you want to use as inputs\n",
    "upstream = ['02-cleanup']\n",
    "product = None"
   ]
  },
  {
   "cell_type": "code",
   "execution_count": 2,
   "id": "43aa1231",
   "metadata": {
    "execution": {
     "iopub.execute_input": "2023-10-05T13:18:28.678328Z",
     "iopub.status.busy": "2023-10-05T13:18:28.678130Z",
     "iopub.status.idle": "2023-10-05T13:18:28.680743Z",
     "shell.execute_reply": "2023-10-05T13:18:28.680252Z"
    },
    "papermill": {
     "duration": 0.005184,
     "end_time": "2023-10-05T13:18:28.681765",
     "exception": false,
     "start_time": "2023-10-05T13:18:28.676581",
     "status": "completed"
    },
    "tags": [
     "injected-parameters"
    ]
   },
   "outputs": [],
   "source": [
    "# Parameters\n",
    "upstream = {\"02-cleanup\": {\"nb\": \"/home/luiscberrocal/PycharmProjects/hacktoberfest-2023/kaggle/products/02-cleanup.ipynb\", \"clean_csv\": \"/home/luiscberrocal/PycharmProjects/hacktoberfest-2023/kaggle/data/house_prices_clean.csv\"}}\n",
    "product = {\"nb\": \"/home/luiscberrocal/PycharmProjects/hacktoberfest-2023/kaggle/products/04-transform.ipynb\", \"transformed_csv\": \"/home/luiscberrocal/PycharmProjects/hacktoberfest-2023/kaggle/data/house_prices_transformed.csv\"}\n"
   ]
  },
  {
   "cell_type": "code",
   "execution_count": 3,
   "id": "af6db4ef",
   "metadata": {
    "execution": {
     "iopub.execute_input": "2023-10-05T13:18:28.685600Z",
     "iopub.status.busy": "2023-10-05T13:18:28.685308Z",
     "iopub.status.idle": "2023-10-05T13:18:28.688268Z",
     "shell.execute_reply": "2023-10-05T13:18:28.687902Z"
    },
    "papermill": {
     "duration": 0.006271,
     "end_time": "2023-10-05T13:18:28.689480",
     "exception": false,
     "start_time": "2023-10-05T13:18:28.683209",
     "status": "completed"
    },
    "tags": []
   },
   "outputs": [],
   "source": [
    "import warnings\n",
    "\n",
    "warnings.filterwarnings('ignore')"
   ]
  },
  {
   "cell_type": "code",
   "execution_count": 4,
   "id": "f3e60f7d",
   "metadata": {
    "execution": {
     "iopub.execute_input": "2023-10-05T13:18:28.693892Z",
     "iopub.status.busy": "2023-10-05T13:18:28.693687Z",
     "iopub.status.idle": "2023-10-05T13:18:29.004801Z",
     "shell.execute_reply": "2023-10-05T13:18:29.004279Z"
    },
    "lines_to_next_cell": 0,
    "papermill": {
     "duration": 0.314952,
     "end_time": "2023-10-05T13:18:29.006288",
     "exception": false,
     "start_time": "2023-10-05T13:18:28.691336",
     "status": "completed"
    },
    "tags": []
   },
   "outputs": [],
   "source": [
    "import pandas as pd\n",
    "import numpy as np"
   ]
  },
  {
   "cell_type": "code",
   "execution_count": 5,
   "id": "569c42b2",
   "metadata": {
    "execution": {
     "iopub.execute_input": "2023-10-05T13:18:29.019323Z",
     "iopub.status.busy": "2023-10-05T13:18:29.018936Z",
     "iopub.status.idle": "2023-10-05T13:18:29.060008Z",
     "shell.execute_reply": "2023-10-05T13:18:29.059549Z"
    },
    "lines_to_next_cell": 0,
    "papermill": {
     "duration": 0.053663,
     "end_time": "2023-10-05T13:18:29.061689",
     "exception": false,
     "start_time": "2023-10-05T13:18:29.008026",
     "status": "completed"
    },
    "tags": []
   },
   "outputs": [
    {
     "data": {
      "text/html": [
       "<div>\n",
       "<style scoped>\n",
       "    .dataframe tbody tr th:only-of-type {\n",
       "        vertical-align: middle;\n",
       "    }\n",
       "\n",
       "    .dataframe tbody tr th {\n",
       "        vertical-align: top;\n",
       "    }\n",
       "\n",
       "    .dataframe thead th {\n",
       "        text-align: right;\n",
       "    }\n",
       "</style>\n",
       "<table border=\"1\" class=\"dataframe\">\n",
       "  <thead>\n",
       "    <tr style=\"text-align: right;\">\n",
       "      <th></th>\n",
       "      <th>under_construction</th>\n",
       "      <th>rera</th>\n",
       "      <th>bhk_no</th>\n",
       "      <th>ready_to_move</th>\n",
       "      <th>resale</th>\n",
       "      <th>longitude</th>\n",
       "      <th>latitude</th>\n",
       "      <th>price</th>\n",
       "      <th>area_m2</th>\n",
       "      <th>posted_by_Builder</th>\n",
       "      <th>posted_by_Dealer</th>\n",
       "      <th>posted_by_Owner</th>\n",
       "      <th>bhk_or_rk_BHK</th>\n",
       "      <th>bhk_or_rk_RK</th>\n",
       "    </tr>\n",
       "  </thead>\n",
       "  <tbody>\n",
       "    <tr>\n",
       "      <th>0</th>\n",
       "      <td>0</td>\n",
       "      <td>0</td>\n",
       "      <td>2</td>\n",
       "      <td>1</td>\n",
       "      <td>1</td>\n",
       "      <td>12.969910</td>\n",
       "      <td>77.597960</td>\n",
       "      <td>76835.0</td>\n",
       "      <td>120.795863</td>\n",
       "      <td>0</td>\n",
       "      <td>0</td>\n",
       "      <td>1</td>\n",
       "      <td>1</td>\n",
       "      <td>0</td>\n",
       "    </tr>\n",
       "    <tr>\n",
       "      <th>1</th>\n",
       "      <td>0</td>\n",
       "      <td>0</td>\n",
       "      <td>2</td>\n",
       "      <td>1</td>\n",
       "      <td>1</td>\n",
       "      <td>12.274538</td>\n",
       "      <td>76.644605</td>\n",
       "      <td>71247.0</td>\n",
       "      <td>118.451325</td>\n",
       "      <td>0</td>\n",
       "      <td>1</td>\n",
       "      <td>0</td>\n",
       "      <td>1</td>\n",
       "      <td>0</td>\n",
       "    </tr>\n",
       "    <tr>\n",
       "      <th>2</th>\n",
       "      <td>0</td>\n",
       "      <td>0</td>\n",
       "      <td>2</td>\n",
       "      <td>1</td>\n",
       "      <td>1</td>\n",
       "      <td>12.778033</td>\n",
       "      <td>77.632191</td>\n",
       "      <td>60071.0</td>\n",
       "      <td>86.693338</td>\n",
       "      <td>0</td>\n",
       "      <td>0</td>\n",
       "      <td>1</td>\n",
       "      <td>1</td>\n",
       "      <td>0</td>\n",
       "    </tr>\n",
       "    <tr>\n",
       "      <th>3</th>\n",
       "      <td>0</td>\n",
       "      <td>1</td>\n",
       "      <td>2</td>\n",
       "      <td>1</td>\n",
       "      <td>1</td>\n",
       "      <td>28.642300</td>\n",
       "      <td>77.344500</td>\n",
       "      <td>87312.5</td>\n",
       "      <td>86.392464</td>\n",
       "      <td>0</td>\n",
       "      <td>0</td>\n",
       "      <td>1</td>\n",
       "      <td>1</td>\n",
       "      <td>0</td>\n",
       "    </tr>\n",
       "    <tr>\n",
       "      <th>4</th>\n",
       "      <td>1</td>\n",
       "      <td>0</td>\n",
       "      <td>2</td>\n",
       "      <td>0</td>\n",
       "      <td>1</td>\n",
       "      <td>22.592200</td>\n",
       "      <td>88.484911</td>\n",
       "      <td>84518.5</td>\n",
       "      <td>92.810956</td>\n",
       "      <td>0</td>\n",
       "      <td>1</td>\n",
       "      <td>0</td>\n",
       "      <td>1</td>\n",
       "      <td>0</td>\n",
       "    </tr>\n",
       "  </tbody>\n",
       "</table>\n",
       "</div>"
      ],
      "text/plain": [
       "   under_construction  rera  bhk_no  ready_to_move  resale  longitude  \\\n",
       "0                   0     0       2              1       1  12.969910   \n",
       "1                   0     0       2              1       1  12.274538   \n",
       "2                   0     0       2              1       1  12.778033   \n",
       "3                   0     1       2              1       1  28.642300   \n",
       "4                   1     0       2              0       1  22.592200   \n",
       "\n",
       "    latitude    price     area_m2  posted_by_Builder  posted_by_Dealer  \\\n",
       "0  77.597960  76835.0  120.795863                  0                 0   \n",
       "1  76.644605  71247.0  118.451325                  0                 1   \n",
       "2  77.632191  60071.0   86.693338                  0                 0   \n",
       "3  77.344500  87312.5   86.392464                  0                 0   \n",
       "4  88.484911  84518.5   92.810956                  0                 1   \n",
       "\n",
       "   posted_by_Owner  bhk_or_rk_BHK  bhk_or_rk_RK  \n",
       "0                1              1             0  \n",
       "1                0              1             0  \n",
       "2                1              1             0  \n",
       "3                1              1             0  \n",
       "4                0              1             0  "
      ]
     },
     "execution_count": 5,
     "metadata": {},
     "output_type": "execute_result"
    }
   ],
   "source": [
    "df = pd.read_csv(upstream['02-cleanup']['clean_csv'])\n",
    "\n",
    "df.head()"
   ]
  },
  {
   "cell_type": "code",
   "execution_count": 6,
   "id": "e4888281",
   "metadata": {
    "execution": {
     "iopub.execute_input": "2023-10-05T13:18:29.067400Z",
     "iopub.status.busy": "2023-10-05T13:18:29.067122Z",
     "iopub.status.idle": "2023-10-05T13:18:29.069576Z",
     "shell.execute_reply": "2023-10-05T13:18:29.069123Z"
    },
    "papermill": {
     "duration": 0.00655,
     "end_time": "2023-10-05T13:18:29.070624",
     "exception": false,
     "start_time": "2023-10-05T13:18:29.064074",
     "status": "completed"
    },
    "tags": []
   },
   "outputs": [],
   "source": [
    "# Scaling\n",
    "# df['bhk_no'] = np.log(df['bhk_no'] + 1)"
   ]
  },
  {
   "cell_type": "code",
   "execution_count": 7,
   "id": "d081ea94",
   "metadata": {
    "execution": {
     "iopub.execute_input": "2023-10-05T13:18:29.074400Z",
     "iopub.status.busy": "2023-10-05T13:18:29.074157Z",
     "iopub.status.idle": "2023-10-05T13:18:29.191106Z",
     "shell.execute_reply": "2023-10-05T13:18:29.190559Z"
    },
    "papermill": {
     "duration": 0.120842,
     "end_time": "2023-10-05T13:18:29.192881",
     "exception": false,
     "start_time": "2023-10-05T13:18:29.072039",
     "status": "completed"
    },
    "tags": []
   },
   "outputs": [],
   "source": [
    "df.to_csv(product['transformed_csv'], index=False)"
   ]
  }
 ],
 "metadata": {
  "jupytext": {
   "cell_metadata_filter": "tags,-all",
   "main_language": "python",
   "notebook_metadata_filter": "-all",
   "text_representation": {
    "extension": ".py",
    "format_name": "percent"
   }
  },
  "kernelspec": {
   "display_name": "Python 3 (ipykernel)",
   "language": "python",
   "name": "python3"
  },
  "language_info": {
   "codemirror_mode": {
    "name": "ipython",
    "version": 3
   },
   "file_extension": ".py",
   "mimetype": "text/x-python",
   "name": "python",
   "nbconvert_exporter": "python",
   "pygments_lexer": "ipython3",
   "version": "3.10.12"
  },
  "papermill": {
   "duration": 1.441559,
   "end_time": "2023-10-05T13:18:29.411689",
   "exception": null,
   "input_path": "/tmp/tmpmjgmda7u.ipynb",
   "output_path": "/home/luiscberrocal/PycharmProjects/hacktoberfest-2023/kaggle/products/04-transform.ipynb",
   "parameters": {
    "product": {
     "nb": "/home/luiscberrocal/PycharmProjects/hacktoberfest-2023/kaggle/products/04-transform.ipynb",
     "transformed_csv": "/home/luiscberrocal/PycharmProjects/hacktoberfest-2023/kaggle/data/house_prices_transformed.csv"
    },
    "upstream": {
     "02-cleanup": {
      "clean_csv": "/home/luiscberrocal/PycharmProjects/hacktoberfest-2023/kaggle/data/house_prices_clean.csv",
      "nb": "/home/luiscberrocal/PycharmProjects/hacktoberfest-2023/kaggle/products/02-cleanup.ipynb"
     }
    }
   },
   "start_time": "2023-10-05T13:18:27.970130"
  }
 },
 "nbformat": 4,
 "nbformat_minor": 5
}