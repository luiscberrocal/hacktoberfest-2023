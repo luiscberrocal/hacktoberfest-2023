{
 "cells": [
  {
   "cell_type": "code",
   "execution_count": 1,
   "id": "83e04937",
   "metadata": {
    "execution": {
     "iopub.execute_input": "2023-10-05T13:18:17.288500Z",
     "iopub.status.busy": "2023-10-05T13:18:17.288244Z",
     "iopub.status.idle": "2023-10-05T13:18:17.294379Z",
     "shell.execute_reply": "2023-10-05T13:18:17.293977Z"
    },
    "lines_to_next_cell": 2,
    "papermill": {
     "duration": 0.010092,
     "end_time": "2023-10-05T13:18:17.295578",
     "exception": false,
     "start_time": "2023-10-05T13:18:17.285486",
     "status": "completed"
    },
    "tags": [
     "parameters"
    ]
   },
   "outputs": [],
   "source": [
    "# declare a list tasks whose products you want to use as inputs\n",
    "\n",
    "upstream = None"
   ]
  },
  {
   "cell_type": "code",
   "execution_count": 2,
   "id": "d65a40a5",
   "metadata": {
    "execution": {
     "iopub.execute_input": "2023-10-05T13:18:17.300675Z",
     "iopub.status.busy": "2023-10-05T13:18:17.300443Z",
     "iopub.status.idle": "2023-10-05T13:18:17.303111Z",
     "shell.execute_reply": "2023-10-05T13:18:17.302580Z"
    },
    "papermill": {
     "duration": 0.006152,
     "end_time": "2023-10-05T13:18:17.304415",
     "exception": false,
     "start_time": "2023-10-05T13:18:17.298263",
     "status": "completed"
    },
    "tags": [
     "injected-parameters"
    ]
   },
   "outputs": [],
   "source": [
    "# Parameters\n",
    "product = {\"nb\": \"/home/luiscberrocal/PycharmProjects/hacktoberfest-2023/kaggle/products/01-extract-pipeline.ipynb\", \"csv_file\": \"/home/luiscberrocal/PycharmProjects/hacktoberfest-2023/kaggle/data/house_prices.csv\", \"database\": \"/home/luiscberrocal/PycharmProjects/hacktoberfest-2023/kaggle/data/house_prices.duckdb\"}\n"
   ]
  },
  {
   "cell_type": "code",
   "execution_count": 3,
   "id": "4e4b6cda",
   "metadata": {
    "execution": {
     "iopub.execute_input": "2023-10-05T13:18:17.309556Z",
     "iopub.status.busy": "2023-10-05T13:18:17.309100Z",
     "iopub.status.idle": "2023-10-05T13:18:17.690559Z",
     "shell.execute_reply": "2023-10-05T13:18:17.690003Z"
    },
    "papermill": {
     "duration": 0.385679,
     "end_time": "2023-10-05T13:18:17.692051",
     "exception": false,
     "start_time": "2023-10-05T13:18:17.306372",
     "status": "completed"
    },
    "tags": []
   },
   "outputs": [],
   "source": [
    "import re\n",
    "import shutil\n",
    "from pathlib import Path\n",
    "\n",
    "import duckdb\n",
    "import pandas as pd\n",
    "\n",
    "from kaggle import settings\n",
    "from kaggle.terminal_commands import run_commands"
   ]
  },
  {
   "cell_type": "code",
   "execution_count": 4,
   "id": "36351a84",
   "metadata": {
    "execution": {
     "iopub.execute_input": "2023-10-05T13:18:17.705251Z",
     "iopub.status.busy": "2023-10-05T13:18:17.704777Z",
     "iopub.status.idle": "2023-10-05T13:18:17.710093Z",
     "shell.execute_reply": "2023-10-05T13:18:17.708905Z"
    },
    "lines_to_next_cell": 1,
    "papermill": {
     "duration": 0.01759,
     "end_time": "2023-10-05T13:18:17.711530",
     "exception": false,
     "start_time": "2023-10-05T13:18:17.693940",
     "status": "completed"
    },
    "tags": []
   },
   "outputs": [],
   "source": [
    "def save_to_duckdb(df: pd.DataFrame, table_name: str, db_path: str) -> None:\n",
    "    \"\"\"Save dataframe to duckdb\"\"\"\n",
    "    conn = duckdb.connect(db_path)\n",
    "    conn.register('df', df)\n",
    "    conn.execute(f\"CREATE OR REPLACE TABLE {table_name} AS SELECT * FROM df\")\n",
    "    conn.close()"
   ]
  },
  {
   "cell_type": "code",
   "execution_count": 5,
   "id": "b18d7a23",
   "metadata": {
    "execution": {
     "iopub.execute_input": "2023-10-05T13:18:17.716641Z",
     "iopub.status.busy": "2023-10-05T13:18:17.716296Z",
     "iopub.status.idle": "2023-10-05T13:18:17.720661Z",
     "shell.execute_reply": "2023-10-05T13:18:17.719840Z"
    },
    "papermill": {
     "duration": 0.009004,
     "end_time": "2023-10-05T13:18:17.722355",
     "exception": false,
     "start_time": "2023-10-05T13:18:17.713351",
     "status": "completed"
    },
    "tags": []
   },
   "outputs": [],
   "source": [
    "def configure_kaggle(envs_folder: Path):\n",
    "    \"\"\"Copy kaggle.json to ~/.kaggle in order to run kaggle commands.\"\"\"\n",
    "    envs_file = envs_folder / 'kaggle.json'\n",
    "    if not envs_file.exists():\n",
    "        raise Exception('Kaggle configuration file not found')\n",
    "    kaggle_folder = Path.home() / '.kaggle'\n",
    "    kaggle_folder.mkdir(exist_ok=True)\n",
    "    config_file = kaggle_folder / 'kaggle.json'\n",
    "    if not config_file.exists():\n",
    "        shutil.copy(envs_file, config_file)\n",
    "        return True\n",
    "    else:\n",
    "        return False"
   ]
  },
  {
   "cell_type": "code",
   "execution_count": 6,
   "id": "a22622b1",
   "metadata": {
    "execution": {
     "iopub.execute_input": "2023-10-05T13:18:17.728711Z",
     "iopub.status.busy": "2023-10-05T13:18:17.728429Z",
     "iopub.status.idle": "2023-10-05T13:18:17.733691Z",
     "shell.execute_reply": "2023-10-05T13:18:17.733056Z"
    },
    "papermill": {
     "duration": 0.00997,
     "end_time": "2023-10-05T13:18:17.734778",
     "exception": false,
     "start_time": "2023-10-05T13:18:17.724808",
     "status": "completed"
    },
    "tags": []
   },
   "outputs": [],
   "source": [
    "def download_dataset(owner: str, dataset_name: str, download_folder: Path) -> Path:\n",
    "    \"\"\"Will download a dataset, unzip it in the download_folder and return the folder where the\n",
    "    data was unzipped.\"\"\"\n",
    "    dataset = f'{owner}/{dataset_name}'\n",
    "    folder = download_folder / dataset_name\n",
    "    folder.mkdir(exist_ok=True)\n",
    "\n",
    "    command_list = ['kaggle', 'datasets', 'download', dataset, '-p', str(folder), '--unzip']\n",
    "    results, errors = run_commands(command_list)\n",
    "    regexp = re.compile(r\"Downloading\\s([\\w-]+\\.zip)\\sto\\s(.+)\")\n",
    "    match = regexp.match(results[0])\n",
    "    # print('>>', results[0])  # , match.groups(2))\n",
    "    if len(errors) > 1:\n",
    "        print('-' * 50)\n",
    "        print('errors')\n",
    "        for e in errors:\n",
    "            print(e)\n",
    "\n",
    "    if match:\n",
    "        return Path(match.group(2))\n",
    "    else:\n",
    "        error_msg = f'{results}'\n",
    "        raise Exception(error_msg)"
   ]
  },
  {
   "cell_type": "code",
   "execution_count": 7,
   "id": "db9bf441",
   "metadata": {
    "execution": {
     "iopub.execute_input": "2023-10-05T13:18:17.738867Z",
     "iopub.status.busy": "2023-10-05T13:18:17.738576Z",
     "iopub.status.idle": "2023-10-05T13:18:17.742070Z",
     "shell.execute_reply": "2023-10-05T13:18:17.741462Z"
    },
    "papermill": {
     "duration": 0.007367,
     "end_time": "2023-10-05T13:18:17.743663",
     "exception": false,
     "start_time": "2023-10-05T13:18:17.736296",
     "status": "completed"
    },
    "tags": []
   },
   "outputs": [],
   "source": [
    "def find_csv_file(folder: Path, csv_name: str) -> Path:\n",
    "    csvs = folder.glob('**/*.csv')\n",
    "    for csv in csvs:\n",
    "        if csv.name == csv_name:\n",
    "            return csv"
   ]
  },
  {
   "cell_type": "code",
   "execution_count": 8,
   "id": "c2f3812f",
   "metadata": {
    "execution": {
     "iopub.execute_input": "2023-10-05T13:18:17.749882Z",
     "iopub.status.busy": "2023-10-05T13:18:17.749571Z",
     "iopub.status.idle": "2023-10-05T13:18:20.107027Z",
     "shell.execute_reply": "2023-10-05T13:18:20.106514Z"
    },
    "papermill": {
     "duration": 2.362084,
     "end_time": "2023-10-05T13:18:20.108199",
     "exception": false,
     "start_time": "2023-10-05T13:18:17.746115",
     "status": "completed"
    },
    "tags": []
   },
   "outputs": [
    {
     "name": "stdout",
     "output_type": "stream",
     "text": [
      "Data folder: /home/luiscberrocal/PycharmProjects/hacktoberfest-2023/kaggle/data/house-price-dataset\n"
     ]
    },
    {
     "name": "stdout",
     "output_type": "stream",
     "text": [
      "CSV: /home/luiscberrocal/PycharmProjects/hacktoberfest-2023/kaggle/data/house-price-dataset/Participants_Data_HPP/Train.csv\n"
     ]
    }
   ],
   "source": [
    "configure_kaggle(settings.ENVS_FOLDER)\n",
    "ds_owner = 'akash14'\n",
    "ds_name = 'house-price-dataset'\n",
    "data_folder = settings.DATA_FOLDER\n",
    "data_folder.mkdir(exist_ok=True)\n",
    "fldr = download_dataset(owner=ds_owner, dataset_name=ds_name, download_folder=data_folder)\n",
    "print(f'Data folder: {fldr}')\n",
    "csv_file = find_csv_file(fldr, 'Train.csv')\n",
    "df = pd.read_csv(csv_file)\n",
    "df.to_csv(product['csv_file'], index=False)\n",
    "save_to_duckdb(df=df, table_name='house_prices', db_path=product['database'])\n",
    "\n",
    "print(f'CSV: {csv_file}')"
   ]
  },
  {
   "cell_type": "code",
   "execution_count": 9,
   "id": "c45680ee",
   "metadata": {
    "execution": {
     "iopub.execute_input": "2023-10-05T13:18:20.113257Z",
     "iopub.status.busy": "2023-10-05T13:18:20.112996Z",
     "iopub.status.idle": "2023-10-05T13:18:20.124167Z",
     "shell.execute_reply": "2023-10-05T13:18:20.123730Z"
    },
    "papermill": {
     "duration": 0.014807,
     "end_time": "2023-10-05T13:18:20.125156",
     "exception": false,
     "start_time": "2023-10-05T13:18:20.110349",
     "status": "completed"
    },
    "tags": []
   },
   "outputs": [
    {
     "data": {
      "text/html": [
       "<div>\n",
       "<style scoped>\n",
       "    .dataframe tbody tr th:only-of-type {\n",
       "        vertical-align: middle;\n",
       "    }\n",
       "\n",
       "    .dataframe tbody tr th {\n",
       "        vertical-align: top;\n",
       "    }\n",
       "\n",
       "    .dataframe thead th {\n",
       "        text-align: right;\n",
       "    }\n",
       "</style>\n",
       "<table border=\"1\" class=\"dataframe\">\n",
       "  <thead>\n",
       "    <tr style=\"text-align: right;\">\n",
       "      <th></th>\n",
       "      <th>POSTED_BY</th>\n",
       "      <th>UNDER_CONSTRUCTION</th>\n",
       "      <th>RERA</th>\n",
       "      <th>BHK_NO.</th>\n",
       "      <th>BHK_OR_RK</th>\n",
       "      <th>SQUARE_FT</th>\n",
       "      <th>READY_TO_MOVE</th>\n",
       "      <th>RESALE</th>\n",
       "      <th>ADDRESS</th>\n",
       "      <th>LONGITUDE</th>\n",
       "      <th>LATITUDE</th>\n",
       "      <th>TARGET(PRICE_IN_LACS)</th>\n",
       "    </tr>\n",
       "  </thead>\n",
       "  <tbody>\n",
       "    <tr>\n",
       "      <th>0</th>\n",
       "      <td>Owner</td>\n",
       "      <td>0</td>\n",
       "      <td>0</td>\n",
       "      <td>2</td>\n",
       "      <td>BHK</td>\n",
       "      <td>1300.236407</td>\n",
       "      <td>1</td>\n",
       "      <td>1</td>\n",
       "      <td>Ksfc Layout,Bangalore</td>\n",
       "      <td>12.969910</td>\n",
       "      <td>77.597960</td>\n",
       "      <td>55.0</td>\n",
       "    </tr>\n",
       "    <tr>\n",
       "      <th>1</th>\n",
       "      <td>Dealer</td>\n",
       "      <td>0</td>\n",
       "      <td>0</td>\n",
       "      <td>2</td>\n",
       "      <td>BHK</td>\n",
       "      <td>1275.000000</td>\n",
       "      <td>1</td>\n",
       "      <td>1</td>\n",
       "      <td>Vishweshwara Nagar,Mysore</td>\n",
       "      <td>12.274538</td>\n",
       "      <td>76.644605</td>\n",
       "      <td>51.0</td>\n",
       "    </tr>\n",
       "    <tr>\n",
       "      <th>2</th>\n",
       "      <td>Owner</td>\n",
       "      <td>0</td>\n",
       "      <td>0</td>\n",
       "      <td>2</td>\n",
       "      <td>BHK</td>\n",
       "      <td>933.159722</td>\n",
       "      <td>1</td>\n",
       "      <td>1</td>\n",
       "      <td>Jigani,Bangalore</td>\n",
       "      <td>12.778033</td>\n",
       "      <td>77.632191</td>\n",
       "      <td>43.0</td>\n",
       "    </tr>\n",
       "    <tr>\n",
       "      <th>3</th>\n",
       "      <td>Owner</td>\n",
       "      <td>0</td>\n",
       "      <td>1</td>\n",
       "      <td>2</td>\n",
       "      <td>BHK</td>\n",
       "      <td>929.921143</td>\n",
       "      <td>1</td>\n",
       "      <td>1</td>\n",
       "      <td>Sector-1 Vaishali,Ghaziabad</td>\n",
       "      <td>28.642300</td>\n",
       "      <td>77.344500</td>\n",
       "      <td>62.5</td>\n",
       "    </tr>\n",
       "    <tr>\n",
       "      <th>4</th>\n",
       "      <td>Dealer</td>\n",
       "      <td>1</td>\n",
       "      <td>0</td>\n",
       "      <td>2</td>\n",
       "      <td>BHK</td>\n",
       "      <td>999.009247</td>\n",
       "      <td>0</td>\n",
       "      <td>1</td>\n",
       "      <td>New Town,Kolkata</td>\n",
       "      <td>22.592200</td>\n",
       "      <td>88.484911</td>\n",
       "      <td>60.5</td>\n",
       "    </tr>\n",
       "  </tbody>\n",
       "</table>\n",
       "</div>"
      ],
      "text/plain": [
       "  POSTED_BY  UNDER_CONSTRUCTION  RERA  BHK_NO. BHK_OR_RK    SQUARE_FT  \\\n",
       "0     Owner                   0     0        2       BHK  1300.236407   \n",
       "1    Dealer                   0     0        2       BHK  1275.000000   \n",
       "2     Owner                   0     0        2       BHK   933.159722   \n",
       "3     Owner                   0     1        2       BHK   929.921143   \n",
       "4    Dealer                   1     0        2       BHK   999.009247   \n",
       "\n",
       "   READY_TO_MOVE  RESALE                      ADDRESS  LONGITUDE   LATITUDE  \\\n",
       "0              1       1        Ksfc Layout,Bangalore  12.969910  77.597960   \n",
       "1              1       1    Vishweshwara Nagar,Mysore  12.274538  76.644605   \n",
       "2              1       1             Jigani,Bangalore  12.778033  77.632191   \n",
       "3              1       1  Sector-1 Vaishali,Ghaziabad  28.642300  77.344500   \n",
       "4              0       1             New Town,Kolkata  22.592200  88.484911   \n",
       "\n",
       "   TARGET(PRICE_IN_LACS)  \n",
       "0                   55.0  \n",
       "1                   51.0  \n",
       "2                   43.0  \n",
       "3                   62.5  \n",
       "4                   60.5  "
      ]
     },
     "execution_count": 9,
     "metadata": {},
     "output_type": "execute_result"
    }
   ],
   "source": [
    "df.head()"
   ]
  }
 ],
 "metadata": {
  "jupytext": {
   "cell_metadata_filter": "tags,-all",
   "main_language": "python",
   "notebook_metadata_filter": "-all",
   "text_representation": {
    "extension": ".py",
    "format_name": "percent"
   }
  },
  "kernelspec": {
   "display_name": "Python 3 (ipykernel)",
   "language": "python",
   "name": "python3"
  },
  "language_info": {
   "codemirror_mode": {
    "name": "ipython",
    "version": 3
   },
   "file_extension": ".py",
   "mimetype": "text/x-python",
   "name": "python",
   "nbconvert_exporter": "python",
   "pygments_lexer": "ipython3",
   "version": "3.10.12"
  },
  "papermill": {
   "duration": 3.715315,
   "end_time": "2023-10-05T13:18:20.344988",
   "exception": null,
   "input_path": "/tmp/tmpv2l06org.ipynb",
   "output_path": "/home/luiscberrocal/PycharmProjects/hacktoberfest-2023/kaggle/products/01-extract-pipeline.ipynb",
   "parameters": {
    "product": {
     "csv_file": "/home/luiscberrocal/PycharmProjects/hacktoberfest-2023/kaggle/data/house_prices.csv",
     "database": "/home/luiscberrocal/PycharmProjects/hacktoberfest-2023/kaggle/data/house_prices.duckdb",
     "nb": "/home/luiscberrocal/PycharmProjects/hacktoberfest-2023/kaggle/products/01-extract-pipeline.ipynb"
    }
   },
   "start_time": "2023-10-05T13:18:16.629673"
  }
 },
 "nbformat": 4,
 "nbformat_minor": 5
}