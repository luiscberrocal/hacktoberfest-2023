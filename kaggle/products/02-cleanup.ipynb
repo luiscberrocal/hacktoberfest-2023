{
 "cells": [
  {
   "cell_type": "code",
   "execution_count": 1,
   "id": "04282f47",
   "metadata": {
    "execution": {
     "iopub.execute_input": "2023-10-05T13:18:21.222316Z",
     "iopub.status.busy": "2023-10-05T13:18:21.222048Z",
     "iopub.status.idle": "2023-10-05T13:18:21.228724Z",
     "shell.execute_reply": "2023-10-05T13:18:21.228313Z"
    },
    "papermill": {
     "duration": 0.012352,
     "end_time": "2023-10-05T13:18:21.229722",
     "exception": false,
     "start_time": "2023-10-05T13:18:21.217370",
     "status": "completed"
    },
    "tags": [
     "parameters"
    ]
   },
   "outputs": [],
   "source": [
    "upstream = ['01-get']\n",
    "product = None"
   ]
  },
  {
   "cell_type": "code",
   "execution_count": 2,
   "id": "253de7bb",
   "metadata": {
    "execution": {
     "iopub.execute_input": "2023-10-05T13:18:21.235981Z",
     "iopub.status.busy": "2023-10-05T13:18:21.235445Z",
     "iopub.status.idle": "2023-10-05T13:18:21.238888Z",
     "shell.execute_reply": "2023-10-05T13:18:21.238245Z"
    },
    "papermill": {
     "duration": 0.00834,
     "end_time": "2023-10-05T13:18:21.240536",
     "exception": false,
     "start_time": "2023-10-05T13:18:21.232196",
     "status": "completed"
    },
    "tags": [
     "injected-parameters"
    ]
   },
   "outputs": [],
   "source": [
    "# Parameters\n",
    "upstream = {\"01-get\": {\"nb\": \"/home/luiscberrocal/PycharmProjects/hacktoberfest-2023/kaggle/products/01-extract-pipeline.ipynb\", \"csv_file\": \"/home/luiscberrocal/PycharmProjects/hacktoberfest-2023/kaggle/data/house_prices.csv\", \"database\": \"/home/luiscberrocal/PycharmProjects/hacktoberfest-2023/kaggle/data/house_prices.duckdb\"}}\n",
    "product = {\"nb\": \"/home/luiscberrocal/PycharmProjects/hacktoberfest-2023/kaggle/products/02-cleanup.ipynb\", \"clean_csv\": \"/home/luiscberrocal/PycharmProjects/hacktoberfest-2023/kaggle/data/house_prices_clean.csv\"}\n"
   ]
  },
  {
   "cell_type": "code",
   "execution_count": 3,
   "id": "de6781f6",
   "metadata": {
    "execution": {
     "iopub.execute_input": "2023-10-05T13:18:21.249116Z",
     "iopub.status.busy": "2023-10-05T13:18:21.248875Z",
     "iopub.status.idle": "2023-10-05T13:18:21.251264Z",
     "shell.execute_reply": "2023-10-05T13:18:21.250878Z"
    },
    "papermill": {
     "duration": 0.008194,
     "end_time": "2023-10-05T13:18:21.252594",
     "exception": false,
     "start_time": "2023-10-05T13:18:21.244400",
     "status": "completed"
    },
    "tags": []
   },
   "outputs": [],
   "source": [
    "import warnings\n",
    "warnings.filterwarnings('ignore')"
   ]
  },
  {
   "cell_type": "code",
   "execution_count": 4,
   "id": "57b86b40",
   "metadata": {
    "execution": {
     "iopub.execute_input": "2023-10-05T13:18:21.261371Z",
     "iopub.status.busy": "2023-10-05T13:18:21.261096Z",
     "iopub.status.idle": "2023-10-05T13:18:21.567086Z",
     "shell.execute_reply": "2023-10-05T13:18:21.566522Z"
    },
    "papermill": {
     "duration": 0.312679,
     "end_time": "2023-10-05T13:18:21.569050",
     "exception": false,
     "start_time": "2023-10-05T13:18:21.256371",
     "status": "completed"
    },
    "tags": []
   },
   "outputs": [],
   "source": [
    "import re\n",
    "import pandas as pd"
   ]
  },
  {
   "cell_type": "code",
   "execution_count": 5,
   "id": "0a56423f",
   "metadata": {
    "execution": {
     "iopub.execute_input": "2023-10-05T13:18:21.584411Z",
     "iopub.status.busy": "2023-10-05T13:18:21.584030Z",
     "iopub.status.idle": "2023-10-05T13:18:21.620772Z",
     "shell.execute_reply": "2023-10-05T13:18:21.620350Z"
    },
    "papermill": {
     "duration": 0.048737,
     "end_time": "2023-10-05T13:18:21.622055",
     "exception": false,
     "start_time": "2023-10-05T13:18:21.573318",
     "status": "completed"
    },
    "tags": []
   },
   "outputs": [],
   "source": [
    "df = pd.read_csv(upstream['01-get']['csv_file'])"
   ]
  },
  {
   "cell_type": "code",
   "execution_count": 6,
   "id": "464afd5d",
   "metadata": {
    "execution": {
     "iopub.execute_input": "2023-10-05T13:18:21.627306Z",
     "iopub.status.busy": "2023-10-05T13:18:21.627072Z",
     "iopub.status.idle": "2023-10-05T13:18:21.637466Z",
     "shell.execute_reply": "2023-10-05T13:18:21.636893Z"
    },
    "papermill": {
     "duration": 0.014197,
     "end_time": "2023-10-05T13:18:21.638490",
     "exception": false,
     "start_time": "2023-10-05T13:18:21.624293",
     "status": "completed"
    },
    "tags": []
   },
   "outputs": [
    {
     "name": "stdout",
     "output_type": "stream",
     "text": [
      "<class 'pandas.core.frame.DataFrame'>\n",
      "RangeIndex: 29451 entries, 0 to 29450\n",
      "Data columns (total 12 columns):\n",
      " #   Column                 Non-Null Count  Dtype  \n",
      "---  ------                 --------------  -----  \n",
      " 0   POSTED_BY              29451 non-null  object \n",
      " 1   UNDER_CONSTRUCTION     29451 non-null  int64  \n",
      " 2   RERA                   29451 non-null  int64  \n",
      " 3   BHK_NO.                29451 non-null  int64  \n",
      " 4   BHK_OR_RK              29451 non-null  object \n",
      " 5   SQUARE_FT              29451 non-null  float64\n",
      " 6   READY_TO_MOVE          29451 non-null  int64  \n",
      " 7   RESALE                 29451 non-null  int64  \n",
      " 8   ADDRESS                29451 non-null  object \n",
      " 9   LONGITUDE              29451 non-null  float64\n",
      " 10  LATITUDE               29451 non-null  float64\n",
      " 11  TARGET(PRICE_IN_LACS)  29451 non-null  float64\n",
      "dtypes: float64(4), int64(5), object(3)\n",
      "memory usage: 2.7+ MB\n"
     ]
    }
   ],
   "source": [
    "df.info()"
   ]
  },
  {
   "cell_type": "code",
   "execution_count": 7,
   "id": "d91a16f3",
   "metadata": {
    "execution": {
     "iopub.execute_input": "2023-10-05T13:18:21.643960Z",
     "iopub.status.busy": "2023-10-05T13:18:21.643738Z",
     "iopub.status.idle": "2023-10-05T13:18:21.652858Z",
     "shell.execute_reply": "2023-10-05T13:18:21.652331Z"
    },
    "papermill": {
     "duration": 0.01322,
     "end_time": "2023-10-05T13:18:21.654042",
     "exception": false,
     "start_time": "2023-10-05T13:18:21.640822",
     "status": "completed"
    },
    "tags": []
   },
   "outputs": [
    {
     "data": {
      "text/plain": [
       "POSTED_BY                0\n",
       "UNDER_CONSTRUCTION       0\n",
       "RERA                     0\n",
       "BHK_NO.                  0\n",
       "BHK_OR_RK                0\n",
       "SQUARE_FT                0\n",
       "READY_TO_MOVE            0\n",
       "RESALE                   0\n",
       "ADDRESS                  0\n",
       "LONGITUDE                0\n",
       "LATITUDE                 0\n",
       "TARGET(PRICE_IN_LACS)    0\n",
       "dtype: int64"
      ]
     },
     "execution_count": 7,
     "metadata": {},
     "output_type": "execute_result"
    }
   ],
   "source": [
    "df.isna().sum()"
   ]
  },
  {
   "cell_type": "code",
   "execution_count": 8,
   "id": "e0f1ceb0",
   "metadata": {
    "execution": {
     "iopub.execute_input": "2023-10-05T13:18:21.659724Z",
     "iopub.status.busy": "2023-10-05T13:18:21.659331Z",
     "iopub.status.idle": "2023-10-05T13:18:21.663746Z",
     "shell.execute_reply": "2023-10-05T13:18:21.663287Z"
    },
    "papermill": {
     "duration": 0.008685,
     "end_time": "2023-10-05T13:18:21.665122",
     "exception": false,
     "start_time": "2023-10-05T13:18:21.656437",
     "status": "completed"
    },
    "tags": []
   },
   "outputs": [],
   "source": [
    "# Rename columns to snake case\n",
    "renamed_mapping = {}\n",
    "for c in df.columns:\n",
    "    new_c_name = re.sub('[^0-9a-zA-Z_]+', '', c)\n",
    "    renamed_mapping[c] = new_c_name.lower()  # .replace(' ', '_').replace('(', '').replace(')', '')\n",
    "renamed_mapping['targetprice_in_lacs'] = 'target_price_in_lacs'\n",
    "\n",
    "df = df.rename(columns=renamed_mapping)"
   ]
  },
  {
   "cell_type": "code",
   "execution_count": 9,
   "id": "d507a680",
   "metadata": {
    "execution": {
     "iopub.execute_input": "2023-10-05T13:18:21.671270Z",
     "iopub.status.busy": "2023-10-05T13:18:21.671026Z",
     "iopub.status.idle": "2023-10-05T13:18:21.674879Z",
     "shell.execute_reply": "2023-10-05T13:18:21.674407Z"
    },
    "papermill": {
     "duration": 0.008136,
     "end_time": "2023-10-05T13:18:21.675932",
     "exception": false,
     "start_time": "2023-10-05T13:18:21.667796",
     "status": "completed"
    },
    "tags": []
   },
   "outputs": [],
   "source": [
    "# Convert price to dolllars 1 lac == 1,397\n",
    "df['price'] = df['targetprice_in_lacs'] * 1_397\n",
    "\n",
    "# Convert square_ft to square meters\n",
    "df['area_m2'] = df['square_ft'] * 0.092903"
   ]
  },
  {
   "cell_type": "code",
   "execution_count": 10,
   "id": "9097e0c3",
   "metadata": {
    "execution": {
     "iopub.execute_input": "2023-10-05T13:18:21.682684Z",
     "iopub.status.busy": "2023-10-05T13:18:21.682356Z",
     "iopub.status.idle": "2023-10-05T13:18:21.696528Z",
     "shell.execute_reply": "2023-10-05T13:18:21.695751Z"
    },
    "lines_to_next_cell": 0,
    "papermill": {
     "duration": 0.019318,
     "end_time": "2023-10-05T13:18:21.698062",
     "exception": false,
     "start_time": "2023-10-05T13:18:21.678744",
     "status": "completed"
    },
    "tags": []
   },
   "outputs": [
    {
     "name": "stdout",
     "output_type": "stream",
     "text": [
      "<class 'pandas.core.frame.DataFrame'>\n",
      "RangeIndex: 29451 entries, 0 to 29450\n",
      "Data columns (total 12 columns):\n",
      " #   Column              Non-Null Count  Dtype  \n",
      "---  ------              --------------  -----  \n",
      " 0   posted_by           29451 non-null  object \n",
      " 1   under_construction  29451 non-null  int64  \n",
      " 2   rera                29451 non-null  int64  \n",
      " 3   bhk_no              29451 non-null  int64  \n",
      " 4   bhk_or_rk           29451 non-null  object \n",
      " 5   ready_to_move       29451 non-null  int64  \n",
      " 6   resale              29451 non-null  int64  \n",
      " 7   address             29451 non-null  object \n",
      " 8   longitude           29451 non-null  float64\n",
      " 9   latitude            29451 non-null  float64\n",
      " 10  price               29451 non-null  float64\n",
      " 11  area_m2             29451 non-null  float64\n",
      "dtypes: float64(4), int64(5), object(3)\n",
      "memory usage: 2.7+ MB\n"
     ]
    }
   ],
   "source": [
    "df = df.drop(columns=['square_ft', 'targetprice_in_lacs'])\n",
    "\n",
    "df.info()"
   ]
  },
  {
   "cell_type": "code",
   "execution_count": 11,
   "id": "9fd76c37",
   "metadata": {
    "execution": {
     "iopub.execute_input": "2023-10-05T13:18:21.705817Z",
     "iopub.status.busy": "2023-10-05T13:18:21.705534Z",
     "iopub.status.idle": "2023-10-05T13:18:21.708647Z",
     "shell.execute_reply": "2023-10-05T13:18:21.708108Z"
    },
    "lines_to_next_cell": 1,
    "papermill": {
     "duration": 0.008285,
     "end_time": "2023-10-05T13:18:21.709893",
     "exception": false,
     "start_time": "2023-10-05T13:18:21.701608",
     "status": "completed"
    },
    "tags": []
   },
   "outputs": [],
   "source": [
    "# Extracting cities from address\n",
    "def get_city(value):\n",
    "    parts = value.split(',')\n",
    "    return parts[-1:][0]\n",
    "\n",
    "# Too many cities, heatmap not working.\n",
    "# df['city'] = df['address'].apply(get_city)\n",
    "\n",
    "# df['city'].value_counts()"
   ]
  },
  {
   "cell_type": "code",
   "execution_count": 12,
   "id": "12377bca",
   "metadata": {
    "execution": {
     "iopub.execute_input": "2023-10-05T13:18:21.717725Z",
     "iopub.status.busy": "2023-10-05T13:18:21.717405Z",
     "iopub.status.idle": "2023-10-05T13:18:21.721783Z",
     "shell.execute_reply": "2023-10-05T13:18:21.721347Z"
    },
    "papermill": {
     "duration": 0.009751,
     "end_time": "2023-10-05T13:18:21.722843",
     "exception": false,
     "start_time": "2023-10-05T13:18:21.713092",
     "status": "completed"
    },
    "tags": []
   },
   "outputs": [],
   "source": [
    "df = df.drop(columns=['address'])"
   ]
  },
  {
   "cell_type": "code",
   "execution_count": 13,
   "id": "1ee66a87",
   "metadata": {
    "execution": {
     "iopub.execute_input": "2023-10-05T13:18:21.729366Z",
     "iopub.status.busy": "2023-10-05T13:18:21.729155Z",
     "iopub.status.idle": "2023-10-05T13:18:21.734825Z",
     "shell.execute_reply": "2023-10-05T13:18:21.734366Z"
    },
    "papermill": {
     "duration": 0.010359,
     "end_time": "2023-10-05T13:18:21.736036",
     "exception": false,
     "start_time": "2023-10-05T13:18:21.725677",
     "status": "completed"
    },
    "tags": []
   },
   "outputs": [
    {
     "data": {
      "text/plain": [
       "posted_by\n",
       "Dealer     18291\n",
       "Owner      10538\n",
       "Builder      622\n",
       "Name: count, dtype: int64"
      ]
     },
     "execution_count": 13,
     "metadata": {},
     "output_type": "execute_result"
    }
   ],
   "source": [
    "df['posted_by'].value_counts()"
   ]
  },
  {
   "cell_type": "code",
   "execution_count": 14,
   "id": "876341f2",
   "metadata": {
    "execution": {
     "iopub.execute_input": "2023-10-05T13:18:21.743096Z",
     "iopub.status.busy": "2023-10-05T13:18:21.742849Z",
     "iopub.status.idle": "2023-10-05T13:18:21.748018Z",
     "shell.execute_reply": "2023-10-05T13:18:21.747436Z"
    },
    "papermill": {
     "duration": 0.010534,
     "end_time": "2023-10-05T13:18:21.749636",
     "exception": false,
     "start_time": "2023-10-05T13:18:21.739102",
     "status": "completed"
    },
    "tags": []
   },
   "outputs": [
    {
     "data": {
      "text/plain": [
       "bhk_or_rk\n",
       "BHK    29427\n",
       "RK        24\n",
       "Name: count, dtype: int64"
      ]
     },
     "execution_count": 14,
     "metadata": {},
     "output_type": "execute_result"
    }
   ],
   "source": [
    "df['bhk_or_rk'].value_counts()"
   ]
  },
  {
   "cell_type": "code",
   "execution_count": 15,
   "id": "bc70d94b",
   "metadata": {
    "execution": {
     "iopub.execute_input": "2023-10-05T13:18:21.755991Z",
     "iopub.status.busy": "2023-10-05T13:18:21.755739Z",
     "iopub.status.idle": "2023-10-05T13:18:21.765315Z",
     "shell.execute_reply": "2023-10-05T13:18:21.764403Z"
    },
    "papermill": {
     "duration": 0.014541,
     "end_time": "2023-10-05T13:18:21.766935",
     "exception": false,
     "start_time": "2023-10-05T13:18:21.752394",
     "status": "completed"
    },
    "tags": []
   },
   "outputs": [],
   "source": [
    "# df = pd.get_dummies(df, columns=['posted_by', 'bhk_or_rk', 'city'])\n",
    "df = pd.get_dummies(df, columns=['posted_by', 'bhk_or_rk'])"
   ]
  },
  {
   "cell_type": "code",
   "execution_count": 16,
   "id": "2a0253c2",
   "metadata": {
    "execution": {
     "iopub.execute_input": "2023-10-05T13:18:21.774174Z",
     "iopub.status.busy": "2023-10-05T13:18:21.773871Z",
     "iopub.status.idle": "2023-10-05T13:18:21.788652Z",
     "shell.execute_reply": "2023-10-05T13:18:21.788065Z"
    },
    "papermill": {
     "duration": 0.019498,
     "end_time": "2023-10-05T13:18:21.789759",
     "exception": false,
     "start_time": "2023-10-05T13:18:21.770261",
     "status": "completed"
    },
    "tags": []
   },
   "outputs": [
    {
     "data": {
      "text/html": [
       "<div>\n",
       "<style scoped>\n",
       "    .dataframe tbody tr th:only-of-type {\n",
       "        vertical-align: middle;\n",
       "    }\n",
       "\n",
       "    .dataframe tbody tr th {\n",
       "        vertical-align: top;\n",
       "    }\n",
       "\n",
       "    .dataframe thead th {\n",
       "        text-align: right;\n",
       "    }\n",
       "</style>\n",
       "<table border=\"1\" class=\"dataframe\">\n",
       "  <thead>\n",
       "    <tr style=\"text-align: right;\">\n",
       "      <th></th>\n",
       "      <th>under_construction</th>\n",
       "      <th>rera</th>\n",
       "      <th>bhk_no</th>\n",
       "      <th>ready_to_move</th>\n",
       "      <th>resale</th>\n",
       "      <th>longitude</th>\n",
       "      <th>latitude</th>\n",
       "      <th>price</th>\n",
       "      <th>area_m2</th>\n",
       "      <th>posted_by_Builder</th>\n",
       "      <th>posted_by_Dealer</th>\n",
       "      <th>posted_by_Owner</th>\n",
       "      <th>bhk_or_rk_BHK</th>\n",
       "      <th>bhk_or_rk_RK</th>\n",
       "    </tr>\n",
       "  </thead>\n",
       "  <tbody>\n",
       "    <tr>\n",
       "      <th>0</th>\n",
       "      <td>0</td>\n",
       "      <td>0</td>\n",
       "      <td>2</td>\n",
       "      <td>1</td>\n",
       "      <td>1</td>\n",
       "      <td>12.969910</td>\n",
       "      <td>77.597960</td>\n",
       "      <td>76835.0</td>\n",
       "      <td>120.795863</td>\n",
       "      <td>False</td>\n",
       "      <td>False</td>\n",
       "      <td>True</td>\n",
       "      <td>True</td>\n",
       "      <td>False</td>\n",
       "    </tr>\n",
       "    <tr>\n",
       "      <th>1</th>\n",
       "      <td>0</td>\n",
       "      <td>0</td>\n",
       "      <td>2</td>\n",
       "      <td>1</td>\n",
       "      <td>1</td>\n",
       "      <td>12.274538</td>\n",
       "      <td>76.644605</td>\n",
       "      <td>71247.0</td>\n",
       "      <td>118.451325</td>\n",
       "      <td>False</td>\n",
       "      <td>True</td>\n",
       "      <td>False</td>\n",
       "      <td>True</td>\n",
       "      <td>False</td>\n",
       "    </tr>\n",
       "    <tr>\n",
       "      <th>2</th>\n",
       "      <td>0</td>\n",
       "      <td>0</td>\n",
       "      <td>2</td>\n",
       "      <td>1</td>\n",
       "      <td>1</td>\n",
       "      <td>12.778033</td>\n",
       "      <td>77.632191</td>\n",
       "      <td>60071.0</td>\n",
       "      <td>86.693338</td>\n",
       "      <td>False</td>\n",
       "      <td>False</td>\n",
       "      <td>True</td>\n",
       "      <td>True</td>\n",
       "      <td>False</td>\n",
       "    </tr>\n",
       "    <tr>\n",
       "      <th>3</th>\n",
       "      <td>0</td>\n",
       "      <td>1</td>\n",
       "      <td>2</td>\n",
       "      <td>1</td>\n",
       "      <td>1</td>\n",
       "      <td>28.642300</td>\n",
       "      <td>77.344500</td>\n",
       "      <td>87312.5</td>\n",
       "      <td>86.392464</td>\n",
       "      <td>False</td>\n",
       "      <td>False</td>\n",
       "      <td>True</td>\n",
       "      <td>True</td>\n",
       "      <td>False</td>\n",
       "    </tr>\n",
       "    <tr>\n",
       "      <th>4</th>\n",
       "      <td>1</td>\n",
       "      <td>0</td>\n",
       "      <td>2</td>\n",
       "      <td>0</td>\n",
       "      <td>1</td>\n",
       "      <td>22.592200</td>\n",
       "      <td>88.484911</td>\n",
       "      <td>84518.5</td>\n",
       "      <td>92.810956</td>\n",
       "      <td>False</td>\n",
       "      <td>True</td>\n",
       "      <td>False</td>\n",
       "      <td>True</td>\n",
       "      <td>False</td>\n",
       "    </tr>\n",
       "  </tbody>\n",
       "</table>\n",
       "</div>"
      ],
      "text/plain": [
       "   under_construction  rera  bhk_no  ready_to_move  resale  longitude  \\\n",
       "0                   0     0       2              1       1  12.969910   \n",
       "1                   0     0       2              1       1  12.274538   \n",
       "2                   0     0       2              1       1  12.778033   \n",
       "3                   0     1       2              1       1  28.642300   \n",
       "4                   1     0       2              0       1  22.592200   \n",
       "\n",
       "    latitude    price     area_m2  posted_by_Builder  posted_by_Dealer  \\\n",
       "0  77.597960  76835.0  120.795863              False             False   \n",
       "1  76.644605  71247.0  118.451325              False              True   \n",
       "2  77.632191  60071.0   86.693338              False             False   \n",
       "3  77.344500  87312.5   86.392464              False             False   \n",
       "4  88.484911  84518.5   92.810956              False              True   \n",
       "\n",
       "   posted_by_Owner  bhk_or_rk_BHK  bhk_or_rk_RK  \n",
       "0             True           True         False  \n",
       "1            False           True         False  \n",
       "2             True           True         False  \n",
       "3             True           True         False  \n",
       "4            False           True         False  "
      ]
     },
     "execution_count": 16,
     "metadata": {},
     "output_type": "execute_result"
    }
   ],
   "source": [
    "df.head()"
   ]
  },
  {
   "cell_type": "code",
   "execution_count": 17,
   "id": "c91d6750",
   "metadata": {
    "execution": {
     "iopub.execute_input": "2023-10-05T13:18:21.798040Z",
     "iopub.status.busy": "2023-10-05T13:18:21.797756Z",
     "iopub.status.idle": "2023-10-05T13:18:21.806263Z",
     "shell.execute_reply": "2023-10-05T13:18:21.805808Z"
    },
    "papermill": {
     "duration": 0.014421,
     "end_time": "2023-10-05T13:18:21.807652",
     "exception": false,
     "start_time": "2023-10-05T13:18:21.793231",
     "status": "completed"
    },
    "tags": []
   },
   "outputs": [
    {
     "name": "stdout",
     "output_type": "stream",
     "text": [
      "<class 'pandas.core.frame.DataFrame'>\n",
      "RangeIndex: 29451 entries, 0 to 29450\n",
      "Data columns (total 14 columns):\n",
      " #   Column              Non-Null Count  Dtype  \n",
      "---  ------              --------------  -----  \n",
      " 0   under_construction  29451 non-null  int64  \n",
      " 1   rera                29451 non-null  int64  \n",
      " 2   bhk_no              29451 non-null  int64  \n",
      " 3   ready_to_move       29451 non-null  int64  \n",
      " 4   resale              29451 non-null  int64  \n",
      " 5   longitude           29451 non-null  float64\n",
      " 6   latitude            29451 non-null  float64\n",
      " 7   price               29451 non-null  float64\n",
      " 8   area_m2             29451 non-null  float64\n",
      " 9   posted_by_Builder   29451 non-null  bool   \n",
      " 10  posted_by_Dealer    29451 non-null  bool   \n",
      " 11  posted_by_Owner     29451 non-null  bool   \n",
      " 12  bhk_or_rk_BHK       29451 non-null  bool   \n",
      " 13  bhk_or_rk_RK        29451 non-null  bool   \n",
      "dtypes: bool(5), float64(4), int64(5)\n",
      "memory usage: 2.2 MB\n"
     ]
    }
   ],
   "source": [
    "df.info()"
   ]
  },
  {
   "cell_type": "code",
   "execution_count": 18,
   "id": "17914d6d",
   "metadata": {
    "execution": {
     "iopub.execute_input": "2023-10-05T13:18:21.816501Z",
     "iopub.status.busy": "2023-10-05T13:18:21.816153Z",
     "iopub.status.idle": "2023-10-05T13:18:21.825293Z",
     "shell.execute_reply": "2023-10-05T13:18:21.824693Z"
    },
    "papermill": {
     "duration": 0.015014,
     "end_time": "2023-10-05T13:18:21.826523",
     "exception": false,
     "start_time": "2023-10-05T13:18:21.811509",
     "status": "completed"
    },
    "tags": []
   },
   "outputs": [
    {
     "name": "stdout",
     "output_type": "stream",
     "text": [
      "posted_by_Builder bool\n",
      "posted_by_Dealer bool\n",
      "posted_by_Owner bool\n",
      "bhk_or_rk_BHK bool\n",
      "bhk_or_rk_RK bool\n",
      "<class 'pandas.core.frame.DataFrame'>\n",
      "RangeIndex: 29451 entries, 0 to 29450\n",
      "Data columns (total 14 columns):\n",
      " #   Column              Non-Null Count  Dtype  \n",
      "---  ------              --------------  -----  \n",
      " 0   under_construction  29451 non-null  int64  \n",
      " 1   rera                29451 non-null  int64  \n",
      " 2   bhk_no              29451 non-null  int64  \n",
      " 3   ready_to_move       29451 non-null  int64  \n",
      " 4   resale              29451 non-null  int64  \n",
      " 5   longitude           29451 non-null  float64\n",
      " 6   latitude            29451 non-null  float64\n",
      " 7   price               29451 non-null  float64\n",
      " 8   area_m2             29451 non-null  float64\n",
      " 9   posted_by_Builder   29451 non-null  int64  \n",
      " 10  posted_by_Dealer    29451 non-null  int64  \n",
      " 11  posted_by_Owner     29451 non-null  int64  \n",
      " 12  bhk_or_rk_BHK       29451 non-null  int64  \n",
      " 13  bhk_or_rk_RK        29451 non-null  int64  \n",
      "dtypes: float64(4), int64(10)\n",
      "memory usage: 3.1 MB\n"
     ]
    }
   ],
   "source": [
    "for c in df.columns:\n",
    "    if df[c].dtype == bool:\n",
    "        print(f'{c} {df[c].dtype}')\n",
    "        df[c] = df[c].astype(int)\n",
    "\n",
    "df.info()"
   ]
  },
  {
   "cell_type": "code",
   "execution_count": 19,
   "id": "3ed15ffd",
   "metadata": {
    "execution": {
     "iopub.execute_input": "2023-10-05T13:18:21.835397Z",
     "iopub.status.busy": "2023-10-05T13:18:21.835101Z",
     "iopub.status.idle": "2023-10-05T13:18:21.837933Z",
     "shell.execute_reply": "2023-10-05T13:18:21.837362Z"
    },
    "lines_to_next_cell": 0,
    "papermill": {
     "duration": 0.008906,
     "end_time": "2023-10-05T13:18:21.838999",
     "exception": false,
     "start_time": "2023-10-05T13:18:21.830093",
     "status": "completed"
    },
    "tags": []
   },
   "outputs": [],
   "source": [
    "# 1. hot shoe encoding\n",
    "# 2. Drop encoded columns\n",
    "# 3. Extract city\n",
    "# 4."
   ]
  },
  {
   "cell_type": "code",
   "execution_count": 20,
   "id": "4739edb4",
   "metadata": {
    "execution": {
     "iopub.execute_input": "2023-10-05T13:18:21.846683Z",
     "iopub.status.busy": "2023-10-05T13:18:21.846418Z",
     "iopub.status.idle": "2023-10-05T13:18:21.999359Z",
     "shell.execute_reply": "2023-10-05T13:18:21.998245Z"
    },
    "papermill": {
     "duration": 0.159342,
     "end_time": "2023-10-05T13:18:22.001769",
     "exception": false,
     "start_time": "2023-10-05T13:18:21.842427",
     "status": "completed"
    },
    "tags": []
   },
   "outputs": [],
   "source": [
    "\n",
    "df.to_csv(product['clean_csv'], index=False)"
   ]
  }
 ],
 "metadata": {
  "jupytext": {
   "cell_metadata_filter": "tags,-all",
   "main_language": "python",
   "notebook_metadata_filter": "-all",
   "text_representation": {
    "extension": ".py",
    "format_name": "percent"
   }
  },
  "kernelspec": {
   "display_name": "Python 3 (ipykernel)",
   "language": "python",
   "name": "python3"
  },
  "language_info": {
   "codemirror_mode": {
    "name": "ipython",
    "version": 3
   },
   "file_extension": ".py",
   "mimetype": "text/x-python",
   "name": "python",
   "nbconvert_exporter": "python",
   "pygments_lexer": "ipython3",
   "version": "3.10.12"
  },
  "papermill": {
   "duration": 1.867188,
   "end_time": "2023-10-05T13:18:22.223365",
   "exception": null,
   "input_path": "/tmp/tmpzt4fs7o5.ipynb",
   "output_path": "/home/luiscberrocal/PycharmProjects/hacktoberfest-2023/kaggle/products/02-cleanup.ipynb",
   "parameters": {
    "product": {
     "clean_csv": "/home/luiscberrocal/PycharmProjects/hacktoberfest-2023/kaggle/data/house_prices_clean.csv",
     "nb": "/home/luiscberrocal/PycharmProjects/hacktoberfest-2023/kaggle/products/02-cleanup.ipynb"
    },
    "upstream": {
     "01-get": {
      "csv_file": "/home/luiscberrocal/PycharmProjects/hacktoberfest-2023/kaggle/data/house_prices.csv",
      "database": "/home/luiscberrocal/PycharmProjects/hacktoberfest-2023/kaggle/data/house_prices.duckdb",
      "nb": "/home/luiscberrocal/PycharmProjects/hacktoberfest-2023/kaggle/products/01-extract-pipeline.ipynb"
     }
    }
   },
   "start_time": "2023-10-05T13:18:20.356177"
  }
 },
 "nbformat": 4,
 "nbformat_minor": 5
}