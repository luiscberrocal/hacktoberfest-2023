{
 "cells": [
  {
   "cell_type": "code",
   "execution_count": 1,
   "id": "98c498e6",
   "metadata": {
    "execution": {
     "iopub.execute_input": "2023-10-04T12:55:35.805661Z",
     "iopub.status.busy": "2023-10-04T12:55:35.805303Z",
     "iopub.status.idle": "2023-10-04T12:55:35.809555Z",
     "shell.execute_reply": "2023-10-04T12:55:35.809079Z"
    },
    "lines_to_next_cell": 2,
    "papermill": {
     "duration": 0.007871,
     "end_time": "2023-10-04T12:55:35.810568",
     "exception": false,
     "start_time": "2023-10-04T12:55:35.802697",
     "status": "completed"
    },
    "tags": []
   },
   "outputs": [],
   "source": [
    "# Add description here\n",
    "#\n",
    "# *Note:* You can open this file as a notebook (JupyterLab: right-click on it in the side bar -> Open With -> Notebook)"
   ]
  },
  {
   "cell_type": "code",
   "execution_count": 2,
   "id": "46395791",
   "metadata": {
    "execution": {
     "iopub.execute_input": "2023-10-04T12:55:35.816478Z",
     "iopub.status.busy": "2023-10-04T12:55:35.816179Z",
     "iopub.status.idle": "2023-10-04T12:55:35.818763Z",
     "shell.execute_reply": "2023-10-04T12:55:35.818360Z"
    },
    "papermill": {
     "duration": 0.005777,
     "end_time": "2023-10-04T12:55:35.819843",
     "exception": false,
     "start_time": "2023-10-04T12:55:35.814066",
     "status": "completed"
    },
    "tags": []
   },
   "outputs": [],
   "source": [
    "# Uncomment the next two lines to enable auto reloading for imported modules\n",
    "# %load_ext autoreload\n",
    "# %autoreload 2\n",
    "# For more info, see:\n",
    "# https://docs.ploomber.io/en/latest/user-guide/faq_index.html#auto-reloading-code-in-jupyter"
   ]
  },
  {
   "cell_type": "code",
   "execution_count": 3,
   "id": "d386f789",
   "metadata": {
    "execution": {
     "iopub.execute_input": "2023-10-04T12:55:35.823661Z",
     "iopub.status.busy": "2023-10-04T12:55:35.823402Z",
     "iopub.status.idle": "2023-10-04T12:55:35.828782Z",
     "shell.execute_reply": "2023-10-04T12:55:35.828250Z"
    },
    "papermill": {
     "duration": 0.008546,
     "end_time": "2023-10-04T12:55:35.829737",
     "exception": false,
     "start_time": "2023-10-04T12:55:35.821191",
     "status": "completed"
    },
    "tags": [
     "parameters"
    ]
   },
   "outputs": [],
   "source": [
    "# If this task has dependencies, list them them here\n",
    "# (e.g. upstream = ['some_task']), otherwise leave as None.\n",
    "upstream = ['05-split']\n",
    "\n",
    "# This is a placeholder, leave it as None\n",
    "product = None"
   ]
  },
  {
   "cell_type": "code",
   "execution_count": 4,
   "id": "0b9838e3",
   "metadata": {
    "execution": {
     "iopub.execute_input": "2023-10-04T12:55:35.833700Z",
     "iopub.status.busy": "2023-10-04T12:55:35.833417Z",
     "iopub.status.idle": "2023-10-04T12:55:35.836634Z",
     "shell.execute_reply": "2023-10-04T12:55:35.836111Z"
    },
    "papermill": {
     "duration": 0.006554,
     "end_time": "2023-10-04T12:55:35.837743",
     "exception": false,
     "start_time": "2023-10-04T12:55:35.831189",
     "status": "completed"
    },
    "tags": [
     "injected-parameters"
    ]
   },
   "outputs": [],
   "source": [
    "# Parameters\n",
    "upstream = {\"05-split\": {\"nb\": \"/home/luiscberrocal/PycharmProjects/hacktoberfest-2023/kaggle/products/05_split.ipynb\", \"train_data\": \"/home/luiscberrocal/PycharmProjects/hacktoberfest-2023/kaggle/data/house_prices_train.csv\", \"test_data\": \"/home/luiscberrocal/PycharmProjects/hacktoberfest-2023/kaggle/data/house_prices_test.csv\"}}\n",
    "product = {\"nb\": \"/home/luiscberrocal/PycharmProjects/hacktoberfest-2023/kaggle/products/05_linear_regression.ipynb\", \"model_file\": \"/home/luiscberrocal/PycharmProjects/hacktoberfest-2023/kaggle/data/linear_regression.pickle\"}\n"
   ]
  },
  {
   "cell_type": "code",
   "execution_count": 5,
   "id": "f58d98f6",
   "metadata": {
    "execution": {
     "iopub.execute_input": "2023-10-04T12:55:35.842282Z",
     "iopub.status.busy": "2023-10-04T12:55:35.841912Z",
     "iopub.status.idle": "2023-10-04T12:55:36.550904Z",
     "shell.execute_reply": "2023-10-04T12:55:36.550370Z"
    },
    "papermill": {
     "duration": 0.713277,
     "end_time": "2023-10-04T12:55:36.552569",
     "exception": false,
     "start_time": "2023-10-04T12:55:35.839292",
     "status": "completed"
    },
    "tags": []
   },
   "outputs": [],
   "source": [
    "import pandas as pd\n",
    "from sklearn.linear_model import LinearRegression"
   ]
  },
  {
   "cell_type": "code",
   "execution_count": 6,
   "id": "5eda75aa",
   "metadata": {
    "execution": {
     "iopub.execute_input": "2023-10-04T12:55:36.565488Z",
     "iopub.status.busy": "2023-10-04T12:55:36.565124Z",
     "iopub.status.idle": "2023-10-04T12:55:36.597402Z",
     "shell.execute_reply": "2023-10-04T12:55:36.596916Z"
    },
    "papermill": {
     "duration": 0.044281,
     "end_time": "2023-10-04T12:55:36.598791",
     "exception": false,
     "start_time": "2023-10-04T12:55:36.554510",
     "status": "completed"
    },
    "tags": []
   },
   "outputs": [],
   "source": [
    "train_data = pd.read_csv(upstream['05-split']['train_data'])\n",
    "test_data = pd.read_csv(upstream['05-split']['test_data'])"
   ]
  },
  {
   "cell_type": "code",
   "execution_count": 7,
   "id": "268063c8",
   "metadata": {
    "execution": {
     "iopub.execute_input": "2023-10-04T12:55:36.603737Z",
     "iopub.status.busy": "2023-10-04T12:55:36.603467Z",
     "iopub.status.idle": "2023-10-04T12:55:36.607952Z",
     "shell.execute_reply": "2023-10-04T12:55:36.607406Z"
    },
    "papermill": {
     "duration": 0.008694,
     "end_time": "2023-10-04T12:55:36.609148",
     "exception": false,
     "start_time": "2023-10-04T12:55:36.600454",
     "status": "completed"
    },
    "tags": []
   },
   "outputs": [],
   "source": [
    "X_train = train_data.drop(['price'], axis=1)\n",
    "y_train = train_data['price']"
   ]
  },
  {
   "cell_type": "code",
   "execution_count": 8,
   "id": "b40192dc",
   "metadata": {
    "execution": {
     "iopub.execute_input": "2023-10-04T12:55:36.614360Z",
     "iopub.status.busy": "2023-10-04T12:55:36.614122Z",
     "iopub.status.idle": "2023-10-04T12:55:36.617582Z",
     "shell.execute_reply": "2023-10-04T12:55:36.617071Z"
    },
    "papermill": {
     "duration": 0.007415,
     "end_time": "2023-10-04T12:55:36.619211",
     "exception": false,
     "start_time": "2023-10-04T12:55:36.611796",
     "status": "completed"
    },
    "tags": []
   },
   "outputs": [],
   "source": [
    "X_test = test_data.drop(['price'], axis=1)\n",
    "y_test = test_data['price']"
   ]
  },
  {
   "cell_type": "code",
   "execution_count": 9,
   "id": "94796c90",
   "metadata": {
    "execution": {
     "iopub.execute_input": "2023-10-04T12:55:36.624157Z",
     "iopub.status.busy": "2023-10-04T12:55:36.623871Z",
     "iopub.status.idle": "2023-10-04T12:55:36.639049Z",
     "shell.execute_reply": "2023-10-04T12:55:36.638466Z"
    },
    "papermill": {
     "duration": 0.019123,
     "end_time": "2023-10-04T12:55:36.640304",
     "exception": false,
     "start_time": "2023-10-04T12:55:36.621181",
     "status": "completed"
    },
    "tags": []
   },
   "outputs": [
    {
     "data": {
      "text/html": [
       "<style>#sk-container-id-1 {color: black;}#sk-container-id-1 pre{padding: 0;}#sk-container-id-1 div.sk-toggleable {background-color: white;}#sk-container-id-1 label.sk-toggleable__label {cursor: pointer;display: block;width: 100%;margin-bottom: 0;padding: 0.3em;box-sizing: border-box;text-align: center;}#sk-container-id-1 label.sk-toggleable__label-arrow:before {content: \"▸\";float: left;margin-right: 0.25em;color: #696969;}#sk-container-id-1 label.sk-toggleable__label-arrow:hover:before {color: black;}#sk-container-id-1 div.sk-estimator:hover label.sk-toggleable__label-arrow:before {color: black;}#sk-container-id-1 div.sk-toggleable__content {max-height: 0;max-width: 0;overflow: hidden;text-align: left;background-color: #f0f8ff;}#sk-container-id-1 div.sk-toggleable__content pre {margin: 0.2em;color: black;border-radius: 0.25em;background-color: #f0f8ff;}#sk-container-id-1 input.sk-toggleable__control:checked~div.sk-toggleable__content {max-height: 200px;max-width: 100%;overflow: auto;}#sk-container-id-1 input.sk-toggleable__control:checked~label.sk-toggleable__label-arrow:before {content: \"▾\";}#sk-container-id-1 div.sk-estimator input.sk-toggleable__control:checked~label.sk-toggleable__label {background-color: #d4ebff;}#sk-container-id-1 div.sk-label input.sk-toggleable__control:checked~label.sk-toggleable__label {background-color: #d4ebff;}#sk-container-id-1 input.sk-hidden--visually {border: 0;clip: rect(1px 1px 1px 1px);clip: rect(1px, 1px, 1px, 1px);height: 1px;margin: -1px;overflow: hidden;padding: 0;position: absolute;width: 1px;}#sk-container-id-1 div.sk-estimator {font-family: monospace;background-color: #f0f8ff;border: 1px dotted black;border-radius: 0.25em;box-sizing: border-box;margin-bottom: 0.5em;}#sk-container-id-1 div.sk-estimator:hover {background-color: #d4ebff;}#sk-container-id-1 div.sk-parallel-item::after {content: \"\";width: 100%;border-bottom: 1px solid gray;flex-grow: 1;}#sk-container-id-1 div.sk-label:hover label.sk-toggleable__label {background-color: #d4ebff;}#sk-container-id-1 div.sk-serial::before {content: \"\";position: absolute;border-left: 1px solid gray;box-sizing: border-box;top: 0;bottom: 0;left: 50%;z-index: 0;}#sk-container-id-1 div.sk-serial {display: flex;flex-direction: column;align-items: center;background-color: white;padding-right: 0.2em;padding-left: 0.2em;position: relative;}#sk-container-id-1 div.sk-item {position: relative;z-index: 1;}#sk-container-id-1 div.sk-parallel {display: flex;align-items: stretch;justify-content: center;background-color: white;position: relative;}#sk-container-id-1 div.sk-item::before, #sk-container-id-1 div.sk-parallel-item::before {content: \"\";position: absolute;border-left: 1px solid gray;box-sizing: border-box;top: 0;bottom: 0;left: 50%;z-index: -1;}#sk-container-id-1 div.sk-parallel-item {display: flex;flex-direction: column;z-index: 1;position: relative;background-color: white;}#sk-container-id-1 div.sk-parallel-item:first-child::after {align-self: flex-end;width: 50%;}#sk-container-id-1 div.sk-parallel-item:last-child::after {align-self: flex-start;width: 50%;}#sk-container-id-1 div.sk-parallel-item:only-child::after {width: 0;}#sk-container-id-1 div.sk-dashed-wrapped {border: 1px dashed gray;margin: 0 0.4em 0.5em 0.4em;box-sizing: border-box;padding-bottom: 0.4em;background-color: white;}#sk-container-id-1 div.sk-label label {font-family: monospace;font-weight: bold;display: inline-block;line-height: 1.2em;}#sk-container-id-1 div.sk-label-container {text-align: center;}#sk-container-id-1 div.sk-container {/* jupyter's `normalize.less` sets `[hidden] { display: none; }` but bootstrap.min.css set `[hidden] { display: none !important; }` so we also need the `!important` here to be able to override the default hidden behavior on the sphinx rendered scikit-learn.org. See: https://github.com/scikit-learn/scikit-learn/issues/21755 */display: inline-block !important;position: relative;}#sk-container-id-1 div.sk-text-repr-fallback {display: none;}</style><div id=\"sk-container-id-1\" class=\"sk-top-container\"><div class=\"sk-text-repr-fallback\"><pre>LinearRegression()</pre><b>In a Jupyter environment, please rerun this cell to show the HTML representation or trust the notebook. <br />On GitHub, the HTML representation is unable to render, please try loading this page with nbviewer.org.</b></div><div class=\"sk-container\" hidden><div class=\"sk-item\"><div class=\"sk-estimator sk-toggleable\"><input class=\"sk-toggleable__control sk-hidden--visually\" id=\"sk-estimator-id-1\" type=\"checkbox\" checked><label for=\"sk-estimator-id-1\" class=\"sk-toggleable__label sk-toggleable__label-arrow\">LinearRegression</label><div class=\"sk-toggleable__content\"><pre>LinearRegression()</pre></div></div></div></div></div>"
      ],
      "text/plain": [
       "LinearRegression()"
      ]
     },
     "execution_count": 9,
     "metadata": {},
     "output_type": "execute_result"
    }
   ],
   "source": [
    "linear_reg = LinearRegression()\n",
    "\n",
    "linear_reg.fit(X_train, y_train)"
   ]
  },
  {
   "cell_type": "code",
   "execution_count": 10,
   "id": "dea68356",
   "metadata": {
    "execution": {
     "iopub.execute_input": "2023-10-04T12:55:36.644688Z",
     "iopub.status.busy": "2023-10-04T12:55:36.644422Z",
     "iopub.status.idle": "2023-10-04T12:55:36.650815Z",
     "shell.execute_reply": "2023-10-04T12:55:36.650144Z"
    },
    "papermill": {
     "duration": 0.010602,
     "end_time": "2023-10-04T12:55:36.652650",
     "exception": false,
     "start_time": "2023-10-04T12:55:36.642048",
     "status": "completed"
    },
    "tags": []
   },
   "outputs": [
    {
     "name": "stdout",
     "output_type": "stream",
     "text": [
      "0.20056831859195667\n"
     ]
    }
   ],
   "source": [
    "score = linear_reg.score(X_test, y_test)\n",
    "\n",
    "print(score)"
   ]
  }
 ],
 "metadata": {
  "jupytext": {
   "text_representation": {
    "extension": ".py",
    "format_name": "percent"
   }
  },
  "kernelspec": {
   "display_name": "Python 3 (ipykernel)",
   "language": "python",
   "name": "python3"
  },
  "language_info": {
   "codemirror_mode": {
    "name": "ipython",
    "version": 3
   },
   "file_extension": ".py",
   "mimetype": "text/x-python",
   "name": "python",
   "nbconvert_exporter": "python",
   "pygments_lexer": "ipython3",
   "version": "3.8.17"
  },
  "papermill": {
   "duration": 1.826501,
   "end_time": "2023-10-04T12:55:36.975988",
   "exception": null,
   "input_path": "/tmp/tmpoqof2ce1.ipynb",
   "output_path": "/home/luiscberrocal/PycharmProjects/hacktoberfest-2023/kaggle/products/05_linear_regression.ipynb",
   "parameters": {
    "product": {
     "model_file": "/home/luiscberrocal/PycharmProjects/hacktoberfest-2023/kaggle/data/linear_regression.pickle",
     "nb": "/home/luiscberrocal/PycharmProjects/hacktoberfest-2023/kaggle/products/05_linear_regression.ipynb"
    },
    "upstream": {
     "05-split": {
      "nb": "/home/luiscberrocal/PycharmProjects/hacktoberfest-2023/kaggle/products/05_split.ipynb",
      "test_data": "/home/luiscberrocal/PycharmProjects/hacktoberfest-2023/kaggle/data/house_prices_test.csv",
      "train_data": "/home/luiscberrocal/PycharmProjects/hacktoberfest-2023/kaggle/data/house_prices_train.csv"
     }
    }
   },
   "start_time": "2023-10-04T12:55:35.149487"
  }
 },
 "nbformat": 4,
 "nbformat_minor": 5
}
