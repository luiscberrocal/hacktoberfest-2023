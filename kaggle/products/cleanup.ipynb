{
 "cells": [
  {
   "cell_type": "code",
   "execution_count": 1,
   "id": "2f0c0b0d",
   "metadata": {
    "execution": {
     "iopub.execute_input": "2023-10-02T12:25:46.438683Z",
     "iopub.status.busy": "2023-10-02T12:25:46.438397Z",
     "iopub.status.idle": "2023-10-02T12:25:46.445828Z",
     "shell.execute_reply": "2023-10-02T12:25:46.445401Z"
    },
    "papermill": {
     "duration": 0.011148,
     "end_time": "2023-10-02T12:25:46.447249",
     "exception": false,
     "start_time": "2023-10-02T12:25:46.436101",
     "status": "completed"
    },
    "tags": [
     "parameters"
    ]
   },
   "outputs": [],
   "source": [
    "upstream = ['01-get']\n",
    "product = None\n",
    "\n",
    "import re"
   ]
  },
  {
   "cell_type": "code",
   "execution_count": 2,
   "id": "c8961bd1",
   "metadata": {
    "execution": {
     "iopub.execute_input": "2023-10-02T12:25:46.452172Z",
     "iopub.status.busy": "2023-10-02T12:25:46.451959Z",
     "iopub.status.idle": "2023-10-02T12:25:46.454778Z",
     "shell.execute_reply": "2023-10-02T12:25:46.454370Z"
    },
    "papermill": {
     "duration": 0.006695,
     "end_time": "2023-10-02T12:25:46.456137",
     "exception": false,
     "start_time": "2023-10-02T12:25:46.449442",
     "status": "completed"
    },
    "tags": [
     "injected-parameters"
    ]
   },
   "outputs": [],
   "source": [
    "# Parameters\n",
    "upstream = {\"01-get\": {\"nb\": \"/home/luiscberrocal/PycharmProjects/hacktoberfest-2023/kaggle/products/extract-pipeline.ipynb\", \"csv_file\": \"/home/luiscberrocal/PycharmProjects/hacktoberfest-2023/kaggle/data/house_prices.csv\"}}\n",
    "product = {\"nb\": \"/home/luiscberrocal/PycharmProjects/hacktoberfest-2023/kaggle/products/cleanup.ipynb\", \"clean_csv\": \"/home/luiscberrocal/PycharmProjects/hacktoberfest-2023/kaggle/data/house_prices_clean.csv\"}\n"
   ]
  },
  {
   "cell_type": "code",
   "execution_count": 3,
   "id": "29c10e04",
   "metadata": {
    "execution": {
     "iopub.execute_input": "2023-10-02T12:25:46.461051Z",
     "iopub.status.busy": "2023-10-02T12:25:46.460855Z",
     "iopub.status.idle": "2023-10-02T12:25:46.758176Z",
     "shell.execute_reply": "2023-10-02T12:25:46.757581Z"
    },
    "papermill": {
     "duration": 0.301483,
     "end_time": "2023-10-02T12:25:46.759606",
     "exception": false,
     "start_time": "2023-10-02T12:25:46.458123",
     "status": "completed"
    },
    "tags": []
   },
   "outputs": [],
   "source": [
    "import pandas as pd"
   ]
  },
  {
   "cell_type": "code",
   "execution_count": 4,
   "id": "fe633141",
   "metadata": {
    "execution": {
     "iopub.execute_input": "2023-10-02T12:25:46.772277Z",
     "iopub.status.busy": "2023-10-02T12:25:46.771672Z",
     "iopub.status.idle": "2023-10-02T12:25:46.821067Z",
     "shell.execute_reply": "2023-10-02T12:25:46.820541Z"
    },
    "papermill": {
     "duration": 0.061358,
     "end_time": "2023-10-02T12:25:46.822464",
     "exception": false,
     "start_time": "2023-10-02T12:25:46.761106",
     "status": "completed"
    },
    "tags": []
   },
   "outputs": [],
   "source": [
    "df = pd.read_csv(upstream['01-get']['csv_file'])"
   ]
  },
  {
   "cell_type": "code",
   "execution_count": 5,
   "id": "1eb5f7a9",
   "metadata": {
    "execution": {
     "iopub.execute_input": "2023-10-02T12:25:46.825971Z",
     "iopub.status.busy": "2023-10-02T12:25:46.825719Z",
     "iopub.status.idle": "2023-10-02T12:25:46.835839Z",
     "shell.execute_reply": "2023-10-02T12:25:46.835312Z"
    },
    "papermill": {
     "duration": 0.013075,
     "end_time": "2023-10-02T12:25:46.836880",
     "exception": false,
     "start_time": "2023-10-02T12:25:46.823805",
     "status": "completed"
    },
    "tags": []
   },
   "outputs": [
    {
     "name": "stdout",
     "output_type": "stream",
     "text": [
      "<class 'pandas.core.frame.DataFrame'>\n",
      "RangeIndex: 29451 entries, 0 to 29450\n",
      "Data columns (total 12 columns):\n",
      " #   Column                 Non-Null Count  Dtype  \n",
      "---  ------                 --------------  -----  \n",
      " 0   POSTED_BY              29451 non-null  object \n",
      " 1   UNDER_CONSTRUCTION     29451 non-null  int64  \n",
      " 2   RERA                   29451 non-null  int64  \n",
      " 3   BHK_NO.                29451 non-null  int64  \n",
      " 4   BHK_OR_RK              29451 non-null  object \n",
      " 5   SQUARE_FT              29451 non-null  float64\n",
      " 6   READY_TO_MOVE          29451 non-null  int64  \n",
      " 7   RESALE                 29451 non-null  int64  \n",
      " 8   ADDRESS                29451 non-null  object \n",
      " 9   LONGITUDE              29451 non-null  float64\n",
      " 10  LATITUDE               29451 non-null  float64\n",
      " 11  TARGET(PRICE_IN_LACS)  29451 non-null  float64\n",
      "dtypes: float64(4), int64(5), object(3)\n",
      "memory usage: 2.7+ MB\n"
     ]
    }
   ],
   "source": [
    "df.info()"
   ]
  },
  {
   "cell_type": "code",
   "execution_count": 6,
   "id": "f93ecdab",
   "metadata": {
    "execution": {
     "iopub.execute_input": "2023-10-02T12:25:46.840443Z",
     "iopub.status.busy": "2023-10-02T12:25:46.840222Z",
     "iopub.status.idle": "2023-10-02T12:25:46.852336Z",
     "shell.execute_reply": "2023-10-02T12:25:46.851922Z"
    },
    "papermill": {
     "duration": 0.015219,
     "end_time": "2023-10-02T12:25:46.853449",
     "exception": false,
     "start_time": "2023-10-02T12:25:46.838230",
     "status": "completed"
    },
    "tags": []
   },
   "outputs": [
    {
     "name": "stdout",
     "output_type": "stream",
     "text": [
      "<class 'pandas.core.frame.DataFrame'>\n",
      "RangeIndex: 29451 entries, 0 to 29450\n",
      "Data columns (total 12 columns):\n",
      " #   Column               Non-Null Count  Dtype  \n",
      "---  ------               --------------  -----  \n",
      " 0   posted_by            29451 non-null  object \n",
      " 1   under_construction   29451 non-null  int64  \n",
      " 2   rera                 29451 non-null  int64  \n",
      " 3   bhk_no               29451 non-null  int64  \n",
      " 4   bhk_or_rk            29451 non-null  object \n",
      " 5   square_ft            29451 non-null  float64\n",
      " 6   ready_to_move        29451 non-null  int64  \n",
      " 7   resale               29451 non-null  int64  \n",
      " 8   address              29451 non-null  object \n",
      " 9   longitude            29451 non-null  float64\n",
      " 10  latitude             29451 non-null  float64\n",
      " 11  targetprice_in_lacs  29451 non-null  float64\n",
      "dtypes: float64(4), int64(5), object(3)\n",
      "memory usage: 2.7+ MB\n"
     ]
    }
   ],
   "source": [
    "df.isna().sum()\n",
    "\n",
    "## %%\n",
    "# Rename columns to snake case\n",
    "renamed_mapping = {}\n",
    "for c in df.columns:\n",
    "    new_c_name = re.sub('[^0-9a-zA-Z_]+', '', c)\n",
    "    renamed_mapping[c] = new_c_name.lower()  # .replace(' ', '_').replace('(', '').replace(')', '')\n",
    "renamed_mapping['targetprice_in_lacs'] = 'target_price_in_lacs'\n",
    "\n",
    "df = df.rename(columns=renamed_mapping)\n",
    "\n",
    "df.info()"
   ]
  },
  {
   "cell_type": "code",
   "execution_count": 7,
   "id": "e0eda5ba",
   "metadata": {
    "execution": {
     "iopub.execute_input": "2023-10-02T12:25:46.858211Z",
     "iopub.status.busy": "2023-10-02T12:25:46.857837Z",
     "iopub.status.idle": "2023-10-02T12:25:47.004302Z",
     "shell.execute_reply": "2023-10-02T12:25:47.003838Z"
    },
    "papermill": {
     "duration": 0.150601,
     "end_time": "2023-10-02T12:25:47.005563",
     "exception": false,
     "start_time": "2023-10-02T12:25:46.854962",
     "status": "completed"
    },
    "tags": []
   },
   "outputs": [],
   "source": [
    "\n",
    "df.to_csv(product['clean_csv'], index=False)"
   ]
  }
 ],
 "metadata": {
  "jupytext": {
   "cell_metadata_filter": "tags,-all",
   "main_language": "python",
   "notebook_metadata_filter": "-all",
   "text_representation": {
    "extension": ".py",
    "format_name": "percent"
   }
  },
  "kernelspec": {
   "display_name": "Python 3 (ipykernel)",
   "language": "python",
   "name": "python3"
  },
  "language_info": {
   "codemirror_mode": {
    "name": "ipython",
    "version": 3
   },
   "file_extension": ".py",
   "mimetype": "text/x-python",
   "name": "python",
   "nbconvert_exporter": "python",
   "pygments_lexer": "ipython3",
   "version": "3.10.12"
  },
  "papermill": {
   "duration": 1.66223,
   "end_time": "2023-10-02T12:25:47.223336",
   "exception": null,
   "input_path": "/tmp/tmpr0l3bz7_.ipynb",
   "output_path": "/home/luiscberrocal/PycharmProjects/hacktoberfest-2023/kaggle/products/cleanup.ipynb",
   "parameters": {
    "product": {
     "clean_csv": "/home/luiscberrocal/PycharmProjects/hacktoberfest-2023/kaggle/data/house_prices_clean.csv",
     "nb": "/home/luiscberrocal/PycharmProjects/hacktoberfest-2023/kaggle/products/cleanup.ipynb"
    },
    "upstream": {
     "01-get": {
      "csv_file": "/home/luiscberrocal/PycharmProjects/hacktoberfest-2023/kaggle/data/house_prices.csv",
      "nb": "/home/luiscberrocal/PycharmProjects/hacktoberfest-2023/kaggle/products/extract-pipeline.ipynb"
     }
    }
   },
   "start_time": "2023-10-02T12:25:45.561106"
  }
 },
 "nbformat": 4,
 "nbformat_minor": 5
}