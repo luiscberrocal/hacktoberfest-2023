{
 "cells": [
  {
   "cell_type": "code",
   "execution_count": 1,
   "id": "44816896",
   "metadata": {
    "execution": {
     "iopub.execute_input": "2023-10-01T13:32:54.337724Z",
     "iopub.status.busy": "2023-10-01T13:32:54.337472Z",
     "iopub.status.idle": "2023-10-01T13:32:54.342480Z",
     "shell.execute_reply": "2023-10-01T13:32:54.342059Z"
    },
    "papermill": {
     "duration": 0.008118,
     "end_time": "2023-10-01T13:32:54.343424",
     "exception": false,
     "start_time": "2023-10-01T13:32:54.335306",
     "status": "completed"
    },
    "tags": [
     "parameters"
    ]
   },
   "outputs": [],
   "source": [
    "upstream = ['01-get']\n",
    "product = None"
   ]
  },
  {
   "cell_type": "code",
   "execution_count": 2,
   "id": "ffa88f0d",
   "metadata": {
    "execution": {
     "iopub.execute_input": "2023-10-01T13:32:54.346256Z",
     "iopub.status.busy": "2023-10-01T13:32:54.346050Z",
     "iopub.status.idle": "2023-10-01T13:32:54.348584Z",
     "shell.execute_reply": "2023-10-01T13:32:54.348220Z"
    },
    "papermill": {
     "duration": 0.004921,
     "end_time": "2023-10-01T13:32:54.349492",
     "exception": false,
     "start_time": "2023-10-01T13:32:54.344571",
     "status": "completed"
    },
    "tags": [
     "injected-parameters"
    ]
   },
   "outputs": [],
   "source": [
    "# Parameters\n",
    "upstream = {\"01-get\": {\"nb\": \"/home/luiscberrocal/PycharmProjects/hacktoberfest-2023/kaggle/products/extract-pipeline.ipynb\", \"csv_file\": \"/home/luiscberrocal/PycharmProjects/hacktoberfest-2023/kaggle/data/house_prices.csv\"}}\n",
    "product = {\"nb\": \"/home/luiscberrocal/PycharmProjects/hacktoberfest-2023/kaggle/products/cleanup.ipynb\"}\n"
   ]
  },
  {
   "cell_type": "code",
   "execution_count": 3,
   "id": "6c622c1c",
   "metadata": {
    "execution": {
     "iopub.execute_input": "2023-10-01T13:32:54.353625Z",
     "iopub.status.busy": "2023-10-01T13:32:54.353381Z",
     "iopub.status.idle": "2023-10-01T13:32:55.256919Z",
     "shell.execute_reply": "2023-10-01T13:32:55.256428Z"
    },
    "lines_to_next_cell": 2,
    "papermill": {
     "duration": 0.906742,
     "end_time": "2023-10-01T13:32:55.258225",
     "exception": false,
     "start_time": "2023-10-01T13:32:54.351483",
     "status": "completed"
    },
    "tags": []
   },
   "outputs": [],
   "source": [
    "import sys\n",
    "import os\n",
    "import pandas as pd\n",
    "import seaborn as sns\n",
    "from pathlib import Path\n",
    "import numpy as np\n",
    "import matplotlib.pyplot as plt"
   ]
  },
  {
   "cell_type": "code",
   "execution_count": 4,
   "id": "7fdb3117",
   "metadata": {
    "execution": {
     "iopub.execute_input": "2023-10-01T13:32:55.262325Z",
     "iopub.status.busy": "2023-10-01T13:32:55.261982Z",
     "iopub.status.idle": "2023-10-01T13:32:55.300732Z",
     "shell.execute_reply": "2023-10-01T13:32:55.299880Z"
    },
    "papermill": {
     "duration": 0.04218,
     "end_time": "2023-10-01T13:32:55.302210",
     "exception": false,
     "start_time": "2023-10-01T13:32:55.260030",
     "status": "completed"
    },
    "tags": []
   },
   "outputs": [],
   "source": [
    "df = pd.read_csv(upstream['01-get']['csv_file'])"
   ]
  },
  {
   "cell_type": "code",
   "execution_count": 5,
   "id": "c7efe69b",
   "metadata": {
    "execution": {
     "iopub.execute_input": "2023-10-01T13:32:55.305719Z",
     "iopub.status.busy": "2023-10-01T13:32:55.305442Z",
     "iopub.status.idle": "2023-10-01T13:32:55.316801Z",
     "shell.execute_reply": "2023-10-01T13:32:55.316298Z"
    },
    "papermill": {
     "duration": 0.014414,
     "end_time": "2023-10-01T13:32:55.317867",
     "exception": false,
     "start_time": "2023-10-01T13:32:55.303453",
     "status": "completed"
    },
    "tags": []
   },
   "outputs": [
    {
     "name": "stdout",
     "output_type": "stream",
     "text": [
      "<class 'pandas.core.frame.DataFrame'>\n",
      "RangeIndex: 29451 entries, 0 to 29450\n",
      "Data columns (total 13 columns):\n",
      " #   Column                 Non-Null Count  Dtype  \n",
      "---  ------                 --------------  -----  \n",
      " 0   Unnamed: 0             29451 non-null  int64  \n",
      " 1   POSTED_BY              29451 non-null  object \n",
      " 2   UNDER_CONSTRUCTION     29451 non-null  int64  \n",
      " 3   RERA                   29451 non-null  int64  \n",
      " 4   BHK_NO.                29451 non-null  int64  \n",
      " 5   BHK_OR_RK              29451 non-null  object \n",
      " 6   SQUARE_FT              29451 non-null  float64\n",
      " 7   READY_TO_MOVE          29451 non-null  int64  \n",
      " 8   RESALE                 29451 non-null  int64  \n",
      " 9   ADDRESS                29451 non-null  object \n",
      " 10  LONGITUDE              29451 non-null  float64\n",
      " 11  LATITUDE               29451 non-null  float64\n",
      " 12  TARGET(PRICE_IN_LACS)  29451 non-null  float64\n",
      "dtypes: float64(4), int64(6), object(3)\n",
      "memory usage: 2.9+ MB\n"
     ]
    }
   ],
   "source": [
    "df.info()"
   ]
  },
  {
   "cell_type": "code",
   "execution_count": 6,
   "id": "19d2fd86",
   "metadata": {
    "execution": {
     "iopub.execute_input": "2023-10-01T13:32:55.321508Z",
     "iopub.status.busy": "2023-10-01T13:32:55.321191Z",
     "iopub.status.idle": "2023-10-01T13:32:55.331888Z",
     "shell.execute_reply": "2023-10-01T13:32:55.331444Z"
    },
    "papermill": {
     "duration": 0.01437,
     "end_time": "2023-10-01T13:32:55.333550",
     "exception": false,
     "start_time": "2023-10-01T13:32:55.319180",
     "status": "completed"
    },
    "tags": []
   },
   "outputs": [
    {
     "data": {
      "text/plain": [
       "Unnamed: 0               0\n",
       "POSTED_BY                0\n",
       "UNDER_CONSTRUCTION       0\n",
       "RERA                     0\n",
       "BHK_NO.                  0\n",
       "BHK_OR_RK                0\n",
       "SQUARE_FT                0\n",
       "READY_TO_MOVE            0\n",
       "RESALE                   0\n",
       "ADDRESS                  0\n",
       "LONGITUDE                0\n",
       "LATITUDE                 0\n",
       "TARGET(PRICE_IN_LACS)    0\n",
       "dtype: int64"
      ]
     },
     "execution_count": 6,
     "metadata": {},
     "output_type": "execute_result"
    }
   ],
   "source": [
    "df.isna().sum()"
   ]
  }
 ],
 "metadata": {
  "jupytext": {
   "cell_metadata_filter": "tags,-all",
   "main_language": "python",
   "notebook_metadata_filter": "-all",
   "text_representation": {
    "extension": ".py",
    "format_name": "percent"
   }
  },
  "kernelspec": {
   "display_name": "Python 3 (ipykernel)",
   "language": "python",
   "name": "python3"
  },
  "language_info": {
   "codemirror_mode": {
    "name": "ipython",
    "version": 3
   },
   "file_extension": ".py",
   "mimetype": "text/x-python",
   "name": "python",
   "nbconvert_exporter": "python",
   "pygments_lexer": "ipython3",
   "version": "3.10.12"
  },
  "papermill": {
   "duration": 2.191745,
   "end_time": "2023-10-01T13:32:55.652653",
   "exception": null,
   "input_path": "/tmp/tmpk4w0vvir.ipynb",
   "output_path": "/home/luiscberrocal/PycharmProjects/hacktoberfest-2023/kaggle/products/cleanup.ipynb",
   "parameters": {
    "product": {
     "nb": "/home/luiscberrocal/PycharmProjects/hacktoberfest-2023/kaggle/products/cleanup.ipynb"
    },
    "upstream": {
     "01-get": {
      "csv_file": "/home/luiscberrocal/PycharmProjects/hacktoberfest-2023/kaggle/data/house_prices.csv",
      "nb": "/home/luiscberrocal/PycharmProjects/hacktoberfest-2023/kaggle/products/extract-pipeline.ipynb"
     }
    }
   },
   "start_time": "2023-10-01T13:32:53.460908"
  }
 },
 "nbformat": 4,
 "nbformat_minor": 5
}