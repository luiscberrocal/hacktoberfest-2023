{
 "cells": [
  {
   "cell_type": "code",
   "execution_count": 1,
   "id": "349bb974",
   "metadata": {
    "execution": {
     "iopub.execute_input": "2023-10-04T15:06:07.639726Z",
     "iopub.status.busy": "2023-10-04T15:06:07.639017Z",
     "iopub.status.idle": "2023-10-04T15:06:07.650202Z",
     "shell.execute_reply": "2023-10-04T15:06:07.649369Z"
    },
    "papermill": {
     "duration": 0.025144,
     "end_time": "2023-10-04T15:06:07.652079",
     "exception": false,
     "start_time": "2023-10-04T15:06:07.626935",
     "status": "completed"
    },
    "tags": [
     "parameters"
    ]
   },
   "outputs": [],
   "source": [
    "upstream = ['01-get']\n",
    "product = None"
   ]
  },
  {
   "cell_type": "code",
   "execution_count": 2,
   "id": "f2cf18eb",
   "metadata": {
    "execution": {
     "iopub.execute_input": "2023-10-04T15:06:07.662571Z",
     "iopub.status.busy": "2023-10-04T15:06:07.662250Z",
     "iopub.status.idle": "2023-10-04T15:06:07.666697Z",
     "shell.execute_reply": "2023-10-04T15:06:07.665931Z"
    },
    "papermill": {
     "duration": 0.012682,
     "end_time": "2023-10-04T15:06:07.668723",
     "exception": false,
     "start_time": "2023-10-04T15:06:07.656041",
     "status": "completed"
    },
    "tags": [
     "injected-parameters"
    ]
   },
   "outputs": [],
   "source": [
    "# Parameters\n",
    "upstream = {\"01-get\": {\"nb\": \"/home/luiscberrocal/PycharmProjects/hacktoberfest-2023/kaggle/products/extract-pipeline.ipynb\", \"csv_file\": \"/home/luiscberrocal/PycharmProjects/hacktoberfest-2023/kaggle/data/house_prices.csv\"}}\n",
    "product = {\"nb\": \"/home/luiscberrocal/PycharmProjects/hacktoberfest-2023/kaggle/products/cleanup.ipynb\", \"clean_csv\": \"/home/luiscberrocal/PycharmProjects/hacktoberfest-2023/kaggle/data/house_prices_clean.csv\"}\n"
   ]
  },
  {
   "cell_type": "code",
   "execution_count": 3,
   "id": "177684b9",
   "metadata": {
    "execution": {
     "iopub.execute_input": "2023-10-04T15:06:07.677889Z",
     "iopub.status.busy": "2023-10-04T15:06:07.677589Z",
     "iopub.status.idle": "2023-10-04T15:06:07.682232Z",
     "shell.execute_reply": "2023-10-04T15:06:07.681018Z"
    },
    "papermill": {
     "duration": 0.011207,
     "end_time": "2023-10-04T15:06:07.683916",
     "exception": false,
     "start_time": "2023-10-04T15:06:07.672709",
     "status": "completed"
    },
    "tags": []
   },
   "outputs": [],
   "source": [
    "import warnings\n",
    "warnings.filterwarnings('ignore')"
   ]
  },
  {
   "cell_type": "code",
   "execution_count": 4,
   "id": "0fb93551",
   "metadata": {
    "execution": {
     "iopub.execute_input": "2023-10-04T15:06:07.799496Z",
     "iopub.status.busy": "2023-10-04T15:06:07.798786Z",
     "iopub.status.idle": "2023-10-04T15:06:08.075618Z",
     "shell.execute_reply": "2023-10-04T15:06:08.075062Z"
    },
    "papermill": {
     "duration": 0.390454,
     "end_time": "2023-10-04T15:06:08.076817",
     "exception": false,
     "start_time": "2023-10-04T15:06:07.686363",
     "status": "completed"
    },
    "tags": []
   },
   "outputs": [],
   "source": [
    "import re\n",
    "import pandas as pd"
   ]
  },
  {
   "cell_type": "code",
   "execution_count": 5,
   "id": "f0e3715b",
   "metadata": {
    "execution": {
     "iopub.execute_input": "2023-10-04T15:06:08.088558Z",
     "iopub.status.busy": "2023-10-04T15:06:08.088069Z",
     "iopub.status.idle": "2023-10-04T15:06:08.119883Z",
     "shell.execute_reply": "2023-10-04T15:06:08.119382Z"
    },
    "papermill": {
     "duration": 0.04193,
     "end_time": "2023-10-04T15:06:08.121046",
     "exception": false,
     "start_time": "2023-10-04T15:06:08.079116",
     "status": "completed"
    },
    "tags": []
   },
   "outputs": [],
   "source": [
    "df = pd.read_csv(upstream['01-get']['csv_file'])"
   ]
  },
  {
   "cell_type": "code",
   "execution_count": 6,
   "id": "817b969a",
   "metadata": {
    "execution": {
     "iopub.execute_input": "2023-10-04T15:06:08.125815Z",
     "iopub.status.busy": "2023-10-04T15:06:08.125662Z",
     "iopub.status.idle": "2023-10-04T15:06:08.137903Z",
     "shell.execute_reply": "2023-10-04T15:06:08.137591Z"
    },
    "papermill": {
     "duration": 0.01576,
     "end_time": "2023-10-04T15:06:08.138902",
     "exception": false,
     "start_time": "2023-10-04T15:06:08.123142",
     "status": "completed"
    },
    "tags": []
   },
   "outputs": [
    {
     "name": "stdout",
     "output_type": "stream",
     "text": [
      "<class 'pandas.core.frame.DataFrame'>\n",
      "RangeIndex: 29451 entries, 0 to 29450\n",
      "Data columns (total 12 columns):\n",
      " #   Column                 Non-Null Count  Dtype  \n",
      "---  ------                 --------------  -----  \n",
      " 0   POSTED_BY              29451 non-null  object \n",
      " 1   UNDER_CONSTRUCTION     29451 non-null  int64  \n",
      " 2   RERA                   29451 non-null  int64  \n",
      " 3   BHK_NO.                29451 non-null  int64  \n",
      " 4   BHK_OR_RK              29451 non-null  object \n",
      " 5   SQUARE_FT              29451 non-null  float64\n",
      " 6   READY_TO_MOVE          29451 non-null  int64  \n",
      " 7   RESALE                 29451 non-null  int64  \n",
      " 8   ADDRESS                29451 non-null  object \n",
      " 9   LONGITUDE              29451 non-null  float64\n",
      " 10  LATITUDE               29451 non-null  float64\n",
      " 11  TARGET(PRICE_IN_LACS)  29451 non-null  float64\n",
      "dtypes: float64(4), int64(5), object(3)\n",
      "memory usage: 2.7+ MB\n"
     ]
    }
   ],
   "source": [
    "df.info()"
   ]
  },
  {
   "cell_type": "code",
   "execution_count": 7,
   "id": "6e5ba3e4",
   "metadata": {
    "execution": {
     "iopub.execute_input": "2023-10-04T15:06:08.143716Z",
     "iopub.status.busy": "2023-10-04T15:06:08.143115Z",
     "iopub.status.idle": "2023-10-04T15:06:08.150554Z",
     "shell.execute_reply": "2023-10-04T15:06:08.150206Z"
    },
    "papermill": {
     "duration": 0.010827,
     "end_time": "2023-10-04T15:06:08.151561",
     "exception": false,
     "start_time": "2023-10-04T15:06:08.140734",
     "status": "completed"
    },
    "tags": []
   },
   "outputs": [
    {
     "data": {
      "text/plain": [
       "POSTED_BY                0\n",
       "UNDER_CONSTRUCTION       0\n",
       "RERA                     0\n",
       "BHK_NO.                  0\n",
       "BHK_OR_RK                0\n",
       "SQUARE_FT                0\n",
       "READY_TO_MOVE            0\n",
       "RESALE                   0\n",
       "ADDRESS                  0\n",
       "LONGITUDE                0\n",
       "LATITUDE                 0\n",
       "TARGET(PRICE_IN_LACS)    0\n",
       "dtype: int64"
      ]
     },
     "execution_count": 7,
     "metadata": {},
     "output_type": "execute_result"
    }
   ],
   "source": [
    "df.isna().sum()"
   ]
  },
  {
   "cell_type": "code",
   "execution_count": 8,
   "id": "218d051c",
   "metadata": {
    "execution": {
     "iopub.execute_input": "2023-10-04T15:06:08.156513Z",
     "iopub.status.busy": "2023-10-04T15:06:08.156367Z",
     "iopub.status.idle": "2023-10-04T15:06:08.159905Z",
     "shell.execute_reply": "2023-10-04T15:06:08.159511Z"
    },
    "papermill": {
     "duration": 0.007188,
     "end_time": "2023-10-04T15:06:08.160891",
     "exception": false,
     "start_time": "2023-10-04T15:06:08.153703",
     "status": "completed"
    },
    "tags": []
   },
   "outputs": [],
   "source": [
    "# Rename columns to snake case\n",
    "renamed_mapping = {}\n",
    "for c in df.columns:\n",
    "    new_c_name = re.sub('[^0-9a-zA-Z_]+', '', c)\n",
    "    renamed_mapping[c] = new_c_name.lower()  # .replace(' ', '_').replace('(', '').replace(')', '')\n",
    "renamed_mapping['targetprice_in_lacs'] = 'target_price_in_lacs'\n",
    "\n",
    "df = df.rename(columns=renamed_mapping)"
   ]
  },
  {
   "cell_type": "code",
   "execution_count": 9,
   "id": "ad6955ed",
   "metadata": {
    "execution": {
     "iopub.execute_input": "2023-10-04T15:06:08.165864Z",
     "iopub.status.busy": "2023-10-04T15:06:08.165648Z",
     "iopub.status.idle": "2023-10-04T15:06:08.168659Z",
     "shell.execute_reply": "2023-10-04T15:06:08.168317Z"
    },
    "papermill": {
     "duration": 0.006598,
     "end_time": "2023-10-04T15:06:08.169662",
     "exception": false,
     "start_time": "2023-10-04T15:06:08.163064",
     "status": "completed"
    },
    "tags": []
   },
   "outputs": [],
   "source": [
    "# Convert price to dolllars 1 lac == 1,397\n",
    "df['price'] = df['targetprice_in_lacs'] * 1_397\n",
    "\n",
    "# Convert square_ft to square meters\n",
    "df['area_m2'] = df['square_ft'] * 0.092903"
   ]
  },
  {
   "cell_type": "code",
   "execution_count": 10,
   "id": "b5a504d2",
   "metadata": {
    "execution": {
     "iopub.execute_input": "2023-10-04T15:06:08.174656Z",
     "iopub.status.busy": "2023-10-04T15:06:08.174507Z",
     "iopub.status.idle": "2023-10-04T15:06:08.183027Z",
     "shell.execute_reply": "2023-10-04T15:06:08.182548Z"
    },
    "lines_to_next_cell": 0,
    "papermill": {
     "duration": 0.012197,
     "end_time": "2023-10-04T15:06:08.184048",
     "exception": false,
     "start_time": "2023-10-04T15:06:08.171851",
     "status": "completed"
    },
    "tags": []
   },
   "outputs": [
    {
     "name": "stdout",
     "output_type": "stream",
     "text": [
      "<class 'pandas.core.frame.DataFrame'>\n",
      "RangeIndex: 29451 entries, 0 to 29450\n",
      "Data columns (total 12 columns):\n",
      " #   Column              Non-Null Count  Dtype  \n",
      "---  ------              --------------  -----  \n",
      " 0   posted_by           29451 non-null  object \n",
      " 1   under_construction  29451 non-null  int64  \n",
      " 2   rera                29451 non-null  int64  \n",
      " 3   bhk_no              29451 non-null  int64  \n",
      " 4   bhk_or_rk           29451 non-null  object \n",
      " 5   ready_to_move       29451 non-null  int64  \n",
      " 6   resale              29451 non-null  int64  \n",
      " 7   address             29451 non-null  object \n",
      " 8   longitude           29451 non-null  float64\n",
      " 9   latitude            29451 non-null  float64\n",
      " 10  price               29451 non-null  float64\n",
      " 11  area_m2             29451 non-null  float64\n",
      "dtypes: float64(4), int64(5), object(3)\n",
      "memory usage: 2.7+ MB\n"
     ]
    }
   ],
   "source": [
    "df = df.drop(columns=['square_ft', 'targetprice_in_lacs'])\n",
    "\n",
    "df.info()"
   ]
  },
  {
   "cell_type": "code",
   "execution_count": 11,
   "id": "af28acbd",
   "metadata": {
    "execution": {
     "iopub.execute_input": "2023-10-04T15:06:08.189320Z",
     "iopub.status.busy": "2023-10-04T15:06:08.189175Z",
     "iopub.status.idle": "2023-10-04T15:06:08.191794Z",
     "shell.execute_reply": "2023-10-04T15:06:08.191428Z"
    },
    "lines_to_next_cell": 1,
    "papermill": {
     "duration": 0.006314,
     "end_time": "2023-10-04T15:06:08.192769",
     "exception": false,
     "start_time": "2023-10-04T15:06:08.186455",
     "status": "completed"
    },
    "tags": []
   },
   "outputs": [],
   "source": [
    "# Extracting cities from address\n",
    "def get_city(value):\n",
    "    parts = value.split(',')\n",
    "    return parts[-1:][0]\n",
    "\n",
    "# Too many cities, heatmap not working.\n",
    "# df['city'] = df['address'].apply(get_city)\n",
    "\n",
    "# df['city'].value_counts()"
   ]
  },
  {
   "cell_type": "code",
   "execution_count": 12,
   "id": "021625a0",
   "metadata": {
    "execution": {
     "iopub.execute_input": "2023-10-04T15:06:08.198013Z",
     "iopub.status.busy": "2023-10-04T15:06:08.197863Z",
     "iopub.status.idle": "2023-10-04T15:06:08.201533Z",
     "shell.execute_reply": "2023-10-04T15:06:08.201016Z"
    },
    "papermill": {
     "duration": 0.007529,
     "end_time": "2023-10-04T15:06:08.202595",
     "exception": false,
     "start_time": "2023-10-04T15:06:08.195066",
     "status": "completed"
    },
    "tags": []
   },
   "outputs": [],
   "source": [
    "df = df.drop(columns=['address'])"
   ]
  },
  {
   "cell_type": "code",
   "execution_count": 13,
   "id": "2ef0a49c",
   "metadata": {
    "execution": {
     "iopub.execute_input": "2023-10-04T15:06:08.207845Z",
     "iopub.status.busy": "2023-10-04T15:06:08.207702Z",
     "iopub.status.idle": "2023-10-04T15:06:08.211900Z",
     "shell.execute_reply": "2023-10-04T15:06:08.211565Z"
    },
    "papermill": {
     "duration": 0.00799,
     "end_time": "2023-10-04T15:06:08.212890",
     "exception": false,
     "start_time": "2023-10-04T15:06:08.204900",
     "status": "completed"
    },
    "tags": []
   },
   "outputs": [
    {
     "data": {
      "text/plain": [
       "posted_by\n",
       "Dealer     18291\n",
       "Owner      10538\n",
       "Builder      622\n",
       "Name: count, dtype: int64"
      ]
     },
     "execution_count": 13,
     "metadata": {},
     "output_type": "execute_result"
    }
   ],
   "source": [
    "df['posted_by'].value_counts()"
   ]
  },
  {
   "cell_type": "code",
   "execution_count": 14,
   "id": "aecdb0bd",
   "metadata": {
    "execution": {
     "iopub.execute_input": "2023-10-04T15:06:08.218239Z",
     "iopub.status.busy": "2023-10-04T15:06:08.218097Z",
     "iopub.status.idle": "2023-10-04T15:06:08.222327Z",
     "shell.execute_reply": "2023-10-04T15:06:08.221981Z"
    },
    "papermill": {
     "duration": 0.008073,
     "end_time": "2023-10-04T15:06:08.223349",
     "exception": false,
     "start_time": "2023-10-04T15:06:08.215276",
     "status": "completed"
    },
    "tags": []
   },
   "outputs": [
    {
     "data": {
      "text/plain": [
       "bhk_or_rk\n",
       "BHK    29427\n",
       "RK        24\n",
       "Name: count, dtype: int64"
      ]
     },
     "execution_count": 14,
     "metadata": {},
     "output_type": "execute_result"
    }
   ],
   "source": [
    "df['bhk_or_rk'].value_counts()"
   ]
  },
  {
   "cell_type": "code",
   "execution_count": 15,
   "id": "86f45a07",
   "metadata": {
    "execution": {
     "iopub.execute_input": "2023-10-04T15:06:08.228871Z",
     "iopub.status.busy": "2023-10-04T15:06:08.228728Z",
     "iopub.status.idle": "2023-10-04T15:06:08.235886Z",
     "shell.execute_reply": "2023-10-04T15:06:08.235512Z"
    },
    "papermill": {
     "duration": 0.011102,
     "end_time": "2023-10-04T15:06:08.236906",
     "exception": false,
     "start_time": "2023-10-04T15:06:08.225804",
     "status": "completed"
    },
    "tags": []
   },
   "outputs": [],
   "source": [
    "# df = pd.get_dummies(df, columns=['posted_by', 'bhk_or_rk', 'city'])\n",
    "df = pd.get_dummies(df, columns=['posted_by', 'bhk_or_rk'])"
   ]
  },
  {
   "cell_type": "code",
   "execution_count": 16,
   "id": "11a7ef65",
   "metadata": {
    "execution": {
     "iopub.execute_input": "2023-10-04T15:06:08.242649Z",
     "iopub.status.busy": "2023-10-04T15:06:08.242464Z",
     "iopub.status.idle": "2023-10-04T15:06:08.253412Z",
     "shell.execute_reply": "2023-10-04T15:06:08.252979Z"
    },
    "papermill": {
     "duration": 0.014849,
     "end_time": "2023-10-04T15:06:08.254367",
     "exception": false,
     "start_time": "2023-10-04T15:06:08.239518",
     "status": "completed"
    },
    "tags": []
   },
   "outputs": [
    {
     "data": {
      "text/html": [
       "<div>\n",
       "<style scoped>\n",
       "    .dataframe tbody tr th:only-of-type {\n",
       "        vertical-align: middle;\n",
       "    }\n",
       "\n",
       "    .dataframe tbody tr th {\n",
       "        vertical-align: top;\n",
       "    }\n",
       "\n",
       "    .dataframe thead th {\n",
       "        text-align: right;\n",
       "    }\n",
       "</style>\n",
       "<table border=\"1\" class=\"dataframe\">\n",
       "  <thead>\n",
       "    <tr style=\"text-align: right;\">\n",
       "      <th></th>\n",
       "      <th>under_construction</th>\n",
       "      <th>rera</th>\n",
       "      <th>bhk_no</th>\n",
       "      <th>ready_to_move</th>\n",
       "      <th>resale</th>\n",
       "      <th>longitude</th>\n",
       "      <th>latitude</th>\n",
       "      <th>price</th>\n",
       "      <th>area_m2</th>\n",
       "      <th>posted_by_Builder</th>\n",
       "      <th>posted_by_Dealer</th>\n",
       "      <th>posted_by_Owner</th>\n",
       "      <th>bhk_or_rk_BHK</th>\n",
       "      <th>bhk_or_rk_RK</th>\n",
       "    </tr>\n",
       "  </thead>\n",
       "  <tbody>\n",
       "    <tr>\n",
       "      <th>0</th>\n",
       "      <td>0</td>\n",
       "      <td>0</td>\n",
       "      <td>2</td>\n",
       "      <td>1</td>\n",
       "      <td>1</td>\n",
       "      <td>12.969910</td>\n",
       "      <td>77.597960</td>\n",
       "      <td>76835.0</td>\n",
       "      <td>120.795863</td>\n",
       "      <td>False</td>\n",
       "      <td>False</td>\n",
       "      <td>True</td>\n",
       "      <td>True</td>\n",
       "      <td>False</td>\n",
       "    </tr>\n",
       "    <tr>\n",
       "      <th>1</th>\n",
       "      <td>0</td>\n",
       "      <td>0</td>\n",
       "      <td>2</td>\n",
       "      <td>1</td>\n",
       "      <td>1</td>\n",
       "      <td>12.274538</td>\n",
       "      <td>76.644605</td>\n",
       "      <td>71247.0</td>\n",
       "      <td>118.451325</td>\n",
       "      <td>False</td>\n",
       "      <td>True</td>\n",
       "      <td>False</td>\n",
       "      <td>True</td>\n",
       "      <td>False</td>\n",
       "    </tr>\n",
       "    <tr>\n",
       "      <th>2</th>\n",
       "      <td>0</td>\n",
       "      <td>0</td>\n",
       "      <td>2</td>\n",
       "      <td>1</td>\n",
       "      <td>1</td>\n",
       "      <td>12.778033</td>\n",
       "      <td>77.632191</td>\n",
       "      <td>60071.0</td>\n",
       "      <td>86.693338</td>\n",
       "      <td>False</td>\n",
       "      <td>False</td>\n",
       "      <td>True</td>\n",
       "      <td>True</td>\n",
       "      <td>False</td>\n",
       "    </tr>\n",
       "    <tr>\n",
       "      <th>3</th>\n",
       "      <td>0</td>\n",
       "      <td>1</td>\n",
       "      <td>2</td>\n",
       "      <td>1</td>\n",
       "      <td>1</td>\n",
       "      <td>28.642300</td>\n",
       "      <td>77.344500</td>\n",
       "      <td>87312.5</td>\n",
       "      <td>86.392464</td>\n",
       "      <td>False</td>\n",
       "      <td>False</td>\n",
       "      <td>True</td>\n",
       "      <td>True</td>\n",
       "      <td>False</td>\n",
       "    </tr>\n",
       "    <tr>\n",
       "      <th>4</th>\n",
       "      <td>1</td>\n",
       "      <td>0</td>\n",
       "      <td>2</td>\n",
       "      <td>0</td>\n",
       "      <td>1</td>\n",
       "      <td>22.592200</td>\n",
       "      <td>88.484911</td>\n",
       "      <td>84518.5</td>\n",
       "      <td>92.810956</td>\n",
       "      <td>False</td>\n",
       "      <td>True</td>\n",
       "      <td>False</td>\n",
       "      <td>True</td>\n",
       "      <td>False</td>\n",
       "    </tr>\n",
       "  </tbody>\n",
       "</table>\n",
       "</div>"
      ],
      "text/plain": [
       "   under_construction  rera  bhk_no  ready_to_move  resale  longitude  \\\n",
       "0                   0     0       2              1       1  12.969910   \n",
       "1                   0     0       2              1       1  12.274538   \n",
       "2                   0     0       2              1       1  12.778033   \n",
       "3                   0     1       2              1       1  28.642300   \n",
       "4                   1     0       2              0       1  22.592200   \n",
       "\n",
       "    latitude    price     area_m2  posted_by_Builder  posted_by_Dealer  \\\n",
       "0  77.597960  76835.0  120.795863              False             False   \n",
       "1  76.644605  71247.0  118.451325              False              True   \n",
       "2  77.632191  60071.0   86.693338              False             False   \n",
       "3  77.344500  87312.5   86.392464              False             False   \n",
       "4  88.484911  84518.5   92.810956              False              True   \n",
       "\n",
       "   posted_by_Owner  bhk_or_rk_BHK  bhk_or_rk_RK  \n",
       "0             True           True         False  \n",
       "1            False           True         False  \n",
       "2             True           True         False  \n",
       "3             True           True         False  \n",
       "4            False           True         False  "
      ]
     },
     "execution_count": 16,
     "metadata": {},
     "output_type": "execute_result"
    }
   ],
   "source": [
    "df.head()"
   ]
  },
  {
   "cell_type": "code",
   "execution_count": 17,
   "id": "c723b63d",
   "metadata": {
    "execution": {
     "iopub.execute_input": "2023-10-04T15:06:08.260127Z",
     "iopub.status.busy": "2023-10-04T15:06:08.259976Z",
     "iopub.status.idle": "2023-10-04T15:06:08.265783Z",
     "shell.execute_reply": "2023-10-04T15:06:08.265416Z"
    },
    "papermill": {
     "duration": 0.009866,
     "end_time": "2023-10-04T15:06:08.266804",
     "exception": false,
     "start_time": "2023-10-04T15:06:08.256938",
     "status": "completed"
    },
    "tags": []
   },
   "outputs": [
    {
     "name": "stdout",
     "output_type": "stream",
     "text": [
      "<class 'pandas.core.frame.DataFrame'>\n",
      "RangeIndex: 29451 entries, 0 to 29450\n",
      "Data columns (total 14 columns):\n",
      " #   Column              Non-Null Count  Dtype  \n",
      "---  ------              --------------  -----  \n",
      " 0   under_construction  29451 non-null  int64  \n",
      " 1   rera                29451 non-null  int64  \n",
      " 2   bhk_no              29451 non-null  int64  \n",
      " 3   ready_to_move       29451 non-null  int64  \n",
      " 4   resale              29451 non-null  int64  \n",
      " 5   longitude           29451 non-null  float64\n",
      " 6   latitude            29451 non-null  float64\n",
      " 7   price               29451 non-null  float64\n",
      " 8   area_m2             29451 non-null  float64\n",
      " 9   posted_by_Builder   29451 non-null  bool   \n",
      " 10  posted_by_Dealer    29451 non-null  bool   \n",
      " 11  posted_by_Owner     29451 non-null  bool   \n",
      " 12  bhk_or_rk_BHK       29451 non-null  bool   \n",
      " 13  bhk_or_rk_RK        29451 non-null  bool   \n",
      "dtypes: bool(5), float64(4), int64(5)\n",
      "memory usage: 2.2 MB\n"
     ]
    }
   ],
   "source": [
    "df.info()"
   ]
  },
  {
   "cell_type": "code",
   "execution_count": 18,
   "id": "c35bf5a1",
   "metadata": {
    "execution": {
     "iopub.execute_input": "2023-10-04T15:06:08.273159Z",
     "iopub.status.busy": "2023-10-04T15:06:08.273006Z",
     "iopub.status.idle": "2023-10-04T15:06:08.280289Z",
     "shell.execute_reply": "2023-10-04T15:06:08.279864Z"
    },
    "papermill": {
     "duration": 0.011646,
     "end_time": "2023-10-04T15:06:08.281329",
     "exception": false,
     "start_time": "2023-10-04T15:06:08.269683",
     "status": "completed"
    },
    "tags": []
   },
   "outputs": [
    {
     "name": "stdout",
     "output_type": "stream",
     "text": [
      "posted_by_Builder bool\n",
      "posted_by_Dealer bool\n",
      "posted_by_Owner bool\n",
      "bhk_or_rk_BHK bool\n",
      "bhk_or_rk_RK bool\n",
      "<class 'pandas.core.frame.DataFrame'>\n",
      "RangeIndex: 29451 entries, 0 to 29450\n",
      "Data columns (total 14 columns):\n",
      " #   Column              Non-Null Count  Dtype  \n",
      "---  ------              --------------  -----  \n",
      " 0   under_construction  29451 non-null  int64  \n",
      " 1   rera                29451 non-null  int64  \n",
      " 2   bhk_no              29451 non-null  int64  \n",
      " 3   ready_to_move       29451 non-null  int64  \n",
      " 4   resale              29451 non-null  int64  \n",
      " 5   longitude           29451 non-null  float64\n",
      " 6   latitude            29451 non-null  float64\n",
      " 7   price               29451 non-null  float64\n",
      " 8   area_m2             29451 non-null  float64\n",
      " 9   posted_by_Builder   29451 non-null  int64  \n",
      " 10  posted_by_Dealer    29451 non-null  int64  \n",
      " 11  posted_by_Owner     29451 non-null  int64  \n",
      " 12  bhk_or_rk_BHK       29451 non-null  int64  \n",
      " 13  bhk_or_rk_RK        29451 non-null  int64  \n",
      "dtypes: float64(4), int64(10)\n",
      "memory usage: 3.1 MB\n"
     ]
    }
   ],
   "source": [
    "for c in df.columns:\n",
    "    if df[c].dtype == bool:\n",
    "        print(f'{c} {df[c].dtype}')\n",
    "        df[c] = df[c].astype(int)\n",
    "\n",
    "df.info()"
   ]
  },
  {
   "cell_type": "code",
   "execution_count": 19,
   "id": "e95fc71a",
   "metadata": {
    "execution": {
     "iopub.execute_input": "2023-10-04T15:06:08.287736Z",
     "iopub.status.busy": "2023-10-04T15:06:08.287591Z",
     "iopub.status.idle": "2023-10-04T15:06:08.289867Z",
     "shell.execute_reply": "2023-10-04T15:06:08.289388Z"
    },
    "lines_to_next_cell": 0,
    "papermill": {
     "duration": 0.006721,
     "end_time": "2023-10-04T15:06:08.290910",
     "exception": false,
     "start_time": "2023-10-04T15:06:08.284189",
     "status": "completed"
    },
    "tags": []
   },
   "outputs": [],
   "source": [
    "# 1. hot shoe encoding\n",
    "# 2. Drop encoded columns\n",
    "# 3. Extract city\n",
    "# 4."
   ]
  },
  {
   "cell_type": "code",
   "execution_count": 20,
   "id": "6ab31a56",
   "metadata": {
    "execution": {
     "iopub.execute_input": "2023-10-04T15:06:08.297508Z",
     "iopub.status.busy": "2023-10-04T15:06:08.297355Z",
     "iopub.status.idle": "2023-10-04T15:06:08.396243Z",
     "shell.execute_reply": "2023-10-04T15:06:08.395723Z"
    },
    "papermill": {
     "duration": 0.10356,
     "end_time": "2023-10-04T15:06:08.397437",
     "exception": false,
     "start_time": "2023-10-04T15:06:08.293877",
     "status": "completed"
    },
    "tags": []
   },
   "outputs": [],
   "source": [
    "\n",
    "df.to_csv(product['clean_csv'], index=False)"
   ]
  }
 ],
 "metadata": {
  "jupytext": {
   "cell_metadata_filter": "tags,-all",
   "main_language": "python",
   "notebook_metadata_filter": "-all",
   "text_representation": {
    "extension": ".py",
    "format_name": "percent"
   }
  },
  "kernelspec": {
   "display_name": "Python 3 (ipykernel)",
   "language": "python",
   "name": "python3"
  },
  "language_info": {
   "codemirror_mode": {
    "name": "ipython",
    "version": 3
   },
   "file_extension": ".py",
   "mimetype": "text/x-python",
   "name": "python",
   "nbconvert_exporter": "python",
   "pygments_lexer": "ipython3",
   "version": "3.10.12"
  },
  "papermill": {
   "duration": 1.746386,
   "end_time": "2023-10-04T15:06:08.620739",
   "exception": null,
   "input_path": "/tmp/tmpvlnrwce4.ipynb",
   "output_path": "/home/luiscberrocal/PycharmProjects/hacktoberfest-2023/kaggle/products/cleanup.ipynb",
   "parameters": {
    "product": {
     "clean_csv": "/home/luiscberrocal/PycharmProjects/hacktoberfest-2023/kaggle/data/house_prices_clean.csv",
     "nb": "/home/luiscberrocal/PycharmProjects/hacktoberfest-2023/kaggle/products/cleanup.ipynb"
    },
    "upstream": {
     "01-get": {
      "csv_file": "/home/luiscberrocal/PycharmProjects/hacktoberfest-2023/kaggle/data/house_prices.csv",
      "nb": "/home/luiscberrocal/PycharmProjects/hacktoberfest-2023/kaggle/products/extract-pipeline.ipynb"
     }
    }
   },
   "start_time": "2023-10-04T15:06:06.874353"
  }
 },
 "nbformat": 4,
 "nbformat_minor": 5
}