{
 "cells": [
  {
   "cell_type": "code",
   "execution_count": 1,
   "id": "bf9238ba",
   "metadata": {
    "execution": {
     "iopub.execute_input": "2023-10-03T12:26:57.896278Z",
     "iopub.status.busy": "2023-10-03T12:26:57.895762Z",
     "iopub.status.idle": "2023-10-03T12:26:57.903837Z",
     "shell.execute_reply": "2023-10-03T12:26:57.903317Z"
    },
    "papermill": {
     "duration": 0.012912,
     "end_time": "2023-10-03T12:26:57.904991",
     "exception": false,
     "start_time": "2023-10-03T12:26:57.892079",
     "status": "completed"
    },
    "tags": [
     "parameters"
    ]
   },
   "outputs": [],
   "source": [
    "upstream = ['01-get']\n",
    "product = None"
   ]
  },
  {
   "cell_type": "code",
   "execution_count": 2,
   "id": "917de031",
   "metadata": {
    "execution": {
     "iopub.execute_input": "2023-10-03T12:26:57.911892Z",
     "iopub.status.busy": "2023-10-03T12:26:57.911544Z",
     "iopub.status.idle": "2023-10-03T12:26:57.915121Z",
     "shell.execute_reply": "2023-10-03T12:26:57.914585Z"
    },
    "papermill": {
     "duration": 0.008318,
     "end_time": "2023-10-03T12:26:57.916192",
     "exception": false,
     "start_time": "2023-10-03T12:26:57.907874",
     "status": "completed"
    },
    "tags": [
     "injected-parameters"
    ]
   },
   "outputs": [],
   "source": [
    "# Parameters\n",
    "upstream = {\"01-get\": {\"nb\": \"/home/luiscberrocal/PycharmProjects/hacktoberfest-2023/kaggle/products/extract-pipeline.ipynb\", \"csv_file\": \"/home/luiscberrocal/PycharmProjects/hacktoberfest-2023/kaggle/data/house_prices.csv\"}}\n",
    "product = {\"nb\": \"/home/luiscberrocal/PycharmProjects/hacktoberfest-2023/kaggle/products/cleanup.ipynb\", \"clean_csv\": \"/home/luiscberrocal/PycharmProjects/hacktoberfest-2023/kaggle/data/house_prices_clean.csv\"}\n"
   ]
  },
  {
   "cell_type": "code",
   "execution_count": 3,
   "id": "b3e27f4d",
   "metadata": {
    "execution": {
     "iopub.execute_input": "2023-10-03T12:26:57.921573Z",
     "iopub.status.busy": "2023-10-03T12:26:57.921367Z",
     "iopub.status.idle": "2023-10-03T12:26:57.924003Z",
     "shell.execute_reply": "2023-10-03T12:26:57.923562Z"
    },
    "papermill": {
     "duration": 0.006711,
     "end_time": "2023-10-03T12:26:57.925188",
     "exception": false,
     "start_time": "2023-10-03T12:26:57.918477",
     "status": "completed"
    },
    "tags": []
   },
   "outputs": [],
   "source": [
    "import warnings\n",
    "warnings.filterwarnings('ignore')"
   ]
  },
  {
   "cell_type": "code",
   "execution_count": 4,
   "id": "4a5e961c",
   "metadata": {
    "execution": {
     "iopub.execute_input": "2023-10-03T12:26:57.931367Z",
     "iopub.status.busy": "2023-10-03T12:26:57.931177Z",
     "iopub.status.idle": "2023-10-03T12:26:58.250135Z",
     "shell.execute_reply": "2023-10-03T12:26:58.249563Z"
    },
    "papermill": {
     "duration": 0.323738,
     "end_time": "2023-10-03T12:26:58.251664",
     "exception": false,
     "start_time": "2023-10-03T12:26:57.927926",
     "status": "completed"
    },
    "tags": []
   },
   "outputs": [],
   "source": [
    "import re\n",
    "import pandas as pd"
   ]
  },
  {
   "cell_type": "code",
   "execution_count": 5,
   "id": "f4e08ce2",
   "metadata": {
    "execution": {
     "iopub.execute_input": "2023-10-03T12:26:58.265690Z",
     "iopub.status.busy": "2023-10-03T12:26:58.265347Z",
     "iopub.status.idle": "2023-10-03T12:26:58.303882Z",
     "shell.execute_reply": "2023-10-03T12:26:58.303334Z"
    },
    "papermill": {
     "duration": 0.051169,
     "end_time": "2023-10-03T12:26:58.305808",
     "exception": false,
     "start_time": "2023-10-03T12:26:58.254639",
     "status": "completed"
    },
    "tags": []
   },
   "outputs": [],
   "source": [
    "df = pd.read_csv(upstream['01-get']['csv_file'])"
   ]
  },
  {
   "cell_type": "code",
   "execution_count": 6,
   "id": "b392c2cd",
   "metadata": {
    "execution": {
     "iopub.execute_input": "2023-10-03T12:26:58.315056Z",
     "iopub.status.busy": "2023-10-03T12:26:58.314742Z",
     "iopub.status.idle": "2023-10-03T12:26:58.324601Z",
     "shell.execute_reply": "2023-10-03T12:26:58.324143Z"
    },
    "papermill": {
     "duration": 0.015659,
     "end_time": "2023-10-03T12:26:58.325690",
     "exception": false,
     "start_time": "2023-10-03T12:26:58.310031",
     "status": "completed"
    },
    "tags": []
   },
   "outputs": [
    {
     "name": "stdout",
     "output_type": "stream",
     "text": [
      "<class 'pandas.core.frame.DataFrame'>\n",
      "RangeIndex: 29451 entries, 0 to 29450\n",
      "Data columns (total 12 columns):\n",
      " #   Column                 Non-Null Count  Dtype  \n",
      "---  ------                 --------------  -----  \n",
      " 0   POSTED_BY              29451 non-null  object \n",
      " 1   UNDER_CONSTRUCTION     29451 non-null  int64  \n",
      " 2   RERA                   29451 non-null  int64  \n",
      " 3   BHK_NO.                29451 non-null  int64  \n",
      " 4   BHK_OR_RK              29451 non-null  object \n",
      " 5   SQUARE_FT              29451 non-null  float64\n",
      " 6   READY_TO_MOVE          29451 non-null  int64  \n",
      " 7   RESALE                 29451 non-null  int64  \n",
      " 8   ADDRESS                29451 non-null  object \n",
      " 9   LONGITUDE              29451 non-null  float64\n",
      " 10  LATITUDE               29451 non-null  float64\n",
      " 11  TARGET(PRICE_IN_LACS)  29451 non-null  float64\n",
      "dtypes: float64(4), int64(5), object(3)\n",
      "memory usage: 2.7+ MB\n"
     ]
    }
   ],
   "source": [
    "df.info()"
   ]
  },
  {
   "cell_type": "code",
   "execution_count": 7,
   "id": "49403c7d",
   "metadata": {
    "execution": {
     "iopub.execute_input": "2023-10-03T12:26:58.331575Z",
     "iopub.status.busy": "2023-10-03T12:26:58.331309Z",
     "iopub.status.idle": "2023-10-03T12:26:58.339566Z",
     "shell.execute_reply": "2023-10-03T12:26:58.339128Z"
    },
    "papermill": {
     "duration": 0.01242,
     "end_time": "2023-10-03T12:26:58.340550",
     "exception": false,
     "start_time": "2023-10-03T12:26:58.328130",
     "status": "completed"
    },
    "tags": []
   },
   "outputs": [
    {
     "data": {
      "text/plain": [
       "POSTED_BY                0\n",
       "UNDER_CONSTRUCTION       0\n",
       "RERA                     0\n",
       "BHK_NO.                  0\n",
       "BHK_OR_RK                0\n",
       "SQUARE_FT                0\n",
       "READY_TO_MOVE            0\n",
       "RESALE                   0\n",
       "ADDRESS                  0\n",
       "LONGITUDE                0\n",
       "LATITUDE                 0\n",
       "TARGET(PRICE_IN_LACS)    0\n",
       "dtype: int64"
      ]
     },
     "execution_count": 7,
     "metadata": {},
     "output_type": "execute_result"
    }
   ],
   "source": [
    "df.isna().sum()"
   ]
  },
  {
   "cell_type": "code",
   "execution_count": 8,
   "id": "14dd7deb",
   "metadata": {
    "execution": {
     "iopub.execute_input": "2023-10-03T12:26:58.346900Z",
     "iopub.status.busy": "2023-10-03T12:26:58.346629Z",
     "iopub.status.idle": "2023-10-03T12:26:58.351201Z",
     "shell.execute_reply": "2023-10-03T12:26:58.350644Z"
    },
    "papermill": {
     "duration": 0.008551,
     "end_time": "2023-10-03T12:26:58.352161",
     "exception": false,
     "start_time": "2023-10-03T12:26:58.343610",
     "status": "completed"
    },
    "tags": []
   },
   "outputs": [],
   "source": [
    "# Rename columns to snake case\n",
    "renamed_mapping = {}\n",
    "for c in df.columns:\n",
    "    new_c_name = re.sub('[^0-9a-zA-Z_]+', '', c)\n",
    "    renamed_mapping[c] = new_c_name.lower()  # .replace(' ', '_').replace('(', '').replace(')', '')\n",
    "renamed_mapping['targetprice_in_lacs'] = 'target_price_in_lacs'\n",
    "\n",
    "df = df.rename(columns=renamed_mapping)"
   ]
  },
  {
   "cell_type": "code",
   "execution_count": 9,
   "id": "8da2a2ab",
   "metadata": {
    "execution": {
     "iopub.execute_input": "2023-10-03T12:26:58.358145Z",
     "iopub.status.busy": "2023-10-03T12:26:58.357885Z",
     "iopub.status.idle": "2023-10-03T12:26:58.362653Z",
     "shell.execute_reply": "2023-10-03T12:26:58.361974Z"
    },
    "papermill": {
     "duration": 0.009195,
     "end_time": "2023-10-03T12:26:58.363951",
     "exception": false,
     "start_time": "2023-10-03T12:26:58.354756",
     "status": "completed"
    },
    "tags": []
   },
   "outputs": [],
   "source": [
    "# Convert price to dolllars 1 lac == 1,397\n",
    "df['price'] = df['targetprice_in_lacs'] * 1_397\n",
    "\n",
    "# Convert square_ft to square meters\n",
    "df['area_m2'] = df['square_ft'] * 0.092903"
   ]
  },
  {
   "cell_type": "code",
   "execution_count": 10,
   "id": "5dabc244",
   "metadata": {
    "execution": {
     "iopub.execute_input": "2023-10-03T12:26:58.370150Z",
     "iopub.status.busy": "2023-10-03T12:26:58.369836Z",
     "iopub.status.idle": "2023-10-03T12:26:58.383465Z",
     "shell.execute_reply": "2023-10-03T12:26:58.382881Z"
    },
    "lines_to_next_cell": 0,
    "papermill": {
     "duration": 0.018066,
     "end_time": "2023-10-03T12:26:58.384604",
     "exception": false,
     "start_time": "2023-10-03T12:26:58.366538",
     "status": "completed"
    },
    "tags": []
   },
   "outputs": [
    {
     "name": "stdout",
     "output_type": "stream",
     "text": [
      "<class 'pandas.core.frame.DataFrame'>\n",
      "RangeIndex: 29451 entries, 0 to 29450\n",
      "Data columns (total 12 columns):\n",
      " #   Column              Non-Null Count  Dtype  \n",
      "---  ------              --------------  -----  \n",
      " 0   posted_by           29451 non-null  object \n",
      " 1   under_construction  29451 non-null  int64  \n",
      " 2   rera                29451 non-null  int64  \n",
      " 3   bhk_no              29451 non-null  int64  \n",
      " 4   bhk_or_rk           29451 non-null  object \n",
      " 5   ready_to_move       29451 non-null  int64  \n",
      " 6   resale              29451 non-null  int64  \n",
      " 7   address             29451 non-null  object \n",
      " 8   longitude           29451 non-null  float64\n",
      " 9   latitude            29451 non-null  float64\n",
      " 10  price               29451 non-null  float64\n",
      " 11  area_m2             29451 non-null  float64\n",
      "dtypes: float64(4), int64(5), object(3)\n",
      "memory usage: 2.7+ MB\n"
     ]
    }
   ],
   "source": [
    "df = df.drop(columns=['square_ft', 'targetprice_in_lacs'])\n",
    "\n",
    "df.info()"
   ]
  },
  {
   "cell_type": "code",
   "execution_count": 11,
   "id": "a92f3318",
   "metadata": {
    "execution": {
     "iopub.execute_input": "2023-10-03T12:26:58.390635Z",
     "iopub.status.busy": "2023-10-03T12:26:58.390107Z",
     "iopub.status.idle": "2023-10-03T12:26:58.393382Z",
     "shell.execute_reply": "2023-10-03T12:26:58.392869Z"
    },
    "lines_to_next_cell": 1,
    "papermill": {
     "duration": 0.007336,
     "end_time": "2023-10-03T12:26:58.394410",
     "exception": false,
     "start_time": "2023-10-03T12:26:58.387074",
     "status": "completed"
    },
    "tags": []
   },
   "outputs": [],
   "source": [
    "# Extracting cities from address\n",
    "def get_city(value):\n",
    "    parts = value.split(',')\n",
    "    return parts[-1:][0]\n",
    "\n",
    "# Too many cities, heatmap not working.\n",
    "# df['city'] = df['address'].apply(get_city)\n",
    "\n",
    "# df['city'].value_counts()"
   ]
  },
  {
   "cell_type": "code",
   "execution_count": 12,
   "id": "1e6521de",
   "metadata": {
    "execution": {
     "iopub.execute_input": "2023-10-03T12:26:58.400215Z",
     "iopub.status.busy": "2023-10-03T12:26:58.399964Z",
     "iopub.status.idle": "2023-10-03T12:26:58.404291Z",
     "shell.execute_reply": "2023-10-03T12:26:58.403737Z"
    },
    "papermill": {
     "duration": 0.008495,
     "end_time": "2023-10-03T12:26:58.405387",
     "exception": false,
     "start_time": "2023-10-03T12:26:58.396892",
     "status": "completed"
    },
    "tags": []
   },
   "outputs": [],
   "source": [
    "df = df.drop(columns=['address'])"
   ]
  },
  {
   "cell_type": "code",
   "execution_count": 13,
   "id": "27e18bbe",
   "metadata": {
    "execution": {
     "iopub.execute_input": "2023-10-03T12:26:58.411620Z",
     "iopub.status.busy": "2023-10-03T12:26:58.411266Z",
     "iopub.status.idle": "2023-10-03T12:26:58.418374Z",
     "shell.execute_reply": "2023-10-03T12:26:58.417868Z"
    },
    "papermill": {
     "duration": 0.01151,
     "end_time": "2023-10-03T12:26:58.419474",
     "exception": false,
     "start_time": "2023-10-03T12:26:58.407964",
     "status": "completed"
    },
    "tags": []
   },
   "outputs": [
    {
     "data": {
      "text/plain": [
       "posted_by\n",
       "Dealer     18291\n",
       "Owner      10538\n",
       "Builder      622\n",
       "Name: count, dtype: int64"
      ]
     },
     "execution_count": 13,
     "metadata": {},
     "output_type": "execute_result"
    }
   ],
   "source": [
    "df['posted_by'].value_counts()"
   ]
  },
  {
   "cell_type": "code",
   "execution_count": 14,
   "id": "c235b115",
   "metadata": {
    "execution": {
     "iopub.execute_input": "2023-10-03T12:26:58.427214Z",
     "iopub.status.busy": "2023-10-03T12:26:58.426750Z",
     "iopub.status.idle": "2023-10-03T12:26:58.433663Z",
     "shell.execute_reply": "2023-10-03T12:26:58.433165Z"
    },
    "papermill": {
     "duration": 0.012596,
     "end_time": "2023-10-03T12:26:58.435326",
     "exception": false,
     "start_time": "2023-10-03T12:26:58.422730",
     "status": "completed"
    },
    "tags": []
   },
   "outputs": [
    {
     "data": {
      "text/plain": [
       "bhk_or_rk\n",
       "BHK    29427\n",
       "RK        24\n",
       "Name: count, dtype: int64"
      ]
     },
     "execution_count": 14,
     "metadata": {},
     "output_type": "execute_result"
    }
   ],
   "source": [
    "df['bhk_or_rk'].value_counts()"
   ]
  },
  {
   "cell_type": "code",
   "execution_count": 15,
   "id": "30f1c3fd",
   "metadata": {
    "execution": {
     "iopub.execute_input": "2023-10-03T12:26:58.446921Z",
     "iopub.status.busy": "2023-10-03T12:26:58.446617Z",
     "iopub.status.idle": "2023-10-03T12:26:58.456217Z",
     "shell.execute_reply": "2023-10-03T12:26:58.455685Z"
    },
    "papermill": {
     "duration": 0.017391,
     "end_time": "2023-10-03T12:26:58.457990",
     "exception": false,
     "start_time": "2023-10-03T12:26:58.440599",
     "status": "completed"
    },
    "tags": []
   },
   "outputs": [],
   "source": [
    "# df = pd.get_dummies(df, columns=['posted_by', 'bhk_or_rk', 'city'])\n",
    "df = pd.get_dummies(df, columns=['posted_by', 'bhk_or_rk'])"
   ]
  },
  {
   "cell_type": "code",
   "execution_count": 16,
   "id": "6b956577",
   "metadata": {
    "execution": {
     "iopub.execute_input": "2023-10-03T12:26:58.470290Z",
     "iopub.status.busy": "2023-10-03T12:26:58.469988Z",
     "iopub.status.idle": "2023-10-03T12:26:58.485056Z",
     "shell.execute_reply": "2023-10-03T12:26:58.484487Z"
    },
    "papermill": {
     "duration": 0.02272,
     "end_time": "2023-10-03T12:26:58.486395",
     "exception": false,
     "start_time": "2023-10-03T12:26:58.463675",
     "status": "completed"
    },
    "tags": []
   },
   "outputs": [
    {
     "data": {
      "text/html": [
       "<div>\n",
       "<style scoped>\n",
       "    .dataframe tbody tr th:only-of-type {\n",
       "        vertical-align: middle;\n",
       "    }\n",
       "\n",
       "    .dataframe tbody tr th {\n",
       "        vertical-align: top;\n",
       "    }\n",
       "\n",
       "    .dataframe thead th {\n",
       "        text-align: right;\n",
       "    }\n",
       "</style>\n",
       "<table border=\"1\" class=\"dataframe\">\n",
       "  <thead>\n",
       "    <tr style=\"text-align: right;\">\n",
       "      <th></th>\n",
       "      <th>under_construction</th>\n",
       "      <th>rera</th>\n",
       "      <th>bhk_no</th>\n",
       "      <th>ready_to_move</th>\n",
       "      <th>resale</th>\n",
       "      <th>longitude</th>\n",
       "      <th>latitude</th>\n",
       "      <th>price</th>\n",
       "      <th>area_m2</th>\n",
       "      <th>posted_by_Builder</th>\n",
       "      <th>posted_by_Dealer</th>\n",
       "      <th>posted_by_Owner</th>\n",
       "      <th>bhk_or_rk_BHK</th>\n",
       "      <th>bhk_or_rk_RK</th>\n",
       "    </tr>\n",
       "  </thead>\n",
       "  <tbody>\n",
       "    <tr>\n",
       "      <th>0</th>\n",
       "      <td>0</td>\n",
       "      <td>0</td>\n",
       "      <td>2</td>\n",
       "      <td>1</td>\n",
       "      <td>1</td>\n",
       "      <td>12.969910</td>\n",
       "      <td>77.597960</td>\n",
       "      <td>76835.0</td>\n",
       "      <td>120.795863</td>\n",
       "      <td>False</td>\n",
       "      <td>False</td>\n",
       "      <td>True</td>\n",
       "      <td>True</td>\n",
       "      <td>False</td>\n",
       "    </tr>\n",
       "    <tr>\n",
       "      <th>1</th>\n",
       "      <td>0</td>\n",
       "      <td>0</td>\n",
       "      <td>2</td>\n",
       "      <td>1</td>\n",
       "      <td>1</td>\n",
       "      <td>12.274538</td>\n",
       "      <td>76.644605</td>\n",
       "      <td>71247.0</td>\n",
       "      <td>118.451325</td>\n",
       "      <td>False</td>\n",
       "      <td>True</td>\n",
       "      <td>False</td>\n",
       "      <td>True</td>\n",
       "      <td>False</td>\n",
       "    </tr>\n",
       "    <tr>\n",
       "      <th>2</th>\n",
       "      <td>0</td>\n",
       "      <td>0</td>\n",
       "      <td>2</td>\n",
       "      <td>1</td>\n",
       "      <td>1</td>\n",
       "      <td>12.778033</td>\n",
       "      <td>77.632191</td>\n",
       "      <td>60071.0</td>\n",
       "      <td>86.693338</td>\n",
       "      <td>False</td>\n",
       "      <td>False</td>\n",
       "      <td>True</td>\n",
       "      <td>True</td>\n",
       "      <td>False</td>\n",
       "    </tr>\n",
       "    <tr>\n",
       "      <th>3</th>\n",
       "      <td>0</td>\n",
       "      <td>1</td>\n",
       "      <td>2</td>\n",
       "      <td>1</td>\n",
       "      <td>1</td>\n",
       "      <td>28.642300</td>\n",
       "      <td>77.344500</td>\n",
       "      <td>87312.5</td>\n",
       "      <td>86.392464</td>\n",
       "      <td>False</td>\n",
       "      <td>False</td>\n",
       "      <td>True</td>\n",
       "      <td>True</td>\n",
       "      <td>False</td>\n",
       "    </tr>\n",
       "    <tr>\n",
       "      <th>4</th>\n",
       "      <td>1</td>\n",
       "      <td>0</td>\n",
       "      <td>2</td>\n",
       "      <td>0</td>\n",
       "      <td>1</td>\n",
       "      <td>22.592200</td>\n",
       "      <td>88.484911</td>\n",
       "      <td>84518.5</td>\n",
       "      <td>92.810956</td>\n",
       "      <td>False</td>\n",
       "      <td>True</td>\n",
       "      <td>False</td>\n",
       "      <td>True</td>\n",
       "      <td>False</td>\n",
       "    </tr>\n",
       "  </tbody>\n",
       "</table>\n",
       "</div>"
      ],
      "text/plain": [
       "   under_construction  rera  bhk_no  ready_to_move  resale  longitude  \\\n",
       "0                   0     0       2              1       1  12.969910   \n",
       "1                   0     0       2              1       1  12.274538   \n",
       "2                   0     0       2              1       1  12.778033   \n",
       "3                   0     1       2              1       1  28.642300   \n",
       "4                   1     0       2              0       1  22.592200   \n",
       "\n",
       "    latitude    price     area_m2  posted_by_Builder  posted_by_Dealer  \\\n",
       "0  77.597960  76835.0  120.795863              False             False   \n",
       "1  76.644605  71247.0  118.451325              False              True   \n",
       "2  77.632191  60071.0   86.693338              False             False   \n",
       "3  77.344500  87312.5   86.392464              False             False   \n",
       "4  88.484911  84518.5   92.810956              False              True   \n",
       "\n",
       "   posted_by_Owner  bhk_or_rk_BHK  bhk_or_rk_RK  \n",
       "0             True           True         False  \n",
       "1            False           True         False  \n",
       "2             True           True         False  \n",
       "3             True           True         False  \n",
       "4            False           True         False  "
      ]
     },
     "execution_count": 16,
     "metadata": {},
     "output_type": "execute_result"
    }
   ],
   "source": [
    "df.head()"
   ]
  },
  {
   "cell_type": "code",
   "execution_count": 17,
   "id": "b3354136",
   "metadata": {
    "execution": {
     "iopub.execute_input": "2023-10-03T12:26:58.495651Z",
     "iopub.status.busy": "2023-10-03T12:26:58.495290Z",
     "iopub.status.idle": "2023-10-03T12:26:58.505021Z",
     "shell.execute_reply": "2023-10-03T12:26:58.504396Z"
    },
    "papermill": {
     "duration": 0.016455,
     "end_time": "2023-10-03T12:26:58.506855",
     "exception": false,
     "start_time": "2023-10-03T12:26:58.490400",
     "status": "completed"
    },
    "tags": []
   },
   "outputs": [
    {
     "name": "stdout",
     "output_type": "stream",
     "text": [
      "<class 'pandas.core.frame.DataFrame'>\n",
      "RangeIndex: 29451 entries, 0 to 29450\n",
      "Data columns (total 14 columns):\n",
      " #   Column              Non-Null Count  Dtype  \n",
      "---  ------              --------------  -----  \n",
      " 0   under_construction  29451 non-null  int64  \n",
      " 1   rera                29451 non-null  int64  \n",
      " 2   bhk_no              29451 non-null  int64  \n",
      " 3   ready_to_move       29451 non-null  int64  \n",
      " 4   resale              29451 non-null  int64  \n",
      " 5   longitude           29451 non-null  float64\n",
      " 6   latitude            29451 non-null  float64\n",
      " 7   price               29451 non-null  float64\n",
      " 8   area_m2             29451 non-null  float64\n",
      " 9   posted_by_Builder   29451 non-null  bool   \n",
      " 10  posted_by_Dealer    29451 non-null  bool   \n",
      " 11  posted_by_Owner     29451 non-null  bool   \n",
      " 12  bhk_or_rk_BHK       29451 non-null  bool   \n",
      " 13  bhk_or_rk_RK        29451 non-null  bool   \n",
      "dtypes: bool(5), float64(4), int64(5)\n",
      "memory usage: 2.2 MB\n"
     ]
    }
   ],
   "source": [
    "df.info()"
   ]
  },
  {
   "cell_type": "code",
   "execution_count": 18,
   "id": "8792bd94",
   "metadata": {
    "execution": {
     "iopub.execute_input": "2023-10-03T12:26:58.519805Z",
     "iopub.status.busy": "2023-10-03T12:26:58.519517Z",
     "iopub.status.idle": "2023-10-03T12:26:58.528840Z",
     "shell.execute_reply": "2023-10-03T12:26:58.528359Z"
    },
    "papermill": {
     "duration": 0.017777,
     "end_time": "2023-10-03T12:26:58.530484",
     "exception": false,
     "start_time": "2023-10-03T12:26:58.512707",
     "status": "completed"
    },
    "tags": []
   },
   "outputs": [
    {
     "name": "stdout",
     "output_type": "stream",
     "text": [
      "posted_by_Builder bool\n",
      "posted_by_Dealer bool\n",
      "posted_by_Owner bool\n",
      "bhk_or_rk_BHK bool\n",
      "bhk_or_rk_RK bool\n"
     ]
    },
    {
     "name": "stdout",
     "output_type": "stream",
     "text": [
      "<class 'pandas.core.frame.DataFrame'>\n",
      "RangeIndex: 29451 entries, 0 to 29450\n",
      "Data columns (total 14 columns):\n",
      " #   Column              Non-Null Count  Dtype  \n",
      "---  ------              --------------  -----  \n",
      " 0   under_construction  29451 non-null  int64  \n",
      " 1   rera                29451 non-null  int64  \n",
      " 2   bhk_no              29451 non-null  int64  \n",
      " 3   ready_to_move       29451 non-null  int64  \n",
      " 4   resale              29451 non-null  int64  \n",
      " 5   longitude           29451 non-null  float64\n",
      " 6   latitude            29451 non-null  float64\n",
      " 7   price               29451 non-null  float64\n",
      " 8   area_m2             29451 non-null  float64\n",
      " 9   posted_by_Builder   29451 non-null  int64  \n",
      " 10  posted_by_Dealer    29451 non-null  int64  \n",
      " 11  posted_by_Owner     29451 non-null  int64  \n",
      " 12  bhk_or_rk_BHK       29451 non-null  int64  \n",
      " 13  bhk_or_rk_RK        29451 non-null  int64  \n",
      "dtypes: float64(4), int64(10)\n",
      "memory usage: 3.1 MB\n"
     ]
    }
   ],
   "source": [
    "for c in df.columns:\n",
    "    if df[c].dtype == bool:\n",
    "        print(f'{c} {df[c].dtype}')\n",
    "        df[c] = df[c].astype(int)\n",
    "\n",
    "df.info()"
   ]
  },
  {
   "cell_type": "code",
   "execution_count": 19,
   "id": "f071f513",
   "metadata": {
    "execution": {
     "iopub.execute_input": "2023-10-03T12:26:58.544383Z",
     "iopub.status.busy": "2023-10-03T12:26:58.544064Z",
     "iopub.status.idle": "2023-10-03T12:26:58.546754Z",
     "shell.execute_reply": "2023-10-03T12:26:58.546268Z"
    },
    "lines_to_next_cell": 0,
    "papermill": {
     "duration": 0.011071,
     "end_time": "2023-10-03T12:26:58.548062",
     "exception": false,
     "start_time": "2023-10-03T12:26:58.536991",
     "status": "completed"
    },
    "tags": []
   },
   "outputs": [],
   "source": [
    "# 1. hot shoe encoding\n",
    "# 2. Drop encoded columns\n",
    "# 3. Extract city\n",
    "# 4."
   ]
  },
  {
   "cell_type": "code",
   "execution_count": 20,
   "id": "3899efe2",
   "metadata": {
    "execution": {
     "iopub.execute_input": "2023-10-03T12:26:58.556713Z",
     "iopub.status.busy": "2023-10-03T12:26:58.556431Z",
     "iopub.status.idle": "2023-10-03T12:26:58.683777Z",
     "shell.execute_reply": "2023-10-03T12:26:58.683181Z"
    },
    "papermill": {
     "duration": 0.13333,
     "end_time": "2023-10-03T12:26:58.685341",
     "exception": false,
     "start_time": "2023-10-03T12:26:58.552011",
     "status": "completed"
    },
    "tags": []
   },
   "outputs": [],
   "source": [
    "\n",
    "df.to_csv(product['clean_csv'], index=False)"
   ]
  }
 ],
 "metadata": {
  "jupytext": {
   "cell_metadata_filter": "tags,-all",
   "main_language": "python",
   "notebook_metadata_filter": "-all",
   "text_representation": {
    "extension": ".py",
    "format_name": "percent"
   }
  },
  "kernelspec": {
   "display_name": "Python 3 (ipykernel)",
   "language": "python",
   "name": "python3"
  },
  "language_info": {
   "codemirror_mode": {
    "name": "ipython",
    "version": 3
   },
   "file_extension": ".py",
   "mimetype": "text/x-python",
   "name": "python",
   "nbconvert_exporter": "python",
   "pygments_lexer": "ipython3",
   "version": "3.10.12"
  },
  "papermill": {
   "duration": 1.670373,
   "end_time": "2023-10-03T12:26:58.905611",
   "exception": null,
   "input_path": "/tmp/tmpzhlz_hp1.ipynb",
   "output_path": "/home/luiscberrocal/PycharmProjects/hacktoberfest-2023/kaggle/products/cleanup.ipynb",
   "parameters": {
    "product": {
     "clean_csv": "/home/luiscberrocal/PycharmProjects/hacktoberfest-2023/kaggle/data/house_prices_clean.csv",
     "nb": "/home/luiscberrocal/PycharmProjects/hacktoberfest-2023/kaggle/products/cleanup.ipynb"
    },
    "upstream": {
     "01-get": {
      "csv_file": "/home/luiscberrocal/PycharmProjects/hacktoberfest-2023/kaggle/data/house_prices.csv",
      "nb": "/home/luiscberrocal/PycharmProjects/hacktoberfest-2023/kaggle/products/extract-pipeline.ipynb"
     }
    }
   },
   "start_time": "2023-10-03T12:26:57.235238"
  }
 },
 "nbformat": 4,
 "nbformat_minor": 5
}