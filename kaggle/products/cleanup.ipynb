{
 "cells": [
  {
   "cell_type": "code",
   "execution_count": 1,
   "id": "01c258a8",
   "metadata": {
    "execution": {
     "iopub.execute_input": "2023-10-01T14:58:08.575985Z",
     "iopub.status.busy": "2023-10-01T14:58:08.575764Z",
     "iopub.status.idle": "2023-10-01T14:58:08.580989Z",
     "shell.execute_reply": "2023-10-01T14:58:08.580589Z"
    },
    "papermill": {
     "duration": 0.008269,
     "end_time": "2023-10-01T14:58:08.581981",
     "exception": false,
     "start_time": "2023-10-01T14:58:08.573712",
     "status": "completed"
    },
    "tags": [
     "parameters"
    ]
   },
   "outputs": [],
   "source": [
    "upstream = ['01-get']\n",
    "product = None\n",
    "\n",
    "import re"
   ]
  },
  {
   "cell_type": "code",
   "execution_count": 2,
   "id": "a05b4c4b",
   "metadata": {
    "execution": {
     "iopub.execute_input": "2023-10-01T14:58:08.586713Z",
     "iopub.status.busy": "2023-10-01T14:58:08.586523Z",
     "iopub.status.idle": "2023-10-01T14:58:08.589247Z",
     "shell.execute_reply": "2023-10-01T14:58:08.588842Z"
    },
    "papermill": {
     "duration": 0.005426,
     "end_time": "2023-10-01T14:58:08.590197",
     "exception": false,
     "start_time": "2023-10-01T14:58:08.584771",
     "status": "completed"
    },
    "tags": [
     "injected-parameters"
    ]
   },
   "outputs": [],
   "source": [
    "# Parameters\n",
    "upstream = {\"01-get\": {\"nb\": \"/home/luiscberrocal/PycharmProjects/hacktoberfest-2023/kaggle/products/extract-pipeline.ipynb\", \"csv_file\": \"/home/luiscberrocal/PycharmProjects/hacktoberfest-2023/kaggle/data/house_prices.csv\"}}\n",
    "product = {\"nb\": \"/home/luiscberrocal/PycharmProjects/hacktoberfest-2023/kaggle/products/cleanup.ipynb\", \"clean_csv\": \"/home/luiscberrocal/PycharmProjects/hacktoberfest-2023/kaggle/data/house_prices_clean.csv\"}\n"
   ]
  },
  {
   "cell_type": "code",
   "execution_count": 3,
   "id": "e3f5adf8",
   "metadata": {
    "execution": {
     "iopub.execute_input": "2023-10-01T14:58:08.594068Z",
     "iopub.status.busy": "2023-10-01T14:58:08.593594Z",
     "iopub.status.idle": "2023-10-01T14:58:08.914676Z",
     "shell.execute_reply": "2023-10-01T14:58:08.914083Z"
    },
    "papermill": {
     "duration": 0.324805,
     "end_time": "2023-10-01T14:58:08.916126",
     "exception": false,
     "start_time": "2023-10-01T14:58:08.591321",
     "status": "completed"
    },
    "tags": []
   },
   "outputs": [],
   "source": [
    "import pandas as pd"
   ]
  },
  {
   "cell_type": "code",
   "execution_count": 4,
   "id": "81286da7",
   "metadata": {
    "execution": {
     "iopub.execute_input": "2023-10-01T14:58:08.928531Z",
     "iopub.status.busy": "2023-10-01T14:58:08.928243Z",
     "iopub.status.idle": "2023-10-01T14:58:08.968248Z",
     "shell.execute_reply": "2023-10-01T14:58:08.967782Z"
    },
    "papermill": {
     "duration": 0.051888,
     "end_time": "2023-10-01T14:58:08.969683",
     "exception": false,
     "start_time": "2023-10-01T14:58:08.917795",
     "status": "completed"
    },
    "tags": []
   },
   "outputs": [],
   "source": [
    "df = pd.read_csv(upstream['01-get']['csv_file'])"
   ]
  },
  {
   "cell_type": "code",
   "execution_count": 5,
   "id": "f9e08d24",
   "metadata": {
    "execution": {
     "iopub.execute_input": "2023-10-01T14:58:08.973725Z",
     "iopub.status.busy": "2023-10-01T14:58:08.973341Z",
     "iopub.status.idle": "2023-10-01T14:58:08.983964Z",
     "shell.execute_reply": "2023-10-01T14:58:08.983458Z"
    },
    "papermill": {
     "duration": 0.013918,
     "end_time": "2023-10-01T14:58:08.985104",
     "exception": false,
     "start_time": "2023-10-01T14:58:08.971186",
     "status": "completed"
    },
    "tags": []
   },
   "outputs": [
    {
     "name": "stdout",
     "output_type": "stream",
     "text": [
      "<class 'pandas.core.frame.DataFrame'>\n",
      "RangeIndex: 29451 entries, 0 to 29450\n",
      "Data columns (total 13 columns):\n",
      " #   Column                 Non-Null Count  Dtype  \n",
      "---  ------                 --------------  -----  \n",
      " 0   Unnamed: 0             29451 non-null  int64  \n",
      " 1   POSTED_BY              29451 non-null  object \n",
      " 2   UNDER_CONSTRUCTION     29451 non-null  int64  \n",
      " 3   RERA                   29451 non-null  int64  \n",
      " 4   BHK_NO.                29451 non-null  int64  \n",
      " 5   BHK_OR_RK              29451 non-null  object \n",
      " 6   SQUARE_FT              29451 non-null  float64\n",
      " 7   READY_TO_MOVE          29451 non-null  int64  \n",
      " 8   RESALE                 29451 non-null  int64  \n",
      " 9   ADDRESS                29451 non-null  object \n",
      " 10  LONGITUDE              29451 non-null  float64\n",
      " 11  LATITUDE               29451 non-null  float64\n",
      " 12  TARGET(PRICE_IN_LACS)  29451 non-null  float64\n",
      "dtypes: float64(4), int64(6), object(3)\n",
      "memory usage: 2.9+ MB\n"
     ]
    }
   ],
   "source": [
    "df.info()"
   ]
  },
  {
   "cell_type": "code",
   "execution_count": 6,
   "id": "d8924ba7",
   "metadata": {
    "execution": {
     "iopub.execute_input": "2023-10-01T14:58:08.988588Z",
     "iopub.status.busy": "2023-10-01T14:58:08.988399Z",
     "iopub.status.idle": "2023-10-01T14:58:09.001954Z",
     "shell.execute_reply": "2023-10-01T14:58:09.001499Z"
    },
    "papermill": {
     "duration": 0.016583,
     "end_time": "2023-10-01T14:58:09.003064",
     "exception": false,
     "start_time": "2023-10-01T14:58:08.986481",
     "status": "completed"
    },
    "tags": []
   },
   "outputs": [
    {
     "name": "stdout",
     "output_type": "stream",
     "text": [
      "<class 'pandas.core.frame.DataFrame'>\n",
      "RangeIndex: 29451 entries, 0 to 29450\n",
      "Data columns (total 13 columns):\n",
      " #   Column               Non-Null Count  Dtype  \n",
      "---  ------               --------------  -----  \n",
      " 0   unnamed0             29451 non-null  int64  \n",
      " 1   posted_by            29451 non-null  object \n",
      " 2   under_construction   29451 non-null  int64  \n",
      " 3   rera                 29451 non-null  int64  \n",
      " 4   bhk_no               29451 non-null  int64  \n",
      " 5   bhk_or_rk            29451 non-null  object \n",
      " 6   square_ft            29451 non-null  float64\n",
      " 7   ready_to_move        29451 non-null  int64  \n",
      " 8   resale               29451 non-null  int64  \n",
      " 9   address              29451 non-null  object \n",
      " 10  longitude            29451 non-null  float64\n",
      " 11  latitude             29451 non-null  float64\n",
      " 12  targetprice_in_lacs  29451 non-null  float64\n",
      "dtypes: float64(4), int64(6), object(3)\n",
      "memory usage: 2.9+ MB\n"
     ]
    }
   ],
   "source": [
    "df.isna().sum()\n",
    "\n",
    "## %%\n",
    "# Rename columns to snake case\n",
    "renamed_mapping = {}\n",
    "for c in df.columns:\n",
    "    new_c_name = re.sub('[^0-9a-zA-Z_]+', '', c)\n",
    "    renamed_mapping[c] = new_c_name.lower()  # .replace(' ', '_').replace('(', '').replace(')', '')\n",
    "renamed_mapping['targetprice_in_lacs'] = 'target_price_in_lacs'\n",
    "\n",
    "df = df.rename(columns=renamed_mapping)\n",
    "\n",
    "df.info()"
   ]
  },
  {
   "cell_type": "code",
   "execution_count": 7,
   "id": "63c78ef2",
   "metadata": {
    "execution": {
     "iopub.execute_input": "2023-10-01T14:58:09.007192Z",
     "iopub.status.busy": "2023-10-01T14:58:09.006780Z",
     "iopub.status.idle": "2023-10-01T14:58:09.135078Z",
     "shell.execute_reply": "2023-10-01T14:58:09.134479Z"
    },
    "papermill": {
     "duration": 0.13178,
     "end_time": "2023-10-01T14:58:09.136391",
     "exception": false,
     "start_time": "2023-10-01T14:58:09.004611",
     "status": "completed"
    },
    "tags": []
   },
   "outputs": [],
   "source": [
    "\n",
    "df.to_csv(product['clean_csv'])"
   ]
  }
 ],
 "metadata": {
  "jupytext": {
   "cell_metadata_filter": "tags,-all",
   "main_language": "python",
   "notebook_metadata_filter": "-all",
   "text_representation": {
    "extension": ".py",
    "format_name": "percent"
   }
  },
  "kernelspec": {
   "display_name": "Python 3 (ipykernel)",
   "language": "python",
   "name": "python3"
  },
  "language_info": {
   "codemirror_mode": {
    "name": "ipython",
    "version": 3
   },
   "file_extension": ".py",
   "mimetype": "text/x-python",
   "name": "python",
   "nbconvert_exporter": "python",
   "pygments_lexer": "ipython3",
   "version": "3.10.12"
  },
  "papermill": {
   "duration": 1.656061,
   "end_time": "2023-10-01T14:58:09.353818",
   "exception": null,
   "input_path": "/tmp/tmphv4kki93.ipynb",
   "output_path": "/home/luiscberrocal/PycharmProjects/hacktoberfest-2023/kaggle/products/cleanup.ipynb",
   "parameters": {
    "product": {
     "clean_csv": "/home/luiscberrocal/PycharmProjects/hacktoberfest-2023/kaggle/data/house_prices_clean.csv",
     "nb": "/home/luiscberrocal/PycharmProjects/hacktoberfest-2023/kaggle/products/cleanup.ipynb"
    },
    "upstream": {
     "01-get": {
      "csv_file": "/home/luiscberrocal/PycharmProjects/hacktoberfest-2023/kaggle/data/house_prices.csv",
      "nb": "/home/luiscberrocal/PycharmProjects/hacktoberfest-2023/kaggle/products/extract-pipeline.ipynb"
     }
    }
   },
   "start_time": "2023-10-01T14:58:07.697757"
  }
 },
 "nbformat": 4,
 "nbformat_minor": 5
}