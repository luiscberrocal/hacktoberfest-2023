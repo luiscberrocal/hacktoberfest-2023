{
 "cells": [
  {
   "cell_type": "code",
   "execution_count": 1,
   "id": "6f9374e3",
   "metadata": {
    "execution": {
     "iopub.execute_input": "2023-10-02T15:45:58.502003Z",
     "iopub.status.busy": "2023-10-02T15:45:58.501272Z",
     "iopub.status.idle": "2023-10-02T15:45:58.513631Z",
     "shell.execute_reply": "2023-10-02T15:45:58.512933Z"
    },
    "papermill": {
     "duration": 0.024583,
     "end_time": "2023-10-02T15:45:58.515096",
     "exception": false,
     "start_time": "2023-10-02T15:45:58.490513",
     "status": "completed"
    },
    "tags": [
     "parameters"
    ]
   },
   "outputs": [],
   "source": [
    "upstream = ['01-get']\n",
    "product = None\n",
    "\n",
    "import re"
   ]
  },
  {
   "cell_type": "code",
   "execution_count": 2,
   "id": "d5fb8773",
   "metadata": {
    "execution": {
     "iopub.execute_input": "2023-10-02T15:45:58.521145Z",
     "iopub.status.busy": "2023-10-02T15:45:58.520932Z",
     "iopub.status.idle": "2023-10-02T15:45:58.524462Z",
     "shell.execute_reply": "2023-10-02T15:45:58.523795Z"
    },
    "papermill": {
     "duration": 0.008135,
     "end_time": "2023-10-02T15:45:58.525907",
     "exception": false,
     "start_time": "2023-10-02T15:45:58.517772",
     "status": "completed"
    },
    "tags": [
     "injected-parameters"
    ]
   },
   "outputs": [],
   "source": [
    "# Parameters\n",
    "upstream = {\"01-get\": {\"nb\": \"/home/luiscberrocal/PycharmProjects/hacktoberfest-2023/kaggle/products/extract-pipeline.ipynb\", \"csv_file\": \"/home/luiscberrocal/PycharmProjects/hacktoberfest-2023/kaggle/data/house_prices.csv\"}}\n",
    "product = {\"nb\": \"/home/luiscberrocal/PycharmProjects/hacktoberfest-2023/kaggle/products/cleanup.ipynb\", \"clean_csv\": \"/home/luiscberrocal/PycharmProjects/hacktoberfest-2023/kaggle/data/house_prices_clean.csv\"}\n"
   ]
  },
  {
   "cell_type": "code",
   "execution_count": 3,
   "id": "62a233c9",
   "metadata": {
    "execution": {
     "iopub.execute_input": "2023-10-02T15:45:58.531663Z",
     "iopub.status.busy": "2023-10-02T15:45:58.531459Z",
     "iopub.status.idle": "2023-10-02T15:45:58.794540Z",
     "shell.execute_reply": "2023-10-02T15:45:58.794042Z"
    },
    "papermill": {
     "duration": 0.267512,
     "end_time": "2023-10-02T15:45:58.795853",
     "exception": false,
     "start_time": "2023-10-02T15:45:58.528341",
     "status": "completed"
    },
    "tags": []
   },
   "outputs": [],
   "source": [
    "import pandas as pd"
   ]
  },
  {
   "cell_type": "code",
   "execution_count": 4,
   "id": "7884ea57",
   "metadata": {
    "execution": {
     "iopub.execute_input": "2023-10-02T15:45:58.801121Z",
     "iopub.status.busy": "2023-10-02T15:45:58.800899Z",
     "iopub.status.idle": "2023-10-02T15:45:58.829043Z",
     "shell.execute_reply": "2023-10-02T15:45:58.828572Z"
    },
    "papermill": {
     "duration": 0.032173,
     "end_time": "2023-10-02T15:45:58.830258",
     "exception": false,
     "start_time": "2023-10-02T15:45:58.798085",
     "status": "completed"
    },
    "tags": []
   },
   "outputs": [],
   "source": [
    "df = pd.read_csv(upstream['01-get']['csv_file'])"
   ]
  },
  {
   "cell_type": "code",
   "execution_count": 5,
   "id": "eb918284",
   "metadata": {
    "execution": {
     "iopub.execute_input": "2023-10-02T15:45:58.834604Z",
     "iopub.status.busy": "2023-10-02T15:45:58.834400Z",
     "iopub.status.idle": "2023-10-02T15:45:58.845568Z",
     "shell.execute_reply": "2023-10-02T15:45:58.845195Z"
    },
    "papermill": {
     "duration": 0.014392,
     "end_time": "2023-10-02T15:45:58.846495",
     "exception": false,
     "start_time": "2023-10-02T15:45:58.832103",
     "status": "completed"
    },
    "tags": []
   },
   "outputs": [
    {
     "name": "stdout",
     "output_type": "stream",
     "text": [
      "<class 'pandas.core.frame.DataFrame'>\n",
      "RangeIndex: 29451 entries, 0 to 29450\n",
      "Data columns (total 12 columns):\n",
      " #   Column                 Non-Null Count  Dtype  \n",
      "---  ------                 --------------  -----  \n",
      " 0   POSTED_BY              29451 non-null  object \n",
      " 1   UNDER_CONSTRUCTION     29451 non-null  int64  \n",
      " 2   RERA                   29451 non-null  int64  \n",
      " 3   BHK_NO.                29451 non-null  int64  \n",
      " 4   BHK_OR_RK              29451 non-null  object \n",
      " 5   SQUARE_FT              29451 non-null  float64\n",
      " 6   READY_TO_MOVE          29451 non-null  int64  \n",
      " 7   RESALE                 29451 non-null  int64  \n",
      " 8   ADDRESS                29451 non-null  object \n",
      " 9   LONGITUDE              29451 non-null  float64\n",
      " 10  LATITUDE               29451 non-null  float64\n",
      " 11  TARGET(PRICE_IN_LACS)  29451 non-null  float64\n",
      "dtypes: float64(4), int64(5), object(3)\n",
      "memory usage: 2.7+ MB\n"
     ]
    }
   ],
   "source": [
    "df.info()"
   ]
  },
  {
   "cell_type": "code",
   "execution_count": 6,
   "id": "bdd7eec5",
   "metadata": {
    "execution": {
     "iopub.execute_input": "2023-10-02T15:45:58.850778Z",
     "iopub.status.busy": "2023-10-02T15:45:58.850353Z",
     "iopub.status.idle": "2023-10-02T15:45:58.858064Z",
     "shell.execute_reply": "2023-10-02T15:45:58.857631Z"
    },
    "papermill": {
     "duration": 0.01088,
     "end_time": "2023-10-02T15:45:58.859089",
     "exception": false,
     "start_time": "2023-10-02T15:45:58.848209",
     "status": "completed"
    },
    "tags": []
   },
   "outputs": [
    {
     "data": {
      "text/plain": [
       "POSTED_BY                0\n",
       "UNDER_CONSTRUCTION       0\n",
       "RERA                     0\n",
       "BHK_NO.                  0\n",
       "BHK_OR_RK                0\n",
       "SQUARE_FT                0\n",
       "READY_TO_MOVE            0\n",
       "RESALE                   0\n",
       "ADDRESS                  0\n",
       "LONGITUDE                0\n",
       "LATITUDE                 0\n",
       "TARGET(PRICE_IN_LACS)    0\n",
       "dtype: int64"
      ]
     },
     "execution_count": 6,
     "metadata": {},
     "output_type": "execute_result"
    }
   ],
   "source": [
    "df.isna().sum()"
   ]
  },
  {
   "cell_type": "code",
   "execution_count": 7,
   "id": "f82a0900",
   "metadata": {
    "execution": {
     "iopub.execute_input": "2023-10-02T15:45:58.863564Z",
     "iopub.status.busy": "2023-10-02T15:45:58.863419Z",
     "iopub.status.idle": "2023-10-02T15:45:58.871926Z",
     "shell.execute_reply": "2023-10-02T15:45:58.871571Z"
    },
    "lines_to_next_cell": 0,
    "papermill": {
     "duration": 0.011914,
     "end_time": "2023-10-02T15:45:58.872921",
     "exception": false,
     "start_time": "2023-10-02T15:45:58.861007",
     "status": "completed"
    },
    "tags": []
   },
   "outputs": [
    {
     "name": "stdout",
     "output_type": "stream",
     "text": [
      "<class 'pandas.core.frame.DataFrame'>\n",
      "RangeIndex: 29451 entries, 0 to 29450\n",
      "Data columns (total 12 columns):\n",
      " #   Column               Non-Null Count  Dtype  \n",
      "---  ------               --------------  -----  \n",
      " 0   posted_by            29451 non-null  object \n",
      " 1   under_construction   29451 non-null  int64  \n",
      " 2   rera                 29451 non-null  int64  \n",
      " 3   bhk_no               29451 non-null  int64  \n",
      " 4   bhk_or_rk            29451 non-null  object \n",
      " 5   square_ft            29451 non-null  float64\n",
      " 6   ready_to_move        29451 non-null  int64  \n",
      " 7   resale               29451 non-null  int64  \n",
      " 8   address              29451 non-null  object \n",
      " 9   longitude            29451 non-null  float64\n",
      " 10  latitude             29451 non-null  float64\n",
      " 11  targetprice_in_lacs  29451 non-null  float64\n",
      "dtypes: float64(4), int64(5), object(3)\n",
      "memory usage: 2.7+ MB\n"
     ]
    }
   ],
   "source": [
    "# Rename columns to snake case\n",
    "renamed_mapping = {}\n",
    "for c in df.columns:\n",
    "    new_c_name = re.sub('[^0-9a-zA-Z_]+', '', c)\n",
    "    renamed_mapping[c] = new_c_name.lower()  # .replace(' ', '_').replace('(', '').replace(')', '')\n",
    "renamed_mapping['targetprice_in_lacs'] = 'target_price_in_lacs'\n",
    "\n",
    "df = df.rename(columns=renamed_mapping)\n",
    "\n",
    "df.info()"
   ]
  },
  {
   "cell_type": "code",
   "execution_count": 8,
   "id": "5bfd1f54",
   "metadata": {
    "execution": {
     "iopub.execute_input": "2023-10-02T15:45:58.877776Z",
     "iopub.status.busy": "2023-10-02T15:45:58.877470Z",
     "iopub.status.idle": "2023-10-02T15:45:58.892356Z",
     "shell.execute_reply": "2023-10-02T15:45:58.891859Z"
    },
    "papermill": {
     "duration": 0.018457,
     "end_time": "2023-10-02T15:45:58.893403",
     "exception": false,
     "start_time": "2023-10-02T15:45:58.874946",
     "status": "completed"
    },
    "tags": []
   },
   "outputs": [
    {
     "data": {
      "text/plain": [
       "city\n",
       "Bangalore      4340\n",
       "Lalitpur       2993\n",
       "Mumbai         2023\n",
       "Pune           1991\n",
       "Noida          1767\n",
       "               ... \n",
       "Bhadrak           1\n",
       "Kurukshetra       1\n",
       "Dibrugarh         1\n",
       "Sagar             1\n",
       "Washim            1\n",
       "Name: count, Length: 256, dtype: int64"
      ]
     },
     "execution_count": 8,
     "metadata": {},
     "output_type": "execute_result"
    }
   ],
   "source": [
    "# Extracting cities from address\n",
    "def get_city(value):\n",
    "    parts = value.split(',')\n",
    "    return parts[-1:][0]\n",
    "\n",
    "df['city'] = df['address'].apply(get_city)\n",
    "\n",
    "df['city'].value_counts()"
   ]
  },
  {
   "cell_type": "code",
   "execution_count": 9,
   "id": "e44393c9",
   "metadata": {
    "execution": {
     "iopub.execute_input": "2023-10-02T15:45:58.898306Z",
     "iopub.status.busy": "2023-10-02T15:45:58.898124Z",
     "iopub.status.idle": "2023-10-02T15:45:58.901810Z",
     "shell.execute_reply": "2023-10-02T15:45:58.901324Z"
    },
    "papermill": {
     "duration": 0.007306,
     "end_time": "2023-10-02T15:45:58.902870",
     "exception": false,
     "start_time": "2023-10-02T15:45:58.895564",
     "status": "completed"
    },
    "tags": []
   },
   "outputs": [],
   "source": [
    "df = df.drop(columns=['address'])"
   ]
  },
  {
   "cell_type": "code",
   "execution_count": 10,
   "id": "887d8e91",
   "metadata": {
    "execution": {
     "iopub.execute_input": "2023-10-02T15:45:58.907852Z",
     "iopub.status.busy": "2023-10-02T15:45:58.907707Z",
     "iopub.status.idle": "2023-10-02T15:45:58.911841Z",
     "shell.execute_reply": "2023-10-02T15:45:58.911510Z"
    },
    "papermill": {
     "duration": 0.007783,
     "end_time": "2023-10-02T15:45:58.912874",
     "exception": false,
     "start_time": "2023-10-02T15:45:58.905091",
     "status": "completed"
    },
    "tags": []
   },
   "outputs": [
    {
     "data": {
      "text/plain": [
       "posted_by\n",
       "Dealer     18291\n",
       "Owner      10538\n",
       "Builder      622\n",
       "Name: count, dtype: int64"
      ]
     },
     "execution_count": 10,
     "metadata": {},
     "output_type": "execute_result"
    }
   ],
   "source": [
    "df['posted_by'].value_counts()"
   ]
  },
  {
   "cell_type": "code",
   "execution_count": 11,
   "id": "a580c523",
   "metadata": {
    "execution": {
     "iopub.execute_input": "2023-10-02T15:45:58.917901Z",
     "iopub.status.busy": "2023-10-02T15:45:58.917759Z",
     "iopub.status.idle": "2023-10-02T15:45:58.922053Z",
     "shell.execute_reply": "2023-10-02T15:45:58.921712Z"
    },
    "papermill": {
     "duration": 0.007966,
     "end_time": "2023-10-02T15:45:58.923053",
     "exception": false,
     "start_time": "2023-10-02T15:45:58.915087",
     "status": "completed"
    },
    "tags": []
   },
   "outputs": [
    {
     "data": {
      "text/plain": [
       "bhk_or_rk\n",
       "BHK    29427\n",
       "RK        24\n",
       "Name: count, dtype: int64"
      ]
     },
     "execution_count": 11,
     "metadata": {},
     "output_type": "execute_result"
    }
   ],
   "source": [
    "df['bhk_or_rk'].value_counts()"
   ]
  },
  {
   "cell_type": "code",
   "execution_count": 12,
   "id": "ecedbba3",
   "metadata": {
    "execution": {
     "iopub.execute_input": "2023-10-02T15:45:58.928200Z",
     "iopub.status.busy": "2023-10-02T15:45:58.927986Z",
     "iopub.status.idle": "2023-10-02T15:45:58.959337Z",
     "shell.execute_reply": "2023-10-02T15:45:58.958819Z"
    },
    "papermill": {
     "duration": 0.035221,
     "end_time": "2023-10-02T15:45:58.960537",
     "exception": false,
     "start_time": "2023-10-02T15:45:58.925316",
     "status": "completed"
    },
    "tags": []
   },
   "outputs": [],
   "source": [
    "df = pd.get_dummies(df, columns=['posted_by', 'bhk_or_rk', 'city'])"
   ]
  },
  {
   "cell_type": "code",
   "execution_count": 13,
   "id": "e09ae9d0",
   "metadata": {
    "execution": {
     "iopub.execute_input": "2023-10-02T15:45:58.966001Z",
     "iopub.status.busy": "2023-10-02T15:45:58.965803Z",
     "iopub.status.idle": "2023-10-02T15:45:58.977825Z",
     "shell.execute_reply": "2023-10-02T15:45:58.977469Z"
    },
    "papermill": {
     "duration": 0.015822,
     "end_time": "2023-10-02T15:45:58.978826",
     "exception": false,
     "start_time": "2023-10-02T15:45:58.963004",
     "status": "completed"
    },
    "tags": []
   },
   "outputs": [
    {
     "data": {
      "text/html": [
       "<div>\n",
       "<style scoped>\n",
       "    .dataframe tbody tr th:only-of-type {\n",
       "        vertical-align: middle;\n",
       "    }\n",
       "\n",
       "    .dataframe tbody tr th {\n",
       "        vertical-align: top;\n",
       "    }\n",
       "\n",
       "    .dataframe thead th {\n",
       "        text-align: right;\n",
       "    }\n",
       "</style>\n",
       "<table border=\"1\" class=\"dataframe\">\n",
       "  <thead>\n",
       "    <tr style=\"text-align: right;\">\n",
       "      <th></th>\n",
       "      <th>under_construction</th>\n",
       "      <th>rera</th>\n",
       "      <th>bhk_no</th>\n",
       "      <th>square_ft</th>\n",
       "      <th>ready_to_move</th>\n",
       "      <th>resale</th>\n",
       "      <th>longitude</th>\n",
       "      <th>latitude</th>\n",
       "      <th>targetprice_in_lacs</th>\n",
       "      <th>posted_by_Builder</th>\n",
       "      <th>...</th>\n",
       "      <th>city_Vellore</th>\n",
       "      <th>city_Vidisha</th>\n",
       "      <th>city_Vijayawada</th>\n",
       "      <th>city_Visakhapatnam</th>\n",
       "      <th>city_Visnagar</th>\n",
       "      <th>city_Vizianagaram</th>\n",
       "      <th>city_Warangal</th>\n",
       "      <th>city_Wardha</th>\n",
       "      <th>city_Washim</th>\n",
       "      <th>city_Yavatmal</th>\n",
       "    </tr>\n",
       "  </thead>\n",
       "  <tbody>\n",
       "    <tr>\n",
       "      <th>0</th>\n",
       "      <td>0</td>\n",
       "      <td>0</td>\n",
       "      <td>2</td>\n",
       "      <td>1300.236407</td>\n",
       "      <td>1</td>\n",
       "      <td>1</td>\n",
       "      <td>12.969910</td>\n",
       "      <td>77.597960</td>\n",
       "      <td>55.0</td>\n",
       "      <td>False</td>\n",
       "      <td>...</td>\n",
       "      <td>False</td>\n",
       "      <td>False</td>\n",
       "      <td>False</td>\n",
       "      <td>False</td>\n",
       "      <td>False</td>\n",
       "      <td>False</td>\n",
       "      <td>False</td>\n",
       "      <td>False</td>\n",
       "      <td>False</td>\n",
       "      <td>False</td>\n",
       "    </tr>\n",
       "    <tr>\n",
       "      <th>1</th>\n",
       "      <td>0</td>\n",
       "      <td>0</td>\n",
       "      <td>2</td>\n",
       "      <td>1275.000000</td>\n",
       "      <td>1</td>\n",
       "      <td>1</td>\n",
       "      <td>12.274538</td>\n",
       "      <td>76.644605</td>\n",
       "      <td>51.0</td>\n",
       "      <td>False</td>\n",
       "      <td>...</td>\n",
       "      <td>False</td>\n",
       "      <td>False</td>\n",
       "      <td>False</td>\n",
       "      <td>False</td>\n",
       "      <td>False</td>\n",
       "      <td>False</td>\n",
       "      <td>False</td>\n",
       "      <td>False</td>\n",
       "      <td>False</td>\n",
       "      <td>False</td>\n",
       "    </tr>\n",
       "    <tr>\n",
       "      <th>2</th>\n",
       "      <td>0</td>\n",
       "      <td>0</td>\n",
       "      <td>2</td>\n",
       "      <td>933.159722</td>\n",
       "      <td>1</td>\n",
       "      <td>1</td>\n",
       "      <td>12.778033</td>\n",
       "      <td>77.632191</td>\n",
       "      <td>43.0</td>\n",
       "      <td>False</td>\n",
       "      <td>...</td>\n",
       "      <td>False</td>\n",
       "      <td>False</td>\n",
       "      <td>False</td>\n",
       "      <td>False</td>\n",
       "      <td>False</td>\n",
       "      <td>False</td>\n",
       "      <td>False</td>\n",
       "      <td>False</td>\n",
       "      <td>False</td>\n",
       "      <td>False</td>\n",
       "    </tr>\n",
       "    <tr>\n",
       "      <th>3</th>\n",
       "      <td>0</td>\n",
       "      <td>1</td>\n",
       "      <td>2</td>\n",
       "      <td>929.921143</td>\n",
       "      <td>1</td>\n",
       "      <td>1</td>\n",
       "      <td>28.642300</td>\n",
       "      <td>77.344500</td>\n",
       "      <td>62.5</td>\n",
       "      <td>False</td>\n",
       "      <td>...</td>\n",
       "      <td>False</td>\n",
       "      <td>False</td>\n",
       "      <td>False</td>\n",
       "      <td>False</td>\n",
       "      <td>False</td>\n",
       "      <td>False</td>\n",
       "      <td>False</td>\n",
       "      <td>False</td>\n",
       "      <td>False</td>\n",
       "      <td>False</td>\n",
       "    </tr>\n",
       "    <tr>\n",
       "      <th>4</th>\n",
       "      <td>1</td>\n",
       "      <td>0</td>\n",
       "      <td>2</td>\n",
       "      <td>999.009247</td>\n",
       "      <td>0</td>\n",
       "      <td>1</td>\n",
       "      <td>22.592200</td>\n",
       "      <td>88.484911</td>\n",
       "      <td>60.5</td>\n",
       "      <td>False</td>\n",
       "      <td>...</td>\n",
       "      <td>False</td>\n",
       "      <td>False</td>\n",
       "      <td>False</td>\n",
       "      <td>False</td>\n",
       "      <td>False</td>\n",
       "      <td>False</td>\n",
       "      <td>False</td>\n",
       "      <td>False</td>\n",
       "      <td>False</td>\n",
       "      <td>False</td>\n",
       "    </tr>\n",
       "  </tbody>\n",
       "</table>\n",
       "<p>5 rows × 270 columns</p>\n",
       "</div>"
      ],
      "text/plain": [
       "   under_construction  rera  bhk_no    square_ft  ready_to_move  resale  \\\n",
       "0                   0     0       2  1300.236407              1       1   \n",
       "1                   0     0       2  1275.000000              1       1   \n",
       "2                   0     0       2   933.159722              1       1   \n",
       "3                   0     1       2   929.921143              1       1   \n",
       "4                   1     0       2   999.009247              0       1   \n",
       "\n",
       "   longitude   latitude  targetprice_in_lacs  posted_by_Builder  ...  \\\n",
       "0  12.969910  77.597960                 55.0              False  ...   \n",
       "1  12.274538  76.644605                 51.0              False  ...   \n",
       "2  12.778033  77.632191                 43.0              False  ...   \n",
       "3  28.642300  77.344500                 62.5              False  ...   \n",
       "4  22.592200  88.484911                 60.5              False  ...   \n",
       "\n",
       "   city_Vellore  city_Vidisha  city_Vijayawada  city_Visakhapatnam  \\\n",
       "0         False         False            False               False   \n",
       "1         False         False            False               False   \n",
       "2         False         False            False               False   \n",
       "3         False         False            False               False   \n",
       "4         False         False            False               False   \n",
       "\n",
       "   city_Visnagar  city_Vizianagaram  city_Warangal  city_Wardha  city_Washim  \\\n",
       "0          False              False          False        False        False   \n",
       "1          False              False          False        False        False   \n",
       "2          False              False          False        False        False   \n",
       "3          False              False          False        False        False   \n",
       "4          False              False          False        False        False   \n",
       "\n",
       "   city_Yavatmal  \n",
       "0          False  \n",
       "1          False  \n",
       "2          False  \n",
       "3          False  \n",
       "4          False  \n",
       "\n",
       "[5 rows x 270 columns]"
      ]
     },
     "execution_count": 13,
     "metadata": {},
     "output_type": "execute_result"
    }
   ],
   "source": [
    "df.head()"
   ]
  },
  {
   "cell_type": "code",
   "execution_count": 14,
   "id": "aa167758",
   "metadata": {
    "execution": {
     "iopub.execute_input": "2023-10-02T15:45:58.984696Z",
     "iopub.status.busy": "2023-10-02T15:45:58.984506Z",
     "iopub.status.idle": "2023-10-02T15:45:58.995880Z",
     "shell.execute_reply": "2023-10-02T15:45:58.995517Z"
    },
    "papermill": {
     "duration": 0.015489,
     "end_time": "2023-10-02T15:45:58.996868",
     "exception": false,
     "start_time": "2023-10-02T15:45:58.981379",
     "status": "completed"
    },
    "tags": []
   },
   "outputs": [
    {
     "name": "stdout",
     "output_type": "stream",
     "text": [
      "<class 'pandas.core.frame.DataFrame'>\n",
      "RangeIndex: 29451 entries, 0 to 29450\n",
      "Columns: 270 entries, under_construction to city_Yavatmal\n",
      "dtypes: bool(261), float64(4), int64(5)\n",
      "memory usage: 9.4 MB\n"
     ]
    }
   ],
   "source": [
    "df.info()"
   ]
  },
  {
   "cell_type": "code",
   "execution_count": 15,
   "id": "a6406836",
   "metadata": {
    "execution": {
     "iopub.execute_input": "2023-10-02T15:45:59.002561Z",
     "iopub.status.busy": "2023-10-02T15:45:59.002375Z",
     "iopub.status.idle": "2023-10-02T15:45:59.078213Z",
     "shell.execute_reply": "2023-10-02T15:45:59.077782Z"
    },
    "papermill": {
     "duration": 0.079821,
     "end_time": "2023-10-02T15:45:59.079249",
     "exception": false,
     "start_time": "2023-10-02T15:45:58.999428",
     "status": "completed"
    },
    "tags": []
   },
   "outputs": [
    {
     "name": "stdout",
     "output_type": "stream",
     "text": [
      "posted_by_Builder bool\n",
      "posted_by_Dealer bool\n",
      "posted_by_Owner bool\n",
      "bhk_or_rk_BHK bool\n",
      "bhk_or_rk_RK bool\n",
      "city_Agartala bool\n",
      "city_Agra bool\n",
      "city_Ahmednagar bool\n",
      "city_Ajmer bool\n",
      "city_Akola bool\n",
      "city_Aligarh bool\n",
      "city_Allahabad bool\n",
      "city_Alwar bool\n",
      "city_Ambala bool\n",
      "city_Amravati bool\n",
      "city_Amritsar bool\n",
      "city_Amroha bool\n",
      "city_Anand bool\n",
      "city_Anantapur bool\n",
      "city_Angul bool\n",
      "city_Arrah bool\n",
      "city_Asansol bool\n",
      "city_Aurangabad bool\n",
      "city_Baddi bool\n",
      "city_Bahadurgarh bool\n",
      "city_Balasore bool\n",
      "city_Bangalore bool\n",
      "city_Bankura bool\n",
      "city_Banswara bool\n",
      "city_Barabanki bool\n",
      "city_Bardhaman bool\n",
      "city_Bareilly bool\n",
      "city_Beed bool\n",
      "city_Belgaum bool\n",
      "city_Berhampur bool\n",
      "city_Betul bool\n",
      "city_Bhadrak bool\n",
      "city_Bhagalpur bool\n",
      "city_Bhandara bool\n",
      "city_Bharatpur bool\n",
      "city_Bharuch bool\n",
      "city_Bhavnagar bool\n",
      "city_Bhilai bool\n",
      "city_Bhimavaram bool\n",
      "city_Bhiwadi bool\n",
      "city_Bhiwani bool\n",
      "city_Bhopal bool\n",
      "city_Bhubaneswar bool\n",
      "city_Bhuj bool\n",
      "city_Bikaner bool\n",
      "city_Bilaspur bool\n",
      "city_Bokaro bool\n",
      "city_Chandigarh bool\n",
      "city_Chandrapur bool\n",
      "city_Chennai bool\n",
      "city_Chhindwara bool\n",
      "city_Chittoor bool\n",
      "city_Coimbatore bool\n",
      "city_Cuddalore bool\n",
      "city_Cuttack bool\n",
      "city_Dahod bool\n",
      "city_Dalhousie bool\n",
      "city_Darbhanga bool\n",
      "city_Darjeeling bool\n",
      "city_Dehradun bool\n",
      "city_Deoghar bool\n",
      "city_Dhanbad bool\n",
      "city_Dharuhera bool\n",
      "city_Dharwad bool\n",
      "city_Dhule bool\n",
      "city_Dibrugarh bool\n",
      "city_Durg bool\n",
      "city_Durgapur bool\n",
      "city_Eluru bool\n",
      "city_Ernakulam bool\n",
      "city_Erode bool\n",
      "city_Faizabad bool\n",
      "city_Faridabad bool\n",
      "city_Gadarwara bool\n",
      "city_Gadhinglaj bool\n",
      "city_Gandhidham bool\n",
      "city_Gandhinagar bool\n",
      "city_Gaya bool\n",
      "city_Ghaziabad bool\n",
      "city_Goa bool\n",
      "city_Godhra bool\n",
      "city_Gondia bool\n",
      "city_Gulbarga bool\n",
      "city_Guntur bool\n",
      "city_Gurdaspur bool\n",
      "city_Gurgaon bool\n",
      "city_Guwahati bool\n",
      "city_Gwalior bool\n",
      "city_Hajipur bool\n",
      "city_Haldia bool\n",
      "city_Haldwani bool\n",
      "city_Hapur bool\n",
      "city_Harda bool\n",
      "city_Haridwar bool\n",
      "city_Hassan bool\n",
      "city_Hathras bool\n",
      "city_Hazaribagh bool\n",
      "city_Hoshangabad bool\n",
      "city_Hoshiarpur bool\n",
      "city_Hosur bool\n",
      "city_Hubli bool\n",
      "city_Idukki bool\n",
      "city_Indore bool\n",
      "city_Jabalpur bool\n",
      "city_Jagdalpur bool\n",
      "city_Jaipur bool\n",
      "city_Jajpur bool\n",
      "city_Jalandhar bool\n",
      "city_Jalgaon bool\n",
      "city_Jalna bool\n",
      "city_Jammu bool\n",
      "city_Jamnagar bool\n",
      "city_Jamshedpur bool\n",
      "city_Jhansi bool\n",
      "city_Jharsuguda bool\n",
      "city_Jhunjhunu bool\n",
      "city_Jind bool\n",
      "city_Jodhpur bool\n",
      "city_Junagadh bool\n",
      "city_Kadapa bool\n",
      "city_Kadi bool\n",
      "city_Kakinada bool\n",
      "city_Kanchipuram bool\n",
      "city_Kangra bool\n",
      "city_Kannur bool\n",
      "city_Kanpur bool\n",
      "city_Karad bool\n",
      "city_Karaikudi bool\n",
      "city_Karjat bool\n",
      "city_Karnal bool\n",
      "city_Karwar bool\n",
      "city_Kharagpur bool\n",
      "city_Kochi bool\n",
      "city_Kolhapur bool\n",
      "city_Kolkata bool\n",
      "city_Kollam bool\n",
      "city_Korba bool\n",
      "city_Kota bool\n",
      "city_Kotdwara bool\n",
      "city_Kottayam bool\n",
      "city_Kurnool bool\n",
      "city_Kurukshetra bool\n",
      "city_Lalitpur bool\n",
      "city_Latur bool\n",
      "city_Lucknow bool\n",
      "city_Ludhiana bool\n",
      "city_Machilipatnam bool\n",
      "city_Madurai bool\n",
      "city_Maharashtra bool\n",
      "city_Malappuram bool\n",
      "city_Mangalore bool\n",
      "city_Margao bool\n",
      "city_Mathura bool\n",
      "city_Meerut bool\n",
      "city_Midnapore bool\n",
      "city_Mohali bool\n",
      "city_Moradabad bool\n",
      "city_Morbi bool\n",
      "city_Mumbai bool\n",
      "city_Muzaffarpur bool\n",
      "city_Mysore bool\n",
      "city_Nadiad bool\n",
      "city_Nagaon bool\n"
     ]
    },
    {
     "name": "stdout",
     "output_type": "stream",
     "text": [
      "city_Nagapattinam bool\n",
      "city_Nagaur bool\n",
      "city_Nagpur bool\n",
      "city_Nainital bool\n",
      "city_Nanded bool\n",
      "city_Navsari bool\n",
      "city_Neemrana bool\n",
      "city_Nellore bool\n",
      "city_Nizamabad bool\n",
      "city_Noida bool\n",
      "city_Ongole bool\n",
      "city_Ooty bool\n",
      "city_Osmanabad bool\n",
      "city_Ottapalam bool\n",
      "city_Palakkad bool\n",
      "city_Palanpur bool\n",
      "city_Palghar bool\n",
      "city_Pali bool\n",
      "city_Palwal bool\n",
      "city_Panaji bool\n",
      "city_Panchkula bool\n",
      "city_Panipat bool\n",
      "city_Pathanamthitta bool\n",
      "city_Patiala bool\n",
      "city_Patna bool\n",
      "city_Phagwara bool\n",
      "city_Pondicherry bool\n",
      "city_Porbandar bool\n",
      "city_Pudukkottai bool\n",
      "city_Pune bool\n",
      "city_Puri bool\n",
      "city_Raichur bool\n",
      "city_Raigad bool\n",
      "city_Raigarh bool\n",
      "city_Raipur bool\n",
      "city_Raisen bool\n",
      "city_Rajkot bool\n",
      "city_Rajnandgaon bool\n",
      "city_Rajpura bool\n",
      "city_Ranchi bool\n",
      "city_Ratnagiri bool\n",
      "city_Rayagada bool\n",
      "city_Rewa bool\n",
      "city_Rewari bool\n",
      "city_Rishikesh bool\n",
      "city_Rohtak bool\n",
      "city_Roorkee bool\n",
      "city_Rourkela bool\n",
      "city_Rudrapur bool\n",
      "city_Sabarkantha bool\n",
      "city_Sagar bool\n",
      "city_Salem bool\n",
      "city_Sambalpur bool\n",
      "city_Satna bool\n",
      "city_Secunderabad bool\n",
      "city_Shimla bool\n",
      "city_Shirdi bool\n",
      "city_Siddipet bool\n",
      "city_Sikar bool\n",
      "city_Silchar bool\n",
      "city_Siliguri bool\n",
      "city_Sindhudurg bool\n",
      "city_Siwan bool\n",
      "city_Solan bool\n",
      "city_Solapur bool\n",
      "city_Sonipat bool\n",
      "city_Srikakulam bool\n",
      "city_Srinagar bool\n",
      "city_Surat bool\n",
      "city_Surendranagar bool\n",
      "city_Tenali bool\n",
      "city_Thanjavur bool\n",
      "city_Thoothukudi bool\n",
      "city_Thrissur bool\n",
      "city_Tirunelveli bool\n",
      "city_Tirupati bool\n",
      "city_Udaipur bool\n",
      "city_Udupi bool\n",
      "city_Ujjain bool\n",
      "city_Vadodara bool\n",
      "city_Valsad bool\n",
      "city_Vapi bool\n",
      "city_Varanasi bool\n",
      "city_Vellore bool\n",
      "city_Vidisha bool\n",
      "city_Vijayawada bool\n",
      "city_Visakhapatnam bool\n",
      "city_Visnagar bool\n",
      "city_Vizianagaram bool\n",
      "city_Warangal bool\n",
      "city_Wardha bool\n",
      "city_Washim bool\n",
      "city_Yavatmal bool\n",
      "<class 'pandas.core.frame.DataFrame'>\n",
      "RangeIndex: 29451 entries, 0 to 29450\n",
      "Columns: 270 entries, under_construction to city_Yavatmal\n",
      "dtypes: float64(4), int64(266)\n",
      "memory usage: 60.7 MB\n"
     ]
    }
   ],
   "source": [
    "for c in df.columns:\n",
    "    if df[c].dtype == bool:\n",
    "        print(f'{c} {df[c].dtype}')\n",
    "        df[c] = df[c].astype(int)\n",
    "\n",
    "df.info()"
   ]
  },
  {
   "cell_type": "code",
   "execution_count": 16,
   "id": "4e7dd218",
   "metadata": {
    "execution": {
     "iopub.execute_input": "2023-10-02T15:45:59.085609Z",
     "iopub.status.busy": "2023-10-02T15:45:59.085457Z",
     "iopub.status.idle": "2023-10-02T15:45:59.087564Z",
     "shell.execute_reply": "2023-10-02T15:45:59.087189Z"
    },
    "lines_to_next_cell": 0,
    "papermill": {
     "duration": 0.00633,
     "end_time": "2023-10-02T15:45:59.088542",
     "exception": false,
     "start_time": "2023-10-02T15:45:59.082212",
     "status": "completed"
    },
    "tags": []
   },
   "outputs": [],
   "source": [
    "# 1. hot shoe encoding\n",
    "# 2. Drop encoded columns\n",
    "# 3. Extract city\n",
    "# 4."
   ]
  },
  {
   "cell_type": "code",
   "execution_count": 17,
   "id": "1322d12f",
   "metadata": {
    "execution": {
     "iopub.execute_input": "2023-10-02T15:45:59.094613Z",
     "iopub.status.busy": "2023-10-02T15:45:59.094436Z",
     "iopub.status.idle": "2023-10-02T15:45:59.963830Z",
     "shell.execute_reply": "2023-10-02T15:45:59.963300Z"
    },
    "papermill": {
     "duration": 0.873906,
     "end_time": "2023-10-02T15:45:59.965127",
     "exception": false,
     "start_time": "2023-10-02T15:45:59.091221",
     "status": "completed"
    },
    "tags": []
   },
   "outputs": [],
   "source": [
    "\n",
    "df.to_csv(product['clean_csv'], index=False)"
   ]
  }
 ],
 "metadata": {
  "jupytext": {
   "cell_metadata_filter": "tags,-all",
   "main_language": "python",
   "notebook_metadata_filter": "-all",
   "text_representation": {
    "extension": ".py",
    "format_name": "percent"
   }
  },
  "kernelspec": {
   "display_name": "Python 3 (ipykernel)",
   "language": "python",
   "name": "python3"
  },
  "language_info": {
   "codemirror_mode": {
    "name": "ipython",
    "version": 3
   },
   "file_extension": ".py",
   "mimetype": "text/x-python",
   "name": "python",
   "nbconvert_exporter": "python",
   "pygments_lexer": "ipython3",
   "version": "3.10.12"
  },
  "papermill": {
   "duration": 2.58226,
   "end_time": "2023-10-02T15:46:00.187428",
   "exception": null,
   "input_path": "/tmp/tmp4hxyjyl4.ipynb",
   "output_path": "/home/luiscberrocal/PycharmProjects/hacktoberfest-2023/kaggle/products/cleanup.ipynb",
   "parameters": {
    "product": {
     "clean_csv": "/home/luiscberrocal/PycharmProjects/hacktoberfest-2023/kaggle/data/house_prices_clean.csv",
     "nb": "/home/luiscberrocal/PycharmProjects/hacktoberfest-2023/kaggle/products/cleanup.ipynb"
    },
    "upstream": {
     "01-get": {
      "csv_file": "/home/luiscberrocal/PycharmProjects/hacktoberfest-2023/kaggle/data/house_prices.csv",
      "nb": "/home/luiscberrocal/PycharmProjects/hacktoberfest-2023/kaggle/products/extract-pipeline.ipynb"
     }
    }
   },
   "start_time": "2023-10-02T15:45:57.605168"
  }
 },
 "nbformat": 4,
 "nbformat_minor": 5
}