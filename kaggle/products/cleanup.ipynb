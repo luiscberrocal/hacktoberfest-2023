{
 "cells": [
  {
   "cell_type": "code",
   "execution_count": 1,
   "id": "e933e4f4",
   "metadata": {
    "execution": {
     "iopub.execute_input": "2023-10-02T13:24:17.407049Z",
     "iopub.status.busy": "2023-10-02T13:24:17.406877Z",
     "iopub.status.idle": "2023-10-02T13:24:17.412700Z",
     "shell.execute_reply": "2023-10-02T13:24:17.412304Z"
    },
    "papermill": {
     "duration": 0.008789,
     "end_time": "2023-10-02T13:24:17.413802",
     "exception": false,
     "start_time": "2023-10-02T13:24:17.405013",
     "status": "completed"
    },
    "tags": [
     "parameters"
    ]
   },
   "outputs": [],
   "source": [
    "upstream = ['01-get']\n",
    "product = None\n",
    "\n",
    "import re"
   ]
  },
  {
   "cell_type": "code",
   "execution_count": 2,
   "id": "8657f72e",
   "metadata": {
    "execution": {
     "iopub.execute_input": "2023-10-02T13:24:17.416835Z",
     "iopub.status.busy": "2023-10-02T13:24:17.416670Z",
     "iopub.status.idle": "2023-10-02T13:24:17.419246Z",
     "shell.execute_reply": "2023-10-02T13:24:17.418842Z"
    },
    "papermill": {
     "duration": 0.005153,
     "end_time": "2023-10-02T13:24:17.420215",
     "exception": false,
     "start_time": "2023-10-02T13:24:17.415062",
     "status": "completed"
    },
    "tags": [
     "injected-parameters"
    ]
   },
   "outputs": [],
   "source": [
    "# Parameters\n",
    "upstream = {\"01-get\": {\"nb\": \"/home/luiscberrocal/PycharmProjects/hacktoberfest-2023/kaggle/products/extract-pipeline.ipynb\", \"csv_file\": \"/home/luiscberrocal/PycharmProjects/hacktoberfest-2023/kaggle/data/house_prices.csv\"}}\n",
    "product = {\"nb\": \"/home/luiscberrocal/PycharmProjects/hacktoberfest-2023/kaggle/products/cleanup.ipynb\", \"clean_csv\": \"/home/luiscberrocal/PycharmProjects/hacktoberfest-2023/kaggle/data/house_prices_clean.csv\"}\n"
   ]
  },
  {
   "cell_type": "code",
   "execution_count": 3,
   "id": "5a136f1e",
   "metadata": {
    "execution": {
     "iopub.execute_input": "2023-10-02T13:24:17.423093Z",
     "iopub.status.busy": "2023-10-02T13:24:17.422857Z",
     "iopub.status.idle": "2023-10-02T13:24:17.699616Z",
     "shell.execute_reply": "2023-10-02T13:24:17.698968Z"
    },
    "papermill": {
     "duration": 0.279613,
     "end_time": "2023-10-02T13:24:17.700964",
     "exception": false,
     "start_time": "2023-10-02T13:24:17.421351",
     "status": "completed"
    },
    "tags": []
   },
   "outputs": [],
   "source": [
    "import pandas as pd"
   ]
  },
  {
   "cell_type": "code",
   "execution_count": 4,
   "id": "1238b2dd",
   "metadata": {
    "execution": {
     "iopub.execute_input": "2023-10-02T13:24:17.710576Z",
     "iopub.status.busy": "2023-10-02T13:24:17.710259Z",
     "iopub.status.idle": "2023-10-02T13:24:17.741537Z",
     "shell.execute_reply": "2023-10-02T13:24:17.740855Z"
    },
    "papermill": {
     "duration": 0.040306,
     "end_time": "2023-10-02T13:24:17.742826",
     "exception": false,
     "start_time": "2023-10-02T13:24:17.702520",
     "status": "completed"
    },
    "tags": []
   },
   "outputs": [],
   "source": [
    "df = pd.read_csv(upstream['01-get']['csv_file'])"
   ]
  },
  {
   "cell_type": "code",
   "execution_count": 5,
   "id": "d3734789",
   "metadata": {
    "execution": {
     "iopub.execute_input": "2023-10-02T13:24:17.746288Z",
     "iopub.status.busy": "2023-10-02T13:24:17.746053Z",
     "iopub.status.idle": "2023-10-02T13:24:17.755822Z",
     "shell.execute_reply": "2023-10-02T13:24:17.755288Z"
    },
    "papermill": {
     "duration": 0.012895,
     "end_time": "2023-10-02T13:24:17.757057",
     "exception": false,
     "start_time": "2023-10-02T13:24:17.744162",
     "status": "completed"
    },
    "tags": []
   },
   "outputs": [
    {
     "name": "stdout",
     "output_type": "stream",
     "text": [
      "<class 'pandas.core.frame.DataFrame'>\n",
      "RangeIndex: 29451 entries, 0 to 29450\n",
      "Data columns (total 12 columns):\n",
      " #   Column                 Non-Null Count  Dtype  \n",
      "---  ------                 --------------  -----  \n",
      " 0   POSTED_BY              29451 non-null  object \n",
      " 1   UNDER_CONSTRUCTION     29451 non-null  int64  \n",
      " 2   RERA                   29451 non-null  int64  \n",
      " 3   BHK_NO.                29451 non-null  int64  \n",
      " 4   BHK_OR_RK              29451 non-null  object \n",
      " 5   SQUARE_FT              29451 non-null  float64\n",
      " 6   READY_TO_MOVE          29451 non-null  int64  \n",
      " 7   RESALE                 29451 non-null  int64  \n",
      " 8   ADDRESS                29451 non-null  object \n",
      " 9   LONGITUDE              29451 non-null  float64\n",
      " 10  LATITUDE               29451 non-null  float64\n",
      " 11  TARGET(PRICE_IN_LACS)  29451 non-null  float64\n",
      "dtypes: float64(4), int64(5), object(3)\n",
      "memory usage: 2.7+ MB\n"
     ]
    }
   ],
   "source": [
    "df.info()"
   ]
  },
  {
   "cell_type": "code",
   "execution_count": 6,
   "id": "c8fda00f",
   "metadata": {
    "execution": {
     "iopub.execute_input": "2023-10-02T13:24:17.761011Z",
     "iopub.status.busy": "2023-10-02T13:24:17.760813Z",
     "iopub.status.idle": "2023-10-02T13:24:17.774013Z",
     "shell.execute_reply": "2023-10-02T13:24:17.773346Z"
    },
    "lines_to_next_cell": 2,
    "papermill": {
     "duration": 0.016612,
     "end_time": "2023-10-02T13:24:17.775375",
     "exception": false,
     "start_time": "2023-10-02T13:24:17.758763",
     "status": "completed"
    },
    "tags": []
   },
   "outputs": [
    {
     "name": "stdout",
     "output_type": "stream",
     "text": [
      "<class 'pandas.core.frame.DataFrame'>\n",
      "RangeIndex: 29451 entries, 0 to 29450\n",
      "Data columns (total 12 columns):\n",
      " #   Column               Non-Null Count  Dtype  \n",
      "---  ------               --------------  -----  \n",
      " 0   posted_by            29451 non-null  object \n",
      " 1   under_construction   29451 non-null  int64  \n",
      " 2   rera                 29451 non-null  int64  \n",
      " 3   bhk_no               29451 non-null  int64  \n",
      " 4   bhk_or_rk            29451 non-null  object \n",
      " 5   square_ft            29451 non-null  float64\n",
      " 6   ready_to_move        29451 non-null  int64  \n",
      " 7   resale               29451 non-null  int64  \n",
      " 8   address              29451 non-null  object \n",
      " 9   longitude            29451 non-null  float64\n",
      " 10  latitude             29451 non-null  float64\n",
      " 11  targetprice_in_lacs  29451 non-null  float64\n",
      "dtypes: float64(4), int64(5), object(3)\n",
      "memory usage: 2.7+ MB\n"
     ]
    }
   ],
   "source": [
    "df.isna().sum()\n",
    "\n",
    "## %%\n",
    "# Rename columns to snake case\n",
    "renamed_mapping = {}\n",
    "for c in df.columns:\n",
    "    new_c_name = re.sub('[^0-9a-zA-Z_]+', '', c)\n",
    "    renamed_mapping[c] = new_c_name.lower()  # .replace(' ', '_').replace('(', '').replace(')', '')\n",
    "renamed_mapping['targetprice_in_lacs'] = 'target_price_in_lacs'\n",
    "\n",
    "df = df.rename(columns=renamed_mapping)\n",
    "\n",
    "df.info()"
   ]
  },
  {
   "cell_type": "code",
   "execution_count": 7,
   "id": "31cf71ed",
   "metadata": {
    "execution": {
     "iopub.execute_input": "2023-10-02T13:24:17.779937Z",
     "iopub.status.busy": "2023-10-02T13:24:17.779739Z",
     "iopub.status.idle": "2023-10-02T13:24:17.782171Z",
     "shell.execute_reply": "2023-10-02T13:24:17.781678Z"
    },
    "lines_to_next_cell": 0,
    "papermill": {
     "duration": 0.00635,
     "end_time": "2023-10-02T13:24:17.783322",
     "exception": false,
     "start_time": "2023-10-02T13:24:17.776972",
     "status": "completed"
    },
    "tags": []
   },
   "outputs": [],
   "source": [
    "# 1. hot shoe encoding\n",
    "# 2. Drop encoded columns\n",
    "# 3. Extract city\n",
    "# 4."
   ]
  },
  {
   "cell_type": "code",
   "execution_count": 8,
   "id": "d7ff8878",
   "metadata": {
    "execution": {
     "iopub.execute_input": "2023-10-02T13:24:17.787166Z",
     "iopub.status.busy": "2023-10-02T13:24:17.786992Z",
     "iopub.status.idle": "2023-10-02T13:24:17.892962Z",
     "shell.execute_reply": "2023-10-02T13:24:17.892448Z"
    },
    "papermill": {
     "duration": 0.109414,
     "end_time": "2023-10-02T13:24:17.894292",
     "exception": false,
     "start_time": "2023-10-02T13:24:17.784878",
     "status": "completed"
    },
    "tags": []
   },
   "outputs": [],
   "source": [
    "\n",
    "df.to_csv(product['clean_csv'], index=False)"
   ]
  }
 ],
 "metadata": {
  "jupytext": {
   "cell_metadata_filter": "tags,-all",
   "main_language": "python",
   "notebook_metadata_filter": "-all",
   "text_representation": {
    "extension": ".py",
    "format_name": "percent"
   }
  },
  "kernelspec": {
   "display_name": "Python 3 (ipykernel)",
   "language": "python",
   "name": "python3"
  },
  "language_info": {
   "codemirror_mode": {
    "name": "ipython",
    "version": 3
   },
   "file_extension": ".py",
   "mimetype": "text/x-python",
   "name": "python",
   "nbconvert_exporter": "python",
   "pygments_lexer": "ipython3",
   "version": "3.8.17"
  },
  "papermill": {
   "duration": 4.017794,
   "end_time": "2023-10-02T13:24:20.540174",
   "exception": null,
   "input_path": "/tmp/tmpdor1vhre.ipynb",
   "output_path": "/home/luiscberrocal/PycharmProjects/hacktoberfest-2023/kaggle/products/cleanup.ipynb",
   "parameters": {
    "product": {
     "clean_csv": "/home/luiscberrocal/PycharmProjects/hacktoberfest-2023/kaggle/data/house_prices_clean.csv",
     "nb": "/home/luiscberrocal/PycharmProjects/hacktoberfest-2023/kaggle/products/cleanup.ipynb"
    },
    "upstream": {
     "01-get": {
      "csv_file": "/home/luiscberrocal/PycharmProjects/hacktoberfest-2023/kaggle/data/house_prices.csv",
      "nb": "/home/luiscberrocal/PycharmProjects/hacktoberfest-2023/kaggle/products/extract-pipeline.ipynb"
     }
    }
   },
   "start_time": "2023-10-02T13:24:16.522380"
  }
 },
 "nbformat": 4,
 "nbformat_minor": 5
}
