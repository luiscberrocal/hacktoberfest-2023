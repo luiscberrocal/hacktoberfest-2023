{
 "cells": [
  {
   "cell_type": "code",
   "execution_count": 1,
   "id": "eb53f588",
   "metadata": {
    "execution": {
     "iopub.execute_input": "2023-10-01T13:50:22.978016Z",
     "iopub.status.busy": "2023-10-01T13:50:22.977730Z",
     "iopub.status.idle": "2023-10-01T13:50:22.983076Z",
     "shell.execute_reply": "2023-10-01T13:50:22.982651Z"
    },
    "papermill": {
     "duration": 0.009613,
     "end_time": "2023-10-01T13:50:22.984398",
     "exception": false,
     "start_time": "2023-10-01T13:50:22.974785",
     "status": "completed"
    },
    "tags": [
     "parameters"
    ]
   },
   "outputs": [],
   "source": [
    "upstream = ['01-get']\n",
    "product = None\n",
    "\n",
    "import re"
   ]
  },
  {
   "cell_type": "code",
   "execution_count": 2,
   "id": "ba69c294",
   "metadata": {
    "execution": {
     "iopub.execute_input": "2023-10-01T13:50:22.990407Z",
     "iopub.status.busy": "2023-10-01T13:50:22.990145Z",
     "iopub.status.idle": "2023-10-01T13:50:22.993028Z",
     "shell.execute_reply": "2023-10-01T13:50:22.992513Z"
    },
    "papermill": {
     "duration": 0.007356,
     "end_time": "2023-10-01T13:50:22.994125",
     "exception": false,
     "start_time": "2023-10-01T13:50:22.986769",
     "status": "completed"
    },
    "tags": [
     "injected-parameters"
    ]
   },
   "outputs": [],
   "source": [
    "# Parameters\n",
    "upstream = {\"01-get\": {\"nb\": \"/home/luiscberrocal/PycharmProjects/hacktoberfest-2023/kaggle/products/extract-pipeline.ipynb\", \"csv_file\": \"/home/luiscberrocal/PycharmProjects/hacktoberfest-2023/kaggle/data/house_prices.csv\"}}\n",
    "product = {\"nb\": \"/home/luiscberrocal/PycharmProjects/hacktoberfest-2023/kaggle/products/cleanup.ipynb\"}\n"
   ]
  },
  {
   "cell_type": "code",
   "execution_count": 3,
   "id": "8105cb20",
   "metadata": {
    "execution": {
     "iopub.execute_input": "2023-10-01T13:50:22.997314Z",
     "iopub.status.busy": "2023-10-01T13:50:22.997039Z",
     "iopub.status.idle": "2023-10-01T13:50:23.324483Z",
     "shell.execute_reply": "2023-10-01T13:50:23.323863Z"
    },
    "papermill": {
     "duration": 0.330396,
     "end_time": "2023-10-01T13:50:23.325707",
     "exception": false,
     "start_time": "2023-10-01T13:50:22.995311",
     "status": "completed"
    },
    "tags": []
   },
   "outputs": [],
   "source": [
    "import pandas as pd"
   ]
  },
  {
   "cell_type": "code",
   "execution_count": 4,
   "id": "2c6ab0f1",
   "metadata": {
    "execution": {
     "iopub.execute_input": "2023-10-01T13:50:23.338789Z",
     "iopub.status.busy": "2023-10-01T13:50:23.337985Z",
     "iopub.status.idle": "2023-10-01T13:50:23.375672Z",
     "shell.execute_reply": "2023-10-01T13:50:23.375030Z"
    },
    "papermill": {
     "duration": 0.049856,
     "end_time": "2023-10-01T13:50:23.376978",
     "exception": false,
     "start_time": "2023-10-01T13:50:23.327122",
     "status": "completed"
    },
    "tags": []
   },
   "outputs": [],
   "source": [
    "df = pd.read_csv(upstream['01-get']['csv_file'])"
   ]
  },
  {
   "cell_type": "code",
   "execution_count": 5,
   "id": "9c64a238",
   "metadata": {
    "execution": {
     "iopub.execute_input": "2023-10-01T13:50:23.380527Z",
     "iopub.status.busy": "2023-10-01T13:50:23.380255Z",
     "iopub.status.idle": "2023-10-01T13:50:23.390089Z",
     "shell.execute_reply": "2023-10-01T13:50:23.389625Z"
    },
    "papermill": {
     "duration": 0.01297,
     "end_time": "2023-10-01T13:50:23.391281",
     "exception": false,
     "start_time": "2023-10-01T13:50:23.378311",
     "status": "completed"
    },
    "tags": []
   },
   "outputs": [
    {
     "name": "stdout",
     "output_type": "stream",
     "text": [
      "<class 'pandas.core.frame.DataFrame'>\n",
      "RangeIndex: 29451 entries, 0 to 29450\n",
      "Data columns (total 13 columns):\n",
      " #   Column                 Non-Null Count  Dtype  \n",
      "---  ------                 --------------  -----  \n",
      " 0   Unnamed: 0             29451 non-null  int64  \n",
      " 1   POSTED_BY              29451 non-null  object \n",
      " 2   UNDER_CONSTRUCTION     29451 non-null  int64  \n",
      " 3   RERA                   29451 non-null  int64  \n",
      " 4   BHK_NO.                29451 non-null  int64  \n",
      " 5   BHK_OR_RK              29451 non-null  object \n",
      " 6   SQUARE_FT              29451 non-null  float64\n",
      " 7   READY_TO_MOVE          29451 non-null  int64  \n",
      " 8   RESALE                 29451 non-null  int64  \n",
      " 9   ADDRESS                29451 non-null  object \n",
      " 10  LONGITUDE              29451 non-null  float64\n",
      " 11  LATITUDE               29451 non-null  float64\n",
      " 12  TARGET(PRICE_IN_LACS)  29451 non-null  float64\n",
      "dtypes: float64(4), int64(6), object(3)\n",
      "memory usage: 2.9+ MB\n"
     ]
    }
   ],
   "source": [
    "df.info()"
   ]
  },
  {
   "cell_type": "code",
   "execution_count": 6,
   "id": "c9f2b1a8",
   "metadata": {
    "execution": {
     "iopub.execute_input": "2023-10-01T13:50:23.395167Z",
     "iopub.status.busy": "2023-10-01T13:50:23.394958Z",
     "iopub.status.idle": "2023-10-01T13:50:23.409598Z",
     "shell.execute_reply": "2023-10-01T13:50:23.409159Z"
    },
    "papermill": {
     "duration": 0.018278,
     "end_time": "2023-10-01T13:50:23.411118",
     "exception": false,
     "start_time": "2023-10-01T13:50:23.392840",
     "status": "completed"
    },
    "tags": []
   },
   "outputs": [
    {
     "name": "stdout",
     "output_type": "stream",
     "text": [
      "<class 'pandas.core.frame.DataFrame'>\n",
      "RangeIndex: 29451 entries, 0 to 29450\n",
      "Data columns (total 13 columns):\n",
      " #   Column               Non-Null Count  Dtype  \n",
      "---  ------               --------------  -----  \n",
      " 0   unnamed0             29451 non-null  int64  \n",
      " 1   posted_by            29451 non-null  object \n",
      " 2   under_construction   29451 non-null  int64  \n",
      " 3   rera                 29451 non-null  int64  \n",
      " 4   bhk_no               29451 non-null  int64  \n",
      " 5   bhk_or_rk            29451 non-null  object \n",
      " 6   square_ft            29451 non-null  float64\n",
      " 7   ready_to_move        29451 non-null  int64  \n",
      " 8   resale               29451 non-null  int64  \n",
      " 9   address              29451 non-null  object \n",
      " 10  longitude            29451 non-null  float64\n",
      " 11  latitude             29451 non-null  float64\n",
      " 12  targetprice_in_lacs  29451 non-null  float64\n",
      "dtypes: float64(4), int64(6), object(3)\n",
      "memory usage: 2.9+ MB\n"
     ]
    }
   ],
   "source": [
    "df.isna().sum()\n",
    "\n",
    "## %%\n",
    "renamed_mapping = {}\n",
    "for c in df.columns:\n",
    "    new_c_name = re.sub('[^0-9a-zA-Z_]+', '', c)\n",
    "    renamed_mapping[c] = new_c_name.lower()  # .replace(' ', '_').replace('(', '').replace(')', '')\n",
    "renamed_mapping['targetprice_in_lacs'] = 'target_price_in_lacs'\n",
    "\n",
    "df = df.rename(columns=renamed_mapping)\n",
    "\n",
    "df.info()"
   ]
  },
  {
   "cell_type": "code",
   "execution_count": null,
   "id": "d47f0c06",
   "metadata": {
    "papermill": {
     "duration": 0.002114,
     "end_time": "2023-10-01T13:50:23.415583",
     "exception": false,
     "start_time": "2023-10-01T13:50:23.413469",
     "status": "completed"
    },
    "tags": []
   },
   "outputs": [],
   "source": []
  }
 ],
 "metadata": {
  "jupytext": {
   "cell_metadata_filter": "tags,-all",
   "main_language": "python",
   "notebook_metadata_filter": "-all",
   "text_representation": {
    "extension": ".py",
    "format_name": "percent"
   }
  },
  "kernelspec": {
   "display_name": "Python 3 (ipykernel)",
   "language": "python",
   "name": "python3"
  },
  "language_info": {
   "codemirror_mode": {
    "name": "ipython",
    "version": 3
   },
   "file_extension": ".py",
   "mimetype": "text/x-python",
   "name": "python",
   "nbconvert_exporter": "python",
   "pygments_lexer": "ipython3",
   "version": "3.10.12"
  },
  "papermill": {
   "duration": 1.532506,
   "end_time": "2023-10-01T13:50:23.633773",
   "exception": null,
   "input_path": "/tmp/tmph7glx51r.ipynb",
   "output_path": "/home/luiscberrocal/PycharmProjects/hacktoberfest-2023/kaggle/products/cleanup.ipynb",
   "parameters": {
    "product": {
     "nb": "/home/luiscberrocal/PycharmProjects/hacktoberfest-2023/kaggle/products/cleanup.ipynb"
    },
    "upstream": {
     "01-get": {
      "csv_file": "/home/luiscberrocal/PycharmProjects/hacktoberfest-2023/kaggle/data/house_prices.csv",
      "nb": "/home/luiscberrocal/PycharmProjects/hacktoberfest-2023/kaggle/products/extract-pipeline.ipynb"
     }
    }
   },
   "start_time": "2023-10-01T13:50:22.101267"
  }
 },
 "nbformat": 4,
 "nbformat_minor": 5
}