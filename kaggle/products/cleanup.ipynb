{
 "cells": [
  {
   "cell_type": "code",
   "execution_count": 1,
   "id": "0b04ed94",
   "metadata": {
    "execution": {
     "iopub.execute_input": "2023-10-02T23:01:22.413953Z",
     "iopub.status.busy": "2023-10-02T23:01:22.413719Z",
     "iopub.status.idle": "2023-10-02T23:01:22.419439Z",
     "shell.execute_reply": "2023-10-02T23:01:22.419028Z"
    },
    "papermill": {
     "duration": 0.009637,
     "end_time": "2023-10-02T23:01:22.420417",
     "exception": false,
     "start_time": "2023-10-02T23:01:22.410780",
     "status": "completed"
    },
    "tags": [
     "parameters"
    ]
   },
   "outputs": [],
   "source": [
    "upstream = ['01-get']\n",
    "product = None\n",
    "\n",
    "import re"
   ]
  },
  {
   "cell_type": "code",
   "execution_count": 2,
   "id": "905a3e51",
   "metadata": {
    "execution": {
     "iopub.execute_input": "2023-10-02T23:01:22.425127Z",
     "iopub.status.busy": "2023-10-02T23:01:22.424885Z",
     "iopub.status.idle": "2023-10-02T23:01:22.427735Z",
     "shell.execute_reply": "2023-10-02T23:01:22.427233Z"
    },
    "papermill": {
     "duration": 0.006902,
     "end_time": "2023-10-02T23:01:22.429303",
     "exception": false,
     "start_time": "2023-10-02T23:01:22.422401",
     "status": "completed"
    },
    "tags": [
     "injected-parameters"
    ]
   },
   "outputs": [],
   "source": [
    "# Parameters\n",
    "upstream = {\"01-get\": {\"nb\": \"/home/luiscberrocal/PycharmProjects/hacktoberfest-2023/kaggle/products/extract-pipeline.ipynb\", \"csv_file\": \"/home/luiscberrocal/PycharmProjects/hacktoberfest-2023/kaggle/data/house_prices.csv\"}}\n",
    "product = {\"nb\": \"/home/luiscberrocal/PycharmProjects/hacktoberfest-2023/kaggle/products/cleanup.ipynb\", \"clean_csv\": \"/home/luiscberrocal/PycharmProjects/hacktoberfest-2023/kaggle/data/house_prices_clean.csv\"}\n"
   ]
  },
  {
   "cell_type": "code",
   "execution_count": 3,
   "id": "04280297",
   "metadata": {
    "execution": {
     "iopub.execute_input": "2023-10-02T23:01:22.435246Z",
     "iopub.status.busy": "2023-10-02T23:01:22.434942Z",
     "iopub.status.idle": "2023-10-02T23:01:22.747246Z",
     "shell.execute_reply": "2023-10-02T23:01:22.746764Z"
    },
    "papermill": {
     "duration": 0.316566,
     "end_time": "2023-10-02T23:01:22.748593",
     "exception": false,
     "start_time": "2023-10-02T23:01:22.432027",
     "status": "completed"
    },
    "tags": []
   },
   "outputs": [],
   "source": [
    "import pandas as pd"
   ]
  },
  {
   "cell_type": "code",
   "execution_count": 4,
   "id": "77390dfa",
   "metadata": {
    "execution": {
     "iopub.execute_input": "2023-10-02T23:01:22.761815Z",
     "iopub.status.busy": "2023-10-02T23:01:22.761488Z",
     "iopub.status.idle": "2023-10-02T23:01:22.797306Z",
     "shell.execute_reply": "2023-10-02T23:01:22.796801Z"
    },
    "papermill": {
     "duration": 0.04781,
     "end_time": "2023-10-02T23:01:22.798692",
     "exception": false,
     "start_time": "2023-10-02T23:01:22.750882",
     "status": "completed"
    },
    "tags": []
   },
   "outputs": [],
   "source": [
    "df = pd.read_csv(upstream['01-get']['csv_file'])"
   ]
  },
  {
   "cell_type": "code",
   "execution_count": 5,
   "id": "93b9ed03",
   "metadata": {
    "execution": {
     "iopub.execute_input": "2023-10-02T23:01:22.804065Z",
     "iopub.status.busy": "2023-10-02T23:01:22.803744Z",
     "iopub.status.idle": "2023-10-02T23:01:22.814357Z",
     "shell.execute_reply": "2023-10-02T23:01:22.813800Z"
    },
    "papermill": {
     "duration": 0.014611,
     "end_time": "2023-10-02T23:01:22.815452",
     "exception": false,
     "start_time": "2023-10-02T23:01:22.800841",
     "status": "completed"
    },
    "tags": []
   },
   "outputs": [
    {
     "name": "stdout",
     "output_type": "stream",
     "text": [
      "<class 'pandas.core.frame.DataFrame'>\n",
      "RangeIndex: 29451 entries, 0 to 29450\n",
      "Data columns (total 12 columns):\n",
      " #   Column                 Non-Null Count  Dtype  \n",
      "---  ------                 --------------  -----  \n",
      " 0   POSTED_BY              29451 non-null  object \n",
      " 1   UNDER_CONSTRUCTION     29451 non-null  int64  \n",
      " 2   RERA                   29451 non-null  int64  \n",
      " 3   BHK_NO.                29451 non-null  int64  \n",
      " 4   BHK_OR_RK              29451 non-null  object \n",
      " 5   SQUARE_FT              29451 non-null  float64\n",
      " 6   READY_TO_MOVE          29451 non-null  int64  \n",
      " 7   RESALE                 29451 non-null  int64  \n",
      " 8   ADDRESS                29451 non-null  object \n",
      " 9   LONGITUDE              29451 non-null  float64\n",
      " 10  LATITUDE               29451 non-null  float64\n",
      " 11  TARGET(PRICE_IN_LACS)  29451 non-null  float64\n",
      "dtypes: float64(4), int64(5), object(3)\n",
      "memory usage: 2.7+ MB\n"
     ]
    }
   ],
   "source": [
    "df.info()"
   ]
  },
  {
   "cell_type": "code",
   "execution_count": 6,
   "id": "a4ccee16",
   "metadata": {
    "execution": {
     "iopub.execute_input": "2023-10-02T23:01:22.820723Z",
     "iopub.status.busy": "2023-10-02T23:01:22.820299Z",
     "iopub.status.idle": "2023-10-02T23:01:22.831622Z",
     "shell.execute_reply": "2023-10-02T23:01:22.831136Z"
    },
    "papermill": {
     "duration": 0.015188,
     "end_time": "2023-10-02T23:01:22.832725",
     "exception": false,
     "start_time": "2023-10-02T23:01:22.817537",
     "status": "completed"
    },
    "tags": []
   },
   "outputs": [
    {
     "data": {
      "text/plain": [
       "POSTED_BY                0\n",
       "UNDER_CONSTRUCTION       0\n",
       "RERA                     0\n",
       "BHK_NO.                  0\n",
       "BHK_OR_RK                0\n",
       "SQUARE_FT                0\n",
       "READY_TO_MOVE            0\n",
       "RESALE                   0\n",
       "ADDRESS                  0\n",
       "LONGITUDE                0\n",
       "LATITUDE                 0\n",
       "TARGET(PRICE_IN_LACS)    0\n",
       "dtype: int64"
      ]
     },
     "execution_count": 6,
     "metadata": {},
     "output_type": "execute_result"
    }
   ],
   "source": [
    "df.isna().sum()"
   ]
  },
  {
   "cell_type": "code",
   "execution_count": 7,
   "id": "0809e7f7",
   "metadata": {
    "execution": {
     "iopub.execute_input": "2023-10-02T23:01:22.838080Z",
     "iopub.status.busy": "2023-10-02T23:01:22.837610Z",
     "iopub.status.idle": "2023-10-02T23:01:22.851194Z",
     "shell.execute_reply": "2023-10-02T23:01:22.850679Z"
    },
    "lines_to_next_cell": 0,
    "papermill": {
     "duration": 0.017584,
     "end_time": "2023-10-02T23:01:22.852365",
     "exception": false,
     "start_time": "2023-10-02T23:01:22.834781",
     "status": "completed"
    },
    "tags": []
   },
   "outputs": [
    {
     "name": "stdout",
     "output_type": "stream",
     "text": [
      "<class 'pandas.core.frame.DataFrame'>\n",
      "RangeIndex: 29451 entries, 0 to 29450\n",
      "Data columns (total 12 columns):\n",
      " #   Column               Non-Null Count  Dtype  \n",
      "---  ------               --------------  -----  \n",
      " 0   posted_by            29451 non-null  object \n",
      " 1   under_construction   29451 non-null  int64  \n",
      " 2   rera                 29451 non-null  int64  \n",
      " 3   bhk_no               29451 non-null  int64  \n",
      " 4   bhk_or_rk            29451 non-null  object \n",
      " 5   square_ft            29451 non-null  float64\n",
      " 6   ready_to_move        29451 non-null  int64  \n",
      " 7   resale               29451 non-null  int64  \n",
      " 8   address              29451 non-null  object \n",
      " 9   longitude            29451 non-null  float64\n",
      " 10  latitude             29451 non-null  float64\n",
      " 11  targetprice_in_lacs  29451 non-null  float64\n",
      "dtypes: float64(4), int64(5), object(3)\n",
      "memory usage: 2.7+ MB\n"
     ]
    }
   ],
   "source": [
    "# Rename columns to snake case\n",
    "renamed_mapping = {}\n",
    "for c in df.columns:\n",
    "    new_c_name = re.sub('[^0-9a-zA-Z_]+', '', c)\n",
    "    renamed_mapping[c] = new_c_name.lower()  # .replace(' ', '_').replace('(', '').replace(')', '')\n",
    "renamed_mapping['targetprice_in_lacs'] = 'target_price_in_lacs'\n",
    "\n",
    "df = df.rename(columns=renamed_mapping)\n",
    "\n",
    "df.info()"
   ]
  },
  {
   "cell_type": "code",
   "execution_count": 8,
   "id": "c3e9aa15",
   "metadata": {
    "execution": {
     "iopub.execute_input": "2023-10-02T23:01:22.859210Z",
     "iopub.status.busy": "2023-10-02T23:01:22.858727Z",
     "iopub.status.idle": "2023-10-02T23:01:22.862045Z",
     "shell.execute_reply": "2023-10-02T23:01:22.861544Z"
    },
    "lines_to_next_cell": 1,
    "papermill": {
     "duration": 0.007952,
     "end_time": "2023-10-02T23:01:22.863155",
     "exception": false,
     "start_time": "2023-10-02T23:01:22.855203",
     "status": "completed"
    },
    "tags": []
   },
   "outputs": [],
   "source": [
    "# Extracting cities from address\n",
    "def get_city(value):\n",
    "    parts = value.split(',')\n",
    "    return parts[-1:][0]\n",
    "\n",
    "# Too many cities, heatmap not working.\n",
    "# df['city'] = df['address'].apply(get_city)\n",
    "\n",
    "# df['city'].value_counts()"
   ]
  },
  {
   "cell_type": "code",
   "execution_count": 9,
   "id": "c534cf88",
   "metadata": {
    "execution": {
     "iopub.execute_input": "2023-10-02T23:01:22.868978Z",
     "iopub.status.busy": "2023-10-02T23:01:22.868530Z",
     "iopub.status.idle": "2023-10-02T23:01:22.873597Z",
     "shell.execute_reply": "2023-10-02T23:01:22.873066Z"
    },
    "papermill": {
     "duration": 0.009206,
     "end_time": "2023-10-02T23:01:22.874753",
     "exception": false,
     "start_time": "2023-10-02T23:01:22.865547",
     "status": "completed"
    },
    "tags": []
   },
   "outputs": [],
   "source": [
    "df = df.drop(columns=['address'])"
   ]
  },
  {
   "cell_type": "code",
   "execution_count": 10,
   "id": "3dc9e57c",
   "metadata": {
    "execution": {
     "iopub.execute_input": "2023-10-02T23:01:22.880078Z",
     "iopub.status.busy": "2023-10-02T23:01:22.879706Z",
     "iopub.status.idle": "2023-10-02T23:01:22.886245Z",
     "shell.execute_reply": "2023-10-02T23:01:22.885749Z"
    },
    "papermill": {
     "duration": 0.010413,
     "end_time": "2023-10-02T23:01:22.887291",
     "exception": false,
     "start_time": "2023-10-02T23:01:22.876878",
     "status": "completed"
    },
    "tags": []
   },
   "outputs": [
    {
     "data": {
      "text/plain": [
       "posted_by\n",
       "Dealer     18291\n",
       "Owner      10538\n",
       "Builder      622\n",
       "Name: count, dtype: int64"
      ]
     },
     "execution_count": 10,
     "metadata": {},
     "output_type": "execute_result"
    }
   ],
   "source": [
    "df['posted_by'].value_counts()"
   ]
  },
  {
   "cell_type": "code",
   "execution_count": 11,
   "id": "947c1482",
   "metadata": {
    "execution": {
     "iopub.execute_input": "2023-10-02T23:01:22.893314Z",
     "iopub.status.busy": "2023-10-02T23:01:22.893066Z",
     "iopub.status.idle": "2023-10-02T23:01:22.899565Z",
     "shell.execute_reply": "2023-10-02T23:01:22.899055Z"
    },
    "papermill": {
     "duration": 0.011205,
     "end_time": "2023-10-02T23:01:22.901174",
     "exception": false,
     "start_time": "2023-10-02T23:01:22.889969",
     "status": "completed"
    },
    "tags": []
   },
   "outputs": [
    {
     "data": {
      "text/plain": [
       "bhk_or_rk\n",
       "BHK    29427\n",
       "RK        24\n",
       "Name: count, dtype: int64"
      ]
     },
     "execution_count": 11,
     "metadata": {},
     "output_type": "execute_result"
    }
   ],
   "source": [
    "df['bhk_or_rk'].value_counts()"
   ]
  },
  {
   "cell_type": "code",
   "execution_count": 12,
   "id": "a4da802b",
   "metadata": {
    "execution": {
     "iopub.execute_input": "2023-10-02T23:01:22.910311Z",
     "iopub.status.busy": "2023-10-02T23:01:22.910071Z",
     "iopub.status.idle": "2023-10-02T23:01:22.917909Z",
     "shell.execute_reply": "2023-10-02T23:01:22.917460Z"
    },
    "papermill": {
     "duration": 0.014092,
     "end_time": "2023-10-02T23:01:22.919466",
     "exception": false,
     "start_time": "2023-10-02T23:01:22.905374",
     "status": "completed"
    },
    "tags": []
   },
   "outputs": [],
   "source": [
    "# df = pd.get_dummies(df, columns=['posted_by', 'bhk_or_rk', 'city'])\n",
    "df = pd.get_dummies(df, columns=['posted_by', 'bhk_or_rk'])"
   ]
  },
  {
   "cell_type": "code",
   "execution_count": 13,
   "id": "e117325a",
   "metadata": {
    "execution": {
     "iopub.execute_input": "2023-10-02T23:01:22.928987Z",
     "iopub.status.busy": "2023-10-02T23:01:22.928727Z",
     "iopub.status.idle": "2023-10-02T23:01:22.938704Z",
     "shell.execute_reply": "2023-10-02T23:01:22.938281Z"
    },
    "papermill": {
     "duration": 0.016054,
     "end_time": "2023-10-02T23:01:22.939681",
     "exception": false,
     "start_time": "2023-10-02T23:01:22.923627",
     "status": "completed"
    },
    "tags": []
   },
   "outputs": [
    {
     "data": {
      "text/html": [
       "<div>\n",
       "<style scoped>\n",
       "    .dataframe tbody tr th:only-of-type {\n",
       "        vertical-align: middle;\n",
       "    }\n",
       "\n",
       "    .dataframe tbody tr th {\n",
       "        vertical-align: top;\n",
       "    }\n",
       "\n",
       "    .dataframe thead th {\n",
       "        text-align: right;\n",
       "    }\n",
       "</style>\n",
       "<table border=\"1\" class=\"dataframe\">\n",
       "  <thead>\n",
       "    <tr style=\"text-align: right;\">\n",
       "      <th></th>\n",
       "      <th>under_construction</th>\n",
       "      <th>rera</th>\n",
       "      <th>bhk_no</th>\n",
       "      <th>square_ft</th>\n",
       "      <th>ready_to_move</th>\n",
       "      <th>resale</th>\n",
       "      <th>longitude</th>\n",
       "      <th>latitude</th>\n",
       "      <th>targetprice_in_lacs</th>\n",
       "      <th>posted_by_Builder</th>\n",
       "      <th>posted_by_Dealer</th>\n",
       "      <th>posted_by_Owner</th>\n",
       "      <th>bhk_or_rk_BHK</th>\n",
       "      <th>bhk_or_rk_RK</th>\n",
       "    </tr>\n",
       "  </thead>\n",
       "  <tbody>\n",
       "    <tr>\n",
       "      <th>0</th>\n",
       "      <td>0</td>\n",
       "      <td>0</td>\n",
       "      <td>2</td>\n",
       "      <td>1300.236407</td>\n",
       "      <td>1</td>\n",
       "      <td>1</td>\n",
       "      <td>12.969910</td>\n",
       "      <td>77.597960</td>\n",
       "      <td>55.0</td>\n",
       "      <td>False</td>\n",
       "      <td>False</td>\n",
       "      <td>True</td>\n",
       "      <td>True</td>\n",
       "      <td>False</td>\n",
       "    </tr>\n",
       "    <tr>\n",
       "      <th>1</th>\n",
       "      <td>0</td>\n",
       "      <td>0</td>\n",
       "      <td>2</td>\n",
       "      <td>1275.000000</td>\n",
       "      <td>1</td>\n",
       "      <td>1</td>\n",
       "      <td>12.274538</td>\n",
       "      <td>76.644605</td>\n",
       "      <td>51.0</td>\n",
       "      <td>False</td>\n",
       "      <td>True</td>\n",
       "      <td>False</td>\n",
       "      <td>True</td>\n",
       "      <td>False</td>\n",
       "    </tr>\n",
       "    <tr>\n",
       "      <th>2</th>\n",
       "      <td>0</td>\n",
       "      <td>0</td>\n",
       "      <td>2</td>\n",
       "      <td>933.159722</td>\n",
       "      <td>1</td>\n",
       "      <td>1</td>\n",
       "      <td>12.778033</td>\n",
       "      <td>77.632191</td>\n",
       "      <td>43.0</td>\n",
       "      <td>False</td>\n",
       "      <td>False</td>\n",
       "      <td>True</td>\n",
       "      <td>True</td>\n",
       "      <td>False</td>\n",
       "    </tr>\n",
       "    <tr>\n",
       "      <th>3</th>\n",
       "      <td>0</td>\n",
       "      <td>1</td>\n",
       "      <td>2</td>\n",
       "      <td>929.921143</td>\n",
       "      <td>1</td>\n",
       "      <td>1</td>\n",
       "      <td>28.642300</td>\n",
       "      <td>77.344500</td>\n",
       "      <td>62.5</td>\n",
       "      <td>False</td>\n",
       "      <td>False</td>\n",
       "      <td>True</td>\n",
       "      <td>True</td>\n",
       "      <td>False</td>\n",
       "    </tr>\n",
       "    <tr>\n",
       "      <th>4</th>\n",
       "      <td>1</td>\n",
       "      <td>0</td>\n",
       "      <td>2</td>\n",
       "      <td>999.009247</td>\n",
       "      <td>0</td>\n",
       "      <td>1</td>\n",
       "      <td>22.592200</td>\n",
       "      <td>88.484911</td>\n",
       "      <td>60.5</td>\n",
       "      <td>False</td>\n",
       "      <td>True</td>\n",
       "      <td>False</td>\n",
       "      <td>True</td>\n",
       "      <td>False</td>\n",
       "    </tr>\n",
       "  </tbody>\n",
       "</table>\n",
       "</div>"
      ],
      "text/plain": [
       "   under_construction  rera  bhk_no    square_ft  ready_to_move  resale  \\\n",
       "0                   0     0       2  1300.236407              1       1   \n",
       "1                   0     0       2  1275.000000              1       1   \n",
       "2                   0     0       2   933.159722              1       1   \n",
       "3                   0     1       2   929.921143              1       1   \n",
       "4                   1     0       2   999.009247              0       1   \n",
       "\n",
       "   longitude   latitude  targetprice_in_lacs  posted_by_Builder  \\\n",
       "0  12.969910  77.597960                 55.0              False   \n",
       "1  12.274538  76.644605                 51.0              False   \n",
       "2  12.778033  77.632191                 43.0              False   \n",
       "3  28.642300  77.344500                 62.5              False   \n",
       "4  22.592200  88.484911                 60.5              False   \n",
       "\n",
       "   posted_by_Dealer  posted_by_Owner  bhk_or_rk_BHK  bhk_or_rk_RK  \n",
       "0             False             True           True         False  \n",
       "1              True            False           True         False  \n",
       "2             False             True           True         False  \n",
       "3             False             True           True         False  \n",
       "4              True            False           True         False  "
      ]
     },
     "execution_count": 13,
     "metadata": {},
     "output_type": "execute_result"
    }
   ],
   "source": [
    "df.head()"
   ]
  },
  {
   "cell_type": "code",
   "execution_count": 14,
   "id": "68e37208",
   "metadata": {
    "execution": {
     "iopub.execute_input": "2023-10-02T23:01:22.946329Z",
     "iopub.status.busy": "2023-10-02T23:01:22.946030Z",
     "iopub.status.idle": "2023-10-02T23:01:22.952345Z",
     "shell.execute_reply": "2023-10-02T23:01:22.951948Z"
    },
    "papermill": {
     "duration": 0.011298,
     "end_time": "2023-10-02T23:01:22.953733",
     "exception": false,
     "start_time": "2023-10-02T23:01:22.942435",
     "status": "completed"
    },
    "tags": []
   },
   "outputs": [
    {
     "name": "stdout",
     "output_type": "stream",
     "text": [
      "<class 'pandas.core.frame.DataFrame'>\n",
      "RangeIndex: 29451 entries, 0 to 29450\n",
      "Data columns (total 14 columns):\n",
      " #   Column               Non-Null Count  Dtype  \n",
      "---  ------               --------------  -----  \n",
      " 0   under_construction   29451 non-null  int64  \n",
      " 1   rera                 29451 non-null  int64  \n",
      " 2   bhk_no               29451 non-null  int64  \n",
      " 3   square_ft            29451 non-null  float64\n",
      " 4   ready_to_move        29451 non-null  int64  \n",
      " 5   resale               29451 non-null  int64  \n",
      " 6   longitude            29451 non-null  float64\n",
      " 7   latitude             29451 non-null  float64\n",
      " 8   targetprice_in_lacs  29451 non-null  float64\n",
      " 9   posted_by_Builder    29451 non-null  bool   \n",
      " 10  posted_by_Dealer     29451 non-null  bool   \n",
      " 11  posted_by_Owner      29451 non-null  bool   \n",
      " 12  bhk_or_rk_BHK        29451 non-null  bool   \n",
      " 13  bhk_or_rk_RK         29451 non-null  bool   \n",
      "dtypes: bool(5), float64(4), int64(5)\n",
      "memory usage: 2.2 MB\n"
     ]
    }
   ],
   "source": [
    "df.info()"
   ]
  },
  {
   "cell_type": "code",
   "execution_count": 15,
   "id": "b09b57a1",
   "metadata": {
    "execution": {
     "iopub.execute_input": "2023-10-02T23:01:22.964045Z",
     "iopub.status.busy": "2023-10-02T23:01:22.963802Z",
     "iopub.status.idle": "2023-10-02T23:01:22.972212Z",
     "shell.execute_reply": "2023-10-02T23:01:22.971545Z"
    },
    "papermill": {
     "duration": 0.015279,
     "end_time": "2023-10-02T23:01:22.973901",
     "exception": false,
     "start_time": "2023-10-02T23:01:22.958622",
     "status": "completed"
    },
    "tags": []
   },
   "outputs": [
    {
     "name": "stdout",
     "output_type": "stream",
     "text": [
      "posted_by_Builder bool\n",
      "posted_by_Dealer bool\n",
      "posted_by_Owner bool\n",
      "bhk_or_rk_BHK bool\n",
      "bhk_or_rk_RK bool\n",
      "<class 'pandas.core.frame.DataFrame'>\n",
      "RangeIndex: 29451 entries, 0 to 29450\n",
      "Data columns (total 14 columns):\n",
      " #   Column               Non-Null Count  Dtype  \n",
      "---  ------               --------------  -----  \n",
      " 0   under_construction   29451 non-null  int64  \n",
      " 1   rera                 29451 non-null  int64  \n",
      " 2   bhk_no               29451 non-null  int64  \n",
      " 3   square_ft            29451 non-null  float64\n",
      " 4   ready_to_move        29451 non-null  int64  \n",
      " 5   resale               29451 non-null  int64  \n",
      " 6   longitude            29451 non-null  float64\n",
      " 7   latitude             29451 non-null  float64\n",
      " 8   targetprice_in_lacs  29451 non-null  float64\n",
      " 9   posted_by_Builder    29451 non-null  int64  \n",
      " 10  posted_by_Dealer     29451 non-null  int64  \n",
      " 11  posted_by_Owner      29451 non-null  int64  \n",
      " 12  bhk_or_rk_BHK        29451 non-null  int64  \n",
      " 13  bhk_or_rk_RK         29451 non-null  int64  \n",
      "dtypes: float64(4), int64(10)\n",
      "memory usage: 3.1 MB\n"
     ]
    }
   ],
   "source": [
    "for c in df.columns:\n",
    "    if df[c].dtype == bool:\n",
    "        print(f'{c} {df[c].dtype}')\n",
    "        df[c] = df[c].astype(int)\n",
    "\n",
    "df.info()"
   ]
  },
  {
   "cell_type": "code",
   "execution_count": 16,
   "id": "c021ba6c",
   "metadata": {
    "execution": {
     "iopub.execute_input": "2023-10-02T23:01:22.984382Z",
     "iopub.status.busy": "2023-10-02T23:01:22.984148Z",
     "iopub.status.idle": "2023-10-02T23:01:22.986518Z",
     "shell.execute_reply": "2023-10-02T23:01:22.986099Z"
    },
    "lines_to_next_cell": 0,
    "papermill": {
     "duration": 0.009164,
     "end_time": "2023-10-02T23:01:22.987870",
     "exception": false,
     "start_time": "2023-10-02T23:01:22.978706",
     "status": "completed"
    },
    "tags": []
   },
   "outputs": [],
   "source": [
    "# 1. hot shoe encoding\n",
    "# 2. Drop encoded columns\n",
    "# 3. Extract city\n",
    "# 4."
   ]
  },
  {
   "cell_type": "code",
   "execution_count": 17,
   "id": "0189d322",
   "metadata": {
    "execution": {
     "iopub.execute_input": "2023-10-02T23:01:22.999120Z",
     "iopub.status.busy": "2023-10-02T23:01:22.998700Z",
     "iopub.status.idle": "2023-10-02T23:01:23.110024Z",
     "shell.execute_reply": "2023-10-02T23:01:23.109398Z"
    },
    "papermill": {
     "duration": 0.118518,
     "end_time": "2023-10-02T23:01:23.111446",
     "exception": false,
     "start_time": "2023-10-02T23:01:22.992928",
     "status": "completed"
    },
    "tags": []
   },
   "outputs": [],
   "source": [
    "\n",
    "df.to_csv(product['clean_csv'], index=False)"
   ]
  }
 ],
 "metadata": {
  "jupytext": {
   "cell_metadata_filter": "tags,-all",
   "main_language": "python",
   "notebook_metadata_filter": "-all",
   "text_representation": {
    "extension": ".py",
    "format_name": "percent"
   }
  },
  "kernelspec": {
   "display_name": "Python 3 (ipykernel)",
   "language": "python",
   "name": "python3"
  },
  "language_info": {
   "codemirror_mode": {
    "name": "ipython",
    "version": 3
   },
   "file_extension": ".py",
   "mimetype": "text/x-python",
   "name": "python",
   "nbconvert_exporter": "python",
   "pygments_lexer": "ipython3",
   "version": "3.10.12"
  },
  "papermill": {
   "duration": 1.78038,
   "end_time": "2023-10-02T23:01:23.330588",
   "exception": null,
   "input_path": "/tmp/tmphet82a96.ipynb",
   "output_path": "/home/luiscberrocal/PycharmProjects/hacktoberfest-2023/kaggle/products/cleanup.ipynb",
   "parameters": {
    "product": {
     "clean_csv": "/home/luiscberrocal/PycharmProjects/hacktoberfest-2023/kaggle/data/house_prices_clean.csv",
     "nb": "/home/luiscberrocal/PycharmProjects/hacktoberfest-2023/kaggle/products/cleanup.ipynb"
    },
    "upstream": {
     "01-get": {
      "csv_file": "/home/luiscberrocal/PycharmProjects/hacktoberfest-2023/kaggle/data/house_prices.csv",
      "nb": "/home/luiscberrocal/PycharmProjects/hacktoberfest-2023/kaggle/products/extract-pipeline.ipynb"
     }
    }
   },
   "start_time": "2023-10-02T23:01:21.550208"
  }
 },
 "nbformat": 4,
 "nbformat_minor": 5
}