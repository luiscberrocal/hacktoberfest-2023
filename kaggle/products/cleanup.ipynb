{
 "cells": [
  {
   "cell_type": "code",
   "execution_count": 1,
   "id": "2d8d9336",
   "metadata": {
    "execution": {
     "iopub.execute_input": "2023-10-02T15:57:44.621041Z",
     "iopub.status.busy": "2023-10-02T15:57:44.620511Z",
     "iopub.status.idle": "2023-10-02T15:57:44.627402Z",
     "shell.execute_reply": "2023-10-02T15:57:44.626857Z"
    },
    "papermill": {
     "duration": 0.012359,
     "end_time": "2023-10-02T15:57:44.628862",
     "exception": false,
     "start_time": "2023-10-02T15:57:44.616503",
     "status": "completed"
    },
    "tags": [
     "parameters"
    ]
   },
   "outputs": [],
   "source": [
    "upstream = ['01-get']\n",
    "product = None\n",
    "\n",
    "import re"
   ]
  },
  {
   "cell_type": "code",
   "execution_count": 2,
   "id": "2b909a02",
   "metadata": {
    "execution": {
     "iopub.execute_input": "2023-10-02T15:57:44.635792Z",
     "iopub.status.busy": "2023-10-02T15:57:44.635277Z",
     "iopub.status.idle": "2023-10-02T15:57:44.638355Z",
     "shell.execute_reply": "2023-10-02T15:57:44.637843Z"
    },
    "papermill": {
     "duration": 0.007651,
     "end_time": "2023-10-02T15:57:44.639516",
     "exception": false,
     "start_time": "2023-10-02T15:57:44.631865",
     "status": "completed"
    },
    "tags": [
     "injected-parameters"
    ]
   },
   "outputs": [],
   "source": [
    "# Parameters\n",
    "upstream = {\"01-get\": {\"nb\": \"/home/luiscberrocal/PycharmProjects/hacktoberfest-2023/kaggle/products/extract-pipeline.ipynb\", \"csv_file\": \"/home/luiscberrocal/PycharmProjects/hacktoberfest-2023/kaggle/data/house_prices.csv\"}}\n",
    "product = {\"nb\": \"/home/luiscberrocal/PycharmProjects/hacktoberfest-2023/kaggle/products/cleanup.ipynb\", \"clean_csv\": \"/home/luiscberrocal/PycharmProjects/hacktoberfest-2023/kaggle/data/house_prices_clean.csv\"}\n"
   ]
  },
  {
   "cell_type": "code",
   "execution_count": 3,
   "id": "9d672c26",
   "metadata": {
    "execution": {
     "iopub.execute_input": "2023-10-02T15:57:44.644808Z",
     "iopub.status.busy": "2023-10-02T15:57:44.644540Z",
     "iopub.status.idle": "2023-10-02T15:57:44.926919Z",
     "shell.execute_reply": "2023-10-02T15:57:44.926345Z"
    },
    "papermill": {
     "duration": 0.286629,
     "end_time": "2023-10-02T15:57:44.928282",
     "exception": false,
     "start_time": "2023-10-02T15:57:44.641653",
     "status": "completed"
    },
    "tags": []
   },
   "outputs": [],
   "source": [
    "import pandas as pd"
   ]
  },
  {
   "cell_type": "code",
   "execution_count": 4,
   "id": "371fb058",
   "metadata": {
    "execution": {
     "iopub.execute_input": "2023-10-02T15:57:44.938481Z",
     "iopub.status.busy": "2023-10-02T15:57:44.938240Z",
     "iopub.status.idle": "2023-10-02T15:57:44.968474Z",
     "shell.execute_reply": "2023-10-02T15:57:44.967880Z"
    },
    "papermill": {
     "duration": 0.039376,
     "end_time": "2023-10-02T15:57:44.969804",
     "exception": false,
     "start_time": "2023-10-02T15:57:44.930428",
     "status": "completed"
    },
    "tags": []
   },
   "outputs": [],
   "source": [
    "df = pd.read_csv(upstream['01-get']['csv_file'])"
   ]
  },
  {
   "cell_type": "code",
   "execution_count": 5,
   "id": "672c6660",
   "metadata": {
    "execution": {
     "iopub.execute_input": "2023-10-02T15:57:44.974733Z",
     "iopub.status.busy": "2023-10-02T15:57:44.974553Z",
     "iopub.status.idle": "2023-10-02T15:57:44.983781Z",
     "shell.execute_reply": "2023-10-02T15:57:44.983282Z"
    },
    "papermill": {
     "duration": 0.013038,
     "end_time": "2023-10-02T15:57:44.984924",
     "exception": false,
     "start_time": "2023-10-02T15:57:44.971886",
     "status": "completed"
    },
    "tags": []
   },
   "outputs": [
    {
     "name": "stdout",
     "output_type": "stream",
     "text": [
      "<class 'pandas.core.frame.DataFrame'>\n",
      "RangeIndex: 29451 entries, 0 to 29450\n",
      "Data columns (total 12 columns):\n",
      " #   Column                 Non-Null Count  Dtype  \n",
      "---  ------                 --------------  -----  \n",
      " 0   POSTED_BY              29451 non-null  object \n",
      " 1   UNDER_CONSTRUCTION     29451 non-null  int64  \n",
      " 2   RERA                   29451 non-null  int64  \n",
      " 3   BHK_NO.                29451 non-null  int64  \n",
      " 4   BHK_OR_RK              29451 non-null  object \n",
      " 5   SQUARE_FT              29451 non-null  float64\n",
      " 6   READY_TO_MOVE          29451 non-null  int64  \n",
      " 7   RESALE                 29451 non-null  int64  \n",
      " 8   ADDRESS                29451 non-null  object \n",
      " 9   LONGITUDE              29451 non-null  float64\n",
      " 10  LATITUDE               29451 non-null  float64\n",
      " 11  TARGET(PRICE_IN_LACS)  29451 non-null  float64\n",
      "dtypes: float64(4), int64(5), object(3)\n",
      "memory usage: 2.7+ MB\n"
     ]
    }
   ],
   "source": [
    "df.info()"
   ]
  },
  {
   "cell_type": "code",
   "execution_count": 6,
   "id": "5d921b8e",
   "metadata": {
    "execution": {
     "iopub.execute_input": "2023-10-02T15:57:44.989942Z",
     "iopub.status.busy": "2023-10-02T15:57:44.989769Z",
     "iopub.status.idle": "2023-10-02T15:57:44.997937Z",
     "shell.execute_reply": "2023-10-02T15:57:44.997362Z"
    },
    "papermill": {
     "duration": 0.011948,
     "end_time": "2023-10-02T15:57:44.999041",
     "exception": false,
     "start_time": "2023-10-02T15:57:44.987093",
     "status": "completed"
    },
    "tags": []
   },
   "outputs": [
    {
     "data": {
      "text/plain": [
       "POSTED_BY                0\n",
       "UNDER_CONSTRUCTION       0\n",
       "RERA                     0\n",
       "BHK_NO.                  0\n",
       "BHK_OR_RK                0\n",
       "SQUARE_FT                0\n",
       "READY_TO_MOVE            0\n",
       "RESALE                   0\n",
       "ADDRESS                  0\n",
       "LONGITUDE                0\n",
       "LATITUDE                 0\n",
       "TARGET(PRICE_IN_LACS)    0\n",
       "dtype: int64"
      ]
     },
     "execution_count": 6,
     "metadata": {},
     "output_type": "execute_result"
    }
   ],
   "source": [
    "df.isna().sum()"
   ]
  },
  {
   "cell_type": "code",
   "execution_count": 7,
   "id": "7bf55df4",
   "metadata": {
    "execution": {
     "iopub.execute_input": "2023-10-02T15:57:45.004175Z",
     "iopub.status.busy": "2023-10-02T15:57:45.003991Z",
     "iopub.status.idle": "2023-10-02T15:57:45.013635Z",
     "shell.execute_reply": "2023-10-02T15:57:45.013155Z"
    },
    "lines_to_next_cell": 0,
    "papermill": {
     "duration": 0.01351,
     "end_time": "2023-10-02T15:57:45.014753",
     "exception": false,
     "start_time": "2023-10-02T15:57:45.001243",
     "status": "completed"
    },
    "tags": []
   },
   "outputs": [
    {
     "name": "stdout",
     "output_type": "stream",
     "text": [
      "<class 'pandas.core.frame.DataFrame'>\n",
      "RangeIndex: 29451 entries, 0 to 29450\n",
      "Data columns (total 12 columns):\n",
      " #   Column               Non-Null Count  Dtype  \n",
      "---  ------               --------------  -----  \n",
      " 0   posted_by            29451 non-null  object \n",
      " 1   under_construction   29451 non-null  int64  \n",
      " 2   rera                 29451 non-null  int64  \n",
      " 3   bhk_no               29451 non-null  int64  \n",
      " 4   bhk_or_rk            29451 non-null  object \n",
      " 5   square_ft            29451 non-null  float64\n",
      " 6   ready_to_move        29451 non-null  int64  \n",
      " 7   resale               29451 non-null  int64  \n",
      " 8   address              29451 non-null  object \n",
      " 9   longitude            29451 non-null  float64\n",
      " 10  latitude             29451 non-null  float64\n",
      " 11  targetprice_in_lacs  29451 non-null  float64\n",
      "dtypes: float64(4), int64(5), object(3)\n",
      "memory usage: 2.7+ MB\n"
     ]
    }
   ],
   "source": [
    "# Rename columns to snake case\n",
    "renamed_mapping = {}\n",
    "for c in df.columns:\n",
    "    new_c_name = re.sub('[^0-9a-zA-Z_]+', '', c)\n",
    "    renamed_mapping[c] = new_c_name.lower()  # .replace(' ', '_').replace('(', '').replace(')', '')\n",
    "renamed_mapping['targetprice_in_lacs'] = 'target_price_in_lacs'\n",
    "\n",
    "df = df.rename(columns=renamed_mapping)\n",
    "\n",
    "df.info()"
   ]
  },
  {
   "cell_type": "code",
   "execution_count": 8,
   "id": "3422f929",
   "metadata": {
    "execution": {
     "iopub.execute_input": "2023-10-02T15:57:45.020130Z",
     "iopub.status.busy": "2023-10-02T15:57:45.019951Z",
     "iopub.status.idle": "2023-10-02T15:57:45.022866Z",
     "shell.execute_reply": "2023-10-02T15:57:45.022259Z"
    },
    "lines_to_next_cell": 1,
    "papermill": {
     "duration": 0.006916,
     "end_time": "2023-10-02T15:57:45.023952",
     "exception": false,
     "start_time": "2023-10-02T15:57:45.017036",
     "status": "completed"
    },
    "tags": []
   },
   "outputs": [],
   "source": [
    "# Extracting cities from address\n",
    "def get_city(value):\n",
    "    parts = value.split(',')\n",
    "    return parts[-1:][0]\n",
    "\n",
    "# Too many cities, heatmap not working.\n",
    "# df['city'] = df['address'].apply(get_city)\n",
    "\n",
    "# df['city'].value_counts()"
   ]
  },
  {
   "cell_type": "code",
   "execution_count": 9,
   "id": "012b5e22",
   "metadata": {
    "execution": {
     "iopub.execute_input": "2023-10-02T15:57:45.029218Z",
     "iopub.status.busy": "2023-10-02T15:57:45.029023Z",
     "iopub.status.idle": "2023-10-02T15:57:45.032895Z",
     "shell.execute_reply": "2023-10-02T15:57:45.032356Z"
    },
    "papermill": {
     "duration": 0.007774,
     "end_time": "2023-10-02T15:57:45.033981",
     "exception": false,
     "start_time": "2023-10-02T15:57:45.026207",
     "status": "completed"
    },
    "tags": []
   },
   "outputs": [],
   "source": [
    "df = df.drop(columns=['address'])"
   ]
  },
  {
   "cell_type": "code",
   "execution_count": 10,
   "id": "91bf699d",
   "metadata": {
    "execution": {
     "iopub.execute_input": "2023-10-02T15:57:45.040335Z",
     "iopub.status.busy": "2023-10-02T15:57:45.040048Z",
     "iopub.status.idle": "2023-10-02T15:57:45.045713Z",
     "shell.execute_reply": "2023-10-02T15:57:45.045216Z"
    },
    "papermill": {
     "duration": 0.010432,
     "end_time": "2023-10-02T15:57:45.046834",
     "exception": false,
     "start_time": "2023-10-02T15:57:45.036402",
     "status": "completed"
    },
    "tags": []
   },
   "outputs": [
    {
     "data": {
      "text/plain": [
       "posted_by\n",
       "Dealer     18291\n",
       "Owner      10538\n",
       "Builder      622\n",
       "Name: count, dtype: int64"
      ]
     },
     "execution_count": 10,
     "metadata": {},
     "output_type": "execute_result"
    }
   ],
   "source": [
    "df['posted_by'].value_counts()"
   ]
  },
  {
   "cell_type": "code",
   "execution_count": 11,
   "id": "6c244ce4",
   "metadata": {
    "execution": {
     "iopub.execute_input": "2023-10-02T15:57:45.052384Z",
     "iopub.status.busy": "2023-10-02T15:57:45.052217Z",
     "iopub.status.idle": "2023-10-02T15:57:45.057545Z",
     "shell.execute_reply": "2023-10-02T15:57:45.057047Z"
    },
    "papermill": {
     "duration": 0.009979,
     "end_time": "2023-10-02T15:57:45.059295",
     "exception": false,
     "start_time": "2023-10-02T15:57:45.049316",
     "status": "completed"
    },
    "tags": []
   },
   "outputs": [
    {
     "data": {
      "text/plain": [
       "bhk_or_rk\n",
       "BHK    29427\n",
       "RK        24\n",
       "Name: count, dtype: int64"
      ]
     },
     "execution_count": 11,
     "metadata": {},
     "output_type": "execute_result"
    }
   ],
   "source": [
    "df['bhk_or_rk'].value_counts()"
   ]
  },
  {
   "cell_type": "code",
   "execution_count": 12,
   "id": "dcb74b3b",
   "metadata": {
    "execution": {
     "iopub.execute_input": "2023-10-02T15:57:45.068094Z",
     "iopub.status.busy": "2023-10-02T15:57:45.067896Z",
     "iopub.status.idle": "2023-10-02T15:57:45.075256Z",
     "shell.execute_reply": "2023-10-02T15:57:45.074764Z"
    },
    "papermill": {
     "duration": 0.012618,
     "end_time": "2023-10-02T15:57:45.076552",
     "exception": false,
     "start_time": "2023-10-02T15:57:45.063934",
     "status": "completed"
    },
    "tags": []
   },
   "outputs": [],
   "source": [
    "# df = pd.get_dummies(df, columns=['posted_by', 'bhk_or_rk', 'city'])\n",
    "df = pd.get_dummies(df, columns=['posted_by', 'bhk_or_rk'])"
   ]
  },
  {
   "cell_type": "code",
   "execution_count": 13,
   "id": "eed89f9f",
   "metadata": {
    "execution": {
     "iopub.execute_input": "2023-10-02T15:57:45.082727Z",
     "iopub.status.busy": "2023-10-02T15:57:45.082545Z",
     "iopub.status.idle": "2023-10-02T15:57:45.093127Z",
     "shell.execute_reply": "2023-10-02T15:57:45.092617Z"
    },
    "papermill": {
     "duration": 0.015136,
     "end_time": "2023-10-02T15:57:45.094306",
     "exception": false,
     "start_time": "2023-10-02T15:57:45.079170",
     "status": "completed"
    },
    "tags": []
   },
   "outputs": [
    {
     "data": {
      "text/html": [
       "<div>\n",
       "<style scoped>\n",
       "    .dataframe tbody tr th:only-of-type {\n",
       "        vertical-align: middle;\n",
       "    }\n",
       "\n",
       "    .dataframe tbody tr th {\n",
       "        vertical-align: top;\n",
       "    }\n",
       "\n",
       "    .dataframe thead th {\n",
       "        text-align: right;\n",
       "    }\n",
       "</style>\n",
       "<table border=\"1\" class=\"dataframe\">\n",
       "  <thead>\n",
       "    <tr style=\"text-align: right;\">\n",
       "      <th></th>\n",
       "      <th>under_construction</th>\n",
       "      <th>rera</th>\n",
       "      <th>bhk_no</th>\n",
       "      <th>square_ft</th>\n",
       "      <th>ready_to_move</th>\n",
       "      <th>resale</th>\n",
       "      <th>longitude</th>\n",
       "      <th>latitude</th>\n",
       "      <th>targetprice_in_lacs</th>\n",
       "      <th>posted_by_Builder</th>\n",
       "      <th>posted_by_Dealer</th>\n",
       "      <th>posted_by_Owner</th>\n",
       "      <th>bhk_or_rk_BHK</th>\n",
       "      <th>bhk_or_rk_RK</th>\n",
       "    </tr>\n",
       "  </thead>\n",
       "  <tbody>\n",
       "    <tr>\n",
       "      <th>0</th>\n",
       "      <td>0</td>\n",
       "      <td>0</td>\n",
       "      <td>2</td>\n",
       "      <td>1300.236407</td>\n",
       "      <td>1</td>\n",
       "      <td>1</td>\n",
       "      <td>12.969910</td>\n",
       "      <td>77.597960</td>\n",
       "      <td>55.0</td>\n",
       "      <td>False</td>\n",
       "      <td>False</td>\n",
       "      <td>True</td>\n",
       "      <td>True</td>\n",
       "      <td>False</td>\n",
       "    </tr>\n",
       "    <tr>\n",
       "      <th>1</th>\n",
       "      <td>0</td>\n",
       "      <td>0</td>\n",
       "      <td>2</td>\n",
       "      <td>1275.000000</td>\n",
       "      <td>1</td>\n",
       "      <td>1</td>\n",
       "      <td>12.274538</td>\n",
       "      <td>76.644605</td>\n",
       "      <td>51.0</td>\n",
       "      <td>False</td>\n",
       "      <td>True</td>\n",
       "      <td>False</td>\n",
       "      <td>True</td>\n",
       "      <td>False</td>\n",
       "    </tr>\n",
       "    <tr>\n",
       "      <th>2</th>\n",
       "      <td>0</td>\n",
       "      <td>0</td>\n",
       "      <td>2</td>\n",
       "      <td>933.159722</td>\n",
       "      <td>1</td>\n",
       "      <td>1</td>\n",
       "      <td>12.778033</td>\n",
       "      <td>77.632191</td>\n",
       "      <td>43.0</td>\n",
       "      <td>False</td>\n",
       "      <td>False</td>\n",
       "      <td>True</td>\n",
       "      <td>True</td>\n",
       "      <td>False</td>\n",
       "    </tr>\n",
       "    <tr>\n",
       "      <th>3</th>\n",
       "      <td>0</td>\n",
       "      <td>1</td>\n",
       "      <td>2</td>\n",
       "      <td>929.921143</td>\n",
       "      <td>1</td>\n",
       "      <td>1</td>\n",
       "      <td>28.642300</td>\n",
       "      <td>77.344500</td>\n",
       "      <td>62.5</td>\n",
       "      <td>False</td>\n",
       "      <td>False</td>\n",
       "      <td>True</td>\n",
       "      <td>True</td>\n",
       "      <td>False</td>\n",
       "    </tr>\n",
       "    <tr>\n",
       "      <th>4</th>\n",
       "      <td>1</td>\n",
       "      <td>0</td>\n",
       "      <td>2</td>\n",
       "      <td>999.009247</td>\n",
       "      <td>0</td>\n",
       "      <td>1</td>\n",
       "      <td>22.592200</td>\n",
       "      <td>88.484911</td>\n",
       "      <td>60.5</td>\n",
       "      <td>False</td>\n",
       "      <td>True</td>\n",
       "      <td>False</td>\n",
       "      <td>True</td>\n",
       "      <td>False</td>\n",
       "    </tr>\n",
       "  </tbody>\n",
       "</table>\n",
       "</div>"
      ],
      "text/plain": [
       "   under_construction  rera  bhk_no    square_ft  ready_to_move  resale  \\\n",
       "0                   0     0       2  1300.236407              1       1   \n",
       "1                   0     0       2  1275.000000              1       1   \n",
       "2                   0     0       2   933.159722              1       1   \n",
       "3                   0     1       2   929.921143              1       1   \n",
       "4                   1     0       2   999.009247              0       1   \n",
       "\n",
       "   longitude   latitude  targetprice_in_lacs  posted_by_Builder  \\\n",
       "0  12.969910  77.597960                 55.0              False   \n",
       "1  12.274538  76.644605                 51.0              False   \n",
       "2  12.778033  77.632191                 43.0              False   \n",
       "3  28.642300  77.344500                 62.5              False   \n",
       "4  22.592200  88.484911                 60.5              False   \n",
       "\n",
       "   posted_by_Dealer  posted_by_Owner  bhk_or_rk_BHK  bhk_or_rk_RK  \n",
       "0             False             True           True         False  \n",
       "1              True            False           True         False  \n",
       "2             False             True           True         False  \n",
       "3             False             True           True         False  \n",
       "4              True            False           True         False  "
      ]
     },
     "execution_count": 13,
     "metadata": {},
     "output_type": "execute_result"
    }
   ],
   "source": [
    "df.head()"
   ]
  },
  {
   "cell_type": "code",
   "execution_count": 14,
   "id": "293b5a5c",
   "metadata": {
    "execution": {
     "iopub.execute_input": "2023-10-02T15:57:45.100716Z",
     "iopub.status.busy": "2023-10-02T15:57:45.100537Z",
     "iopub.status.idle": "2023-10-02T15:57:45.107094Z",
     "shell.execute_reply": "2023-10-02T15:57:45.106477Z"
    },
    "papermill": {
     "duration": 0.011224,
     "end_time": "2023-10-02T15:57:45.108329",
     "exception": false,
     "start_time": "2023-10-02T15:57:45.097105",
     "status": "completed"
    },
    "tags": []
   },
   "outputs": [
    {
     "name": "stdout",
     "output_type": "stream",
     "text": [
      "<class 'pandas.core.frame.DataFrame'>\n",
      "RangeIndex: 29451 entries, 0 to 29450\n",
      "Data columns (total 14 columns):\n",
      " #   Column               Non-Null Count  Dtype  \n",
      "---  ------               --------------  -----  \n",
      " 0   under_construction   29451 non-null  int64  \n",
      " 1   rera                 29451 non-null  int64  \n",
      " 2   bhk_no               29451 non-null  int64  \n",
      " 3   square_ft            29451 non-null  float64\n",
      " 4   ready_to_move        29451 non-null  int64  \n",
      " 5   resale               29451 non-null  int64  \n",
      " 6   longitude            29451 non-null  float64\n",
      " 7   latitude             29451 non-null  float64\n",
      " 8   targetprice_in_lacs  29451 non-null  float64\n",
      " 9   posted_by_Builder    29451 non-null  bool   \n",
      " 10  posted_by_Dealer     29451 non-null  bool   \n",
      " 11  posted_by_Owner      29451 non-null  bool   \n",
      " 12  bhk_or_rk_BHK        29451 non-null  bool   \n",
      " 13  bhk_or_rk_RK         29451 non-null  bool   \n",
      "dtypes: bool(5), float64(4), int64(5)\n",
      "memory usage: 2.2 MB\n"
     ]
    }
   ],
   "source": [
    "df.info()"
   ]
  },
  {
   "cell_type": "code",
   "execution_count": 15,
   "id": "6c08c12c",
   "metadata": {
    "execution": {
     "iopub.execute_input": "2023-10-02T15:57:45.115420Z",
     "iopub.status.busy": "2023-10-02T15:57:45.114819Z",
     "iopub.status.idle": "2023-10-02T15:57:45.123179Z",
     "shell.execute_reply": "2023-10-02T15:57:45.122624Z"
    },
    "papermill": {
     "duration": 0.013098,
     "end_time": "2023-10-02T15:57:45.124406",
     "exception": false,
     "start_time": "2023-10-02T15:57:45.111308",
     "status": "completed"
    },
    "tags": []
   },
   "outputs": [
    {
     "name": "stdout",
     "output_type": "stream",
     "text": [
      "posted_by_Builder bool\n",
      "posted_by_Dealer bool\n",
      "posted_by_Owner bool\n",
      "bhk_or_rk_BHK bool\n",
      "bhk_or_rk_RK bool\n",
      "<class 'pandas.core.frame.DataFrame'>\n",
      "RangeIndex: 29451 entries, 0 to 29450\n",
      "Data columns (total 14 columns):\n",
      " #   Column               Non-Null Count  Dtype  \n",
      "---  ------               --------------  -----  \n",
      " 0   under_construction   29451 non-null  int64  \n",
      " 1   rera                 29451 non-null  int64  \n",
      " 2   bhk_no               29451 non-null  int64  \n",
      " 3   square_ft            29451 non-null  float64\n",
      " 4   ready_to_move        29451 non-null  int64  \n",
      " 5   resale               29451 non-null  int64  \n",
      " 6   longitude            29451 non-null  float64\n",
      " 7   latitude             29451 non-null  float64\n",
      " 8   targetprice_in_lacs  29451 non-null  float64\n",
      " 9   posted_by_Builder    29451 non-null  int64  \n",
      " 10  posted_by_Dealer     29451 non-null  int64  \n",
      " 11  posted_by_Owner      29451 non-null  int64  \n",
      " 12  bhk_or_rk_BHK        29451 non-null  int64  \n",
      " 13  bhk_or_rk_RK         29451 non-null  int64  \n",
      "dtypes: float64(4), int64(10)\n",
      "memory usage: 3.1 MB\n"
     ]
    }
   ],
   "source": [
    "for c in df.columns:\n",
    "    if df[c].dtype == bool:\n",
    "        print(f'{c} {df[c].dtype}')\n",
    "        df[c] = df[c].astype(int)\n",
    "\n",
    "df.info()"
   ]
  },
  {
   "cell_type": "code",
   "execution_count": 16,
   "id": "c3e84917",
   "metadata": {
    "execution": {
     "iopub.execute_input": "2023-10-02T15:57:45.130999Z",
     "iopub.status.busy": "2023-10-02T15:57:45.130822Z",
     "iopub.status.idle": "2023-10-02T15:57:45.133101Z",
     "shell.execute_reply": "2023-10-02T15:57:45.132688Z"
    },
    "lines_to_next_cell": 0,
    "papermill": {
     "duration": 0.00687,
     "end_time": "2023-10-02T15:57:45.134252",
     "exception": false,
     "start_time": "2023-10-02T15:57:45.127382",
     "status": "completed"
    },
    "tags": []
   },
   "outputs": [],
   "source": [
    "# 1. hot shoe encoding\n",
    "# 2. Drop encoded columns\n",
    "# 3. Extract city\n",
    "# 4."
   ]
  },
  {
   "cell_type": "code",
   "execution_count": 17,
   "id": "6a65fd18",
   "metadata": {
    "execution": {
     "iopub.execute_input": "2023-10-02T15:57:45.140887Z",
     "iopub.status.busy": "2023-10-02T15:57:45.140725Z",
     "iopub.status.idle": "2023-10-02T15:57:45.236811Z",
     "shell.execute_reply": "2023-10-02T15:57:45.236285Z"
    },
    "papermill": {
     "duration": 0.100778,
     "end_time": "2023-10-02T15:57:45.238057",
     "exception": false,
     "start_time": "2023-10-02T15:57:45.137279",
     "status": "completed"
    },
    "tags": []
   },
   "outputs": [],
   "source": [
    "\n",
    "df.to_csv(product['clean_csv'], index=False)"
   ]
  }
 ],
 "metadata": {
  "jupytext": {
   "cell_metadata_filter": "tags,-all",
   "main_language": "python",
   "notebook_metadata_filter": "-all",
   "text_representation": {
    "extension": ".py",
    "format_name": "percent"
   }
  },
  "kernelspec": {
   "display_name": "Python 3 (ipykernel)",
   "language": "python",
   "name": "python3"
  },
  "language_info": {
   "codemirror_mode": {
    "name": "ipython",
    "version": 3
   },
   "file_extension": ".py",
   "mimetype": "text/x-python",
   "name": "python",
   "nbconvert_exporter": "python",
   "pygments_lexer": "ipython3",
   "version": "3.8.17"
  },
  "papermill": {
   "duration": 1.588747,
   "end_time": "2023-10-02T15:57:45.459247",
   "exception": null,
   "input_path": "/tmp/tmpuulclh_m.ipynb",
   "output_path": "/home/luiscberrocal/PycharmProjects/hacktoberfest-2023/kaggle/products/cleanup.ipynb",
   "parameters": {
    "product": {
     "clean_csv": "/home/luiscberrocal/PycharmProjects/hacktoberfest-2023/kaggle/data/house_prices_clean.csv",
     "nb": "/home/luiscberrocal/PycharmProjects/hacktoberfest-2023/kaggle/products/cleanup.ipynb"
    },
    "upstream": {
     "01-get": {
      "csv_file": "/home/luiscberrocal/PycharmProjects/hacktoberfest-2023/kaggle/data/house_prices.csv",
      "nb": "/home/luiscberrocal/PycharmProjects/hacktoberfest-2023/kaggle/products/extract-pipeline.ipynb"
     }
    }
   },
   "start_time": "2023-10-02T15:57:43.870500"
  }
 },
 "nbformat": 4,
 "nbformat_minor": 5
}
