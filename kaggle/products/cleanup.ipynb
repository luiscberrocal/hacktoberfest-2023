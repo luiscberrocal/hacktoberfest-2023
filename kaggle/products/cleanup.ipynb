{
 "cells": [
  {
   "cell_type": "code",
   "execution_count": 1,
   "id": "2c45ebde",
   "metadata": {
    "execution": {
     "iopub.execute_input": "2023-10-02T12:23:24.833195Z",
     "iopub.status.busy": "2023-10-02T12:23:24.832916Z",
     "iopub.status.idle": "2023-10-02T12:23:24.838789Z",
     "shell.execute_reply": "2023-10-02T12:23:24.838349Z"
    },
    "papermill": {
     "duration": 0.009154,
     "end_time": "2023-10-02T12:23:24.839833",
     "exception": false,
     "start_time": "2023-10-02T12:23:24.830679",
     "status": "completed"
    },
    "tags": [
     "parameters"
    ]
   },
   "outputs": [],
   "source": [
    "upstream = ['01-get']\n",
    "product = None\n",
    "\n",
    "import re"
   ]
  },
  {
   "cell_type": "code",
   "execution_count": 2,
   "id": "393a4263",
   "metadata": {
    "execution": {
     "iopub.execute_input": "2023-10-02T12:23:24.845300Z",
     "iopub.status.busy": "2023-10-02T12:23:24.844709Z",
     "iopub.status.idle": "2023-10-02T12:23:24.848488Z",
     "shell.execute_reply": "2023-10-02T12:23:24.847932Z"
    },
    "papermill": {
     "duration": 0.0076,
     "end_time": "2023-10-02T12:23:24.849466",
     "exception": false,
     "start_time": "2023-10-02T12:23:24.841866",
     "status": "completed"
    },
    "tags": [
     "injected-parameters"
    ]
   },
   "outputs": [],
   "source": [
    "# Parameters\n",
    "upstream = {\"01-get\": {\"nb\": \"/home/luiscberrocal/PycharmProjects/hacktoberfest-2023/kaggle/products/extract-pipeline.ipynb\", \"csv_file\": \"/home/luiscberrocal/PycharmProjects/hacktoberfest-2023/kaggle/data/house_prices.csv\"}}\n",
    "product = {\"nb\": \"/home/luiscberrocal/PycharmProjects/hacktoberfest-2023/kaggle/products/cleanup.ipynb\", \"clean_csv\": \"/home/luiscberrocal/PycharmProjects/hacktoberfest-2023/kaggle/data/house_prices_clean.csv\"}\n"
   ]
  },
  {
   "cell_type": "code",
   "execution_count": 3,
   "id": "dc7d87d5",
   "metadata": {
    "execution": {
     "iopub.execute_input": "2023-10-02T12:23:24.852943Z",
     "iopub.status.busy": "2023-10-02T12:23:24.852536Z",
     "iopub.status.idle": "2023-10-02T12:23:25.169001Z",
     "shell.execute_reply": "2023-10-02T12:23:25.168475Z"
    },
    "papermill": {
     "duration": 0.319873,
     "end_time": "2023-10-02T12:23:25.170505",
     "exception": false,
     "start_time": "2023-10-02T12:23:24.850632",
     "status": "completed"
    },
    "tags": []
   },
   "outputs": [],
   "source": [
    "import pandas as pd"
   ]
  },
  {
   "cell_type": "code",
   "execution_count": 4,
   "id": "3a961dc8",
   "metadata": {
    "execution": {
     "iopub.execute_input": "2023-10-02T12:23:25.174468Z",
     "iopub.status.busy": "2023-10-02T12:23:25.174117Z",
     "iopub.status.idle": "2023-10-02T12:23:25.215489Z",
     "shell.execute_reply": "2023-10-02T12:23:25.214927Z"
    },
    "papermill": {
     "duration": 0.044892,
     "end_time": "2023-10-02T12:23:25.216947",
     "exception": false,
     "start_time": "2023-10-02T12:23:25.172055",
     "status": "completed"
    },
    "tags": []
   },
   "outputs": [],
   "source": [
    "df = pd.read_csv(upstream['01-get']['csv_file'])"
   ]
  },
  {
   "cell_type": "code",
   "execution_count": 5,
   "id": "f0216ea0",
   "metadata": {
    "execution": {
     "iopub.execute_input": "2023-10-02T12:23:25.220713Z",
     "iopub.status.busy": "2023-10-02T12:23:25.220435Z",
     "iopub.status.idle": "2023-10-02T12:23:25.231015Z",
     "shell.execute_reply": "2023-10-02T12:23:25.230532Z"
    },
    "papermill": {
     "duration": 0.014368,
     "end_time": "2023-10-02T12:23:25.232752",
     "exception": false,
     "start_time": "2023-10-02T12:23:25.218384",
     "status": "completed"
    },
    "tags": []
   },
   "outputs": [
    {
     "name": "stdout",
     "output_type": "stream",
     "text": [
      "<class 'pandas.core.frame.DataFrame'>\n",
      "RangeIndex: 29451 entries, 0 to 29450\n",
      "Data columns (total 12 columns):\n",
      " #   Column                 Non-Null Count  Dtype  \n",
      "---  ------                 --------------  -----  \n",
      " 0   POSTED_BY              29451 non-null  object \n",
      " 1   UNDER_CONSTRUCTION     29451 non-null  int64  \n",
      " 2   RERA                   29451 non-null  int64  \n",
      " 3   BHK_NO.                29451 non-null  int64  \n",
      " 4   BHK_OR_RK              29451 non-null  object \n",
      " 5   SQUARE_FT              29451 non-null  float64\n",
      " 6   READY_TO_MOVE          29451 non-null  int64  \n",
      " 7   RESALE                 29451 non-null  int64  \n",
      " 8   ADDRESS                29451 non-null  object \n",
      " 9   LONGITUDE              29451 non-null  float64\n",
      " 10  LATITUDE               29451 non-null  float64\n",
      " 11  TARGET(PRICE_IN_LACS)  29451 non-null  float64\n",
      "dtypes: float64(4), int64(5), object(3)\n",
      "memory usage: 2.7+ MB\n"
     ]
    }
   ],
   "source": [
    "df.info()"
   ]
  },
  {
   "cell_type": "code",
   "execution_count": 6,
   "id": "9ade9ab8",
   "metadata": {
    "execution": {
     "iopub.execute_input": "2023-10-02T12:23:25.238755Z",
     "iopub.status.busy": "2023-10-02T12:23:25.238471Z",
     "iopub.status.idle": "2023-10-02T12:23:25.254310Z",
     "shell.execute_reply": "2023-10-02T12:23:25.253824Z"
    },
    "papermill": {
     "duration": 0.020603,
     "end_time": "2023-10-02T12:23:25.255906",
     "exception": false,
     "start_time": "2023-10-02T12:23:25.235303",
     "status": "completed"
    },
    "tags": []
   },
   "outputs": [
    {
     "name": "stdout",
     "output_type": "stream",
     "text": [
      "<class 'pandas.core.frame.DataFrame'>\n",
      "RangeIndex: 29451 entries, 0 to 29450\n",
      "Data columns (total 12 columns):\n",
      " #   Column               Non-Null Count  Dtype  \n",
      "---  ------               --------------  -----  \n",
      " 0   posted_by            29451 non-null  object \n",
      " 1   under_construction   29451 non-null  int64  \n",
      " 2   rera                 29451 non-null  int64  \n",
      " 3   bhk_no               29451 non-null  int64  \n",
      " 4   bhk_or_rk            29451 non-null  object \n",
      " 5   square_ft            29451 non-null  float64\n",
      " 6   ready_to_move        29451 non-null  int64  \n",
      " 7   resale               29451 non-null  int64  \n",
      " 8   address              29451 non-null  object \n",
      " 9   longitude            29451 non-null  float64\n",
      " 10  latitude             29451 non-null  float64\n",
      " 11  targetprice_in_lacs  29451 non-null  float64\n",
      "dtypes: float64(4), int64(5), object(3)\n",
      "memory usage: 2.7+ MB\n"
     ]
    }
   ],
   "source": [
    "df.isna().sum()\n",
    "\n",
    "## %%\n",
    "# Rename columns to snake case\n",
    "renamed_mapping = {}\n",
    "for c in df.columns:\n",
    "    new_c_name = re.sub('[^0-9a-zA-Z_]+', '', c)\n",
    "    renamed_mapping[c] = new_c_name.lower()  # .replace(' ', '_').replace('(', '').replace(')', '')\n",
    "renamed_mapping['targetprice_in_lacs'] = 'target_price_in_lacs'\n",
    "\n",
    "df = df.rename(columns=renamed_mapping)\n",
    "\n",
    "df.info()"
   ]
  },
  {
   "cell_type": "code",
   "execution_count": 7,
   "id": "4ada6590",
   "metadata": {
    "execution": {
     "iopub.execute_input": "2023-10-02T12:23:25.263090Z",
     "iopub.status.busy": "2023-10-02T12:23:25.262832Z",
     "iopub.status.idle": "2023-10-02T12:23:25.369620Z",
     "shell.execute_reply": "2023-10-02T12:23:25.369114Z"
    },
    "papermill": {
     "duration": 0.112441,
     "end_time": "2023-10-02T12:23:25.371012",
     "exception": false,
     "start_time": "2023-10-02T12:23:25.258571",
     "status": "completed"
    },
    "tags": []
   },
   "outputs": [],
   "source": [
    "\n",
    "df.to_csv(product['clean_csv'], index=False)"
   ]
  }
 ],
 "metadata": {
  "jupytext": {
   "cell_metadata_filter": "tags,-all",
   "main_language": "python",
   "notebook_metadata_filter": "-all",
   "text_representation": {
    "extension": ".py",
    "format_name": "percent"
   }
  },
  "kernelspec": {
   "display_name": "Python 3 (ipykernel)",
   "language": "python",
   "name": "python3"
  },
  "language_info": {
   "codemirror_mode": {
    "name": "ipython",
    "version": 3
   },
   "file_extension": ".py",
   "mimetype": "text/x-python",
   "name": "python",
   "nbconvert_exporter": "python",
   "pygments_lexer": "ipython3",
   "version": "3.10.12"
  },
  "papermill": {
   "duration": 1.63513,
   "end_time": "2023-10-02T12:23:25.589121",
   "exception": null,
   "input_path": "/tmp/tmpdx9ib7uo.ipynb",
   "output_path": "/home/luiscberrocal/PycharmProjects/hacktoberfest-2023/kaggle/products/cleanup.ipynb",
   "parameters": {
    "product": {
     "clean_csv": "/home/luiscberrocal/PycharmProjects/hacktoberfest-2023/kaggle/data/house_prices_clean.csv",
     "nb": "/home/luiscberrocal/PycharmProjects/hacktoberfest-2023/kaggle/products/cleanup.ipynb"
    },
    "upstream": {
     "01-get": {
      "csv_file": "/home/luiscberrocal/PycharmProjects/hacktoberfest-2023/kaggle/data/house_prices.csv",
      "nb": "/home/luiscberrocal/PycharmProjects/hacktoberfest-2023/kaggle/products/extract-pipeline.ipynb"
     }
    }
   },
   "start_time": "2023-10-02T12:23:23.953991"
  }
 },
 "nbformat": 4,
 "nbformat_minor": 5
}