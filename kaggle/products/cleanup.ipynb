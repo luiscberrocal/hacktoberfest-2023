{
 "cells": [
  {
   "cell_type": "code",
   "execution_count": 1,
   "id": "07e7ae62",
   "metadata": {
    "execution": {
     "iopub.execute_input": "2023-10-02T14:46:35.476307Z",
     "iopub.status.busy": "2023-10-02T14:46:35.475618Z",
     "iopub.status.idle": "2023-10-02T14:46:35.497482Z",
     "shell.execute_reply": "2023-10-02T14:46:35.495541Z"
    },
    "papermill": {
     "duration": 0.03557,
     "end_time": "2023-10-02T14:46:35.501880",
     "exception": false,
     "start_time": "2023-10-02T14:46:35.466310",
     "status": "completed"
    },
    "tags": [
     "parameters"
    ]
   },
   "outputs": [],
   "source": [
    "upstream = ['01-get']\n",
    "product = None\n",
    "\n",
    "import re"
   ]
  },
  {
   "cell_type": "code",
   "execution_count": 2,
   "id": "30e25e43",
   "metadata": {
    "execution": {
     "iopub.execute_input": "2023-10-02T14:46:35.520316Z",
     "iopub.status.busy": "2023-10-02T14:46:35.519610Z",
     "iopub.status.idle": "2023-10-02T14:46:35.524887Z",
     "shell.execute_reply": "2023-10-02T14:46:35.524410Z"
    },
    "papermill": {
     "duration": 0.017022,
     "end_time": "2023-10-02T14:46:35.526132",
     "exception": false,
     "start_time": "2023-10-02T14:46:35.509110",
     "status": "completed"
    },
    "tags": [
     "injected-parameters"
    ]
   },
   "outputs": [],
   "source": [
    "# Parameters\n",
    "upstream = {\"01-get\": {\"nb\": \"/home/luiscberrocal/PycharmProjects/hacktoberfest-2023/kaggle/products/extract-pipeline.ipynb\", \"csv_file\": \"/home/luiscberrocal/PycharmProjects/hacktoberfest-2023/kaggle/data/house_prices.csv\"}}\n",
    "product = {\"nb\": \"/home/luiscberrocal/PycharmProjects/hacktoberfest-2023/kaggle/products/cleanup.ipynb\", \"clean_csv\": \"/home/luiscberrocal/PycharmProjects/hacktoberfest-2023/kaggle/data/house_prices_clean.csv\"}\n"
   ]
  },
  {
   "cell_type": "code",
   "execution_count": 3,
   "id": "1411bb49",
   "metadata": {
    "execution": {
     "iopub.execute_input": "2023-10-02T14:46:35.530785Z",
     "iopub.status.busy": "2023-10-02T14:46:35.530389Z",
     "iopub.status.idle": "2023-10-02T14:46:35.795148Z",
     "shell.execute_reply": "2023-10-02T14:46:35.794609Z"
    },
    "papermill": {
     "duration": 0.268356,
     "end_time": "2023-10-02T14:46:35.796411",
     "exception": false,
     "start_time": "2023-10-02T14:46:35.528055",
     "status": "completed"
    },
    "tags": []
   },
   "outputs": [],
   "source": [
    "import pandas as pd"
   ]
  },
  {
   "cell_type": "code",
   "execution_count": 4,
   "id": "db116b3e",
   "metadata": {
    "execution": {
     "iopub.execute_input": "2023-10-02T14:46:35.800708Z",
     "iopub.status.busy": "2023-10-02T14:46:35.800490Z",
     "iopub.status.idle": "2023-10-02T14:46:35.826786Z",
     "shell.execute_reply": "2023-10-02T14:46:35.826374Z"
    },
    "papermill": {
     "duration": 0.029779,
     "end_time": "2023-10-02T14:46:35.828009",
     "exception": false,
     "start_time": "2023-10-02T14:46:35.798230",
     "status": "completed"
    },
    "tags": []
   },
   "outputs": [],
   "source": [
    "df = pd.read_csv(upstream['01-get']['csv_file'])"
   ]
  },
  {
   "cell_type": "code",
   "execution_count": 5,
   "id": "c6770cac",
   "metadata": {
    "execution": {
     "iopub.execute_input": "2023-10-02T14:46:35.831915Z",
     "iopub.status.busy": "2023-10-02T14:46:35.831760Z",
     "iopub.status.idle": "2023-10-02T14:46:35.840090Z",
     "shell.execute_reply": "2023-10-02T14:46:35.839595Z"
    },
    "papermill": {
     "duration": 0.011462,
     "end_time": "2023-10-02T14:46:35.841116",
     "exception": false,
     "start_time": "2023-10-02T14:46:35.829654",
     "status": "completed"
    },
    "tags": []
   },
   "outputs": [
    {
     "name": "stdout",
     "output_type": "stream",
     "text": [
      "<class 'pandas.core.frame.DataFrame'>\n",
      "RangeIndex: 29451 entries, 0 to 29450\n",
      "Data columns (total 12 columns):\n",
      " #   Column                 Non-Null Count  Dtype  \n",
      "---  ------                 --------------  -----  \n",
      " 0   POSTED_BY              29451 non-null  object \n",
      " 1   UNDER_CONSTRUCTION     29451 non-null  int64  \n",
      " 2   RERA                   29451 non-null  int64  \n",
      " 3   BHK_NO.                29451 non-null  int64  \n",
      " 4   BHK_OR_RK              29451 non-null  object \n",
      " 5   SQUARE_FT              29451 non-null  float64\n",
      " 6   READY_TO_MOVE          29451 non-null  int64  \n",
      " 7   RESALE                 29451 non-null  int64  \n",
      " 8   ADDRESS                29451 non-null  object \n",
      " 9   LONGITUDE              29451 non-null  float64\n",
      " 10  LATITUDE               29451 non-null  float64\n",
      " 11  TARGET(PRICE_IN_LACS)  29451 non-null  float64\n",
      "dtypes: float64(4), int64(5), object(3)\n",
      "memory usage: 2.7+ MB\n"
     ]
    }
   ],
   "source": [
    "df.info()"
   ]
  },
  {
   "cell_type": "code",
   "execution_count": 6,
   "id": "a2d288b2",
   "metadata": {
    "execution": {
     "iopub.execute_input": "2023-10-02T14:46:35.845266Z",
     "iopub.status.busy": "2023-10-02T14:46:35.844963Z",
     "iopub.status.idle": "2023-10-02T14:46:35.855754Z",
     "shell.execute_reply": "2023-10-02T14:46:35.855392Z"
    },
    "papermill": {
     "duration": 0.014035,
     "end_time": "2023-10-02T14:46:35.856813",
     "exception": false,
     "start_time": "2023-10-02T14:46:35.842778",
     "status": "completed"
    },
    "tags": []
   },
   "outputs": [
    {
     "name": "stdout",
     "output_type": "stream",
     "text": [
      "<class 'pandas.core.frame.DataFrame'>\n",
      "RangeIndex: 29451 entries, 0 to 29450\n",
      "Data columns (total 12 columns):\n",
      " #   Column               Non-Null Count  Dtype  \n",
      "---  ------               --------------  -----  \n",
      " 0   posted_by            29451 non-null  object \n",
      " 1   under_construction   29451 non-null  int64  \n",
      " 2   rera                 29451 non-null  int64  \n",
      " 3   bhk_no               29451 non-null  int64  \n",
      " 4   bhk_or_rk            29451 non-null  object \n",
      " 5   square_ft            29451 non-null  float64\n",
      " 6   ready_to_move        29451 non-null  int64  \n",
      " 7   resale               29451 non-null  int64  \n",
      " 8   address              29451 non-null  object \n",
      " 9   longitude            29451 non-null  float64\n",
      " 10  latitude             29451 non-null  float64\n",
      " 11  targetprice_in_lacs  29451 non-null  float64\n",
      "dtypes: float64(4), int64(5), object(3)\n",
      "memory usage: 2.7+ MB\n"
     ]
    }
   ],
   "source": [
    "df.isna().sum()\n",
    "\n",
    "## %%\n",
    "# Rename columns to snake case\n",
    "renamed_mapping = {}\n",
    "for c in df.columns:\n",
    "    new_c_name = re.sub('[^0-9a-zA-Z_]+', '', c)\n",
    "    renamed_mapping[c] = new_c_name.lower()  # .replace(' ', '_').replace('(', '').replace(')', '')\n",
    "renamed_mapping['targetprice_in_lacs'] = 'target_price_in_lacs'\n",
    "\n",
    "df = df.rename(columns=renamed_mapping)\n",
    "\n",
    "df.info()"
   ]
  },
  {
   "cell_type": "code",
   "execution_count": 7,
   "id": "741e2f24",
   "metadata": {
    "execution": {
     "iopub.execute_input": "2023-10-02T14:46:35.860946Z",
     "iopub.status.busy": "2023-10-02T14:46:35.860796Z",
     "iopub.status.idle": "2023-10-02T14:46:35.866912Z",
     "shell.execute_reply": "2023-10-02T14:46:35.866562Z"
    },
    "papermill": {
     "duration": 0.009347,
     "end_time": "2023-10-02T14:46:35.867928",
     "exception": false,
     "start_time": "2023-10-02T14:46:35.858581",
     "status": "completed"
    },
    "tags": []
   },
   "outputs": [
    {
     "data": {
      "text/plain": [
       "posted_by\n",
       "Dealer     18291\n",
       "Owner      10538\n",
       "Builder      622\n",
       "Name: count, dtype: int64"
      ]
     },
     "execution_count": 7,
     "metadata": {},
     "output_type": "execute_result"
    }
   ],
   "source": [
    "df['posted_by'].value_counts()"
   ]
  },
  {
   "cell_type": "code",
   "execution_count": 8,
   "id": "96f8ecb5",
   "metadata": {
    "execution": {
     "iopub.execute_input": "2023-10-02T14:46:35.872085Z",
     "iopub.status.busy": "2023-10-02T14:46:35.871941Z",
     "iopub.status.idle": "2023-10-02T14:46:35.876518Z",
     "shell.execute_reply": "2023-10-02T14:46:35.875956Z"
    },
    "papermill": {
     "duration": 0.007837,
     "end_time": "2023-10-02T14:46:35.877544",
     "exception": false,
     "start_time": "2023-10-02T14:46:35.869707",
     "status": "completed"
    },
    "tags": []
   },
   "outputs": [
    {
     "data": {
      "text/plain": [
       "bhk_or_rk\n",
       "BHK    29427\n",
       "RK        24\n",
       "Name: count, dtype: int64"
      ]
     },
     "execution_count": 8,
     "metadata": {},
     "output_type": "execute_result"
    }
   ],
   "source": [
    "df['bhk_or_rk'].value_counts()"
   ]
  },
  {
   "cell_type": "code",
   "execution_count": 9,
   "id": "739bb6f3",
   "metadata": {
    "execution": {
     "iopub.execute_input": "2023-10-02T14:46:35.882257Z",
     "iopub.status.busy": "2023-10-02T14:46:35.881809Z",
     "iopub.status.idle": "2023-10-02T14:46:35.889147Z",
     "shell.execute_reply": "2023-10-02T14:46:35.888789Z"
    },
    "papermill": {
     "duration": 0.010725,
     "end_time": "2023-10-02T14:46:35.890198",
     "exception": false,
     "start_time": "2023-10-02T14:46:35.879473",
     "status": "completed"
    },
    "tags": []
   },
   "outputs": [],
   "source": [
    "df = pd.get_dummies(df, columns=['posted_by', 'bhk_or_rk'])"
   ]
  },
  {
   "cell_type": "code",
   "execution_count": 10,
   "id": "bccfe056",
   "metadata": {
    "execution": {
     "iopub.execute_input": "2023-10-02T14:46:35.894794Z",
     "iopub.status.busy": "2023-10-02T14:46:35.894636Z",
     "iopub.status.idle": "2023-10-02T14:46:35.904383Z",
     "shell.execute_reply": "2023-10-02T14:46:35.903901Z"
    },
    "papermill": {
     "duration": 0.013295,
     "end_time": "2023-10-02T14:46:35.905455",
     "exception": false,
     "start_time": "2023-10-02T14:46:35.892160",
     "status": "completed"
    },
    "tags": []
   },
   "outputs": [
    {
     "data": {
      "text/html": [
       "<div>\n",
       "<style scoped>\n",
       "    .dataframe tbody tr th:only-of-type {\n",
       "        vertical-align: middle;\n",
       "    }\n",
       "\n",
       "    .dataframe tbody tr th {\n",
       "        vertical-align: top;\n",
       "    }\n",
       "\n",
       "    .dataframe thead th {\n",
       "        text-align: right;\n",
       "    }\n",
       "</style>\n",
       "<table border=\"1\" class=\"dataframe\">\n",
       "  <thead>\n",
       "    <tr style=\"text-align: right;\">\n",
       "      <th></th>\n",
       "      <th>under_construction</th>\n",
       "      <th>rera</th>\n",
       "      <th>bhk_no</th>\n",
       "      <th>square_ft</th>\n",
       "      <th>ready_to_move</th>\n",
       "      <th>resale</th>\n",
       "      <th>address</th>\n",
       "      <th>longitude</th>\n",
       "      <th>latitude</th>\n",
       "      <th>targetprice_in_lacs</th>\n",
       "      <th>posted_by_Builder</th>\n",
       "      <th>posted_by_Dealer</th>\n",
       "      <th>posted_by_Owner</th>\n",
       "      <th>bhk_or_rk_BHK</th>\n",
       "      <th>bhk_or_rk_RK</th>\n",
       "    </tr>\n",
       "  </thead>\n",
       "  <tbody>\n",
       "    <tr>\n",
       "      <th>0</th>\n",
       "      <td>0</td>\n",
       "      <td>0</td>\n",
       "      <td>2</td>\n",
       "      <td>1300.236407</td>\n",
       "      <td>1</td>\n",
       "      <td>1</td>\n",
       "      <td>Ksfc Layout,Bangalore</td>\n",
       "      <td>12.969910</td>\n",
       "      <td>77.597960</td>\n",
       "      <td>55.0</td>\n",
       "      <td>False</td>\n",
       "      <td>False</td>\n",
       "      <td>True</td>\n",
       "      <td>True</td>\n",
       "      <td>False</td>\n",
       "    </tr>\n",
       "    <tr>\n",
       "      <th>1</th>\n",
       "      <td>0</td>\n",
       "      <td>0</td>\n",
       "      <td>2</td>\n",
       "      <td>1275.000000</td>\n",
       "      <td>1</td>\n",
       "      <td>1</td>\n",
       "      <td>Vishweshwara Nagar,Mysore</td>\n",
       "      <td>12.274538</td>\n",
       "      <td>76.644605</td>\n",
       "      <td>51.0</td>\n",
       "      <td>False</td>\n",
       "      <td>True</td>\n",
       "      <td>False</td>\n",
       "      <td>True</td>\n",
       "      <td>False</td>\n",
       "    </tr>\n",
       "    <tr>\n",
       "      <th>2</th>\n",
       "      <td>0</td>\n",
       "      <td>0</td>\n",
       "      <td>2</td>\n",
       "      <td>933.159722</td>\n",
       "      <td>1</td>\n",
       "      <td>1</td>\n",
       "      <td>Jigani,Bangalore</td>\n",
       "      <td>12.778033</td>\n",
       "      <td>77.632191</td>\n",
       "      <td>43.0</td>\n",
       "      <td>False</td>\n",
       "      <td>False</td>\n",
       "      <td>True</td>\n",
       "      <td>True</td>\n",
       "      <td>False</td>\n",
       "    </tr>\n",
       "    <tr>\n",
       "      <th>3</th>\n",
       "      <td>0</td>\n",
       "      <td>1</td>\n",
       "      <td>2</td>\n",
       "      <td>929.921143</td>\n",
       "      <td>1</td>\n",
       "      <td>1</td>\n",
       "      <td>Sector-1 Vaishali,Ghaziabad</td>\n",
       "      <td>28.642300</td>\n",
       "      <td>77.344500</td>\n",
       "      <td>62.5</td>\n",
       "      <td>False</td>\n",
       "      <td>False</td>\n",
       "      <td>True</td>\n",
       "      <td>True</td>\n",
       "      <td>False</td>\n",
       "    </tr>\n",
       "    <tr>\n",
       "      <th>4</th>\n",
       "      <td>1</td>\n",
       "      <td>0</td>\n",
       "      <td>2</td>\n",
       "      <td>999.009247</td>\n",
       "      <td>0</td>\n",
       "      <td>1</td>\n",
       "      <td>New Town,Kolkata</td>\n",
       "      <td>22.592200</td>\n",
       "      <td>88.484911</td>\n",
       "      <td>60.5</td>\n",
       "      <td>False</td>\n",
       "      <td>True</td>\n",
       "      <td>False</td>\n",
       "      <td>True</td>\n",
       "      <td>False</td>\n",
       "    </tr>\n",
       "  </tbody>\n",
       "</table>\n",
       "</div>"
      ],
      "text/plain": [
       "   under_construction  rera  bhk_no    square_ft  ready_to_move  resale  \\\n",
       "0                   0     0       2  1300.236407              1       1   \n",
       "1                   0     0       2  1275.000000              1       1   \n",
       "2                   0     0       2   933.159722              1       1   \n",
       "3                   0     1       2   929.921143              1       1   \n",
       "4                   1     0       2   999.009247              0       1   \n",
       "\n",
       "                       address  longitude   latitude  targetprice_in_lacs  \\\n",
       "0        Ksfc Layout,Bangalore  12.969910  77.597960                 55.0   \n",
       "1    Vishweshwara Nagar,Mysore  12.274538  76.644605                 51.0   \n",
       "2             Jigani,Bangalore  12.778033  77.632191                 43.0   \n",
       "3  Sector-1 Vaishali,Ghaziabad  28.642300  77.344500                 62.5   \n",
       "4             New Town,Kolkata  22.592200  88.484911                 60.5   \n",
       "\n",
       "   posted_by_Builder  posted_by_Dealer  posted_by_Owner  bhk_or_rk_BHK  \\\n",
       "0              False             False             True           True   \n",
       "1              False              True            False           True   \n",
       "2              False             False             True           True   \n",
       "3              False             False             True           True   \n",
       "4              False              True            False           True   \n",
       "\n",
       "   bhk_or_rk_RK  \n",
       "0         False  \n",
       "1         False  \n",
       "2         False  \n",
       "3         False  \n",
       "4         False  "
      ]
     },
     "execution_count": 10,
     "metadata": {},
     "output_type": "execute_result"
    }
   ],
   "source": [
    "df.head()"
   ]
  },
  {
   "cell_type": "code",
   "execution_count": 11,
   "id": "0ff21715",
   "metadata": {
    "execution": {
     "iopub.execute_input": "2023-10-02T14:46:35.910473Z",
     "iopub.status.busy": "2023-10-02T14:46:35.910290Z",
     "iopub.status.idle": "2023-10-02T14:46:35.916748Z",
     "shell.execute_reply": "2023-10-02T14:46:35.916343Z"
    },
    "papermill": {
     "duration": 0.010005,
     "end_time": "2023-10-02T14:46:35.917738",
     "exception": false,
     "start_time": "2023-10-02T14:46:35.907733",
     "status": "completed"
    },
    "tags": []
   },
   "outputs": [
    {
     "name": "stdout",
     "output_type": "stream",
     "text": [
      "<class 'pandas.core.frame.DataFrame'>\n",
      "RangeIndex: 29451 entries, 0 to 29450\n",
      "Data columns (total 15 columns):\n",
      " #   Column               Non-Null Count  Dtype  \n",
      "---  ------               --------------  -----  \n",
      " 0   under_construction   29451 non-null  int64  \n",
      " 1   rera                 29451 non-null  int64  \n",
      " 2   bhk_no               29451 non-null  int64  \n",
      " 3   square_ft            29451 non-null  float64\n",
      " 4   ready_to_move        29451 non-null  int64  \n",
      " 5   resale               29451 non-null  int64  \n",
      " 6   address              29451 non-null  object \n",
      " 7   longitude            29451 non-null  float64\n",
      " 8   latitude             29451 non-null  float64\n",
      " 9   targetprice_in_lacs  29451 non-null  float64\n",
      " 10  posted_by_Builder    29451 non-null  bool   \n",
      " 11  posted_by_Dealer     29451 non-null  bool   \n",
      " 12  posted_by_Owner      29451 non-null  bool   \n",
      " 13  bhk_or_rk_BHK        29451 non-null  bool   \n",
      " 14  bhk_or_rk_RK         29451 non-null  bool   \n",
      "dtypes: bool(5), float64(4), int64(5), object(1)\n",
      "memory usage: 2.4+ MB\n"
     ]
    }
   ],
   "source": [
    "df.info()"
   ]
  },
  {
   "cell_type": "code",
   "execution_count": 12,
   "id": "15471f4d",
   "metadata": {
    "execution": {
     "iopub.execute_input": "2023-10-02T14:46:35.922778Z",
     "iopub.status.busy": "2023-10-02T14:46:35.922630Z",
     "iopub.status.idle": "2023-10-02T14:46:35.930573Z",
     "shell.execute_reply": "2023-10-02T14:46:35.930141Z"
    },
    "papermill": {
     "duration": 0.011591,
     "end_time": "2023-10-02T14:46:35.931602",
     "exception": false,
     "start_time": "2023-10-02T14:46:35.920011",
     "status": "completed"
    },
    "tags": []
   },
   "outputs": [
    {
     "name": "stdout",
     "output_type": "stream",
     "text": [
      "posted_by_Builder bool\n",
      "posted_by_Dealer bool\n",
      "posted_by_Owner bool\n",
      "bhk_or_rk_BHK bool\n",
      "bhk_or_rk_RK bool\n",
      "<class 'pandas.core.frame.DataFrame'>\n",
      "RangeIndex: 29451 entries, 0 to 29450\n",
      "Data columns (total 15 columns):\n",
      " #   Column               Non-Null Count  Dtype  \n",
      "---  ------               --------------  -----  \n",
      " 0   under_construction   29451 non-null  int64  \n",
      " 1   rera                 29451 non-null  int64  \n",
      " 2   bhk_no               29451 non-null  int64  \n",
      " 3   square_ft            29451 non-null  float64\n",
      " 4   ready_to_move        29451 non-null  int64  \n",
      " 5   resale               29451 non-null  int64  \n",
      " 6   address              29451 non-null  object \n",
      " 7   longitude            29451 non-null  float64\n",
      " 8   latitude             29451 non-null  float64\n",
      " 9   targetprice_in_lacs  29451 non-null  float64\n",
      " 10  posted_by_Builder    29451 non-null  int64  \n",
      " 11  posted_by_Dealer     29451 non-null  int64  \n",
      " 12  posted_by_Owner      29451 non-null  int64  \n",
      " 13  bhk_or_rk_BHK        29451 non-null  int64  \n",
      " 14  bhk_or_rk_RK         29451 non-null  int64  \n",
      "dtypes: float64(4), int64(10), object(1)\n",
      "memory usage: 3.4+ MB\n"
     ]
    }
   ],
   "source": [
    "for c in df.columns:\n",
    "    if df[c].dtype == bool:\n",
    "        print(f'{c} {df[c].dtype}')\n",
    "        df[c] = df[c].astype(int)\n",
    "\n",
    "df.info()"
   ]
  },
  {
   "cell_type": "code",
   "execution_count": 13,
   "id": "0f9b9b2b",
   "metadata": {
    "execution": {
     "iopub.execute_input": "2023-10-02T14:46:35.936779Z",
     "iopub.status.busy": "2023-10-02T14:46:35.936593Z",
     "iopub.status.idle": "2023-10-02T14:46:35.938772Z",
     "shell.execute_reply": "2023-10-02T14:46:35.938313Z"
    },
    "lines_to_next_cell": 0,
    "papermill": {
     "duration": 0.005923,
     "end_time": "2023-10-02T14:46:35.939794",
     "exception": false,
     "start_time": "2023-10-02T14:46:35.933871",
     "status": "completed"
    },
    "tags": []
   },
   "outputs": [],
   "source": [
    "# 1. hot shoe encoding\n",
    "# 2. Drop encoded columns\n",
    "# 3. Extract city\n",
    "# 4."
   ]
  },
  {
   "cell_type": "code",
   "execution_count": 14,
   "id": "45db8dbd",
   "metadata": {
    "execution": {
     "iopub.execute_input": "2023-10-02T14:46:35.944880Z",
     "iopub.status.busy": "2023-10-02T14:46:35.944742Z",
     "iopub.status.idle": "2023-10-02T14:46:36.041194Z",
     "shell.execute_reply": "2023-10-02T14:46:36.040670Z"
    },
    "papermill": {
     "duration": 0.100358,
     "end_time": "2023-10-02T14:46:36.042434",
     "exception": false,
     "start_time": "2023-10-02T14:46:35.942076",
     "status": "completed"
    },
    "tags": []
   },
   "outputs": [],
   "source": [
    "\n",
    "df.to_csv(product['clean_csv'], index=False)"
   ]
  }
 ],
 "metadata": {
  "jupytext": {
   "cell_metadata_filter": "tags,-all",
   "main_language": "python",
   "notebook_metadata_filter": "-all",
   "text_representation": {
    "extension": ".py",
    "format_name": "percent"
   }
  },
  "kernelspec": {
   "display_name": "Python 3 (ipykernel)",
   "language": "python",
   "name": "python3"
  },
  "language_info": {
   "codemirror_mode": {
    "name": "ipython",
    "version": 3
   },
   "file_extension": ".py",
   "mimetype": "text/x-python",
   "name": "python",
   "nbconvert_exporter": "python",
   "pygments_lexer": "ipython3",
   "version": "3.10.12"
  },
  "papermill": {
   "duration": 1.486905,
   "end_time": "2023-10-02T14:46:36.262970",
   "exception": null,
   "input_path": "/tmp/tmpn1npd_o7.ipynb",
   "output_path": "/home/luiscberrocal/PycharmProjects/hacktoberfest-2023/kaggle/products/cleanup.ipynb",
   "parameters": {
    "product": {
     "clean_csv": "/home/luiscberrocal/PycharmProjects/hacktoberfest-2023/kaggle/data/house_prices_clean.csv",
     "nb": "/home/luiscberrocal/PycharmProjects/hacktoberfest-2023/kaggle/products/cleanup.ipynb"
    },
    "upstream": {
     "01-get": {
      "csv_file": "/home/luiscberrocal/PycharmProjects/hacktoberfest-2023/kaggle/data/house_prices.csv",
      "nb": "/home/luiscberrocal/PycharmProjects/hacktoberfest-2023/kaggle/products/extract-pipeline.ipynb"
     }
    }
   },
   "start_time": "2023-10-02T14:46:34.776065"
  }
 },
 "nbformat": 4,
 "nbformat_minor": 5
}