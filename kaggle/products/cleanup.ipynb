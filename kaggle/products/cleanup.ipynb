{
 "cells": [
  {
   "cell_type": "markdown",
   "id": "59d56683",
   "metadata": {
    "tags": [
     "papermill-error-cell-tag"
    ]
   },
   "source": [
    "<span style=\"color:red; font-family:Helvetica Neue, Helvetica, Arial, sans-serif; font-size:2em;\">An Exception was encountered at '<a href=\"#papermill-error-cell\">In [4]</a>'.</span>"
   ]
  },
  {
   "cell_type": "code",
   "execution_count": 1,
   "id": "2c867f1d",
   "metadata": {
    "execution": {
     "iopub.execute_input": "2023-10-01T12:41:51.171713Z",
     "iopub.status.busy": "2023-10-01T12:41:51.171393Z",
     "iopub.status.idle": "2023-10-01T12:41:51.176612Z",
     "shell.execute_reply": "2023-10-01T12:41:51.176202Z"
    },
    "papermill": {
     "duration": 0.00876,
     "end_time": "2023-10-01T12:41:51.177713",
     "exception": false,
     "start_time": "2023-10-01T12:41:51.168953",
     "status": "completed"
    },
    "tags": [
     "parameters"
    ]
   },
   "outputs": [],
   "source": [
    "upstream = ['01-get']\n",
    "product = None"
   ]
  },
  {
   "cell_type": "code",
   "execution_count": 2,
   "id": "9536bbf7",
   "metadata": {
    "execution": {
     "iopub.execute_input": "2023-10-01T12:41:51.182263Z",
     "iopub.status.busy": "2023-10-01T12:41:51.181890Z",
     "iopub.status.idle": "2023-10-01T12:41:51.184560Z",
     "shell.execute_reply": "2023-10-01T12:41:51.184135Z"
    },
    "papermill": {
     "duration": 0.005522,
     "end_time": "2023-10-01T12:41:51.185765",
     "exception": false,
     "start_time": "2023-10-01T12:41:51.180243",
     "status": "completed"
    },
    "tags": [
     "injected-parameters"
    ]
   },
   "outputs": [],
   "source": [
    "# Parameters\n",
    "upstream = {\"01-get\": {\"nb\": \"/home/luiscberrocal/PycharmProjects/hacktoberfest-2023/kaggle/products/extract-pipeline.ipynb\"}}\n",
    "product = {\"nb\": \"/home/luiscberrocal/PycharmProjects/hacktoberfest-2023/kaggle/products/cleanup.ipynb\"}\n"
   ]
  },
  {
   "cell_type": "code",
   "execution_count": 3,
   "id": "8f2e2933",
   "metadata": {
    "execution": {
     "iopub.execute_input": "2023-10-01T12:41:51.189046Z",
     "iopub.status.busy": "2023-10-01T12:41:51.188820Z",
     "iopub.status.idle": "2023-10-01T12:41:52.093986Z",
     "shell.execute_reply": "2023-10-01T12:41:52.093443Z"
    },
    "lines_to_next_cell": 2,
    "papermill": {
     "duration": 0.908933,
     "end_time": "2023-10-01T12:41:52.096011",
     "exception": false,
     "start_time": "2023-10-01T12:41:51.187078",
     "status": "completed"
    },
    "tags": []
   },
   "outputs": [],
   "source": [
    "import sys\n",
    "import os\n",
    "import pandas as pd\n",
    "import seaborn as sns\n",
    "from pathlib import Path\n",
    "import numpy as np\n",
    "import matplotlib.pyplot as plt"
   ]
  },
  {
   "cell_type": "markdown",
   "id": "1c6d837e",
   "metadata": {
    "tags": [
     "papermill-error-cell-tag"
    ]
   },
   "source": [
    "<span id=\"papermill-error-cell\" style=\"color:red; font-family:Helvetica Neue, Helvetica, Arial, sans-serif; font-size:2em;\">Execution using papermill encountered an exception here and stopped:</span>"
   ]
  },
  {
   "cell_type": "code",
   "execution_count": 4,
   "id": "99b74a0f",
   "metadata": {
    "execution": {
     "iopub.execute_input": "2023-10-01T12:41:52.109362Z",
     "iopub.status.busy": "2023-10-01T12:41:52.109029Z",
     "iopub.status.idle": "2023-10-01T12:41:52.340828Z",
     "shell.execute_reply": "2023-10-01T12:41:52.340018Z"
    },
    "papermill": {
     "duration": 0.24331,
     "end_time": "2023-10-01T12:41:52.341615",
     "exception": true,
     "start_time": "2023-10-01T12:41:52.098305",
     "status": "failed"
    },
    "tags": []
   },
   "outputs": [
    {
     "ename": "KeyError",
     "evalue": "'csv_file'",
     "output_type": "error",
     "traceback": [
      "\u001b[0;31m---------------------------------------------------------------------------\u001b[0m",
      "\u001b[0;31mKeyError\u001b[0m                                  Traceback (most recent call last)",
      "Cell \u001b[0;32mIn[4], line 1\u001b[0m\n\u001b[0;32m----> 1\u001b[0m df \u001b[38;5;241m=\u001b[39m pd\u001b[38;5;241m.\u001b[39mread_csv(\u001b[43mupstream\u001b[49m\u001b[43m[\u001b[49m\u001b[38;5;124;43m'\u001b[39;49m\u001b[38;5;124;43m01-get\u001b[39;49m\u001b[38;5;124;43m'\u001b[39;49m\u001b[43m]\u001b[49m\u001b[43m[\u001b[49m\u001b[38;5;124;43m'\u001b[39;49m\u001b[38;5;124;43mcsv_file\u001b[39;49m\u001b[38;5;124;43m'\u001b[39;49m\u001b[43m]\u001b[49m)\n",
      "\u001b[0;31mKeyError\u001b[0m: 'csv_file'"
     ]
    }
   ],
   "source": [
    "df = pd.read_csv(upstream['01-get']['csv_file'])"
   ]
  },
  {
   "cell_type": "code",
   "execution_count": null,
   "id": "dec5a7cb",
   "metadata": {
    "papermill": {
     "duration": null,
     "end_time": null,
     "exception": null,
     "start_time": null,
     "status": "pending"
    },
    "tags": []
   },
   "outputs": [],
   "source": [
    "df.info()"
   ]
  },
  {
   "cell_type": "code",
   "execution_count": null,
   "id": "da8f9482",
   "metadata": {
    "papermill": {
     "duration": null,
     "end_time": null,
     "exception": null,
     "start_time": null,
     "status": "pending"
    },
    "tags": []
   },
   "outputs": [],
   "source": [
    "df.isna().sum()"
   ]
  }
 ],
 "metadata": {
  "jupytext": {
   "cell_metadata_filter": "tags,-all",
   "main_language": "python",
   "notebook_metadata_filter": "-all",
   "text_representation": {
    "extension": ".py",
    "format_name": "percent"
   }
  },
  "kernelspec": {
   "display_name": "Python 3 (ipykernel)",
   "language": "python",
   "name": "python3"
  },
  "language_info": {
   "codemirror_mode": {
    "name": "ipython",
    "version": 3
   },
   "file_extension": ".py",
   "mimetype": "text/x-python",
   "name": "python",
   "nbconvert_exporter": "python",
   "pygments_lexer": "ipython3",
   "version": "3.10.12"
  },
  "papermill": {
   "duration": 2.146586,
   "end_time": "2023-10-01T12:41:52.659959",
   "exception": true,
   "input_path": "/tmp/tmpc8nv9hzq.ipynb",
   "output_path": "/home/luiscberrocal/PycharmProjects/hacktoberfest-2023/kaggle/products/cleanup.ipynb",
   "parameters": {
    "product": {
     "nb": "/home/luiscberrocal/PycharmProjects/hacktoberfest-2023/kaggle/products/cleanup.ipynb"
    },
    "upstream": {
     "01-get": {
      "nb": "/home/luiscberrocal/PycharmProjects/hacktoberfest-2023/kaggle/products/extract-pipeline.ipynb"
     }
    }
   },
   "start_time": "2023-10-01T12:41:50.513373"
  }
 },
 "nbformat": 4,
 "nbformat_minor": 5
}