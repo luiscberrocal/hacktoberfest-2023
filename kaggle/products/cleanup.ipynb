{
 "cells": [
  {
   "cell_type": "code",
   "execution_count": 1,
   "id": "764f805d",
   "metadata": {
    "execution": {
     "iopub.execute_input": "2023-10-02T14:21:43.108082Z",
     "iopub.status.busy": "2023-10-02T14:21:43.107909Z",
     "iopub.status.idle": "2023-10-02T14:21:43.113576Z",
     "shell.execute_reply": "2023-10-02T14:21:43.112995Z"
    },
    "papermill": {
     "duration": 0.009616,
     "end_time": "2023-10-02T14:21:43.115007",
     "exception": false,
     "start_time": "2023-10-02T14:21:43.105391",
     "status": "completed"
    },
    "tags": [
     "parameters"
    ]
   },
   "outputs": [],
   "source": [
    "upstream = ['01-get']\n",
    "product = None\n",
    "\n",
    "import re"
   ]
  },
  {
   "cell_type": "code",
   "execution_count": 2,
   "id": "688aa7f5",
   "metadata": {
    "execution": {
     "iopub.execute_input": "2023-10-02T14:21:43.120971Z",
     "iopub.status.busy": "2023-10-02T14:21:43.120628Z",
     "iopub.status.idle": "2023-10-02T14:21:43.123156Z",
     "shell.execute_reply": "2023-10-02T14:21:43.122790Z"
    },
    "papermill": {
     "duration": 0.006767,
     "end_time": "2023-10-02T14:21:43.124412",
     "exception": false,
     "start_time": "2023-10-02T14:21:43.117645",
     "status": "completed"
    },
    "tags": [
     "injected-parameters"
    ]
   },
   "outputs": [],
   "source": [
    "# Parameters\n",
    "upstream = {\"01-get\": {\"nb\": \"/home/luiscberrocal/PycharmProjects/hacktoberfest-2023/kaggle/products/extract-pipeline.ipynb\", \"csv_file\": \"/home/luiscberrocal/PycharmProjects/hacktoberfest-2023/kaggle/data/house_prices.csv\"}}\n",
    "product = {\"nb\": \"/home/luiscberrocal/PycharmProjects/hacktoberfest-2023/kaggle/products/cleanup.ipynb\", \"clean_csv\": \"/home/luiscberrocal/PycharmProjects/hacktoberfest-2023/kaggle/data/house_prices_clean.csv\"}\n"
   ]
  },
  {
   "cell_type": "code",
   "execution_count": 3,
   "id": "30bbaa8b",
   "metadata": {
    "execution": {
     "iopub.execute_input": "2023-10-02T14:21:43.130243Z",
     "iopub.status.busy": "2023-10-02T14:21:43.129896Z",
     "iopub.status.idle": "2023-10-02T14:21:43.445638Z",
     "shell.execute_reply": "2023-10-02T14:21:43.445024Z"
    },
    "papermill": {
     "duration": 0.320385,
     "end_time": "2023-10-02T14:21:43.447148",
     "exception": false,
     "start_time": "2023-10-02T14:21:43.126763",
     "status": "completed"
    },
    "tags": []
   },
   "outputs": [],
   "source": [
    "import pandas as pd"
   ]
  },
  {
   "cell_type": "code",
   "execution_count": 4,
   "id": "751b602f",
   "metadata": {
    "execution": {
     "iopub.execute_input": "2023-10-02T14:21:43.457889Z",
     "iopub.status.busy": "2023-10-02T14:21:43.457589Z",
     "iopub.status.idle": "2023-10-02T14:21:43.489888Z",
     "shell.execute_reply": "2023-10-02T14:21:43.489351Z"
    },
    "papermill": {
     "duration": 0.041951,
     "end_time": "2023-10-02T14:21:43.491772",
     "exception": false,
     "start_time": "2023-10-02T14:21:43.449821",
     "status": "completed"
    },
    "tags": []
   },
   "outputs": [],
   "source": [
    "df = pd.read_csv(upstream['01-get']['csv_file'])"
   ]
  },
  {
   "cell_type": "code",
   "execution_count": 5,
   "id": "9ac81383",
   "metadata": {
    "execution": {
     "iopub.execute_input": "2023-10-02T14:21:43.502303Z",
     "iopub.status.busy": "2023-10-02T14:21:43.502034Z",
     "iopub.status.idle": "2023-10-02T14:21:43.512942Z",
     "shell.execute_reply": "2023-10-02T14:21:43.512458Z"
    },
    "papermill": {
     "duration": 0.018408,
     "end_time": "2023-10-02T14:21:43.514118",
     "exception": false,
     "start_time": "2023-10-02T14:21:43.495710",
     "status": "completed"
    },
    "tags": []
   },
   "outputs": [
    {
     "name": "stdout",
     "output_type": "stream",
     "text": [
      "<class 'pandas.core.frame.DataFrame'>\n",
      "RangeIndex: 29451 entries, 0 to 29450\n",
      "Data columns (total 12 columns):\n",
      " #   Column                 Non-Null Count  Dtype  \n",
      "---  ------                 --------------  -----  \n",
      " 0   POSTED_BY              29451 non-null  object \n",
      " 1   UNDER_CONSTRUCTION     29451 non-null  int64  \n",
      " 2   RERA                   29451 non-null  int64  \n",
      " 3   BHK_NO.                29451 non-null  int64  \n",
      " 4   BHK_OR_RK              29451 non-null  object \n",
      " 5   SQUARE_FT              29451 non-null  float64\n",
      " 6   READY_TO_MOVE          29451 non-null  int64  \n",
      " 7   RESALE                 29451 non-null  int64  \n",
      " 8   ADDRESS                29451 non-null  object \n",
      " 9   LONGITUDE              29451 non-null  float64\n",
      " 10  LATITUDE               29451 non-null  float64\n",
      " 11  TARGET(PRICE_IN_LACS)  29451 non-null  float64\n",
      "dtypes: float64(4), int64(5), object(3)\n",
      "memory usage: 2.7+ MB\n"
     ]
    }
   ],
   "source": [
    "df.info()"
   ]
  },
  {
   "cell_type": "code",
   "execution_count": 6,
   "id": "550cf68e",
   "metadata": {
    "execution": {
     "iopub.execute_input": "2023-10-02T14:21:43.518954Z",
     "iopub.status.busy": "2023-10-02T14:21:43.518762Z",
     "iopub.status.idle": "2023-10-02T14:21:43.532330Z",
     "shell.execute_reply": "2023-10-02T14:21:43.531736Z"
    },
    "papermill": {
     "duration": 0.017398,
     "end_time": "2023-10-02T14:21:43.533518",
     "exception": false,
     "start_time": "2023-10-02T14:21:43.516120",
     "status": "completed"
    },
    "tags": []
   },
   "outputs": [
    {
     "name": "stdout",
     "output_type": "stream",
     "text": [
      "<class 'pandas.core.frame.DataFrame'>\n",
      "RangeIndex: 29451 entries, 0 to 29450\n",
      "Data columns (total 12 columns):\n",
      " #   Column               Non-Null Count  Dtype  \n",
      "---  ------               --------------  -----  \n",
      " 0   posted_by            29451 non-null  object \n",
      " 1   under_construction   29451 non-null  int64  \n",
      " 2   rera                 29451 non-null  int64  \n",
      " 3   bhk_no               29451 non-null  int64  \n",
      " 4   bhk_or_rk            29451 non-null  object \n",
      " 5   square_ft            29451 non-null  float64\n",
      " 6   ready_to_move        29451 non-null  int64  \n",
      " 7   resale               29451 non-null  int64  \n",
      " 8   address              29451 non-null  object \n",
      " 9   longitude            29451 non-null  float64\n",
      " 10  latitude             29451 non-null  float64\n",
      " 11  targetprice_in_lacs  29451 non-null  float64\n",
      "dtypes: float64(4), int64(5), object(3)\n",
      "memory usage: 2.7+ MB\n"
     ]
    }
   ],
   "source": [
    "df.isna().sum()\n",
    "\n",
    "## %%\n",
    "# Rename columns to snake case\n",
    "renamed_mapping = {}\n",
    "for c in df.columns:\n",
    "    new_c_name = re.sub('[^0-9a-zA-Z_]+', '', c)\n",
    "    renamed_mapping[c] = new_c_name.lower()  # .replace(' ', '_').replace('(', '').replace(')', '')\n",
    "renamed_mapping['targetprice_in_lacs'] = 'target_price_in_lacs'\n",
    "\n",
    "df = df.rename(columns=renamed_mapping)\n",
    "\n",
    "df.info()"
   ]
  },
  {
   "cell_type": "code",
   "execution_count": 7,
   "id": "1cdc7e1f",
   "metadata": {
    "execution": {
     "iopub.execute_input": "2023-10-02T14:21:43.538712Z",
     "iopub.status.busy": "2023-10-02T14:21:43.538499Z",
     "iopub.status.idle": "2023-10-02T14:21:43.545969Z",
     "shell.execute_reply": "2023-10-02T14:21:43.545438Z"
    },
    "papermill": {
     "duration": 0.011401,
     "end_time": "2023-10-02T14:21:43.547155",
     "exception": false,
     "start_time": "2023-10-02T14:21:43.535754",
     "status": "completed"
    },
    "tags": []
   },
   "outputs": [
    {
     "data": {
      "text/plain": [
       "posted_by\n",
       "Dealer     18291\n",
       "Owner      10538\n",
       "Builder      622\n",
       "Name: count, dtype: int64"
      ]
     },
     "execution_count": 7,
     "metadata": {},
     "output_type": "execute_result"
    }
   ],
   "source": [
    "df['posted_by'].value_counts()"
   ]
  },
  {
   "cell_type": "code",
   "execution_count": 8,
   "id": "3936208f",
   "metadata": {
    "execution": {
     "iopub.execute_input": "2023-10-02T14:21:43.552569Z",
     "iopub.status.busy": "2023-10-02T14:21:43.552366Z",
     "iopub.status.idle": "2023-10-02T14:21:43.557971Z",
     "shell.execute_reply": "2023-10-02T14:21:43.557359Z"
    },
    "papermill": {
     "duration": 0.009761,
     "end_time": "2023-10-02T14:21:43.559177",
     "exception": false,
     "start_time": "2023-10-02T14:21:43.549416",
     "status": "completed"
    },
    "tags": []
   },
   "outputs": [
    {
     "data": {
      "text/plain": [
       "bhk_or_rk\n",
       "BHK    29427\n",
       "RK        24\n",
       "Name: count, dtype: int64"
      ]
     },
     "execution_count": 8,
     "metadata": {},
     "output_type": "execute_result"
    }
   ],
   "source": [
    "df['bhk_or_rk'].value_counts()"
   ]
  },
  {
   "cell_type": "code",
   "execution_count": 9,
   "id": "5bb4e5dc",
   "metadata": {
    "execution": {
     "iopub.execute_input": "2023-10-02T14:21:43.564792Z",
     "iopub.status.busy": "2023-10-02T14:21:43.564599Z",
     "iopub.status.idle": "2023-10-02T14:21:43.573684Z",
     "shell.execute_reply": "2023-10-02T14:21:43.573070Z"
    },
    "papermill": {
     "duration": 0.013297,
     "end_time": "2023-10-02T14:21:43.574960",
     "exception": false,
     "start_time": "2023-10-02T14:21:43.561663",
     "status": "completed"
    },
    "tags": []
   },
   "outputs": [],
   "source": [
    "df = pd.get_dummies(df, columns=['posted_by', 'bhk_or_rk'])"
   ]
  },
  {
   "cell_type": "code",
   "execution_count": 10,
   "id": "2c2c0b18",
   "metadata": {
    "execution": {
     "iopub.execute_input": "2023-10-02T14:21:43.580562Z",
     "iopub.status.busy": "2023-10-02T14:21:43.580360Z",
     "iopub.status.idle": "2023-10-02T14:21:43.592227Z",
     "shell.execute_reply": "2023-10-02T14:21:43.591632Z"
    },
    "papermill": {
     "duration": 0.016117,
     "end_time": "2023-10-02T14:21:43.593466",
     "exception": false,
     "start_time": "2023-10-02T14:21:43.577349",
     "status": "completed"
    },
    "tags": []
   },
   "outputs": [
    {
     "data": {
      "text/html": [
       "<div>\n",
       "<style scoped>\n",
       "    .dataframe tbody tr th:only-of-type {\n",
       "        vertical-align: middle;\n",
       "    }\n",
       "\n",
       "    .dataframe tbody tr th {\n",
       "        vertical-align: top;\n",
       "    }\n",
       "\n",
       "    .dataframe thead th {\n",
       "        text-align: right;\n",
       "    }\n",
       "</style>\n",
       "<table border=\"1\" class=\"dataframe\">\n",
       "  <thead>\n",
       "    <tr style=\"text-align: right;\">\n",
       "      <th></th>\n",
       "      <th>under_construction</th>\n",
       "      <th>rera</th>\n",
       "      <th>bhk_no</th>\n",
       "      <th>square_ft</th>\n",
       "      <th>ready_to_move</th>\n",
       "      <th>resale</th>\n",
       "      <th>address</th>\n",
       "      <th>longitude</th>\n",
       "      <th>latitude</th>\n",
       "      <th>targetprice_in_lacs</th>\n",
       "      <th>posted_by_Builder</th>\n",
       "      <th>posted_by_Dealer</th>\n",
       "      <th>posted_by_Owner</th>\n",
       "      <th>bhk_or_rk_BHK</th>\n",
       "      <th>bhk_or_rk_RK</th>\n",
       "    </tr>\n",
       "  </thead>\n",
       "  <tbody>\n",
       "    <tr>\n",
       "      <th>0</th>\n",
       "      <td>0</td>\n",
       "      <td>0</td>\n",
       "      <td>2</td>\n",
       "      <td>1300.236407</td>\n",
       "      <td>1</td>\n",
       "      <td>1</td>\n",
       "      <td>Ksfc Layout,Bangalore</td>\n",
       "      <td>12.969910</td>\n",
       "      <td>77.597960</td>\n",
       "      <td>55.0</td>\n",
       "      <td>False</td>\n",
       "      <td>False</td>\n",
       "      <td>True</td>\n",
       "      <td>True</td>\n",
       "      <td>False</td>\n",
       "    </tr>\n",
       "    <tr>\n",
       "      <th>1</th>\n",
       "      <td>0</td>\n",
       "      <td>0</td>\n",
       "      <td>2</td>\n",
       "      <td>1275.000000</td>\n",
       "      <td>1</td>\n",
       "      <td>1</td>\n",
       "      <td>Vishweshwara Nagar,Mysore</td>\n",
       "      <td>12.274538</td>\n",
       "      <td>76.644605</td>\n",
       "      <td>51.0</td>\n",
       "      <td>False</td>\n",
       "      <td>True</td>\n",
       "      <td>False</td>\n",
       "      <td>True</td>\n",
       "      <td>False</td>\n",
       "    </tr>\n",
       "    <tr>\n",
       "      <th>2</th>\n",
       "      <td>0</td>\n",
       "      <td>0</td>\n",
       "      <td>2</td>\n",
       "      <td>933.159722</td>\n",
       "      <td>1</td>\n",
       "      <td>1</td>\n",
       "      <td>Jigani,Bangalore</td>\n",
       "      <td>12.778033</td>\n",
       "      <td>77.632191</td>\n",
       "      <td>43.0</td>\n",
       "      <td>False</td>\n",
       "      <td>False</td>\n",
       "      <td>True</td>\n",
       "      <td>True</td>\n",
       "      <td>False</td>\n",
       "    </tr>\n",
       "    <tr>\n",
       "      <th>3</th>\n",
       "      <td>0</td>\n",
       "      <td>1</td>\n",
       "      <td>2</td>\n",
       "      <td>929.921143</td>\n",
       "      <td>1</td>\n",
       "      <td>1</td>\n",
       "      <td>Sector-1 Vaishali,Ghaziabad</td>\n",
       "      <td>28.642300</td>\n",
       "      <td>77.344500</td>\n",
       "      <td>62.5</td>\n",
       "      <td>False</td>\n",
       "      <td>False</td>\n",
       "      <td>True</td>\n",
       "      <td>True</td>\n",
       "      <td>False</td>\n",
       "    </tr>\n",
       "    <tr>\n",
       "      <th>4</th>\n",
       "      <td>1</td>\n",
       "      <td>0</td>\n",
       "      <td>2</td>\n",
       "      <td>999.009247</td>\n",
       "      <td>0</td>\n",
       "      <td>1</td>\n",
       "      <td>New Town,Kolkata</td>\n",
       "      <td>22.592200</td>\n",
       "      <td>88.484911</td>\n",
       "      <td>60.5</td>\n",
       "      <td>False</td>\n",
       "      <td>True</td>\n",
       "      <td>False</td>\n",
       "      <td>True</td>\n",
       "      <td>False</td>\n",
       "    </tr>\n",
       "  </tbody>\n",
       "</table>\n",
       "</div>"
      ],
      "text/plain": [
       "   under_construction  rera  bhk_no    square_ft  ready_to_move  resale  \\\n",
       "0                   0     0       2  1300.236407              1       1   \n",
       "1                   0     0       2  1275.000000              1       1   \n",
       "2                   0     0       2   933.159722              1       1   \n",
       "3                   0     1       2   929.921143              1       1   \n",
       "4                   1     0       2   999.009247              0       1   \n",
       "\n",
       "                       address  longitude   latitude  targetprice_in_lacs  \\\n",
       "0        Ksfc Layout,Bangalore  12.969910  77.597960                 55.0   \n",
       "1    Vishweshwara Nagar,Mysore  12.274538  76.644605                 51.0   \n",
       "2             Jigani,Bangalore  12.778033  77.632191                 43.0   \n",
       "3  Sector-1 Vaishali,Ghaziabad  28.642300  77.344500                 62.5   \n",
       "4             New Town,Kolkata  22.592200  88.484911                 60.5   \n",
       "\n",
       "   posted_by_Builder  posted_by_Dealer  posted_by_Owner  bhk_or_rk_BHK  \\\n",
       "0              False             False             True           True   \n",
       "1              False              True            False           True   \n",
       "2              False             False             True           True   \n",
       "3              False             False             True           True   \n",
       "4              False              True            False           True   \n",
       "\n",
       "   bhk_or_rk_RK  \n",
       "0         False  \n",
       "1         False  \n",
       "2         False  \n",
       "3         False  \n",
       "4         False  "
      ]
     },
     "execution_count": 10,
     "metadata": {},
     "output_type": "execute_result"
    }
   ],
   "source": [
    "df.head()"
   ]
  },
  {
   "cell_type": "code",
   "execution_count": 11,
   "id": "69293202",
   "metadata": {
    "execution": {
     "iopub.execute_input": "2023-10-02T14:21:43.599496Z",
     "iopub.status.busy": "2023-10-02T14:21:43.599197Z",
     "iopub.status.idle": "2023-10-02T14:21:43.607710Z",
     "shell.execute_reply": "2023-10-02T14:21:43.607112Z"
    },
    "papermill": {
     "duration": 0.012879,
     "end_time": "2023-10-02T14:21:43.608953",
     "exception": false,
     "start_time": "2023-10-02T14:21:43.596074",
     "status": "completed"
    },
    "tags": []
   },
   "outputs": [
    {
     "name": "stdout",
     "output_type": "stream",
     "text": [
      "<class 'pandas.core.frame.DataFrame'>\n",
      "RangeIndex: 29451 entries, 0 to 29450\n",
      "Data columns (total 15 columns):\n",
      " #   Column               Non-Null Count  Dtype  \n",
      "---  ------               --------------  -----  \n",
      " 0   under_construction   29451 non-null  int64  \n",
      " 1   rera                 29451 non-null  int64  \n",
      " 2   bhk_no               29451 non-null  int64  \n",
      " 3   square_ft            29451 non-null  float64\n",
      " 4   ready_to_move        29451 non-null  int64  \n",
      " 5   resale               29451 non-null  int64  \n",
      " 6   address              29451 non-null  object \n",
      " 7   longitude            29451 non-null  float64\n",
      " 8   latitude             29451 non-null  float64\n",
      " 9   targetprice_in_lacs  29451 non-null  float64\n",
      " 10  posted_by_Builder    29451 non-null  bool   \n",
      " 11  posted_by_Dealer     29451 non-null  bool   \n",
      " 12  posted_by_Owner      29451 non-null  bool   \n",
      " 13  bhk_or_rk_BHK        29451 non-null  bool   \n",
      " 14  bhk_or_rk_RK         29451 non-null  bool   \n",
      "dtypes: bool(5), float64(4), int64(5), object(1)\n",
      "memory usage: 2.4+ MB\n"
     ]
    }
   ],
   "source": [
    "df.info()"
   ]
  },
  {
   "cell_type": "code",
   "execution_count": 12,
   "id": "1d28ea78",
   "metadata": {
    "execution": {
     "iopub.execute_input": "2023-10-02T14:21:43.615678Z",
     "iopub.status.busy": "2023-10-02T14:21:43.615161Z",
     "iopub.status.idle": "2023-10-02T14:21:43.624446Z",
     "shell.execute_reply": "2023-10-02T14:21:43.623890Z"
    },
    "papermill": {
     "duration": 0.013982,
     "end_time": "2023-10-02T14:21:43.625652",
     "exception": false,
     "start_time": "2023-10-02T14:21:43.611670",
     "status": "completed"
    },
    "tags": []
   },
   "outputs": [
    {
     "name": "stdout",
     "output_type": "stream",
     "text": [
      "posted_by_Builder bool\n",
      "posted_by_Dealer bool\n",
      "posted_by_Owner bool\n",
      "bhk_or_rk_BHK bool\n",
      "bhk_or_rk_RK bool\n",
      "<class 'pandas.core.frame.DataFrame'>\n",
      "RangeIndex: 29451 entries, 0 to 29450\n",
      "Data columns (total 15 columns):\n",
      " #   Column               Non-Null Count  Dtype  \n",
      "---  ------               --------------  -----  \n",
      " 0   under_construction   29451 non-null  int64  \n",
      " 1   rera                 29451 non-null  int64  \n",
      " 2   bhk_no               29451 non-null  int64  \n",
      " 3   square_ft            29451 non-null  float64\n",
      " 4   ready_to_move        29451 non-null  int64  \n",
      " 5   resale               29451 non-null  int64  \n",
      " 6   address              29451 non-null  object \n",
      " 7   longitude            29451 non-null  float64\n",
      " 8   latitude             29451 non-null  float64\n",
      " 9   targetprice_in_lacs  29451 non-null  float64\n",
      " 10  posted_by_Builder    29451 non-null  int64  \n",
      " 11  posted_by_Dealer     29451 non-null  int64  \n",
      " 12  posted_by_Owner      29451 non-null  int64  \n",
      " 13  bhk_or_rk_BHK        29451 non-null  int64  \n",
      " 14  bhk_or_rk_RK         29451 non-null  int64  \n",
      "dtypes: float64(4), int64(10), object(1)\n",
      "memory usage: 3.4+ MB\n"
     ]
    }
   ],
   "source": [
    "for c in df.columns:\n",
    "    if df[c].dtype == bool:\n",
    "        print(f'{c} {df[c].dtype}')\n",
    "        df[c] = df[c].astype(int)\n",
    "\n",
    "df.info()"
   ]
  },
  {
   "cell_type": "code",
   "execution_count": 13,
   "id": "b266a451",
   "metadata": {
    "execution": {
     "iopub.execute_input": "2023-10-02T14:21:43.632473Z",
     "iopub.status.busy": "2023-10-02T14:21:43.632220Z",
     "iopub.status.idle": "2023-10-02T14:21:43.634677Z",
     "shell.execute_reply": "2023-10-02T14:21:43.634221Z"
    },
    "lines_to_next_cell": 0,
    "papermill": {
     "duration": 0.007376,
     "end_time": "2023-10-02T14:21:43.635958",
     "exception": false,
     "start_time": "2023-10-02T14:21:43.628582",
     "status": "completed"
    },
    "tags": []
   },
   "outputs": [],
   "source": [
    "# 1. hot shoe encoding\n",
    "# 2. Drop encoded columns\n",
    "# 3. Extract city\n",
    "# 4."
   ]
  },
  {
   "cell_type": "code",
   "execution_count": 14,
   "id": "21b2595e",
   "metadata": {
    "execution": {
     "iopub.execute_input": "2023-10-02T14:21:43.642782Z",
     "iopub.status.busy": "2023-10-02T14:21:43.642578Z",
     "iopub.status.idle": "2023-10-02T14:21:43.754071Z",
     "shell.execute_reply": "2023-10-02T14:21:43.753451Z"
    },
    "papermill": {
     "duration": 0.116606,
     "end_time": "2023-10-02T14:21:43.755343",
     "exception": false,
     "start_time": "2023-10-02T14:21:43.638737",
     "status": "completed"
    },
    "tags": []
   },
   "outputs": [],
   "source": [
    "\n",
    "df.to_csv(product['clean_csv'], index=False)"
   ]
  }
 ],
 "metadata": {
  "jupytext": {
   "cell_metadata_filter": "tags,-all",
   "main_language": "python",
   "notebook_metadata_filter": "-all",
   "text_representation": {
    "extension": ".py",
    "format_name": "percent"
   }
  },
  "kernelspec": {
   "display_name": "Python 3 (ipykernel)",
   "language": "python",
   "name": "python3"
  },
  "language_info": {
   "codemirror_mode": {
    "name": "ipython",
    "version": 3
   },
   "file_extension": ".py",
   "mimetype": "text/x-python",
   "name": "python",
   "nbconvert_exporter": "python",
   "pygments_lexer": "ipython3",
   "version": "3.8.17"
  },
  "papermill": {
   "duration": 1.564718,
   "end_time": "2023-10-02T14:21:43.973485",
   "exception": null,
   "input_path": "/tmp/tmpc8oa9qes.ipynb",
   "output_path": "/home/luiscberrocal/PycharmProjects/hacktoberfest-2023/kaggle/products/cleanup.ipynb",
   "parameters": {
    "product": {
     "clean_csv": "/home/luiscberrocal/PycharmProjects/hacktoberfest-2023/kaggle/data/house_prices_clean.csv",
     "nb": "/home/luiscberrocal/PycharmProjects/hacktoberfest-2023/kaggle/products/cleanup.ipynb"
    },
    "upstream": {
     "01-get": {
      "csv_file": "/home/luiscberrocal/PycharmProjects/hacktoberfest-2023/kaggle/data/house_prices.csv",
      "nb": "/home/luiscberrocal/PycharmProjects/hacktoberfest-2023/kaggle/products/extract-pipeline.ipynb"
     }
    }
   },
   "start_time": "2023-10-02T14:21:42.408767"
  }
 },
 "nbformat": 4,
 "nbformat_minor": 5
}
