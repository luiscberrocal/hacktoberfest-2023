{
 "cells": [
  {
   "cell_type": "code",
   "execution_count": 1,
   "id": "1422a98c",
   "metadata": {
    "execution": {
     "iopub.execute_input": "2023-10-04T15:20:32.854187Z",
     "iopub.status.busy": "2023-10-04T15:20:32.853487Z",
     "iopub.status.idle": "2023-10-04T15:20:32.878365Z",
     "shell.execute_reply": "2023-10-04T15:20:32.875753Z"
    },
    "papermill": {
     "duration": 0.037453,
     "end_time": "2023-10-04T15:20:32.883187",
     "exception": false,
     "start_time": "2023-10-04T15:20:32.845734",
     "status": "completed"
    },
    "tags": [
     "parameters"
    ]
   },
   "outputs": [],
   "source": [
    "# declare a list tasks whose products you want to use as inputs\n",
    "upstream = ['02-cleanup']\n",
    "product = None"
   ]
  },
  {
   "cell_type": "code",
   "execution_count": 2,
   "id": "5a2cd709",
   "metadata": {
    "execution": {
     "iopub.execute_input": "2023-10-04T15:20:32.887662Z",
     "iopub.status.busy": "2023-10-04T15:20:32.887425Z",
     "iopub.status.idle": "2023-10-04T15:20:32.891103Z",
     "shell.execute_reply": "2023-10-04T15:20:32.890298Z"
    },
    "papermill": {
     "duration": 0.007564,
     "end_time": "2023-10-04T15:20:32.892698",
     "exception": false,
     "start_time": "2023-10-04T15:20:32.885134",
     "status": "completed"
    },
    "tags": [
     "injected-parameters"
    ]
   },
   "outputs": [],
   "source": [
    "# Parameters\n",
    "upstream = {\"02-cleanup\": {\"nb\": \"/home/luiscberrocal/PycharmProjects/hacktoberfest-2023/kaggle/products/cleanup.ipynb\", \"clean_csv\": \"/home/luiscberrocal/PycharmProjects/hacktoberfest-2023/kaggle/data/house_prices_clean.csv\"}}\n",
    "product = {\"nb\": \"/home/luiscberrocal/PycharmProjects/hacktoberfest-2023/kaggle/products/04_transform.ipynb\", \"transformed_csv\": \"/home/luiscberrocal/PycharmProjects/hacktoberfest-2023/kaggle/data/house_prices_transformed.csv\"}\n"
   ]
  },
  {
   "cell_type": "code",
   "execution_count": 3,
   "id": "fd31ce3d",
   "metadata": {
    "execution": {
     "iopub.execute_input": "2023-10-04T15:20:32.896683Z",
     "iopub.status.busy": "2023-10-04T15:20:32.896391Z",
     "iopub.status.idle": "2023-10-04T15:20:32.899360Z",
     "shell.execute_reply": "2023-10-04T15:20:32.898828Z"
    },
    "papermill": {
     "duration": 0.006616,
     "end_time": "2023-10-04T15:20:32.900840",
     "exception": false,
     "start_time": "2023-10-04T15:20:32.894224",
     "status": "completed"
    },
    "tags": []
   },
   "outputs": [],
   "source": [
    "import warnings\n",
    "\n",
    "warnings.filterwarnings('ignore')"
   ]
  },
  {
   "cell_type": "code",
   "execution_count": 4,
   "id": "aef236be",
   "metadata": {
    "execution": {
     "iopub.execute_input": "2023-10-04T15:20:32.904733Z",
     "iopub.status.busy": "2023-10-04T15:20:32.904523Z",
     "iopub.status.idle": "2023-10-04T15:20:33.171989Z",
     "shell.execute_reply": "2023-10-04T15:20:33.171352Z"
    },
    "lines_to_next_cell": 0,
    "papermill": {
     "duration": 0.270996,
     "end_time": "2023-10-04T15:20:33.173385",
     "exception": false,
     "start_time": "2023-10-04T15:20:32.902389",
     "status": "completed"
    },
    "tags": []
   },
   "outputs": [],
   "source": [
    "import pandas as pd\n",
    "import numpy as np"
   ]
  },
  {
   "cell_type": "code",
   "execution_count": 5,
   "id": "aa87f04b",
   "metadata": {
    "execution": {
     "iopub.execute_input": "2023-10-04T15:20:33.182547Z",
     "iopub.status.busy": "2023-10-04T15:20:33.182289Z",
     "iopub.status.idle": "2023-10-04T15:20:33.214449Z",
     "shell.execute_reply": "2023-10-04T15:20:33.214069Z"
    },
    "lines_to_next_cell": 0,
    "papermill": {
     "duration": 0.040829,
     "end_time": "2023-10-04T15:20:33.215550",
     "exception": false,
     "start_time": "2023-10-04T15:20:33.174721",
     "status": "completed"
    },
    "tags": []
   },
   "outputs": [
    {
     "data": {
      "text/html": [
       "<div>\n",
       "<style scoped>\n",
       "    .dataframe tbody tr th:only-of-type {\n",
       "        vertical-align: middle;\n",
       "    }\n",
       "\n",
       "    .dataframe tbody tr th {\n",
       "        vertical-align: top;\n",
       "    }\n",
       "\n",
       "    .dataframe thead th {\n",
       "        text-align: right;\n",
       "    }\n",
       "</style>\n",
       "<table border=\"1\" class=\"dataframe\">\n",
       "  <thead>\n",
       "    <tr style=\"text-align: right;\">\n",
       "      <th></th>\n",
       "      <th>under_construction</th>\n",
       "      <th>rera</th>\n",
       "      <th>bhk_no</th>\n",
       "      <th>ready_to_move</th>\n",
       "      <th>resale</th>\n",
       "      <th>longitude</th>\n",
       "      <th>latitude</th>\n",
       "      <th>price</th>\n",
       "      <th>area_m2</th>\n",
       "      <th>posted_by_Builder</th>\n",
       "      <th>posted_by_Dealer</th>\n",
       "      <th>posted_by_Owner</th>\n",
       "      <th>bhk_or_rk_BHK</th>\n",
       "      <th>bhk_or_rk_RK</th>\n",
       "    </tr>\n",
       "  </thead>\n",
       "  <tbody>\n",
       "    <tr>\n",
       "      <th>0</th>\n",
       "      <td>0</td>\n",
       "      <td>0</td>\n",
       "      <td>2</td>\n",
       "      <td>1</td>\n",
       "      <td>1</td>\n",
       "      <td>12.969910</td>\n",
       "      <td>77.597960</td>\n",
       "      <td>76835.0</td>\n",
       "      <td>120.795863</td>\n",
       "      <td>0</td>\n",
       "      <td>0</td>\n",
       "      <td>1</td>\n",
       "      <td>1</td>\n",
       "      <td>0</td>\n",
       "    </tr>\n",
       "    <tr>\n",
       "      <th>1</th>\n",
       "      <td>0</td>\n",
       "      <td>0</td>\n",
       "      <td>2</td>\n",
       "      <td>1</td>\n",
       "      <td>1</td>\n",
       "      <td>12.274538</td>\n",
       "      <td>76.644605</td>\n",
       "      <td>71247.0</td>\n",
       "      <td>118.451325</td>\n",
       "      <td>0</td>\n",
       "      <td>1</td>\n",
       "      <td>0</td>\n",
       "      <td>1</td>\n",
       "      <td>0</td>\n",
       "    </tr>\n",
       "    <tr>\n",
       "      <th>2</th>\n",
       "      <td>0</td>\n",
       "      <td>0</td>\n",
       "      <td>2</td>\n",
       "      <td>1</td>\n",
       "      <td>1</td>\n",
       "      <td>12.778033</td>\n",
       "      <td>77.632191</td>\n",
       "      <td>60071.0</td>\n",
       "      <td>86.693338</td>\n",
       "      <td>0</td>\n",
       "      <td>0</td>\n",
       "      <td>1</td>\n",
       "      <td>1</td>\n",
       "      <td>0</td>\n",
       "    </tr>\n",
       "    <tr>\n",
       "      <th>3</th>\n",
       "      <td>0</td>\n",
       "      <td>1</td>\n",
       "      <td>2</td>\n",
       "      <td>1</td>\n",
       "      <td>1</td>\n",
       "      <td>28.642300</td>\n",
       "      <td>77.344500</td>\n",
       "      <td>87312.5</td>\n",
       "      <td>86.392464</td>\n",
       "      <td>0</td>\n",
       "      <td>0</td>\n",
       "      <td>1</td>\n",
       "      <td>1</td>\n",
       "      <td>0</td>\n",
       "    </tr>\n",
       "    <tr>\n",
       "      <th>4</th>\n",
       "      <td>1</td>\n",
       "      <td>0</td>\n",
       "      <td>2</td>\n",
       "      <td>0</td>\n",
       "      <td>1</td>\n",
       "      <td>22.592200</td>\n",
       "      <td>88.484911</td>\n",
       "      <td>84518.5</td>\n",
       "      <td>92.810956</td>\n",
       "      <td>0</td>\n",
       "      <td>1</td>\n",
       "      <td>0</td>\n",
       "      <td>1</td>\n",
       "      <td>0</td>\n",
       "    </tr>\n",
       "  </tbody>\n",
       "</table>\n",
       "</div>"
      ],
      "text/plain": [
       "   under_construction  rera  bhk_no  ready_to_move  resale  longitude  \\\n",
       "0                   0     0       2              1       1  12.969910   \n",
       "1                   0     0       2              1       1  12.274538   \n",
       "2                   0     0       2              1       1  12.778033   \n",
       "3                   0     1       2              1       1  28.642300   \n",
       "4                   1     0       2              0       1  22.592200   \n",
       "\n",
       "    latitude    price     area_m2  posted_by_Builder  posted_by_Dealer  \\\n",
       "0  77.597960  76835.0  120.795863                  0                 0   \n",
       "1  76.644605  71247.0  118.451325                  0                 1   \n",
       "2  77.632191  60071.0   86.693338                  0                 0   \n",
       "3  77.344500  87312.5   86.392464                  0                 0   \n",
       "4  88.484911  84518.5   92.810956                  0                 1   \n",
       "\n",
       "   posted_by_Owner  bhk_or_rk_BHK  bhk_or_rk_RK  \n",
       "0                1              1             0  \n",
       "1                0              1             0  \n",
       "2                1              1             0  \n",
       "3                1              1             0  \n",
       "4                0              1             0  "
      ]
     },
     "execution_count": 5,
     "metadata": {},
     "output_type": "execute_result"
    }
   ],
   "source": [
    "df = pd.read_csv(upstream['02-cleanup']['clean_csv'])\n",
    "\n",
    "df.head()"
   ]
  },
  {
   "cell_type": "code",
   "execution_count": 6,
   "id": "4c507b08",
   "metadata": {
    "execution": {
     "iopub.execute_input": "2023-10-04T15:20:33.218900Z",
     "iopub.status.busy": "2023-10-04T15:20:33.218736Z",
     "iopub.status.idle": "2023-10-04T15:20:33.221086Z",
     "shell.execute_reply": "2023-10-04T15:20:33.220600Z"
    },
    "papermill": {
     "duration": 0.005328,
     "end_time": "2023-10-04T15:20:33.222226",
     "exception": false,
     "start_time": "2023-10-04T15:20:33.216898",
     "status": "completed"
    },
    "tags": []
   },
   "outputs": [],
   "source": [
    "# Scaling\n",
    "# df['bhk_no'] = np.log(df['bhk_no'] + 1)"
   ]
  },
  {
   "cell_type": "code",
   "execution_count": 7,
   "id": "55cfe8c1",
   "metadata": {
    "execution": {
     "iopub.execute_input": "2023-10-04T15:20:33.226335Z",
     "iopub.status.busy": "2023-10-04T15:20:33.226188Z",
     "iopub.status.idle": "2023-10-04T15:20:33.324934Z",
     "shell.execute_reply": "2023-10-04T15:20:33.324405Z"
    },
    "papermill": {
     "duration": 0.102365,
     "end_time": "2023-10-04T15:20:33.326101",
     "exception": false,
     "start_time": "2023-10-04T15:20:33.223736",
     "status": "completed"
    },
    "tags": []
   },
   "outputs": [],
   "source": [
    "df.to_csv(product['transformed_csv'], index=False)"
   ]
  }
 ],
 "metadata": {
  "jupytext": {
   "cell_metadata_filter": "tags,-all",
   "main_language": "python",
   "notebook_metadata_filter": "-all",
   "text_representation": {
    "extension": ".py",
    "format_name": "percent"
   }
  },
  "kernelspec": {
   "display_name": "Python 3 (ipykernel)",
   "language": "python",
   "name": "python3"
  },
  "language_info": {
   "codemirror_mode": {
    "name": "ipython",
    "version": 3
   },
   "file_extension": ".py",
   "mimetype": "text/x-python",
   "name": "python",
   "nbconvert_exporter": "python",
   "pygments_lexer": "ipython3",
   "version": "3.10.12"
  },
  "papermill": {
   "duration": 1.554945,
   "end_time": "2023-10-04T15:20:33.651278",
   "exception": null,
   "input_path": "/tmp/tmpq_c3enud.ipynb",
   "output_path": "/home/luiscberrocal/PycharmProjects/hacktoberfest-2023/kaggle/products/04_transform.ipynb",
   "parameters": {
    "product": {
     "nb": "/home/luiscberrocal/PycharmProjects/hacktoberfest-2023/kaggle/products/04_transform.ipynb",
     "transformed_csv": "/home/luiscberrocal/PycharmProjects/hacktoberfest-2023/kaggle/data/house_prices_transformed.csv"
    },
    "upstream": {
     "02-cleanup": {
      "clean_csv": "/home/luiscberrocal/PycharmProjects/hacktoberfest-2023/kaggle/data/house_prices_clean.csv",
      "nb": "/home/luiscberrocal/PycharmProjects/hacktoberfest-2023/kaggle/products/cleanup.ipynb"
     }
    }
   },
   "start_time": "2023-10-04T15:20:32.096333"
  }
 },
 "nbformat": 4,
 "nbformat_minor": 5
}