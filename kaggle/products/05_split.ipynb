{
 "cells": [
  {
   "cell_type": "code",
   "execution_count": 1,
   "id": "41483945",
   "metadata": {
    "execution": {
     "iopub.execute_input": "2023-10-04T12:35:25.533659Z",
     "iopub.status.busy": "2023-10-04T12:35:25.532971Z",
     "iopub.status.idle": "2023-10-04T12:35:25.541368Z",
     "shell.execute_reply": "2023-10-04T12:35:25.540829Z"
    },
    "papermill": {
     "duration": 0.011805,
     "end_time": "2023-10-04T12:35:25.542437",
     "exception": false,
     "start_time": "2023-10-04T12:35:25.530632",
     "status": "completed"
    },
    "tags": [
     "parameters"
    ]
   },
   "outputs": [],
   "source": [
    "# declare a list tasks whose products you want to use as inputs\n",
    "upstream = ['02-cleanup']\n",
    "product = None"
   ]
  },
  {
   "cell_type": "code",
   "execution_count": 2,
   "id": "c71dba1d",
   "metadata": {
    "execution": {
     "iopub.execute_input": "2023-10-04T12:35:25.545932Z",
     "iopub.status.busy": "2023-10-04T12:35:25.545695Z",
     "iopub.status.idle": "2023-10-04T12:35:25.548673Z",
     "shell.execute_reply": "2023-10-04T12:35:25.548170Z"
    },
    "papermill": {
     "duration": 0.005887,
     "end_time": "2023-10-04T12:35:25.549727",
     "exception": false,
     "start_time": "2023-10-04T12:35:25.543840",
     "status": "completed"
    },
    "tags": [
     "injected-parameters"
    ]
   },
   "outputs": [],
   "source": [
    "# Parameters\n",
    "upstream = {\"02-cleanup\": {\"nb\": \"/home/luiscberrocal/PycharmProjects/hacktoberfest-2023/kaggle/products/cleanup.ipynb\", \"clean_csv\": \"/home/luiscberrocal/PycharmProjects/hacktoberfest-2023/kaggle/data/house_prices_clean.csv\"}}\n",
    "product = {\"nb\": \"/home/luiscberrocal/PycharmProjects/hacktoberfest-2023/kaggle/products/05_split.ipynb\", \"train_data\": \"/home/luiscberrocal/PycharmProjects/hacktoberfest-2023/kaggle/data/house_prices_train.csv\", \"test_data\": \"/home/luiscberrocal/PycharmProjects/hacktoberfest-2023/kaggle/data/house_prices_test.csv\"}\n"
   ]
  },
  {
   "cell_type": "code",
   "execution_count": 3,
   "id": "65f4491b",
   "metadata": {
    "execution": {
     "iopub.execute_input": "2023-10-04T12:35:25.553400Z",
     "iopub.status.busy": "2023-10-04T12:35:25.553134Z",
     "iopub.status.idle": "2023-10-04T12:35:25.556002Z",
     "shell.execute_reply": "2023-10-04T12:35:25.555456Z"
    },
    "papermill": {
     "duration": 0.006135,
     "end_time": "2023-10-04T12:35:25.557125",
     "exception": false,
     "start_time": "2023-10-04T12:35:25.550990",
     "status": "completed"
    },
    "tags": []
   },
   "outputs": [],
   "source": [
    "import warnings\n",
    "\n",
    "warnings.filterwarnings('ignore')"
   ]
  },
  {
   "cell_type": "code",
   "execution_count": 4,
   "id": "474606df",
   "metadata": {
    "execution": {
     "iopub.execute_input": "2023-10-04T12:35:25.560627Z",
     "iopub.status.busy": "2023-10-04T12:35:25.560385Z",
     "iopub.status.idle": "2023-10-04T12:35:26.210848Z",
     "shell.execute_reply": "2023-10-04T12:35:26.210360Z"
    },
    "papermill": {
     "duration": 0.653744,
     "end_time": "2023-10-04T12:35:26.212246",
     "exception": false,
     "start_time": "2023-10-04T12:35:25.558502",
     "status": "completed"
    },
    "tags": []
   },
   "outputs": [],
   "source": [
    "import pandas as pd\n",
    "from sklearn.model_selection import train_test_split"
   ]
  },
  {
   "cell_type": "code",
   "execution_count": 5,
   "id": "ca145b61",
   "metadata": {
    "execution": {
     "iopub.execute_input": "2023-10-04T12:35:26.225009Z",
     "iopub.status.busy": "2023-10-04T12:35:26.224639Z",
     "iopub.status.idle": "2023-10-04T12:35:26.267390Z",
     "shell.execute_reply": "2023-10-04T12:35:26.266819Z"
    },
    "papermill": {
     "duration": 0.055084,
     "end_time": "2023-10-04T12:35:26.269046",
     "exception": false,
     "start_time": "2023-10-04T12:35:26.213962",
     "status": "completed"
    },
    "tags": []
   },
   "outputs": [
    {
     "data": {
      "text/html": [
       "<div>\n",
       "<style scoped>\n",
       "    .dataframe tbody tr th:only-of-type {\n",
       "        vertical-align: middle;\n",
       "    }\n",
       "\n",
       "    .dataframe tbody tr th {\n",
       "        vertical-align: top;\n",
       "    }\n",
       "\n",
       "    .dataframe thead th {\n",
       "        text-align: right;\n",
       "    }\n",
       "</style>\n",
       "<table border=\"1\" class=\"dataframe\">\n",
       "  <thead>\n",
       "    <tr style=\"text-align: right;\">\n",
       "      <th></th>\n",
       "      <th>under_construction</th>\n",
       "      <th>rera</th>\n",
       "      <th>bhk_no</th>\n",
       "      <th>ready_to_move</th>\n",
       "      <th>resale</th>\n",
       "      <th>longitude</th>\n",
       "      <th>latitude</th>\n",
       "      <th>price</th>\n",
       "      <th>area_m2</th>\n",
       "      <th>posted_by_Builder</th>\n",
       "      <th>posted_by_Dealer</th>\n",
       "      <th>posted_by_Owner</th>\n",
       "      <th>bhk_or_rk_BHK</th>\n",
       "      <th>bhk_or_rk_RK</th>\n",
       "    </tr>\n",
       "  </thead>\n",
       "  <tbody>\n",
       "    <tr>\n",
       "      <th>0</th>\n",
       "      <td>0</td>\n",
       "      <td>0</td>\n",
       "      <td>2</td>\n",
       "      <td>1</td>\n",
       "      <td>1</td>\n",
       "      <td>12.969910</td>\n",
       "      <td>77.597960</td>\n",
       "      <td>76835.0</td>\n",
       "      <td>120.795863</td>\n",
       "      <td>0</td>\n",
       "      <td>0</td>\n",
       "      <td>1</td>\n",
       "      <td>1</td>\n",
       "      <td>0</td>\n",
       "    </tr>\n",
       "    <tr>\n",
       "      <th>1</th>\n",
       "      <td>0</td>\n",
       "      <td>0</td>\n",
       "      <td>2</td>\n",
       "      <td>1</td>\n",
       "      <td>1</td>\n",
       "      <td>12.274538</td>\n",
       "      <td>76.644605</td>\n",
       "      <td>71247.0</td>\n",
       "      <td>118.451325</td>\n",
       "      <td>0</td>\n",
       "      <td>1</td>\n",
       "      <td>0</td>\n",
       "      <td>1</td>\n",
       "      <td>0</td>\n",
       "    </tr>\n",
       "    <tr>\n",
       "      <th>2</th>\n",
       "      <td>0</td>\n",
       "      <td>0</td>\n",
       "      <td>2</td>\n",
       "      <td>1</td>\n",
       "      <td>1</td>\n",
       "      <td>12.778033</td>\n",
       "      <td>77.632191</td>\n",
       "      <td>60071.0</td>\n",
       "      <td>86.693338</td>\n",
       "      <td>0</td>\n",
       "      <td>0</td>\n",
       "      <td>1</td>\n",
       "      <td>1</td>\n",
       "      <td>0</td>\n",
       "    </tr>\n",
       "    <tr>\n",
       "      <th>3</th>\n",
       "      <td>0</td>\n",
       "      <td>1</td>\n",
       "      <td>2</td>\n",
       "      <td>1</td>\n",
       "      <td>1</td>\n",
       "      <td>28.642300</td>\n",
       "      <td>77.344500</td>\n",
       "      <td>87312.5</td>\n",
       "      <td>86.392464</td>\n",
       "      <td>0</td>\n",
       "      <td>0</td>\n",
       "      <td>1</td>\n",
       "      <td>1</td>\n",
       "      <td>0</td>\n",
       "    </tr>\n",
       "    <tr>\n",
       "      <th>4</th>\n",
       "      <td>1</td>\n",
       "      <td>0</td>\n",
       "      <td>2</td>\n",
       "      <td>0</td>\n",
       "      <td>1</td>\n",
       "      <td>22.592200</td>\n",
       "      <td>88.484911</td>\n",
       "      <td>84518.5</td>\n",
       "      <td>92.810956</td>\n",
       "      <td>0</td>\n",
       "      <td>1</td>\n",
       "      <td>0</td>\n",
       "      <td>1</td>\n",
       "      <td>0</td>\n",
       "    </tr>\n",
       "  </tbody>\n",
       "</table>\n",
       "</div>"
      ],
      "text/plain": [
       "   under_construction  rera  bhk_no  ready_to_move  resale  longitude  \\\n",
       "0                   0     0       2              1       1  12.969910   \n",
       "1                   0     0       2              1       1  12.274538   \n",
       "2                   0     0       2              1       1  12.778033   \n",
       "3                   0     1       2              1       1  28.642300   \n",
       "4                   1     0       2              0       1  22.592200   \n",
       "\n",
       "    latitude    price     area_m2  posted_by_Builder  posted_by_Dealer  \\\n",
       "0  77.597960  76835.0  120.795863                  0                 0   \n",
       "1  76.644605  71247.0  118.451325                  0                 1   \n",
       "2  77.632191  60071.0   86.693338                  0                 0   \n",
       "3  77.344500  87312.5   86.392464                  0                 0   \n",
       "4  88.484911  84518.5   92.810956                  0                 1   \n",
       "\n",
       "   posted_by_Owner  bhk_or_rk_BHK  bhk_or_rk_RK  \n",
       "0                1              1             0  \n",
       "1                0              1             0  \n",
       "2                1              1             0  \n",
       "3                1              1             0  \n",
       "4                0              1             0  "
      ]
     },
     "execution_count": 5,
     "metadata": {},
     "output_type": "execute_result"
    }
   ],
   "source": [
    "df = pd.read_csv(upstream['02-cleanup']['clean_csv'])\n",
    "\n",
    "df.head()"
   ]
  },
  {
   "cell_type": "code",
   "execution_count": 6,
   "id": "737dd17b",
   "metadata": {
    "execution": {
     "iopub.execute_input": "2023-10-04T12:35:26.275671Z",
     "iopub.status.busy": "2023-10-04T12:35:26.275364Z",
     "iopub.status.idle": "2023-10-04T12:35:26.279416Z",
     "shell.execute_reply": "2023-10-04T12:35:26.278945Z"
    },
    "papermill": {
     "duration": 0.009007,
     "end_time": "2023-10-04T12:35:26.280896",
     "exception": false,
     "start_time": "2023-10-04T12:35:26.271889",
     "status": "completed"
    },
    "tags": []
   },
   "outputs": [],
   "source": [
    "X = df.drop(['price'], axis=1)\n",
    "y = df['price']"
   ]
  },
  {
   "cell_type": "code",
   "execution_count": 7,
   "id": "460164b0",
   "metadata": {
    "execution": {
     "iopub.execute_input": "2023-10-04T12:35:26.287715Z",
     "iopub.status.busy": "2023-10-04T12:35:26.287480Z",
     "iopub.status.idle": "2023-10-04T12:35:26.295133Z",
     "shell.execute_reply": "2023-10-04T12:35:26.294546Z"
    },
    "papermill": {
     "duration": 0.012816,
     "end_time": "2023-10-04T12:35:26.296598",
     "exception": false,
     "start_time": "2023-10-04T12:35:26.283782",
     "status": "completed"
    },
    "tags": []
   },
   "outputs": [],
   "source": [
    "\n",
    "X_train, X_test, y_train, y_test = train_test_split(X, y, test_size=0.2)"
   ]
  },
  {
   "cell_type": "code",
   "execution_count": 8,
   "id": "2bcbdd28",
   "metadata": {
    "execution": {
     "iopub.execute_input": "2023-10-04T12:35:26.301731Z",
     "iopub.status.busy": "2023-10-04T12:35:26.301494Z",
     "iopub.status.idle": "2023-10-04T12:35:26.309959Z",
     "shell.execute_reply": "2023-10-04T12:35:26.309349Z"
    },
    "papermill": {
     "duration": 0.012399,
     "end_time": "2023-10-04T12:35:26.311329",
     "exception": false,
     "start_time": "2023-10-04T12:35:26.298930",
     "status": "completed"
    },
    "tags": []
   },
   "outputs": [],
   "source": [
    "train_data = X_train.join(y_train)\n",
    "test_data = X_test.join(y_test)"
   ]
  },
  {
   "cell_type": "code",
   "execution_count": 9,
   "id": "a3bb249e",
   "metadata": {
    "execution": {
     "iopub.execute_input": "2023-10-04T12:35:26.315606Z",
     "iopub.status.busy": "2023-10-04T12:35:26.315397Z",
     "iopub.status.idle": "2023-10-04T12:35:26.433362Z",
     "shell.execute_reply": "2023-10-04T12:35:26.432860Z"
    },
    "papermill": {
     "duration": 0.121637,
     "end_time": "2023-10-04T12:35:26.434689",
     "exception": false,
     "start_time": "2023-10-04T12:35:26.313052",
     "status": "completed"
    },
    "tags": []
   },
   "outputs": [],
   "source": [
    "train_data.to_csv(product['train_data'], index=False)\n",
    "test_data.to_csv(product['test_data'], index=False)"
   ]
  }
 ],
 "metadata": {
  "jupytext": {
   "cell_metadata_filter": "tags,-all",
   "main_language": "python",
   "notebook_metadata_filter": "-all",
   "text_representation": {
    "extension": ".py",
    "format_name": "percent"
   }
  },
  "kernelspec": {
   "display_name": "Python 3 (ipykernel)",
   "language": "python",
   "name": "python3"
  },
  "language_info": {
   "codemirror_mode": {
    "name": "ipython",
    "version": 3
   },
   "file_extension": ".py",
   "mimetype": "text/x-python",
   "name": "python",
   "nbconvert_exporter": "python",
   "pygments_lexer": "ipython3",
   "version": "3.10.12"
  },
  "papermill": {
   "duration": 2.096938,
   "end_time": "2023-10-04T12:35:26.753663",
   "exception": null,
   "input_path": "/tmp/tmp49aj9eus.ipynb",
   "output_path": "/home/luiscberrocal/PycharmProjects/hacktoberfest-2023/kaggle/products/05_split.ipynb",
   "parameters": {
    "product": {
     "nb": "/home/luiscberrocal/PycharmProjects/hacktoberfest-2023/kaggle/products/05_split.ipynb",
     "test_data": "/home/luiscberrocal/PycharmProjects/hacktoberfest-2023/kaggle/data/house_prices_test.csv",
     "train_data": "/home/luiscberrocal/PycharmProjects/hacktoberfest-2023/kaggle/data/house_prices_train.csv"
    },
    "upstream": {
     "02-cleanup": {
      "clean_csv": "/home/luiscberrocal/PycharmProjects/hacktoberfest-2023/kaggle/data/house_prices_clean.csv",
      "nb": "/home/luiscberrocal/PycharmProjects/hacktoberfest-2023/kaggle/products/cleanup.ipynb"
     }
    }
   },
   "start_time": "2023-10-04T12:35:24.656725"
  }
 },
 "nbformat": 4,
 "nbformat_minor": 5
}