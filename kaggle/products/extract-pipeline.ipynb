{
 "cells": [
  {
   "cell_type": "code",
   "execution_count": 1,
   "id": "e330470e",
   "metadata": {
    "execution": {
     "iopub.execute_input": "2023-10-01T14:58:05.127842Z",
     "iopub.status.busy": "2023-10-01T14:58:05.127585Z",
     "iopub.status.idle": "2023-10-01T14:58:05.443304Z",
     "shell.execute_reply": "2023-10-01T14:58:05.442864Z"
    },
    "lines_to_next_cell": 2,
    "papermill": {
     "duration": 0.319634,
     "end_time": "2023-10-01T14:58:05.444716",
     "exception": false,
     "start_time": "2023-10-01T14:58:05.125082",
     "status": "completed"
    },
    "tags": [
     "parameters"
    ]
   },
   "outputs": [],
   "source": [
    "# declare a list tasks whose products you want to use as inputs\n",
    "import pandas as pd\n",
    "\n",
    "upstream = None"
   ]
  },
  {
   "cell_type": "code",
   "execution_count": 2,
   "id": "17b8538f",
   "metadata": {
    "execution": {
     "iopub.execute_input": "2023-10-01T14:58:05.457711Z",
     "iopub.status.busy": "2023-10-01T14:58:05.457300Z",
     "iopub.status.idle": "2023-10-01T14:58:05.460311Z",
     "shell.execute_reply": "2023-10-01T14:58:05.459888Z"
    },
    "papermill": {
     "duration": 0.014951,
     "end_time": "2023-10-01T14:58:05.461328",
     "exception": false,
     "start_time": "2023-10-01T14:58:05.446377",
     "status": "completed"
    },
    "tags": [
     "injected-parameters"
    ]
   },
   "outputs": [],
   "source": [
    "# Parameters\n",
    "product = {\"nb\": \"/home/luiscberrocal/PycharmProjects/hacktoberfest-2023/kaggle/products/extract-pipeline.ipynb\", \"csv_file\": \"/home/luiscberrocal/PycharmProjects/hacktoberfest-2023/kaggle/data/house_prices.csv\"}\n"
   ]
  },
  {
   "cell_type": "code",
   "execution_count": 3,
   "id": "61c684e9",
   "metadata": {
    "execution": {
     "iopub.execute_input": "2023-10-01T14:58:05.464787Z",
     "iopub.status.busy": "2023-10-01T14:58:05.464540Z",
     "iopub.status.idle": "2023-10-01T14:58:05.467262Z",
     "shell.execute_reply": "2023-10-01T14:58:05.466742Z"
    },
    "papermill": {
     "duration": 0.005645,
     "end_time": "2023-10-01T14:58:05.468261",
     "exception": false,
     "start_time": "2023-10-01T14:58:05.462616",
     "status": "completed"
    },
    "tags": []
   },
   "outputs": [],
   "source": [
    "# + tags=[\"parameters\"]\n",
    "# declare a list tasks whose products you want to use as inputs\n",
    "\n",
    "upstream = None\n",
    "# product = None"
   ]
  },
  {
   "cell_type": "code",
   "execution_count": 4,
   "id": "fa6f0356",
   "metadata": {
    "execution": {
     "iopub.execute_input": "2023-10-01T14:58:05.471386Z",
     "iopub.status.busy": "2023-10-01T14:58:05.471204Z",
     "iopub.status.idle": "2023-10-01T14:58:05.474728Z",
     "shell.execute_reply": "2023-10-01T14:58:05.474244Z"
    },
    "papermill": {
     "duration": 0.00633,
     "end_time": "2023-10-01T14:58:05.475752",
     "exception": false,
     "start_time": "2023-10-01T14:58:05.469422",
     "status": "completed"
    },
    "tags": []
   },
   "outputs": [],
   "source": [
    "import re\n",
    "import shutil\n",
    "from pathlib import Path\n",
    "\n",
    "from kaggle import settings\n",
    "from kaggle.terminal_commands import run_commands"
   ]
  },
  {
   "cell_type": "code",
   "execution_count": 5,
   "id": "cc2c5f5c",
   "metadata": {
    "execution": {
     "iopub.execute_input": "2023-10-01T14:58:05.479467Z",
     "iopub.status.busy": "2023-10-01T14:58:05.479204Z",
     "iopub.status.idle": "2023-10-01T14:58:05.483917Z",
     "shell.execute_reply": "2023-10-01T14:58:05.483422Z"
    },
    "papermill": {
     "duration": 0.007933,
     "end_time": "2023-10-01T14:58:05.485005",
     "exception": false,
     "start_time": "2023-10-01T14:58:05.477072",
     "status": "completed"
    },
    "tags": []
   },
   "outputs": [],
   "source": [
    "def configure_kaggle(envs_folder: Path):\n",
    "    \"\"\"Copy kaggle.json to ~/.kaggle in order to run kaggle commands.\"\"\"\n",
    "    envs_file = envs_folder / 'kaggle.json'\n",
    "    if not envs_file.exists():\n",
    "        raise Exception('Kaggle configuration file not found')\n",
    "    kaggle_folder = Path.home() / '.kaggle'\n",
    "    kaggle_folder.mkdir(exist_ok=True)\n",
    "    config_file = kaggle_folder / 'kaggle.json'\n",
    "    if not config_file.exists():\n",
    "        shutil.copy(envs_file, config_file)\n",
    "        return True\n",
    "    else:\n",
    "        return False"
   ]
  },
  {
   "cell_type": "code",
   "execution_count": 6,
   "id": "b3785f52",
   "metadata": {
    "execution": {
     "iopub.execute_input": "2023-10-01T14:58:05.488567Z",
     "iopub.status.busy": "2023-10-01T14:58:05.488291Z",
     "iopub.status.idle": "2023-10-01T14:58:05.494170Z",
     "shell.execute_reply": "2023-10-01T14:58:05.493582Z"
    },
    "papermill": {
     "duration": 0.008955,
     "end_time": "2023-10-01T14:58:05.495253",
     "exception": false,
     "start_time": "2023-10-01T14:58:05.486298",
     "status": "completed"
    },
    "tags": []
   },
   "outputs": [],
   "source": [
    "def download_dataset(owner: str, dataset_name: str, download_folder: Path) -> Path:\n",
    "    \"\"\"Will download a dataset, unzip it in the download_folder and return the folder where the\n",
    "    data was unzipped.\"\"\"\n",
    "    dataset = f'{owner}/{dataset_name}'\n",
    "    folder = download_folder / dataset_name\n",
    "    folder.mkdir(exist_ok=True)\n",
    "\n",
    "    command_list = ['kaggle', 'datasets', 'download', dataset, '-p', str(folder), '--unzip']\n",
    "    results, errors = run_commands(command_list)\n",
    "    regexp = re.compile(r\"Downloading\\s([\\w-]+\\.zip)\\sto\\s(.+)\")\n",
    "    match = regexp.match(results[0])\n",
    "    # print('>>', results[0])  # , match.groups(2))\n",
    "    if len(errors) > 1:\n",
    "        print('-' * 50)\n",
    "        print('errors')\n",
    "        for e in errors:\n",
    "            print(e)\n",
    "\n",
    "    if match:\n",
    "        return Path(match.group(2))\n",
    "    else:\n",
    "        error_msg = f'{results}'\n",
    "        raise Exception(error_msg)"
   ]
  },
  {
   "cell_type": "code",
   "execution_count": 7,
   "id": "67559a1f",
   "metadata": {
    "execution": {
     "iopub.execute_input": "2023-10-01T14:58:05.499593Z",
     "iopub.status.busy": "2023-10-01T14:58:05.499075Z",
     "iopub.status.idle": "2023-10-01T14:58:05.502560Z",
     "shell.execute_reply": "2023-10-01T14:58:05.502144Z"
    },
    "papermill": {
     "duration": 0.006956,
     "end_time": "2023-10-01T14:58:05.503802",
     "exception": false,
     "start_time": "2023-10-01T14:58:05.496846",
     "status": "completed"
    },
    "tags": []
   },
   "outputs": [],
   "source": [
    "def find_csv_file(folder: Path, csv_name: str) -> Path:\n",
    "    csvs = folder.glob('**/*.csv')\n",
    "    for csv in csvs:\n",
    "        if csv.name == csv_name:\n",
    "            return csv"
   ]
  },
  {
   "cell_type": "code",
   "execution_count": 8,
   "id": "86a36562",
   "metadata": {
    "execution": {
     "iopub.execute_input": "2023-10-01T14:58:05.508087Z",
     "iopub.status.busy": "2023-10-01T14:58:05.507826Z",
     "iopub.status.idle": "2023-10-01T14:58:07.461483Z",
     "shell.execute_reply": "2023-10-01T14:58:07.460790Z"
    },
    "papermill": {
     "duration": 1.957466,
     "end_time": "2023-10-01T14:58:07.462962",
     "exception": false,
     "start_time": "2023-10-01T14:58:05.505496",
     "status": "completed"
    },
    "tags": []
   },
   "outputs": [
    {
     "name": "stdout",
     "output_type": "stream",
     "text": [
      "Data folder: /home/luiscberrocal/PycharmProjects/hacktoberfest-2023/kaggle/data/house-price-dataset\n",
      "CSV: /home/luiscberrocal/PycharmProjects/hacktoberfest-2023/kaggle/data/house-price-dataset/Participants_Data_HPP/Train.csv\n"
     ]
    }
   ],
   "source": [
    "#  kaggle datasets download joebeachcapital/house-prices\n",
    "configure_kaggle(settings.ENVS_FOLDER)\n",
    "# ds_owner = 'fedesoriano'\n",
    "# ds_name = 'california-housing-prices-data-extra-features'\n",
    "ds_owner = 'akash14'\n",
    "ds_name = 'house-price-dataset'\n",
    "data_folder = settings.DATA_FOLDER\n",
    "data_folder.mkdir(exist_ok=True)\n",
    "fldr = download_dataset(owner=ds_owner, dataset_name=ds_name, download_folder=data_folder)\n",
    "print(f'Data folder: {fldr}')\n",
    "csv_file = find_csv_file(fldr, 'Train.csv')\n",
    "df = pd.read_csv(csv_file)\n",
    "df.to_csv(product['csv_file'])\n",
    "\n",
    "print(f'CSV: {csv_file}')\n",
    "\n",
    "\n",
    "# if __name__ == '__main__':\n",
    "#     main()"
   ]
  }
 ],
 "metadata": {
  "jupytext": {
   "cell_metadata_filter": "tags,-all",
   "main_language": "python",
   "notebook_metadata_filter": "-all",
   "text_representation": {
    "extension": ".py",
    "format_name": "percent"
   }
  },
  "kernelspec": {
   "display_name": "Python 3 (ipykernel)",
   "language": "python",
   "name": "python3"
  },
  "language_info": {
   "codemirror_mode": {
    "name": "ipython",
    "version": 3
   },
   "file_extension": ".py",
   "mimetype": "text/x-python",
   "name": "python",
   "nbconvert_exporter": "python",
   "pygments_lexer": "ipython3",
   "version": "3.10.12"
  },
  "papermill": {
   "duration": 3.20976,
   "end_time": "2023-10-01T14:58:07.682305",
   "exception": null,
   "input_path": "/tmp/tmp4gkoelrq.ipynb",
   "output_path": "/home/luiscberrocal/PycharmProjects/hacktoberfest-2023/kaggle/products/extract-pipeline.ipynb",
   "parameters": {
    "product": {
     "csv_file": "/home/luiscberrocal/PycharmProjects/hacktoberfest-2023/kaggle/data/house_prices.csv",
     "nb": "/home/luiscberrocal/PycharmProjects/hacktoberfest-2023/kaggle/products/extract-pipeline.ipynb"
    }
   },
   "start_time": "2023-10-01T14:58:04.472545"
  }
 },
 "nbformat": 4,
 "nbformat_minor": 5
}