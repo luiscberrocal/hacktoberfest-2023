{
 "cells": [
  {
   "cell_type": "code",
   "execution_count": 1,
   "id": "151624e1",
   "metadata": {
    "execution": {
     "iopub.execute_input": "2023-10-01T13:32:50.764429Z",
     "iopub.status.busy": "2023-10-01T13:32:50.764157Z",
     "iopub.status.idle": "2023-10-01T13:32:51.080910Z",
     "shell.execute_reply": "2023-10-01T13:32:51.080466Z"
    },
    "lines_to_next_cell": 2,
    "papermill": {
     "duration": 0.32088,
     "end_time": "2023-10-01T13:32:51.082459",
     "exception": false,
     "start_time": "2023-10-01T13:32:50.761579",
     "status": "completed"
    },
    "tags": [
     "parameters"
    ]
   },
   "outputs": [],
   "source": [
    "# declare a list tasks whose products you want to use as inputs\n",
    "import pandas as pd\n",
    "\n",
    "upstream = None"
   ]
  },
  {
   "cell_type": "code",
   "execution_count": 2,
   "id": "d7ec4824",
   "metadata": {
    "execution": {
     "iopub.execute_input": "2023-10-01T13:32:51.095367Z",
     "iopub.status.busy": "2023-10-01T13:32:51.095055Z",
     "iopub.status.idle": "2023-10-01T13:32:51.097710Z",
     "shell.execute_reply": "2023-10-01T13:32:51.097255Z"
    },
    "papermill": {
     "duration": 0.014318,
     "end_time": "2023-10-01T13:32:51.098727",
     "exception": false,
     "start_time": "2023-10-01T13:32:51.084409",
     "status": "completed"
    },
    "tags": [
     "injected-parameters"
    ]
   },
   "outputs": [],
   "source": [
    "# Parameters\n",
    "product = {\"nb\": \"/home/luiscberrocal/PycharmProjects/hacktoberfest-2023/kaggle/products/extract-pipeline.ipynb\", \"csv_file\": \"/home/luiscberrocal/PycharmProjects/hacktoberfest-2023/kaggle/data/house_prices.csv\"}\n"
   ]
  },
  {
   "cell_type": "code",
   "execution_count": 3,
   "id": "1b25f69b",
   "metadata": {
    "execution": {
     "iopub.execute_input": "2023-10-01T13:32:51.102036Z",
     "iopub.status.busy": "2023-10-01T13:32:51.101806Z",
     "iopub.status.idle": "2023-10-01T13:32:51.104337Z",
     "shell.execute_reply": "2023-10-01T13:32:51.103871Z"
    },
    "papermill": {
     "duration": 0.005542,
     "end_time": "2023-10-01T13:32:51.105540",
     "exception": false,
     "start_time": "2023-10-01T13:32:51.099998",
     "status": "completed"
    },
    "tags": []
   },
   "outputs": [],
   "source": [
    "# + tags=[\"parameters\"]\n",
    "# declare a list tasks whose products you want to use as inputs\n",
    "\n",
    "upstream = None\n",
    "# product = None"
   ]
  },
  {
   "cell_type": "code",
   "execution_count": 4,
   "id": "24591919",
   "metadata": {
    "execution": {
     "iopub.execute_input": "2023-10-01T13:32:51.109132Z",
     "iopub.status.busy": "2023-10-01T13:32:51.108868Z",
     "iopub.status.idle": "2023-10-01T13:32:51.112250Z",
     "shell.execute_reply": "2023-10-01T13:32:51.111851Z"
    },
    "papermill": {
     "duration": 0.00641,
     "end_time": "2023-10-01T13:32:51.113328",
     "exception": false,
     "start_time": "2023-10-01T13:32:51.106918",
     "status": "completed"
    },
    "tags": []
   },
   "outputs": [],
   "source": [
    "import re\n",
    "import shutil\n",
    "from pathlib import Path\n",
    "\n",
    "from kaggle import settings\n",
    "from kaggle.terminal_commands import run_commands"
   ]
  },
  {
   "cell_type": "code",
   "execution_count": 5,
   "id": "a5b1f4e8",
   "metadata": {
    "execution": {
     "iopub.execute_input": "2023-10-01T13:32:51.117115Z",
     "iopub.status.busy": "2023-10-01T13:32:51.116871Z",
     "iopub.status.idle": "2023-10-01T13:32:51.120690Z",
     "shell.execute_reply": "2023-10-01T13:32:51.120202Z"
    },
    "papermill": {
     "duration": 0.006983,
     "end_time": "2023-10-01T13:32:51.121789",
     "exception": false,
     "start_time": "2023-10-01T13:32:51.114806",
     "status": "completed"
    },
    "tags": []
   },
   "outputs": [],
   "source": [
    "def configure_kaggle(envs_folder: Path):\n",
    "    \"\"\"Copy kaggle.json to ~/.kaggle in order to run kaggle commands.\"\"\"\n",
    "    envs_file = envs_folder / 'kaggle.json'\n",
    "    if not envs_file.exists():\n",
    "        raise Exception('Kaggle configuration file not found')\n",
    "    kaggle_folder = Path.home() / '.kaggle'\n",
    "    kaggle_folder.mkdir(exist_ok=True)\n",
    "    config_file = kaggle_folder / 'kaggle.json'\n",
    "    if not config_file.exists():\n",
    "        shutil.copy(envs_file, config_file)\n",
    "        return True\n",
    "    else:\n",
    "        return False"
   ]
  },
  {
   "cell_type": "code",
   "execution_count": 6,
   "id": "c6a04802",
   "metadata": {
    "execution": {
     "iopub.execute_input": "2023-10-01T13:32:51.125528Z",
     "iopub.status.busy": "2023-10-01T13:32:51.125274Z",
     "iopub.status.idle": "2023-10-01T13:32:51.129552Z",
     "shell.execute_reply": "2023-10-01T13:32:51.129097Z"
    },
    "papermill": {
     "duration": 0.007392,
     "end_time": "2023-10-01T13:32:51.130586",
     "exception": false,
     "start_time": "2023-10-01T13:32:51.123194",
     "status": "completed"
    },
    "tags": []
   },
   "outputs": [],
   "source": [
    "def download_dataset(owner: str, dataset_name: str, download_folder: Path) -> Path:\n",
    "    \"\"\"Will download a dataset, unzip it in the download_folder and return the folder where the\n",
    "    data was unzipped.\"\"\"\n",
    "    dataset = f'{owner}/{dataset_name}'\n",
    "    folder = download_folder / dataset_name\n",
    "    folder.mkdir(exist_ok=True)\n",
    "\n",
    "    command_list = ['kaggle', 'datasets', 'download', dataset, '-p', str(folder), '--unzip']\n",
    "    results, errors = run_commands(command_list)\n",
    "    regexp = re.compile(r\"Downloading\\s([\\w-]+\\.zip)\\sto\\s(.+)\")\n",
    "    match = regexp.match(results[0])\n",
    "    # print('>>', results[0])  # , match.groups(2))\n",
    "    if len(errors) > 1:\n",
    "        print('-' * 50)\n",
    "        print('errors')\n",
    "        for e in errors:\n",
    "            print(e)\n",
    "\n",
    "    if match:\n",
    "        return Path(match.group(2))\n",
    "    else:\n",
    "        error_msg = f'{results}'\n",
    "        raise Exception(error_msg)"
   ]
  },
  {
   "cell_type": "code",
   "execution_count": 7,
   "id": "db5192ea",
   "metadata": {
    "execution": {
     "iopub.execute_input": "2023-10-01T13:32:51.134204Z",
     "iopub.status.busy": "2023-10-01T13:32:51.133985Z",
     "iopub.status.idle": "2023-10-01T13:32:51.136704Z",
     "shell.execute_reply": "2023-10-01T13:32:51.136287Z"
    },
    "papermill": {
     "duration": 0.006061,
     "end_time": "2023-10-01T13:32:51.138059",
     "exception": false,
     "start_time": "2023-10-01T13:32:51.131998",
     "status": "completed"
    },
    "tags": []
   },
   "outputs": [],
   "source": [
    "def find_csv_file(folder: Path, csv_name: str) -> Path:\n",
    "    csvs = folder.glob('**/*.csv')\n",
    "    for csv in csvs:\n",
    "        if csv.name == csv_name:\n",
    "            return csv"
   ]
  },
  {
   "cell_type": "code",
   "execution_count": 8,
   "id": "2ceffd85",
   "metadata": {
    "execution": {
     "iopub.execute_input": "2023-10-01T13:32:51.143660Z",
     "iopub.status.busy": "2023-10-01T13:32:51.143416Z",
     "iopub.status.idle": "2023-10-01T13:32:53.226189Z",
     "shell.execute_reply": "2023-10-01T13:32:53.225579Z"
    },
    "papermill": {
     "duration": 2.086957,
     "end_time": "2023-10-01T13:32:53.227377",
     "exception": false,
     "start_time": "2023-10-01T13:32:51.140420",
     "status": "completed"
    },
    "tags": []
   },
   "outputs": [
    {
     "name": "stdout",
     "output_type": "stream",
     "text": [
      "Data folder: /home/luiscberrocal/PycharmProjects/hacktoberfest-2023/kaggle/data/house-price-dataset\n",
      "CSV: /home/luiscberrocal/PycharmProjects/hacktoberfest-2023/kaggle/data/house-price-dataset/Participants_Data_HPP/Train.csv\n"
     ]
    }
   ],
   "source": [
    "#  kaggle datasets download joebeachcapital/house-prices\n",
    "configure_kaggle(settings.ENVS_FOLDER)\n",
    "# ds_owner = 'fedesoriano'\n",
    "# ds_name = 'california-housing-prices-data-extra-features'\n",
    "ds_owner = 'akash14'\n",
    "ds_name = 'house-price-dataset'\n",
    "data_folder = settings.DATA_FOLDER\n",
    "data_folder.mkdir(exist_ok=True)\n",
    "fldr = download_dataset(owner=ds_owner, dataset_name=ds_name, download_folder=data_folder)\n",
    "print(f'Data folder: {fldr}')\n",
    "csv_file = find_csv_file(fldr, 'Train.csv')\n",
    "df = pd.read_csv(csv_file)\n",
    "df.to_csv(product['csv_file'])\n",
    "\n",
    "print(f'CSV: {csv_file}')\n",
    "\n",
    "\n",
    "# if __name__ == '__main__':\n",
    "#     main()"
   ]
  }
 ],
 "metadata": {
  "jupytext": {
   "cell_metadata_filter": "tags,-all",
   "main_language": "python",
   "notebook_metadata_filter": "-all",
   "text_representation": {
    "extension": ".py",
    "format_name": "percent"
   }
  },
  "kernelspec": {
   "display_name": "Python 3 (ipykernel)",
   "language": "python",
   "name": "python3"
  },
  "language_info": {
   "codemirror_mode": {
    "name": "ipython",
    "version": 3
   },
   "file_extension": ".py",
   "mimetype": "text/x-python",
   "name": "python",
   "nbconvert_exporter": "python",
   "pygments_lexer": "ipython3",
   "version": "3.10.12"
  },
  "papermill": {
   "duration": 3.339497,
   "end_time": "2023-10-01T13:32:53.445333",
   "exception": null,
   "input_path": "/tmp/tmpfq5677gp.ipynb",
   "output_path": "/home/luiscberrocal/PycharmProjects/hacktoberfest-2023/kaggle/products/extract-pipeline.ipynb",
   "parameters": {
    "product": {
     "csv_file": "/home/luiscberrocal/PycharmProjects/hacktoberfest-2023/kaggle/data/house_prices.csv",
     "nb": "/home/luiscberrocal/PycharmProjects/hacktoberfest-2023/kaggle/products/extract-pipeline.ipynb"
    }
   },
   "start_time": "2023-10-01T13:32:50.105836"
  }
 },
 "nbformat": 4,
 "nbformat_minor": 5
}