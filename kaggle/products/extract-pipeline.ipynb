{
 "cells": [
  {
   "cell_type": "code",
   "execution_count": 1,
   "id": "165d34bb",
   "metadata": {
    "execution": {
     "iopub.execute_input": "2023-09-30T19:16:04.336998Z",
     "iopub.status.busy": "2023-09-30T19:16:04.336768Z",
     "iopub.status.idle": "2023-09-30T19:16:04.341955Z",
     "shell.execute_reply": "2023-09-30T19:16:04.341582Z"
    },
    "lines_to_next_cell": 2,
    "papermill": {
     "duration": 0.008571,
     "end_time": "2023-09-30T19:16:04.342975",
     "exception": false,
     "start_time": "2023-09-30T19:16:04.334404",
     "status": "completed"
    },
    "tags": [
     "parameters"
    ]
   },
   "outputs": [],
   "source": [
    "# declare a list tasks whose products you want to use as inputs\n",
    "upstream = None"
   ]
  },
  {
   "cell_type": "code",
   "execution_count": 2,
   "id": "6dd4a6cd",
   "metadata": {
    "execution": {
     "iopub.execute_input": "2023-09-30T19:16:04.347037Z",
     "iopub.status.busy": "2023-09-30T19:16:04.346773Z",
     "iopub.status.idle": "2023-09-30T19:16:04.349431Z",
     "shell.execute_reply": "2023-09-30T19:16:04.348924Z"
    },
    "papermill": {
     "duration": 0.006303,
     "end_time": "2023-09-30T19:16:04.350980",
     "exception": false,
     "start_time": "2023-09-30T19:16:04.344677",
     "status": "completed"
    },
    "tags": [
     "injected-parameters"
    ]
   },
   "outputs": [],
   "source": [
    "# Parameters\n",
    "product = {\"nb\": \"/home/luiscberrocal/PycharmProjects/hacktoberfest-2023/kaggle/products/extract-pipeline.ipynb\", \"csv_file\": \"/home/luiscberrocal/PycharmProjects/hacktoberfest-2023/csv_file\"}\n"
   ]
  },
  {
   "cell_type": "code",
   "execution_count": 3,
   "id": "0a8127b9",
   "metadata": {
    "execution": {
     "iopub.execute_input": "2023-09-30T19:16:04.354924Z",
     "iopub.status.busy": "2023-09-30T19:16:04.354665Z",
     "iopub.status.idle": "2023-09-30T19:16:04.357125Z",
     "shell.execute_reply": "2023-09-30T19:16:04.356724Z"
    },
    "papermill": {
     "duration": 0.005665,
     "end_time": "2023-09-30T19:16:04.358174",
     "exception": false,
     "start_time": "2023-09-30T19:16:04.352509",
     "status": "completed"
    },
    "tags": []
   },
   "outputs": [],
   "source": [
    "# + tags=[\"parameters\"]\n",
    "# declare a list tasks whose products you want to use as inputs\n",
    "\n",
    "upstream = None\n",
    "# product = None"
   ]
  },
  {
   "cell_type": "code",
   "execution_count": 4,
   "id": "8d238c03",
   "metadata": {
    "execution": {
     "iopub.execute_input": "2023-09-30T19:16:04.361954Z",
     "iopub.status.busy": "2023-09-30T19:16:04.361686Z",
     "iopub.status.idle": "2023-09-30T19:16:04.365192Z",
     "shell.execute_reply": "2023-09-30T19:16:04.364720Z"
    },
    "papermill": {
     "duration": 0.006675,
     "end_time": "2023-09-30T19:16:04.366280",
     "exception": false,
     "start_time": "2023-09-30T19:16:04.359605",
     "status": "completed"
    },
    "tags": []
   },
   "outputs": [],
   "source": [
    "import re\n",
    "import shutil\n",
    "from pathlib import Path\n",
    "\n",
    "from kaggle import settings\n",
    "from kaggle.terminal_commands import run_commands"
   ]
  },
  {
   "cell_type": "code",
   "execution_count": 5,
   "id": "e611338d",
   "metadata": {
    "execution": {
     "iopub.execute_input": "2023-09-30T19:16:04.369924Z",
     "iopub.status.busy": "2023-09-30T19:16:04.369679Z",
     "iopub.status.idle": "2023-09-30T19:16:04.373315Z",
     "shell.execute_reply": "2023-09-30T19:16:04.372891Z"
    },
    "papermill": {
     "duration": 0.006766,
     "end_time": "2023-09-30T19:16:04.374445",
     "exception": false,
     "start_time": "2023-09-30T19:16:04.367679",
     "status": "completed"
    },
    "tags": []
   },
   "outputs": [],
   "source": [
    "def configure_kaggle(envs_folder: Path):\n",
    "    \"\"\"Copy kaggle.json to ~/.kaggle in order to run kaggle commands.\"\"\"\n",
    "    envs_file = envs_folder / 'kaggle.json'\n",
    "    if not envs_file.exists():\n",
    "        raise Exception('Kaggle configuration file not found')\n",
    "    kaggle_folder = Path.home() / '.kaggle'\n",
    "    kaggle_folder.mkdir(exist_ok=True)\n",
    "    config_file = kaggle_folder / 'kaggle.json'\n",
    "    if not config_file.exists():\n",
    "        shutil.copy(envs_file, config_file)\n",
    "        return True\n",
    "    else:\n",
    "        return False"
   ]
  },
  {
   "cell_type": "code",
   "execution_count": 6,
   "id": "c5ed252b",
   "metadata": {
    "execution": {
     "iopub.execute_input": "2023-09-30T19:16:04.378354Z",
     "iopub.status.busy": "2023-09-30T19:16:04.378051Z",
     "iopub.status.idle": "2023-09-30T19:16:04.382768Z",
     "shell.execute_reply": "2023-09-30T19:16:04.382322Z"
    },
    "papermill": {
     "duration": 0.008075,
     "end_time": "2023-09-30T19:16:04.383885",
     "exception": false,
     "start_time": "2023-09-30T19:16:04.375810",
     "status": "completed"
    },
    "tags": []
   },
   "outputs": [],
   "source": [
    "def download_dataset(owner: str, dataset_name: str, download_folder: Path) -> Path:\n",
    "    \"\"\"Will download a dataset, unzip it in the download_folder and return the folder where the\n",
    "    data was unzipped.\"\"\"\n",
    "    dataset = f'{owner}/{dataset_name}'\n",
    "    folder = download_folder / dataset_name\n",
    "    folder.mkdir(exist_ok=True)\n",
    "\n",
    "    command_list = ['kaggle', 'datasets', 'download', dataset, '-p', str(folder), '--unzip']\n",
    "    results, errors = run_commands(command_list)\n",
    "    regexp = re.compile(r\"Downloading\\s([\\w-]+\\.zip)\\sto\\s(.+)\")\n",
    "    match = regexp.match(results[0])\n",
    "    # print('>>', results[0])  # , match.groups(2))\n",
    "    if len(errors) > 1:\n",
    "        print('-' * 50)\n",
    "        print('errors')\n",
    "        for e in errors:\n",
    "            print(e)\n",
    "\n",
    "    if match:\n",
    "        return Path(match.group(2))\n",
    "    else:\n",
    "        error_msg = f'{results}'\n",
    "        raise Exception(error_msg)"
   ]
  },
  {
   "cell_type": "code",
   "execution_count": 7,
   "id": "9f44dd41",
   "metadata": {
    "execution": {
     "iopub.execute_input": "2023-09-30T19:16:04.387763Z",
     "iopub.status.busy": "2023-09-30T19:16:04.387533Z",
     "iopub.status.idle": "2023-09-30T19:16:04.390789Z",
     "shell.execute_reply": "2023-09-30T19:16:04.390151Z"
    },
    "papermill": {
     "duration": 0.006963,
     "end_time": "2023-09-30T19:16:04.392398",
     "exception": false,
     "start_time": "2023-09-30T19:16:04.385435",
     "status": "completed"
    },
    "tags": []
   },
   "outputs": [],
   "source": [
    "def find_csv_file(folder: Path, csv_name: str) -> Path:\n",
    "    csvs = folder.glob('**/*.csv')\n",
    "    for csv in csvs:\n",
    "        if csv.name == csv_name:\n",
    "            return csv"
   ]
  },
  {
   "cell_type": "code",
   "execution_count": 8,
   "id": "616d3306",
   "metadata": {
    "execution": {
     "iopub.execute_input": "2023-09-30T19:16:04.398522Z",
     "iopub.status.busy": "2023-09-30T19:16:04.398217Z",
     "iopub.status.idle": "2023-09-30T19:16:06.276659Z",
     "shell.execute_reply": "2023-09-30T19:16:06.276096Z"
    },
    "papermill": {
     "duration": 1.88302,
     "end_time": "2023-09-30T19:16:06.277997",
     "exception": false,
     "start_time": "2023-09-30T19:16:04.394977",
     "status": "completed"
    },
    "tags": []
   },
   "outputs": [
    {
     "name": "stdout",
     "output_type": "stream",
     "text": [
      "Data folder: /home/luiscberrocal/PycharmProjects/hacktoberfest-2023/kaggle/data/house-price-dataset\n",
      "CSV: /home/luiscberrocal/PycharmProjects/hacktoberfest-2023/kaggle/data/house-price-dataset/Participants_Data_HPP/Train.csv\n"
     ]
    }
   ],
   "source": [
    "#  kaggle datasets download joebeachcapital/house-prices\n",
    "configure_kaggle(settings.ENVS_FOLDER)\n",
    "# ds_owner = 'fedesoriano'\n",
    "# ds_name = 'california-housing-prices-data-extra-features'\n",
    "ds_owner = 'akash14'\n",
    "ds_name = 'house-price-dataset'\n",
    "data_folder = settings.DATA_FOLDER\n",
    "data_folder.mkdir(exist_ok=True)\n",
    "fldr = download_dataset(owner=ds_owner, dataset_name=ds_name, download_folder=data_folder)\n",
    "print(f'Data folder: {fldr}')\n",
    "csv_file = find_csv_file(fldr, 'Train.csv')\n",
    "product['csv_file'] = csv_file\n",
    "print(f'CSV: {csv_file}')\n",
    "\n",
    "\n",
    "# if __name__ == '__main__':\n",
    "#     main()"
   ]
  }
 ],
 "metadata": {
  "jupytext": {
   "cell_metadata_filter": "tags,-all",
   "main_language": "python",
   "notebook_metadata_filter": "-all",
   "text_representation": {
    "extension": ".py",
    "format_name": "percent"
   }
  },
  "kernelspec": {
   "display_name": "Python 3 (ipykernel)",
   "language": "python",
   "name": "python3"
  },
  "language_info": {
   "codemirror_mode": {
    "name": "ipython",
    "version": 3
   },
   "file_extension": ".py",
   "mimetype": "text/x-python",
   "name": "python",
   "nbconvert_exporter": "python",
   "pygments_lexer": "ipython3",
   "version": "3.8.17"
  },
  "papermill": {
   "duration": 2.81479,
   "end_time": "2023-09-30T19:16:06.496054",
   "exception": null,
   "input_path": "/tmp/tmpm4ra_8s9.ipynb",
   "output_path": "/home/luiscberrocal/PycharmProjects/hacktoberfest-2023/kaggle/products/extract-pipeline.ipynb",
   "parameters": {
    "product": {
     "csv_file": "/home/luiscberrocal/PycharmProjects/hacktoberfest-2023/csv_file",
     "nb": "/home/luiscberrocal/PycharmProjects/hacktoberfest-2023/kaggle/products/extract-pipeline.ipynb"
    }
   },
   "start_time": "2023-09-30T19:16:03.681264"
  }
 },
 "nbformat": 4,
 "nbformat_minor": 5
}
