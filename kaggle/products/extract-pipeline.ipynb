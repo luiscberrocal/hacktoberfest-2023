{
 "cells": [
  {
   "cell_type": "markdown",
   "id": "c916e730",
   "metadata": {
    "tags": [
     "papermill-error-cell-tag"
    ]
   },
   "source": [
    "<span style=\"color:red; font-family:Helvetica Neue, Helvetica, Arial, sans-serif; font-size:2em;\">An Exception was encountered at '<a href=\"#papermill-error-cell\">In [8]</a>'.</span>"
   ]
  },
  {
   "cell_type": "code",
   "execution_count": 1,
   "id": "733d0711",
   "metadata": {
    "execution": {
     "iopub.execute_input": "2023-09-30T19:08:10.344801Z",
     "iopub.status.busy": "2023-09-30T19:08:10.344565Z",
     "iopub.status.idle": "2023-09-30T19:08:10.349982Z",
     "shell.execute_reply": "2023-09-30T19:08:10.349593Z"
    },
    "lines_to_next_cell": 2,
    "papermill": {
     "duration": 0.010295,
     "end_time": "2023-09-30T19:08:10.351360",
     "exception": false,
     "start_time": "2023-09-30T19:08:10.341065",
     "status": "completed"
    },
    "tags": [
     "parameters"
    ]
   },
   "outputs": [],
   "source": [
    "# declare a list tasks whose products you want to use as inputs\n",
    "upstream = None"
   ]
  },
  {
   "cell_type": "code",
   "execution_count": 2,
   "id": "589592dc",
   "metadata": {
    "execution": {
     "iopub.execute_input": "2023-09-30T19:08:10.357055Z",
     "iopub.status.busy": "2023-09-30T19:08:10.356714Z",
     "iopub.status.idle": "2023-09-30T19:08:10.360129Z",
     "shell.execute_reply": "2023-09-30T19:08:10.359500Z"
    },
    "papermill": {
     "duration": 0.007717,
     "end_time": "2023-09-30T19:08:10.361650",
     "exception": false,
     "start_time": "2023-09-30T19:08:10.353933",
     "status": "completed"
    },
    "tags": [
     "injected-parameters"
    ]
   },
   "outputs": [],
   "source": [
    "# Parameters\n",
    "product = {\"nb\": \"/home/luiscberrocal/PycharmProjects/hacktoberfest-2023/kaggle/products/extract-pipeline.ipynb\", \"csv_file\": \"/home/luiscberrocal/PycharmProjects/hacktoberfest-2023/csv_file\"}\n"
   ]
  },
  {
   "cell_type": "code",
   "execution_count": 3,
   "id": "74ae543e",
   "metadata": {
    "execution": {
     "iopub.execute_input": "2023-09-30T19:08:10.366962Z",
     "iopub.status.busy": "2023-09-30T19:08:10.366672Z",
     "iopub.status.idle": "2023-09-30T19:08:10.369389Z",
     "shell.execute_reply": "2023-09-30T19:08:10.368979Z"
    },
    "papermill": {
     "duration": 0.007049,
     "end_time": "2023-09-30T19:08:10.370822",
     "exception": false,
     "start_time": "2023-09-30T19:08:10.363773",
     "status": "completed"
    },
    "tags": []
   },
   "outputs": [],
   "source": [
    "# + tags=[\"parameters\"]\n",
    "# declare a list tasks whose products you want to use as inputs\n",
    "\n",
    "upstream = None\n",
    "product = None"
   ]
  },
  {
   "cell_type": "code",
   "execution_count": 4,
   "id": "647cf748",
   "metadata": {
    "execution": {
     "iopub.execute_input": "2023-09-30T19:08:10.376098Z",
     "iopub.status.busy": "2023-09-30T19:08:10.375810Z",
     "iopub.status.idle": "2023-09-30T19:08:10.379761Z",
     "shell.execute_reply": "2023-09-30T19:08:10.379164Z"
    },
    "papermill": {
     "duration": 0.007845,
     "end_time": "2023-09-30T19:08:10.380886",
     "exception": false,
     "start_time": "2023-09-30T19:08:10.373041",
     "status": "completed"
    },
    "tags": []
   },
   "outputs": [],
   "source": [
    "import re\n",
    "import shutil\n",
    "from pathlib import Path\n",
    "\n",
    "from kaggle import settings\n",
    "from kaggle.terminal_commands import run_commands"
   ]
  },
  {
   "cell_type": "code",
   "execution_count": 5,
   "id": "786e4148",
   "metadata": {
    "execution": {
     "iopub.execute_input": "2023-09-30T19:08:10.384548Z",
     "iopub.status.busy": "2023-09-30T19:08:10.384294Z",
     "iopub.status.idle": "2023-09-30T19:08:10.388396Z",
     "shell.execute_reply": "2023-09-30T19:08:10.387907Z"
    },
    "papermill": {
     "duration": 0.007071,
     "end_time": "2023-09-30T19:08:10.389410",
     "exception": false,
     "start_time": "2023-09-30T19:08:10.382339",
     "status": "completed"
    },
    "tags": []
   },
   "outputs": [],
   "source": [
    "def configure_kaggle(envs_folder: Path):\n",
    "    \"\"\"Copy kaggle.json to ~/.kaggle in order to run kaggle commands.\"\"\"\n",
    "    envs_file = envs_folder / 'kaggle.json'\n",
    "    if not envs_file.exists():\n",
    "        raise Exception('Kaggle configuration file not found')\n",
    "    kaggle_folder = Path.home() / '.kaggle'\n",
    "    kaggle_folder.mkdir(exist_ok=True)\n",
    "    config_file = kaggle_folder / 'kaggle.json'\n",
    "    if not config_file.exists():\n",
    "        shutil.copy(envs_file, config_file)\n",
    "        return True\n",
    "    else:\n",
    "        return False"
   ]
  },
  {
   "cell_type": "code",
   "execution_count": 6,
   "id": "92194e1d",
   "metadata": {
    "execution": {
     "iopub.execute_input": "2023-09-30T19:08:10.393101Z",
     "iopub.status.busy": "2023-09-30T19:08:10.392879Z",
     "iopub.status.idle": "2023-09-30T19:08:10.397009Z",
     "shell.execute_reply": "2023-09-30T19:08:10.396557Z"
    },
    "papermill": {
     "duration": 0.007159,
     "end_time": "2023-09-30T19:08:10.398048",
     "exception": false,
     "start_time": "2023-09-30T19:08:10.390889",
     "status": "completed"
    },
    "tags": []
   },
   "outputs": [],
   "source": [
    "def download_dataset(owner: str, dataset_name: str, download_folder: Path) -> Path:\n",
    "    \"\"\"Will download a dataset, unzip it in the download_folder and return the folder where the\n",
    "    data was unzipped.\"\"\"\n",
    "    dataset = f'{owner}/{dataset_name}'\n",
    "    folder = download_folder / dataset_name\n",
    "    folder.mkdir(exist_ok=True)\n",
    "\n",
    "    command_list = ['kaggle', 'datasets', 'download', dataset, '-p', str(folder), '--unzip']\n",
    "    results, errors = run_commands(command_list)\n",
    "    regexp = re.compile(r\"Downloading\\s([\\w-]+\\.zip)\\sto\\s(.+)\")\n",
    "    match = regexp.match(results[0])\n",
    "    # print('>>', results[0])  # , match.groups(2))\n",
    "\n",
    "    if match:\n",
    "        return Path(match.group(2))\n",
    "    if len(errors) > 1:\n",
    "        print('-' * 50)\n",
    "        print('errors')\n",
    "        for e in errors:\n",
    "            print(e)"
   ]
  },
  {
   "cell_type": "code",
   "execution_count": 7,
   "id": "082d03df",
   "metadata": {
    "execution": {
     "iopub.execute_input": "2023-09-30T19:08:10.401514Z",
     "iopub.status.busy": "2023-09-30T19:08:10.401336Z",
     "iopub.status.idle": "2023-09-30T19:08:10.404377Z",
     "shell.execute_reply": "2023-09-30T19:08:10.403983Z"
    },
    "papermill": {
     "duration": 0.005884,
     "end_time": "2023-09-30T19:08:10.405358",
     "exception": false,
     "start_time": "2023-09-30T19:08:10.399474",
     "status": "completed"
    },
    "tags": []
   },
   "outputs": [],
   "source": [
    "def find_csv_file(folder: Path, csv_name: str) -> Path:\n",
    "    csvs = folder.glob('**/*.csv')\n",
    "    for csv in csvs:\n",
    "        if csv.name == csv_name:\n",
    "            return csv"
   ]
  },
  {
   "cell_type": "markdown",
   "id": "a7c6b839",
   "metadata": {
    "tags": [
     "papermill-error-cell-tag"
    ]
   },
   "source": [
    "<span id=\"papermill-error-cell\" style=\"color:red; font-family:Helvetica Neue, Helvetica, Arial, sans-serif; font-size:2em;\">Execution using papermill encountered an exception here and stopped:</span>"
   ]
  },
  {
   "cell_type": "code",
   "execution_count": 8,
   "id": "46fe62c9",
   "metadata": {
    "execution": {
     "iopub.execute_input": "2023-09-30T19:08:10.409067Z",
     "iopub.status.busy": "2023-09-30T19:08:10.408854Z",
     "iopub.status.idle": "2023-09-30T19:08:13.577827Z",
     "shell.execute_reply": "2023-09-30T19:08:13.576742Z"
    },
    "papermill": {
     "duration": 3.172417,
     "end_time": "2023-09-30T19:08:13.579304",
     "exception": true,
     "start_time": "2023-09-30T19:08:10.406887",
     "status": "failed"
    },
    "tags": []
   },
   "outputs": [
    {
     "name": "stdout",
     "output_type": "stream",
     "text": [
      "Data folder: None\n"
     ]
    },
    {
     "ename": "AttributeError",
     "evalue": "'NoneType' object has no attribute 'glob'",
     "output_type": "error",
     "traceback": [
      "\u001b[0;31m---------------------------------------------------------------------------\u001b[0m",
      "\u001b[0;31mAttributeError\u001b[0m                            Traceback (most recent call last)",
      "Cell \u001b[0;32mIn[8], line 11\u001b[0m\n\u001b[1;32m      9\u001b[0m fldr \u001b[38;5;241m=\u001b[39m download_dataset(owner\u001b[38;5;241m=\u001b[39mds_owner, dataset_name\u001b[38;5;241m=\u001b[39mds_name, download_folder\u001b[38;5;241m=\u001b[39mdata_folder)\n\u001b[1;32m     10\u001b[0m \u001b[38;5;28mprint\u001b[39m(\u001b[38;5;124mf\u001b[39m\u001b[38;5;124m'\u001b[39m\u001b[38;5;124mData folder: \u001b[39m\u001b[38;5;132;01m{\u001b[39;00mfldr\u001b[38;5;132;01m}\u001b[39;00m\u001b[38;5;124m'\u001b[39m)\n\u001b[0;32m---> 11\u001b[0m csv_file \u001b[38;5;241m=\u001b[39m \u001b[43mfind_csv_file\u001b[49m\u001b[43m(\u001b[49m\u001b[43mfldr\u001b[49m\u001b[43m,\u001b[49m\u001b[43m \u001b[49m\u001b[38;5;124;43m'\u001b[39;49m\u001b[38;5;124;43mTrain.csv\u001b[39;49m\u001b[38;5;124;43m'\u001b[39;49m\u001b[43m)\u001b[49m\n\u001b[1;32m     12\u001b[0m product[\u001b[38;5;124m'\u001b[39m\u001b[38;5;124mcsv_file\u001b[39m\u001b[38;5;124m'\u001b[39m] \u001b[38;5;241m=\u001b[39m csv_file\n\u001b[1;32m     13\u001b[0m \u001b[38;5;28mprint\u001b[39m(\u001b[38;5;124mf\u001b[39m\u001b[38;5;124m'\u001b[39m\u001b[38;5;124mCSV: \u001b[39m\u001b[38;5;132;01m{\u001b[39;00mcsv_file\u001b[38;5;132;01m}\u001b[39;00m\u001b[38;5;124m'\u001b[39m)\n",
      "Cell \u001b[0;32mIn[7], line 2\u001b[0m, in \u001b[0;36mfind_csv_file\u001b[0;34m(folder, csv_name)\u001b[0m\n\u001b[1;32m      1\u001b[0m \u001b[38;5;28;01mdef\u001b[39;00m \u001b[38;5;21mfind_csv_file\u001b[39m(folder: Path, csv_name: \u001b[38;5;28mstr\u001b[39m) \u001b[38;5;241m-\u001b[39m\u001b[38;5;241m>\u001b[39m Path:\n\u001b[0;32m----> 2\u001b[0m     csvs \u001b[38;5;241m=\u001b[39m \u001b[43mfolder\u001b[49m\u001b[38;5;241;43m.\u001b[39;49m\u001b[43mglob\u001b[49m(\u001b[38;5;124m'\u001b[39m\u001b[38;5;124m**/*.csv\u001b[39m\u001b[38;5;124m'\u001b[39m)\n\u001b[1;32m      3\u001b[0m     \u001b[38;5;28;01mfor\u001b[39;00m csv \u001b[38;5;129;01min\u001b[39;00m csvs:\n\u001b[1;32m      4\u001b[0m         \u001b[38;5;28;01mif\u001b[39;00m csv\u001b[38;5;241m.\u001b[39mname \u001b[38;5;241m==\u001b[39m csv_name:\n",
      "\u001b[0;31mAttributeError\u001b[0m: 'NoneType' object has no attribute 'glob'"
     ]
    }
   ],
   "source": [
    "#  kaggle datasets download joebeachcapital/house-prices\n",
    "configure_kaggle(settings.ENVS_FOLDER)\n",
    "# ds_owner = 'fedesoriano'\n",
    "# ds_name = 'california-housing-prices-data-extra-features'\n",
    "ds_owner = 'akash14'\n",
    "ds_name = 'house-price-dataset'\n",
    "data_folder = settings.DATA_FOLDER\n",
    "data_folder.mkdir(exist_ok=True)\n",
    "fldr = download_dataset(owner=ds_owner, dataset_name=ds_name, download_folder=data_folder)\n",
    "print(f'Data folder: {fldr}')\n",
    "csv_file = find_csv_file(fldr, 'Train.csv')\n",
    "product['csv_file'] = csv_file\n",
    "print(f'CSV: {csv_file}')\n",
    "\n",
    "\n",
    "# if __name__ == '__main__':\n",
    "#     main()"
   ]
  }
 ],
 "metadata": {
  "jupytext": {
   "cell_metadata_filter": "tags,-all",
   "main_language": "python",
   "notebook_metadata_filter": "-all",
   "text_representation": {
    "extension": ".py",
    "format_name": "percent"
   }
  },
  "kernelspec": {
   "display_name": "Python 3 (ipykernel)",
   "language": "python",
   "name": "python3"
  },
  "language_info": {
   "codemirror_mode": {
    "name": "ipython",
    "version": 3
   },
   "file_extension": ".py",
   "mimetype": "text/x-python",
   "name": "python",
   "nbconvert_exporter": "python",
   "pygments_lexer": "ipython3",
   "version": "3.10.12"
  },
  "papermill": {
   "duration": 4.112251,
   "end_time": "2023-09-30T19:08:13.797555",
   "exception": true,
   "input_path": "/tmp/tmp482nmdog.ipynb",
   "output_path": "/home/luiscberrocal/PycharmProjects/hacktoberfest-2023/kaggle/products/extract-pipeline.ipynb",
   "parameters": {
    "product": {
     "csv_file": "/home/luiscberrocal/PycharmProjects/hacktoberfest-2023/csv_file",
     "nb": "/home/luiscberrocal/PycharmProjects/hacktoberfest-2023/kaggle/products/extract-pipeline.ipynb"
    }
   },
   "start_time": "2023-09-30T19:08:09.685304"
  }
 },
 "nbformat": 4,
 "nbformat_minor": 5
}