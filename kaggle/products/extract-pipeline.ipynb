{
 "cells": [
  {
   "cell_type": "code",
   "execution_count": 1,
   "id": "27083e86",
   "metadata": {
    "execution": {
     "iopub.execute_input": "2023-10-01T13:50:19.433299Z",
     "iopub.status.busy": "2023-10-01T13:50:19.433010Z",
     "iopub.status.idle": "2023-10-01T13:50:19.760752Z",
     "shell.execute_reply": "2023-10-01T13:50:19.760229Z"
    },
    "lines_to_next_cell": 2,
    "papermill": {
     "duration": 0.331413,
     "end_time": "2023-10-01T13:50:19.762074",
     "exception": false,
     "start_time": "2023-10-01T13:50:19.430661",
     "status": "completed"
    },
    "tags": [
     "parameters"
    ]
   },
   "outputs": [],
   "source": [
    "# declare a list tasks whose products you want to use as inputs\n",
    "import pandas as pd\n",
    "\n",
    "upstream = None"
   ]
  },
  {
   "cell_type": "code",
   "execution_count": 2,
   "id": "834abfaf",
   "metadata": {
    "execution": {
     "iopub.execute_input": "2023-10-01T13:50:19.774662Z",
     "iopub.status.busy": "2023-10-01T13:50:19.774326Z",
     "iopub.status.idle": "2023-10-01T13:50:19.777379Z",
     "shell.execute_reply": "2023-10-01T13:50:19.776690Z"
    },
    "papermill": {
     "duration": 0.015448,
     "end_time": "2023-10-01T13:50:19.779169",
     "exception": false,
     "start_time": "2023-10-01T13:50:19.763721",
     "status": "completed"
    },
    "tags": [
     "injected-parameters"
    ]
   },
   "outputs": [],
   "source": [
    "# Parameters\n",
    "product = {\"nb\": \"/home/luiscberrocal/PycharmProjects/hacktoberfest-2023/kaggle/products/extract-pipeline.ipynb\", \"csv_file\": \"/home/luiscberrocal/PycharmProjects/hacktoberfest-2023/kaggle/data/house_prices.csv\"}\n"
   ]
  },
  {
   "cell_type": "code",
   "execution_count": 3,
   "id": "80de4d3d",
   "metadata": {
    "execution": {
     "iopub.execute_input": "2023-10-01T13:50:19.784270Z",
     "iopub.status.busy": "2023-10-01T13:50:19.784004Z",
     "iopub.status.idle": "2023-10-01T13:50:19.786478Z",
     "shell.execute_reply": "2023-10-01T13:50:19.786047Z"
    },
    "papermill": {
     "duration": 0.006178,
     "end_time": "2023-10-01T13:50:19.787480",
     "exception": false,
     "start_time": "2023-10-01T13:50:19.781302",
     "status": "completed"
    },
    "tags": []
   },
   "outputs": [],
   "source": [
    "# + tags=[\"parameters\"]\n",
    "# declare a list tasks whose products you want to use as inputs\n",
    "\n",
    "upstream = None\n",
    "# product = None"
   ]
  },
  {
   "cell_type": "code",
   "execution_count": 4,
   "id": "e22a0532",
   "metadata": {
    "execution": {
     "iopub.execute_input": "2023-10-01T13:50:19.790781Z",
     "iopub.status.busy": "2023-10-01T13:50:19.790530Z",
     "iopub.status.idle": "2023-10-01T13:50:19.793925Z",
     "shell.execute_reply": "2023-10-01T13:50:19.793456Z"
    },
    "papermill": {
     "duration": 0.006242,
     "end_time": "2023-10-01T13:50:19.794941",
     "exception": false,
     "start_time": "2023-10-01T13:50:19.788699",
     "status": "completed"
    },
    "tags": []
   },
   "outputs": [],
   "source": [
    "import re\n",
    "import shutil\n",
    "from pathlib import Path\n",
    "\n",
    "from kaggle import settings\n",
    "from kaggle.terminal_commands import run_commands"
   ]
  },
  {
   "cell_type": "code",
   "execution_count": 5,
   "id": "d26f1982",
   "metadata": {
    "execution": {
     "iopub.execute_input": "2023-10-01T13:50:19.798557Z",
     "iopub.status.busy": "2023-10-01T13:50:19.798307Z",
     "iopub.status.idle": "2023-10-01T13:50:19.801736Z",
     "shell.execute_reply": "2023-10-01T13:50:19.801353Z"
    },
    "papermill": {
     "duration": 0.006187,
     "end_time": "2023-10-01T13:50:19.802667",
     "exception": false,
     "start_time": "2023-10-01T13:50:19.796480",
     "status": "completed"
    },
    "tags": []
   },
   "outputs": [],
   "source": [
    "def configure_kaggle(envs_folder: Path):\n",
    "    \"\"\"Copy kaggle.json to ~/.kaggle in order to run kaggle commands.\"\"\"\n",
    "    envs_file = envs_folder / 'kaggle.json'\n",
    "    if not envs_file.exists():\n",
    "        raise Exception('Kaggle configuration file not found')\n",
    "    kaggle_folder = Path.home() / '.kaggle'\n",
    "    kaggle_folder.mkdir(exist_ok=True)\n",
    "    config_file = kaggle_folder / 'kaggle.json'\n",
    "    if not config_file.exists():\n",
    "        shutil.copy(envs_file, config_file)\n",
    "        return True\n",
    "    else:\n",
    "        return False"
   ]
  },
  {
   "cell_type": "code",
   "execution_count": 6,
   "id": "331c7e72",
   "metadata": {
    "execution": {
     "iopub.execute_input": "2023-10-01T13:50:19.805756Z",
     "iopub.status.busy": "2023-10-01T13:50:19.805533Z",
     "iopub.status.idle": "2023-10-01T13:50:19.809970Z",
     "shell.execute_reply": "2023-10-01T13:50:19.809546Z"
    },
    "papermill": {
     "duration": 0.007246,
     "end_time": "2023-10-01T13:50:19.811076",
     "exception": false,
     "start_time": "2023-10-01T13:50:19.803830",
     "status": "completed"
    },
    "tags": []
   },
   "outputs": [],
   "source": [
    "def download_dataset(owner: str, dataset_name: str, download_folder: Path) -> Path:\n",
    "    \"\"\"Will download a dataset, unzip it in the download_folder and return the folder where the\n",
    "    data was unzipped.\"\"\"\n",
    "    dataset = f'{owner}/{dataset_name}'\n",
    "    folder = download_folder / dataset_name\n",
    "    folder.mkdir(exist_ok=True)\n",
    "\n",
    "    command_list = ['kaggle', 'datasets', 'download', dataset, '-p', str(folder), '--unzip']\n",
    "    results, errors = run_commands(command_list)\n",
    "    regexp = re.compile(r\"Downloading\\s([\\w-]+\\.zip)\\sto\\s(.+)\")\n",
    "    match = regexp.match(results[0])\n",
    "    # print('>>', results[0])  # , match.groups(2))\n",
    "    if len(errors) > 1:\n",
    "        print('-' * 50)\n",
    "        print('errors')\n",
    "        for e in errors:\n",
    "            print(e)\n",
    "\n",
    "    if match:\n",
    "        return Path(match.group(2))\n",
    "    else:\n",
    "        error_msg = f'{results}'\n",
    "        raise Exception(error_msg)"
   ]
  },
  {
   "cell_type": "code",
   "execution_count": 7,
   "id": "2d1824e3",
   "metadata": {
    "execution": {
     "iopub.execute_input": "2023-10-01T13:50:19.814836Z",
     "iopub.status.busy": "2023-10-01T13:50:19.814494Z",
     "iopub.status.idle": "2023-10-01T13:50:19.817786Z",
     "shell.execute_reply": "2023-10-01T13:50:19.817209Z"
    },
    "papermill": {
     "duration": 0.006503,
     "end_time": "2023-10-01T13:50:19.819025",
     "exception": false,
     "start_time": "2023-10-01T13:50:19.812522",
     "status": "completed"
    },
    "tags": []
   },
   "outputs": [],
   "source": [
    "def find_csv_file(folder: Path, csv_name: str) -> Path:\n",
    "    csvs = folder.glob('**/*.csv')\n",
    "    for csv in csvs:\n",
    "        if csv.name == csv_name:\n",
    "            return csv"
   ]
  },
  {
   "cell_type": "code",
   "execution_count": 8,
   "id": "8c3db882",
   "metadata": {
    "execution": {
     "iopub.execute_input": "2023-10-01T13:50:19.823800Z",
     "iopub.status.busy": "2023-10-01T13:50:19.823470Z",
     "iopub.status.idle": "2023-10-01T13:50:21.865967Z",
     "shell.execute_reply": "2023-10-01T13:50:21.865380Z"
    },
    "papermill": {
     "duration": 2.046434,
     "end_time": "2023-10-01T13:50:21.867171",
     "exception": false,
     "start_time": "2023-10-01T13:50:19.820737",
     "status": "completed"
    },
    "tags": []
   },
   "outputs": [
    {
     "name": "stdout",
     "output_type": "stream",
     "text": [
      "Data folder: /home/luiscberrocal/PycharmProjects/hacktoberfest-2023/kaggle/data/house-price-dataset\n",
      "CSV: /home/luiscberrocal/PycharmProjects/hacktoberfest-2023/kaggle/data/house-price-dataset/Participants_Data_HPP/Train.csv\n"
     ]
    }
   ],
   "source": [
    "#  kaggle datasets download joebeachcapital/house-prices\n",
    "configure_kaggle(settings.ENVS_FOLDER)\n",
    "# ds_owner = 'fedesoriano'\n",
    "# ds_name = 'california-housing-prices-data-extra-features'\n",
    "ds_owner = 'akash14'\n",
    "ds_name = 'house-price-dataset'\n",
    "data_folder = settings.DATA_FOLDER\n",
    "data_folder.mkdir(exist_ok=True)\n",
    "fldr = download_dataset(owner=ds_owner, dataset_name=ds_name, download_folder=data_folder)\n",
    "print(f'Data folder: {fldr}')\n",
    "csv_file = find_csv_file(fldr, 'Train.csv')\n",
    "df = pd.read_csv(csv_file)\n",
    "df.to_csv(product['csv_file'])\n",
    "\n",
    "print(f'CSV: {csv_file}')\n",
    "\n",
    "\n",
    "# if __name__ == '__main__':\n",
    "#     main()"
   ]
  }
 ],
 "metadata": {
  "jupytext": {
   "cell_metadata_filter": "tags,-all",
   "main_language": "python",
   "notebook_metadata_filter": "-all",
   "text_representation": {
    "extension": ".py",
    "format_name": "percent"
   }
  },
  "kernelspec": {
   "display_name": "Python 3 (ipykernel)",
   "language": "python",
   "name": "python3"
  },
  "language_info": {
   "codemirror_mode": {
    "name": "ipython",
    "version": 3
   },
   "file_extension": ".py",
   "mimetype": "text/x-python",
   "name": "python",
   "nbconvert_exporter": "python",
   "pygments_lexer": "ipython3",
   "version": "3.10.12"
  },
  "papermill": {
   "duration": 3.308242,
   "end_time": "2023-10-01T13:50:22.084808",
   "exception": null,
   "input_path": "/tmp/tmp4n4s7356.ipynb",
   "output_path": "/home/luiscberrocal/PycharmProjects/hacktoberfest-2023/kaggle/products/extract-pipeline.ipynb",
   "parameters": {
    "product": {
     "csv_file": "/home/luiscberrocal/PycharmProjects/hacktoberfest-2023/kaggle/data/house_prices.csv",
     "nb": "/home/luiscberrocal/PycharmProjects/hacktoberfest-2023/kaggle/products/extract-pipeline.ipynb"
    }
   },
   "start_time": "2023-10-01T13:50:18.776566"
  }
 },
 "nbformat": 4,
 "nbformat_minor": 5
}