{
 "cells": [
  {
   "cell_type": "code",
   "execution_count": 1,
   "id": "2daffce8",
   "metadata": {
    "execution": {
     "iopub.execute_input": "2023-10-03T12:55:02.403015Z",
     "iopub.status.busy": "2023-10-03T12:55:02.402459Z",
     "iopub.status.idle": "2023-10-03T12:55:02.410702Z",
     "shell.execute_reply": "2023-10-03T12:55:02.410187Z"
    },
    "papermill": {
     "duration": 0.011964,
     "end_time": "2023-10-03T12:55:02.411769",
     "exception": false,
     "start_time": "2023-10-03T12:55:02.399805",
     "status": "completed"
    },
    "tags": [
     "parameters"
    ]
   },
   "outputs": [],
   "source": [
    "# declare a list tasks whose products you want to use as inputs\n",
    "upstream = ['02-cleanup']\n",
    "product = None"
   ]
  },
  {
   "cell_type": "code",
   "execution_count": 2,
   "id": "ef968c04",
   "metadata": {
    "execution": {
     "iopub.execute_input": "2023-10-03T12:55:02.416190Z",
     "iopub.status.busy": "2023-10-03T12:55:02.415907Z",
     "iopub.status.idle": "2023-10-03T12:55:02.419598Z",
     "shell.execute_reply": "2023-10-03T12:55:02.419140Z"
    },
    "papermill": {
     "duration": 0.006972,
     "end_time": "2023-10-03T12:55:02.420751",
     "exception": false,
     "start_time": "2023-10-03T12:55:02.413779",
     "status": "completed"
    },
    "tags": [
     "injected-parameters"
    ]
   },
   "outputs": [],
   "source": [
    "# Parameters\n",
    "upstream = {\"02-cleanup\": {\"nb\": \"/home/luiscberrocal/PycharmProjects/hacktoberfest-2023/kaggle/products/cleanup.ipynb\", \"clean_csv\": \"/home/luiscberrocal/PycharmProjects/hacktoberfest-2023/kaggle/data/house_prices_clean.csv\"}}\n",
    "product = {\"nb\": \"/home/luiscberrocal/PycharmProjects/hacktoberfest-2023/kaggle/products/transform.ipynb\", \"train_data\": \"/home/luiscberrocal/PycharmProjects/hacktoberfest-2023/kaggle/data/house_prices_train.csv\", \"test_data\": \"/home/luiscberrocal/PycharmProjects/hacktoberfest-2023/kaggle/data/house_prices_test.csv\"}\n"
   ]
  },
  {
   "cell_type": "code",
   "execution_count": 3,
   "id": "36c4a8a8",
   "metadata": {
    "execution": {
     "iopub.execute_input": "2023-10-03T12:55:02.424601Z",
     "iopub.status.busy": "2023-10-03T12:55:02.424353Z",
     "iopub.status.idle": "2023-10-03T12:55:02.427010Z",
     "shell.execute_reply": "2023-10-03T12:55:02.426516Z"
    },
    "papermill": {
     "duration": 0.005881,
     "end_time": "2023-10-03T12:55:02.428058",
     "exception": false,
     "start_time": "2023-10-03T12:55:02.422177",
     "status": "completed"
    },
    "tags": []
   },
   "outputs": [],
   "source": [
    "import warnings\n",
    "\n",
    "warnings.filterwarnings('ignore')"
   ]
  },
  {
   "cell_type": "code",
   "execution_count": 4,
   "id": "043c6b9a",
   "metadata": {
    "execution": {
     "iopub.execute_input": "2023-10-03T12:55:02.432124Z",
     "iopub.status.busy": "2023-10-03T12:55:02.431877Z",
     "iopub.status.idle": "2023-10-03T12:55:03.103168Z",
     "shell.execute_reply": "2023-10-03T12:55:03.102635Z"
    },
    "papermill": {
     "duration": 0.674971,
     "end_time": "2023-10-03T12:55:03.104492",
     "exception": false,
     "start_time": "2023-10-03T12:55:02.429521",
     "status": "completed"
    },
    "tags": []
   },
   "outputs": [],
   "source": [
    "import pandas as pd\n",
    "from sklearn.model_selection import train_test_split"
   ]
  },
  {
   "cell_type": "code",
   "execution_count": 5,
   "id": "f115c12f",
   "metadata": {
    "execution": {
     "iopub.execute_input": "2023-10-03T12:55:03.117109Z",
     "iopub.status.busy": "2023-10-03T12:55:03.116763Z",
     "iopub.status.idle": "2023-10-03T12:55:03.158455Z",
     "shell.execute_reply": "2023-10-03T12:55:03.157978Z"
    },
    "papermill": {
     "duration": 0.053413,
     "end_time": "2023-10-03T12:55:03.159562",
     "exception": false,
     "start_time": "2023-10-03T12:55:03.106149",
     "status": "completed"
    },
    "tags": []
   },
   "outputs": [
    {
     "data": {
      "text/html": [
       "<div>\n",
       "<style scoped>\n",
       "    .dataframe tbody tr th:only-of-type {\n",
       "        vertical-align: middle;\n",
       "    }\n",
       "\n",
       "    .dataframe tbody tr th {\n",
       "        vertical-align: top;\n",
       "    }\n",
       "\n",
       "    .dataframe thead th {\n",
       "        text-align: right;\n",
       "    }\n",
       "</style>\n",
       "<table border=\"1\" class=\"dataframe\">\n",
       "  <thead>\n",
       "    <tr style=\"text-align: right;\">\n",
       "      <th></th>\n",
       "      <th>under_construction</th>\n",
       "      <th>rera</th>\n",
       "      <th>bhk_no</th>\n",
       "      <th>ready_to_move</th>\n",
       "      <th>resale</th>\n",
       "      <th>longitude</th>\n",
       "      <th>latitude</th>\n",
       "      <th>price</th>\n",
       "      <th>area_m2</th>\n",
       "      <th>posted_by_Builder</th>\n",
       "      <th>posted_by_Dealer</th>\n",
       "      <th>posted_by_Owner</th>\n",
       "      <th>bhk_or_rk_BHK</th>\n",
       "      <th>bhk_or_rk_RK</th>\n",
       "    </tr>\n",
       "  </thead>\n",
       "  <tbody>\n",
       "    <tr>\n",
       "      <th>0</th>\n",
       "      <td>0</td>\n",
       "      <td>0</td>\n",
       "      <td>2</td>\n",
       "      <td>1</td>\n",
       "      <td>1</td>\n",
       "      <td>12.969910</td>\n",
       "      <td>77.597960</td>\n",
       "      <td>76835.0</td>\n",
       "      <td>120.795863</td>\n",
       "      <td>0</td>\n",
       "      <td>0</td>\n",
       "      <td>1</td>\n",
       "      <td>1</td>\n",
       "      <td>0</td>\n",
       "    </tr>\n",
       "    <tr>\n",
       "      <th>1</th>\n",
       "      <td>0</td>\n",
       "      <td>0</td>\n",
       "      <td>2</td>\n",
       "      <td>1</td>\n",
       "      <td>1</td>\n",
       "      <td>12.274538</td>\n",
       "      <td>76.644605</td>\n",
       "      <td>71247.0</td>\n",
       "      <td>118.451325</td>\n",
       "      <td>0</td>\n",
       "      <td>1</td>\n",
       "      <td>0</td>\n",
       "      <td>1</td>\n",
       "      <td>0</td>\n",
       "    </tr>\n",
       "    <tr>\n",
       "      <th>2</th>\n",
       "      <td>0</td>\n",
       "      <td>0</td>\n",
       "      <td>2</td>\n",
       "      <td>1</td>\n",
       "      <td>1</td>\n",
       "      <td>12.778033</td>\n",
       "      <td>77.632191</td>\n",
       "      <td>60071.0</td>\n",
       "      <td>86.693338</td>\n",
       "      <td>0</td>\n",
       "      <td>0</td>\n",
       "      <td>1</td>\n",
       "      <td>1</td>\n",
       "      <td>0</td>\n",
       "    </tr>\n",
       "    <tr>\n",
       "      <th>3</th>\n",
       "      <td>0</td>\n",
       "      <td>1</td>\n",
       "      <td>2</td>\n",
       "      <td>1</td>\n",
       "      <td>1</td>\n",
       "      <td>28.642300</td>\n",
       "      <td>77.344500</td>\n",
       "      <td>87312.5</td>\n",
       "      <td>86.392464</td>\n",
       "      <td>0</td>\n",
       "      <td>0</td>\n",
       "      <td>1</td>\n",
       "      <td>1</td>\n",
       "      <td>0</td>\n",
       "    </tr>\n",
       "    <tr>\n",
       "      <th>4</th>\n",
       "      <td>1</td>\n",
       "      <td>0</td>\n",
       "      <td>2</td>\n",
       "      <td>0</td>\n",
       "      <td>1</td>\n",
       "      <td>22.592200</td>\n",
       "      <td>88.484911</td>\n",
       "      <td>84518.5</td>\n",
       "      <td>92.810956</td>\n",
       "      <td>0</td>\n",
       "      <td>1</td>\n",
       "      <td>0</td>\n",
       "      <td>1</td>\n",
       "      <td>0</td>\n",
       "    </tr>\n",
       "  </tbody>\n",
       "</table>\n",
       "</div>"
      ],
      "text/plain": [
       "   under_construction  rera  bhk_no  ready_to_move  resale  longitude  \\\n",
       "0                   0     0       2              1       1  12.969910   \n",
       "1                   0     0       2              1       1  12.274538   \n",
       "2                   0     0       2              1       1  12.778033   \n",
       "3                   0     1       2              1       1  28.642300   \n",
       "4                   1     0       2              0       1  22.592200   \n",
       "\n",
       "    latitude    price     area_m2  posted_by_Builder  posted_by_Dealer  \\\n",
       "0  77.597960  76835.0  120.795863                  0                 0   \n",
       "1  76.644605  71247.0  118.451325                  0                 1   \n",
       "2  77.632191  60071.0   86.693338                  0                 0   \n",
       "3  77.344500  87312.5   86.392464                  0                 0   \n",
       "4  88.484911  84518.5   92.810956                  0                 1   \n",
       "\n",
       "   posted_by_Owner  bhk_or_rk_BHK  bhk_or_rk_RK  \n",
       "0                1              1             0  \n",
       "1                0              1             0  \n",
       "2                1              1             0  \n",
       "3                1              1             0  \n",
       "4                0              1             0  "
      ]
     },
     "execution_count": 5,
     "metadata": {},
     "output_type": "execute_result"
    }
   ],
   "source": [
    "df = pd.read_csv(upstream['02-cleanup']['clean_csv'])\n",
    "\n",
    "df.head()"
   ]
  },
  {
   "cell_type": "code",
   "execution_count": 6,
   "id": "d248e053",
   "metadata": {
    "execution": {
     "iopub.execute_input": "2023-10-03T12:55:03.163779Z",
     "iopub.status.busy": "2023-10-03T12:55:03.163526Z",
     "iopub.status.idle": "2023-10-03T12:55:03.167401Z",
     "shell.execute_reply": "2023-10-03T12:55:03.166906Z"
    },
    "papermill": {
     "duration": 0.007302,
     "end_time": "2023-10-03T12:55:03.168525",
     "exception": false,
     "start_time": "2023-10-03T12:55:03.161223",
     "status": "completed"
    },
    "tags": []
   },
   "outputs": [],
   "source": [
    "X = df.drop(['price'], axis=1)\n",
    "y = df['price']"
   ]
  },
  {
   "cell_type": "code",
   "execution_count": 7,
   "id": "d6c448d0",
   "metadata": {
    "execution": {
     "iopub.execute_input": "2023-10-03T12:55:03.173276Z",
     "iopub.status.busy": "2023-10-03T12:55:03.173000Z",
     "iopub.status.idle": "2023-10-03T12:55:03.180144Z",
     "shell.execute_reply": "2023-10-03T12:55:03.179672Z"
    },
    "papermill": {
     "duration": 0.010805,
     "end_time": "2023-10-03T12:55:03.181295",
     "exception": false,
     "start_time": "2023-10-03T12:55:03.170490",
     "status": "completed"
    },
    "tags": []
   },
   "outputs": [],
   "source": [
    "\n",
    "X_train, X_test, y_train, y_test = train_test_split(X, y, test_size=0.2)"
   ]
  },
  {
   "cell_type": "code",
   "execution_count": 8,
   "id": "9eeee8cb",
   "metadata": {
    "execution": {
     "iopub.execute_input": "2023-10-03T12:55:03.185920Z",
     "iopub.status.busy": "2023-10-03T12:55:03.185593Z",
     "iopub.status.idle": "2023-10-03T12:55:03.193190Z",
     "shell.execute_reply": "2023-10-03T12:55:03.192767Z"
    },
    "papermill": {
     "duration": 0.011203,
     "end_time": "2023-10-03T12:55:03.194349",
     "exception": false,
     "start_time": "2023-10-03T12:55:03.183146",
     "status": "completed"
    },
    "tags": []
   },
   "outputs": [],
   "source": [
    "train_data = X_train.join(y_train)\n",
    "test_data = X_test.join(y_test)"
   ]
  },
  {
   "cell_type": "code",
   "execution_count": 9,
   "id": "03306d1f",
   "metadata": {
    "execution": {
     "iopub.execute_input": "2023-10-03T12:55:03.198432Z",
     "iopub.status.busy": "2023-10-03T12:55:03.198152Z",
     "iopub.status.idle": "2023-10-03T12:55:03.319712Z",
     "shell.execute_reply": "2023-10-03T12:55:03.319185Z"
    },
    "papermill": {
     "duration": 0.125265,
     "end_time": "2023-10-03T12:55:03.321165",
     "exception": false,
     "start_time": "2023-10-03T12:55:03.195900",
     "status": "completed"
    },
    "tags": []
   },
   "outputs": [],
   "source": [
    "train_data.to_csv(product['train_data'], index=False)\n",
    "test_data.to_csv(product['test_data'], index=False)"
   ]
  }
 ],
 "metadata": {
  "jupytext": {
   "cell_metadata_filter": "tags,-all",
   "main_language": "python",
   "notebook_metadata_filter": "-all",
   "text_representation": {
    "extension": ".py",
    "format_name": "percent"
   }
  },
  "kernelspec": {
   "display_name": "Python 3 (ipykernel)",
   "language": "python",
   "name": "python3"
  },
  "language_info": {
   "codemirror_mode": {
    "name": "ipython",
    "version": 3
   },
   "file_extension": ".py",
   "mimetype": "text/x-python",
   "name": "python",
   "nbconvert_exporter": "python",
   "pygments_lexer": "ipython3",
   "version": "3.10.12"
  },
  "papermill": {
   "duration": 1.896493,
   "end_time": "2023-10-03T12:55:03.640259",
   "exception": null,
   "input_path": "/tmp/tmpoecsf7lw.ipynb",
   "output_path": "/home/luiscberrocal/PycharmProjects/hacktoberfest-2023/kaggle/products/transform.ipynb",
   "parameters": {
    "product": {
     "nb": "/home/luiscberrocal/PycharmProjects/hacktoberfest-2023/kaggle/products/transform.ipynb",
     "test_data": "/home/luiscberrocal/PycharmProjects/hacktoberfest-2023/kaggle/data/house_prices_test.csv",
     "train_data": "/home/luiscberrocal/PycharmProjects/hacktoberfest-2023/kaggle/data/house_prices_train.csv"
    },
    "upstream": {
     "02-cleanup": {
      "clean_csv": "/home/luiscberrocal/PycharmProjects/hacktoberfest-2023/kaggle/data/house_prices_clean.csv",
      "nb": "/home/luiscberrocal/PycharmProjects/hacktoberfest-2023/kaggle/products/cleanup.ipynb"
     }
    }
   },
   "start_time": "2023-10-03T12:55:01.743766"
  }
 },
 "nbformat": 4,
 "nbformat_minor": 5
}