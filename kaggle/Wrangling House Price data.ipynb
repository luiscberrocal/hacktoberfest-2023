{
 "cells": [
  {
   "cell_type": "markdown",
   "id": "1e876d8d-05eb-4031-bd14-6d8d1b104556",
   "metadata": {},
   "source": [
    "# Wrangling House Price data"
   ]
  },
  {
   "cell_type": "code",
   "execution_count": 21,
   "id": "0b5a02d6-c471-4251-9906-18b83100e27f",
   "metadata": {},
   "outputs": [],
   "source": [
    "import sys\n",
    "import os\n",
    "import pandas as pd\n",
    "import seaborn as sns\n",
    "from pathlib import Path\n",
    "\n",
    "module_path = os.path.abspath(os.path.join(os.pardir, os.pardir))\n",
    "\n",
    "module_path = Path.cwd().parent\n",
    "# print(module_path)\n",
    "if module_path not in sys.path:\n",
    "    sys.path.append(module_path)\n",
    "# print(sys.path)\n",
    "import settings\n",
    "# from kaggle import settings"
   ]
  },
  {
   "cell_type": "markdown",
   "id": "cb88c717-b187-461f-bf23-1108a5480eac",
   "metadata": {},
   "source": [
    "## Configuration"
   ]
  },
  {
   "cell_type": "code",
   "execution_count": 24,
   "id": "f14eb5e4-9e2f-474f-9c96-612a65abe887",
   "metadata": {},
   "outputs": [],
   "source": [
    "csv_file = settings.APP_FOLDER / 'data' / 'Real_Estate_Sales_2001-2020_GL.csv'"
   ]
  },
  {
   "cell_type": "code",
   "execution_count": 25,
   "id": "241ff99c-053d-4bd2-a0cc-8f213658a657",
   "metadata": {},
   "outputs": [
    {
     "name": "stderr",
     "output_type": "stream",
     "text": [
      "/tmp/ipykernel_2583586/1049389636.py:1: DtypeWarning: Columns (8,9,10,11,12) have mixed types. Specify dtype option on import or set low_memory=False.\n",
      "  df = pd.read_csv(csv_file)\n"
     ]
    },
    {
     "data": {
      "text/plain": [
       "(997213, 14)"
      ]
     },
     "execution_count": 25,
     "metadata": {},
     "output_type": "execute_result"
    }
   ],
   "source": [
    "df = pd.read_csv(csv_file)\n",
    "\n",
    "df.shape"
   ]
  },
  {
   "cell_type": "code",
   "execution_count": 47,
   "id": "d44b43b1-6e2e-4ed2-a9df-a5ffef3bd6c6",
   "metadata": {},
   "outputs": [
    {
     "data": {
      "text/html": [
       "<div>\n",
       "<style scoped>\n",
       "    .dataframe tbody tr th:only-of-type {\n",
       "        vertical-align: middle;\n",
       "    }\n",
       "\n",
       "    .dataframe tbody tr th {\n",
       "        vertical-align: top;\n",
       "    }\n",
       "\n",
       "    .dataframe thead th {\n",
       "        text-align: right;\n",
       "    }\n",
       "</style>\n",
       "<table border=\"1\" class=\"dataframe\">\n",
       "  <thead>\n",
       "    <tr style=\"text-align: right;\">\n",
       "      <th></th>\n",
       "      <th>serial_number</th>\n",
       "      <th>list_year</th>\n",
       "      <th>date_recorded</th>\n",
       "      <th>town</th>\n",
       "      <th>address</th>\n",
       "      <th>assessed_value</th>\n",
       "      <th>sale_amount</th>\n",
       "      <th>sales_ratio</th>\n",
       "      <th>property_type</th>\n",
       "      <th>residential_type</th>\n",
       "      <th>non_use_code</th>\n",
       "      <th>assessor_remarks</th>\n",
       "      <th>opm_remarks</th>\n",
       "      <th>location</th>\n",
       "    </tr>\n",
       "  </thead>\n",
       "  <tbody>\n",
       "    <tr>\n",
       "      <th>145352</th>\n",
       "      <td>22309</td>\n",
       "      <td>2002</td>\n",
       "      <td>07/11/2003</td>\n",
       "      <td>Bridgeport</td>\n",
       "      <td>33-35 PIXLEE PL</td>\n",
       "      <td>84210.0</td>\n",
       "      <td>170000.0</td>\n",
       "      <td>0.495353</td>\n",
       "      <td>UNKOWN PROPERTY TYPE</td>\n",
       "      <td>UNKOWN RESIDENTIAL TYPE</td>\n",
       "      <td>UNKOWN</td>\n",
       "      <td>NaN</td>\n",
       "      <td>NaN</td>\n",
       "      <td>NaN</td>\n",
       "    </tr>\n",
       "    <tr>\n",
       "      <th>930312</th>\n",
       "      <td>190039</td>\n",
       "      <td>2019</td>\n",
       "      <td>04/27/2020</td>\n",
       "      <td>Kent</td>\n",
       "      <td>121 SPOONER HILL RD</td>\n",
       "      <td>205500.0</td>\n",
       "      <td>300000.0</td>\n",
       "      <td>0.685000</td>\n",
       "      <td>Single Family</td>\n",
       "      <td>Single Family</td>\n",
       "      <td>UNKOWN</td>\n",
       "      <td>NaN</td>\n",
       "      <td>NaN</td>\n",
       "      <td>NaN</td>\n",
       "    </tr>\n",
       "    <tr>\n",
       "      <th>542393</th>\n",
       "      <td>90280</td>\n",
       "      <td>2009</td>\n",
       "      <td>05/28/2010</td>\n",
       "      <td>New Milford</td>\n",
       "      <td>157 LONE OAK DR</td>\n",
       "      <td>173880.0</td>\n",
       "      <td>154000.0</td>\n",
       "      <td>1.129091</td>\n",
       "      <td>Single Family</td>\n",
       "      <td>Single Family</td>\n",
       "      <td>14 - Foreclosure</td>\n",
       "      <td>CODE 14</td>\n",
       "      <td>NaN</td>\n",
       "      <td>NaN</td>\n",
       "    </tr>\n",
       "    <tr>\n",
       "      <th>334554</th>\n",
       "      <td>40408</td>\n",
       "      <td>2004</td>\n",
       "      <td>05/02/2005</td>\n",
       "      <td>Windsor</td>\n",
       "      <td>252 CARRIAGE WAY</td>\n",
       "      <td>166600.0</td>\n",
       "      <td>282500.0</td>\n",
       "      <td>0.589735</td>\n",
       "      <td>UNKOWN PROPERTY TYPE</td>\n",
       "      <td>UNKOWN RESIDENTIAL TYPE</td>\n",
       "      <td>UNKOWN</td>\n",
       "      <td>NaN</td>\n",
       "      <td>NaN</td>\n",
       "      <td>NaN</td>\n",
       "    </tr>\n",
       "    <tr>\n",
       "      <th>486628</th>\n",
       "      <td>70178</td>\n",
       "      <td>2007</td>\n",
       "      <td>07/02/2008</td>\n",
       "      <td>Seymour</td>\n",
       "      <td>125 SKOKORAT ST</td>\n",
       "      <td>190400.0</td>\n",
       "      <td>320000.0</td>\n",
       "      <td>0.595000</td>\n",
       "      <td>Single Family</td>\n",
       "      <td>Single Family</td>\n",
       "      <td>UNKOWN</td>\n",
       "      <td>NaN</td>\n",
       "      <td>NaN</td>\n",
       "      <td>POINT (-73.05411 41.41067)</td>\n",
       "    </tr>\n",
       "  </tbody>\n",
       "</table>\n",
       "</div>"
      ],
      "text/plain": [
       "        serial_number  list_year date_recorded         town  \\\n",
       "145352          22309       2002    07/11/2003   Bridgeport   \n",
       "930312         190039       2019    04/27/2020         Kent   \n",
       "542393          90280       2009    05/28/2010  New Milford   \n",
       "334554          40408       2004    05/02/2005      Windsor   \n",
       "486628          70178       2007    07/02/2008      Seymour   \n",
       "\n",
       "                    address  assessed_value  sale_amount  sales_ratio  \\\n",
       "145352      33-35 PIXLEE PL         84210.0     170000.0     0.495353   \n",
       "930312  121 SPOONER HILL RD        205500.0     300000.0     0.685000   \n",
       "542393      157 LONE OAK DR        173880.0     154000.0     1.129091   \n",
       "334554     252 CARRIAGE WAY        166600.0     282500.0     0.589735   \n",
       "486628      125 SKOKORAT ST        190400.0     320000.0     0.595000   \n",
       "\n",
       "               property_type         residential_type      non_use_code  \\\n",
       "145352  UNKOWN PROPERTY TYPE  UNKOWN RESIDENTIAL TYPE            UNKOWN   \n",
       "930312         Single Family            Single Family            UNKOWN   \n",
       "542393         Single Family            Single Family  14 - Foreclosure   \n",
       "334554  UNKOWN PROPERTY TYPE  UNKOWN RESIDENTIAL TYPE            UNKOWN   \n",
       "486628         Single Family            Single Family            UNKOWN   \n",
       "\n",
       "       assessor_remarks opm_remarks                    location  \n",
       "145352              NaN         NaN                         NaN  \n",
       "930312              NaN         NaN                         NaN  \n",
       "542393          CODE 14         NaN                         NaN  \n",
       "334554              NaN         NaN                         NaN  \n",
       "486628              NaN         NaN  POINT (-73.05411 41.41067)  "
      ]
     },
     "execution_count": 47,
     "metadata": {},
     "output_type": "execute_result"
    }
   ],
   "source": [
    "df.sample(5)"
   ]
  },
  {
   "cell_type": "markdown",
   "id": "48d9b069-a55e-4927-9806-f6ff531e2395",
   "metadata": {},
   "source": [
    "## Data cleanup"
   ]
  },
  {
   "cell_type": "code",
   "execution_count": 26,
   "id": "e47ecd1f-973e-4803-a660-6e6223ce5f9e",
   "metadata": {},
   "outputs": [
    {
     "name": "stdout",
     "output_type": "stream",
     "text": [
      "<class 'pandas.core.frame.DataFrame'>\n",
      "RangeIndex: 997213 entries, 0 to 997212\n",
      "Data columns (total 14 columns):\n",
      " #   Column            Non-Null Count   Dtype  \n",
      "---  ------            --------------   -----  \n",
      " 0   Serial Number     997213 non-null  int64  \n",
      " 1   List Year         997213 non-null  int64  \n",
      " 2   Date Recorded     997211 non-null  object \n",
      " 3   Town              997213 non-null  object \n",
      " 4   Address           997162 non-null  object \n",
      " 5   Assessed Value    997213 non-null  float64\n",
      " 6   Sale Amount       997213 non-null  float64\n",
      " 7   Sales Ratio       997213 non-null  float64\n",
      " 8   Property Type     614767 non-null  object \n",
      " 9   Residential Type  608904 non-null  object \n",
      " 10  Non Use Code      289681 non-null  object \n",
      " 11  Assessor Remarks  149864 non-null  object \n",
      " 12  OPM remarks       9934 non-null    object \n",
      " 13  Location          197697 non-null  object \n",
      "dtypes: float64(3), int64(2), object(9)\n",
      "memory usage: 106.5+ MB\n"
     ]
    }
   ],
   "source": [
    "df.info()"
   ]
  },
  {
   "cell_type": "markdown",
   "id": "61392925-b76a-4e23-b240-c5c3ed76bd6a",
   "metadata": {},
   "source": [
    "### Renaming columns"
   ]
  },
  {
   "cell_type": "code",
   "execution_count": 29,
   "id": "f01793df-7fc2-44a9-8c83-fe01cf9bee53",
   "metadata": {},
   "outputs": [
    {
     "name": "stdout",
     "output_type": "stream",
     "text": [
      "<class 'pandas.core.frame.DataFrame'>\n",
      "RangeIndex: 997213 entries, 0 to 997212\n",
      "Data columns (total 14 columns):\n",
      " #   Column            Non-Null Count   Dtype  \n",
      "---  ------            --------------   -----  \n",
      " 0   serial_number     997213 non-null  int64  \n",
      " 1   list_year         997213 non-null  int64  \n",
      " 2   date_recorded     997211 non-null  object \n",
      " 3   town              997213 non-null  object \n",
      " 4   address           997162 non-null  object \n",
      " 5   assessed_value    997213 non-null  float64\n",
      " 6   sale_amount       997213 non-null  float64\n",
      " 7   sales_ratio       997213 non-null  float64\n",
      " 8   property_type     614767 non-null  object \n",
      " 9   residential_type  608904 non-null  object \n",
      " 10  non_use_code      289681 non-null  object \n",
      " 11  assessor_remarks  149864 non-null  object \n",
      " 12  opm_remarks       9934 non-null    object \n",
      " 13  location          197697 non-null  object \n",
      "dtypes: float64(3), int64(2), object(9)\n",
      "memory usage: 106.5+ MB\n"
     ]
    }
   ],
   "source": [
    "renamed_mapping = {}\n",
    "\n",
    "for c in df.columns:\n",
    "    renamed_mapping[c] = c.lower().replace(' ', '_')\n",
    "\n",
    "df = df.rename(columns=renamed_mapping)\n",
    "\n",
    "df.info()"
   ]
  },
  {
   "cell_type": "markdown",
   "id": "8298f429-932c-434b-85c7-a415295e620e",
   "metadata": {},
   "source": [
    "### Cleaning nulls"
   ]
  },
  {
   "cell_type": "code",
   "execution_count": 42,
   "id": "3ac6092b-4977-471f-b5d1-36f0377e17fd",
   "metadata": {},
   "outputs": [
    {
     "data": {
      "text/plain": [
       "serial_number            0\n",
       "list_year                0\n",
       "date_recorded            2\n",
       "town                     0\n",
       "address                 51\n",
       "assessed_value           0\n",
       "sale_amount              0\n",
       "sales_ratio              0\n",
       "property_type            0\n",
       "residential_type         0\n",
       "non_use_code             0\n",
       "assessor_remarks    847349\n",
       "opm_remarks         987279\n",
       "location            799516\n",
       "dtype: int64"
      ]
     },
     "execution_count": 42,
     "metadata": {},
     "output_type": "execute_result"
    }
   ],
   "source": [
    "df.isna().sum()"
   ]
  },
  {
   "cell_type": "code",
   "execution_count": 41,
   "id": "1faa9044-c01e-4a56-866f-1daa9cc50652",
   "metadata": {},
   "outputs": [],
   "source": [
    "df['property_type'] = df['property_type'].fillna(\"UNKOWN PROPERTY TYPE\")\n",
    "df['residential_type'] = df['residential_type'].fillna(\"UNKOWN RESIDENTIAL TYPE\")\n",
    "df['non_use_code'] = df['non_use_code'].fillna(\"UNKOWN\")"
   ]
  },
  {
   "cell_type": "markdown",
   "id": "e24cd94e-9629-4a79-8234-e15694b5ec1d",
   "metadata": {},
   "source": [
    "### Finding categories"
   ]
  },
  {
   "cell_type": "code",
   "execution_count": 30,
   "id": "5c0f55cc-054d-4f6b-b623-e6acc55a1a12",
   "metadata": {},
   "outputs": [
    {
     "data": {
      "text/plain": [
       "town\n",
       "Bridgeport       34201\n",
       "Stamford         32529\n",
       "Waterbury        28506\n",
       "Norwalk          23960\n",
       "New Haven        21346\n",
       "                 ...  \n",
       "Hartland           448\n",
       "Scotland           430\n",
       "Canaan             429\n",
       "Union              261\n",
       "***Unknown***        1\n",
       "Name: count, Length: 170, dtype: int64"
      ]
     },
     "execution_count": 30,
     "metadata": {},
     "output_type": "execute_result"
    }
   ],
   "source": [
    "df['town'].value_counts()"
   ]
  },
  {
   "cell_type": "code",
   "execution_count": 31,
   "id": "b89136d2-2b96-4d87-91d5-5c4eedf05881",
   "metadata": {},
   "outputs": [
    {
     "data": {
      "text/plain": [
       "property_type\n",
       "Single Family     401612\n",
       "Condo             105420\n",
       "Residential        60728\n",
       "Two Family         26408\n",
       "Three Family       12586\n",
       "Vacant Land         3163\n",
       "Four Family         2150\n",
       "Commercial          1981\n",
       "Apartments           486\n",
       "Industrial           228\n",
       "Public Utility         5\n",
       "Name: count, dtype: int64"
      ]
     },
     "execution_count": 31,
     "metadata": {},
     "output_type": "execute_result"
    }
   ],
   "source": [
    "df['property_type'].value_counts()"
   ]
  },
  {
   "cell_type": "code",
   "execution_count": 33,
   "id": "92a3c6da-bbb3-4209-9b8a-3a4491439f5c",
   "metadata": {},
   "outputs": [
    {
     "data": {
      "text/plain": [
       "residential_type\n",
       "Single Family    445016\n",
       "Condo            117780\n",
       "Two Family        29609\n",
       "Three Family      14081\n",
       "Four Family        2418\n",
       "Name: count, dtype: int64"
      ]
     },
     "execution_count": 33,
     "metadata": {},
     "output_type": "execute_result"
    }
   ],
   "source": [
    "df['residential_type'].value_counts()"
   ]
  },
  {
   "cell_type": "code",
   "execution_count": 43,
   "id": "bc983474-8345-4e59-8f76-4bdaf00b204e",
   "metadata": {},
   "outputs": [
    {
     "data": {
      "text/plain": [
       "non_use_code\n",
       "UNKOWN                     707532\n",
       "25 - Other                  59916\n",
       "14 - Foreclosure            52445\n",
       "07 - Change in Property     34248\n",
       "08 - Part Interest          15496\n",
       "                            ...  \n",
       "37.0                            1\n",
       "38.0                            1\n",
       "48.0                            1\n",
       "33                              1\n",
       "75                              1\n",
       "Name: count, Length: 107, dtype: int64"
      ]
     },
     "execution_count": 43,
     "metadata": {},
     "output_type": "execute_result"
    }
   ],
   "source": [
    "df['non_use_code'].value_counts()"
   ]
  },
  {
   "cell_type": "code",
   "execution_count": 40,
   "id": "5856d2e4-6270-4ba9-837f-9cd7d364adfb",
   "metadata": {},
   "outputs": [
    {
     "data": {
      "text/plain": [
       "location\n",
       "POINT (-72.36336 41.97461)    181\n",
       "POINT (-73.41854 41.13449)    145\n",
       "POINT (-73.45225 41.096)       87\n",
       "POINT (-73.06359 41.52255)     77\n",
       "POINT (-72.96095 41.54989)     73\n",
       "                             ... \n",
       "POINT (-72.0768 41.94684)       1\n",
       "POINT (-73.44004 41.47477)      1\n",
       "POINT (-73.31245 41.42478)      1\n",
       "POINT (-73.22098 41.21847)      1\n",
       "POINT (-72.07006 41.53315)      1\n",
       "Name: count, Length: 130529, dtype: int64"
      ]
     },
     "execution_count": 40,
     "metadata": {},
     "output_type": "execute_result"
    }
   ],
   "source": [
    "df['location'].value_counts()"
   ]
  },
  {
   "cell_type": "markdown",
   "id": "b540f38a-c824-4b1b-a9d1-990275c37bed",
   "metadata": {},
   "source": [
    "#### Asigning categories"
   ]
  },
  {
   "cell_type": "code",
   "execution_count": 44,
   "id": "818cf512-8175-4a61-9d23-c9f647da1669",
   "metadata": {},
   "outputs": [],
   "source": [
    "cat_columns = ['town', 'property_type', 'residential_type', 'non_use_code']\n",
    "for col in cat_columns:\n",
    "    df[col] =  df[col].astype('category')"
   ]
  },
  {
   "cell_type": "code",
   "execution_count": 53,
   "id": "fee8d62c-4c39-4e05-85fe-ed41d522203e",
   "metadata": {},
   "outputs": [
    {
     "name": "stdout",
     "output_type": "stream",
     "text": [
      "<class 'pandas.core.frame.DataFrame'>\n",
      "RangeIndex: 997213 entries, 0 to 997212\n",
      "Data columns (total 14 columns):\n",
      " #   Column            Non-Null Count   Dtype         \n",
      "---  ------            --------------   -----         \n",
      " 0   serial_number     997213 non-null  int64         \n",
      " 1   list_year         997213 non-null  int64         \n",
      " 2   date_recorded     997211 non-null  datetime64[ns]\n",
      " 3   town              997213 non-null  category      \n",
      " 4   address           997162 non-null  object        \n",
      " 5   assessed_value    997213 non-null  float64       \n",
      " 6   sale_amount       997213 non-null  float64       \n",
      " 7   sales_ratio       997213 non-null  float64       \n",
      " 8   property_type     997213 non-null  category      \n",
      " 9   residential_type  997213 non-null  category      \n",
      " 10  non_use_code      997213 non-null  category      \n",
      " 11  assessor_remarks  149864 non-null  object        \n",
      " 12  opm_remarks       9934 non-null    object        \n",
      " 13  location          197697 non-null  object        \n",
      "dtypes: category(4), datetime64[ns](1), float64(3), int64(2), object(4)\n",
      "memory usage: 80.8+ MB\n"
     ]
    }
   ],
   "source": [
    "df.info()"
   ]
  },
  {
   "cell_type": "markdown",
   "id": "e961a61f-352a-4cb3-a08c-bf9a6c0faa9f",
   "metadata": {},
   "source": [
    "### Transform date"
   ]
  },
  {
   "cell_type": "code",
   "execution_count": 52,
   "id": "69f46148-3a3e-455b-b5dc-5c12d61018d5",
   "metadata": {},
   "outputs": [],
   "source": [
    "df['date_recorded']= pd.to_datetime(df['date_recorded'])"
   ]
  },
  {
   "cell_type": "markdown",
   "id": "34991fbe-e59e-477e-847f-fa71c61c2f47",
   "metadata": {},
   "source": [
    "## EDA"
   ]
  },
  {
   "cell_type": "code",
   "execution_count": 67,
   "id": "7d276a7e-4b93-43a9-b845-da94f1275194",
   "metadata": {},
   "outputs": [
    {
     "data": {
      "text/html": [
       "<div>\n",
       "<style scoped>\n",
       "    .dataframe tbody tr th:only-of-type {\n",
       "        vertical-align: middle;\n",
       "    }\n",
       "\n",
       "    .dataframe tbody tr th {\n",
       "        vertical-align: top;\n",
       "    }\n",
       "\n",
       "    .dataframe thead th {\n",
       "        text-align: right;\n",
       "    }\n",
       "</style>\n",
       "<table border=\"1\" class=\"dataframe\">\n",
       "  <thead>\n",
       "    <tr style=\"text-align: right;\">\n",
       "      <th></th>\n",
       "      <th>serial_number</th>\n",
       "      <th>list_year</th>\n",
       "      <th>date_recorded</th>\n",
       "      <th>assessed_value</th>\n",
       "      <th>sale_amount</th>\n",
       "      <th>sales_ratio</th>\n",
       "    </tr>\n",
       "  </thead>\n",
       "  <tbody>\n",
       "    <tr>\n",
       "      <th>count</th>\n",
       "      <td>9.887570e+05</td>\n",
       "      <td>988757.000000</td>\n",
       "      <td>988757</td>\n",
       "      <td>9.887570e+05</td>\n",
       "      <td>9.887570e+05</td>\n",
       "      <td>9.887570e+05</td>\n",
       "    </tr>\n",
       "    <tr>\n",
       "      <th>mean</th>\n",
       "      <td>4.332094e+05</td>\n",
       "      <td>2010.227472</td>\n",
       "      <td>2011-07-03 05:57:21.815936768</td>\n",
       "      <td>2.811608e+05</td>\n",
       "      <td>3.921878e+05</td>\n",
       "      <td>1.053571e+01</td>\n",
       "    </tr>\n",
       "    <tr>\n",
       "      <th>min</th>\n",
       "      <td>8.100000e+01</td>\n",
       "      <td>2001.000000</td>\n",
       "      <td>1999-04-05 00:00:00</td>\n",
       "      <td>1.000000e+00</td>\n",
       "      <td>1.000000e+00</td>\n",
       "      <td>0.000000e+00</td>\n",
       "    </tr>\n",
       "    <tr>\n",
       "      <th>25%</th>\n",
       "      <td>3.045600e+04</td>\n",
       "      <td>2004.000000</td>\n",
       "      <td>2005-08-01 00:00:00</td>\n",
       "      <td>8.869000e+04</td>\n",
       "      <td>1.400000e+05</td>\n",
       "      <td>4.906111e-01</td>\n",
       "    </tr>\n",
       "    <tr>\n",
       "      <th>50%</th>\n",
       "      <td>7.038900e+04</td>\n",
       "      <td>2010.000000</td>\n",
       "      <td>2011-03-01 00:00:00</td>\n",
       "      <td>1.392300e+05</td>\n",
       "      <td>2.250000e+05</td>\n",
       "      <td>6.268326e-01</td>\n",
       "    </tr>\n",
       "    <tr>\n",
       "      <th>75%</th>\n",
       "      <td>1.600120e+05</td>\n",
       "      <td>2016.000000</td>\n",
       "      <td>2017-04-19 00:00:00</td>\n",
       "      <td>2.266000e+05</td>\n",
       "      <td>3.650000e+05</td>\n",
       "      <td>7.875676e-01</td>\n",
       "    </tr>\n",
       "    <tr>\n",
       "      <th>max</th>\n",
       "      <td>2.000500e+09</td>\n",
       "      <td>2020.000000</td>\n",
       "      <td>2021-09-30 00:00:00</td>\n",
       "      <td>8.815100e+08</td>\n",
       "      <td>5.000000e+09</td>\n",
       "      <td>1.226420e+06</td>\n",
       "    </tr>\n",
       "    <tr>\n",
       "      <th>std</th>\n",
       "      <td>6.571438e+06</td>\n",
       "      <td>6.235636</td>\n",
       "      <td>NaN</td>\n",
       "      <td>1.677218e+06</td>\n",
       "      <td>5.368986e+06</td>\n",
       "      <td>1.898257e+03</td>\n",
       "    </tr>\n",
       "  </tbody>\n",
       "</table>\n",
       "</div>"
      ],
      "text/plain": [
       "       serial_number      list_year                  date_recorded  \\\n",
       "count   9.887570e+05  988757.000000                         988757   \n",
       "mean    4.332094e+05    2010.227472  2011-07-03 05:57:21.815936768   \n",
       "min     8.100000e+01    2001.000000            1999-04-05 00:00:00   \n",
       "25%     3.045600e+04    2004.000000            2005-08-01 00:00:00   \n",
       "50%     7.038900e+04    2010.000000            2011-03-01 00:00:00   \n",
       "75%     1.600120e+05    2016.000000            2017-04-19 00:00:00   \n",
       "max     2.000500e+09    2020.000000            2021-09-30 00:00:00   \n",
       "std     6.571438e+06       6.235636                            NaN   \n",
       "\n",
       "       assessed_value   sale_amount   sales_ratio  \n",
       "count    9.887570e+05  9.887570e+05  9.887570e+05  \n",
       "mean     2.811608e+05  3.921878e+05  1.053571e+01  \n",
       "min      1.000000e+00  1.000000e+00  0.000000e+00  \n",
       "25%      8.869000e+04  1.400000e+05  4.906111e-01  \n",
       "50%      1.392300e+05  2.250000e+05  6.268326e-01  \n",
       "75%      2.266000e+05  3.650000e+05  7.875676e-01  \n",
       "max      8.815100e+08  5.000000e+09  1.226420e+06  \n",
       "std      1.677218e+06  5.368986e+06  1.898257e+03  "
      ]
     },
     "execution_count": 67,
     "metadata": {},
     "output_type": "execute_result"
    }
   ],
   "source": [
    "df.describe()"
   ]
  },
  {
   "cell_type": "markdown",
   "id": "51481d69-6a83-4562-b29c-27c7782ead0b",
   "metadata": {},
   "source": [
    "### Found sales with Zeros"
   ]
  },
  {
   "cell_type": "code",
   "execution_count": 58,
   "id": "40706d78-169e-4bb3-bf7a-c3abfdeb4a20",
   "metadata": {},
   "outputs": [
    {
     "data": {
      "text/plain": [
       "1810"
      ]
     },
     "execution_count": 58,
     "metadata": {},
     "output_type": "execute_result"
    }
   ],
   "source": [
    "len(df[df['sale_amount'] == 0])"
   ]
  },
  {
   "cell_type": "code",
   "execution_count": 59,
   "id": "f9b3f576-8cbb-4307-a77b-89a637509265",
   "metadata": {},
   "outputs": [
    {
     "data": {
      "text/plain": [
       "6933"
      ]
     },
     "execution_count": 59,
     "metadata": {},
     "output_type": "execute_result"
    }
   ],
   "source": [
    "len(df[df['assessed_value'] == 0])"
   ]
  },
  {
   "cell_type": "code",
   "execution_count": 60,
   "id": "5fc78a99-bc71-4af7-af16-6234822742d0",
   "metadata": {},
   "outputs": [
    {
     "data": {
      "text/plain": [
       "8459"
      ]
     },
     "execution_count": 60,
     "metadata": {},
     "output_type": "execute_result"
    }
   ],
   "source": [
    "len(df[df['sales_ratio'] == 0])"
   ]
  },
  {
   "cell_type": "code",
   "execution_count": 64,
   "id": "79093b36-5ff6-45af-adc0-ae71e4fb3b25",
   "metadata": {},
   "outputs": [],
   "source": [
    "df_z = df[df['assessed_value'] == 0]\n",
    "\n",
    "df = df.drop(df_z.index)"
   ]
  },
  {
   "cell_type": "code",
   "execution_count": 65,
   "id": "30e30829-d048-4dc1-8f73-c9f843826d0d",
   "metadata": {},
   "outputs": [],
   "source": [
    "df_z = df[df['sale_amount'] == 0]\n",
    "\n",
    "df = df.drop(df_z.index)"
   ]
  },
  {
   "cell_type": "code",
   "execution_count": 66,
   "id": "5220849e-ee4f-4bc5-9959-964e11547ca4",
   "metadata": {},
   "outputs": [
    {
     "data": {
      "text/plain": [
       "(988757, 14)"
      ]
     },
     "execution_count": 66,
     "metadata": {},
     "output_type": "execute_result"
    }
   ],
   "source": [
    "df.shape"
   ]
  },
  {
   "cell_type": "code",
   "execution_count": 70,
   "id": "c47d435e-3658-42da-bd4b-90523e34e6b8",
   "metadata": {},
   "outputs": [
    {
     "data": {
      "text/plain": [
       "<Axes: >"
      ]
     },
     "execution_count": 70,
     "metadata": {},
     "output_type": "execute_result"
    },
    {
     "data": {
      "image/png": "[encoded data removed]",
      "text/plain": [
       "<Figure size 640x480 with 1 Axes>"
      ]
     },
     "metadata": {},
     "output_type": "display_data"
    }
   ],
   "source": [
    "df['assessed_value'].hist(bins=20)\n"
   ]
  },
  {
   "cell_type": "code",
   "execution_count": 72,
   "id": "a6098b80-5e5a-4024-9678-3550f493b141",
   "metadata": {},
   "outputs": [
    {
     "data": {
      "text/plain": [
       "<Axes: xlabel='assessed_value'>"
      ]
     },
     "execution_count": 72,
     "metadata": {},
     "output_type": "execute_result"
    },
    {
     "data": {
      "image/png": "[encoded data removed]",
      "text/plain": [
       "<Figure size 640x480 with 1 Axes>"
      ]
     },
     "metadata": {},
     "output_type": "display_data"
    }
   ],
   "source": [
    "sns.boxplot(x=df['assessed_value'])"
   ]
  },
  {
   "cell_type": "code",
   "execution_count": 73,
   "id": "f273f424-e7b4-4d94-b846-42649d4b960b",
   "metadata": {},
   "outputs": [
    {
     "data": {
      "text/plain": [
       "<Axes: xlabel='sale_amount'>"
      ]
     },
     "execution_count": 73,
     "metadata": {},
     "output_type": "execute_result"
    },
    {
     "data": {
      "image/png": "[encoded data removed]",
      "text/plain": [
       "<Figure size 640x480 with 1 Axes>"
      ]
     },
     "metadata": {},
     "output_type": "display_data"
    }
   ],
   "source": [
    "sns.boxplot(x=df['sale_amount'])"
   ]
  },
  {
   "cell_type": "code",
   "execution_count": 81,
   "id": "8fb5fcee-e80b-41ad-a762-152ec02044e0",
   "metadata": {},
   "outputs": [
    {
     "data": {
      "text/plain": [
       "(2672, 14)"
      ]
     },
     "execution_count": 81,
     "metadata": {},
     "output_type": "execute_result"
    }
   ],
   "source": [
    "df_z = df[df['assessed_value'] <= 2_000.0]\n",
    "\n",
    "df_z.shape"
   ]
  },
  {
   "cell_type": "code",
   "execution_count": null,
   "id": "c51b77df-f955-44bf-be5d-178ace3d09f0",
   "metadata": {},
   "outputs": [],
   "source": []
  }
 ],
 "metadata": {
  "kernelspec": {
   "display_name": "hacktoberfest-2023-project-kKWlZqzn-py3",
   "language": "python",
   "name": "hacktoberfest-2023-project-kkwlzqzn-py3"
  },
  "language_info": {
   "codemirror_mode": {
    "name": "ipython",
    "version": 3
   },
   "file_extension": ".py",
   "mimetype": "text/x-python",
   "name": "python",
   "nbconvert_exporter": "python",
   "pygments_lexer": "ipython3",
   "version": "3.10.12"
  }
 },
 "nbformat": 4,
 "nbformat_minor": 5
}
