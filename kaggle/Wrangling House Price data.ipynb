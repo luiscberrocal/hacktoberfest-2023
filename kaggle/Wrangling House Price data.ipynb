{
 "cells": [
  {
   "cell_type": "markdown",
   "id": "1e876d8d-05eb-4031-bd14-6d8d1b104556",
   "metadata": {},
   "source": [
    "# Wrangling House Price data"
   ]
  },
  {
   "cell_type": "code",
   "execution_count": 21,
   "id": "0b5a02d6-c471-4251-9906-18b83100e27f",
   "metadata": {},
   "outputs": [],
   "source": [
    "import sys\n",
    "import os\n",
    "import pandas as pd\n",
    "import seaborn as sns\n",
    "from pathlib import Path\n",
    "\n",
    "module_path = os.path.abspath(os.path.join(os.pardir, os.pardir))\n",
    "\n",
    "module_path = Path.cwd().parent\n",
    "# print(module_path)\n",
    "if module_path not in sys.path:\n",
    "    sys.path.append(module_path)\n",
    "# print(sys.path)\n",
    "import settings\n",
    "# from kaggle import settings"
   ]
  },
  {
   "cell_type": "markdown",
   "id": "cb88c717-b187-461f-bf23-1108a5480eac",
   "metadata": {},
   "source": [
    "## Configuration"
   ]
  },
  {
   "cell_type": "code",
   "execution_count": 24,
   "id": "f14eb5e4-9e2f-474f-9c96-612a65abe887",
   "metadata": {},
   "outputs": [],
   "source": [
    "csv_file = settings.APP_FOLDER / 'data' / 'Real_Estate_Sales_2001-2020_GL.csv'"
   ]
  },
  {
   "cell_type": "code",
   "execution_count": 25,
   "id": "241ff99c-053d-4bd2-a0cc-8f213658a657",
   "metadata": {},
   "outputs": [
    {
     "name": "stderr",
     "output_type": "stream",
     "text": [
      "/tmp/ipykernel_2583586/1049389636.py:1: DtypeWarning: Columns (8,9,10,11,12) have mixed types. Specify dtype option on import or set low_memory=False.\n",
      "  df = pd.read_csv(csv_file)\n"
     ]
    },
    {
     "data": {
      "text/plain": [
       "(997213, 14)"
      ]
     },
     "execution_count": 25,
     "metadata": {},
     "output_type": "execute_result"
    }
   ],
   "source": [
    "df = pd.read_csv(csv_file)\n",
    "\n",
    "df.shape"
   ]
  },
  {
   "cell_type": "code",
   "execution_count": null,
   "id": "bc485a74-45a6-42af-b8ea-b90806bb756d",
   "metadata": {},
   "outputs": [],
   "source": []
  }
 ],
 "metadata": {
  "kernelspec": {
   "display_name": "hacktoberfest-2023-project-kKWlZqzn-py3",
   "language": "python",
   "name": "hacktoberfest-2023-project-kkwlzqzn-py3"
  },
  "language_info": {
   "codemirror_mode": {
    "name": "ipython",
    "version": 3
   },
   "file_extension": ".py",
   "mimetype": "text/x-python",
   "name": "python",
   "nbconvert_exporter": "python",
   "pygments_lexer": "ipython3",
   "version": "3.10.12"
  }
 },
 "nbformat": 4,
 "nbformat_minor": 5
}
