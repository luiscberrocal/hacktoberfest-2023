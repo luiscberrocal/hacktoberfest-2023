{
 "cells": [
  {
   "cell_type": "markdown",
   "id": "1e876d8d-05eb-4031-bd14-6d8d1b104556",
   "metadata": {},
   "source": [
    "# Wrangling House Price data"
   ]
  },
  {
   "cell_type": "code",
   "execution_count": 21,
   "id": "0b5a02d6-c471-4251-9906-18b83100e27f",
   "metadata": {},
   "outputs": [],
   "source": [
    "import sys\n",
    "import os\n",
    "import pandas as pd\n",
    "import seaborn as sns\n",
    "from pathlib import Path\n",
    "\n",
    "module_path = os.path.abspath(os.path.join(os.pardir, os.pardir))\n",
    "\n",
    "module_path = Path.cwd().parent\n",
    "# print(module_path)\n",
    "if module_path not in sys.path:\n",
    "    sys.path.append(module_path)\n",
    "# print(sys.path)\n",
    "import settings\n",
    "# from kaggle import settings"
   ]
  },
  {
   "cell_type": "markdown",
   "id": "cb88c717-b187-461f-bf23-1108a5480eac",
   "metadata": {},
   "source": [
    "## Configuration"
   ]
  },
  {
   "cell_type": "code",
   "execution_count": 24,
   "id": "f14eb5e4-9e2f-474f-9c96-612a65abe887",
   "metadata": {},
   "outputs": [],
   "source": [
    "csv_file = settings.APP_FOLDER / 'data' / 'Real_Estate_Sales_2001-2020_GL.csv'"
   ]
  },
  {
   "cell_type": "code",
   "execution_count": 25,
   "id": "241ff99c-053d-4bd2-a0cc-8f213658a657",
   "metadata": {},
   "outputs": [
    {
     "name": "stderr",
     "output_type": "stream",
     "text": [
      "/tmp/ipykernel_2583586/1049389636.py:1: DtypeWarning: Columns (8,9,10,11,12) have mixed types. Specify dtype option on import or set low_memory=False.\n",
      "  df = pd.read_csv(csv_file)\n"
     ]
    },
    {
     "data": {
      "text/plain": [
       "(997213, 14)"
      ]
     },
     "execution_count": 25,
     "metadata": {},
     "output_type": "execute_result"
    }
   ],
   "source": [
    "df = pd.read_csv(csv_file)\n",
    "\n",
    "df.shape"
   ]
  },
  {
   "cell_type": "markdown",
   "id": "48d9b069-a55e-4927-9806-f6ff531e2395",
   "metadata": {},
   "source": [
    "## EDA"
   ]
  },
  {
   "cell_type": "code",
   "execution_count": 26,
   "id": "e47ecd1f-973e-4803-a660-6e6223ce5f9e",
   "metadata": {},
   "outputs": [
    {
     "name": "stdout",
     "output_type": "stream",
     "text": [
      "<class 'pandas.core.frame.DataFrame'>\n",
      "RangeIndex: 997213 entries, 0 to 997212\n",
      "Data columns (total 14 columns):\n",
      " #   Column            Non-Null Count   Dtype  \n",
      "---  ------            --------------   -----  \n",
      " 0   Serial Number     997213 non-null  int64  \n",
      " 1   List Year         997213 non-null  int64  \n",
      " 2   Date Recorded     997211 non-null  object \n",
      " 3   Town              997213 non-null  object \n",
      " 4   Address           997162 non-null  object \n",
      " 5   Assessed Value    997213 non-null  float64\n",
      " 6   Sale Amount       997213 non-null  float64\n",
      " 7   Sales Ratio       997213 non-null  float64\n",
      " 8   Property Type     614767 non-null  object \n",
      " 9   Residential Type  608904 non-null  object \n",
      " 10  Non Use Code      289681 non-null  object \n",
      " 11  Assessor Remarks  149864 non-null  object \n",
      " 12  OPM remarks       9934 non-null    object \n",
      " 13  Location          197697 non-null  object \n",
      "dtypes: float64(3), int64(2), object(9)\n",
      "memory usage: 106.5+ MB\n"
     ]
    }
   ],
   "source": [
    "df.info()"
   ]
  },
  {
   "cell_type": "markdown",
   "id": "61392925-b76a-4e23-b240-c5c3ed76bd6a",
   "metadata": {},
   "source": [
    "### Renaming columns"
   ]
  },
  {
   "cell_type": "code",
   "execution_count": 29,
   "id": "f01793df-7fc2-44a9-8c83-fe01cf9bee53",
   "metadata": {},
   "outputs": [
    {
     "name": "stdout",
     "output_type": "stream",
     "text": [
      "<class 'pandas.core.frame.DataFrame'>\n",
      "RangeIndex: 997213 entries, 0 to 997212\n",
      "Data columns (total 14 columns):\n",
      " #   Column            Non-Null Count   Dtype  \n",
      "---  ------            --------------   -----  \n",
      " 0   serial_number     997213 non-null  int64  \n",
      " 1   list_year         997213 non-null  int64  \n",
      " 2   date_recorded     997211 non-null  object \n",
      " 3   town              997213 non-null  object \n",
      " 4   address           997162 non-null  object \n",
      " 5   assessed_value    997213 non-null  float64\n",
      " 6   sale_amount       997213 non-null  float64\n",
      " 7   sales_ratio       997213 non-null  float64\n",
      " 8   property_type     614767 non-null  object \n",
      " 9   residential_type  608904 non-null  object \n",
      " 10  non_use_code      289681 non-null  object \n",
      " 11  assessor_remarks  149864 non-null  object \n",
      " 12  opm_remarks       9934 non-null    object \n",
      " 13  location          197697 non-null  object \n",
      "dtypes: float64(3), int64(2), object(9)\n",
      "memory usage: 106.5+ MB\n"
     ]
    }
   ],
   "source": [
    "renamed_mapping = {}\n",
    "\n",
    "for c in df.columns:\n",
    "    renamed_mapping[c] = c.lower().replace(' ', '_')\n",
    "\n",
    "df = df.rename(columns=renamed_mapping)\n",
    "\n",
    "df.info()"
   ]
  },
  {
   "cell_type": "markdown",
   "id": "e24cd94e-9629-4a79-8234-e15694b5ec1d",
   "metadata": {},
   "source": [
    "### Finding categories"
   ]
  },
  {
   "cell_type": "code",
   "execution_count": 30,
   "id": "5c0f55cc-054d-4f6b-b623-e6acc55a1a12",
   "metadata": {},
   "outputs": [
    {
     "data": {
      "text/plain": [
       "town\n",
       "Bridgeport       34201\n",
       "Stamford         32529\n",
       "Waterbury        28506\n",
       "Norwalk          23960\n",
       "New Haven        21346\n",
       "                 ...  \n",
       "Hartland           448\n",
       "Scotland           430\n",
       "Canaan             429\n",
       "Union              261\n",
       "***Unknown***        1\n",
       "Name: count, Length: 170, dtype: int64"
      ]
     },
     "execution_count": 30,
     "metadata": {},
     "output_type": "execute_result"
    }
   ],
   "source": [
    "df['town'].value_counts()"
   ]
  },
  {
   "cell_type": "code",
   "execution_count": 31,
   "id": "b89136d2-2b96-4d87-91d5-5c4eedf05881",
   "metadata": {},
   "outputs": [
    {
     "data": {
      "text/plain": [
       "property_type\n",
       "Single Family     401612\n",
       "Condo             105420\n",
       "Residential        60728\n",
       "Two Family         26408\n",
       "Three Family       12586\n",
       "Vacant Land         3163\n",
       "Four Family         2150\n",
       "Commercial          1981\n",
       "Apartments           486\n",
       "Industrial           228\n",
       "Public Utility         5\n",
       "Name: count, dtype: int64"
      ]
     },
     "execution_count": 31,
     "metadata": {},
     "output_type": "execute_result"
    }
   ],
   "source": [
    "df['property_type'].value_counts()"
   ]
  },
  {
   "cell_type": "code",
   "execution_count": null,
   "id": "92a3c6da-bbb3-4209-9b8a-3a4491439f5c",
   "metadata": {},
   "outputs": [],
   "source": []
  }
 ],
 "metadata": {
  "kernelspec": {
   "display_name": "hacktoberfest-2023-project-kKWlZqzn-py3",
   "language": "python",
   "name": "hacktoberfest-2023-project-kkwlzqzn-py3"
  },
  "language_info": {
   "codemirror_mode": {
    "name": "ipython",
    "version": 3
   },
   "file_extension": ".py",
   "mimetype": "text/x-python",
   "name": "python",
   "nbconvert_exporter": "python",
   "pygments_lexer": "ipython3",
   "version": "3.10.12"
  }
 },
 "nbformat": 4,
 "nbformat_minor": 5
}
