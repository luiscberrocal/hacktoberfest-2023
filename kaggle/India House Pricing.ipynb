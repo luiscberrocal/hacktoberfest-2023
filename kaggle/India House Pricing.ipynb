{
 "cells": [
  {
   "cell_type": "markdown",
   "id": "1e876d8d-05eb-4031-bd14-6d8d1b104556",
   "metadata": {},
   "source": [
    "# India House Price data"
   ]
  },
  {
   "cell_type": "code",
   "execution_count": 1,
   "id": "29f4cd96-6417-4b6b-9167-89e7cd4035e0",
   "metadata": {},
   "outputs": [],
   "source": [
    "# ! pip install matplotlib==3.7.3"
   ]
  },
  {
   "cell_type": "code",
   "execution_count": 72,
   "id": "0b5a02d6-c471-4251-9906-18b83100e27f",
   "metadata": {
    "ExecuteTime": {
     "end_time": "2023-09-28T12:20:48.067334159Z",
     "start_time": "2023-09-28T12:20:48.054224384Z"
    }
   },
   "outputs": [],
   "source": [
    "import sys\n",
    "import os\n",
    "import pandas as pd\n",
    "import seaborn as sns\n",
    "from pathlib import Path\n",
    "import numpy as np\n",
    "import matplotlib.pyplot as plt\n",
    "\n",
    "module_path = os.path.abspath(os.path.join(os.pardir, os.pardir))\n",
    "\n",
    "module_path = Path.cwd().parent\n",
    "# print(module_path)\n",
    "if module_path not in sys.path:\n",
    "    sys.path.append(module_path)\n",
    "# print(sys.path)\n",
    "import settings\n",
    "# from kaggle import settingsb\n",
    "%matplotlib inline"
   ]
  },
  {
   "cell_type": "code",
   "execution_count": 73,
   "id": "820c8898-656a-444c-9027-faf3db0ce17d",
   "metadata": {},
   "outputs": [
    {
     "data": {
      "text/plain": [
       "'3.7.3'"
      ]
     },
     "execution_count": 73,
     "metadata": {},
     "output_type": "execute_result"
    }
   ],
   "source": [
    "import matplotlib\n",
    "matplotlib.__version__"
   ]
  },
  {
   "cell_type": "code",
   "execution_count": 79,
   "id": "b19b5720-9490-49e2-b291-0c1de5dbd5ae",
   "metadata": {},
   "outputs": [
    {
     "name": "stdout",
     "output_type": "stream",
     "text": [
      "matplotlib                               3.7.3        Python plotting package\n",
      "matplotlib-inline                        0.1.6        Inline Matplotlib bac...\n"
     ]
    }
   ],
   "source": [
    "! poetry show | grep matplotlib"
   ]
  },
  {
   "cell_type": "code",
   "execution_count": 80,
   "id": "c1a59973-80fb-40b4-ad77-ba8f4563f5b2",
   "metadata": {},
   "outputs": [
    {
     "name": "stdout",
     "output_type": "stream",
     "text": [
      "matplotlib==3.7.1\n",
      "matplotlib-inline @ file:///home/conda/feedstock_root/build_artifacts/matplotlib-inline_1660814786464/work\n"
     ]
    }
   ],
   "source": [
    "! pip freeze | grep matplotlib"
   ]
  },
  {
   "cell_type": "markdown",
   "id": "2d8412821b411a16",
   "metadata": {
    "collapsed": false,
    "jupyter": {
     "outputs_hidden": false
    }
   },
   "source": [
    "## Configuration"
   ]
  },
  {
   "cell_type": "code",
   "execution_count": 81,
   "id": "73a5006d40637771",
   "metadata": {
    "collapsed": false,
    "jupyter": {
     "outputs_hidden": false
    }
   },
   "outputs": [],
   "source": [
    "csv_file = settings.DATA_FOLDER /'house_prices_clean.csv'"
   ]
  },
  {
   "cell_type": "code",
   "execution_count": 82,
   "id": "f14eb5e4-9e2f-474f-9c96-612a65abe887",
   "metadata": {
    "ExecuteTime": {
     "end_time": "2023-09-28T12:20:48.082639837Z",
     "start_time": "2023-09-28T12:20:48.071575582Z"
    }
   },
   "outputs": [
    {
     "data": {
      "text/plain": [
       "(29451, 15)"
      ]
     },
     "execution_count": 82,
     "metadata": {},
     "output_type": "execute_result"
    }
   ],
   "source": [
    "df = pd.read_csv(csv_file)\n",
    "\n",
    "df.shape"
   ]
  },
  {
   "cell_type": "code",
   "execution_count": 83,
   "id": "241ff99c-053d-4bd2-a0cc-8f213658a657",
   "metadata": {
    "ExecuteTime": {
     "end_time": "2023-09-28T12:20:48.204346575Z",
     "start_time": "2023-09-28T12:20:48.083790468Z"
    }
   },
   "outputs": [
    {
     "data": {
      "text/html": [
       "<div>\n",
       "<style scoped>\n",
       "    .dataframe tbody tr th:only-of-type {\n",
       "        vertical-align: middle;\n",
       "    }\n",
       "\n",
       "    .dataframe tbody tr th {\n",
       "        vertical-align: top;\n",
       "    }\n",
       "\n",
       "    .dataframe thead th {\n",
       "        text-align: right;\n",
       "    }\n",
       "</style>\n",
       "<table border=\"1\" class=\"dataframe\">\n",
       "  <thead>\n",
       "    <tr style=\"text-align: right;\">\n",
       "      <th></th>\n",
       "      <th>under_construction</th>\n",
       "      <th>rera</th>\n",
       "      <th>bhk_no</th>\n",
       "      <th>square_ft</th>\n",
       "      <th>ready_to_move</th>\n",
       "      <th>resale</th>\n",
       "      <th>address</th>\n",
       "      <th>longitude</th>\n",
       "      <th>latitude</th>\n",
       "      <th>targetprice_in_lacs</th>\n",
       "      <th>posted_by_Builder</th>\n",
       "      <th>posted_by_Dealer</th>\n",
       "      <th>posted_by_Owner</th>\n",
       "      <th>bhk_or_rk_BHK</th>\n",
       "      <th>bhk_or_rk_RK</th>\n",
       "    </tr>\n",
       "  </thead>\n",
       "  <tbody>\n",
       "    <tr>\n",
       "      <th>12739</th>\n",
       "      <td>0</td>\n",
       "      <td>0</td>\n",
       "      <td>3</td>\n",
       "      <td>2,199.95</td>\n",
       "      <td>1</td>\n",
       "      <td>1</td>\n",
       "      <td>Thevara,Kochi</td>\n",
       "      <td>9.94</td>\n",
       "      <td>76.30</td>\n",
       "      <td>180.00</td>\n",
       "      <td>0</td>\n",
       "      <td>1</td>\n",
       "      <td>0</td>\n",
       "      <td>1</td>\n",
       "      <td>0</td>\n",
       "    </tr>\n",
       "    <tr>\n",
       "      <th>24195</th>\n",
       "      <td>0</td>\n",
       "      <td>0</td>\n",
       "      <td>3</td>\n",
       "      <td>1,230.01</td>\n",
       "      <td>1</td>\n",
       "      <td>1</td>\n",
       "      <td>Katraj Kondhwa Road,Pune</td>\n",
       "      <td>18.43</td>\n",
       "      <td>73.85</td>\n",
       "      <td>90.00</td>\n",
       "      <td>0</td>\n",
       "      <td>1</td>\n",
       "      <td>0</td>\n",
       "      <td>1</td>\n",
       "      <td>0</td>\n",
       "    </tr>\n",
       "    <tr>\n",
       "      <th>24324</th>\n",
       "      <td>1</td>\n",
       "      <td>1</td>\n",
       "      <td>2</td>\n",
       "      <td>700.00</td>\n",
       "      <td>0</td>\n",
       "      <td>0</td>\n",
       "      <td>Jaitala,Maharashtra</td>\n",
       "      <td>20.13</td>\n",
       "      <td>76.53</td>\n",
       "      <td>24.50</td>\n",
       "      <td>1</td>\n",
       "      <td>0</td>\n",
       "      <td>0</td>\n",
       "      <td>1</td>\n",
       "      <td>0</td>\n",
       "    </tr>\n",
       "    <tr>\n",
       "      <th>29297</th>\n",
       "      <td>0</td>\n",
       "      <td>0</td>\n",
       "      <td>1</td>\n",
       "      <td>410.02</td>\n",
       "      <td>1</td>\n",
       "      <td>1</td>\n",
       "      <td>Behind MIG Police Station,Indore</td>\n",
       "      <td>28.76</td>\n",
       "      <td>77.50</td>\n",
       "      <td>18.00</td>\n",
       "      <td>0</td>\n",
       "      <td>0</td>\n",
       "      <td>1</td>\n",
       "      <td>1</td>\n",
       "      <td>0</td>\n",
       "    </tr>\n",
       "    <tr>\n",
       "      <th>7542</th>\n",
       "      <td>0</td>\n",
       "      <td>0</td>\n",
       "      <td>2</td>\n",
       "      <td>756.19</td>\n",
       "      <td>1</td>\n",
       "      <td>1</td>\n",
       "      <td>Agarpara,Kolkata</td>\n",
       "      <td>22.68</td>\n",
       "      <td>88.37</td>\n",
       "      <td>16.50</td>\n",
       "      <td>0</td>\n",
       "      <td>0</td>\n",
       "      <td>1</td>\n",
       "      <td>1</td>\n",
       "      <td>0</td>\n",
       "    </tr>\n",
       "  </tbody>\n",
       "</table>\n",
       "</div>"
      ],
      "text/plain": [
       "       under_construction  rera  bhk_no  square_ft  ready_to_move  resale  \\\n",
       "12739                   0     0       3   2,199.95              1       1   \n",
       "24195                   0     0       3   1,230.01              1       1   \n",
       "24324                   1     1       2     700.00              0       0   \n",
       "29297                   0     0       1     410.02              1       1   \n",
       "7542                    0     0       2     756.19              1       1   \n",
       "\n",
       "                                address  longitude  latitude  \\\n",
       "12739                     Thevara,Kochi       9.94     76.30   \n",
       "24195          Katraj Kondhwa Road,Pune      18.43     73.85   \n",
       "24324               Jaitala,Maharashtra      20.13     76.53   \n",
       "29297  Behind MIG Police Station,Indore      28.76     77.50   \n",
       "7542                   Agarpara,Kolkata      22.68     88.37   \n",
       "\n",
       "       targetprice_in_lacs  posted_by_Builder  posted_by_Dealer  \\\n",
       "12739               180.00                  0                 1   \n",
       "24195                90.00                  0                 1   \n",
       "24324                24.50                  1                 0   \n",
       "29297                18.00                  0                 0   \n",
       "7542                 16.50                  0                 0   \n",
       "\n",
       "       posted_by_Owner  bhk_or_rk_BHK  bhk_or_rk_RK  \n",
       "12739                0              1             0  \n",
       "24195                0              1             0  \n",
       "24324                0              1             0  \n",
       "29297                1              1             0  \n",
       "7542                 1              1             0  "
      ]
     },
     "execution_count": 83,
     "metadata": {},
     "output_type": "execute_result"
    }
   ],
   "source": [
    "df.sample(5)"
   ]
  },
  {
   "cell_type": "markdown",
   "id": "dc7eed3824e96f99",
   "metadata": {
    "collapsed": false,
    "jupyter": {
     "outputs_hidden": false
    }
   },
   "source": [
    "## EDA"
   ]
  },
  {
   "cell_type": "code",
   "execution_count": 84,
   "id": "722614d8f4b2e0c6",
   "metadata": {
    "collapsed": false,
    "jupyter": {
     "outputs_hidden": false
    }
   },
   "outputs": [
    {
     "data": {
      "text/plain": [
       "under_construction     0\n",
       "rera                   0\n",
       "bhk_no                 0\n",
       "square_ft              0\n",
       "ready_to_move          0\n",
       "resale                 0\n",
       "address                0\n",
       "longitude              0\n",
       "latitude               0\n",
       "targetprice_in_lacs    0\n",
       "posted_by_Builder      0\n",
       "posted_by_Dealer       0\n",
       "posted_by_Owner        0\n",
       "bhk_or_rk_BHK          0\n",
       "bhk_or_rk_RK           0\n",
       "dtype: int64"
      ]
     },
     "execution_count": 84,
     "metadata": {},
     "output_type": "execute_result"
    }
   ],
   "source": [
    "df.isna().sum()"
   ]
  },
  {
   "cell_type": "code",
   "execution_count": 85,
   "id": "368e2d28-0ce6-4019-9a0e-8a476ffcba1a",
   "metadata": {
    "ExecuteTime": {
     "end_time": "2023-09-28T12:20:48.812574792Z",
     "start_time": "2023-09-28T12:20:48.810919587Z"
    }
   },
   "outputs": [
    {
     "name": "stdout",
     "output_type": "stream",
     "text": [
      "<class 'pandas.core.frame.DataFrame'>\n",
      "RangeIndex: 29451 entries, 0 to 29450\n",
      "Data columns (total 15 columns):\n",
      " #   Column               Non-Null Count  Dtype  \n",
      "---  ------               --------------  -----  \n",
      " 0   under_construction   29451 non-null  int64  \n",
      " 1   rera                 29451 non-null  int64  \n",
      " 2   bhk_no               29451 non-null  int64  \n",
      " 3   square_ft            29451 non-null  float64\n",
      " 4   ready_to_move        29451 non-null  int64  \n",
      " 5   resale               29451 non-null  int64  \n",
      " 6   address              29451 non-null  object \n",
      " 7   longitude            29451 non-null  float64\n",
      " 8   latitude             29451 non-null  float64\n",
      " 9   targetprice_in_lacs  29451 non-null  float64\n",
      " 10  posted_by_Builder    29451 non-null  int64  \n",
      " 11  posted_by_Dealer     29451 non-null  int64  \n",
      " 12  posted_by_Owner      29451 non-null  int64  \n",
      " 13  bhk_or_rk_BHK        29451 non-null  int64  \n",
      " 14  bhk_or_rk_RK         29451 non-null  int64  \n",
      "dtypes: float64(4), int64(10), object(1)\n",
      "memory usage: 3.4+ MB\n"
     ]
    }
   ],
   "source": [
    "df.info()"
   ]
  },
  {
   "cell_type": "code",
   "execution_count": 86,
   "id": "63a99bfc",
   "metadata": {
    "ExecuteTime": {
     "end_time": "2023-09-28T12:20:49.442805365Z",
     "start_time": "2023-09-28T12:20:49.432214097Z"
    }
   },
   "outputs": [
    {
     "data": {
      "text/html": [
       "<div>\n",
       "<style scoped>\n",
       "    .dataframe tbody tr th:only-of-type {\n",
       "        vertical-align: middle;\n",
       "    }\n",
       "\n",
       "    .dataframe tbody tr th {\n",
       "        vertical-align: top;\n",
       "    }\n",
       "\n",
       "    .dataframe thead th {\n",
       "        text-align: right;\n",
       "    }\n",
       "</style>\n",
       "<table border=\"1\" class=\"dataframe\">\n",
       "  <thead>\n",
       "    <tr style=\"text-align: right;\">\n",
       "      <th></th>\n",
       "      <th>under_construction</th>\n",
       "      <th>rera</th>\n",
       "      <th>bhk_no</th>\n",
       "      <th>square_ft</th>\n",
       "      <th>ready_to_move</th>\n",
       "      <th>resale</th>\n",
       "      <th>longitude</th>\n",
       "      <th>latitude</th>\n",
       "      <th>targetprice_in_lacs</th>\n",
       "      <th>posted_by_Builder</th>\n",
       "      <th>posted_by_Dealer</th>\n",
       "      <th>posted_by_Owner</th>\n",
       "      <th>bhk_or_rk_BHK</th>\n",
       "      <th>bhk_or_rk_RK</th>\n",
       "    </tr>\n",
       "  </thead>\n",
       "  <tbody>\n",
       "    <tr>\n",
       "      <th>count</th>\n",
       "      <td>29,451.00</td>\n",
       "      <td>29,451.00</td>\n",
       "      <td>29,451.00</td>\n",
       "      <td>29,451.00</td>\n",
       "      <td>29,451.00</td>\n",
       "      <td>29,451.00</td>\n",
       "      <td>29,451.00</td>\n",
       "      <td>29,451.00</td>\n",
       "      <td>29,451.00</td>\n",
       "      <td>29,451.00</td>\n",
       "      <td>29,451.00</td>\n",
       "      <td>29,451.00</td>\n",
       "      <td>29,451.00</td>\n",
       "      <td>29,451.00</td>\n",
       "    </tr>\n",
       "    <tr>\n",
       "      <th>mean</th>\n",
       "      <td>0.18</td>\n",
       "      <td>0.32</td>\n",
       "      <td>2.39</td>\n",
       "      <td>19,802.17</td>\n",
       "      <td>0.82</td>\n",
       "      <td>0.93</td>\n",
       "      <td>21.30</td>\n",
       "      <td>76.84</td>\n",
       "      <td>142.90</td>\n",
       "      <td>0.02</td>\n",
       "      <td>0.62</td>\n",
       "      <td>0.36</td>\n",
       "      <td>1.00</td>\n",
       "      <td>0.00</td>\n",
       "    </tr>\n",
       "    <tr>\n",
       "      <th>std</th>\n",
       "      <td>0.38</td>\n",
       "      <td>0.47</td>\n",
       "      <td>0.88</td>\n",
       "      <td>1,901,334.91</td>\n",
       "      <td>0.38</td>\n",
       "      <td>0.26</td>\n",
       "      <td>6.21</td>\n",
       "      <td>10.56</td>\n",
       "      <td>656.88</td>\n",
       "      <td>0.14</td>\n",
       "      <td>0.49</td>\n",
       "      <td>0.48</td>\n",
       "      <td>0.03</td>\n",
       "      <td>0.03</td>\n",
       "    </tr>\n",
       "    <tr>\n",
       "      <th>min</th>\n",
       "      <td>0.00</td>\n",
       "      <td>0.00</td>\n",
       "      <td>1.00</td>\n",
       "      <td>3.00</td>\n",
       "      <td>0.00</td>\n",
       "      <td>0.00</td>\n",
       "      <td>-37.71</td>\n",
       "      <td>-121.76</td>\n",
       "      <td>0.25</td>\n",
       "      <td>0.00</td>\n",
       "      <td>0.00</td>\n",
       "      <td>0.00</td>\n",
       "      <td>0.00</td>\n",
       "      <td>0.00</td>\n",
       "    </tr>\n",
       "    <tr>\n",
       "      <th>25%</th>\n",
       "      <td>0.00</td>\n",
       "      <td>0.00</td>\n",
       "      <td>2.00</td>\n",
       "      <td>900.02</td>\n",
       "      <td>1.00</td>\n",
       "      <td>1.00</td>\n",
       "      <td>18.45</td>\n",
       "      <td>73.80</td>\n",
       "      <td>38.00</td>\n",
       "      <td>0.00</td>\n",
       "      <td>0.00</td>\n",
       "      <td>0.00</td>\n",
       "      <td>1.00</td>\n",
       "      <td>0.00</td>\n",
       "    </tr>\n",
       "    <tr>\n",
       "      <th>50%</th>\n",
       "      <td>0.00</td>\n",
       "      <td>0.00</td>\n",
       "      <td>2.00</td>\n",
       "      <td>1,175.06</td>\n",
       "      <td>1.00</td>\n",
       "      <td>1.00</td>\n",
       "      <td>20.75</td>\n",
       "      <td>77.32</td>\n",
       "      <td>62.00</td>\n",
       "      <td>0.00</td>\n",
       "      <td>1.00</td>\n",
       "      <td>0.00</td>\n",
       "      <td>1.00</td>\n",
       "      <td>0.00</td>\n",
       "    </tr>\n",
       "    <tr>\n",
       "      <th>75%</th>\n",
       "      <td>0.00</td>\n",
       "      <td>1.00</td>\n",
       "      <td>3.00</td>\n",
       "      <td>1,550.69</td>\n",
       "      <td>1.00</td>\n",
       "      <td>1.00</td>\n",
       "      <td>26.90</td>\n",
       "      <td>77.83</td>\n",
       "      <td>100.00</td>\n",
       "      <td>0.00</td>\n",
       "      <td>1.00</td>\n",
       "      <td>1.00</td>\n",
       "      <td>1.00</td>\n",
       "      <td>0.00</td>\n",
       "    </tr>\n",
       "    <tr>\n",
       "      <th>max</th>\n",
       "      <td>1.00</td>\n",
       "      <td>1.00</td>\n",
       "      <td>20.00</td>\n",
       "      <td>254,545,454.50</td>\n",
       "      <td>1.00</td>\n",
       "      <td>1.00</td>\n",
       "      <td>59.91</td>\n",
       "      <td>152.96</td>\n",
       "      <td>30,000.00</td>\n",
       "      <td>1.00</td>\n",
       "      <td>1.00</td>\n",
       "      <td>1.00</td>\n",
       "      <td>1.00</td>\n",
       "      <td>1.00</td>\n",
       "    </tr>\n",
       "  </tbody>\n",
       "</table>\n",
       "</div>"
      ],
      "text/plain": [
       "       under_construction      rera    bhk_no      square_ft  ready_to_move  \\\n",
       "count           29,451.00 29,451.00 29,451.00      29,451.00      29,451.00   \n",
       "mean                 0.18      0.32      2.39      19,802.17           0.82   \n",
       "std                  0.38      0.47      0.88   1,901,334.91           0.38   \n",
       "min                  0.00      0.00      1.00           3.00           0.00   \n",
       "25%                  0.00      0.00      2.00         900.02           1.00   \n",
       "50%                  0.00      0.00      2.00       1,175.06           1.00   \n",
       "75%                  0.00      1.00      3.00       1,550.69           1.00   \n",
       "max                  1.00      1.00     20.00 254,545,454.50           1.00   \n",
       "\n",
       "         resale  longitude  latitude  targetprice_in_lacs  posted_by_Builder  \\\n",
       "count 29,451.00  29,451.00 29,451.00            29,451.00          29,451.00   \n",
       "mean       0.93      21.30     76.84               142.90               0.02   \n",
       "std        0.26       6.21     10.56               656.88               0.14   \n",
       "min        0.00     -37.71   -121.76                 0.25               0.00   \n",
       "25%        1.00      18.45     73.80                38.00               0.00   \n",
       "50%        1.00      20.75     77.32                62.00               0.00   \n",
       "75%        1.00      26.90     77.83               100.00               0.00   \n",
       "max        1.00      59.91    152.96            30,000.00               1.00   \n",
       "\n",
       "       posted_by_Dealer  posted_by_Owner  bhk_or_rk_BHK  bhk_or_rk_RK  \n",
       "count         29,451.00        29,451.00      29,451.00     29,451.00  \n",
       "mean               0.62             0.36           1.00          0.00  \n",
       "std                0.49             0.48           0.03          0.03  \n",
       "min                0.00             0.00           0.00          0.00  \n",
       "25%                0.00             0.00           1.00          0.00  \n",
       "50%                1.00             0.00           1.00          0.00  \n",
       "75%                1.00             1.00           1.00          0.00  \n",
       "max                1.00             1.00           1.00          1.00  "
      ]
     },
     "execution_count": 86,
     "metadata": {},
     "output_type": "execute_result"
    }
   ],
   "source": [
    "pd.set_option('display.float_format', lambda x: f'{x:,.2f}')\n",
    "df.describe()"
   ]
  },
  {
   "cell_type": "code",
   "execution_count": 87,
   "id": "b3366a18-2ce0-4bea-8d1f-885e2c342141",
   "metadata": {
    "ExecuteTime": {
     "end_time": "2023-09-28T12:20:50.063180007Z",
     "start_time": "2023-09-28T12:20:50.002296885Z"
    }
   },
   "outputs": [
    {
     "data": {
      "image/png": "[encoded data removed]",
      "text/plain": [
       "<Figure size 1200x900 with 16 Axes>"
      ]
     },
     "metadata": {},
     "output_type": "display_data"
    }
   ],
   "source": [
    "df.hist(figsize=(12,9))\n",
    "plt.tight_layout()\n",
    "plt.show()"
   ]
  },
  {
   "cell_type": "code",
   "execution_count": 88,
   "id": "60dc1cb7-e1c8-4ed0-bea2-aae2a6115352",
   "metadata": {
    "ExecuteTime": {
     "end_time": "2023-09-28T12:20:53.828300377Z",
     "start_time": "2023-09-28T12:20:50.441933122Z"
    }
   },
   "outputs": [
    {
     "name": "stderr",
     "output_type": "stream",
     "text": [
      "/home/luiscberrocal/.cache/pypoetry/virtualenvs/hacktoberfest-2023-project-kKWlZqzn-py3.10/lib/python3.10/site-packages/seaborn/_oldcore.py:1498: FutureWarning: is_categorical_dtype is deprecated and will be removed in a future version. Use isinstance(dtype, CategoricalDtype) instead\n",
      "  if pd.api.types.is_categorical_dtype(vector):\n",
      "/home/luiscberrocal/.cache/pypoetry/virtualenvs/hacktoberfest-2023-project-kKWlZqzn-py3.10/lib/python3.10/site-packages/seaborn/_oldcore.py:1498: FutureWarning: is_categorical_dtype is deprecated and will be removed in a future version. Use isinstance(dtype, CategoricalDtype) instead\n",
      "  if pd.api.types.is_categorical_dtype(vector):\n",
      "/home/luiscberrocal/.cache/pypoetry/virtualenvs/hacktoberfest-2023-project-kKWlZqzn-py3.10/lib/python3.10/site-packages/seaborn/_oldcore.py:1498: FutureWarning: is_categorical_dtype is deprecated and will be removed in a future version. Use isinstance(dtype, CategoricalDtype) instead\n",
      "  if pd.api.types.is_categorical_dtype(vector):\n",
      "/home/luiscberrocal/.cache/pypoetry/virtualenvs/hacktoberfest-2023-project-kKWlZqzn-py3.10/lib/python3.10/site-packages/seaborn/_oldcore.py:1498: FutureWarning: is_categorical_dtype is deprecated and will be removed in a future version. Use isinstance(dtype, CategoricalDtype) instead\n",
      "  if pd.api.types.is_categorical_dtype(vector):\n",
      "/home/luiscberrocal/.cache/pypoetry/virtualenvs/hacktoberfest-2023-project-kKWlZqzn-py3.10/lib/python3.10/site-packages/seaborn/_oldcore.py:1498: FutureWarning: is_categorical_dtype is deprecated and will be removed in a future version. Use isinstance(dtype, CategoricalDtype) instead\n",
      "  if pd.api.types.is_categorical_dtype(vector):\n",
      "/home/luiscberrocal/.cache/pypoetry/virtualenvs/hacktoberfest-2023-project-kKWlZqzn-py3.10/lib/python3.10/site-packages/seaborn/_oldcore.py:1498: FutureWarning: is_categorical_dtype is deprecated and will be removed in a future version. Use isinstance(dtype, CategoricalDtype) instead\n",
      "  if pd.api.types.is_categorical_dtype(vector):\n",
      "/home/luiscberrocal/.cache/pypoetry/virtualenvs/hacktoberfest-2023-project-kKWlZqzn-py3.10/lib/python3.10/site-packages/seaborn/_oldcore.py:1498: FutureWarning: is_categorical_dtype is deprecated and will be removed in a future version. Use isinstance(dtype, CategoricalDtype) instead\n",
      "  if pd.api.types.is_categorical_dtype(vector):\n",
      "/home/luiscberrocal/.cache/pypoetry/virtualenvs/hacktoberfest-2023-project-kKWlZqzn-py3.10/lib/python3.10/site-packages/seaborn/_oldcore.py:1498: FutureWarning: is_categorical_dtype is deprecated and will be removed in a future version. Use isinstance(dtype, CategoricalDtype) instead\n",
      "  if pd.api.types.is_categorical_dtype(vector):\n",
      "/home/luiscberrocal/.cache/pypoetry/virtualenvs/hacktoberfest-2023-project-kKWlZqzn-py3.10/lib/python3.10/site-packages/seaborn/_oldcore.py:1498: FutureWarning: is_categorical_dtype is deprecated and will be removed in a future version. Use isinstance(dtype, CategoricalDtype) instead\n",
      "  if pd.api.types.is_categorical_dtype(vector):\n",
      "/home/luiscberrocal/.cache/pypoetry/virtualenvs/hacktoberfest-2023-project-kKWlZqzn-py3.10/lib/python3.10/site-packages/seaborn/_oldcore.py:1498: FutureWarning: is_categorical_dtype is deprecated and will be removed in a future version. Use isinstance(dtype, CategoricalDtype) instead\n",
      "  if pd.api.types.is_categorical_dtype(vector):\n",
      "/home/luiscberrocal/.cache/pypoetry/virtualenvs/hacktoberfest-2023-project-kKWlZqzn-py3.10/lib/python3.10/site-packages/seaborn/_oldcore.py:1498: FutureWarning: is_categorical_dtype is deprecated and will be removed in a future version. Use isinstance(dtype, CategoricalDtype) instead\n",
      "  if pd.api.types.is_categorical_dtype(vector):\n",
      "/home/luiscberrocal/.cache/pypoetry/virtualenvs/hacktoberfest-2023-project-kKWlZqzn-py3.10/lib/python3.10/site-packages/seaborn/_oldcore.py:1498: FutureWarning: is_categorical_dtype is deprecated and will be removed in a future version. Use isinstance(dtype, CategoricalDtype) instead\n",
      "  if pd.api.types.is_categorical_dtype(vector):\n",
      "/home/luiscberrocal/.cache/pypoetry/virtualenvs/hacktoberfest-2023-project-kKWlZqzn-py3.10/lib/python3.10/site-packages/seaborn/_oldcore.py:1498: FutureWarning: is_categorical_dtype is deprecated and will be removed in a future version. Use isinstance(dtype, CategoricalDtype) instead\n",
      "  if pd.api.types.is_categorical_dtype(vector):\n",
      "/home/luiscberrocal/.cache/pypoetry/virtualenvs/hacktoberfest-2023-project-kKWlZqzn-py3.10/lib/python3.10/site-packages/seaborn/_oldcore.py:1498: FutureWarning: is_categorical_dtype is deprecated and will be removed in a future version. Use isinstance(dtype, CategoricalDtype) instead\n",
      "  if pd.api.types.is_categorical_dtype(vector):\n",
      "/home/luiscberrocal/.cache/pypoetry/virtualenvs/hacktoberfest-2023-project-kKWlZqzn-py3.10/lib/python3.10/site-packages/seaborn/_oldcore.py:1498: FutureWarning: is_categorical_dtype is deprecated and will be removed in a future version. Use isinstance(dtype, CategoricalDtype) instead\n",
      "  if pd.api.types.is_categorical_dtype(vector):\n"
     ]
    },
    {
     "data": {
      "text/plain": [
       "<Axes: >"
      ]
     },
     "execution_count": 88,
     "metadata": {},
     "output_type": "execute_result"
    },
    {
     "data": {
      "image/png": "[encoded data removed]",
      "text/plain": [
       "<Figure size 640x480 with 1 Axes>"
      ]
     },
     "metadata": {},
     "output_type": "display_data"
    }
   ],
   "source": [
    "sns.boxplot(data=df, orient='h')"
   ]
  },
  {
   "cell_type": "markdown",
   "id": "d77c4462-08ac-4b2d-b921-a246cad8ce2e",
   "metadata": {},
   "source": [
    "### Categories"
   ]
  },
  {
   "cell_type": "code",
   "execution_count": 71,
   "id": "47ecdf35-e624-4d89-bdc6-fc21d9351dd3",
   "metadata": {
    "ExecuteTime": {
     "end_time": "2023-09-28T12:20:54.446883009Z",
     "start_time": "2023-09-28T12:20:54.367102655Z"
    }
   },
   "outputs": [
    {
     "ename": "ValueError",
     "evalue": "could not convert string to float: 'Ksfc Layout,Bangalore'",
     "output_type": "error",
     "traceback": [
      "\u001b[0;31m---------------------------------------------------------------------------\u001b[0m",
      "\u001b[0;31mValueError\u001b[0m                                Traceback (most recent call last)",
      "Cell \u001b[0;32mIn[71], line 2\u001b[0m\n\u001b[1;32m      1\u001b[0m plt\u001b[38;5;241m.\u001b[39mfigure(figsize\u001b[38;5;241m=\u001b[39m(\u001b[38;5;241m20\u001b[39m, \u001b[38;5;241m10\u001b[39m))\n\u001b[0;32m----> 2\u001b[0m sns\u001b[38;5;241m.\u001b[39mheatmap(\u001b[43mdf\u001b[49m\u001b[38;5;241;43m.\u001b[39;49m\u001b[43mcorr\u001b[49m\u001b[43m(\u001b[49m\u001b[43m)\u001b[49m\u001b[38;5;241m.\u001b[39mround(\u001b[38;5;241m2\u001b[39m), annot\u001b[38;5;241m=\u001b[39m\u001b[38;5;28;01mTrue\u001b[39;00m, cmap\u001b[38;5;241m=\u001b[39m\u001b[38;5;124m'\u001b[39m\u001b[38;5;124mYlGnBu\u001b[39m\u001b[38;5;124m'\u001b[39m, annot_kws\u001b[38;5;241m=\u001b[39m{\u001b[38;5;124m\"\u001b[39m\u001b[38;5;124msize\u001b[39m\u001b[38;5;124m\"\u001b[39m: \u001b[38;5;241m10\u001b[39m})\n\u001b[1;32m      3\u001b[0m \u001b[38;5;66;03m#sns.heatmap(df.corr(), annot=True, cmap='YlGnBu')\u001b[39;00m\n\u001b[1;32m      4\u001b[0m plt\u001b[38;5;241m.\u001b[39mshow()\n",
      "File \u001b[0;32m~/.cache/pypoetry/virtualenvs/hacktoberfest-2023-project-kKWlZqzn-py3.10/lib/python3.10/site-packages/pandas/core/frame.py:10707\u001b[0m, in \u001b[0;36mDataFrame.corr\u001b[0;34m(self, method, min_periods, numeric_only)\u001b[0m\n\u001b[1;32m  10705\u001b[0m cols \u001b[38;5;241m=\u001b[39m data\u001b[38;5;241m.\u001b[39mcolumns\n\u001b[1;32m  10706\u001b[0m idx \u001b[38;5;241m=\u001b[39m cols\u001b[38;5;241m.\u001b[39mcopy()\n\u001b[0;32m> 10707\u001b[0m mat \u001b[38;5;241m=\u001b[39m \u001b[43mdata\u001b[49m\u001b[38;5;241;43m.\u001b[39;49m\u001b[43mto_numpy\u001b[49m\u001b[43m(\u001b[49m\u001b[43mdtype\u001b[49m\u001b[38;5;241;43m=\u001b[39;49m\u001b[38;5;28;43mfloat\u001b[39;49m\u001b[43m,\u001b[49m\u001b[43m \u001b[49m\u001b[43mna_value\u001b[49m\u001b[38;5;241;43m=\u001b[39;49m\u001b[43mnp\u001b[49m\u001b[38;5;241;43m.\u001b[39;49m\u001b[43mnan\u001b[49m\u001b[43m,\u001b[49m\u001b[43m \u001b[49m\u001b[43mcopy\u001b[49m\u001b[38;5;241;43m=\u001b[39;49m\u001b[38;5;28;43;01mFalse\u001b[39;49;00m\u001b[43m)\u001b[49m\n\u001b[1;32m  10709\u001b[0m \u001b[38;5;28;01mif\u001b[39;00m method \u001b[38;5;241m==\u001b[39m \u001b[38;5;124m\"\u001b[39m\u001b[38;5;124mpearson\u001b[39m\u001b[38;5;124m\"\u001b[39m:\n\u001b[1;32m  10710\u001b[0m     correl \u001b[38;5;241m=\u001b[39m libalgos\u001b[38;5;241m.\u001b[39mnancorr(mat, minp\u001b[38;5;241m=\u001b[39mmin_periods)\n",
      "File \u001b[0;32m~/.cache/pypoetry/virtualenvs/hacktoberfest-2023-project-kKWlZqzn-py3.10/lib/python3.10/site-packages/pandas/core/frame.py:1892\u001b[0m, in \u001b[0;36mDataFrame.to_numpy\u001b[0;34m(self, dtype, copy, na_value)\u001b[0m\n\u001b[1;32m   1890\u001b[0m \u001b[38;5;28;01mif\u001b[39;00m dtype \u001b[38;5;129;01mis\u001b[39;00m \u001b[38;5;129;01mnot\u001b[39;00m \u001b[38;5;28;01mNone\u001b[39;00m:\n\u001b[1;32m   1891\u001b[0m     dtype \u001b[38;5;241m=\u001b[39m np\u001b[38;5;241m.\u001b[39mdtype(dtype)\n\u001b[0;32m-> 1892\u001b[0m result \u001b[38;5;241m=\u001b[39m \u001b[38;5;28;43mself\u001b[39;49m\u001b[38;5;241;43m.\u001b[39;49m\u001b[43m_mgr\u001b[49m\u001b[38;5;241;43m.\u001b[39;49m\u001b[43mas_array\u001b[49m\u001b[43m(\u001b[49m\u001b[43mdtype\u001b[49m\u001b[38;5;241;43m=\u001b[39;49m\u001b[43mdtype\u001b[49m\u001b[43m,\u001b[49m\u001b[43m \u001b[49m\u001b[43mcopy\u001b[49m\u001b[38;5;241;43m=\u001b[39;49m\u001b[43mcopy\u001b[49m\u001b[43m,\u001b[49m\u001b[43m \u001b[49m\u001b[43mna_value\u001b[49m\u001b[38;5;241;43m=\u001b[39;49m\u001b[43mna_value\u001b[49m\u001b[43m)\u001b[49m\n\u001b[1;32m   1893\u001b[0m \u001b[38;5;28;01mif\u001b[39;00m result\u001b[38;5;241m.\u001b[39mdtype \u001b[38;5;129;01mis\u001b[39;00m \u001b[38;5;129;01mnot\u001b[39;00m dtype:\n\u001b[1;32m   1894\u001b[0m     result \u001b[38;5;241m=\u001b[39m np\u001b[38;5;241m.\u001b[39marray(result, dtype\u001b[38;5;241m=\u001b[39mdtype, copy\u001b[38;5;241m=\u001b[39m\u001b[38;5;28;01mFalse\u001b[39;00m)\n",
      "File \u001b[0;32m~/.cache/pypoetry/virtualenvs/hacktoberfest-2023-project-kKWlZqzn-py3.10/lib/python3.10/site-packages/pandas/core/internals/managers.py:1656\u001b[0m, in \u001b[0;36mBlockManager.as_array\u001b[0;34m(self, dtype, copy, na_value)\u001b[0m\n\u001b[1;32m   1654\u001b[0m         arr\u001b[38;5;241m.\u001b[39mflags\u001b[38;5;241m.\u001b[39mwriteable \u001b[38;5;241m=\u001b[39m \u001b[38;5;28;01mFalse\u001b[39;00m\n\u001b[1;32m   1655\u001b[0m \u001b[38;5;28;01melse\u001b[39;00m:\n\u001b[0;32m-> 1656\u001b[0m     arr \u001b[38;5;241m=\u001b[39m \u001b[38;5;28;43mself\u001b[39;49m\u001b[38;5;241;43m.\u001b[39;49m\u001b[43m_interleave\u001b[49m\u001b[43m(\u001b[49m\u001b[43mdtype\u001b[49m\u001b[38;5;241;43m=\u001b[39;49m\u001b[43mdtype\u001b[49m\u001b[43m,\u001b[49m\u001b[43m \u001b[49m\u001b[43mna_value\u001b[49m\u001b[38;5;241;43m=\u001b[39;49m\u001b[43mna_value\u001b[49m\u001b[43m)\u001b[49m\n\u001b[1;32m   1657\u001b[0m     \u001b[38;5;66;03m# The underlying data was copied within _interleave, so no need\u001b[39;00m\n\u001b[1;32m   1658\u001b[0m     \u001b[38;5;66;03m# to further copy if copy=True or setting na_value\u001b[39;00m\n\u001b[1;32m   1660\u001b[0m \u001b[38;5;28;01mif\u001b[39;00m na_value \u001b[38;5;129;01mis\u001b[39;00m lib\u001b[38;5;241m.\u001b[39mno_default:\n",
      "File \u001b[0;32m~/.cache/pypoetry/virtualenvs/hacktoberfest-2023-project-kKWlZqzn-py3.10/lib/python3.10/site-packages/pandas/core/internals/managers.py:1715\u001b[0m, in \u001b[0;36mBlockManager._interleave\u001b[0;34m(self, dtype, na_value)\u001b[0m\n\u001b[1;32m   1713\u001b[0m     \u001b[38;5;28;01melse\u001b[39;00m:\n\u001b[1;32m   1714\u001b[0m         arr \u001b[38;5;241m=\u001b[39m blk\u001b[38;5;241m.\u001b[39mget_values(dtype)\n\u001b[0;32m-> 1715\u001b[0m     \u001b[43mresult\u001b[49m\u001b[43m[\u001b[49m\u001b[43mrl\u001b[49m\u001b[38;5;241;43m.\u001b[39;49m\u001b[43mindexer\u001b[49m\u001b[43m]\u001b[49m \u001b[38;5;241m=\u001b[39m arr\n\u001b[1;32m   1716\u001b[0m     itemmask[rl\u001b[38;5;241m.\u001b[39mindexer] \u001b[38;5;241m=\u001b[39m \u001b[38;5;241m1\u001b[39m\n\u001b[1;32m   1718\u001b[0m \u001b[38;5;28;01mif\u001b[39;00m \u001b[38;5;129;01mnot\u001b[39;00m itemmask\u001b[38;5;241m.\u001b[39mall():\n",
      "\u001b[0;31mValueError\u001b[0m: could not convert string to float: 'Ksfc Layout,Bangalore'"
     ]
    },
    {
     "data": {
      "text/plain": [
       "<Figure size 2000x1000 with 0 Axes>"
      ]
     },
     "metadata": {},
     "output_type": "display_data"
    }
   ],
   "source": [
    "\n",
    "plt.figure(figsize=(20, 10))\n",
    "sns.heatmap(df.corr().round(2), annot=True, cmap='YlGnBu', annot_kws={\"size\": 10})\n",
    "#sns.heatmap(df.corr(), annot=True, cmap='YlGnBu')\n",
    "plt.show()"
   ]
  },
  {
   "cell_type": "code",
   "execution_count": 15,
   "id": "baa4be13-15c3-4dd5-b698-e9e49133f84c",
   "metadata": {
    "ExecuteTime": {
     "end_time": "2023-09-28T12:20:55.722562439Z",
     "start_time": "2023-09-28T12:20:55.708605870Z"
    }
   },
   "outputs": [
    {
     "name": "stdout",
     "output_type": "stream",
     "text": [
      "Pandas    : 2.1.1\n",
      "Seaborn   : 0.12.2\n",
      "Matplotlib: 3.7.3\n"
     ]
    }
   ],
   "source": [
    "import matplotlib\n",
    "print(f'Pandas    : {pd.__version__}')\n",
    "print(f'Seaborn   : {sns.__version__}')\n",
    "print(f'Matplotlib: {matplotlib.__version__}')"
   ]
  },
  {
   "cell_type": "code",
   "execution_count": 16,
   "id": "72ca901e",
   "metadata": {
    "ExecuteTime": {
     "end_time": "2023-09-28T12:20:56.143443870Z",
     "start_time": "2023-09-28T12:20:56.101892866Z"
    }
   },
   "outputs": [
    {
     "name": "stdout",
     "output_type": "stream",
     "text": [
      "NAME=\"Pop!_OS\"\n",
      "VERSION=\"22.04 LTS\"\n",
      "ID=pop\n",
      "ID_LIKE=\"ubuntu debian\"\n",
      "PRETTY_NAME=\"Pop!_OS 22.04 LTS\"\n",
      "VERSION_ID=\"22.04\"\n",
      "HOME_URL=\"https://pop.system76.com\"\n",
      "SUPPORT_URL=\"https://support.system76.com\"\n",
      "BUG_REPORT_URL=\"https://github.com/pop-os/pop/issues\"\n",
      "PRIVACY_POLICY_URL=\"https://system76.com/privacy\"\n",
      "VERSION_CODENAME=jammy\n",
      "UBUNTU_CODENAME=jammy\n",
      "LOGO=distributor-logo-pop-os\n"
     ]
    }
   ],
   "source": [
    "! cat /etc/os-release"
   ]
  },
  {
   "cell_type": "code",
   "execution_count": null,
   "id": "fc47b411-af41-4687-9b7a-007b34fa6585",
   "metadata": {
    "ExecuteTime": {
     "end_time": "2023-09-28T12:21:06.257499329Z",
     "start_time": "2023-09-28T12:21:06.190533754Z"
    }
   },
   "outputs": [],
   "source": []
  },
  {
   "cell_type": "code",
   "execution_count": null,
   "id": "35b553a97e603acb",
   "metadata": {},
   "outputs": [],
   "source": []
  }
 ],
 "metadata": {
  "kernelspec": {
   "display_name": "hacktoberfest-2023-project-kKWlZqzn-py3",
   "language": "python",
   "name": "hacktoberfest-2023-project-kkwlzqzn-py3"
  },
  "language_info": {
   "codemirror_mode": {
    "name": "ipython",
    "version": 3
   },
   "file_extension": ".py",
   "mimetype": "text/x-python",
   "name": "python",
   "nbconvert_exporter": "python",
   "pygments_lexer": "ipython3",
   "version": "3.10.12"
  },
  "toc": {
   "base_numbering": 1,
   "nav_menu": {},
   "number_sections": true,
   "sideBar": true,
   "skip_h1_title": true,
   "title_cell": "Table of Contents",
   "title_sidebar": "Contents",
   "toc_cell": false,
   "toc_position": {},
   "toc_section_display": true,
   "toc_window_display": false
  }
 },
 "nbformat": 4,
 "nbformat_minor": 5
}
