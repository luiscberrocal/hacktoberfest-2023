{
 "cells": [
  {
   "cell_type": "markdown",
   "id": "1e876d8d-05eb-4031-bd14-6d8d1b104556",
   "metadata": {},
   "source": [
    "# India House Price data"
   ]
  },
  {
   "cell_type": "code",
   "execution_count": 1,
   "id": "29f4cd96-6417-4b6b-9167-89e7cd4035e0",
   "metadata": {},
   "outputs": [],
   "source": [
    "# ! pip install matplotlib==3.7.3"
   ]
  },
  {
   "cell_type": "code",
   "execution_count": 12,
   "id": "0b5a02d6-c471-4251-9906-18b83100e27f",
   "metadata": {
    "ExecuteTime": {
     "end_time": "2023-09-28T12:20:48.067334159Z",
     "start_time": "2023-09-28T12:20:48.054224384Z"
    }
   },
   "outputs": [],
   "source": [
    "import sys\n",
    "import os\n",
    "import pandas as pd\n",
    "import seaborn as sns\n",
    "from pathlib import Path\n",
    "import numpy as np\n",
    "import matplotlib.pyplot as plt\n",
    "\n",
    "module_path = os.path.abspath(os.path.join(os.pardir, os.pardir))\n",
    "\n",
    "module_path = Path.cwd().parent\n",
    "# print(module_path)\n",
    "if module_path not in sys.path:\n",
    "    sys.path.append(module_path)\n",
    "# print(sys.path)\n",
    "import settings\n",
    "# from kaggle import settingsb\n",
    "%matplotlib inline"
   ]
  },
  {
   "cell_type": "code",
   "execution_count": 13,
   "id": "820c8898-656a-444c-9027-faf3db0ce17d",
   "metadata": {},
   "outputs": [
    {
     "data": {
      "text/plain": [
       "'3.7.3'"
      ]
     },
     "execution_count": 13,
     "metadata": {},
     "output_type": "execute_result"
    }
   ],
   "source": [
    "import matplotlib\n",
    "matplotlib.__version__"
   ]
  },
  {
   "cell_type": "code",
   "execution_count": 14,
   "id": "b19b5720-9490-49e2-b291-0c1de5dbd5ae",
   "metadata": {},
   "outputs": [
    {
     "name": "stdout",
     "output_type": "stream",
     "text": [
      "matplotlib                               3.7.3        Python plotting package\n",
      "matplotlib-inline                        0.1.6        Inline Matplotlib bac...\n"
     ]
    }
   ],
   "source": [
    "! poetry show | grep matplotlib"
   ]
  },
  {
   "cell_type": "code",
   "execution_count": 15,
   "id": "c1a59973-80fb-40b4-ad77-ba8f4563f5b2",
   "metadata": {},
   "outputs": [
    {
     "name": "stdout",
     "output_type": "stream",
     "text": [
      "matplotlib==3.7.3\n",
      "matplotlib-inline @ file:///home/conda/feedstock_root/build_artifacts/matplotlib-inline_1660814786464/work\n"
     ]
    }
   ],
   "source": [
    "! pip freeze | grep matplotlib"
   ]
  },
  {
   "cell_type": "markdown",
   "id": "2d8412821b411a16",
   "metadata": {
    "collapsed": false,
    "jupyter": {
     "outputs_hidden": false
    }
   },
   "source": [
    "## Configuration"
   ]
  },
  {
   "cell_type": "code",
   "execution_count": 16,
   "id": "73a5006d40637771",
   "metadata": {
    "collapsed": false,
    "jupyter": {
     "outputs_hidden": false
    }
   },
   "outputs": [],
   "source": [
    "csv_file = settings.DATA_FOLDER /'house_prices_clean.csv'"
   ]
  },
  {
   "cell_type": "code",
   "execution_count": 17,
   "id": "f14eb5e4-9e2f-474f-9c96-612a65abe887",
   "metadata": {
    "ExecuteTime": {
     "end_time": "2023-09-28T12:20:48.082639837Z",
     "start_time": "2023-09-28T12:20:48.071575582Z"
    }
   },
   "outputs": [
    {
     "data": {
      "text/plain": [
       "(29451, 13)"
      ]
     },
     "execution_count": 17,
     "metadata": {},
     "output_type": "execute_result"
    }
   ],
   "source": [
    "df = pd.read_csv(csv_file)\n",
    "\n",
    "df.shape"
   ]
  },
  {
   "cell_type": "code",
   "execution_count": 18,
   "id": "241ff99c-053d-4bd2-a0cc-8f213658a657",
   "metadata": {
    "ExecuteTime": {
     "end_time": "2023-09-28T12:20:48.204346575Z",
     "start_time": "2023-09-28T12:20:48.083790468Z"
    }
   },
   "outputs": [
    {
     "data": {
      "text/html": [
       "<div>\n",
       "<style scoped>\n",
       "    .dataframe tbody tr th:only-of-type {\n",
       "        vertical-align: middle;\n",
       "    }\n",
       "\n",
       "    .dataframe tbody tr th {\n",
       "        vertical-align: top;\n",
       "    }\n",
       "\n",
       "    .dataframe thead th {\n",
       "        text-align: right;\n",
       "    }\n",
       "</style>\n",
       "<table border=\"1\" class=\"dataframe\">\n",
       "  <thead>\n",
       "    <tr style=\"text-align: right;\">\n",
       "      <th></th>\n",
       "      <th>unnamed0</th>\n",
       "      <th>posted_by</th>\n",
       "      <th>under_construction</th>\n",
       "      <th>rera</th>\n",
       "      <th>bhk_no</th>\n",
       "      <th>bhk_or_rk</th>\n",
       "      <th>square_ft</th>\n",
       "      <th>ready_to_move</th>\n",
       "      <th>resale</th>\n",
       "      <th>address</th>\n",
       "      <th>longitude</th>\n",
       "      <th>latitude</th>\n",
       "      <th>targetprice_in_lacs</th>\n",
       "    </tr>\n",
       "  </thead>\n",
       "  <tbody>\n",
       "    <tr>\n",
       "      <th>28293</th>\n",
       "      <td>28293</td>\n",
       "      <td>Owner</td>\n",
       "      <td>0</td>\n",
       "      <td>0</td>\n",
       "      <td>2</td>\n",
       "      <td>BHK</td>\n",
       "      <td>1150.527325</td>\n",
       "      <td>1</td>\n",
       "      <td>1</td>\n",
       "      <td>Dewas Naka(Panchvati),Indore</td>\n",
       "      <td>22.782781</td>\n",
       "      <td>75.899435</td>\n",
       "      <td>24.0</td>\n",
       "    </tr>\n",
       "    <tr>\n",
       "      <th>14088</th>\n",
       "      <td>14088</td>\n",
       "      <td>Dealer</td>\n",
       "      <td>0</td>\n",
       "      <td>0</td>\n",
       "      <td>3</td>\n",
       "      <td>BHK</td>\n",
       "      <td>920.162382</td>\n",
       "      <td>1</td>\n",
       "      <td>1</td>\n",
       "      <td>Madurdaha,Kolkata</td>\n",
       "      <td>22.541110</td>\n",
       "      <td>88.337780</td>\n",
       "      <td>34.0</td>\n",
       "    </tr>\n",
       "    <tr>\n",
       "      <th>25591</th>\n",
       "      <td>25591</td>\n",
       "      <td>Dealer</td>\n",
       "      <td>1</td>\n",
       "      <td>1</td>\n",
       "      <td>2</td>\n",
       "      <td>BHK</td>\n",
       "      <td>1084.444444</td>\n",
       "      <td>0</td>\n",
       "      <td>0</td>\n",
       "      <td>Sector-150 Noida,Noida</td>\n",
       "      <td>28.429614</td>\n",
       "      <td>77.481711</td>\n",
       "      <td>48.8</td>\n",
       "    </tr>\n",
       "    <tr>\n",
       "      <th>17532</th>\n",
       "      <td>17532</td>\n",
       "      <td>Dealer</td>\n",
       "      <td>0</td>\n",
       "      <td>1</td>\n",
       "      <td>3</td>\n",
       "      <td>BHK</td>\n",
       "      <td>1423.810966</td>\n",
       "      <td>1</td>\n",
       "      <td>1</td>\n",
       "      <td>Mansarovar Extension,Jaipur</td>\n",
       "      <td>26.862600</td>\n",
       "      <td>75.763300</td>\n",
       "      <td>47.0</td>\n",
       "    </tr>\n",
       "    <tr>\n",
       "      <th>11736</th>\n",
       "      <td>11736</td>\n",
       "      <td>Dealer</td>\n",
       "      <td>1</td>\n",
       "      <td>0</td>\n",
       "      <td>4</td>\n",
       "      <td>BHK</td>\n",
       "      <td>2220.063827</td>\n",
       "      <td>0</td>\n",
       "      <td>1</td>\n",
       "      <td>Lingarajapuram,Bangalore</td>\n",
       "      <td>13.008669</td>\n",
       "      <td>77.629239</td>\n",
       "      <td>160.0</td>\n",
       "    </tr>\n",
       "  </tbody>\n",
       "</table>\n",
       "</div>"
      ],
      "text/plain": [
       "       unnamed0 posted_by  under_construction  rera  bhk_no bhk_or_rk  \\\n",
       "28293     28293     Owner                   0     0       2       BHK   \n",
       "14088     14088    Dealer                   0     0       3       BHK   \n",
       "25591     25591    Dealer                   1     1       2       BHK   \n",
       "17532     17532    Dealer                   0     1       3       BHK   \n",
       "11736     11736    Dealer                   1     0       4       BHK   \n",
       "\n",
       "         square_ft  ready_to_move  resale                       address  \\\n",
       "28293  1150.527325              1       1  Dewas Naka(Panchvati),Indore   \n",
       "14088   920.162382              1       1             Madurdaha,Kolkata   \n",
       "25591  1084.444444              0       0        Sector-150 Noida,Noida   \n",
       "17532  1423.810966              1       1   Mansarovar Extension,Jaipur   \n",
       "11736  2220.063827              0       1      Lingarajapuram,Bangalore   \n",
       "\n",
       "       longitude   latitude  targetprice_in_lacs  \n",
       "28293  22.782781  75.899435                 24.0  \n",
       "14088  22.541110  88.337780                 34.0  \n",
       "25591  28.429614  77.481711                 48.8  \n",
       "17532  26.862600  75.763300                 47.0  \n",
       "11736  13.008669  77.629239                160.0  "
      ]
     },
     "execution_count": 18,
     "metadata": {},
     "output_type": "execute_result"
    }
   ],
   "source": [
    "df.sample(5)"
   ]
  },
  {
   "cell_type": "markdown",
   "id": "dc7eed3824e96f99",
   "metadata": {
    "collapsed": false,
    "jupyter": {
     "outputs_hidden": false
    }
   },
   "source": [
    "## EDA"
   ]
  },
  {
   "cell_type": "code",
   "execution_count": 8,
   "id": "722614d8f4b2e0c6",
   "metadata": {
    "collapsed": false,
    "jupyter": {
     "outputs_hidden": false
    }
   },
   "outputs": [
    {
     "data": {
      "text/plain": [
       "Unnamed: 0             0\n",
       "unnamed0               0\n",
       "posted_by              0\n",
       "under_construction     0\n",
       "rera                   0\n",
       "bhk_no                 0\n",
       "bhk_or_rk              0\n",
       "square_ft              0\n",
       "ready_to_move          0\n",
       "resale                 0\n",
       "address                0\n",
       "longitude              0\n",
       "latitude               0\n",
       "targetprice_in_lacs    0\n",
       "dtype: int64"
      ]
     },
     "execution_count": 8,
     "metadata": {},
     "output_type": "execute_result"
    }
   ],
   "source": [
    "df.isna().sum()"
   ]
  },
  {
   "cell_type": "code",
   "execution_count": 9,
   "id": "368e2d28-0ce6-4019-9a0e-8a476ffcba1a",
   "metadata": {
    "ExecuteTime": {
     "end_time": "2023-09-28T12:20:48.812574792Z",
     "start_time": "2023-09-28T12:20:48.810919587Z"
    }
   },
   "outputs": [
    {
     "name": "stdout",
     "output_type": "stream",
     "text": [
      "<class 'pandas.core.frame.DataFrame'>\n",
      "RangeIndex: 29451 entries, 0 to 29450\n",
      "Data columns (total 14 columns):\n",
      " #   Column               Non-Null Count  Dtype  \n",
      "---  ------               --------------  -----  \n",
      " 0   Unnamed: 0           29451 non-null  int64  \n",
      " 1   unnamed0             29451 non-null  int64  \n",
      " 2   posted_by            29451 non-null  object \n",
      " 3   under_construction   29451 non-null  int64  \n",
      " 4   rera                 29451 non-null  int64  \n",
      " 5   bhk_no               29451 non-null  int64  \n",
      " 6   bhk_or_rk            29451 non-null  object \n",
      " 7   square_ft            29451 non-null  float64\n",
      " 8   ready_to_move        29451 non-null  int64  \n",
      " 9   resale               29451 non-null  int64  \n",
      " 10  address              29451 non-null  object \n",
      " 11  longitude            29451 non-null  float64\n",
      " 12  latitude             29451 non-null  float64\n",
      " 13  targetprice_in_lacs  29451 non-null  float64\n",
      "dtypes: float64(4), int64(7), object(3)\n",
      "memory usage: 3.1+ MB\n"
     ]
    }
   ],
   "source": [
    "df.info()"
   ]
  },
  {
   "cell_type": "code",
   "execution_count": 10,
   "id": "63a99bfc",
   "metadata": {
    "ExecuteTime": {
     "end_time": "2023-09-28T12:20:49.442805365Z",
     "start_time": "2023-09-28T12:20:49.432214097Z"
    }
   },
   "outputs": [
    {
     "data": {
      "text/html": [
       "<div>\n",
       "<style scoped>\n",
       "    .dataframe tbody tr th:only-of-type {\n",
       "        vertical-align: middle;\n",
       "    }\n",
       "\n",
       "    .dataframe tbody tr th {\n",
       "        vertical-align: top;\n",
       "    }\n",
       "\n",
       "    .dataframe thead th {\n",
       "        text-align: right;\n",
       "    }\n",
       "</style>\n",
       "<table border=\"1\" class=\"dataframe\">\n",
       "  <thead>\n",
       "    <tr style=\"text-align: right;\">\n",
       "      <th></th>\n",
       "      <th>Unnamed: 0</th>\n",
       "      <th>unnamed0</th>\n",
       "      <th>under_construction</th>\n",
       "      <th>rera</th>\n",
       "      <th>bhk_no</th>\n",
       "      <th>square_ft</th>\n",
       "      <th>ready_to_move</th>\n",
       "      <th>resale</th>\n",
       "      <th>longitude</th>\n",
       "      <th>latitude</th>\n",
       "      <th>targetprice_in_lacs</th>\n",
       "    </tr>\n",
       "  </thead>\n",
       "  <tbody>\n",
       "    <tr>\n",
       "      <th>count</th>\n",
       "      <td>29451.000000</td>\n",
       "      <td>29451.000000</td>\n",
       "      <td>29451.000000</td>\n",
       "      <td>29451.000000</td>\n",
       "      <td>29451.000000</td>\n",
       "      <td>2.945100e+04</td>\n",
       "      <td>29451.000000</td>\n",
       "      <td>29451.000000</td>\n",
       "      <td>29451.000000</td>\n",
       "      <td>29451.000000</td>\n",
       "      <td>29451.000000</td>\n",
       "    </tr>\n",
       "    <tr>\n",
       "      <th>mean</th>\n",
       "      <td>14725.000000</td>\n",
       "      <td>14725.000000</td>\n",
       "      <td>0.179756</td>\n",
       "      <td>0.317918</td>\n",
       "      <td>2.392279</td>\n",
       "      <td>1.980217e+04</td>\n",
       "      <td>0.820244</td>\n",
       "      <td>0.929578</td>\n",
       "      <td>21.300255</td>\n",
       "      <td>76.837695</td>\n",
       "      <td>142.898746</td>\n",
       "    </tr>\n",
       "    <tr>\n",
       "      <th>std</th>\n",
       "      <td>8501.915725</td>\n",
       "      <td>8501.915725</td>\n",
       "      <td>0.383991</td>\n",
       "      <td>0.465675</td>\n",
       "      <td>0.879091</td>\n",
       "      <td>1.901335e+06</td>\n",
       "      <td>0.383991</td>\n",
       "      <td>0.255861</td>\n",
       "      <td>6.205306</td>\n",
       "      <td>10.557747</td>\n",
       "      <td>656.880713</td>\n",
       "    </tr>\n",
       "    <tr>\n",
       "      <th>min</th>\n",
       "      <td>0.000000</td>\n",
       "      <td>0.000000</td>\n",
       "      <td>0.000000</td>\n",
       "      <td>0.000000</td>\n",
       "      <td>1.000000</td>\n",
       "      <td>3.000000e+00</td>\n",
       "      <td>0.000000</td>\n",
       "      <td>0.000000</td>\n",
       "      <td>-37.713008</td>\n",
       "      <td>-121.761248</td>\n",
       "      <td>0.250000</td>\n",
       "    </tr>\n",
       "    <tr>\n",
       "      <th>25%</th>\n",
       "      <td>7362.500000</td>\n",
       "      <td>7362.500000</td>\n",
       "      <td>0.000000</td>\n",
       "      <td>0.000000</td>\n",
       "      <td>2.000000</td>\n",
       "      <td>9.000211e+02</td>\n",
       "      <td>1.000000</td>\n",
       "      <td>1.000000</td>\n",
       "      <td>18.452663</td>\n",
       "      <td>73.798100</td>\n",
       "      <td>38.000000</td>\n",
       "    </tr>\n",
       "    <tr>\n",
       "      <th>50%</th>\n",
       "      <td>14725.000000</td>\n",
       "      <td>14725.000000</td>\n",
       "      <td>0.000000</td>\n",
       "      <td>0.000000</td>\n",
       "      <td>2.000000</td>\n",
       "      <td>1.175057e+03</td>\n",
       "      <td>1.000000</td>\n",
       "      <td>1.000000</td>\n",
       "      <td>20.750000</td>\n",
       "      <td>77.324137</td>\n",
       "      <td>62.000000</td>\n",
       "    </tr>\n",
       "    <tr>\n",
       "      <th>75%</th>\n",
       "      <td>22087.500000</td>\n",
       "      <td>22087.500000</td>\n",
       "      <td>0.000000</td>\n",
       "      <td>1.000000</td>\n",
       "      <td>3.000000</td>\n",
       "      <td>1.550688e+03</td>\n",
       "      <td>1.000000</td>\n",
       "      <td>1.000000</td>\n",
       "      <td>26.900926</td>\n",
       "      <td>77.828740</td>\n",
       "      <td>100.000000</td>\n",
       "    </tr>\n",
       "    <tr>\n",
       "      <th>max</th>\n",
       "      <td>29450.000000</td>\n",
       "      <td>29450.000000</td>\n",
       "      <td>1.000000</td>\n",
       "      <td>1.000000</td>\n",
       "      <td>20.000000</td>\n",
       "      <td>2.545455e+08</td>\n",
       "      <td>1.000000</td>\n",
       "      <td>1.000000</td>\n",
       "      <td>59.912884</td>\n",
       "      <td>152.962676</td>\n",
       "      <td>30000.000000</td>\n",
       "    </tr>\n",
       "  </tbody>\n",
       "</table>\n",
       "</div>"
      ],
      "text/plain": [
       "         Unnamed: 0      unnamed0  under_construction          rera  \\\n",
       "count  29451.000000  29451.000000        29451.000000  29451.000000   \n",
       "mean   14725.000000  14725.000000            0.179756      0.317918   \n",
       "std     8501.915725   8501.915725            0.383991      0.465675   \n",
       "min        0.000000      0.000000            0.000000      0.000000   \n",
       "25%     7362.500000   7362.500000            0.000000      0.000000   \n",
       "50%    14725.000000  14725.000000            0.000000      0.000000   \n",
       "75%    22087.500000  22087.500000            0.000000      1.000000   \n",
       "max    29450.000000  29450.000000            1.000000      1.000000   \n",
       "\n",
       "             bhk_no     square_ft  ready_to_move        resale     longitude  \\\n",
       "count  29451.000000  2.945100e+04   29451.000000  29451.000000  29451.000000   \n",
       "mean       2.392279  1.980217e+04       0.820244      0.929578     21.300255   \n",
       "std        0.879091  1.901335e+06       0.383991      0.255861      6.205306   \n",
       "min        1.000000  3.000000e+00       0.000000      0.000000    -37.713008   \n",
       "25%        2.000000  9.000211e+02       1.000000      1.000000     18.452663   \n",
       "50%        2.000000  1.175057e+03       1.000000      1.000000     20.750000   \n",
       "75%        3.000000  1.550688e+03       1.000000      1.000000     26.900926   \n",
       "max       20.000000  2.545455e+08       1.000000      1.000000     59.912884   \n",
       "\n",
       "           latitude  targetprice_in_lacs  \n",
       "count  29451.000000         29451.000000  \n",
       "mean      76.837695           142.898746  \n",
       "std       10.557747           656.880713  \n",
       "min     -121.761248             0.250000  \n",
       "25%       73.798100            38.000000  \n",
       "50%       77.324137            62.000000  \n",
       "75%       77.828740           100.000000  \n",
       "max      152.962676         30000.000000  "
      ]
     },
     "execution_count": 10,
     "metadata": {},
     "output_type": "execute_result"
    }
   ],
   "source": [
    "# pd.set_option('display.float_format', lambda x: f'{x:,.2f}')\n",
    "df.describe()"
   ]
  },
  {
   "cell_type": "code",
   "execution_count": 11,
   "id": "b3366a18-2ce0-4bea-8d1f-885e2c342141",
   "metadata": {
    "ExecuteTime": {
     "end_time": "2023-09-28T12:20:50.063180007Z",
     "start_time": "2023-09-28T12:20:50.002296885Z"
    }
   },
   "outputs": [
    {
     "data": {
      "image/png": "[encoded data removed]",
      "text/plain": [
       "<Figure size 1200x900 with 12 Axes>"
      ]
     },
     "metadata": {},
     "output_type": "display_data"
    }
   ],
   "source": [
    "df.hist(figsize=(12,9))\n",
    "plt.tight_layout()\n",
    "plt.show()"
   ]
  },
  {
   "cell_type": "code",
   "execution_count": null,
   "id": "60dc1cb7-e1c8-4ed0-bea2-aae2a6115352",
   "metadata": {
    "ExecuteTime": {
     "end_time": "2023-09-28T12:20:53.828300377Z",
     "start_time": "2023-09-28T12:20:50.441933122Z"
    }
   },
   "outputs": [],
   "source": [
    "sns.boxplot(data=df, orient='h')"
   ]
  },
  {
   "cell_type": "markdown",
   "id": "fbd48a9bab3e611f",
   "metadata": {
    "collapsed": false,
    "jupyter": {
     "outputs_hidden": false
    }
   },
   "source": [
    "### Correlation"
   ]
  },
  {
   "cell_type": "code",
   "execution_count": null,
   "id": "7cece20e3ad5ebff",
   "metadata": {
    "collapsed": false,
    "jupyter": {
     "outputs_hidden": false
    }
   },
   "outputs": [],
   "source": [
    "df.corr()"
   ]
  },
  {
   "cell_type": "code",
   "execution_count": null,
   "id": "47ecdf35-e624-4d89-bdc6-fc21d9351dd3",
   "metadata": {
    "ExecuteTime": {
     "end_time": "2023-09-28T12:20:54.446883009Z",
     "start_time": "2023-09-28T12:20:54.367102655Z"
    }
   },
   "outputs": [],
   "source": [
    "\n",
    "plt.figure(figsize=(20, 10))\n",
    "sns.heatmap(df.corr().round(2), annot=True, cmap='YlGnBu', annot_kws={\"size\": 10})\n",
    "#sns.heatmap(df.corr(), annot=True, cmap='YlGnBu')\n",
    "plt.show()"
   ]
  },
  {
   "cell_type": "code",
   "execution_count": null,
   "id": "baa4be13-15c3-4dd5-b698-e9e49133f84c",
   "metadata": {
    "ExecuteTime": {
     "end_time": "2023-09-28T12:20:55.722562439Z",
     "start_time": "2023-09-28T12:20:55.708605870Z"
    }
   },
   "outputs": [],
   "source": [
    "import matplotlib\n",
    "print(f'Pandas    : {pd.__version__}')\n",
    "print(f'Seaborn   : {sns.__version__}')\n",
    "print(f'Matplotlib: {matplotlib.__version__}')"
   ]
  },
  {
   "cell_type": "code",
   "execution_count": null,
   "id": "72ca901e",
   "metadata": {
    "ExecuteTime": {
     "end_time": "2023-09-28T12:20:56.143443870Z",
     "start_time": "2023-09-28T12:20:56.101892866Z"
    }
   },
   "outputs": [],
   "source": [
    "! cat /etc/os-release"
   ]
  },
  {
   "cell_type": "code",
   "execution_count": null,
   "id": "fc47b411-af41-4687-9b7a-007b34fa6585",
   "metadata": {
    "ExecuteTime": {
     "end_time": "2023-09-28T12:21:06.257499329Z",
     "start_time": "2023-09-28T12:21:06.190533754Z"
    }
   },
   "outputs": [],
   "source": []
  },
  {
   "cell_type": "code",
   "execution_count": null,
   "id": "35b553a97e603acb",
   "metadata": {},
   "outputs": [],
   "source": []
  }
 ],
 "metadata": {
  "kernelspec": {
   "display_name": "hacktoberfest-2023-project-kKWlZqzn-py3",
   "language": "python",
   "name": "hacktoberfest-2023-project-kkwlzqzn-py3"
  },
  "language_info": {
   "codemirror_mode": {
    "name": "ipython",
    "version": 3
   },
   "file_extension": ".py",
   "mimetype": "text/x-python",
   "name": "python",
   "nbconvert_exporter": "python",
   "pygments_lexer": "ipython3",
   "version": "3.10.12"
  },
  "toc": {
   "base_numbering": 1,
   "nav_menu": {},
   "number_sections": true,
   "sideBar": true,
   "skip_h1_title": true,
   "title_cell": "Table of Contents",
   "title_sidebar": "Contents",
   "toc_cell": false,
   "toc_position": {},
   "toc_section_display": true,
   "toc_window_display": false
  }
 },
 "nbformat": 4,
 "nbformat_minor": 5
}
