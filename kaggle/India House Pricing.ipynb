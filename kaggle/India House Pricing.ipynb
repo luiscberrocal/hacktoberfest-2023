{
 "cells": [
  {
   "cell_type": "markdown",
   "id": "1e876d8d-05eb-4031-bd14-6d8d1b104556",
   "metadata": {},
   "source": [
    "# India House Price data"
   ]
  },
  {
   "cell_type": "code",
   "execution_count": 1,
   "id": "0b5a02d6-c471-4251-9906-18b83100e27f",
   "metadata": {
    "ExecuteTime": {
     "end_time": "2023-09-28T12:20:48.067334159Z",
     "start_time": "2023-09-28T12:20:48.054224384Z"
    }
   },
   "outputs": [],
   "source": [
    "import sys\n",
    "import os\n",
    "import pandas as pd\n",
    "import seaborn as sns\n",
    "from pathlib import Path\n",
    "import numpy as np\n",
    "import matplotlib.pyplot as plt\n",
    "\n",
    "module_path = os.path.abspath(os.path.join(os.pardir, os.pardir))\n",
    "\n",
    "module_path = Path.cwd().parent\n",
    "# print(module_path)\n",
    "if module_path not in sys.path:\n",
    "    sys.path.append(module_path)\n",
    "# print(sys.path)\n",
    "import settings\n",
    "# from kaggle import settings\n",
    "%matplotlib inline"
   ]
  },
  {
   "cell_type": "code",
   "execution_count": 2,
   "id": "820c8898-656a-444c-9027-faf3db0ce17d",
   "metadata": {},
   "outputs": [
    {
     "data": {
      "text/plain": [
       "'3.8.0'"
      ]
     },
     "execution_count": 2,
     "metadata": {},
     "output_type": "execute_result"
    }
   ],
   "source": [
    "import matplotlib\n",
    "matplotlib.__version__"
   ]
  },
  {
   "cell_type": "code",
   "execution_count": 3,
   "id": "b19b5720-9490-49e2-b291-0c1de5dbd5ae",
   "metadata": {},
   "outputs": [
    {
     "name": "stdout",
     "output_type": "stream",
     "text": [
      "matplotlib                               3.7.3        Python plotting package\n",
      "matplotlib-inline                        0.1.6        Inline Matplotlib bac...\n"
     ]
    }
   ],
   "source": [
    "! poetry show | grep matplotlib"
   ]
  },
  {
   "cell_type": "markdown",
   "id": "2d8412821b411a16",
   "metadata": {
    "collapsed": false,
    "jupyter": {
     "outputs_hidden": false
    }
   },
   "source": [
    "## Configuration"
   ]
  },
  {
   "cell_type": "code",
   "execution_count": null,
   "id": "73a5006d40637771",
   "metadata": {
    "collapsed": false,
    "jupyter": {
     "outputs_hidden": false
    }
   },
   "outputs": [],
   "source": [
    "csv_file = settings.DATA_FOLDER /'house-price-dataset'/ 'Participants_Data_HPP' / 'Train.csv'"
   ]
  },
  {
   "cell_type": "code",
   "execution_count": null,
   "id": "f14eb5e4-9e2f-474f-9c96-612a65abe887",
   "metadata": {
    "ExecuteTime": {
     "end_time": "2023-09-28T12:20:48.082639837Z",
     "start_time": "2023-09-28T12:20:48.071575582Z"
    }
   },
   "outputs": [],
   "source": [
    "df = pd.read_csv(csv_file)\n",
    "\n",
    "df.shape"
   ]
  },
  {
   "cell_type": "code",
   "execution_count": null,
   "id": "241ff99c-053d-4bd2-a0cc-8f213658a657",
   "metadata": {
    "ExecuteTime": {
     "end_time": "2023-09-28T12:20:48.204346575Z",
     "start_time": "2023-09-28T12:20:48.083790468Z"
    }
   },
   "outputs": [],
   "source": [
    "df.sample(5)"
   ]
  },
  {
   "cell_type": "markdown",
   "id": "dc7eed3824e96f99",
   "metadata": {
    "collapsed": false,
    "jupyter": {
     "outputs_hidden": false
    }
   },
   "source": [
    "## EDA"
   ]
  },
  {
   "cell_type": "code",
   "execution_count": null,
   "id": "722614d8f4b2e0c6",
   "metadata": {
    "collapsed": false,
    "jupyter": {
     "outputs_hidden": false
    }
   },
   "outputs": [],
   "source": [
    "df.isna().sum()"
   ]
  },
  {
   "cell_type": "code",
   "execution_count": null,
   "id": "368e2d28-0ce6-4019-9a0e-8a476ffcba1a",
   "metadata": {
    "ExecuteTime": {
     "end_time": "2023-09-28T12:20:48.812574792Z",
     "start_time": "2023-09-28T12:20:48.810919587Z"
    }
   },
   "outputs": [],
   "source": [
    "df.info()"
   ]
  },
  {
   "cell_type": "code",
   "execution_count": null,
   "id": "63a99bfc",
   "metadata": {
    "ExecuteTime": {
     "end_time": "2023-09-28T12:20:49.442805365Z",
     "start_time": "2023-09-28T12:20:49.432214097Z"
    }
   },
   "outputs": [],
   "source": [
    "# pd.set_option('display.float_format', lambda x: f'{x:,.2f}')\n",
    "df.describe()"
   ]
  },
  {
   "cell_type": "code",
   "execution_count": null,
   "id": "b3366a18-2ce0-4bea-8d1f-885e2c342141",
   "metadata": {
    "ExecuteTime": {
     "end_time": "2023-09-28T12:20:50.063180007Z",
     "start_time": "2023-09-28T12:20:50.002296885Z"
    }
   },
   "outputs": [],
   "source": [
    "df.hist(figsize=(12,9))\n",
    "plt.tight_layout()\n",
    "plt.show()"
   ]
  },
  {
   "cell_type": "code",
   "execution_count": null,
   "id": "60dc1cb7-e1c8-4ed0-bea2-aae2a6115352",
   "metadata": {
    "ExecuteTime": {
     "end_time": "2023-09-28T12:20:53.828300377Z",
     "start_time": "2023-09-28T12:20:50.441933122Z"
    }
   },
   "outputs": [],
   "source": [
    "sns.boxplot(data=df, orient='h')"
   ]
  },
  {
   "cell_type": "markdown",
   "id": "fbd48a9bab3e611f",
   "metadata": {
    "collapsed": false,
    "jupyter": {
     "outputs_hidden": false
    }
   },
   "source": [
    "### Correlation"
   ]
  },
  {
   "cell_type": "code",
   "execution_count": null,
   "id": "7cece20e3ad5ebff",
   "metadata": {
    "collapsed": false,
    "jupyter": {
     "outputs_hidden": false
    }
   },
   "outputs": [],
   "source": [
    "df.corr()"
   ]
  },
  {
   "cell_type": "code",
   "execution_count": null,
   "id": "47ecdf35-e624-4d89-bdc6-fc21d9351dd3",
   "metadata": {
    "ExecuteTime": {
     "end_time": "2023-09-28T12:20:54.446883009Z",
     "start_time": "2023-09-28T12:20:54.367102655Z"
    }
   },
   "outputs": [],
   "source": [
    "\n",
    "plt.figure(figsize=(20, 10))\n",
    "sns.heatmap(df.corr().round(2), annot=True, cmap='YlGnBu', annot_kws={\"size\": 10})\n",
    "#sns.heatmap(df.corr(), annot=True, cmap='YlGnBu')\n",
    "plt.show()"
   ]
  },
  {
   "cell_type": "code",
   "execution_count": null,
   "id": "baa4be13-15c3-4dd5-b698-e9e49133f84c",
   "metadata": {
    "ExecuteTime": {
     "end_time": "2023-09-28T12:20:55.722562439Z",
     "start_time": "2023-09-28T12:20:55.708605870Z"
    }
   },
   "outputs": [],
   "source": [
    "import matplotlib\n",
    "print(f'Pandas    : {pd.__version__}')\n",
    "print(f'Seaborn   : {sns.__version__}')\n",
    "print(f'Matplotlib: {matplotlib.__version__}')"
   ]
  },
  {
   "cell_type": "code",
   "execution_count": null,
   "id": "72ca901e",
   "metadata": {
    "ExecuteTime": {
     "end_time": "2023-09-28T12:20:56.143443870Z",
     "start_time": "2023-09-28T12:20:56.101892866Z"
    }
   },
   "outputs": [],
   "source": [
    "! cat /etc/os-release"
   ]
  },
  {
   "cell_type": "code",
   "execution_count": null,
   "id": "fc47b411-af41-4687-9b7a-007b34fa6585",
   "metadata": {
    "ExecuteTime": {
     "end_time": "2023-09-28T12:21:06.257499329Z",
     "start_time": "2023-09-28T12:21:06.190533754Z"
    }
   },
   "outputs": [],
   "source": []
  },
  {
   "cell_type": "code",
   "execution_count": null,
   "id": "35b553a97e603acb",
   "metadata": {},
   "outputs": [],
   "source": []
  }
 ],
 "metadata": {
  "kernelspec": {
   "display_name": "hacktoberfest-2023-project-kKWlZqzn-py3.10",
   "language": "python",
   "name": "hacktoberfest-2023-project-kkwlzqzn-py3.10"
  },
  "language_info": {
   "codemirror_mode": {
    "name": "ipython",
    "version": 3
   },
   "file_extension": ".py",
   "mimetype": "text/x-python",
   "name": "python",
   "nbconvert_exporter": "python",
   "pygments_lexer": "ipython3",
   "version": "3.10.12"
  },
  "toc": {
   "base_numbering": 1,
   "nav_menu": {},
   "number_sections": true,
   "sideBar": true,
   "skip_h1_title": true,
   "title_cell": "Table of Contents",
   "title_sidebar": "Contents",
   "toc_cell": false,
   "toc_position": {},
   "toc_section_display": true,
   "toc_window_display": false
  }
 },
 "nbformat": 4,
 "nbformat_minor": 5
}
